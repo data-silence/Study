{
 "cells": [
  {
   "cell_type": "markdown",
   "metadata": {},
   "source": [
    "### Лабораторная/Домашняя работа 3  \n",
    "\n",
    "Автор: Михаил Густокашин\n",
    "\n",
    "#### Disclaimer\n",
    "В некоторых заданиях нужно считывать файлы и записывать ответ в файл. Пожалуйста, читайте файлы из той же папки, где лежит блокнот (не прописывайте к ним полный путь) или загружайте файл по ссылке. Файл с ответом нужно вложить в архив с блокнотом и архив добавить в Dropbox.\n",
    "\n",
    "Всего можно набрать 12 баллов, максимальная оценка за работу - 10."
   ]
  },
  {
   "cell_type": "markdown",
   "metadata": {},
   "source": [
    "### Задание 1. Скрейпинг cтраницы (1 балл)\n",
    "\n",
    "Мы сохранили страницу с википедии про языки программирования и сохранили по адресу https://stepik.org/media/attachments/lesson/209717/1.html\n",
    "Скачайте её с помощью скрипта на Питоне и посчитайте, какой язык упоминается чаще Python или C++ (ответ должен быть одной из этих двух строк). Необходимо просто подсчитать количество вхождений слова Python или C++ как подстроки. Тут не нужно пользоваться парсингом и bs, работайте со строками."
   ]
  },
  {
   "cell_type": "code",
   "execution_count": 135,
   "metadata": {},
   "outputs": [
    {
     "name": "stdout",
     "output_type": "stream",
     "text": [
      "C++ упоминается в тексте чаще:\n",
      "9 раз\n"
     ]
    }
   ],
   "source": [
    "import requests\n",
    "import os\n",
    "\n",
    "answer = requests.get(\"https://stepik.org/media/attachments/lesson/209717/1.html\")\n",
    "            \n",
    "f = open(\"output3.txt\", \"w\", encoding='utf8')\n",
    "f.write(answer.text)\n",
    "f.close()\n",
    "\n",
    "file = open(\"output3.txt\", \"r\", encoding='utf8')\n",
    "content = file.readlines()\n",
    "file.close()\n",
    "\n",
    "os.remove('output3.txt') # удаляем за собой ненужный уже временный xlsx-файл\n",
    "\n",
    "def count_word(word):\n",
    "    counter = 0\n",
    "    for string in content:\n",
    "        if word in string:\n",
    "            counter += 1\n",
    "    return counter\n",
    "\n",
    "if count_word('Python') > count_word('C++'):\n",
    "    print('Python упоминается в тексте чаще:')\n",
    "    print(count_word('Python'), 'раз')\n",
    "elif count_word('Python') < count_word('C++'):\n",
    "    print(f'C++ упоминается в тексте чаще:')\n",
    "    print(count_word('C++'), 'раз')\n",
    "else:\n",
    "    print(f'Кажется количество упоминаний одинаково:')\n",
    "    print(count_word('Python'), 'раз')"
   ]
  },
  {
   "cell_type": "markdown",
   "metadata": {},
   "source": [
    "### Задание 2. Автоматизируем написание html скрипта (2 балла)\n",
    "В этой задаче вам необходимо научиться генерировать html-код на питоне и сдать на проверку html-файл, в котором будет таблица размером 10 на 10, которая должна содержать таблицу умножения для чисел от 1 до 10. При открытии вашего файла в браузере это должно выглядеть примерно так:\n",
    "\n",
    "![](table.jpg)\n",
    "\n",
    "```\n",
    "1. Ваш файл должен начинаться с тегов <html> и <body> и заканчиваться </body> и </html>.\n",
    "2. Для создания таблицы можно пользоваться тегами <table> (создание таблицы), \n",
    "<tr> (создание строки в таблице) и <td> (создание отдельной ячейки). \n",
    "Все открытые теги нужно закрыть, причем сделать это нужно в правильном порядке.\n",
    "3. Пожалуйста, не используйте никаких украшений и других тегов.\n",
    "```\n",
    "Ниже напишите код, который генерирует html и записывает его в файл, и приложите к архиву с вашим блокнотом файл **output2.html**\n"
   ]
  },
  {
   "cell_type": "markdown",
   "metadata": {},
   "source": [
    "## Disclaimer\n",
    "\n",
    "* Решаю задачу в два подхода - сначала генерирую таблицу и помещаю её в список списков, потом прохожусь по этому списку циклом и собираю в строку html-код.\n",
    "* Понимаю, можно генерировать сразу и требуемый html-код, но буду это делать отдельным циклом: так более читаемо и практично (первоначальный список можно будет использовать для каких-то последующих задач). \n",
    "* В отличие от условия задачи, сделал функцию, чтобы можно было генерировать таблицу множения любой размерности. Для этого запрашиваю необходимую пользователю размерность. Сохранил html-файл в требуемой условиями задачи размерности 10.\n",
    "* вместо тега td осознанно использовал тег th, потому как он по умолчанию центрирует число и делает его начертание жирным, что позволяет получить красиво отформатированную таблицу умножения\n",
    "\n",
    "#### P.S. Надеюсь, что тэги заголовка таблицы и центрирования текста не будут восприниматься как \"украшения и другие тэги\""
   ]
  },
  {
   "cell_type": "code",
   "execution_count": 136,
   "metadata": {},
   "outputs": [
    {
     "name": "stdout",
     "output_type": "stream",
     "text": [
      "Введите требуемую размерность таблицы умножения: 10\n"
     ]
    }
   ],
   "source": [
    "\"\"\"Создаем функцию, генерирующую таблицу умножения любой размерности в виде списка списков\"\"\"\n",
    "\n",
    "field = [] #Здесь будет храниться наш список списков\n",
    "\n",
    "def set_field():\n",
    "    global size\n",
    "    size = int(input('Введите требуемую размерность таблицы умножения: '))\n",
    "    \n",
    "    for i in range(size):\n",
    "        s = []\n",
    "        for j in range(size):\n",
    "            s.append((j+1)*(i+1))\n",
    "        field.append(s)\n",
    "\n",
    "#     for el in field:\n",
    "#         print(el)\n",
    "\n",
    "set_field()\n",
    "# print(field)\n",
    "\n",
    "\n",
    "\"\"\"Собираем из нашего списка списков в строку s html-код с необходимыми тэгами. Сама html-таблица формируется в цикле\"\"\"\n",
    "\n",
    "s = '' #пустая строка, в которую будет собираться html-код страницы\n",
    "start_tags = '<!DOCTYPE html><html><head><title>Таблица умножения</title></head><body>' #стандартные открывающиеся тэги любой страницы\n",
    "end_tags = '</body></html>' #универсальные закрывающие тэги любой страницы\n",
    "\n",
    "s = s + start_tags + f'<center><h1>Таблица умножения от 1 до {size}:</h1><table>'\n",
    "for string in field:\n",
    "    s += '<tr>'  \n",
    "    for digit in string:\n",
    "        s += '<th>' + str(digit) + '</th>'\n",
    "    s += '</tr>'\n",
    "s = s + '</table></center>' + end_tags\n",
    "\n",
    "\n",
    "'''Записываем текст в файл с требуемым названием'''\n",
    "\n",
    "f = open(\"output2.html\", \"w\", encoding='utf8')\n",
    "f.write(s)\n",
    "f.close()"
   ]
  },
  {
   "cell_type": "markdown",
   "metadata": {},
   "source": [
    "### Задание 3. Скрэйпинг ссылок (2 балла)\n",
    "\n",
    "*1 балл*  \n",
    "Мы сохранили статью с википедии, она доступна по ссылке https://stepik.org/media/attachments/lesson/258943/Moscow.html\n",
    "\n",
    "Вам необходимо обработать ее с помощью BeautifulSoup и подсчитать все внутренние ссылки, которые не содержат в себе двоеточия (не являются ссылкой на техническую статью в википедии) и не начинаются с символа #.\n",
    "\n",
    "Под ссылкой понимается содержимое аттрибута href тега a. Ссылка называется внешней, если она ведет на другой сайт (т.е. начинается с http:// или https://). Все остальные ссылки являются внутренними.\n",
    "Вам могут быть полезны методы find_all для супа (он позволяет найти все теги на странице), метод has_attr для тега (проверяет есть ли такой атрибут у тега) и доступ к атрибуту тега по аналогии со словарем.\n",
    "В качестве ответа выведите количество внутренних ссылок, удовлетворяющих условию.\n",
    "\n",
    "*1 балл*  \n",
    "В этой задаче достаточно обернуть в функцию то, что делает предыдущая и вызвать подсчет числа внутренних ссылок для двух статей: https://stepik.org/media/attachments/lesson/258943/Moscow.html и https://stepik.org/media/attachments/lesson/258944/New-York.html\n",
    "В качестве ответа на задачу выведите два числа через пробел.\n"
   ]
  },
  {
   "cell_type": "code",
   "execution_count": 137,
   "metadata": {},
   "outputs": [
    {
     "name": "stdout",
     "output_type": "stream",
     "text": [
      "579 996\n"
     ]
    }
   ],
   "source": [
    "import requests\n",
    "from bs4 import BeautifulSoup\n",
    "\n",
    "def how_much_is_the_links(url):\n",
    "    answer = requests.get(url)\n",
    "    soup = BeautifulSoup(answer.text, 'lxml')\n",
    "\n",
    "    urls = [] #здесь сохраняем все линки\n",
    "    for link in soup.find_all('a'):\n",
    "        m = link.get('href')\n",
    "        urls.append(m)\n",
    "\n",
    "    result = [] #сюда складываем только внешние\n",
    "    for link in urls:\n",
    "        if link and 'http' in link:\n",
    "            result.append(link)\n",
    "\n",
    "    how_much = (len(result))\n",
    "    return how_much\n",
    "\n",
    "moscow = how_much_is_the_links('https://stepik.org/media/attachments/lesson/258943/Moscow.html')\n",
    "ny = how_much_is_the_links('https://stepik.org/media/attachments/lesson/258944/New-York.html')\n",
    "print(moscow, ny)"
   ]
  },
  {
   "cell_type": "markdown",
   "metadata": {},
   "source": [
    "### Задание 4. Скрейпинг таблицы (2 балла)\n",
    "\n",
    "В файле https://stepik.org/media/attachments/lesson/209723/3.html находится одна таблица. Просуммируйте все числа в ней и введите в качестве ответа одно число - эту сумму. Для доступа к ячейкам используйте возможности BeautifulSoup.\n"
   ]
  },
  {
   "cell_type": "code",
   "execution_count": 138,
   "metadata": {},
   "outputs": [
    {
     "name": "stdout",
     "output_type": "stream",
     "text": [
      "1005425\n"
     ]
    }
   ],
   "source": [
    "import requests\n",
    "from bs4 import BeautifulSoup\n",
    "\n",
    "answer = requests.get('https://stepik.org/media/attachments/lesson/209723/3.html')\n",
    "soup = BeautifulSoup(answer.text, 'lxml')\n",
    "\n",
    "tables = soup.find_all('td')\n",
    "#print(tables)\n",
    "\n",
    "numbers = []\n",
    "for el in tables:\n",
    "    numbers.append(int(el.text.strip()))\n",
    "result = sum(numbers)\n",
    "print(result)"
   ]
  },
  {
   "cell_type": "markdown",
   "metadata": {},
   "source": [
    "# Задание 5. Зарплата (1.5 балла)\n",
    "\n",
    "Главный бухгалтер компании \"Рога и копыта\" случайно удалил ведомость с начисленной зарплатой. К счастью, у него сохранились расчётные листки всех сотрудников. Помогите по этим расчётным листкам восстановить зарплатную ведомость. Архив с расчётными листками доступен по ссылке https://github.com/roctbb/pydat21/raw/main/Homework/cw3/rogaikopyta.zip (вы можете скачать и распаковать его вручную или самостоятельно научиться делать это с помощью скрипта на Питоне (например, вот a для zip как раз есть https://docs.python.org/3/library/zipfile.html).\n",
    "\n",
    "Ведомость должна содержать 1000 строк, в каждой строке должно быть указано ФИО сотрудника и, через пробел, его зарплата. Сотрудники должны быть упорядочены по алфавиту. Сохраните ответ в файл и приложите его к архиву с решениями.\n",
    "\n",
    "**Ответ: файл output5.txt**\n"
   ]
  },
  {
   "cell_type": "code",
   "execution_count": 6,
   "metadata": {},
   "outputs": [],
   "source": [
    "from openpyxl import load_workbook\n",
    "import requests\n",
    "import zipfile\n",
    "import os\n",
    "import shutil # данная библиотека с помощью своего метода rmtree удаляет католог со всем содержимым\n",
    "\n",
    "answer = requests.get('https://github.com/roctbb/pydat21/raw/main/Homework/cw3/rogaikopyta.zip')\n",
    "\n",
    "f = open(\"salaries.zip\", \"wb\")\n",
    "f.write(answer.content)\n",
    "f.close()\n",
    "\n",
    "\n",
    "z = zipfile.ZipFile('salaries.zip', 'r')\n",
    "z.extractall('rogaikopyta')\n",
    "z.close()\n",
    "\n",
    "\n",
    "\n",
    "vedomost = []\n",
    "\n",
    "def extract(number):\n",
    "    workbook = load_workbook(filename=f\"rogaikopyta\\\\{number}.xlsx\")\n",
    "    workbook.sheetnames\n",
    "    sheet = workbook['Sheet']\n",
    "    workbook.active\n",
    "\n",
    "    fio = sheet[\"B2\"].value\n",
    "    zp = sheet[\"D2\"].value\n",
    "    s = [fio, zp]\n",
    "    vedomost.append(s)\n",
    "\n",
    "for i in range(1, 1001): # 1001!, чтобы записались все строки\n",
    "    extract(i)\n",
    "    \n",
    "sorted_vedomost = sorted(vedomost)\n",
    "\n",
    "\"\"\"Убираем мусор за собой: удаляем временный архив и перезаписываем файл чтобы не происходила дозапись при каждом новом запуске\"\"\"\n",
    "f = open(\"output5.txt\", \"w\")\n",
    "f.close()\n",
    "os.remove('salaries.zip')\n",
    "\n",
    "\n",
    "with open('output5.txt', 'a', encoding='utf8') as f: #не забыть, что повторное выполнение кода приводит к дозаписи(!) в файл\n",
    "    for el in sorted_vedomost:\n",
    "        f.write(f'{el[0]} {el[1]}\\n')\n",
    "\n",
    "shutil.rmtree('rogaikopyta') # удаляем за собой временную папку с извлеченным архивом"
   ]
  },
  {
   "cell_type": "markdown",
   "metadata": {},
   "source": [
    "# Задание 6. Медиана (2 балла)\n",
    "\n",
    "Вася планирует карьеру и переезд. Для это составил таблицу, в которой для каждого региона записал зарплаты для разных интересные ему профессий. Таблица доступна по ссылке https://github.com/roctbb/pydat21/raw/main/Homework/cw3/salaries.xlsx. Выведите название региона с самой высокой медианной зарплатой (медианой называется элемент, стоящий в середине массива после его упорядочивания) и, через пробел, название профессии с самой высокой средней зарплатой по всем регионам."
   ]
  },
  {
   "cell_type": "markdown",
   "metadata": {},
   "source": [
    "## Disclaimer\n",
    "\n",
    "* Решаю эту задачу, собирая отдельные соразмерные списки, в которых храню профессии, города, и зарплаты в необходимом математическом преобразовании  \n",
    "* Пользуясь одинаковой размерностью (либо приводимостью к ней), далее сопоставляю результаты манипуляций над зарплатами с таблицами городов и профессий, чтобы сопоставить и вычленить нужную информацию \n",
    "* Ближе к концу 1-дневных мучений осознал, что наверное все это решалось бы гораздо проще, работая я только со строками или столбацами экселя, но переделывать и решать заново никаких моральных сил нет."
   ]
  },
  {
   "cell_type": "code",
   "execution_count": 140,
   "metadata": {},
   "outputs": [
    {
     "name": "stdout",
     "output_type": "stream",
     "text": [
      "Самая высокая медианная зарплата в городе Куала-Лумпур, она составляет 57686 ₽\n",
      "Самая высокооплачиваемая работа - собачий парикмахер.\n",
      "Средняя зарплата в этой профессии составляет 338429.5 ₽\n",
      "\n",
      "Ответ согласно требованиям задачи:\n",
      "Куала-Лумпур Собачий парикмахер\n"
     ]
    }
   ],
   "source": [
    "import requests\n",
    "import os\n",
    "from openpyxl import load_workbook\n",
    "\n",
    "answer = requests.get('https://github.com/roctbb/pydat21/raw/main/Homework/cw3/salaries.xlsx')\n",
    "\n",
    "f = open(\"salaries.xlsx\", \"wb\")\n",
    "f.write(answer.content)\n",
    "f.close()\n",
    "\n",
    "workbook = load_workbook(filename=\"salaries.xlsx\") #открыли файл\n",
    "workbook.sheetnames # Достали имена листов (если их несколько, будет список)\n",
    "sheet = workbook['Лист1']\n",
    "workbook.active\n",
    "\n",
    "\n",
    "'''Собираем таблицу в виде списка списков, представленных строками таблицы'''\n",
    "fin = [] # здесь будет храниться основная рабочая таблица, с ней удобно работать в разрезе городов, не профессий \n",
    "for cell in sheet.rows: # Можно получить инвертированную таблицу для работы с профессиями, заменив rows на columns\n",
    "    result = []\n",
    "    for i in range(len(cell)):\n",
    "        result.append(cell[i].value)\n",
    "    fin.append(result)    \n",
    "# print(fin)\n",
    "\n",
    "os.remove('salaries.xlsx') # удаляем за собой уже ненужный временный xlsx-файл\n",
    "\n",
    "'''Cписок профессий'''\n",
    "headers = fin[0]\n",
    "# print(headers)\n",
    "\n",
    "'''Собираем список словарей по каждому городу'''\n",
    "salary = []\n",
    "for zp in fin[1:]:\n",
    "    temp_dict = {}\n",
    "    for i in range(len(headers)):\n",
    "        if headers[i] == headers[0]:\n",
    "            temp_dict['city'] = zp[i]\n",
    "        else:\n",
    "            temp_dict[headers[i]] = zp[i]\n",
    "    salary.append(temp_dict)\n",
    "# print(salary)\n",
    "\n",
    "'''Собираем список городов'''\n",
    "cities = []\n",
    "for el in fin:\n",
    "    cities.append(el[0])\n",
    "# print(cities)\n",
    "\n",
    "\n",
    "'''Собираем список медианных и средних зарплат в каждом городе'''\n",
    "med_zp = [] # здесь храним список медианных зарплат\n",
    "city_zp = [] # здесь храним список зарплат для работы в разрезе городов\n",
    "for el in salary:\n",
    "    list_of_med_zp = []\n",
    "    for k, v in el.items():\n",
    "        if k != 'city':\n",
    "            list_of_med_zp.append(v)\n",
    "    city_zp.append(list_of_med_zp)\n",
    "    med_zp.append(sorted(list_of_med_zp)[3]) # беру 4-ый элемент, зная, что всего 7 профессий. обсчитывать цифру лениво.\n",
    "# print(med_zp)\n",
    "# print(city_zp)\n",
    "\n",
    "max_med_zp = max(med_zp)\n",
    "\n",
    "for zp in salary:\n",
    "    for k,v in zp.items():\n",
    "        if v == max_med_zp:\n",
    "            print(f'Самая высокая медианная зарплата в городе {zp[\"city\"]}, она составляет {v} ₽')\n",
    "            max_zp_city = zp[\"city\"]\n",
    "\n",
    "'''Инвертируем зарплатную таблицу для работы с зарплатами по профессиям и собираем список средних зарплат по ним'''            \n",
    "prof_zp = list(map(list, zip(*city_zp))) # по сути транспонируем матрицу, представленную строками строк\n",
    "# print(prof_zp) # получился список зарплат для работы в разрезе профессий\n",
    "\n",
    "av_zp = [] # создаем список средних зарплат в разрезе профессий\n",
    "for zp in prof_zp:\n",
    "    av_zp.append(sum(zp)/len(zp))\n",
    "\n",
    "'''Определяем индекс элемента соответсвующего max средней заработной плате, и соответствующую профессию'''\n",
    "index_max_av_zp = av_zp.index(max(av_zp)) + 1 # +1 чтобы компенсировать пустую ячейку, которую срезали при формировании таблицы заголовков \n",
    "# print(headers[(index_max_av_zp+1)]) # индекс будем применять к таблице с наименованиями зарплат\n",
    "\n",
    "\n",
    "print(f'Самая высокооплачиваемая работа - {(headers[(index_max_av_zp)]).lower()}.') \n",
    "print(f'Средняя зарплата в этой профессии составляет {max(av_zp)} ₽\\n')\n",
    "\n",
    "print(f'Ответ согласно требованиям задачи:')\n",
    "print(max_zp_city, headers[(index_max_av_zp)])"
   ]
  },
  {
   "cell_type": "markdown",
   "metadata": {},
   "source": [
    "# Задание 7. Вася-завхоз (1.5 балла)\n",
    "\n",
    "Васю назначили завхозом в туристической группе и он подошёл к подготовке ответственно, составив справочник продуктов с указанием калорийности на 100 грамм, а также содержание белков, жиров и углеводов на 100 грамм продукта. Ему не удалось найти всю информацию, поэтому некоторые ячейки остались незаполненными (можно считать их значение равным нулю). Также он использовал какой-то странный офисный пакет и разделял целую и дробную часть чисел запятой. Таблица доступна по ссылке https://github.com/roctbb/pydat21/raw/main/Homework/cw3/trekking1.xlsx\n",
    "Вася хочет минимизировать вес продуктов и для этого брать самые калорийные продукты. Помогите ему и упорядочите продукты по убыванию калорийности. В случае, если продукты имеют одинаковую калорийность - упорядочите их по названию. \n",
    "\n",
    "В качестве ответа необходимо вывести названия продуктов, по одному в строке.\n"
   ]
  },
  {
   "cell_type": "code",
   "execution_count": 141,
   "metadata": {},
   "outputs": [
    {
     "name": "stdout",
     "output_type": "stream",
     "text": [
      "Шоколад молочный какао\n",
      "Шоколад молочный миндаль\n",
      "Сухофрукты\n",
      "Омлет с копченостями галагала\n",
      "Свинина сублимрованная\n",
      "Шоколад ремесленный\n",
      "Козинак подсолнечный\n",
      "Омлет с грибами галагала\n",
      "Козинак арахисовый\n",
      "Хлебцы льняные \"Тайские\"\n",
      "Колбаса с/к \"Еврейская полусухая\"\n",
      "Говядина сублимрованная\n",
      "Сухарики ржаные с семечками\n",
      "Хлебцы льняные Морские\n",
      "Суп говяжий с картофелем галагала\n",
      "Суп гороховый с копченостями\n",
      "Суп гороховый с копченостями галагала\n",
      "Суп куриный с картофелем галагала\n",
      "Суп-гуляш галагала\n",
      "Суп-харчо \"Острый\"\n",
      "Сыр Маасдам\n",
      "Сыр Чеддер\n",
      "Борщ Московский Галагала\n",
      "Крупа гречневая\n",
      "Рис пропаренный Увелка\n",
      "Свинина Кронидов\n",
      "Сухарики ржаные Finn Crisp\n",
      "Капеллини Макфа\n",
      "Сыр Гауда\n",
      "Кус Кус\n",
      "Каша Быстров\n",
      "Картофель сушеный\n",
      "Говядина Кронидов\n",
      "Хлебцы с чесноком и луком\n",
      "Суп томатный с рисом\n",
      "Балык \"Королевский\"\n",
      "Паутина\n"
     ]
    }
   ],
   "source": [
    "import requests\n",
    "import os\n",
    "from openpyxl import load_workbook\n",
    "\n",
    "answer = requests.get('https://github.com/roctbb/pydat21/raw/main/Homework/cw3/trekking1.xlsx')\n",
    "\n",
    "f = open(\"zozh.xlsx\", \"wb\")\n",
    "f.write(answer.content)\n",
    "f.close()\n",
    "\n",
    "workbook = load_workbook(filename=\"zozh.xlsx\") #открыли файл\n",
    "workbook.sheetnames # Достали имена листов (если их несколько, будет список)\n",
    "workbook.active\n",
    "\n",
    "sheet = workbook['Справочник']\n",
    "\n",
    "'''Собираем таблицу table с нужными нами столбцами'''\n",
    "table = []\n",
    "for cell in sheet.rows:\n",
    "    temp = [] # список временного хранения результатов \n",
    "    for i in range(len(cell)-3):\n",
    "        temp.append(cell[i].value)\n",
    "    table.append(temp)    \n",
    "# print(table)\n",
    "\n",
    "os.remove('zozh.xlsx') # удаляем за собой ненужный уже временный xlsx-файл\n",
    "\n",
    "'''Преобразовываем таблицу table в словарь d, убирая ненужный нам заголовок'''\n",
    "d = {}\n",
    "for el in table[1:]:\n",
    "    d[el[0]] = el[1]\n",
    "# print(d)    \n",
    "\n",
    "'''Двойная сортировка позволит получить требуемую сортировку по убыванию значений и алфавиту ключей'''\n",
    "first_sorted_list = sorted(list(d.items()))\n",
    "sorted_list = sorted(first_sorted_list, key = lambda x: x[1], reverse=True)\n",
    "# print(sorted_list)\n",
    "\n",
    "'''Печатаем требуемый список продуктов'''\n",
    "for el in sorted_list:\n",
    "    print(el[0])"
   ]
  }
 ],
 "metadata": {
  "kernelspec": {
   "display_name": "Python 3",
   "language": "python",
   "name": "python3"
  },
  "language_info": {
   "codemirror_mode": {
    "name": "ipython",
    "version": 3
   },
   "file_extension": ".py",
   "mimetype": "text/x-python",
   "name": "python",
   "nbconvert_exporter": "python",
   "pygments_lexer": "ipython3",
   "version": "3.8.5"
  }
 },
 "nbformat": 4,
 "nbformat_minor": 2
}
