{
 "cells": [
  {
   "cell_type": "markdown",
   "metadata": {},
   "source": [
    "# Домашнее задание №2\n",
    "\n",
    "Задание выполнил: ```Кузнецов Максим```\n",
    "\n",
    "### Общая информация\n",
    "\n",
    "__Дата выдачи:__ 17.12.2021\n",
    "\n",
    "__Дедлайн:__ 13.01.2022 23:30\n",
    "\n",
    "# О задании\n",
    "\n",
    "В этом домашнем задании вы реализуете градиентный спуск и стохастический градиентный спуск для обучения линейной регрессии, попрактикуетесь в анализе данных и их обработке, а также примените модели линейной регрессии на практике и проанализируете результаты.\n",
    "\n",
    "Обратите внимание, что вам не только нужно написать код, но и в некоторых местах ответить на вопросы.\n",
    "\n",
    "\n",
    "### Оценивание и штрафы\n",
    "\n",
    "\n",
    "#### Gradient Descent [8 баллов]\n",
    "* [Задание 1](#task1) [1 балл]\n",
    "* [Задание 2](#task2) [2 балла]\n",
    "* [Задание 3](#task3) [3 балла]\n",
    "* [Задание 4](#task4) [2 балла]\n",
    "\n",
    "#### Linear Regression [8 баллов] + 2 бонусных\n",
    "* [Задание 1](#task21) [1 балл]\n",
    "* [Задание 2](#task22) [1 балл]\n",
    "* [Задание 3](#task23) [1 балл]\n",
    "* [Задание 4](#task24) [1 балл]\n",
    "* [Задание 5](#task25) [1 балл]\n",
    "* [Задание 6](#task26) [1 балл]\n",
    "* [Задание 7](#task27) [1 балл]\n",
    "* [Задание 8](#task28) [1 балл]\n",
    "* [Задание 9](#task29) [2 баллa]\n",
    "\n",
    "\n",
    "Итоговая оценка за домашнюю работу вычисляется по формуле: $$s \\cdot \\frac{10}{16},$$ где $s$ - сумма набранных балов. С учетом бонусов, за домашнее задание можно получить > 10 балов. \n",
    "\n",
    "За сдачу задания позже срока на итоговую оценку за задание накладывается штраф в размере 0.25 балла в день (от оценки в 10 бальной шкале), но получить отрицательную оценку нельзя.\n",
    "\n",
    "__Внимание!__ Домашнее задание выполняется самостоятельно. «Похожие» решения считаются плагиатом и все задействованные студенты (в том числе те, у кого списали) не могут получить за него больше 0 баллов.\n",
    "\n",
    "### Формат сдачи\n",
    "\n",
    "Загрузка файлов с решениями происходит в системе [Anytask](https://anytask.org/course/890). "
   ]
  },
  {
   "cell_type": "markdown",
   "metadata": {},
   "source": [
    "## Часть 1. Gradient Descent\n",
    "\n",
    "Среднеквадратичная ошибка на всем датасете $(X, y) = \\{(x_1, y_1), \\ldots, (x_\\ell, y_\\ell)\\}$ для линейной регрессии с вектором весов $w$ (в предположении, что в данных есть единичный признак) представляется следующим образом:\n",
    "\n",
    "$$\n",
    "Q(w) = \\frac{1}{\\ell}\\|Xw - y\\|_2^2\n",
    "$$\n",
    "\n",
    "Градиент данного функционала потерь по $w$:\n",
    "\n",
    "$$\n",
    "\\nabla_w Q(w) = \\frac{2}{\\ell}X^T(Xw - y)\n",
    "$$"
   ]
  },
  {
   "cell_type": "code",
   "execution_count": 279,
   "metadata": {},
   "outputs": [],
   "source": [
    "import matplotlib.pyplot as plt\n",
    "import numpy as np\n",
    "import pandas as pd\n",
    "\n",
    "%matplotlib inline"
   ]
  },
  {
   "cell_type": "markdown",
   "metadata": {},
   "source": [
    "Для тестирования реализованных вами методов будет использоваться датасет о ценах домов из `sklearn`."
   ]
  },
  {
   "cell_type": "code",
   "execution_count": 280,
   "metadata": {},
   "outputs": [
    {
     "data": {
      "text/plain": [
       "(506, 13)"
      ]
     },
     "execution_count": 280,
     "metadata": {},
     "output_type": "execute_result"
    }
   ],
   "source": [
    "from sklearn.datasets import load_boston\n",
    "from sklearn.model_selection import train_test_split\n",
    "\n",
    "# загружаем данные\n",
    "data = load_boston()\n",
    "X = pd.DataFrame(data.data, columns=data.feature_names)\n",
    "y = data.target\n",
    "\n",
    "# делим данные на обучающую и тестовую часть\n",
    "X_train, X_test, y_train, y_test = train_test_split(np.array(X), y, test_size=0.3, random_state=10)\n",
    "X.shape"
   ]
  },
  {
   "cell_type": "code",
   "execution_count": 281,
   "metadata": {
    "scrolled": true
   },
   "outputs": [
    {
     "data": {
      "text/plain": [
       "(152, 13)"
      ]
     },
     "execution_count": 281,
     "metadata": {},
     "output_type": "execute_result"
    }
   ],
   "source": [
    "X_test.shape"
   ]
  },
  {
   "cell_type": "code",
   "execution_count": 282,
   "metadata": {},
   "outputs": [
    {
     "data": {
      "text/plain": [
       "(354, 13)"
      ]
     },
     "execution_count": 282,
     "metadata": {},
     "output_type": "execute_result"
    }
   ],
   "source": [
    "X_train.shape"
   ]
  },
  {
   "cell_type": "markdown",
   "metadata": {},
   "source": [
    "### Задание 1 <a id=\"task1\"></a>"
   ]
  },
  {
   "cell_type": "markdown",
   "metadata": {},
   "source": [
    "С линейной регрессией удобно работать в матрично-векторном виде, если предположить, что в данных есть единичный признак. Реализуйте функцию, которая принимает на вход матрицу объекты-признаки, и добавляет в нее столбец (первый), заполненный единицами. Примените написанную функцию к обучающей и тестовой части имеющихся данных.\n",
    "\n",
    "Например, если на вход подается матрица \n",
    "$$\n",
    "\\begin{pmatrix}\n",
    "2 & 4 & 4200\\\\\n",
    "0 & 10 & 5000\\\\\n",
    "2 & 2 & 1000\\\\\n",
    "\\end{pmatrix},\n",
    "$$\n",
    "то на выходе будет матрица\n",
    "$$\n",
    "\\begin{pmatrix}\n",
    "1 & 2 & 4 & 4200\\\\\n",
    "1 & 0 & 10 & 5000\\\\\n",
    "1 & 2 & 2 & 1000\\\\\n",
    "\\end{pmatrix}$$\n",
    "\n",
    "**Hint** \n",
    "- Вам могут пригодиться функции `np.concatenate`, `np.ones`"
   ]
  },
  {
   "cell_type": "code",
   "execution_count": 283,
   "metadata": {},
   "outputs": [],
   "source": [
    "# create function\n",
    "def add_identity_feature(X):\n",
    "    '''\n",
    "    INPUT:\n",
    "    X - np.array shape=(ℓ, d-1)\n",
    "    \n",
    "    OUTPUT:\n",
    "    X - np.array shape=(ℓ, d)\n",
    "    '''\n",
    "#     ones = np.ones(X.shape[0])\n",
    "    X = np.c_[np.ones(X.shape[0]), X]  # c_ преобразует срез в столбец, а последовательности соединяет вдоль второй оси\n",
    "    return X\n",
    "\n",
    "# apply to train and test\n",
    "X_train =  add_identity_feature(X_train)\n",
    "X_test = add_identity_feature(X_test)"
   ]
  },
  {
   "cell_type": "code",
   "execution_count": 284,
   "metadata": {},
   "outputs": [],
   "source": [
    "# test yourself\n",
    "assert X_train.shape == (354, 14)\n",
    "assert len(X_train) == X_train.sum(axis=0)[0]\n",
    "\n",
    "assert X_test.shape == (152, 14)\n",
    "assert len(X_test) == X_test.sum(axis=0)[0]"
   ]
  },
  {
   "cell_type": "code",
   "execution_count": 8,
   "metadata": {},
   "outputs": [],
   "source": [
    "# Вроде всё ок, работает без ошибок"
   ]
  },
  {
   "cell_type": "markdown",
   "metadata": {},
   "source": [
    "### Задание 2 <a id=\"task2\"></a>\n",
    "\n",
    "Реализуйте подсчет среднеквадратичной функции потерь и ее градиента по весам. Формулы должны быть реализованы в явном виде с помощью `numpy`, без использования циклов `for`."
   ]
  },
  {
   "cell_type": "markdown",
   "metadata": {},
   "source": [
    "**Hint** \n",
    "- Для умножения матрицы на вектор (или матрицы на матрицу) можно использовать функцию `np.dot`. \n",
    "- Не забывайте, что оператор `*` используется только для поэлементного умножения.\n",
    "- Также может пригодиться функция `np.linalg.norm`"
   ]
  },
  {
   "cell_type": "code",
   "execution_count": 285,
   "metadata": {},
   "outputs": [],
   "source": [
    "from sklearn.linear_model import LinearRegression, SGDRegressor"
   ]
  },
  {
   "cell_type": "code",
   "execution_count": 286,
   "metadata": {},
   "outputs": [],
   "source": [
    "def mse_loss(X, y, w):\n",
    "    \"\"\"\n",
    "    INPUT:\n",
    "    X - np.array shape=(ℓ, d)\n",
    "    y - np.array shape=(ℓ,)\n",
    "    w - np.array shape=(d,)\n",
    "    \n",
    "    OUTPUT:\n",
    "    loss - scalar\n",
    "    \"\"\"\n",
    "#     loss = (np.linalg.norm(np.dot(X,w) - y)**2).mean()  # почему linalg.norm работает не так, не разобрался\n",
    "    loss = ((X @ w - y)**2).mean()\n",
    "    return loss\n",
    "\n",
    "\n",
    "def mse_grad(X, y, w):\n",
    "    \"\"\"\n",
    "    INPUT:\n",
    "    X - np.array shape=(ℓ, d)\n",
    "    y - np.array shape=(ℓ,)\n",
    "    w - np.array shape=(d,)\n",
    "    \n",
    "    OUTPUT:\n",
    "    grad - np.array shape=(d,)\n",
    "    \"\"\"\n",
    "#     grad = 2*(np.dot(X.T, X@w - y)).mean()     # Странно, но так почему-то так считает не то\n",
    "    grad = (2/y.size) * (X.T @ (X@w - y))\n",
    "    return grad"
   ]
  },
  {
   "cell_type": "markdown",
   "metadata": {},
   "source": [
    "Посчитайте `result_mse_sklearn` используя функцию `mean_squared_error` из sklearn, чтобы сравнить c результатом вашей функции"
   ]
  },
  {
   "cell_type": "code",
   "execution_count": 287,
   "metadata": {},
   "outputs": [],
   "source": [
    "from sklearn.metrics import mean_squared_error\n",
    "\n",
    "w = np.zeros(X_train.shape[1]) \n",
    "# на этом шаге инициализированы веса, т.е. задана им какая-то начальная точку (если бы было решение через градиентный).\n",
    "# использованы нулевые, но можно использовать, например, какое-нибудь w = random_normal()\n",
    "\n",
    "\"\"\"Проверяем работу созданных функций и встроенной функции в библиотеку sklearn\"\"\"\n",
    "result_mse_custom = mse_loss(X_train, y_train, w)\n",
    "result_mse_grad = mse_grad(X_train, y_train, w)\n",
    "result_mse_sklearn = mean_squared_error(y_train, X_train @ w)\n",
    "\n",
    "assert (X_train @ w).shape == y_train.shape\n",
    "assert np.allclose(result_mse_custom, result_mse_sklearn)\n",
    "assert np.allclose(result_mse_grad, np.array([-43.9424,  -99.9887, -675.8766, -444.0919,   -3.0395,  \n",
    "                                              -23.5569,   -282.6831,  -2829.3631,   -177.206 ,  -373.6983,\n",
    "                                              -16820.8966,   -796.6377, -16136.5175,   -477.6308]),rtol=1e-03)"
   ]
  },
  {
   "cell_type": "code",
   "execution_count": 288,
   "metadata": {},
   "outputs": [
    {
     "name": "stdout",
     "output_type": "stream",
     "text": [
      "[-4.39423729e+01 -9.99887492e+01 -6.75876554e+02 -4.44091944e+02\n",
      " -3.03954802e+00 -2.35568619e+01 -2.82683145e+02 -2.82936305e+03\n",
      " -1.77206041e+02 -3.73698305e+02 -1.68208966e+04 -7.96637740e+02\n",
      " -1.61365175e+04 -4.77630797e+02]\n"
     ]
    }
   ],
   "source": [
    "print(result_mse_grad)"
   ]
  },
  {
   "cell_type": "code",
   "execution_count": 289,
   "metadata": {},
   "outputs": [
    {
     "name": "stdout",
     "output_type": "stream",
     "text": [
      "560.4288135593221 560.4288135593221\n"
     ]
    }
   ],
   "source": [
    "print(result_mse_custom, result_mse_sklearn)"
   ]
  },
  {
   "cell_type": "code",
   "execution_count": 234,
   "metadata": {},
   "outputs": [],
   "source": [
    "# Встроенная функция и кастомно созданная работают считают mse идентично. Это победа, да? )"
   ]
  },
  {
   "cell_type": "markdown",
   "metadata": {},
   "source": [
    "### Задание 3  <a id=\"task3\"></a>\n",
    "\n",
    "Реализуйте класс для линейной регрессии. Он должен поддерживать обучение с помощью градиентного спуска (метод `fit`) и предсказание для выборки (метод `predict`).\n",
    "\n",
    "Метод `fit` должен возвращать список из значений функционала потерь на каждой итерации градиентного спуска. Напомним, что алгоритм градиентного спуска состоит из трех этапов:\n",
    "\n",
    "1. **Инициализация.** В данном случае вектор весов вы можете инициализировать нулями.\n",
    "2. **Шаг градиентного спуска.** Обновление весов с помощью антиградиента функционала потерь с заданной длиной шага (параметр `eta`). \n",
    "$$\n",
    "w^{t+1} = w^t - \\eta \\nabla Q(w^t)\n",
    "$$\n",
    "Для того, чтобы нарисовать график зависимости значения функционала потерь от номера итерации, необходимо на каждом шаге запоминать значение функционала потерь (обновлять список `self.loss_history`). На этом этапе вы можете использовать уже реализованные вами функции `mse_loss` и `mse_grad` из предыдущего задания.\n",
    "\n",
    "3. **Остановка.** В качестве критерия останова используйте $\\|w^t - w^{t - 1}\\| < \\varepsilon$ (значение $\\varepsilon$ задается параметром `tol`). В качестве дополнительного критерия останова используйте максимальное число итераций (параметр `max_iter`). Таким образом, даже если первый критерий не сработает, алгоритм все равно остановится после `max_iter` шагов."
   ]
  },
  {
   "cell_type": "code",
   "execution_count": 290,
   "metadata": {},
   "outputs": [],
   "source": [
    "class CustomLinearRegressionGD:\n",
    "    def __init__(self):\n",
    "        self.w = None\n",
    "        self.loss_history = None\n",
    "        \n",
    "    def fit(self, X, y, max_iter=100, tol=1e-6, eta=1e-6):\n",
    "        \"\"\"\n",
    "        ARGUMENTS:\n",
    "        max_iter - максимальное число шагов градиентного спуска\n",
    "        tol - значение эпсилон для критерия останова\n",
    "        eta - длина шага градиентного спуска (learning rate)\n",
    "        X - np.array of shape (ℓ, d)\n",
    "        y - np.array of shape (ℓ,)\n",
    "        \n",
    "        OUTPUT:\n",
    "        loss_hist - list \n",
    "        \"\"\"\n",
    "        self.w = np.zeros(X.shape[1])\n",
    "        self.loss_history = [mse_loss(X, y, self.w)]\n",
    "        for t in range(max_iter):\n",
    "            step = eta*mse_grad(X, y, self.w)\n",
    "            if np.linalg.norm((self.w - step) - self.w) < tol:\n",
    "                break\n",
    "            self.w -= step\n",
    "            self.loss_history.append(mse_loss(X, y, self.w))\n",
    "        return self.loss_history\n",
    "        \n",
    "    def predict(self, X):\n",
    "        \"\"\"\n",
    "        ARGUMENTS:\n",
    "        X_test - np.array of shape (ℓ, d)\n",
    "        \n",
    "        OUTPUT:\n",
    "        y_pred - np.array of shape (ℓ,)\n",
    "        \"\"\"\n",
    "        y_pred = X @ self.w\n",
    "        return y_pred"
   ]
  },
  {
   "cell_type": "markdown",
   "metadata": {},
   "source": [
    "Проверьте работу вашего класса. \n",
    "- Обучите линейную регрессию на обучающей части выборки.\n",
    "- Постройте график зависимости значения функционала потерь от итерации градиентного спуска. \n",
    "- Подберите вручную оптимальную длину шага градиентного спуска и посчитайте MSE на тестовой части с помощью функции `mean_squared_error` из `sklearn`. \n",
    "- Добейтесь того, чтобы значение MSE не превышало 100."
   ]
  },
  {
   "cell_type": "code",
   "execution_count": 291,
   "metadata": {},
   "outputs": [
    {
     "name": "stdout",
     "output_type": "stream",
     "text": [
      "93.86575118282472\n"
     ]
    }
   ],
   "source": [
    "lr = CustomLinearRegressionGD()\n",
    "lr.fit(X_train, y_train)\n",
    "y_predicted = lr.predict(X_test)\n",
    "mse = np.mean( (y_predicted - y_test)**2 )\n",
    "print(mse)"
   ]
  },
  {
   "cell_type": "code",
   "execution_count": 292,
   "metadata": {},
   "outputs": [],
   "source": [
    "loss_history = lr.fit(X_train, y_train)\n",
    "# print(loss_history)"
   ]
  },
  {
   "cell_type": "code",
   "execution_count": null,
   "metadata": {},
   "outputs": [],
   "source": [
    "# print(lr.w)"
   ]
  },
  {
   "cell_type": "code",
   "execution_count": 293,
   "metadata": {},
   "outputs": [
    {
     "data": {
      "image/png": "[encoded data removed]",
      "text/plain": [
       "<Figure size 720x432 with 1 Axes>"
      ]
     },
     "metadata": {
      "needs_background": "light"
     },
     "output_type": "display_data"
    }
   ],
   "source": [
    "plt.figure(figsize=(10, 6))\n",
    "plt.plot(loss_history)\n",
    "plt.title('MSE loss dependence on GD iteration')\n",
    "plt.xlabel('GD iteration')\n",
    "plt.ylabel('Loss')\n",
    "plt.grid()\n",
    "plt.show()"
   ]
  },
  {
   "cell_type": "code",
   "execution_count": 294,
   "metadata": {},
   "outputs": [
    {
     "name": "stdout",
     "output_type": "stream",
     "text": [
      "93.86575118282472\n"
     ]
    }
   ],
   "source": [
    "test_mse_sklearn = mean_squared_error(y_test, X_test @ lr.w)\n",
    "print(test_mse_sklearn)"
   ]
  },
  {
   "cell_type": "code",
   "execution_count": 295,
   "metadata": {},
   "outputs": [
    {
     "name": "stdout",
     "output_type": "stream",
     "text": [
      "93.86575118282472\n"
     ]
    }
   ],
   "source": [
    "mse_test = mse_loss(X_test, y_test, lr.w)\n",
    "print(mse_test)\n",
    "assert len(loss_history) <= 1000\n",
    "assert mse_test <= 100"
   ]
  },
  {
   "cell_type": "markdown",
   "metadata": {},
   "source": [
    "По-разному просчитанные mse дают одно значение, меньшее чем 100, ок\n",
    "Здесь не потребовалась оптимизация длины шага. Она будет реализована при решении другой задачи ниже."
   ]
  },
  {
   "cell_type": "markdown",
   "metadata": {},
   "source": [
    "### Задание 4 <a id=\"task4\"></a>"
   ]
  },
  {
   "cell_type": "markdown",
   "metadata": {},
   "source": [
    "Как известно, масштабирование данных может помочь в сходимости градиентного спуска (вспомните, почему). Отмасштабируйте имеющиеся данные с помощью мин-макс шкалирования:\n",
    "\n",
    "$$\n",
    "x^j = \\frac{x^j - \\min(x^j)}{\\max(x^j) - \\min(x^j)},\n",
    "$$\n",
    "\n",
    "где $x^j$ - это вектор значений признака.\n",
    "\n",
    "Учтите, что единичный признак нормировать не надо (почему?). Так что либо придумайте способ, как отнормировать все столбцы, кроме единичного.\n",
    "\n",
    "Примените линейную регрессию с градиентным спуском к данным, подберите оптимальную длину шага. Добейтесь того, чтобы значение MSE не превышало 100.\n",
    "\n",
    "Опишите наблюдения. Изменилась ли ситуация?"
   ]
  },
  {
   "cell_type": "code",
   "execution_count": 296,
   "metadata": {},
   "outputs": [
    {
     "name": "stdout",
     "output_type": "stream",
     "text": [
      "(152, 14)\n",
      "(152, 14)\n"
     ]
    }
   ],
   "source": [
    "def normalisation(X):\n",
    "    X = np.delete(X, 0, axis = 1)\n",
    "    norm_cuted = ( X - X.min(axis=0) ) / ( X.max(axis=0) - X.min(axis=0) )\n",
    "    norm_repared = add_identity_feature(norm_cuted)\n",
    "    return norm_repared\n",
    "\n",
    "X_test_scaled = normalisation(X_test)\n",
    "X_train_scaled = normalisation(X_train)\n",
    "\n",
    "print(X_test_scaled.shape)\n",
    "print(X_test.shape)"
   ]
  },
  {
   "cell_type": "code",
   "execution_count": 297,
   "metadata": {},
   "outputs": [
    {
     "name": "stdout",
     "output_type": "stream",
     "text": [
      "[[1.00000000e+00 5.68272315e-04 3.88235294e-01 ... 6.17021277e-01\n",
      "  9.90695229e-01 2.04255319e-01]\n",
      " [1.00000000e+00 1.20509639e-04 7.05882353e-01 ... 3.19148936e-01\n",
      "  9.90721514e-01 9.36170213e-02]\n",
      " [1.00000000e+00 3.10523144e-04 9.41176471e-01 ... 3.72340426e-01\n",
      "  1.00000000e+00 8.34042553e-02]\n",
      " ...\n",
      " [1.00000000e+00 4.18655382e-04 9.41176471e-01 ... 3.72340426e-01\n",
      "  1.00000000e+00 2.41418440e-01]\n",
      " [1.00000000e+00 5.12082859e-01 0.00000000e+00 ... 8.08510638e-01\n",
      "  6.22946511e-03 3.62836879e-01]\n",
      " [1.00000000e+00 1.09859633e-03 1.47058824e-01 ... 2.76595745e-01\n",
      "  9.83177816e-01 3.96595745e-01]]\n"
     ]
    }
   ],
   "source": [
    "print(X_test_scaled)\n",
    "# print(X_test)"
   ]
  },
  {
   "cell_type": "markdown",
   "metadata": {},
   "source": [
    "Вроде бы всё ок: получилась нормализованная матрица с первым единичным столбцом. Не элегантно но, считаю, ок."
   ]
  },
  {
   "cell_type": "code",
   "execution_count": 298,
   "metadata": {},
   "outputs": [
    {
     "name": "stdout",
     "output_type": "stream",
     "text": [
      "45.33696248960563\n"
     ]
    }
   ],
   "source": [
    "# train linear regression with gradient descent\n",
    "lr_scaled = CustomLinearRegressionGD()\n",
    "lr_scaled.fit(X_train_scaled, y_train, eta=1e-1)\n",
    "y_predicted_scaled = lr_scaled.predict(X_test_scaled)\n",
    "mse = np.mean( (y_predicted_scaled - y_test)**2 )\n",
    "print(mse)\n",
    "loss_history1 = lr_scaled.fit(X_train_scaled, y_train, eta=1e-1) # Вот здесь пришлось изменить шаг для mse < 100\n",
    "# print(len(loss_history1))\n",
    "# print(loss_history1)"
   ]
  },
  {
   "cell_type": "code",
   "execution_count": 259,
   "metadata": {},
   "outputs": [],
   "source": [
    "loss_history_skl = lr_int_skl.fit(X_train_skl, y_train)\n",
    "# print(loss_history_skl)"
   ]
  },
  {
   "cell_type": "code",
   "execution_count": 299,
   "metadata": {},
   "outputs": [
    {
     "data": {
      "image/png": "[encoded data removed]",
      "text/plain": [
       "<Figure size 720x432 with 1 Axes>"
      ]
     },
     "metadata": {
      "needs_background": "light"
     },
     "output_type": "display_data"
    }
   ],
   "source": [
    "plt.figure(figsize=(10, 6))\n",
    "plt.plot(loss_history1)\n",
    "plt.title('MSE loss dependence on SGD iteration')\n",
    "plt.xlabel('SGD iteration')\n",
    "plt.ylabel('Loss')\n",
    "plt.grid()\n",
    "plt.show()"
   ]
  },
  {
   "cell_type": "markdown",
   "metadata": {},
   "source": [
    "``` Опишите свои наблюдения.```\n",
    "\n",
    "\n",
    "Я не вижу больших изменений в графиках. Кроме того, что для достижения приемлемого значения mse пришлось менять величину шага. Сходимость на глаз неотличима."
   ]
  },
  {
   "cell_type": "code",
   "execution_count": 300,
   "metadata": {},
   "outputs": [
    {
     "name": "stdout",
     "output_type": "stream",
     "text": [
      "45.33696248960563\n"
     ]
    }
   ],
   "source": [
    "mse_test = mse_loss(X_test_scaled, y_test, lr_scaled.w)\n",
    "print(mse_test)\n",
    "assert mse_test <= 100"
   ]
  },
  {
   "cell_type": "markdown",
   "metadata": {},
   "source": [
    "# Часть 2 "
   ]
  },
  {
   "cell_type": "code",
   "execution_count": 301,
   "metadata": {},
   "outputs": [],
   "source": [
    "import matplotlib.pyplot as plt\n",
    "import numpy as np\n",
    "import pandas as pd\n",
    "\n",
    "from sklearn.linear_model import LinearRegression, Lasso, Ridge\n",
    "from sklearn.metrics import mean_squared_error\n",
    "from sklearn.model_selection import train_test_split, GridSearchCV\n",
    "from sklearn.preprocessing import MinMaxScaler, StandardScaler\n",
    "\n",
    "%matplotlib inline"
   ]
  },
  {
   "cell_type": "markdown",
   "metadata": {},
   "source": [
    "В этой части вы поработаете с данными из другого соревнования на Kaggle: https://www.kaggle.com/c/house-prices-advanced-regression-techniques. Задача - предсказание цены дома.\n",
    "\n",
    "Данные можно скачать [тут](https://raw.githubusercontent.com/WeaselCMC/ml_dpo_2021/master/hw/hw2/train.csv)"
   ]
  },
  {
   "cell_type": "code",
   "execution_count": 302,
   "metadata": {},
   "outputs": [
    {
     "data": {
      "text/plain": [
       "(1460, 80)"
      ]
     },
     "execution_count": 302,
     "metadata": {},
     "output_type": "execute_result"
    }
   ],
   "source": [
    "data = pd.read_csv('train.csv', header=0)\n",
    "data.drop('Id', axis=1, inplace=True)\n",
    "data.shape"
   ]
  },
  {
   "cell_type": "code",
   "execution_count": 303,
   "metadata": {
    "scrolled": true
   },
   "outputs": [
    {
     "data": {
      "text/html": [
       "<div>\n",
       "<style scoped>\n",
       "    .dataframe tbody tr th:only-of-type {\n",
       "        vertical-align: middle;\n",
       "    }\n",
       "\n",
       "    .dataframe tbody tr th {\n",
       "        vertical-align: top;\n",
       "    }\n",
       "\n",
       "    .dataframe thead th {\n",
       "        text-align: right;\n",
       "    }\n",
       "</style>\n",
       "<table border=\"1\" class=\"dataframe\">\n",
       "  <thead>\n",
       "    <tr style=\"text-align: right;\">\n",
       "      <th></th>\n",
       "      <th>MSSubClass</th>\n",
       "      <th>MSZoning</th>\n",
       "      <th>LotFrontage</th>\n",
       "      <th>LotArea</th>\n",
       "      <th>Street</th>\n",
       "      <th>Alley</th>\n",
       "      <th>LotShape</th>\n",
       "      <th>LandContour</th>\n",
       "      <th>Utilities</th>\n",
       "      <th>LotConfig</th>\n",
       "      <th>...</th>\n",
       "      <th>PoolArea</th>\n",
       "      <th>PoolQC</th>\n",
       "      <th>Fence</th>\n",
       "      <th>MiscFeature</th>\n",
       "      <th>MiscVal</th>\n",
       "      <th>MoSold</th>\n",
       "      <th>YrSold</th>\n",
       "      <th>SaleType</th>\n",
       "      <th>SaleCondition</th>\n",
       "      <th>SalePrice</th>\n",
       "    </tr>\n",
       "  </thead>\n",
       "  <tbody>\n",
       "    <tr>\n",
       "      <th>0</th>\n",
       "      <td>60</td>\n",
       "      <td>RL</td>\n",
       "      <td>65.0</td>\n",
       "      <td>8450</td>\n",
       "      <td>Pave</td>\n",
       "      <td>NaN</td>\n",
       "      <td>Reg</td>\n",
       "      <td>Lvl</td>\n",
       "      <td>AllPub</td>\n",
       "      <td>Inside</td>\n",
       "      <td>...</td>\n",
       "      <td>0</td>\n",
       "      <td>NaN</td>\n",
       "      <td>NaN</td>\n",
       "      <td>NaN</td>\n",
       "      <td>0</td>\n",
       "      <td>2</td>\n",
       "      <td>2008</td>\n",
       "      <td>WD</td>\n",
       "      <td>Normal</td>\n",
       "      <td>208500</td>\n",
       "    </tr>\n",
       "    <tr>\n",
       "      <th>1</th>\n",
       "      <td>20</td>\n",
       "      <td>RL</td>\n",
       "      <td>80.0</td>\n",
       "      <td>9600</td>\n",
       "      <td>Pave</td>\n",
       "      <td>NaN</td>\n",
       "      <td>Reg</td>\n",
       "      <td>Lvl</td>\n",
       "      <td>AllPub</td>\n",
       "      <td>FR2</td>\n",
       "      <td>...</td>\n",
       "      <td>0</td>\n",
       "      <td>NaN</td>\n",
       "      <td>NaN</td>\n",
       "      <td>NaN</td>\n",
       "      <td>0</td>\n",
       "      <td>5</td>\n",
       "      <td>2007</td>\n",
       "      <td>WD</td>\n",
       "      <td>Normal</td>\n",
       "      <td>181500</td>\n",
       "    </tr>\n",
       "    <tr>\n",
       "      <th>2</th>\n",
       "      <td>60</td>\n",
       "      <td>RL</td>\n",
       "      <td>68.0</td>\n",
       "      <td>11250</td>\n",
       "      <td>Pave</td>\n",
       "      <td>NaN</td>\n",
       "      <td>IR1</td>\n",
       "      <td>Lvl</td>\n",
       "      <td>AllPub</td>\n",
       "      <td>Inside</td>\n",
       "      <td>...</td>\n",
       "      <td>0</td>\n",
       "      <td>NaN</td>\n",
       "      <td>NaN</td>\n",
       "      <td>NaN</td>\n",
       "      <td>0</td>\n",
       "      <td>9</td>\n",
       "      <td>2008</td>\n",
       "      <td>WD</td>\n",
       "      <td>Normal</td>\n",
       "      <td>223500</td>\n",
       "    </tr>\n",
       "    <tr>\n",
       "      <th>3</th>\n",
       "      <td>70</td>\n",
       "      <td>RL</td>\n",
       "      <td>60.0</td>\n",
       "      <td>9550</td>\n",
       "      <td>Pave</td>\n",
       "      <td>NaN</td>\n",
       "      <td>IR1</td>\n",
       "      <td>Lvl</td>\n",
       "      <td>AllPub</td>\n",
       "      <td>Corner</td>\n",
       "      <td>...</td>\n",
       "      <td>0</td>\n",
       "      <td>NaN</td>\n",
       "      <td>NaN</td>\n",
       "      <td>NaN</td>\n",
       "      <td>0</td>\n",
       "      <td>2</td>\n",
       "      <td>2006</td>\n",
       "      <td>WD</td>\n",
       "      <td>Abnorml</td>\n",
       "      <td>140000</td>\n",
       "    </tr>\n",
       "    <tr>\n",
       "      <th>4</th>\n",
       "      <td>60</td>\n",
       "      <td>RL</td>\n",
       "      <td>84.0</td>\n",
       "      <td>14260</td>\n",
       "      <td>Pave</td>\n",
       "      <td>NaN</td>\n",
       "      <td>IR1</td>\n",
       "      <td>Lvl</td>\n",
       "      <td>AllPub</td>\n",
       "      <td>FR2</td>\n",
       "      <td>...</td>\n",
       "      <td>0</td>\n",
       "      <td>NaN</td>\n",
       "      <td>NaN</td>\n",
       "      <td>NaN</td>\n",
       "      <td>0</td>\n",
       "      <td>12</td>\n",
       "      <td>2008</td>\n",
       "      <td>WD</td>\n",
       "      <td>Normal</td>\n",
       "      <td>250000</td>\n",
       "    </tr>\n",
       "  </tbody>\n",
       "</table>\n",
       "<p>5 rows × 80 columns</p>\n",
       "</div>"
      ],
      "text/plain": [
       "   MSSubClass MSZoning  LotFrontage  LotArea Street Alley LotShape  \\\n",
       "0          60       RL         65.0     8450   Pave   NaN      Reg   \n",
       "1          20       RL         80.0     9600   Pave   NaN      Reg   \n",
       "2          60       RL         68.0    11250   Pave   NaN      IR1   \n",
       "3          70       RL         60.0     9550   Pave   NaN      IR1   \n",
       "4          60       RL         84.0    14260   Pave   NaN      IR1   \n",
       "\n",
       "  LandContour Utilities LotConfig  ... PoolArea PoolQC Fence MiscFeature  \\\n",
       "0         Lvl    AllPub    Inside  ...        0    NaN   NaN         NaN   \n",
       "1         Lvl    AllPub       FR2  ...        0    NaN   NaN         NaN   \n",
       "2         Lvl    AllPub    Inside  ...        0    NaN   NaN         NaN   \n",
       "3         Lvl    AllPub    Corner  ...        0    NaN   NaN         NaN   \n",
       "4         Lvl    AllPub       FR2  ...        0    NaN   NaN         NaN   \n",
       "\n",
       "  MiscVal MoSold  YrSold  SaleType  SaleCondition  SalePrice  \n",
       "0       0      2    2008        WD         Normal     208500  \n",
       "1       0      5    2007        WD         Normal     181500  \n",
       "2       0      9    2008        WD         Normal     223500  \n",
       "3       0      2    2006        WD        Abnorml     140000  \n",
       "4       0     12    2008        WD         Normal     250000  \n",
       "\n",
       "[5 rows x 80 columns]"
      ]
     },
     "execution_count": 303,
     "metadata": {},
     "output_type": "execute_result"
    }
   ],
   "source": [
    "data.head()"
   ]
  },
  {
   "cell_type": "markdown",
   "metadata": {},
   "source": [
    "### Задание 1 <a id=\"task21\"></a>"
   ]
  },
  {
   "cell_type": "markdown",
   "metadata": {},
   "source": [
    "Есть ли в данных пропуски? Если да, то для каждого столбца, в котором они имеются, посчитайте их количество и их долю от общего числа значений. Что вы наблюдаете?"
   ]
  },
  {
   "cell_type": "code",
   "execution_count": 305,
   "metadata": {},
   "outputs": [
    {
     "name": "stdout",
     "output_type": "stream",
     "text": [
      "LotFrontage - 18%\n",
      "Alley - 94%\n",
      "MasVnrType - 1%\n",
      "MasVnrArea - 1%\n",
      "BsmtQual - 3%\n",
      "BsmtCond - 3%\n",
      "BsmtExposure - 3%\n",
      "BsmtFinType1 - 3%\n",
      "BsmtFinType2 - 3%\n",
      "Electrical - 0%\n",
      "FireplaceQu - 47%\n",
      "GarageType - 6%\n",
      "GarageYrBlt - 6%\n",
      "GarageFinish - 6%\n",
      "GarageQual - 6%\n",
      "GarageCond - 6%\n",
      "PoolQC - 100%\n",
      "Fence - 81%\n",
      "MiscFeature - 96%\n"
     ]
    }
   ],
   "source": [
    "for i, col in enumerate(data.columns):\n",
    "    pct_missing = np.mean(data[col].isnull())\n",
    "    if pct_missing != 0:\n",
    "#         print(pct_missing)\n",
    "        print('{} - {}%'.format(col, round(pct_missing*100)))"
   ]
  },
  {
   "cell_type": "markdown",
   "metadata": {},
   "source": [
    "``` Опишите свои наблюдения.```\n",
    "\n",
    "Из 80 колонок с данными 19 содержат пропуски. Как минимум пять из них содержат очень большие потери данных (от 40% и выше), нужно бы подумать, стоит ли вообще с ними работать."
   ]
  },
  {
   "cell_type": "markdown",
   "metadata": {},
   "source": [
    "### Задание 2 <a id=\"task22\"></a>"
   ]
  },
  {
   "cell_type": "markdown",
   "metadata": {},
   "source": [
    "Избавьтесь от пропусков. Заполните пропуски в колонках со значениями типа `object` (это можно проверить методом `.dtype` или `.dtypes`) отдельной категорией 'NaN', а в остальных (типа `float64` и `int64`) - средним по колонке.\n",
    "\n",
    "Проверьте, что вы действительно избавились от пропусков."
   ]
  },
  {
   "cell_type": "code",
   "execution_count": 306,
   "metadata": {},
   "outputs": [],
   "source": [
    "# для удобства работы с нашим датасетом создаем маску, указывающую на столбцы с категориальными признаками\n",
    "cat_features_mask = (data.dtypes == \"object\").values # категориальные признаки имеют тип \"object\"\n",
    "# cat_features_mask"
   ]
  },
  {
   "cell_type": "code",
   "execution_count": 307,
   "metadata": {},
   "outputs": [
    {
     "data": {
      "text/plain": [
       "MSSubClass       0\n",
       "LotFrontage      0\n",
       "LotArea          0\n",
       "OverallQual      0\n",
       "OverallCond      0\n",
       "                ..\n",
       "PoolQC           0\n",
       "Fence            0\n",
       "MiscFeature      0\n",
       "SaleType         0\n",
       "SaleCondition    0\n",
       "Length: 80, dtype: int64"
      ]
     },
     "execution_count": 307,
     "metadata": {},
     "output_type": "execute_result"
    }
   ],
   "source": [
    "from sklearn.impute import SimpleImputer\n",
    "\n",
    "data_real = data[data.columns[~cat_features_mask]] # для работы с вещественными колонками \n",
    "data_cat = data[data.columns[cat_features_mask]] # для работы в категориальными колонками \n",
    "\n",
    "# для вещественнозначных признаков заполним пропуски средними значениями\n",
    "mis_replacer = SimpleImputer(strategy=\"mean\")\n",
    "data_no_nans_real = pd.DataFrame(mis_replacer.fit_transform(data_real), columns = data_real.columns)\n",
    "# для категориальных - 'NaN'\n",
    "cat_replacer = SimpleImputer(strategy=\"constant\", fill_value='NaN')\n",
    "data_no_nan_cat = pd.DataFrame(cat_replacer.fit_transform(data_cat), columns = data_cat.columns)\n",
    "\n",
    "\n",
    "data_no_nans = pd.concat([data_no_nans_real, data_no_nan_cat], axis=1)\n",
    "data_no_nans.isna().sum()"
   ]
  },
  {
   "cell_type": "markdown",
   "metadata": {},
   "source": [
    "Да, избавился. Честно говоря, идея заполнить все пропуски в категориальных колонках NaN мне кажется странной.\n",
    "Зачем и как к таким применять one-hot-кодирование? вопросы-вопросы..."
   ]
  },
  {
   "cell_type": "code",
   "execution_count": 308,
   "metadata": {},
   "outputs": [
    {
     "data": {
      "text/html": [
       "<div>\n",
       "<style scoped>\n",
       "    .dataframe tbody tr th:only-of-type {\n",
       "        vertical-align: middle;\n",
       "    }\n",
       "\n",
       "    .dataframe tbody tr th {\n",
       "        vertical-align: top;\n",
       "    }\n",
       "\n",
       "    .dataframe thead th {\n",
       "        text-align: right;\n",
       "    }\n",
       "</style>\n",
       "<table border=\"1\" class=\"dataframe\">\n",
       "  <thead>\n",
       "    <tr style=\"text-align: right;\">\n",
       "      <th></th>\n",
       "      <th>MSSubClass</th>\n",
       "      <th>LotFrontage</th>\n",
       "      <th>LotArea</th>\n",
       "      <th>OverallQual</th>\n",
       "      <th>OverallCond</th>\n",
       "      <th>YearBuilt</th>\n",
       "      <th>YearRemodAdd</th>\n",
       "      <th>MasVnrArea</th>\n",
       "      <th>BsmtFinSF1</th>\n",
       "      <th>BsmtFinSF2</th>\n",
       "      <th>...</th>\n",
       "      <th>GarageType</th>\n",
       "      <th>GarageFinish</th>\n",
       "      <th>GarageQual</th>\n",
       "      <th>GarageCond</th>\n",
       "      <th>PavedDrive</th>\n",
       "      <th>PoolQC</th>\n",
       "      <th>Fence</th>\n",
       "      <th>MiscFeature</th>\n",
       "      <th>SaleType</th>\n",
       "      <th>SaleCondition</th>\n",
       "    </tr>\n",
       "  </thead>\n",
       "  <tbody>\n",
       "    <tr>\n",
       "      <th>0</th>\n",
       "      <td>60.0</td>\n",
       "      <td>65.0</td>\n",
       "      <td>8450.0</td>\n",
       "      <td>7.0</td>\n",
       "      <td>5.0</td>\n",
       "      <td>2003.0</td>\n",
       "      <td>2003.0</td>\n",
       "      <td>196.0</td>\n",
       "      <td>706.0</td>\n",
       "      <td>0.0</td>\n",
       "      <td>...</td>\n",
       "      <td>Attchd</td>\n",
       "      <td>RFn</td>\n",
       "      <td>TA</td>\n",
       "      <td>TA</td>\n",
       "      <td>Y</td>\n",
       "      <td>NaN</td>\n",
       "      <td>NaN</td>\n",
       "      <td>NaN</td>\n",
       "      <td>WD</td>\n",
       "      <td>Normal</td>\n",
       "    </tr>\n",
       "    <tr>\n",
       "      <th>1</th>\n",
       "      <td>20.0</td>\n",
       "      <td>80.0</td>\n",
       "      <td>9600.0</td>\n",
       "      <td>6.0</td>\n",
       "      <td>8.0</td>\n",
       "      <td>1976.0</td>\n",
       "      <td>1976.0</td>\n",
       "      <td>0.0</td>\n",
       "      <td>978.0</td>\n",
       "      <td>0.0</td>\n",
       "      <td>...</td>\n",
       "      <td>Attchd</td>\n",
       "      <td>RFn</td>\n",
       "      <td>TA</td>\n",
       "      <td>TA</td>\n",
       "      <td>Y</td>\n",
       "      <td>NaN</td>\n",
       "      <td>NaN</td>\n",
       "      <td>NaN</td>\n",
       "      <td>WD</td>\n",
       "      <td>Normal</td>\n",
       "    </tr>\n",
       "    <tr>\n",
       "      <th>2</th>\n",
       "      <td>60.0</td>\n",
       "      <td>68.0</td>\n",
       "      <td>11250.0</td>\n",
       "      <td>7.0</td>\n",
       "      <td>5.0</td>\n",
       "      <td>2001.0</td>\n",
       "      <td>2002.0</td>\n",
       "      <td>162.0</td>\n",
       "      <td>486.0</td>\n",
       "      <td>0.0</td>\n",
       "      <td>...</td>\n",
       "      <td>Attchd</td>\n",
       "      <td>RFn</td>\n",
       "      <td>TA</td>\n",
       "      <td>TA</td>\n",
       "      <td>Y</td>\n",
       "      <td>NaN</td>\n",
       "      <td>NaN</td>\n",
       "      <td>NaN</td>\n",
       "      <td>WD</td>\n",
       "      <td>Normal</td>\n",
       "    </tr>\n",
       "    <tr>\n",
       "      <th>3</th>\n",
       "      <td>70.0</td>\n",
       "      <td>60.0</td>\n",
       "      <td>9550.0</td>\n",
       "      <td>7.0</td>\n",
       "      <td>5.0</td>\n",
       "      <td>1915.0</td>\n",
       "      <td>1970.0</td>\n",
       "      <td>0.0</td>\n",
       "      <td>216.0</td>\n",
       "      <td>0.0</td>\n",
       "      <td>...</td>\n",
       "      <td>Detchd</td>\n",
       "      <td>Unf</td>\n",
       "      <td>TA</td>\n",
       "      <td>TA</td>\n",
       "      <td>Y</td>\n",
       "      <td>NaN</td>\n",
       "      <td>NaN</td>\n",
       "      <td>NaN</td>\n",
       "      <td>WD</td>\n",
       "      <td>Abnorml</td>\n",
       "    </tr>\n",
       "    <tr>\n",
       "      <th>4</th>\n",
       "      <td>60.0</td>\n",
       "      <td>84.0</td>\n",
       "      <td>14260.0</td>\n",
       "      <td>8.0</td>\n",
       "      <td>5.0</td>\n",
       "      <td>2000.0</td>\n",
       "      <td>2000.0</td>\n",
       "      <td>350.0</td>\n",
       "      <td>655.0</td>\n",
       "      <td>0.0</td>\n",
       "      <td>...</td>\n",
       "      <td>Attchd</td>\n",
       "      <td>RFn</td>\n",
       "      <td>TA</td>\n",
       "      <td>TA</td>\n",
       "      <td>Y</td>\n",
       "      <td>NaN</td>\n",
       "      <td>NaN</td>\n",
       "      <td>NaN</td>\n",
       "      <td>WD</td>\n",
       "      <td>Normal</td>\n",
       "    </tr>\n",
       "  </tbody>\n",
       "</table>\n",
       "<p>5 rows × 80 columns</p>\n",
       "</div>"
      ],
      "text/plain": [
       "   MSSubClass  LotFrontage  LotArea  OverallQual  OverallCond  YearBuilt  \\\n",
       "0        60.0         65.0   8450.0          7.0          5.0     2003.0   \n",
       "1        20.0         80.0   9600.0          6.0          8.0     1976.0   \n",
       "2        60.0         68.0  11250.0          7.0          5.0     2001.0   \n",
       "3        70.0         60.0   9550.0          7.0          5.0     1915.0   \n",
       "4        60.0         84.0  14260.0          8.0          5.0     2000.0   \n",
       "\n",
       "   YearRemodAdd  MasVnrArea  BsmtFinSF1  BsmtFinSF2  ...  GarageType  \\\n",
       "0        2003.0       196.0       706.0         0.0  ...      Attchd   \n",
       "1        1976.0         0.0       978.0         0.0  ...      Attchd   \n",
       "2        2002.0       162.0       486.0         0.0  ...      Attchd   \n",
       "3        1970.0         0.0       216.0         0.0  ...      Detchd   \n",
       "4        2000.0       350.0       655.0         0.0  ...      Attchd   \n",
       "\n",
       "   GarageFinish  GarageQual  GarageCond  PavedDrive  PoolQC  Fence  \\\n",
       "0           RFn          TA          TA           Y     NaN    NaN   \n",
       "1           RFn          TA          TA           Y     NaN    NaN   \n",
       "2           RFn          TA          TA           Y     NaN    NaN   \n",
       "3           Unf          TA          TA           Y     NaN    NaN   \n",
       "4           RFn          TA          TA           Y     NaN    NaN   \n",
       "\n",
       "   MiscFeature  SaleType  SaleCondition  \n",
       "0          NaN        WD         Normal  \n",
       "1          NaN        WD         Normal  \n",
       "2          NaN        WD         Normal  \n",
       "3          NaN        WD        Abnorml  \n",
       "4          NaN        WD         Normal  \n",
       "\n",
       "[5 rows x 80 columns]"
      ]
     },
     "execution_count": 308,
     "metadata": {},
     "output_type": "execute_result"
    }
   ],
   "source": [
    "data_no_nans.head()"
   ]
  },
  {
   "cell_type": "markdown",
   "metadata": {},
   "source": [
    "### Задание 3 <a id=\"task23\"></a>"
   ]
  },
  {
   "cell_type": "markdown",
   "metadata": {},
   "source": [
    "Для каждой колонки, выраженной числами (типа `float64` и `int64`), постройте гистограмму ее значений. Сильно ли отличается масштаб признаков? Отмасштабируйте признаки каким-нибудь методом (например, `StandardScaler` или `MinMaxScaler` из `sklearn`). \n",
    "\n",
    "**Не забудьте, что целевая переменная (столбец `'SalePrice'`) не входит в признаки!**"
   ]
  },
  {
   "cell_type": "code",
   "execution_count": 309,
   "metadata": {},
   "outputs": [
    {
     "data": {
      "text/html": [
       "<div>\n",
       "<style scoped>\n",
       "    .dataframe tbody tr th:only-of-type {\n",
       "        vertical-align: middle;\n",
       "    }\n",
       "\n",
       "    .dataframe tbody tr th {\n",
       "        vertical-align: top;\n",
       "    }\n",
       "\n",
       "    .dataframe thead th {\n",
       "        text-align: right;\n",
       "    }\n",
       "</style>\n",
       "<table border=\"1\" class=\"dataframe\">\n",
       "  <thead>\n",
       "    <tr style=\"text-align: right;\">\n",
       "      <th></th>\n",
       "      <th>MSSubClass</th>\n",
       "      <th>LotFrontage</th>\n",
       "      <th>LotArea</th>\n",
       "      <th>OverallQual</th>\n",
       "      <th>OverallCond</th>\n",
       "      <th>YearBuilt</th>\n",
       "      <th>YearRemodAdd</th>\n",
       "      <th>MasVnrArea</th>\n",
       "      <th>BsmtFinSF1</th>\n",
       "      <th>BsmtFinSF2</th>\n",
       "      <th>...</th>\n",
       "      <th>WoodDeckSF</th>\n",
       "      <th>OpenPorchSF</th>\n",
       "      <th>EnclosedPorch</th>\n",
       "      <th>3SsnPorch</th>\n",
       "      <th>ScreenPorch</th>\n",
       "      <th>PoolArea</th>\n",
       "      <th>MiscVal</th>\n",
       "      <th>MoSold</th>\n",
       "      <th>YrSold</th>\n",
       "      <th>SalePrice</th>\n",
       "    </tr>\n",
       "  </thead>\n",
       "  <tbody>\n",
       "    <tr>\n",
       "      <th>0</th>\n",
       "      <td>60.0</td>\n",
       "      <td>65.0</td>\n",
       "      <td>8450.0</td>\n",
       "      <td>7.0</td>\n",
       "      <td>5.0</td>\n",
       "      <td>2003.0</td>\n",
       "      <td>2003.0</td>\n",
       "      <td>196.0</td>\n",
       "      <td>706.0</td>\n",
       "      <td>0.0</td>\n",
       "      <td>...</td>\n",
       "      <td>0.0</td>\n",
       "      <td>61.0</td>\n",
       "      <td>0.0</td>\n",
       "      <td>0.0</td>\n",
       "      <td>0.0</td>\n",
       "      <td>0.0</td>\n",
       "      <td>0.0</td>\n",
       "      <td>2.0</td>\n",
       "      <td>2008.0</td>\n",
       "      <td>208500.0</td>\n",
       "    </tr>\n",
       "    <tr>\n",
       "      <th>1</th>\n",
       "      <td>20.0</td>\n",
       "      <td>80.0</td>\n",
       "      <td>9600.0</td>\n",
       "      <td>6.0</td>\n",
       "      <td>8.0</td>\n",
       "      <td>1976.0</td>\n",
       "      <td>1976.0</td>\n",
       "      <td>0.0</td>\n",
       "      <td>978.0</td>\n",
       "      <td>0.0</td>\n",
       "      <td>...</td>\n",
       "      <td>298.0</td>\n",
       "      <td>0.0</td>\n",
       "      <td>0.0</td>\n",
       "      <td>0.0</td>\n",
       "      <td>0.0</td>\n",
       "      <td>0.0</td>\n",
       "      <td>0.0</td>\n",
       "      <td>5.0</td>\n",
       "      <td>2007.0</td>\n",
       "      <td>181500.0</td>\n",
       "    </tr>\n",
       "    <tr>\n",
       "      <th>2</th>\n",
       "      <td>60.0</td>\n",
       "      <td>68.0</td>\n",
       "      <td>11250.0</td>\n",
       "      <td>7.0</td>\n",
       "      <td>5.0</td>\n",
       "      <td>2001.0</td>\n",
       "      <td>2002.0</td>\n",
       "      <td>162.0</td>\n",
       "      <td>486.0</td>\n",
       "      <td>0.0</td>\n",
       "      <td>...</td>\n",
       "      <td>0.0</td>\n",
       "      <td>42.0</td>\n",
       "      <td>0.0</td>\n",
       "      <td>0.0</td>\n",
       "      <td>0.0</td>\n",
       "      <td>0.0</td>\n",
       "      <td>0.0</td>\n",
       "      <td>9.0</td>\n",
       "      <td>2008.0</td>\n",
       "      <td>223500.0</td>\n",
       "    </tr>\n",
       "    <tr>\n",
       "      <th>3</th>\n",
       "      <td>70.0</td>\n",
       "      <td>60.0</td>\n",
       "      <td>9550.0</td>\n",
       "      <td>7.0</td>\n",
       "      <td>5.0</td>\n",
       "      <td>1915.0</td>\n",
       "      <td>1970.0</td>\n",
       "      <td>0.0</td>\n",
       "      <td>216.0</td>\n",
       "      <td>0.0</td>\n",
       "      <td>...</td>\n",
       "      <td>0.0</td>\n",
       "      <td>35.0</td>\n",
       "      <td>272.0</td>\n",
       "      <td>0.0</td>\n",
       "      <td>0.0</td>\n",
       "      <td>0.0</td>\n",
       "      <td>0.0</td>\n",
       "      <td>2.0</td>\n",
       "      <td>2006.0</td>\n",
       "      <td>140000.0</td>\n",
       "    </tr>\n",
       "    <tr>\n",
       "      <th>4</th>\n",
       "      <td>60.0</td>\n",
       "      <td>84.0</td>\n",
       "      <td>14260.0</td>\n",
       "      <td>8.0</td>\n",
       "      <td>5.0</td>\n",
       "      <td>2000.0</td>\n",
       "      <td>2000.0</td>\n",
       "      <td>350.0</td>\n",
       "      <td>655.0</td>\n",
       "      <td>0.0</td>\n",
       "      <td>...</td>\n",
       "      <td>192.0</td>\n",
       "      <td>84.0</td>\n",
       "      <td>0.0</td>\n",
       "      <td>0.0</td>\n",
       "      <td>0.0</td>\n",
       "      <td>0.0</td>\n",
       "      <td>0.0</td>\n",
       "      <td>12.0</td>\n",
       "      <td>2008.0</td>\n",
       "      <td>250000.0</td>\n",
       "    </tr>\n",
       "    <tr>\n",
       "      <th>...</th>\n",
       "      <td>...</td>\n",
       "      <td>...</td>\n",
       "      <td>...</td>\n",
       "      <td>...</td>\n",
       "      <td>...</td>\n",
       "      <td>...</td>\n",
       "      <td>...</td>\n",
       "      <td>...</td>\n",
       "      <td>...</td>\n",
       "      <td>...</td>\n",
       "      <td>...</td>\n",
       "      <td>...</td>\n",
       "      <td>...</td>\n",
       "      <td>...</td>\n",
       "      <td>...</td>\n",
       "      <td>...</td>\n",
       "      <td>...</td>\n",
       "      <td>...</td>\n",
       "      <td>...</td>\n",
       "      <td>...</td>\n",
       "      <td>...</td>\n",
       "    </tr>\n",
       "    <tr>\n",
       "      <th>1455</th>\n",
       "      <td>60.0</td>\n",
       "      <td>62.0</td>\n",
       "      <td>7917.0</td>\n",
       "      <td>6.0</td>\n",
       "      <td>5.0</td>\n",
       "      <td>1999.0</td>\n",
       "      <td>2000.0</td>\n",
       "      <td>0.0</td>\n",
       "      <td>0.0</td>\n",
       "      <td>0.0</td>\n",
       "      <td>...</td>\n",
       "      <td>0.0</td>\n",
       "      <td>40.0</td>\n",
       "      <td>0.0</td>\n",
       "      <td>0.0</td>\n",
       "      <td>0.0</td>\n",
       "      <td>0.0</td>\n",
       "      <td>0.0</td>\n",
       "      <td>8.0</td>\n",
       "      <td>2007.0</td>\n",
       "      <td>175000.0</td>\n",
       "    </tr>\n",
       "    <tr>\n",
       "      <th>1456</th>\n",
       "      <td>20.0</td>\n",
       "      <td>85.0</td>\n",
       "      <td>13175.0</td>\n",
       "      <td>6.0</td>\n",
       "      <td>6.0</td>\n",
       "      <td>1978.0</td>\n",
       "      <td>1988.0</td>\n",
       "      <td>119.0</td>\n",
       "      <td>790.0</td>\n",
       "      <td>163.0</td>\n",
       "      <td>...</td>\n",
       "      <td>349.0</td>\n",
       "      <td>0.0</td>\n",
       "      <td>0.0</td>\n",
       "      <td>0.0</td>\n",
       "      <td>0.0</td>\n",
       "      <td>0.0</td>\n",
       "      <td>0.0</td>\n",
       "      <td>2.0</td>\n",
       "      <td>2010.0</td>\n",
       "      <td>210000.0</td>\n",
       "    </tr>\n",
       "    <tr>\n",
       "      <th>1457</th>\n",
       "      <td>70.0</td>\n",
       "      <td>66.0</td>\n",
       "      <td>9042.0</td>\n",
       "      <td>7.0</td>\n",
       "      <td>9.0</td>\n",
       "      <td>1941.0</td>\n",
       "      <td>2006.0</td>\n",
       "      <td>0.0</td>\n",
       "      <td>275.0</td>\n",
       "      <td>0.0</td>\n",
       "      <td>...</td>\n",
       "      <td>0.0</td>\n",
       "      <td>60.0</td>\n",
       "      <td>0.0</td>\n",
       "      <td>0.0</td>\n",
       "      <td>0.0</td>\n",
       "      <td>0.0</td>\n",
       "      <td>2500.0</td>\n",
       "      <td>5.0</td>\n",
       "      <td>2010.0</td>\n",
       "      <td>266500.0</td>\n",
       "    </tr>\n",
       "    <tr>\n",
       "      <th>1458</th>\n",
       "      <td>20.0</td>\n",
       "      <td>68.0</td>\n",
       "      <td>9717.0</td>\n",
       "      <td>5.0</td>\n",
       "      <td>6.0</td>\n",
       "      <td>1950.0</td>\n",
       "      <td>1996.0</td>\n",
       "      <td>0.0</td>\n",
       "      <td>49.0</td>\n",
       "      <td>1029.0</td>\n",
       "      <td>...</td>\n",
       "      <td>366.0</td>\n",
       "      <td>0.0</td>\n",
       "      <td>112.0</td>\n",
       "      <td>0.0</td>\n",
       "      <td>0.0</td>\n",
       "      <td>0.0</td>\n",
       "      <td>0.0</td>\n",
       "      <td>4.0</td>\n",
       "      <td>2010.0</td>\n",
       "      <td>142125.0</td>\n",
       "    </tr>\n",
       "    <tr>\n",
       "      <th>1459</th>\n",
       "      <td>20.0</td>\n",
       "      <td>75.0</td>\n",
       "      <td>9937.0</td>\n",
       "      <td>5.0</td>\n",
       "      <td>6.0</td>\n",
       "      <td>1965.0</td>\n",
       "      <td>1965.0</td>\n",
       "      <td>0.0</td>\n",
       "      <td>830.0</td>\n",
       "      <td>290.0</td>\n",
       "      <td>...</td>\n",
       "      <td>736.0</td>\n",
       "      <td>68.0</td>\n",
       "      <td>0.0</td>\n",
       "      <td>0.0</td>\n",
       "      <td>0.0</td>\n",
       "      <td>0.0</td>\n",
       "      <td>0.0</td>\n",
       "      <td>6.0</td>\n",
       "      <td>2008.0</td>\n",
       "      <td>147500.0</td>\n",
       "    </tr>\n",
       "  </tbody>\n",
       "</table>\n",
       "<p>1460 rows × 37 columns</p>\n",
       "</div>"
      ],
      "text/plain": [
       "      MSSubClass  LotFrontage  LotArea  OverallQual  OverallCond  YearBuilt  \\\n",
       "0           60.0         65.0   8450.0          7.0          5.0     2003.0   \n",
       "1           20.0         80.0   9600.0          6.0          8.0     1976.0   \n",
       "2           60.0         68.0  11250.0          7.0          5.0     2001.0   \n",
       "3           70.0         60.0   9550.0          7.0          5.0     1915.0   \n",
       "4           60.0         84.0  14260.0          8.0          5.0     2000.0   \n",
       "...          ...          ...      ...          ...          ...        ...   \n",
       "1455        60.0         62.0   7917.0          6.0          5.0     1999.0   \n",
       "1456        20.0         85.0  13175.0          6.0          6.0     1978.0   \n",
       "1457        70.0         66.0   9042.0          7.0          9.0     1941.0   \n",
       "1458        20.0         68.0   9717.0          5.0          6.0     1950.0   \n",
       "1459        20.0         75.0   9937.0          5.0          6.0     1965.0   \n",
       "\n",
       "      YearRemodAdd  MasVnrArea  BsmtFinSF1  BsmtFinSF2  ...  WoodDeckSF  \\\n",
       "0           2003.0       196.0       706.0         0.0  ...         0.0   \n",
       "1           1976.0         0.0       978.0         0.0  ...       298.0   \n",
       "2           2002.0       162.0       486.0         0.0  ...         0.0   \n",
       "3           1970.0         0.0       216.0         0.0  ...         0.0   \n",
       "4           2000.0       350.0       655.0         0.0  ...       192.0   \n",
       "...            ...         ...         ...         ...  ...         ...   \n",
       "1455        2000.0         0.0         0.0         0.0  ...         0.0   \n",
       "1456        1988.0       119.0       790.0       163.0  ...       349.0   \n",
       "1457        2006.0         0.0       275.0         0.0  ...         0.0   \n",
       "1458        1996.0         0.0        49.0      1029.0  ...       366.0   \n",
       "1459        1965.0         0.0       830.0       290.0  ...       736.0   \n",
       "\n",
       "      OpenPorchSF  EnclosedPorch  3SsnPorch  ScreenPorch  PoolArea  MiscVal  \\\n",
       "0            61.0            0.0        0.0          0.0       0.0      0.0   \n",
       "1             0.0            0.0        0.0          0.0       0.0      0.0   \n",
       "2            42.0            0.0        0.0          0.0       0.0      0.0   \n",
       "3            35.0          272.0        0.0          0.0       0.0      0.0   \n",
       "4            84.0            0.0        0.0          0.0       0.0      0.0   \n",
       "...           ...            ...        ...          ...       ...      ...   \n",
       "1455         40.0            0.0        0.0          0.0       0.0      0.0   \n",
       "1456          0.0            0.0        0.0          0.0       0.0      0.0   \n",
       "1457         60.0            0.0        0.0          0.0       0.0   2500.0   \n",
       "1458          0.0          112.0        0.0          0.0       0.0      0.0   \n",
       "1459         68.0            0.0        0.0          0.0       0.0      0.0   \n",
       "\n",
       "      MoSold  YrSold  SalePrice  \n",
       "0        2.0  2008.0   208500.0  \n",
       "1        5.0  2007.0   181500.0  \n",
       "2        9.0  2008.0   223500.0  \n",
       "3        2.0  2006.0   140000.0  \n",
       "4       12.0  2008.0   250000.0  \n",
       "...      ...     ...        ...  \n",
       "1455     8.0  2007.0   175000.0  \n",
       "1456     2.0  2010.0   210000.0  \n",
       "1457     5.0  2010.0   266500.0  \n",
       "1458     4.0  2010.0   142125.0  \n",
       "1459     6.0  2008.0   147500.0  \n",
       "\n",
       "[1460 rows x 37 columns]"
      ]
     },
     "execution_count": 309,
     "metadata": {},
     "output_type": "execute_result"
    }
   ],
   "source": [
    "cat_features_mask = (data_no_nans.dtypes == \"object\").values\n",
    "data_real = data_no_nans[data_no_nans.columns[~cat_features_mask]]\n",
    "data_real"
   ]
  },
  {
   "cell_type": "code",
   "execution_count": 310,
   "metadata": {},
   "outputs": [
    {
     "name": "stderr",
     "output_type": "stream",
     "text": [
      "C:\\Users\\maxle\\anaconda3\\lib\\site-packages\\pandas\\plotting\\_matplotlib\\tools.py:185: RuntimeWarning: More than 20 figures have been opened. Figures created through the pyplot interface (`matplotlib.pyplot.figure`) are retained until explicitly closed and may consume too much memory. (To control this warning, see the rcParam `figure.max_open_warning`).\n",
      "  fig = plt.figure(**fig_kw)\n"
     ]
    },
    {
     "data": {
      "image/png": "[encoded data removed]",
      "text/plain": [
       "<Figure size 432x288 with 1 Axes>"
      ]
     },
     "metadata": {
      "needs_background": "light"
     },
     "output_type": "display_data"
    },
    {
     "data": {
      "image/png": "[encoded data removed]",
      "text/plain": [
       "<Figure size 432x288 with 1 Axes>"
      ]
     },
     "metadata": {
      "needs_background": "light"
     },
     "output_type": "display_data"
    },
    {
     "data": {
      "image/png": "[encoded data removed]",
      "text/plain": [
       "<Figure size 432x288 with 1 Axes>"
      ]
     },
     "metadata": {
      "needs_background": "light"
     },
     "output_type": "display_data"
    },
    {
     "data": {
      "image/png": "[encoded data removed]",
      "text/plain": [
       "<Figure size 432x288 with 1 Axes>"
      ]
     },
     "metadata": {
      "needs_background": "light"
     },
     "output_type": "display_data"
    },
    {
     "data": {
      "image/png": "[encoded data removed]",
      "text/plain": [
       "<Figure size 432x288 with 1 Axes>"
      ]
     },
     "metadata": {
      "needs_background": "light"
     },
     "output_type": "display_data"
    },
    {
     "data": {
      "image/png": "[encoded data removed]",
      "text/plain": [
       "<Figure size 432x288 with 1 Axes>"
      ]
     },
     "metadata": {
      "needs_background": "light"
     },
     "output_type": "display_data"
    },
    {
     "data": {
      "image/png": "[encoded data removed]",
      "text/plain": [
       "<Figure size 432x288 with 1 Axes>"
      ]
     },
     "metadata": {
      "needs_background": "light"
     },
     "output_type": "display_data"
    },
    {
     "data": {
      "image/png": "[encoded data removed]",
      "text/plain": [
       "<Figure size 432x288 with 1 Axes>"
      ]
     },
     "metadata": {
      "needs_background": "light"
     },
     "output_type": "display_data"
    },
    {
     "data": {
      "image/png": "[encoded data removed]",
      "text/plain": [
       "<Figure size 432x288 with 1 Axes>"
      ]
     },
     "metadata": {
      "needs_background": "light"
     },
     "output_type": "display_data"
    },
    {
     "data": {
      "image/png": "[encoded data removed]",
      "text/plain": [
       "<Figure size 432x288 with 1 Axes>"
      ]
     },
     "metadata": {
      "needs_background": "light"
     },
     "output_type": "display_data"
    },
    {
     "data": {
      "image/png": "[encoded data removed]",
      "text/plain": [
       "<Figure size 432x288 with 1 Axes>"
      ]
     },
     "metadata": {
      "needs_background": "light"
     },
     "output_type": "display_data"
    },
    {
     "data": {
      "image/png": "[encoded data removed]",
      "text/plain": [
       "<Figure size 432x288 with 1 Axes>"
      ]
     },
     "metadata": {
      "needs_background": "light"
     },
     "output_type": "display_data"
    },
    {
     "data": {
      "image/png": "[encoded data removed]",
      "text/plain": [
       "<Figure size 432x288 with 1 Axes>"
      ]
     },
     "metadata": {
      "needs_background": "light"
     },
     "output_type": "display_data"
    },
    {
     "data": {
      "image/png": "[encoded data removed]",
      "text/plain": [
       "<Figure size 432x288 with 1 Axes>"
      ]
     },
     "metadata": {
      "needs_background": "light"
     },
     "output_type": "display_data"
    },
    {
     "data": {
      "image/png": "[encoded data removed]",
      "text/plain": [
       "<Figure size 432x288 with 1 Axes>"
      ]
     },
     "metadata": {
      "needs_background": "light"
     },
     "output_type": "display_data"
    },
    {
     "data": {
      "image/png": "[encoded data removed]",
      "text/plain": [
       "<Figure size 432x288 with 1 Axes>"
      ]
     },
     "metadata": {
      "needs_background": "light"
     },
     "output_type": "display_data"
    },
    {
     "data": {
      "image/png": "[encoded data removed]",
      "text/plain": [
       "<Figure size 432x288 with 1 Axes>"
      ]
     },
     "metadata": {
      "needs_background": "light"
     },
     "output_type": "display_data"
    },
    {
     "data": {
      "image/png": "[encoded data removed]",
      "text/plain": [
       "<Figure size 432x288 with 1 Axes>"
      ]
     },
     "metadata": {
      "needs_background": "light"
     },
     "output_type": "display_data"
    },
    {
     "data": {
      "image/png": "[encoded data removed]",
      "text/plain": [
       "<Figure size 432x288 with 1 Axes>"
      ]
     },
     "metadata": {
      "needs_background": "light"
     },
     "output_type": "display_data"
    },
    {
     "data": {
      "image/png": "[encoded data removed]",
      "text/plain": [
       "<Figure size 432x288 with 1 Axes>"
      ]
     },
     "metadata": {
      "needs_background": "light"
     },
     "output_type": "display_data"
    },
    {
     "data": {
      "image/png": "[encoded data removed]",
      "text/plain": [
       "<Figure size 432x288 with 1 Axes>"
      ]
     },
     "metadata": {
      "needs_background": "light"
     },
     "output_type": "display_data"
    },
    {
     "data": {
      "image/png": "[encoded data removed]",
      "text/plain": [
       "<Figure size 432x288 with 1 Axes>"
      ]
     },
     "metadata": {
      "needs_background": "light"
     },
     "output_type": "display_data"
    },
    {
     "data": {
      "image/png": "[encoded data removed]",
      "text/plain": [
       "<Figure size 432x288 with 1 Axes>"
      ]
     },
     "metadata": {
      "needs_background": "light"
     },
     "output_type": "display_data"
    },
    {
     "data": {
      "image/png": "[encoded data removed]",
      "text/plain": [
       "<Figure size 432x288 with 1 Axes>"
      ]
     },
     "metadata": {
      "needs_background": "light"
     },
     "output_type": "display_data"
    },
    {
     "data": {
      "image/png": "[encoded data removed]",
      "text/plain": [
       "<Figure size 432x288 with 1 Axes>"
      ]
     },
     "metadata": {
      "needs_background": "light"
     },
     "output_type": "display_data"
    },
    {
     "data": {
      "image/png": "[encoded data removed]",
      "text/plain": [
       "<Figure size 432x288 with 1 Axes>"
      ]
     },
     "metadata": {
      "needs_background": "light"
     },
     "output_type": "display_data"
    },
    {
     "data": {
      "image/png": "[encoded data removed]",
      "text/plain": [
       "<Figure size 432x288 with 1 Axes>"
      ]
     },
     "metadata": {
      "needs_background": "light"
     },
     "output_type": "display_data"
    },
    {
     "data": {
      "image/png": "[encoded data removed]",
      "text/plain": [
       "<Figure size 432x288 with 1 Axes>"
      ]
     },
     "metadata": {
      "needs_background": "light"
     },
     "output_type": "display_data"
    },
    {
     "data": {
      "image/png": "[encoded data removed]",
      "text/plain": [
       "<Figure size 432x288 with 1 Axes>"
      ]
     },
     "metadata": {
      "needs_background": "light"
     },
     "output_type": "display_data"
    },
    {
     "data": {
      "image/png": "[encoded data removed]",
      "text/plain": [
       "<Figure size 432x288 with 1 Axes>"
      ]
     },
     "metadata": {
      "needs_background": "light"
     },
     "output_type": "display_data"
    },
    {
     "data": {
      "image/png": "[encoded data removed]",
      "text/plain": [
       "<Figure size 432x288 with 1 Axes>"
      ]
     },
     "metadata": {
      "needs_background": "light"
     },
     "output_type": "display_data"
    },
    {
     "data": {
      "image/png": "[encoded data removed]",
      "text/plain": [
       "<Figure size 432x288 with 1 Axes>"
      ]
     },
     "metadata": {
      "needs_background": "light"
     },
     "output_type": "display_data"
    },
    {
     "data": {
      "image/png": "[encoded data removed]",
      "text/plain": [
       "<Figure size 432x288 with 1 Axes>"
      ]
     },
     "metadata": {
      "needs_background": "light"
     },
     "output_type": "display_data"
    },
    {
     "data": {
      "image/png": "[encoded data removed]",
      "text/plain": [
       "<Figure size 432x288 with 1 Axes>"
      ]
     },
     "metadata": {
      "needs_background": "light"
     },
     "output_type": "display_data"
    },
    {
     "data": {
      "image/png": "[encoded data removed]",
      "text/plain": [
       "<Figure size 432x288 with 1 Axes>"
      ]
     },
     "metadata": {
      "needs_background": "light"
     },
     "output_type": "display_data"
    },
    {
     "data": {
      "image/png": "[encoded data removed]",
      "text/plain": [
       "<Figure size 432x288 with 1 Axes>"
      ]
     },
     "metadata": {
      "needs_background": "light"
     },
     "output_type": "display_data"
    },
    {
     "data": {
      "image/png": "[encoded data removed]",
      "text/plain": [
       "<Figure size 432x288 with 1 Axes>"
      ]
     },
     "metadata": {
      "needs_background": "light"
     },
     "output_type": "display_data"
    }
   ],
   "source": [
    "# Извиняюсь за топорную реализацию вывода всех графиков, но этот вариант оказался первым рабочим для полного вывода:\n",
    "\n",
    "for col in data_real.columns:\n",
    "    data_real.hist(column=col)"
   ]
  },
  {
   "cell_type": "markdown",
   "metadata": {},
   "source": [
    "Да, масштаб отличается прилично, нужно масштабировать"
   ]
  },
  {
   "cell_type": "code",
   "execution_count": 311,
   "metadata": {},
   "outputs": [
    {
     "data": {
      "text/html": [
       "<div>\n",
       "<style scoped>\n",
       "    .dataframe tbody tr th:only-of-type {\n",
       "        vertical-align: middle;\n",
       "    }\n",
       "\n",
       "    .dataframe tbody tr th {\n",
       "        vertical-align: top;\n",
       "    }\n",
       "\n",
       "    .dataframe thead th {\n",
       "        text-align: right;\n",
       "    }\n",
       "</style>\n",
       "<table border=\"1\" class=\"dataframe\">\n",
       "  <thead>\n",
       "    <tr style=\"text-align: right;\">\n",
       "      <th></th>\n",
       "      <th>MSSubClass</th>\n",
       "      <th>LotFrontage</th>\n",
       "      <th>LotArea</th>\n",
       "      <th>OverallQual</th>\n",
       "      <th>OverallCond</th>\n",
       "      <th>YearBuilt</th>\n",
       "      <th>YearRemodAdd</th>\n",
       "      <th>MasVnrArea</th>\n",
       "      <th>BsmtFinSF1</th>\n",
       "      <th>BsmtFinSF2</th>\n",
       "      <th>...</th>\n",
       "      <th>GarageArea</th>\n",
       "      <th>WoodDeckSF</th>\n",
       "      <th>OpenPorchSF</th>\n",
       "      <th>EnclosedPorch</th>\n",
       "      <th>3SsnPorch</th>\n",
       "      <th>ScreenPorch</th>\n",
       "      <th>PoolArea</th>\n",
       "      <th>MiscVal</th>\n",
       "      <th>MoSold</th>\n",
       "      <th>YrSold</th>\n",
       "    </tr>\n",
       "  </thead>\n",
       "  <tbody>\n",
       "    <tr>\n",
       "      <th>0</th>\n",
       "      <td>60.0</td>\n",
       "      <td>65.0</td>\n",
       "      <td>8450.0</td>\n",
       "      <td>7.0</td>\n",
       "      <td>5.0</td>\n",
       "      <td>2003.0</td>\n",
       "      <td>2003.0</td>\n",
       "      <td>196.0</td>\n",
       "      <td>706.0</td>\n",
       "      <td>0.0</td>\n",
       "      <td>...</td>\n",
       "      <td>548.0</td>\n",
       "      <td>0.0</td>\n",
       "      <td>61.0</td>\n",
       "      <td>0.0</td>\n",
       "      <td>0.0</td>\n",
       "      <td>0.0</td>\n",
       "      <td>0.0</td>\n",
       "      <td>0.0</td>\n",
       "      <td>2.0</td>\n",
       "      <td>2008.0</td>\n",
       "    </tr>\n",
       "    <tr>\n",
       "      <th>1</th>\n",
       "      <td>20.0</td>\n",
       "      <td>80.0</td>\n",
       "      <td>9600.0</td>\n",
       "      <td>6.0</td>\n",
       "      <td>8.0</td>\n",
       "      <td>1976.0</td>\n",
       "      <td>1976.0</td>\n",
       "      <td>0.0</td>\n",
       "      <td>978.0</td>\n",
       "      <td>0.0</td>\n",
       "      <td>...</td>\n",
       "      <td>460.0</td>\n",
       "      <td>298.0</td>\n",
       "      <td>0.0</td>\n",
       "      <td>0.0</td>\n",
       "      <td>0.0</td>\n",
       "      <td>0.0</td>\n",
       "      <td>0.0</td>\n",
       "      <td>0.0</td>\n",
       "      <td>5.0</td>\n",
       "      <td>2007.0</td>\n",
       "    </tr>\n",
       "    <tr>\n",
       "      <th>2</th>\n",
       "      <td>60.0</td>\n",
       "      <td>68.0</td>\n",
       "      <td>11250.0</td>\n",
       "      <td>7.0</td>\n",
       "      <td>5.0</td>\n",
       "      <td>2001.0</td>\n",
       "      <td>2002.0</td>\n",
       "      <td>162.0</td>\n",
       "      <td>486.0</td>\n",
       "      <td>0.0</td>\n",
       "      <td>...</td>\n",
       "      <td>608.0</td>\n",
       "      <td>0.0</td>\n",
       "      <td>42.0</td>\n",
       "      <td>0.0</td>\n",
       "      <td>0.0</td>\n",
       "      <td>0.0</td>\n",
       "      <td>0.0</td>\n",
       "      <td>0.0</td>\n",
       "      <td>9.0</td>\n",
       "      <td>2008.0</td>\n",
       "    </tr>\n",
       "    <tr>\n",
       "      <th>3</th>\n",
       "      <td>70.0</td>\n",
       "      <td>60.0</td>\n",
       "      <td>9550.0</td>\n",
       "      <td>7.0</td>\n",
       "      <td>5.0</td>\n",
       "      <td>1915.0</td>\n",
       "      <td>1970.0</td>\n",
       "      <td>0.0</td>\n",
       "      <td>216.0</td>\n",
       "      <td>0.0</td>\n",
       "      <td>...</td>\n",
       "      <td>642.0</td>\n",
       "      <td>0.0</td>\n",
       "      <td>35.0</td>\n",
       "      <td>272.0</td>\n",
       "      <td>0.0</td>\n",
       "      <td>0.0</td>\n",
       "      <td>0.0</td>\n",
       "      <td>0.0</td>\n",
       "      <td>2.0</td>\n",
       "      <td>2006.0</td>\n",
       "    </tr>\n",
       "    <tr>\n",
       "      <th>4</th>\n",
       "      <td>60.0</td>\n",
       "      <td>84.0</td>\n",
       "      <td>14260.0</td>\n",
       "      <td>8.0</td>\n",
       "      <td>5.0</td>\n",
       "      <td>2000.0</td>\n",
       "      <td>2000.0</td>\n",
       "      <td>350.0</td>\n",
       "      <td>655.0</td>\n",
       "      <td>0.0</td>\n",
       "      <td>...</td>\n",
       "      <td>836.0</td>\n",
       "      <td>192.0</td>\n",
       "      <td>84.0</td>\n",
       "      <td>0.0</td>\n",
       "      <td>0.0</td>\n",
       "      <td>0.0</td>\n",
       "      <td>0.0</td>\n",
       "      <td>0.0</td>\n",
       "      <td>12.0</td>\n",
       "      <td>2008.0</td>\n",
       "    </tr>\n",
       "  </tbody>\n",
       "</table>\n",
       "<p>5 rows × 36 columns</p>\n",
       "</div>"
      ],
      "text/plain": [
       "   MSSubClass  LotFrontage  LotArea  OverallQual  OverallCond  YearBuilt  \\\n",
       "0        60.0         65.0   8450.0          7.0          5.0     2003.0   \n",
       "1        20.0         80.0   9600.0          6.0          8.0     1976.0   \n",
       "2        60.0         68.0  11250.0          7.0          5.0     2001.0   \n",
       "3        70.0         60.0   9550.0          7.0          5.0     1915.0   \n",
       "4        60.0         84.0  14260.0          8.0          5.0     2000.0   \n",
       "\n",
       "   YearRemodAdd  MasVnrArea  BsmtFinSF1  BsmtFinSF2  ...  GarageArea  \\\n",
       "0        2003.0       196.0       706.0         0.0  ...       548.0   \n",
       "1        1976.0         0.0       978.0         0.0  ...       460.0   \n",
       "2        2002.0       162.0       486.0         0.0  ...       608.0   \n",
       "3        1970.0         0.0       216.0         0.0  ...       642.0   \n",
       "4        2000.0       350.0       655.0         0.0  ...       836.0   \n",
       "\n",
       "   WoodDeckSF  OpenPorchSF  EnclosedPorch  3SsnPorch  ScreenPorch  PoolArea  \\\n",
       "0         0.0         61.0            0.0        0.0          0.0       0.0   \n",
       "1       298.0          0.0            0.0        0.0          0.0       0.0   \n",
       "2         0.0         42.0            0.0        0.0          0.0       0.0   \n",
       "3         0.0         35.0          272.0        0.0          0.0       0.0   \n",
       "4       192.0         84.0            0.0        0.0          0.0       0.0   \n",
       "\n",
       "   MiscVal  MoSold  YrSold  \n",
       "0      0.0     2.0  2008.0  \n",
       "1      0.0     5.0  2007.0  \n",
       "2      0.0     9.0  2008.0  \n",
       "3      0.0     2.0  2006.0  \n",
       "4      0.0    12.0  2008.0  \n",
       "\n",
       "[5 rows x 36 columns]"
      ]
     },
     "execution_count": 311,
     "metadata": {},
     "output_type": "execute_result"
    }
   ],
   "source": [
    "X_no_nans_real = data_no_nans_real.drop('SalePrice', axis=1)  # а вот тут накануне масштабирования убираю целевой столбец\n",
    "X_no_nans_real.head()"
   ]
  },
  {
   "cell_type": "code",
   "execution_count": 312,
   "metadata": {},
   "outputs": [
    {
     "data": {
      "text/html": [
       "<div>\n",
       "<style scoped>\n",
       "    .dataframe tbody tr th:only-of-type {\n",
       "        vertical-align: middle;\n",
       "    }\n",
       "\n",
       "    .dataframe tbody tr th {\n",
       "        vertical-align: top;\n",
       "    }\n",
       "\n",
       "    .dataframe thead th {\n",
       "        text-align: right;\n",
       "    }\n",
       "</style>\n",
       "<table border=\"1\" class=\"dataframe\">\n",
       "  <thead>\n",
       "    <tr style=\"text-align: right;\">\n",
       "      <th></th>\n",
       "      <th>MSSubClass</th>\n",
       "      <th>LotFrontage</th>\n",
       "      <th>LotArea</th>\n",
       "      <th>OverallQual</th>\n",
       "      <th>OverallCond</th>\n",
       "      <th>YearBuilt</th>\n",
       "      <th>YearRemodAdd</th>\n",
       "      <th>MasVnrArea</th>\n",
       "      <th>BsmtFinSF1</th>\n",
       "      <th>BsmtFinSF2</th>\n",
       "      <th>...</th>\n",
       "      <th>GarageArea</th>\n",
       "      <th>WoodDeckSF</th>\n",
       "      <th>OpenPorchSF</th>\n",
       "      <th>EnclosedPorch</th>\n",
       "      <th>3SsnPorch</th>\n",
       "      <th>ScreenPorch</th>\n",
       "      <th>PoolArea</th>\n",
       "      <th>MiscVal</th>\n",
       "      <th>MoSold</th>\n",
       "      <th>YrSold</th>\n",
       "    </tr>\n",
       "  </thead>\n",
       "  <tbody>\n",
       "    <tr>\n",
       "      <th>0</th>\n",
       "      <td>0.235294</td>\n",
       "      <td>0.150685</td>\n",
       "      <td>0.033420</td>\n",
       "      <td>0.666667</td>\n",
       "      <td>0.500</td>\n",
       "      <td>0.949275</td>\n",
       "      <td>0.883333</td>\n",
       "      <td>0.12250</td>\n",
       "      <td>0.125089</td>\n",
       "      <td>0.0</td>\n",
       "      <td>...</td>\n",
       "      <td>0.386460</td>\n",
       "      <td>0.000000</td>\n",
       "      <td>0.111517</td>\n",
       "      <td>0.000000</td>\n",
       "      <td>0.0</td>\n",
       "      <td>0.0</td>\n",
       "      <td>0.0</td>\n",
       "      <td>0.0</td>\n",
       "      <td>0.090909</td>\n",
       "      <td>0.50</td>\n",
       "    </tr>\n",
       "    <tr>\n",
       "      <th>1</th>\n",
       "      <td>0.000000</td>\n",
       "      <td>0.202055</td>\n",
       "      <td>0.038795</td>\n",
       "      <td>0.555556</td>\n",
       "      <td>0.875</td>\n",
       "      <td>0.753623</td>\n",
       "      <td>0.433333</td>\n",
       "      <td>0.00000</td>\n",
       "      <td>0.173281</td>\n",
       "      <td>0.0</td>\n",
       "      <td>...</td>\n",
       "      <td>0.324401</td>\n",
       "      <td>0.347725</td>\n",
       "      <td>0.000000</td>\n",
       "      <td>0.000000</td>\n",
       "      <td>0.0</td>\n",
       "      <td>0.0</td>\n",
       "      <td>0.0</td>\n",
       "      <td>0.0</td>\n",
       "      <td>0.363636</td>\n",
       "      <td>0.25</td>\n",
       "    </tr>\n",
       "    <tr>\n",
       "      <th>2</th>\n",
       "      <td>0.235294</td>\n",
       "      <td>0.160959</td>\n",
       "      <td>0.046507</td>\n",
       "      <td>0.666667</td>\n",
       "      <td>0.500</td>\n",
       "      <td>0.934783</td>\n",
       "      <td>0.866667</td>\n",
       "      <td>0.10125</td>\n",
       "      <td>0.086109</td>\n",
       "      <td>0.0</td>\n",
       "      <td>...</td>\n",
       "      <td>0.428773</td>\n",
       "      <td>0.000000</td>\n",
       "      <td>0.076782</td>\n",
       "      <td>0.000000</td>\n",
       "      <td>0.0</td>\n",
       "      <td>0.0</td>\n",
       "      <td>0.0</td>\n",
       "      <td>0.0</td>\n",
       "      <td>0.727273</td>\n",
       "      <td>0.50</td>\n",
       "    </tr>\n",
       "    <tr>\n",
       "      <th>3</th>\n",
       "      <td>0.294118</td>\n",
       "      <td>0.133562</td>\n",
       "      <td>0.038561</td>\n",
       "      <td>0.666667</td>\n",
       "      <td>0.500</td>\n",
       "      <td>0.311594</td>\n",
       "      <td>0.333333</td>\n",
       "      <td>0.00000</td>\n",
       "      <td>0.038271</td>\n",
       "      <td>0.0</td>\n",
       "      <td>...</td>\n",
       "      <td>0.452750</td>\n",
       "      <td>0.000000</td>\n",
       "      <td>0.063985</td>\n",
       "      <td>0.492754</td>\n",
       "      <td>0.0</td>\n",
       "      <td>0.0</td>\n",
       "      <td>0.0</td>\n",
       "      <td>0.0</td>\n",
       "      <td>0.090909</td>\n",
       "      <td>0.00</td>\n",
       "    </tr>\n",
       "    <tr>\n",
       "      <th>4</th>\n",
       "      <td>0.235294</td>\n",
       "      <td>0.215753</td>\n",
       "      <td>0.060576</td>\n",
       "      <td>0.777778</td>\n",
       "      <td>0.500</td>\n",
       "      <td>0.927536</td>\n",
       "      <td>0.833333</td>\n",
       "      <td>0.21875</td>\n",
       "      <td>0.116052</td>\n",
       "      <td>0.0</td>\n",
       "      <td>...</td>\n",
       "      <td>0.589563</td>\n",
       "      <td>0.224037</td>\n",
       "      <td>0.153565</td>\n",
       "      <td>0.000000</td>\n",
       "      <td>0.0</td>\n",
       "      <td>0.0</td>\n",
       "      <td>0.0</td>\n",
       "      <td>0.0</td>\n",
       "      <td>1.000000</td>\n",
       "      <td>0.50</td>\n",
       "    </tr>\n",
       "  </tbody>\n",
       "</table>\n",
       "<p>5 rows × 36 columns</p>\n",
       "</div>"
      ],
      "text/plain": [
       "   MSSubClass  LotFrontage   LotArea  OverallQual  OverallCond  YearBuilt  \\\n",
       "0    0.235294     0.150685  0.033420     0.666667        0.500   0.949275   \n",
       "1    0.000000     0.202055  0.038795     0.555556        0.875   0.753623   \n",
       "2    0.235294     0.160959  0.046507     0.666667        0.500   0.934783   \n",
       "3    0.294118     0.133562  0.038561     0.666667        0.500   0.311594   \n",
       "4    0.235294     0.215753  0.060576     0.777778        0.500   0.927536   \n",
       "\n",
       "   YearRemodAdd  MasVnrArea  BsmtFinSF1  BsmtFinSF2  ...  GarageArea  \\\n",
       "0      0.883333     0.12250    0.125089         0.0  ...    0.386460   \n",
       "1      0.433333     0.00000    0.173281         0.0  ...    0.324401   \n",
       "2      0.866667     0.10125    0.086109         0.0  ...    0.428773   \n",
       "3      0.333333     0.00000    0.038271         0.0  ...    0.452750   \n",
       "4      0.833333     0.21875    0.116052         0.0  ...    0.589563   \n",
       "\n",
       "   WoodDeckSF  OpenPorchSF  EnclosedPorch  3SsnPorch  ScreenPorch  PoolArea  \\\n",
       "0    0.000000     0.111517       0.000000        0.0          0.0       0.0   \n",
       "1    0.347725     0.000000       0.000000        0.0          0.0       0.0   \n",
       "2    0.000000     0.076782       0.000000        0.0          0.0       0.0   \n",
       "3    0.000000     0.063985       0.492754        0.0          0.0       0.0   \n",
       "4    0.224037     0.153565       0.000000        0.0          0.0       0.0   \n",
       "\n",
       "   MiscVal    MoSold  YrSold  \n",
       "0      0.0  0.090909    0.50  \n",
       "1      0.0  0.363636    0.25  \n",
       "2      0.0  0.727273    0.50  \n",
       "3      0.0  0.090909    0.00  \n",
       "4      0.0  1.000000    0.50  \n",
       "\n",
       "[5 rows x 36 columns]"
      ]
     },
     "execution_count": 312,
     "metadata": {},
     "output_type": "execute_result"
    }
   ],
   "source": [
    "scaler = MinMaxScaler()\n",
    "x_norm = pd.DataFrame(scaler.fit_transform(X_no_nans_real), columns=X_no_nans_real.columns)\n",
    "x_norm.head()"
   ]
  },
  {
   "cell_type": "markdown",
   "metadata": {},
   "source": [
    "Ну вот, вроде числовые данные отмастабированы"
   ]
  },
  {
   "cell_type": "markdown",
   "metadata": {},
   "source": [
    "### Задание 4 <a id=\"task24\"></a>"
   ]
  },
  {
   "cell_type": "markdown",
   "metadata": {},
   "source": [
    "Обработайте категориальные признаки. Примените к ним one-hot кодирование. Сколько получилось колонок у итогового датасета?"
   ]
  },
  {
   "cell_type": "code",
   "execution_count": 313,
   "metadata": {},
   "outputs": [],
   "source": [
    "num_features_mask = ~(data_no_nans.dtypes == 'object').values\n",
    "# num_features_mask"
   ]
  },
  {
   "cell_type": "code",
   "execution_count": 314,
   "metadata": {},
   "outputs": [],
   "source": [
    "X_dum = pd.get_dummies(data_no_nans[data_no_nans.columns[~num_features_mask]], drop_first=True)\n",
    "# print(X_dum)\n",
    "\n",
    "X = pd.concat([x_norm, X_dum], axis=1)"
   ]
  },
  {
   "cell_type": "code",
   "execution_count": 315,
   "metadata": {},
   "outputs": [
    {
     "data": {
      "text/html": [
       "<div>\n",
       "<style scoped>\n",
       "    .dataframe tbody tr th:only-of-type {\n",
       "        vertical-align: middle;\n",
       "    }\n",
       "\n",
       "    .dataframe tbody tr th {\n",
       "        vertical-align: top;\n",
       "    }\n",
       "\n",
       "    .dataframe thead th {\n",
       "        text-align: right;\n",
       "    }\n",
       "</style>\n",
       "<table border=\"1\" class=\"dataframe\">\n",
       "  <thead>\n",
       "    <tr style=\"text-align: right;\">\n",
       "      <th></th>\n",
       "      <th>MSSubClass</th>\n",
       "      <th>LotFrontage</th>\n",
       "      <th>LotArea</th>\n",
       "      <th>OverallQual</th>\n",
       "      <th>OverallCond</th>\n",
       "      <th>YearBuilt</th>\n",
       "      <th>YearRemodAdd</th>\n",
       "      <th>MasVnrArea</th>\n",
       "      <th>BsmtFinSF1</th>\n",
       "      <th>BsmtFinSF2</th>\n",
       "      <th>...</th>\n",
       "      <th>SaleType_ConLI</th>\n",
       "      <th>SaleType_ConLw</th>\n",
       "      <th>SaleType_New</th>\n",
       "      <th>SaleType_Oth</th>\n",
       "      <th>SaleType_WD</th>\n",
       "      <th>SaleCondition_AdjLand</th>\n",
       "      <th>SaleCondition_Alloca</th>\n",
       "      <th>SaleCondition_Family</th>\n",
       "      <th>SaleCondition_Normal</th>\n",
       "      <th>SaleCondition_Partial</th>\n",
       "    </tr>\n",
       "  </thead>\n",
       "  <tbody>\n",
       "    <tr>\n",
       "      <th>0</th>\n",
       "      <td>0.235294</td>\n",
       "      <td>0.150685</td>\n",
       "      <td>0.033420</td>\n",
       "      <td>0.666667</td>\n",
       "      <td>0.500</td>\n",
       "      <td>0.949275</td>\n",
       "      <td>0.883333</td>\n",
       "      <td>0.122500</td>\n",
       "      <td>0.125089</td>\n",
       "      <td>0.000000</td>\n",
       "      <td>...</td>\n",
       "      <td>0</td>\n",
       "      <td>0</td>\n",
       "      <td>0</td>\n",
       "      <td>0</td>\n",
       "      <td>1</td>\n",
       "      <td>0</td>\n",
       "      <td>0</td>\n",
       "      <td>0</td>\n",
       "      <td>1</td>\n",
       "      <td>0</td>\n",
       "    </tr>\n",
       "    <tr>\n",
       "      <th>1</th>\n",
       "      <td>0.000000</td>\n",
       "      <td>0.202055</td>\n",
       "      <td>0.038795</td>\n",
       "      <td>0.555556</td>\n",
       "      <td>0.875</td>\n",
       "      <td>0.753623</td>\n",
       "      <td>0.433333</td>\n",
       "      <td>0.000000</td>\n",
       "      <td>0.173281</td>\n",
       "      <td>0.000000</td>\n",
       "      <td>...</td>\n",
       "      <td>0</td>\n",
       "      <td>0</td>\n",
       "      <td>0</td>\n",
       "      <td>0</td>\n",
       "      <td>1</td>\n",
       "      <td>0</td>\n",
       "      <td>0</td>\n",
       "      <td>0</td>\n",
       "      <td>1</td>\n",
       "      <td>0</td>\n",
       "    </tr>\n",
       "    <tr>\n",
       "      <th>2</th>\n",
       "      <td>0.235294</td>\n",
       "      <td>0.160959</td>\n",
       "      <td>0.046507</td>\n",
       "      <td>0.666667</td>\n",
       "      <td>0.500</td>\n",
       "      <td>0.934783</td>\n",
       "      <td>0.866667</td>\n",
       "      <td>0.101250</td>\n",
       "      <td>0.086109</td>\n",
       "      <td>0.000000</td>\n",
       "      <td>...</td>\n",
       "      <td>0</td>\n",
       "      <td>0</td>\n",
       "      <td>0</td>\n",
       "      <td>0</td>\n",
       "      <td>1</td>\n",
       "      <td>0</td>\n",
       "      <td>0</td>\n",
       "      <td>0</td>\n",
       "      <td>1</td>\n",
       "      <td>0</td>\n",
       "    </tr>\n",
       "    <tr>\n",
       "      <th>3</th>\n",
       "      <td>0.294118</td>\n",
       "      <td>0.133562</td>\n",
       "      <td>0.038561</td>\n",
       "      <td>0.666667</td>\n",
       "      <td>0.500</td>\n",
       "      <td>0.311594</td>\n",
       "      <td>0.333333</td>\n",
       "      <td>0.000000</td>\n",
       "      <td>0.038271</td>\n",
       "      <td>0.000000</td>\n",
       "      <td>...</td>\n",
       "      <td>0</td>\n",
       "      <td>0</td>\n",
       "      <td>0</td>\n",
       "      <td>0</td>\n",
       "      <td>1</td>\n",
       "      <td>0</td>\n",
       "      <td>0</td>\n",
       "      <td>0</td>\n",
       "      <td>0</td>\n",
       "      <td>0</td>\n",
       "    </tr>\n",
       "    <tr>\n",
       "      <th>4</th>\n",
       "      <td>0.235294</td>\n",
       "      <td>0.215753</td>\n",
       "      <td>0.060576</td>\n",
       "      <td>0.777778</td>\n",
       "      <td>0.500</td>\n",
       "      <td>0.927536</td>\n",
       "      <td>0.833333</td>\n",
       "      <td>0.218750</td>\n",
       "      <td>0.116052</td>\n",
       "      <td>0.000000</td>\n",
       "      <td>...</td>\n",
       "      <td>0</td>\n",
       "      <td>0</td>\n",
       "      <td>0</td>\n",
       "      <td>0</td>\n",
       "      <td>1</td>\n",
       "      <td>0</td>\n",
       "      <td>0</td>\n",
       "      <td>0</td>\n",
       "      <td>1</td>\n",
       "      <td>0</td>\n",
       "    </tr>\n",
       "    <tr>\n",
       "      <th>...</th>\n",
       "      <td>...</td>\n",
       "      <td>...</td>\n",
       "      <td>...</td>\n",
       "      <td>...</td>\n",
       "      <td>...</td>\n",
       "      <td>...</td>\n",
       "      <td>...</td>\n",
       "      <td>...</td>\n",
       "      <td>...</td>\n",
       "      <td>...</td>\n",
       "      <td>...</td>\n",
       "      <td>...</td>\n",
       "      <td>...</td>\n",
       "      <td>...</td>\n",
       "      <td>...</td>\n",
       "      <td>...</td>\n",
       "      <td>...</td>\n",
       "      <td>...</td>\n",
       "      <td>...</td>\n",
       "      <td>...</td>\n",
       "      <td>...</td>\n",
       "    </tr>\n",
       "    <tr>\n",
       "      <th>1455</th>\n",
       "      <td>0.235294</td>\n",
       "      <td>0.140411</td>\n",
       "      <td>0.030929</td>\n",
       "      <td>0.555556</td>\n",
       "      <td>0.500</td>\n",
       "      <td>0.920290</td>\n",
       "      <td>0.833333</td>\n",
       "      <td>0.000000</td>\n",
       "      <td>0.000000</td>\n",
       "      <td>0.000000</td>\n",
       "      <td>...</td>\n",
       "      <td>0</td>\n",
       "      <td>0</td>\n",
       "      <td>0</td>\n",
       "      <td>0</td>\n",
       "      <td>1</td>\n",
       "      <td>0</td>\n",
       "      <td>0</td>\n",
       "      <td>0</td>\n",
       "      <td>1</td>\n",
       "      <td>0</td>\n",
       "    </tr>\n",
       "    <tr>\n",
       "      <th>1456</th>\n",
       "      <td>0.000000</td>\n",
       "      <td>0.219178</td>\n",
       "      <td>0.055505</td>\n",
       "      <td>0.555556</td>\n",
       "      <td>0.625</td>\n",
       "      <td>0.768116</td>\n",
       "      <td>0.633333</td>\n",
       "      <td>0.074375</td>\n",
       "      <td>0.139972</td>\n",
       "      <td>0.110583</td>\n",
       "      <td>...</td>\n",
       "      <td>0</td>\n",
       "      <td>0</td>\n",
       "      <td>0</td>\n",
       "      <td>0</td>\n",
       "      <td>1</td>\n",
       "      <td>0</td>\n",
       "      <td>0</td>\n",
       "      <td>0</td>\n",
       "      <td>1</td>\n",
       "      <td>0</td>\n",
       "    </tr>\n",
       "    <tr>\n",
       "      <th>1457</th>\n",
       "      <td>0.294118</td>\n",
       "      <td>0.154110</td>\n",
       "      <td>0.036187</td>\n",
       "      <td>0.666667</td>\n",
       "      <td>1.000</td>\n",
       "      <td>0.500000</td>\n",
       "      <td>0.933333</td>\n",
       "      <td>0.000000</td>\n",
       "      <td>0.048724</td>\n",
       "      <td>0.000000</td>\n",
       "      <td>...</td>\n",
       "      <td>0</td>\n",
       "      <td>0</td>\n",
       "      <td>0</td>\n",
       "      <td>0</td>\n",
       "      <td>1</td>\n",
       "      <td>0</td>\n",
       "      <td>0</td>\n",
       "      <td>0</td>\n",
       "      <td>1</td>\n",
       "      <td>0</td>\n",
       "    </tr>\n",
       "    <tr>\n",
       "      <th>1458</th>\n",
       "      <td>0.000000</td>\n",
       "      <td>0.160959</td>\n",
       "      <td>0.039342</td>\n",
       "      <td>0.444444</td>\n",
       "      <td>0.625</td>\n",
       "      <td>0.565217</td>\n",
       "      <td>0.766667</td>\n",
       "      <td>0.000000</td>\n",
       "      <td>0.008682</td>\n",
       "      <td>0.698100</td>\n",
       "      <td>...</td>\n",
       "      <td>0</td>\n",
       "      <td>0</td>\n",
       "      <td>0</td>\n",
       "      <td>0</td>\n",
       "      <td>1</td>\n",
       "      <td>0</td>\n",
       "      <td>0</td>\n",
       "      <td>0</td>\n",
       "      <td>1</td>\n",
       "      <td>0</td>\n",
       "    </tr>\n",
       "    <tr>\n",
       "      <th>1459</th>\n",
       "      <td>0.000000</td>\n",
       "      <td>0.184932</td>\n",
       "      <td>0.040370</td>\n",
       "      <td>0.444444</td>\n",
       "      <td>0.625</td>\n",
       "      <td>0.673913</td>\n",
       "      <td>0.250000</td>\n",
       "      <td>0.000000</td>\n",
       "      <td>0.147059</td>\n",
       "      <td>0.196744</td>\n",
       "      <td>...</td>\n",
       "      <td>0</td>\n",
       "      <td>0</td>\n",
       "      <td>0</td>\n",
       "      <td>0</td>\n",
       "      <td>1</td>\n",
       "      <td>0</td>\n",
       "      <td>0</td>\n",
       "      <td>0</td>\n",
       "      <td>1</td>\n",
       "      <td>0</td>\n",
       "    </tr>\n",
       "  </tbody>\n",
       "</table>\n",
       "<p>1460 rows × 261 columns</p>\n",
       "</div>"
      ],
      "text/plain": [
       "      MSSubClass  LotFrontage   LotArea  OverallQual  OverallCond  YearBuilt  \\\n",
       "0       0.235294     0.150685  0.033420     0.666667        0.500   0.949275   \n",
       "1       0.000000     0.202055  0.038795     0.555556        0.875   0.753623   \n",
       "2       0.235294     0.160959  0.046507     0.666667        0.500   0.934783   \n",
       "3       0.294118     0.133562  0.038561     0.666667        0.500   0.311594   \n",
       "4       0.235294     0.215753  0.060576     0.777778        0.500   0.927536   \n",
       "...          ...          ...       ...          ...          ...        ...   \n",
       "1455    0.235294     0.140411  0.030929     0.555556        0.500   0.920290   \n",
       "1456    0.000000     0.219178  0.055505     0.555556        0.625   0.768116   \n",
       "1457    0.294118     0.154110  0.036187     0.666667        1.000   0.500000   \n",
       "1458    0.000000     0.160959  0.039342     0.444444        0.625   0.565217   \n",
       "1459    0.000000     0.184932  0.040370     0.444444        0.625   0.673913   \n",
       "\n",
       "      YearRemodAdd  MasVnrArea  BsmtFinSF1  BsmtFinSF2  ...  SaleType_ConLI  \\\n",
       "0         0.883333    0.122500    0.125089    0.000000  ...               0   \n",
       "1         0.433333    0.000000    0.173281    0.000000  ...               0   \n",
       "2         0.866667    0.101250    0.086109    0.000000  ...               0   \n",
       "3         0.333333    0.000000    0.038271    0.000000  ...               0   \n",
       "4         0.833333    0.218750    0.116052    0.000000  ...               0   \n",
       "...            ...         ...         ...         ...  ...             ...   \n",
       "1455      0.833333    0.000000    0.000000    0.000000  ...               0   \n",
       "1456      0.633333    0.074375    0.139972    0.110583  ...               0   \n",
       "1457      0.933333    0.000000    0.048724    0.000000  ...               0   \n",
       "1458      0.766667    0.000000    0.008682    0.698100  ...               0   \n",
       "1459      0.250000    0.000000    0.147059    0.196744  ...               0   \n",
       "\n",
       "      SaleType_ConLw  SaleType_New  SaleType_Oth  SaleType_WD  \\\n",
       "0                  0             0             0            1   \n",
       "1                  0             0             0            1   \n",
       "2                  0             0             0            1   \n",
       "3                  0             0             0            1   \n",
       "4                  0             0             0            1   \n",
       "...              ...           ...           ...          ...   \n",
       "1455               0             0             0            1   \n",
       "1456               0             0             0            1   \n",
       "1457               0             0             0            1   \n",
       "1458               0             0             0            1   \n",
       "1459               0             0             0            1   \n",
       "\n",
       "      SaleCondition_AdjLand  SaleCondition_Alloca  SaleCondition_Family  \\\n",
       "0                         0                     0                     0   \n",
       "1                         0                     0                     0   \n",
       "2                         0                     0                     0   \n",
       "3                         0                     0                     0   \n",
       "4                         0                     0                     0   \n",
       "...                     ...                   ...                   ...   \n",
       "1455                      0                     0                     0   \n",
       "1456                      0                     0                     0   \n",
       "1457                      0                     0                     0   \n",
       "1458                      0                     0                     0   \n",
       "1459                      0                     0                     0   \n",
       "\n",
       "      SaleCondition_Normal  SaleCondition_Partial  \n",
       "0                        1                      0  \n",
       "1                        1                      0  \n",
       "2                        1                      0  \n",
       "3                        0                      0  \n",
       "4                        1                      0  \n",
       "...                    ...                    ...  \n",
       "1455                     1                      0  \n",
       "1456                     1                      0  \n",
       "1457                     1                      0  \n",
       "1458                     1                      0  \n",
       "1459                     1                      0  \n",
       "\n",
       "[1460 rows x 261 columns]"
      ]
     },
     "execution_count": 315,
     "metadata": {},
     "output_type": "execute_result"
    }
   ],
   "source": [
    "X"
   ]
  },
  {
   "cell_type": "markdown",
   "metadata": {},
   "source": [
    "Было изначально 80 колонок, теперь их 261"
   ]
  },
  {
   "cell_type": "markdown",
   "metadata": {},
   "source": [
    "### Задание 5 <a id=\"task25\"></a>"
   ]
  },
  {
   "cell_type": "markdown",
   "metadata": {},
   "source": [
    "- Постройте гистограмму распределения предсказываемого значения. \n",
    "- Для избавления от разницы в масштабах, а также «смещения» распределения переменной в сторону нормального (что бывает полезно при статистическом анализе), можно прологарифмировать ее (это обратимое преобразование, поэтому целевую переменную легко восстановить). В данном случае воспользуйтесь `np.log1p`, чтобы сделать преобразование $y \\to \\ln\\left(1 + y\\right)$. \n",
    "- Постройте гистограмму распределения от нового предсказываемого значения. Опишите наблюдения.\n",
    "\n",
    "*В дальнейшем используйте в качестве предсказываемого значения вектор, который получился после логарифмирования.*"
   ]
  },
  {
   "cell_type": "code",
   "execution_count": 316,
   "metadata": {},
   "outputs": [
    {
     "data": {
      "text/plain": [
       "<AxesSubplot:>"
      ]
     },
     "execution_count": 316,
     "metadata": {},
     "output_type": "execute_result"
    },
    {
     "data": {
      "image/png": "[encoded data removed]",
      "text/plain": [
       "<Figure size 432x288 with 1 Axes>"
      ]
     },
     "metadata": {
      "needs_background": "light"
     },
     "output_type": "display_data"
    }
   ],
   "source": [
    "y = data_real['SalePrice']\n",
    "y.hist()"
   ]
  },
  {
   "cell_type": "code",
   "execution_count": 317,
   "metadata": {},
   "outputs": [
    {
     "data": {
      "text/plain": [
       "<AxesSubplot:>"
      ]
     },
     "execution_count": 317,
     "metadata": {},
     "output_type": "execute_result"
    },
    {
     "data": {
      "image/png": "[encoded data removed]",
      "text/plain": [
       "<Figure size 432x288 with 1 Axes>"
      ]
     },
     "metadata": {
      "needs_background": "light"
     },
     "output_type": "display_data"
    }
   ],
   "source": [
    "y = np.log1p(y)\n",
    "y.hist()"
   ]
  },
  {
   "cell_type": "markdown",
   "metadata": {},
   "source": [
    "``` Опишите свои наблюдения.```"
   ]
  },
  {
   "cell_type": "markdown",
   "metadata": {},
   "source": [
    "Прикольно: распределение предсказываемых значений стало более похоже на нормальное, значения стали \"центрированнее\" и приведены к более \"спокойной\" шкале. Мне нравится )"
   ]
  },
  {
   "cell_type": "markdown",
   "metadata": {},
   "source": [
    "---\n",
    "Перейдем непосредственно к построению моделей. Разобьем выборку на обучение и контроль."
   ]
  },
  {
   "cell_type": "code",
   "execution_count": 122,
   "metadata": {},
   "outputs": [],
   "source": [
    "# X_train, X_val, y_train, y_val = train_test_split(data.drop('SalePrice', axis=1), np.log1p(data['SalePrice']), random_state=13)"
   ]
  },
  {
   "cell_type": "code",
   "execution_count": 123,
   "metadata": {},
   "outputs": [
    {
     "data": {
      "text/plain": [
       "((1095, 79), (365, 79), (1095,), (365,))"
      ]
     },
     "execution_count": 123,
     "metadata": {},
     "output_type": "execute_result"
    }
   ],
   "source": [
    "# X_train.shape, X_val.shape, y_train.shape, y_val.shape"
   ]
  },
  {
   "cell_type": "code",
   "execution_count": 325,
   "metadata": {},
   "outputs": [],
   "source": [
    "X_train, X_val, y_train, y_val = train_test_split(X, y, random_state=13)"
   ]
  },
  {
   "cell_type": "code",
   "execution_count": 326,
   "metadata": {},
   "outputs": [
    {
     "data": {
      "text/plain": [
       "((1095, 261), (365, 261), (1095,), (365,))"
      ]
     },
     "execution_count": 326,
     "metadata": {},
     "output_type": "execute_result"
    }
   ],
   "source": [
    "X_train.shape, X_val.shape, y_train.shape, y_val.shape"
   ]
  },
  {
   "cell_type": "markdown",
   "metadata": {},
   "source": [
    "### Задание 6 <a id=\"task26\"></a>"
   ]
  },
  {
   "cell_type": "markdown",
   "metadata": {},
   "source": [
    "Перейдем к построению моделей машинного обучения с помощью `sklearn`. Обучите модель линейной регрессии на обучающей выборке и оцените качество по метрике **Root** Mean Squared Error (корень из MSE) на обучающей и валидационной выборках. Что вы наблюдаете? Как вы можете объяснить такой результат?"
   ]
  },
  {
   "cell_type": "code",
   "execution_count": 327,
   "metadata": {},
   "outputs": [
    {
     "name": "stdout",
     "output_type": "stream",
     "text": [
      "7004931589.523182\n"
     ]
    }
   ],
   "source": [
    "# инициализация модели\n",
    "lr = LinearRegression() \n",
    "\n",
    "# обучение на обучающей выборке (метод `fit`)\n",
    "lr.fit(X_train, y_train) \n",
    "\n",
    "# чтобы сделать прогноз используют метод `predict`\n",
    "y_predicted_lr = lr.predict(X_val) \n",
    "\n",
    "# теперь можно посчитать ошибку\n",
    "error = np.mean( (y_predicted_lr - y_val)**2 )\n",
    "print(error**0.5)\n",
    "# print(y_predicted)"
   ]
  },
  {
   "cell_type": "markdown",
   "metadata": {},
   "source": [
    "``` Опишите свои наблюдения.```"
   ]
  },
  {
   "cell_type": "markdown",
   "metadata": {},
   "source": [
    "Значение ошибки в млн. USD?? Я как-то не уверен что такая модель кому-то может быть полезна. Скорее всего это связано с тем, что мы приводили прогнозируемый вектор значений в логарифмическую шкалу, и в ошибках  уже не доллары... а что? Видимо нужно делать обратное преобразование значений, но твердой уверенности в этом нет. Короче, что-то с пониманием полученного не очень."
   ]
  },
  {
   "cell_type": "markdown",
   "metadata": {},
   "source": [
    "### Задание 7 <a id=\"task27\"></a>"
   ]
  },
  {
   "cell_type": "markdown",
   "metadata": {},
   "source": [
    "Теперь примените методы линейной регрессии с регуляризацией - Lasso (L1) и Ridge (L2). \n",
    "\n",
    "Для подбора коэффициента регуляризации будем использовать кросс-валидацию (вспомните, что такое кросс-валидация и зачем она нужна). \n",
    "\n",
    "`GridSearchCV` - это метод, который перебирает значения гиперпараметров (по заданной «сетке»), считает для каждого качество на кросс-валидации и позволяет выбрать лучший гиперпараметр. Более подробно вы можете познакомиться с методом в [документаци](https://scikit-learn.org/stable/modules/generated/sklearn.model_selection.GridSearchCV.html).\n",
    "\n",
    "1. Прочитайте документацию `sklearn.model_selection.GridSearchCV`\n",
    "2. Подбирите оптимальный гиперпараметр для LASSO:\n",
    "    - В качестве сетки используйте `np.logspace(-5, 1)`\n",
    "    - Используйте 5-Fold Cross-Validation\n",
    "3. Используя оптимельное значение гиперпаметра обучите модель на всей обучающей выборке, посчитайте ошибку на тренировочной и обучающей выборках\n",
    "4. Повторите п. 2-3 для модели Ridge"
   ]
  },
  {
   "cell_type": "markdown",
   "metadata": {},
   "source": [
    "#### Lasso (регуляризация L1)"
   ]
  },
  {
   "cell_type": "code",
   "execution_count": 328,
   "metadata": {},
   "outputs": [
    {
     "name": "stderr",
     "output_type": "stream",
     "text": [
      "C:\\Users\\maxle\\anaconda3\\lib\\site-packages\\sklearn\\linear_model\\_coordinate_descent.py:529: ConvergenceWarning: Objective did not converge. You might want to increase the number of iterations. Duality gap: 12.912857473237068, tolerance: 0.01402794191111797\n",
      "  model = cd_fast.enet_coordinate_descent(\n",
      "C:\\Users\\maxle\\anaconda3\\lib\\site-packages\\sklearn\\linear_model\\_coordinate_descent.py:529: ConvergenceWarning: Objective did not converge. You might want to increase the number of iterations. Duality gap: 12.618053773986988, tolerance: 0.014015897814864153\n",
      "  model = cd_fast.enet_coordinate_descent(\n",
      "C:\\Users\\maxle\\anaconda3\\lib\\site-packages\\sklearn\\linear_model\\_coordinate_descent.py:529: ConvergenceWarning: Objective did not converge. You might want to increase the number of iterations. Duality gap: 13.149384695357035, tolerance: 0.013829800883236269\n",
      "  model = cd_fast.enet_coordinate_descent(\n",
      "C:\\Users\\maxle\\anaconda3\\lib\\site-packages\\sklearn\\linear_model\\_coordinate_descent.py:529: ConvergenceWarning: Objective did not converge. You might want to increase the number of iterations. Duality gap: 13.22085488329411, tolerance: 0.01384998620523727\n",
      "  model = cd_fast.enet_coordinate_descent(\n",
      "C:\\Users\\maxle\\anaconda3\\lib\\site-packages\\sklearn\\linear_model\\_coordinate_descent.py:529: ConvergenceWarning: Objective did not converge. You might want to increase the number of iterations. Duality gap: 12.73648409355203, tolerance: 0.013231675079835132\n",
      "  model = cd_fast.enet_coordinate_descent(\n",
      "C:\\Users\\maxle\\anaconda3\\lib\\site-packages\\sklearn\\linear_model\\_coordinate_descent.py:529: ConvergenceWarning: Objective did not converge. You might want to increase the number of iterations. Duality gap: 4.890663402675112, tolerance: 0.01402794191111797\n",
      "  model = cd_fast.enet_coordinate_descent(\n",
      "C:\\Users\\maxle\\anaconda3\\lib\\site-packages\\sklearn\\linear_model\\_coordinate_descent.py:529: ConvergenceWarning: Objective did not converge. You might want to increase the number of iterations. Duality gap: 4.945922952681912, tolerance: 0.014015897814864153\n",
      "  model = cd_fast.enet_coordinate_descent(\n",
      "C:\\Users\\maxle\\anaconda3\\lib\\site-packages\\sklearn\\linear_model\\_coordinate_descent.py:529: ConvergenceWarning: Objective did not converge. You might want to increase the number of iterations. Duality gap: 4.991622599453958, tolerance: 0.013829800883236269\n",
      "  model = cd_fast.enet_coordinate_descent(\n",
      "C:\\Users\\maxle\\anaconda3\\lib\\site-packages\\sklearn\\linear_model\\_coordinate_descent.py:529: ConvergenceWarning: Objective did not converge. You might want to increase the number of iterations. Duality gap: 5.287018254109748, tolerance: 0.01384998620523727\n",
      "  model = cd_fast.enet_coordinate_descent(\n",
      "C:\\Users\\maxle\\anaconda3\\lib\\site-packages\\sklearn\\linear_model\\_coordinate_descent.py:529: ConvergenceWarning: Objective did not converge. You might want to increase the number of iterations. Duality gap: 4.939794345370135, tolerance: 0.013231675079835132\n",
      "  model = cd_fast.enet_coordinate_descent(\n",
      "C:\\Users\\maxle\\anaconda3\\lib\\site-packages\\sklearn\\linear_model\\_coordinate_descent.py:529: ConvergenceWarning: Objective did not converge. You might want to increase the number of iterations. Duality gap: 3.8233482059252744, tolerance: 0.01402794191111797\n",
      "  model = cd_fast.enet_coordinate_descent(\n",
      "C:\\Users\\maxle\\anaconda3\\lib\\site-packages\\sklearn\\linear_model\\_coordinate_descent.py:529: ConvergenceWarning: Objective did not converge. You might want to increase the number of iterations. Duality gap: 3.8963883885851276, tolerance: 0.014015897814864153\n",
      "  model = cd_fast.enet_coordinate_descent(\n",
      "C:\\Users\\maxle\\anaconda3\\lib\\site-packages\\sklearn\\linear_model\\_coordinate_descent.py:529: ConvergenceWarning: Objective did not converge. You might want to increase the number of iterations. Duality gap: 3.870277135191305, tolerance: 0.013829800883236269\n",
      "  model = cd_fast.enet_coordinate_descent(\n",
      "C:\\Users\\maxle\\anaconda3\\lib\\site-packages\\sklearn\\linear_model\\_coordinate_descent.py:529: ConvergenceWarning: Objective did not converge. You might want to increase the number of iterations. Duality gap: 4.173316803945143, tolerance: 0.01384998620523727\n",
      "  model = cd_fast.enet_coordinate_descent(\n",
      "C:\\Users\\maxle\\anaconda3\\lib\\site-packages\\sklearn\\linear_model\\_coordinate_descent.py:529: ConvergenceWarning: Objective did not converge. You might want to increase the number of iterations. Duality gap: 3.8366457255834363, tolerance: 0.013231675079835132\n",
      "  model = cd_fast.enet_coordinate_descent(\n",
      "C:\\Users\\maxle\\anaconda3\\lib\\site-packages\\sklearn\\linear_model\\_coordinate_descent.py:529: ConvergenceWarning: Objective did not converge. You might want to increase the number of iterations. Duality gap: 2.6296817710367333, tolerance: 0.01402794191111797\n",
      "  model = cd_fast.enet_coordinate_descent(\n",
      "C:\\Users\\maxle\\anaconda3\\lib\\site-packages\\sklearn\\linear_model\\_coordinate_descent.py:529: ConvergenceWarning: Objective did not converge. You might want to increase the number of iterations. Duality gap: 2.5936155968648973, tolerance: 0.014015897814864153\n",
      "  model = cd_fast.enet_coordinate_descent(\n",
      "C:\\Users\\maxle\\anaconda3\\lib\\site-packages\\sklearn\\linear_model\\_coordinate_descent.py:529: ConvergenceWarning: Objective did not converge. You might want to increase the number of iterations. Duality gap: 2.567683317004036, tolerance: 0.013829800883236269\n",
      "  model = cd_fast.enet_coordinate_descent(\n",
      "C:\\Users\\maxle\\anaconda3\\lib\\site-packages\\sklearn\\linear_model\\_coordinate_descent.py:529: ConvergenceWarning: Objective did not converge. You might want to increase the number of iterations. Duality gap: 2.791568805458471, tolerance: 0.01384998620523727\n",
      "  model = cd_fast.enet_coordinate_descent(\n",
      "C:\\Users\\maxle\\anaconda3\\lib\\site-packages\\sklearn\\linear_model\\_coordinate_descent.py:529: ConvergenceWarning: Objective did not converge. You might want to increase the number of iterations. Duality gap: 2.4565499921333522, tolerance: 0.013231675079835132\n",
      "  model = cd_fast.enet_coordinate_descent(\n",
      "C:\\Users\\maxle\\anaconda3\\lib\\site-packages\\sklearn\\linear_model\\_coordinate_descent.py:529: ConvergenceWarning: Objective did not converge. You might want to increase the number of iterations. Duality gap: 0.01574407269570699, tolerance: 0.013231675079835132\n",
      "  model = cd_fast.enet_coordinate_descent(\n",
      "C:\\Users\\maxle\\anaconda3\\lib\\site-packages\\sklearn\\linear_model\\_coordinate_descent.py:529: ConvergenceWarning: Objective did not converge. You might want to increase the number of iterations. Duality gap: 12.963398083690613, tolerance: 0.01402794191111797\n",
      "  model = cd_fast.enet_coordinate_descent(\n",
      "C:\\Users\\maxle\\anaconda3\\lib\\site-packages\\sklearn\\linear_model\\_coordinate_descent.py:529: ConvergenceWarning: Objective did not converge. You might want to increase the number of iterations. Duality gap: 12.67111094520856, tolerance: 0.014015897814864153\n",
      "  model = cd_fast.enet_coordinate_descent(\n",
      "C:\\Users\\maxle\\anaconda3\\lib\\site-packages\\sklearn\\linear_model\\_coordinate_descent.py:529: ConvergenceWarning: Objective did not converge. You might want to increase the number of iterations. Duality gap: 13.19469748731654, tolerance: 0.013829800883236269\n",
      "  model = cd_fast.enet_coordinate_descent(\n",
      "C:\\Users\\maxle\\anaconda3\\lib\\site-packages\\sklearn\\linear_model\\_coordinate_descent.py:529: ConvergenceWarning: Objective did not converge. You might want to increase the number of iterations. Duality gap: 13.266996805026773, tolerance: 0.01384998620523727\n",
      "  model = cd_fast.enet_coordinate_descent(\n",
      "C:\\Users\\maxle\\anaconda3\\lib\\site-packages\\sklearn\\linear_model\\_coordinate_descent.py:529: ConvergenceWarning: Objective did not converge. You might want to increase the number of iterations. Duality gap: 12.782809413605754, tolerance: 0.013231675079835132\n",
      "  model = cd_fast.enet_coordinate_descent(\n",
      "C:\\Users\\maxle\\anaconda3\\lib\\site-packages\\sklearn\\linear_model\\_coordinate_descent.py:529: ConvergenceWarning: Objective did not converge. You might want to increase the number of iterations. Duality gap: 4.934495494185122, tolerance: 0.01402794191111797\n",
      "  model = cd_fast.enet_coordinate_descent(\n",
      "C:\\Users\\maxle\\anaconda3\\lib\\site-packages\\sklearn\\linear_model\\_coordinate_descent.py:529: ConvergenceWarning: Objective did not converge. You might want to increase the number of iterations. Duality gap: 4.991054074821563, tolerance: 0.014015897814864153\n",
      "  model = cd_fast.enet_coordinate_descent(\n",
      "C:\\Users\\maxle\\anaconda3\\lib\\site-packages\\sklearn\\linear_model\\_coordinate_descent.py:529: ConvergenceWarning: Objective did not converge. You might want to increase the number of iterations. Duality gap: 5.03222234749207, tolerance: 0.013829800883236269\n",
      "  model = cd_fast.enet_coordinate_descent(\n",
      "C:\\Users\\maxle\\anaconda3\\lib\\site-packages\\sklearn\\linear_model\\_coordinate_descent.py:529: ConvergenceWarning: Objective did not converge. You might want to increase the number of iterations. Duality gap: 5.327670544781715, tolerance: 0.01384998620523727\n",
      "  model = cd_fast.enet_coordinate_descent(\n",
      "C:\\Users\\maxle\\anaconda3\\lib\\site-packages\\sklearn\\linear_model\\_coordinate_descent.py:529: ConvergenceWarning: Objective did not converge. You might want to increase the number of iterations. Duality gap: 4.981106402109303, tolerance: 0.013231675079835132\n",
      "  model = cd_fast.enet_coordinate_descent(\n",
      "C:\\Users\\maxle\\anaconda3\\lib\\site-packages\\sklearn\\linear_model\\_coordinate_descent.py:529: ConvergenceWarning: Objective did not converge. You might want to increase the number of iterations. Duality gap: 3.8673282272038714, tolerance: 0.01402794191111797\n",
      "  model = cd_fast.enet_coordinate_descent(\n",
      "C:\\Users\\maxle\\anaconda3\\lib\\site-packages\\sklearn\\linear_model\\_coordinate_descent.py:529: ConvergenceWarning: Objective did not converge. You might want to increase the number of iterations. Duality gap: 3.939450154628142, tolerance: 0.014015897814864153\n",
      "  model = cd_fast.enet_coordinate_descent(\n",
      "C:\\Users\\maxle\\anaconda3\\lib\\site-packages\\sklearn\\linear_model\\_coordinate_descent.py:529: ConvergenceWarning: Objective did not converge. You might want to increase the number of iterations. Duality gap: 3.9079834626418473, tolerance: 0.013829800883236269\n",
      "  model = cd_fast.enet_coordinate_descent(\n",
      "C:\\Users\\maxle\\anaconda3\\lib\\site-packages\\sklearn\\linear_model\\_coordinate_descent.py:529: ConvergenceWarning: Objective did not converge. You might want to increase the number of iterations. Duality gap: 4.2100743192547, tolerance: 0.01384998620523727\n",
      "  model = cd_fast.enet_coordinate_descent(\n",
      "C:\\Users\\maxle\\anaconda3\\lib\\site-packages\\sklearn\\linear_model\\_coordinate_descent.py:529: ConvergenceWarning: Objective did not converge. You might want to increase the number of iterations. Duality gap: 3.8745607584017954, tolerance: 0.013231675079835132\n",
      "  model = cd_fast.enet_coordinate_descent(\n",
      "C:\\Users\\maxle\\anaconda3\\lib\\site-packages\\sklearn\\linear_model\\_coordinate_descent.py:529: ConvergenceWarning: Objective did not converge. You might want to increase the number of iterations. Duality gap: 2.581829093819161, tolerance: 0.01402794191111797\n",
      "  model = cd_fast.enet_coordinate_descent(\n",
      "C:\\Users\\maxle\\anaconda3\\lib\\site-packages\\sklearn\\linear_model\\_coordinate_descent.py:529: ConvergenceWarning: Objective did not converge. You might want to increase the number of iterations. Duality gap: 2.519064988133668, tolerance: 0.014015897814864153\n",
      "  model = cd_fast.enet_coordinate_descent(\n",
      "C:\\Users\\maxle\\anaconda3\\lib\\site-packages\\sklearn\\linear_model\\_coordinate_descent.py:529: ConvergenceWarning: Objective did not converge. You might want to increase the number of iterations. Duality gap: 2.5334695159603227, tolerance: 0.013829800883236269\n",
      "  model = cd_fast.enet_coordinate_descent(\n",
      "C:\\Users\\maxle\\anaconda3\\lib\\site-packages\\sklearn\\linear_model\\_coordinate_descent.py:529: ConvergenceWarning: Objective did not converge. You might want to increase the number of iterations. Duality gap: 2.717803447664438, tolerance: 0.01384998620523727\n",
      "  model = cd_fast.enet_coordinate_descent(\n"
     ]
    },
    {
     "name": "stderr",
     "output_type": "stream",
     "text": [
      "C:\\Users\\maxle\\anaconda3\\lib\\site-packages\\sklearn\\linear_model\\_coordinate_descent.py:529: ConvergenceWarning: Objective did not converge. You might want to increase the number of iterations. Duality gap: 2.342899054923573, tolerance: 0.013231675079835132\n",
      "  model = cd_fast.enet_coordinate_descent(\n",
      "C:\\Users\\maxle\\anaconda3\\lib\\site-packages\\sklearn\\linear_model\\_coordinate_descent.py:529: ConvergenceWarning: Objective did not converge. You might want to increase the number of iterations. Duality gap: 0.059367778503442103, tolerance: 0.013231675079835132\n",
      "  model = cd_fast.enet_coordinate_descent(\n",
      "C:\\Users\\maxle\\anaconda3\\lib\\site-packages\\sklearn\\linear_model\\_coordinate_descent.py:529: ConvergenceWarning: Objective did not converge. You might want to increase the number of iterations. Duality gap: 13.029703187451407, tolerance: 0.01402794191111797\n",
      "  model = cd_fast.enet_coordinate_descent(\n",
      "C:\\Users\\maxle\\anaconda3\\lib\\site-packages\\sklearn\\linear_model\\_coordinate_descent.py:529: ConvergenceWarning: Objective did not converge. You might want to increase the number of iterations. Duality gap: 12.740837940871772, tolerance: 0.014015897814864153\n",
      "  model = cd_fast.enet_coordinate_descent(\n",
      "C:\\Users\\maxle\\anaconda3\\lib\\site-packages\\sklearn\\linear_model\\_coordinate_descent.py:529: ConvergenceWarning: Objective did not converge. You might want to increase the number of iterations. Duality gap: 13.25428106436038, tolerance: 0.013829800883236269\n",
      "  model = cd_fast.enet_coordinate_descent(\n",
      "C:\\Users\\maxle\\anaconda3\\lib\\site-packages\\sklearn\\linear_model\\_coordinate_descent.py:529: ConvergenceWarning: Objective did not converge. You might want to increase the number of iterations. Duality gap: 13.327339630141854, tolerance: 0.01384998620523727\n",
      "  model = cd_fast.enet_coordinate_descent(\n",
      "C:\\Users\\maxle\\anaconda3\\lib\\site-packages\\sklearn\\linear_model\\_coordinate_descent.py:529: ConvergenceWarning: Objective did not converge. You might want to increase the number of iterations. Duality gap: 12.843600424951722, tolerance: 0.013231675079835132\n",
      "  model = cd_fast.enet_coordinate_descent(\n",
      "C:\\Users\\maxle\\anaconda3\\lib\\site-packages\\sklearn\\linear_model\\_coordinate_descent.py:529: ConvergenceWarning: Objective did not converge. You might want to increase the number of iterations. Duality gap: 4.991053397638339, tolerance: 0.01402794191111797\n",
      "  model = cd_fast.enet_coordinate_descent(\n",
      "C:\\Users\\maxle\\anaconda3\\lib\\site-packages\\sklearn\\linear_model\\_coordinate_descent.py:529: ConvergenceWarning: Objective did not converge. You might want to increase the number of iterations. Duality gap: 5.049241386219579, tolerance: 0.014015897814864153\n",
      "  model = cd_fast.enet_coordinate_descent(\n",
      "C:\\Users\\maxle\\anaconda3\\lib\\site-packages\\sklearn\\linear_model\\_coordinate_descent.py:529: ConvergenceWarning: Objective did not converge. You might want to increase the number of iterations. Duality gap: 5.08521721040617, tolerance: 0.013829800883236269\n",
      "  model = cd_fast.enet_coordinate_descent(\n",
      "C:\\Users\\maxle\\anaconda3\\lib\\site-packages\\sklearn\\linear_model\\_coordinate_descent.py:529: ConvergenceWarning: Objective did not converge. You might want to increase the number of iterations. Duality gap: 5.3806228474884765, tolerance: 0.01384998620523727\n",
      "  model = cd_fast.enet_coordinate_descent(\n",
      "C:\\Users\\maxle\\anaconda3\\lib\\site-packages\\sklearn\\linear_model\\_coordinate_descent.py:529: ConvergenceWarning: Objective did not converge. You might want to increase the number of iterations. Duality gap: 5.034474533576496, tolerance: 0.013231675079835132\n",
      "  model = cd_fast.enet_coordinate_descent(\n",
      "C:\\Users\\maxle\\anaconda3\\lib\\site-packages\\sklearn\\linear_model\\_coordinate_descent.py:529: ConvergenceWarning: Objective did not converge. You might want to increase the number of iterations. Duality gap: 3.924512879100357, tolerance: 0.01402794191111797\n",
      "  model = cd_fast.enet_coordinate_descent(\n",
      "C:\\Users\\maxle\\anaconda3\\lib\\site-packages\\sklearn\\linear_model\\_coordinate_descent.py:529: ConvergenceWarning: Objective did not converge. You might want to increase the number of iterations. Duality gap: 3.995446527432314, tolerance: 0.014015897814864153\n",
      "  model = cd_fast.enet_coordinate_descent(\n",
      "C:\\Users\\maxle\\anaconda3\\lib\\site-packages\\sklearn\\linear_model\\_coordinate_descent.py:529: ConvergenceWarning: Objective did not converge. You might want to increase the number of iterations. Duality gap: 3.9565543355259654, tolerance: 0.013829800883236269\n",
      "  model = cd_fast.enet_coordinate_descent(\n",
      "C:\\Users\\maxle\\anaconda3\\lib\\site-packages\\sklearn\\linear_model\\_coordinate_descent.py:529: ConvergenceWarning: Objective did not converge. You might want to increase the number of iterations. Duality gap: 4.257361954084888, tolerance: 0.01384998620523727\n",
      "  model = cd_fast.enet_coordinate_descent(\n",
      "C:\\Users\\maxle\\anaconda3\\lib\\site-packages\\sklearn\\linear_model\\_coordinate_descent.py:529: ConvergenceWarning: Objective did not converge. You might want to increase the number of iterations. Duality gap: 3.9245627792394986, tolerance: 0.013231675079835132\n",
      "  model = cd_fast.enet_coordinate_descent(\n",
      "C:\\Users\\maxle\\anaconda3\\lib\\site-packages\\sklearn\\linear_model\\_coordinate_descent.py:529: ConvergenceWarning: Objective did not converge. You might want to increase the number of iterations. Duality gap: 2.521362465409697, tolerance: 0.01402794191111797\n",
      "  model = cd_fast.enet_coordinate_descent(\n",
      "C:\\Users\\maxle\\anaconda3\\lib\\site-packages\\sklearn\\linear_model\\_coordinate_descent.py:529: ConvergenceWarning: Objective did not converge. You might want to increase the number of iterations. Duality gap: 2.4207990639993993, tolerance: 0.014015897814864153\n",
      "  model = cd_fast.enet_coordinate_descent(\n",
      "C:\\Users\\maxle\\anaconda3\\lib\\site-packages\\sklearn\\linear_model\\_coordinate_descent.py:529: ConvergenceWarning: Objective did not converge. You might want to increase the number of iterations. Duality gap: 2.4894640928325082, tolerance: 0.013829800883236269\n",
      "  model = cd_fast.enet_coordinate_descent(\n",
      "C:\\Users\\maxle\\anaconda3\\lib\\site-packages\\sklearn\\linear_model\\_coordinate_descent.py:529: ConvergenceWarning: Objective did not converge. You might want to increase the number of iterations. Duality gap: 2.624819929417253, tolerance: 0.01384998620523727\n",
      "  model = cd_fast.enet_coordinate_descent(\n",
      "C:\\Users\\maxle\\anaconda3\\lib\\site-packages\\sklearn\\linear_model\\_coordinate_descent.py:529: ConvergenceWarning: Objective did not converge. You might want to increase the number of iterations. Duality gap: 2.1928104395369186, tolerance: 0.013231675079835132\n",
      "  model = cd_fast.enet_coordinate_descent(\n",
      "C:\\Users\\maxle\\anaconda3\\lib\\site-packages\\sklearn\\linear_model\\_coordinate_descent.py:529: ConvergenceWarning: Objective did not converge. You might want to increase the number of iterations. Duality gap: 0.013796669436198172, tolerance: 0.013231675079835132\n",
      "  model = cd_fast.enet_coordinate_descent(\n",
      "C:\\Users\\maxle\\anaconda3\\lib\\site-packages\\sklearn\\linear_model\\_coordinate_descent.py:529: ConvergenceWarning: Objective did not converge. You might want to increase the number of iterations. Duality gap: 13.116284139407043, tolerance: 0.01402794191111797\n",
      "  model = cd_fast.enet_coordinate_descent(\n",
      "C:\\Users\\maxle\\anaconda3\\lib\\site-packages\\sklearn\\linear_model\\_coordinate_descent.py:529: ConvergenceWarning: Objective did not converge. You might want to increase the number of iterations. Duality gap: 12.832013429915916, tolerance: 0.014015897814864153\n",
      "  model = cd_fast.enet_coordinate_descent(\n",
      "C:\\Users\\maxle\\anaconda3\\lib\\site-packages\\sklearn\\linear_model\\_coordinate_descent.py:529: ConvergenceWarning: Objective did not converge. You might want to increase the number of iterations. Duality gap: 13.33231244987972, tolerance: 0.013829800883236269\n",
      "  model = cd_fast.enet_coordinate_descent(\n",
      "C:\\Users\\maxle\\anaconda3\\lib\\site-packages\\sklearn\\linear_model\\_coordinate_descent.py:529: ConvergenceWarning: Objective did not converge. You might want to increase the number of iterations. Duality gap: 13.406134291888147, tolerance: 0.01384998620523727\n",
      "  model = cd_fast.enet_coordinate_descent(\n",
      "C:\\Users\\maxle\\anaconda3\\lib\\site-packages\\sklearn\\linear_model\\_coordinate_descent.py:529: ConvergenceWarning: Objective did not converge. You might want to increase the number of iterations. Duality gap: 12.923020158745025, tolerance: 0.013231675079835132\n",
      "  model = cd_fast.enet_coordinate_descent(\n",
      "C:\\Users\\maxle\\anaconda3\\lib\\site-packages\\sklearn\\linear_model\\_coordinate_descent.py:529: ConvergenceWarning: Objective did not converge. You might want to increase the number of iterations. Duality gap: 5.063949717937078, tolerance: 0.01402794191111797\n",
      "  model = cd_fast.enet_coordinate_descent(\n",
      "C:\\Users\\maxle\\anaconda3\\lib\\site-packages\\sklearn\\linear_model\\_coordinate_descent.py:529: ConvergenceWarning: Objective did not converge. You might want to increase the number of iterations. Duality gap: 5.12433813284688, tolerance: 0.014015897814864153\n",
      "  model = cd_fast.enet_coordinate_descent(\n",
      "C:\\Users\\maxle\\anaconda3\\lib\\site-packages\\sklearn\\linear_model\\_coordinate_descent.py:529: ConvergenceWarning: Objective did not converge. You might want to increase the number of iterations. Duality gap: 5.152234775389124, tolerance: 0.013829800883236269\n",
      "  model = cd_fast.enet_coordinate_descent(\n",
      "C:\\Users\\maxle\\anaconda3\\lib\\site-packages\\sklearn\\linear_model\\_coordinate_descent.py:529: ConvergenceWarning: Objective did not converge. You might want to increase the number of iterations. Duality gap: 5.450230717703925, tolerance: 0.01384998620523727\n",
      "  model = cd_fast.enet_coordinate_descent(\n",
      "C:\\Users\\maxle\\anaconda3\\lib\\site-packages\\sklearn\\linear_model\\_coordinate_descent.py:529: ConvergenceWarning: Objective did not converge. You might want to increase the number of iterations. Duality gap: 5.102314327386246, tolerance: 0.013231675079835132\n",
      "  model = cd_fast.enet_coordinate_descent(\n",
      "C:\\Users\\maxle\\anaconda3\\lib\\site-packages\\sklearn\\linear_model\\_coordinate_descent.py:529: ConvergenceWarning: Objective did not converge. You might want to increase the number of iterations. Duality gap: 3.9973421610528725, tolerance: 0.01402794191111797\n",
      "  model = cd_fast.enet_coordinate_descent(\n",
      "C:\\Users\\maxle\\anaconda3\\lib\\site-packages\\sklearn\\linear_model\\_coordinate_descent.py:529: ConvergenceWarning: Objective did not converge. You might want to increase the number of iterations. Duality gap: 4.066777309853205, tolerance: 0.014015897814864153\n",
      "  model = cd_fast.enet_coordinate_descent(\n",
      "C:\\Users\\maxle\\anaconda3\\lib\\site-packages\\sklearn\\linear_model\\_coordinate_descent.py:529: ConvergenceWarning: Objective did not converge. You might want to increase the number of iterations. Duality gap: 4.018618821444691, tolerance: 0.013829800883236269\n",
      "  model = cd_fast.enet_coordinate_descent(\n",
      "C:\\Users\\maxle\\anaconda3\\lib\\site-packages\\sklearn\\linear_model\\_coordinate_descent.py:529: ConvergenceWarning: Objective did not converge. You might want to increase the number of iterations. Duality gap: 4.318150115495276, tolerance: 0.01384998620523727\n",
      "  model = cd_fast.enet_coordinate_descent(\n",
      "C:\\Users\\maxle\\anaconda3\\lib\\site-packages\\sklearn\\linear_model\\_coordinate_descent.py:529: ConvergenceWarning: Objective did not converge. You might want to increase the number of iterations. Duality gap: 3.9880722993907867, tolerance: 0.013231675079835132\n",
      "  model = cd_fast.enet_coordinate_descent(\n",
      "C:\\Users\\maxle\\anaconda3\\lib\\site-packages\\sklearn\\linear_model\\_coordinate_descent.py:529: ConvergenceWarning: Objective did not converge. You might want to increase the number of iterations. Duality gap: 2.430134524436529, tolerance: 0.01402794191111797\n",
      "  model = cd_fast.enet_coordinate_descent(\n",
      "C:\\Users\\maxle\\anaconda3\\lib\\site-packages\\sklearn\\linear_model\\_coordinate_descent.py:529: ConvergenceWarning: Objective did not converge. You might want to increase the number of iterations. Duality gap: 2.3051758308928996, tolerance: 0.014015897814864153\n",
      "  model = cd_fast.enet_coordinate_descent(\n",
      "C:\\Users\\maxle\\anaconda3\\lib\\site-packages\\sklearn\\linear_model\\_coordinate_descent.py:529: ConvergenceWarning: Objective did not converge. You might want to increase the number of iterations. Duality gap: 2.4280857958016933, tolerance: 0.013829800883236269\n",
      "  model = cd_fast.enet_coordinate_descent(\n",
      "C:\\Users\\maxle\\anaconda3\\lib\\site-packages\\sklearn\\linear_model\\_coordinate_descent.py:529: ConvergenceWarning: Objective did not converge. You might want to increase the number of iterations. Duality gap: 2.505898335028132, tolerance: 0.01384998620523727\n",
      "  model = cd_fast.enet_coordinate_descent(\n"
     ]
    },
    {
     "name": "stderr",
     "output_type": "stream",
     "text": [
      "C:\\Users\\maxle\\anaconda3\\lib\\site-packages\\sklearn\\linear_model\\_coordinate_descent.py:529: ConvergenceWarning: Objective did not converge. You might want to increase the number of iterations. Duality gap: 2.008415300173356, tolerance: 0.013231675079835132\n",
      "  model = cd_fast.enet_coordinate_descent(\n",
      "C:\\Users\\maxle\\anaconda3\\lib\\site-packages\\sklearn\\linear_model\\_coordinate_descent.py:529: ConvergenceWarning: Objective did not converge. You might want to increase the number of iterations. Duality gap: 13.22874872665271, tolerance: 0.01402794191111797\n",
      "  model = cd_fast.enet_coordinate_descent(\n",
      "C:\\Users\\maxle\\anaconda3\\lib\\site-packages\\sklearn\\linear_model\\_coordinate_descent.py:529: ConvergenceWarning: Objective did not converge. You might want to increase the number of iterations. Duality gap: 12.95068393262151, tolerance: 0.014015897814864153\n",
      "  model = cd_fast.enet_coordinate_descent(\n",
      "C:\\Users\\maxle\\anaconda3\\lib\\site-packages\\sklearn\\linear_model\\_coordinate_descent.py:529: ConvergenceWarning: Objective did not converge. You might want to increase the number of iterations. Duality gap: 13.434203384617142, tolerance: 0.013829800883236269\n",
      "  model = cd_fast.enet_coordinate_descent(\n",
      "C:\\Users\\maxle\\anaconda3\\lib\\site-packages\\sklearn\\linear_model\\_coordinate_descent.py:529: ConvergenceWarning: Objective did not converge. You might want to increase the number of iterations. Duality gap: 13.5083390427508, tolerance: 0.01384998620523727\n",
      "  model = cd_fast.enet_coordinate_descent(\n",
      "C:\\Users\\maxle\\anaconda3\\lib\\site-packages\\sklearn\\linear_model\\_coordinate_descent.py:529: ConvergenceWarning: Objective did not converge. You might want to increase the number of iterations. Duality gap: 13.026483771738027, tolerance: 0.013231675079835132\n",
      "  model = cd_fast.enet_coordinate_descent(\n",
      "C:\\Users\\maxle\\anaconda3\\lib\\site-packages\\sklearn\\linear_model\\_coordinate_descent.py:529: ConvergenceWarning: Objective did not converge. You might want to increase the number of iterations. Duality gap: 5.158214165274064, tolerance: 0.01402794191111797\n",
      "  model = cd_fast.enet_coordinate_descent(\n",
      "C:\\Users\\maxle\\anaconda3\\lib\\site-packages\\sklearn\\linear_model\\_coordinate_descent.py:529: ConvergenceWarning: Objective did not converge. You might want to increase the number of iterations. Duality gap: 5.220012838161183, tolerance: 0.014015897814864153\n",
      "  model = cd_fast.enet_coordinate_descent(\n",
      "C:\\Users\\maxle\\anaconda3\\lib\\site-packages\\sklearn\\linear_model\\_coordinate_descent.py:529: ConvergenceWarning: Objective did not converge. You might want to increase the number of iterations. Duality gap: 5.238926647442097, tolerance: 0.013829800883236269\n",
      "  model = cd_fast.enet_coordinate_descent(\n",
      "C:\\Users\\maxle\\anaconda3\\lib\\site-packages\\sklearn\\linear_model\\_coordinate_descent.py:529: ConvergenceWarning: Objective did not converge. You might want to increase the number of iterations. Duality gap: 5.539295894912974, tolerance: 0.01384998620523727\n",
      "  model = cd_fast.enet_coordinate_descent(\n",
      "C:\\Users\\maxle\\anaconda3\\lib\\site-packages\\sklearn\\linear_model\\_coordinate_descent.py:529: ConvergenceWarning: Objective did not converge. You might want to increase the number of iterations. Duality gap: 5.190209023797788, tolerance: 0.013231675079835132\n",
      "  model = cd_fast.enet_coordinate_descent(\n",
      "C:\\Users\\maxle\\anaconda3\\lib\\site-packages\\sklearn\\linear_model\\_coordinate_descent.py:529: ConvergenceWarning: Objective did not converge. You might want to increase the number of iterations. Duality gap: 4.089579602036411, tolerance: 0.01402794191111797\n",
      "  model = cd_fast.enet_coordinate_descent(\n",
      "C:\\Users\\maxle\\anaconda3\\lib\\site-packages\\sklearn\\linear_model\\_coordinate_descent.py:529: ConvergenceWarning: Objective did not converge. You might want to increase the number of iterations. Duality gap: 4.1570145141829205, tolerance: 0.014015897814864153\n",
      "  model = cd_fast.enet_coordinate_descent(\n",
      "C:\\Users\\maxle\\anaconda3\\lib\\site-packages\\sklearn\\linear_model\\_coordinate_descent.py:529: ConvergenceWarning: Objective did not converge. You might want to increase the number of iterations. Duality gap: 4.096411171818769, tolerance: 0.013829800883236269\n",
      "  model = cd_fast.enet_coordinate_descent(\n",
      "C:\\Users\\maxle\\anaconda3\\lib\\site-packages\\sklearn\\linear_model\\_coordinate_descent.py:529: ConvergenceWarning: Objective did not converge. You might want to increase the number of iterations. Duality gap: 4.3945169189660795, tolerance: 0.01384998620523727\n",
      "  model = cd_fast.enet_coordinate_descent(\n",
      "C:\\Users\\maxle\\anaconda3\\lib\\site-packages\\sklearn\\linear_model\\_coordinate_descent.py:529: ConvergenceWarning: Objective did not converge. You might want to increase the number of iterations. Duality gap: 4.068875762882897, tolerance: 0.013231675079835132\n",
      "  model = cd_fast.enet_coordinate_descent(\n",
      "C:\\Users\\maxle\\anaconda3\\lib\\site-packages\\sklearn\\linear_model\\_coordinate_descent.py:529: ConvergenceWarning: Objective did not converge. You might want to increase the number of iterations. Duality gap: 2.30143565178787, tolerance: 0.01402794191111797\n",
      "  model = cd_fast.enet_coordinate_descent(\n",
      "C:\\Users\\maxle\\anaconda3\\lib\\site-packages\\sklearn\\linear_model\\_coordinate_descent.py:529: ConvergenceWarning: Objective did not converge. You might want to increase the number of iterations. Duality gap: 2.1640578650760327, tolerance: 0.014015897814864153\n",
      "  model = cd_fast.enet_coordinate_descent(\n",
      "C:\\Users\\maxle\\anaconda3\\lib\\site-packages\\sklearn\\linear_model\\_coordinate_descent.py:529: ConvergenceWarning: Objective did not converge. You might want to increase the number of iterations. Duality gap: 2.3311360490137405, tolerance: 0.013829800883236269\n",
      "  model = cd_fast.enet_coordinate_descent(\n",
      "C:\\Users\\maxle\\anaconda3\\lib\\site-packages\\sklearn\\linear_model\\_coordinate_descent.py:529: ConvergenceWarning: Objective did not converge. You might want to increase the number of iterations. Duality gap: 2.2680633051145076, tolerance: 0.01384998620523727\n",
      "  model = cd_fast.enet_coordinate_descent(\n",
      "C:\\Users\\maxle\\anaconda3\\lib\\site-packages\\sklearn\\linear_model\\_coordinate_descent.py:529: ConvergenceWarning: Objective did not converge. You might want to increase the number of iterations. Duality gap: 1.8035556321893054, tolerance: 0.013231675079835132\n",
      "  model = cd_fast.enet_coordinate_descent(\n",
      "C:\\Users\\maxle\\anaconda3\\lib\\site-packages\\sklearn\\linear_model\\_coordinate_descent.py:529: ConvergenceWarning: Objective did not converge. You might want to increase the number of iterations. Duality gap: 13.374715895406968, tolerance: 0.01402794191111797\n",
      "  model = cd_fast.enet_coordinate_descent(\n",
      "C:\\Users\\maxle\\anaconda3\\lib\\site-packages\\sklearn\\linear_model\\_coordinate_descent.py:529: ConvergenceWarning: Objective did not converge. You might want to increase the number of iterations. Duality gap: 13.104189421074693, tolerance: 0.014015897814864153\n",
      "  model = cd_fast.enet_coordinate_descent(\n",
      "C:\\Users\\maxle\\anaconda3\\lib\\site-packages\\sklearn\\linear_model\\_coordinate_descent.py:529: ConvergenceWarning: Objective did not converge. You might want to increase the number of iterations. Duality gap: 13.566908280042215, tolerance: 0.013829800883236269\n",
      "  model = cd_fast.enet_coordinate_descent(\n",
      "C:\\Users\\maxle\\anaconda3\\lib\\site-packages\\sklearn\\linear_model\\_coordinate_descent.py:529: ConvergenceWarning: Objective did not converge. You might want to increase the number of iterations. Duality gap: 13.641772087708663, tolerance: 0.01384998620523727\n",
      "  model = cd_fast.enet_coordinate_descent(\n",
      "C:\\Users\\maxle\\anaconda3\\lib\\site-packages\\sklearn\\linear_model\\_coordinate_descent.py:529: ConvergenceWarning: Objective did not converge. You might want to increase the number of iterations. Duality gap: 13.16047450443472, tolerance: 0.013231675079835132\n",
      "  model = cd_fast.enet_coordinate_descent(\n",
      "C:\\Users\\maxle\\anaconda3\\lib\\site-packages\\sklearn\\linear_model\\_coordinate_descent.py:529: ConvergenceWarning: Objective did not converge. You might want to increase the number of iterations. Duality gap: 5.275780489152595, tolerance: 0.01402794191111797\n",
      "  model = cd_fast.enet_coordinate_descent(\n",
      "C:\\Users\\maxle\\anaconda3\\lib\\site-packages\\sklearn\\linear_model\\_coordinate_descent.py:529: ConvergenceWarning: Objective did not converge. You might want to increase the number of iterations. Duality gap: 5.344014186060976, tolerance: 0.014015897814864153\n",
      "  model = cd_fast.enet_coordinate_descent(\n",
      "C:\\Users\\maxle\\anaconda3\\lib\\site-packages\\sklearn\\linear_model\\_coordinate_descent.py:529: ConvergenceWarning: Objective did not converge. You might want to increase the number of iterations. Duality gap: 5.35110553151955, tolerance: 0.013829800883236269\n",
      "  model = cd_fast.enet_coordinate_descent(\n",
      "C:\\Users\\maxle\\anaconda3\\lib\\site-packages\\sklearn\\linear_model\\_coordinate_descent.py:529: ConvergenceWarning: Objective did not converge. You might want to increase the number of iterations. Duality gap: 5.652182769295236, tolerance: 0.01384998620523727\n",
      "  model = cd_fast.enet_coordinate_descent(\n",
      "C:\\Users\\maxle\\anaconda3\\lib\\site-packages\\sklearn\\linear_model\\_coordinate_descent.py:529: ConvergenceWarning: Objective did not converge. You might want to increase the number of iterations. Duality gap: 5.3021702249472185, tolerance: 0.013231675079835132\n",
      "  model = cd_fast.enet_coordinate_descent(\n",
      "C:\\Users\\maxle\\anaconda3\\lib\\site-packages\\sklearn\\linear_model\\_coordinate_descent.py:529: ConvergenceWarning: Objective did not converge. You might want to increase the number of iterations. Duality gap: 4.20467982512912, tolerance: 0.01402794191111797\n",
      "  model = cd_fast.enet_coordinate_descent(\n",
      "C:\\Users\\maxle\\anaconda3\\lib\\site-packages\\sklearn\\linear_model\\_coordinate_descent.py:529: ConvergenceWarning: Objective did not converge. You might want to increase the number of iterations. Duality gap: 4.270800449162333, tolerance: 0.014015897814864153\n",
      "  model = cd_fast.enet_coordinate_descent(\n",
      "C:\\Users\\maxle\\anaconda3\\lib\\site-packages\\sklearn\\linear_model\\_coordinate_descent.py:529: ConvergenceWarning: Objective did not converge. You might want to increase the number of iterations. Duality gap: 4.193122604994049, tolerance: 0.013829800883236269\n",
      "  model = cd_fast.enet_coordinate_descent(\n",
      "C:\\Users\\maxle\\anaconda3\\lib\\site-packages\\sklearn\\linear_model\\_coordinate_descent.py:529: ConvergenceWarning: Objective did not converge. You might want to increase the number of iterations. Duality gap: 4.490680889008731, tolerance: 0.01384998620523727\n",
      "  model = cd_fast.enet_coordinate_descent(\n",
      "C:\\Users\\maxle\\anaconda3\\lib\\site-packages\\sklearn\\linear_model\\_coordinate_descent.py:529: ConvergenceWarning: Objective did not converge. You might want to increase the number of iterations. Duality gap: 4.171097278892933, tolerance: 0.013231675079835132\n",
      "  model = cd_fast.enet_coordinate_descent(\n",
      "C:\\Users\\maxle\\anaconda3\\lib\\site-packages\\sklearn\\linear_model\\_coordinate_descent.py:529: ConvergenceWarning: Objective did not converge. You might want to increase the number of iterations. Duality gap: 2.075984830787711, tolerance: 0.01402794191111797\n",
      "  model = cd_fast.enet_coordinate_descent(\n",
      "C:\\Users\\maxle\\anaconda3\\lib\\site-packages\\sklearn\\linear_model\\_coordinate_descent.py:529: ConvergenceWarning: Objective did not converge. You might want to increase the number of iterations. Duality gap: 1.994134677660229, tolerance: 0.014015897814864153\n",
      "  model = cd_fast.enet_coordinate_descent(\n",
      "C:\\Users\\maxle\\anaconda3\\lib\\site-packages\\sklearn\\linear_model\\_coordinate_descent.py:529: ConvergenceWarning: Objective did not converge. You might want to increase the number of iterations. Duality gap: 2.181681501930879, tolerance: 0.013829800883236269\n",
      "  model = cd_fast.enet_coordinate_descent(\n"
     ]
    },
    {
     "name": "stderr",
     "output_type": "stream",
     "text": [
      "C:\\Users\\maxle\\anaconda3\\lib\\site-packages\\sklearn\\linear_model\\_coordinate_descent.py:529: ConvergenceWarning: Objective did not converge. You might want to increase the number of iterations. Duality gap: 2.0699396558824876, tolerance: 0.01384998620523727\n",
      "  model = cd_fast.enet_coordinate_descent(\n",
      "C:\\Users\\maxle\\anaconda3\\lib\\site-packages\\sklearn\\linear_model\\_coordinate_descent.py:529: ConvergenceWarning: Objective did not converge. You might want to increase the number of iterations. Duality gap: 1.5677226245544504, tolerance: 0.013231675079835132\n",
      "  model = cd_fast.enet_coordinate_descent(\n",
      "C:\\Users\\maxle\\anaconda3\\lib\\site-packages\\sklearn\\linear_model\\_coordinate_descent.py:529: ConvergenceWarning: Objective did not converge. You might want to increase the number of iterations. Duality gap: 13.563371969516698, tolerance: 0.01402794191111797\n",
      "  model = cd_fast.enet_coordinate_descent(\n",
      "C:\\Users\\maxle\\anaconda3\\lib\\site-packages\\sklearn\\linear_model\\_coordinate_descent.py:529: ConvergenceWarning: Objective did not converge. You might want to increase the number of iterations. Duality gap: 13.300994797832901, tolerance: 0.014015897814864153\n",
      "  model = cd_fast.enet_coordinate_descent(\n",
      "C:\\Users\\maxle\\anaconda3\\lib\\site-packages\\sklearn\\linear_model\\_coordinate_descent.py:529: ConvergenceWarning: Objective did not converge. You might want to increase the number of iterations. Duality gap: 13.737866943931751, tolerance: 0.013829800883236269\n",
      "  model = cd_fast.enet_coordinate_descent(\n",
      "C:\\Users\\maxle\\anaconda3\\lib\\site-packages\\sklearn\\linear_model\\_coordinate_descent.py:529: ConvergenceWarning: Objective did not converge. You might want to increase the number of iterations. Duality gap: 13.81293228258633, tolerance: 0.01384998620523727\n",
      "  model = cd_fast.enet_coordinate_descent(\n",
      "C:\\Users\\maxle\\anaconda3\\lib\\site-packages\\sklearn\\linear_model\\_coordinate_descent.py:529: ConvergenceWarning: Objective did not converge. You might want to increase the number of iterations. Duality gap: 13.33234233015274, tolerance: 0.013231675079835132\n",
      "  model = cd_fast.enet_coordinate_descent(\n",
      "C:\\Users\\maxle\\anaconda3\\lib\\site-packages\\sklearn\\linear_model\\_coordinate_descent.py:529: ConvergenceWarning: Objective did not converge. You might want to increase the number of iterations. Duality gap: 5.422778655295538, tolerance: 0.01402794191111797\n",
      "  model = cd_fast.enet_coordinate_descent(\n",
      "C:\\Users\\maxle\\anaconda3\\lib\\site-packages\\sklearn\\linear_model\\_coordinate_descent.py:529: ConvergenceWarning: Objective did not converge. You might want to increase the number of iterations. Duality gap: 5.498980523491663, tolerance: 0.014015897814864153\n",
      "  model = cd_fast.enet_coordinate_descent(\n",
      "C:\\Users\\maxle\\anaconda3\\lib\\site-packages\\sklearn\\linear_model\\_coordinate_descent.py:529: ConvergenceWarning: Objective did not converge. You might want to increase the number of iterations. Duality gap: 5.490290394299267, tolerance: 0.013829800883236269\n",
      "  model = cd_fast.enet_coordinate_descent(\n",
      "C:\\Users\\maxle\\anaconda3\\lib\\site-packages\\sklearn\\linear_model\\_coordinate_descent.py:529: ConvergenceWarning: Objective did not converge. You might want to increase the number of iterations. Duality gap: 5.792757093514636, tolerance: 0.01384998620523727\n",
      "  model = cd_fast.enet_coordinate_descent(\n",
      "C:\\Users\\maxle\\anaconda3\\lib\\site-packages\\sklearn\\linear_model\\_coordinate_descent.py:529: ConvergenceWarning: Objective did not converge. You might want to increase the number of iterations. Duality gap: 5.442484628846468, tolerance: 0.013231675079835132\n",
      "  model = cd_fast.enet_coordinate_descent(\n",
      "C:\\Users\\maxle\\anaconda3\\lib\\site-packages\\sklearn\\linear_model\\_coordinate_descent.py:529: ConvergenceWarning: Objective did not converge. You might want to increase the number of iterations. Duality gap: 4.346297730788419, tolerance: 0.01402794191111797\n",
      "  model = cd_fast.enet_coordinate_descent(\n",
      "C:\\Users\\maxle\\anaconda3\\lib\\site-packages\\sklearn\\linear_model\\_coordinate_descent.py:529: ConvergenceWarning: Objective did not converge. You might want to increase the number of iterations. Duality gap: 4.407420391276412, tolerance: 0.014015897814864153\n",
      "  model = cd_fast.enet_coordinate_descent(\n",
      "C:\\Users\\maxle\\anaconda3\\lib\\site-packages\\sklearn\\linear_model\\_coordinate_descent.py:529: ConvergenceWarning: Objective did not converge. You might want to increase the number of iterations. Duality gap: 4.313335944689035, tolerance: 0.013829800883236269\n",
      "  model = cd_fast.enet_coordinate_descent(\n",
      "C:\\Users\\maxle\\anaconda3\\lib\\site-packages\\sklearn\\linear_model\\_coordinate_descent.py:529: ConvergenceWarning: Objective did not converge. You might want to increase the number of iterations. Duality gap: 4.610410255047272, tolerance: 0.01384998620523727\n",
      "  model = cd_fast.enet_coordinate_descent(\n",
      "C:\\Users\\maxle\\anaconda3\\lib\\site-packages\\sklearn\\linear_model\\_coordinate_descent.py:529: ConvergenceWarning: Objective did not converge. You might want to increase the number of iterations. Duality gap: 4.29619501715122, tolerance: 0.013231675079835132\n",
      "  model = cd_fast.enet_coordinate_descent(\n",
      "C:\\Users\\maxle\\anaconda3\\lib\\site-packages\\sklearn\\linear_model\\_coordinate_descent.py:529: ConvergenceWarning: Objective did not converge. You might want to increase the number of iterations. Duality gap: 1.8284206157012854, tolerance: 0.01402794191111797\n",
      "  model = cd_fast.enet_coordinate_descent(\n",
      "C:\\Users\\maxle\\anaconda3\\lib\\site-packages\\sklearn\\linear_model\\_coordinate_descent.py:529: ConvergenceWarning: Objective did not converge. You might want to increase the number of iterations. Duality gap: 1.6776879794180644, tolerance: 0.014015897814864153\n",
      "  model = cd_fast.enet_coordinate_descent(\n",
      "C:\\Users\\maxle\\anaconda3\\lib\\site-packages\\sklearn\\linear_model\\_coordinate_descent.py:529: ConvergenceWarning: Objective did not converge. You might want to increase the number of iterations. Duality gap: 2.036446088497841, tolerance: 0.013829800883236269\n",
      "  model = cd_fast.enet_coordinate_descent(\n",
      "C:\\Users\\maxle\\anaconda3\\lib\\site-packages\\sklearn\\linear_model\\_coordinate_descent.py:529: ConvergenceWarning: Objective did not converge. You might want to increase the number of iterations. Duality gap: 1.7697772685259978, tolerance: 0.01384998620523727\n",
      "  model = cd_fast.enet_coordinate_descent(\n",
      "C:\\Users\\maxle\\anaconda3\\lib\\site-packages\\sklearn\\linear_model\\_coordinate_descent.py:529: ConvergenceWarning: Objective did not converge. You might want to increase the number of iterations. Duality gap: 1.3079269003644058, tolerance: 0.013231675079835132\n",
      "  model = cd_fast.enet_coordinate_descent(\n",
      "C:\\Users\\maxle\\anaconda3\\lib\\site-packages\\sklearn\\linear_model\\_coordinate_descent.py:529: ConvergenceWarning: Objective did not converge. You might want to increase the number of iterations. Duality gap: 13.804470791716442, tolerance: 0.01402794191111797\n",
      "  model = cd_fast.enet_coordinate_descent(\n",
      "C:\\Users\\maxle\\anaconda3\\lib\\site-packages\\sklearn\\linear_model\\_coordinate_descent.py:529: ConvergenceWarning: Objective did not converge. You might want to increase the number of iterations. Duality gap: 13.550992125081107, tolerance: 0.014015897814864153\n",
      "  model = cd_fast.enet_coordinate_descent(\n",
      "C:\\Users\\maxle\\anaconda3\\lib\\site-packages\\sklearn\\linear_model\\_coordinate_descent.py:529: ConvergenceWarning: Objective did not converge. You might want to increase the number of iterations. Duality gap: 13.955346661723013, tolerance: 0.013829800883236269\n",
      "  model = cd_fast.enet_coordinate_descent(\n",
      "C:\\Users\\maxle\\anaconda3\\lib\\site-packages\\sklearn\\linear_model\\_coordinate_descent.py:529: ConvergenceWarning: Objective did not converge. You might want to increase the number of iterations. Duality gap: 14.027836189331572, tolerance: 0.01384998620523727\n",
      "  model = cd_fast.enet_coordinate_descent(\n",
      "C:\\Users\\maxle\\anaconda3\\lib\\site-packages\\sklearn\\linear_model\\_coordinate_descent.py:529: ConvergenceWarning: Objective did not converge. You might want to increase the number of iterations. Duality gap: 13.551794409639614, tolerance: 0.013231675079835132\n",
      "  model = cd_fast.enet_coordinate_descent(\n",
      "C:\\Users\\maxle\\anaconda3\\lib\\site-packages\\sklearn\\linear_model\\_coordinate_descent.py:529: ConvergenceWarning: Objective did not converge. You might want to increase the number of iterations. Duality gap: 5.602269826922067, tolerance: 0.01402794191111797\n",
      "  model = cd_fast.enet_coordinate_descent(\n",
      "C:\\Users\\maxle\\anaconda3\\lib\\site-packages\\sklearn\\linear_model\\_coordinate_descent.py:529: ConvergenceWarning: Objective did not converge. You might want to increase the number of iterations. Duality gap: 5.6862445127217045, tolerance: 0.014015897814864153\n",
      "  model = cd_fast.enet_coordinate_descent(\n",
      "C:\\Users\\maxle\\anaconda3\\lib\\site-packages\\sklearn\\linear_model\\_coordinate_descent.py:529: ConvergenceWarning: Objective did not converge. You might want to increase the number of iterations. Duality gap: 5.661095346355867, tolerance: 0.013829800883236269\n",
      "  model = cd_fast.enet_coordinate_descent(\n",
      "C:\\Users\\maxle\\anaconda3\\lib\\site-packages\\sklearn\\linear_model\\_coordinate_descent.py:529: ConvergenceWarning: Objective did not converge. You might want to increase the number of iterations. Duality gap: 5.962570018909724, tolerance: 0.01384998620523727\n",
      "  model = cd_fast.enet_coordinate_descent(\n",
      "C:\\Users\\maxle\\anaconda3\\lib\\site-packages\\sklearn\\linear_model\\_coordinate_descent.py:529: ConvergenceWarning: Objective did not converge. You might want to increase the number of iterations. Duality gap: 5.611744163564853, tolerance: 0.013231675079835132\n",
      "  model = cd_fast.enet_coordinate_descent(\n",
      "C:\\Users\\maxle\\anaconda3\\lib\\site-packages\\sklearn\\linear_model\\_coordinate_descent.py:529: ConvergenceWarning: Objective did not converge. You might want to increase the number of iterations. Duality gap: 4.519515090656676, tolerance: 0.01402794191111797\n",
      "  model = cd_fast.enet_coordinate_descent(\n",
      "C:\\Users\\maxle\\anaconda3\\lib\\site-packages\\sklearn\\linear_model\\_coordinate_descent.py:529: ConvergenceWarning: Objective did not converge. You might want to increase the number of iterations. Duality gap: 4.567040744903914, tolerance: 0.014015897814864153\n",
      "  model = cd_fast.enet_coordinate_descent(\n",
      "C:\\Users\\maxle\\anaconda3\\lib\\site-packages\\sklearn\\linear_model\\_coordinate_descent.py:529: ConvergenceWarning: Objective did not converge. You might want to increase the number of iterations. Duality gap: 4.459225125570274, tolerance: 0.013829800883236269\n",
      "  model = cd_fast.enet_coordinate_descent(\n",
      "C:\\Users\\maxle\\anaconda3\\lib\\site-packages\\sklearn\\linear_model\\_coordinate_descent.py:529: ConvergenceWarning: Objective did not converge. You might want to increase the number of iterations. Duality gap: 4.759763272861246, tolerance: 0.01384998620523727\n",
      "  model = cd_fast.enet_coordinate_descent(\n",
      "C:\\Users\\maxle\\anaconda3\\lib\\site-packages\\sklearn\\linear_model\\_coordinate_descent.py:529: ConvergenceWarning: Objective did not converge. You might want to increase the number of iterations. Duality gap: 4.44399156332055, tolerance: 0.013231675079835132\n",
      "  model = cd_fast.enet_coordinate_descent(\n",
      "C:\\Users\\maxle\\anaconda3\\lib\\site-packages\\sklearn\\linear_model\\_coordinate_descent.py:529: ConvergenceWarning: Objective did not converge. You might want to increase the number of iterations. Duality gap: 1.515366803914671, tolerance: 0.01402794191111797\n",
      "  model = cd_fast.enet_coordinate_descent(\n",
      "C:\\Users\\maxle\\anaconda3\\lib\\site-packages\\sklearn\\linear_model\\_coordinate_descent.py:529: ConvergenceWarning: Objective did not converge. You might want to increase the number of iterations. Duality gap: 1.430229018429285, tolerance: 0.014015897814864153\n",
      "  model = cd_fast.enet_coordinate_descent(\n",
      "C:\\Users\\maxle\\anaconda3\\lib\\site-packages\\sklearn\\linear_model\\_coordinate_descent.py:529: ConvergenceWarning: Objective did not converge. You might want to increase the number of iterations. Duality gap: 1.8542880887380448, tolerance: 0.013829800883236269\n",
      "  model = cd_fast.enet_coordinate_descent(\n"
     ]
    },
    {
     "name": "stderr",
     "output_type": "stream",
     "text": [
      "C:\\Users\\maxle\\anaconda3\\lib\\site-packages\\sklearn\\linear_model\\_coordinate_descent.py:529: ConvergenceWarning: Objective did not converge. You might want to increase the number of iterations. Duality gap: 1.4195930279971698, tolerance: 0.01384998620523727\n",
      "  model = cd_fast.enet_coordinate_descent(\n",
      "C:\\Users\\maxle\\anaconda3\\lib\\site-packages\\sklearn\\linear_model\\_coordinate_descent.py:529: ConvergenceWarning: Objective did not converge. You might want to increase the number of iterations. Duality gap: 1.0081887873012554, tolerance: 0.013231675079835132\n",
      "  model = cd_fast.enet_coordinate_descent(\n",
      "C:\\Users\\maxle\\anaconda3\\lib\\site-packages\\sklearn\\linear_model\\_coordinate_descent.py:529: ConvergenceWarning: Objective did not converge. You might want to increase the number of iterations. Duality gap: 14.108141569288154, tolerance: 0.01402794191111797\n",
      "  model = cd_fast.enet_coordinate_descent(\n",
      "C:\\Users\\maxle\\anaconda3\\lib\\site-packages\\sklearn\\linear_model\\_coordinate_descent.py:529: ConvergenceWarning: Objective did not converge. You might want to increase the number of iterations. Duality gap: 13.863276325443126, tolerance: 0.014015897814864153\n",
      "  model = cd_fast.enet_coordinate_descent(\n",
      "C:\\Users\\maxle\\anaconda3\\lib\\site-packages\\sklearn\\linear_model\\_coordinate_descent.py:529: ConvergenceWarning: Objective did not converge. You might want to increase the number of iterations. Duality gap: 14.229530480621333, tolerance: 0.013829800883236269\n",
      "  model = cd_fast.enet_coordinate_descent(\n",
      "C:\\Users\\maxle\\anaconda3\\lib\\site-packages\\sklearn\\linear_model\\_coordinate_descent.py:529: ConvergenceWarning: Objective did not converge. You might want to increase the number of iterations. Duality gap: 14.294188645718668, tolerance: 0.01384998620523727\n",
      "  model = cd_fast.enet_coordinate_descent(\n",
      "C:\\Users\\maxle\\anaconda3\\lib\\site-packages\\sklearn\\linear_model\\_coordinate_descent.py:529: ConvergenceWarning: Objective did not converge. You might want to increase the number of iterations. Duality gap: 13.830465403846526, tolerance: 0.013231675079835132\n",
      "  model = cd_fast.enet_coordinate_descent(\n",
      "C:\\Users\\maxle\\anaconda3\\lib\\site-packages\\sklearn\\linear_model\\_coordinate_descent.py:529: ConvergenceWarning: Objective did not converge. You might want to increase the number of iterations. Duality gap: 5.816164143911182, tolerance: 0.01402794191111797\n",
      "  model = cd_fast.enet_coordinate_descent(\n",
      "C:\\Users\\maxle\\anaconda3\\lib\\site-packages\\sklearn\\linear_model\\_coordinate_descent.py:529: ConvergenceWarning: Objective did not converge. You might want to increase the number of iterations. Duality gap: 5.905818178785665, tolerance: 0.014015897814864153\n",
      "  model = cd_fast.enet_coordinate_descent(\n",
      "C:\\Users\\maxle\\anaconda3\\lib\\site-packages\\sklearn\\linear_model\\_coordinate_descent.py:529: ConvergenceWarning: Objective did not converge. You might want to increase the number of iterations. Duality gap: 5.863232064328854, tolerance: 0.013829800883236269\n",
      "  model = cd_fast.enet_coordinate_descent(\n",
      "C:\\Users\\maxle\\anaconda3\\lib\\site-packages\\sklearn\\linear_model\\_coordinate_descent.py:529: ConvergenceWarning: Objective did not converge. You might want to increase the number of iterations. Duality gap: 6.163488121229636, tolerance: 0.01384998620523727\n",
      "  model = cd_fast.enet_coordinate_descent(\n",
      "C:\\Users\\maxle\\anaconda3\\lib\\site-packages\\sklearn\\linear_model\\_coordinate_descent.py:529: ConvergenceWarning: Objective did not converge. You might want to increase the number of iterations. Duality gap: 5.813706373864787, tolerance: 0.013231675079835132\n",
      "  model = cd_fast.enet_coordinate_descent(\n",
      "C:\\Users\\maxle\\anaconda3\\lib\\site-packages\\sklearn\\linear_model\\_coordinate_descent.py:529: ConvergenceWarning: Objective did not converge. You might want to increase the number of iterations. Duality gap: 4.7292630013331, tolerance: 0.01402794191111797\n",
      "  model = cd_fast.enet_coordinate_descent(\n",
      "C:\\Users\\maxle\\anaconda3\\lib\\site-packages\\sklearn\\linear_model\\_coordinate_descent.py:529: ConvergenceWarning: Objective did not converge. You might want to increase the number of iterations. Duality gap: 4.753577089780592, tolerance: 0.014015897814864153\n",
      "  model = cd_fast.enet_coordinate_descent(\n",
      "C:\\Users\\maxle\\anaconda3\\lib\\site-packages\\sklearn\\linear_model\\_coordinate_descent.py:529: ConvergenceWarning: Objective did not converge. You might want to increase the number of iterations. Duality gap: 4.633649067620251, tolerance: 0.013829800883236269\n",
      "  model = cd_fast.enet_coordinate_descent(\n",
      "C:\\Users\\maxle\\anaconda3\\lib\\site-packages\\sklearn\\linear_model\\_coordinate_descent.py:529: ConvergenceWarning: Objective did not converge. You might want to increase the number of iterations. Duality gap: 4.9276485204368905, tolerance: 0.01384998620523727\n",
      "  model = cd_fast.enet_coordinate_descent(\n",
      "C:\\Users\\maxle\\anaconda3\\lib\\site-packages\\sklearn\\linear_model\\_coordinate_descent.py:529: ConvergenceWarning: Objective did not converge. You might want to increase the number of iterations. Duality gap: 4.621255163032532, tolerance: 0.013231675079835132\n",
      "  model = cd_fast.enet_coordinate_descent(\n",
      "C:\\Users\\maxle\\anaconda3\\lib\\site-packages\\sklearn\\linear_model\\_coordinate_descent.py:529: ConvergenceWarning: Objective did not converge. You might want to increase the number of iterations. Duality gap: 1.1625059646180804, tolerance: 0.01402794191111797\n",
      "  model = cd_fast.enet_coordinate_descent(\n",
      "C:\\Users\\maxle\\anaconda3\\lib\\site-packages\\sklearn\\linear_model\\_coordinate_descent.py:529: ConvergenceWarning: Objective did not converge. You might want to increase the number of iterations. Duality gap: 1.0942508814355678, tolerance: 0.014015897814864153\n",
      "  model = cd_fast.enet_coordinate_descent(\n",
      "C:\\Users\\maxle\\anaconda3\\lib\\site-packages\\sklearn\\linear_model\\_coordinate_descent.py:529: ConvergenceWarning: Objective did not converge. You might want to increase the number of iterations. Duality gap: 1.5626362506476044, tolerance: 0.013829800883236269\n",
      "  model = cd_fast.enet_coordinate_descent(\n",
      "C:\\Users\\maxle\\anaconda3\\lib\\site-packages\\sklearn\\linear_model\\_coordinate_descent.py:529: ConvergenceWarning: Objective did not converge. You might want to increase the number of iterations. Duality gap: 1.0280158261946246, tolerance: 0.01384998620523727\n",
      "  model = cd_fast.enet_coordinate_descent(\n",
      "C:\\Users\\maxle\\anaconda3\\lib\\site-packages\\sklearn\\linear_model\\_coordinate_descent.py:529: ConvergenceWarning: Objective did not converge. You might want to increase the number of iterations. Duality gap: 0.6808918918999796, tolerance: 0.013231675079835132\n",
      "  model = cd_fast.enet_coordinate_descent(\n",
      "C:\\Users\\maxle\\anaconda3\\lib\\site-packages\\sklearn\\linear_model\\_coordinate_descent.py:529: ConvergenceWarning: Objective did not converge. You might want to increase the number of iterations. Duality gap: 14.483054493606032, tolerance: 0.01402794191111797\n",
      "  model = cd_fast.enet_coordinate_descent(\n",
      "C:\\Users\\maxle\\anaconda3\\lib\\site-packages\\sklearn\\linear_model\\_coordinate_descent.py:529: ConvergenceWarning: Objective did not converge. You might want to increase the number of iterations. Duality gap: 14.247594099050369, tolerance: 0.014015897814864153\n",
      "  model = cd_fast.enet_coordinate_descent(\n",
      "C:\\Users\\maxle\\anaconda3\\lib\\site-packages\\sklearn\\linear_model\\_coordinate_descent.py:529: ConvergenceWarning: Objective did not converge. You might want to increase the number of iterations. Duality gap: 14.572392343875556, tolerance: 0.013829800883236269\n",
      "  model = cd_fast.enet_coordinate_descent(\n",
      "C:\\Users\\maxle\\anaconda3\\lib\\site-packages\\sklearn\\linear_model\\_coordinate_descent.py:529: ConvergenceWarning: Objective did not converge. You might want to increase the number of iterations. Duality gap: 14.626464144293493, tolerance: 0.01384998620523727\n",
      "  model = cd_fast.enet_coordinate_descent(\n",
      "C:\\Users\\maxle\\anaconda3\\lib\\site-packages\\sklearn\\linear_model\\_coordinate_descent.py:529: ConvergenceWarning: Objective did not converge. You might want to increase the number of iterations. Duality gap: 14.179511418674869, tolerance: 0.013231675079835132\n",
      "  model = cd_fast.enet_coordinate_descent(\n",
      "C:\\Users\\maxle\\anaconda3\\lib\\site-packages\\sklearn\\linear_model\\_coordinate_descent.py:529: ConvergenceWarning: Objective did not converge. You might want to increase the number of iterations. Duality gap: 6.065789988011192, tolerance: 0.01402794191111797\n",
      "  model = cd_fast.enet_coordinate_descent(\n",
      "C:\\Users\\maxle\\anaconda3\\lib\\site-packages\\sklearn\\linear_model\\_coordinate_descent.py:529: ConvergenceWarning: Objective did not converge. You might want to increase the number of iterations. Duality gap: 6.154199610440833, tolerance: 0.014015897814864153\n",
      "  model = cd_fast.enet_coordinate_descent(\n",
      "C:\\Users\\maxle\\anaconda3\\lib\\site-packages\\sklearn\\linear_model\\_coordinate_descent.py:529: ConvergenceWarning: Objective did not converge. You might want to increase the number of iterations. Duality gap: 6.1002327903671265, tolerance: 0.013829800883236269\n",
      "  model = cd_fast.enet_coordinate_descent(\n",
      "C:\\Users\\maxle\\anaconda3\\lib\\site-packages\\sklearn\\linear_model\\_coordinate_descent.py:529: ConvergenceWarning: Objective did not converge. You might want to increase the number of iterations. Duality gap: 6.395050622725074, tolerance: 0.01384998620523727\n",
      "  model = cd_fast.enet_coordinate_descent(\n",
      "C:\\Users\\maxle\\anaconda3\\lib\\site-packages\\sklearn\\linear_model\\_coordinate_descent.py:529: ConvergenceWarning: Objective did not converge. You might want to increase the number of iterations. Duality gap: 6.047865259866047, tolerance: 0.013231675079835132\n",
      "  model = cd_fast.enet_coordinate_descent(\n",
      "C:\\Users\\maxle\\anaconda3\\lib\\site-packages\\sklearn\\linear_model\\_coordinate_descent.py:529: ConvergenceWarning: Objective did not converge. You might want to increase the number of iterations. Duality gap: 4.964139164534962, tolerance: 0.01402794191111797\n",
      "  model = cd_fast.enet_coordinate_descent(\n",
      "C:\\Users\\maxle\\anaconda3\\lib\\site-packages\\sklearn\\linear_model\\_coordinate_descent.py:529: ConvergenceWarning: Objective did not converge. You might want to increase the number of iterations. Duality gap: 4.954440268779113, tolerance: 0.014015897814864153\n",
      "  model = cd_fast.enet_coordinate_descent(\n",
      "C:\\Users\\maxle\\anaconda3\\lib\\site-packages\\sklearn\\linear_model\\_coordinate_descent.py:529: ConvergenceWarning: Objective did not converge. You might want to increase the number of iterations. Duality gap: 4.823385701936642, tolerance: 0.013829800883236269\n",
      "  model = cd_fast.enet_coordinate_descent(\n",
      "C:\\Users\\maxle\\anaconda3\\lib\\site-packages\\sklearn\\linear_model\\_coordinate_descent.py:529: ConvergenceWarning: Objective did not converge. You might want to increase the number of iterations. Duality gap: 5.141041479593391, tolerance: 0.01384998620523727\n",
      "  model = cd_fast.enet_coordinate_descent(\n",
      "C:\\Users\\maxle\\anaconda3\\lib\\site-packages\\sklearn\\linear_model\\_coordinate_descent.py:529: ConvergenceWarning: Objective did not converge. You might want to increase the number of iterations. Duality gap: 4.831123230852913, tolerance: 0.013231675079835132\n",
      "  model = cd_fast.enet_coordinate_descent(\n",
      "C:\\Users\\maxle\\anaconda3\\lib\\site-packages\\sklearn\\linear_model\\_coordinate_descent.py:529: ConvergenceWarning: Objective did not converge. You might want to increase the number of iterations. Duality gap: 0.7280051500860205, tolerance: 0.01402794191111797\n",
      "  model = cd_fast.enet_coordinate_descent(\n",
      "C:\\Users\\maxle\\anaconda3\\lib\\site-packages\\sklearn\\linear_model\\_coordinate_descent.py:529: ConvergenceWarning: Objective did not converge. You might want to increase the number of iterations. Duality gap: 0.6506636091970499, tolerance: 0.014015897814864153\n",
      "  model = cd_fast.enet_coordinate_descent(\n",
      "C:\\Users\\maxle\\anaconda3\\lib\\site-packages\\sklearn\\linear_model\\_coordinate_descent.py:529: ConvergenceWarning: Objective did not converge. You might want to increase the number of iterations. Duality gap: 1.1977690248429047, tolerance: 0.013829800883236269\n",
      "  model = cd_fast.enet_coordinate_descent(\n",
      "C:\\Users\\maxle\\anaconda3\\lib\\site-packages\\sklearn\\linear_model\\_coordinate_descent.py:529: ConvergenceWarning: Objective did not converge. You might want to increase the number of iterations. Duality gap: 0.6531465961952145, tolerance: 0.01384998620523727\n",
      "  model = cd_fast.enet_coordinate_descent(\n"
     ]
    },
    {
     "name": "stderr",
     "output_type": "stream",
     "text": [
      "C:\\Users\\maxle\\anaconda3\\lib\\site-packages\\sklearn\\linear_model\\_coordinate_descent.py:529: ConvergenceWarning: Objective did not converge. You might want to increase the number of iterations. Duality gap: 0.3546375464871119, tolerance: 0.013231675079835132\n",
      "  model = cd_fast.enet_coordinate_descent(\n",
      "C:\\Users\\maxle\\anaconda3\\lib\\site-packages\\sklearn\\linear_model\\_coordinate_descent.py:529: ConvergenceWarning: Objective did not converge. You might want to increase the number of iterations. Duality gap: 14.940025470533026, tolerance: 0.01402794191111797\n",
      "  model = cd_fast.enet_coordinate_descent(\n",
      "C:\\Users\\maxle\\anaconda3\\lib\\site-packages\\sklearn\\linear_model\\_coordinate_descent.py:529: ConvergenceWarning: Objective did not converge. You might want to increase the number of iterations. Duality gap: 14.714155685039929, tolerance: 0.014015897814864153\n",
      "  model = cd_fast.enet_coordinate_descent(\n",
      "C:\\Users\\maxle\\anaconda3\\lib\\site-packages\\sklearn\\linear_model\\_coordinate_descent.py:529: ConvergenceWarning: Objective did not converge. You might want to increase the number of iterations. Duality gap: 14.990676625773235, tolerance: 0.013829800883236269\n",
      "  model = cd_fast.enet_coordinate_descent(\n",
      "C:\\Users\\maxle\\anaconda3\\lib\\site-packages\\sklearn\\linear_model\\_coordinate_descent.py:529: ConvergenceWarning: Objective did not converge. You might want to increase the number of iterations. Duality gap: 15.041186539768761, tolerance: 0.01384998620523727\n",
      "  model = cd_fast.enet_coordinate_descent(\n",
      "C:\\Users\\maxle\\anaconda3\\lib\\site-packages\\sklearn\\linear_model\\_coordinate_descent.py:529: ConvergenceWarning: Objective did not converge. You might want to increase the number of iterations. Duality gap: 14.611722758237619, tolerance: 0.013231675079835132\n",
      "  model = cd_fast.enet_coordinate_descent(\n",
      "C:\\Users\\maxle\\anaconda3\\lib\\site-packages\\sklearn\\linear_model\\_coordinate_descent.py:529: ConvergenceWarning: Objective did not converge. You might want to increase the number of iterations. Duality gap: 6.353020150562083, tolerance: 0.01402794191111797\n",
      "  model = cd_fast.enet_coordinate_descent(\n",
      "C:\\Users\\maxle\\anaconda3\\lib\\site-packages\\sklearn\\linear_model\\_coordinate_descent.py:529: ConvergenceWarning: Objective did not converge. You might want to increase the number of iterations. Duality gap: 6.428827883047856, tolerance: 0.014015897814864153\n",
      "  model = cd_fast.enet_coordinate_descent(\n",
      "C:\\Users\\maxle\\anaconda3\\lib\\site-packages\\sklearn\\linear_model\\_coordinate_descent.py:529: ConvergenceWarning: Objective did not converge. You might want to increase the number of iterations. Duality gap: 6.373960379520812, tolerance: 0.013829800883236269\n",
      "  model = cd_fast.enet_coordinate_descent(\n",
      "C:\\Users\\maxle\\anaconda3\\lib\\site-packages\\sklearn\\linear_model\\_coordinate_descent.py:529: ConvergenceWarning: Objective did not converge. You might want to increase the number of iterations. Duality gap: 6.658773949831345, tolerance: 0.01384998620523727\n",
      "  model = cd_fast.enet_coordinate_descent(\n",
      "C:\\Users\\maxle\\anaconda3\\lib\\site-packages\\sklearn\\linear_model\\_coordinate_descent.py:529: ConvergenceWarning: Objective did not converge. You might want to increase the number of iterations. Duality gap: 6.308595465282214, tolerance: 0.013231675079835132\n",
      "  model = cd_fast.enet_coordinate_descent(\n",
      "C:\\Users\\maxle\\anaconda3\\lib\\site-packages\\sklearn\\linear_model\\_coordinate_descent.py:529: ConvergenceWarning: Objective did not converge. You might want to increase the number of iterations. Duality gap: 5.22358946693039, tolerance: 0.01402794191111797\n",
      "  model = cd_fast.enet_coordinate_descent(\n",
      "C:\\Users\\maxle\\anaconda3\\lib\\site-packages\\sklearn\\linear_model\\_coordinate_descent.py:529: ConvergenceWarning: Objective did not converge. You might want to increase the number of iterations. Duality gap: 5.193175714423752, tolerance: 0.014015897814864153\n",
      "  model = cd_fast.enet_coordinate_descent(\n",
      "C:\\Users\\maxle\\anaconda3\\lib\\site-packages\\sklearn\\linear_model\\_coordinate_descent.py:529: ConvergenceWarning: Objective did not converge. You might want to increase the number of iterations. Duality gap: 5.043468014388214, tolerance: 0.013829800883236269\n",
      "  model = cd_fast.enet_coordinate_descent(\n",
      "C:\\Users\\maxle\\anaconda3\\lib\\site-packages\\sklearn\\linear_model\\_coordinate_descent.py:529: ConvergenceWarning: Objective did not converge. You might want to increase the number of iterations. Duality gap: 5.385722283733382, tolerance: 0.01384998620523727\n",
      "  model = cd_fast.enet_coordinate_descent(\n",
      "C:\\Users\\maxle\\anaconda3\\lib\\site-packages\\sklearn\\linear_model\\_coordinate_descent.py:529: ConvergenceWarning: Objective did not converge. You might want to increase the number of iterations. Duality gap: 5.036242094096328, tolerance: 0.013231675079835132\n",
      "  model = cd_fast.enet_coordinate_descent(\n",
      "C:\\Users\\maxle\\anaconda3\\lib\\site-packages\\sklearn\\linear_model\\_coordinate_descent.py:529: ConvergenceWarning: Objective did not converge. You might want to increase the number of iterations. Duality gap: 0.3593268666354277, tolerance: 0.01402794191111797\n",
      "  model = cd_fast.enet_coordinate_descent(\n",
      "C:\\Users\\maxle\\anaconda3\\lib\\site-packages\\sklearn\\linear_model\\_coordinate_descent.py:529: ConvergenceWarning: Objective did not converge. You might want to increase the number of iterations. Duality gap: 0.26773085736642876, tolerance: 0.014015897814864153\n",
      "  model = cd_fast.enet_coordinate_descent(\n",
      "C:\\Users\\maxle\\anaconda3\\lib\\site-packages\\sklearn\\linear_model\\_coordinate_descent.py:529: ConvergenceWarning: Objective did not converge. You might want to increase the number of iterations. Duality gap: 0.7865950669819064, tolerance: 0.013829800883236269\n",
      "  model = cd_fast.enet_coordinate_descent(\n",
      "C:\\Users\\maxle\\anaconda3\\lib\\site-packages\\sklearn\\linear_model\\_coordinate_descent.py:529: ConvergenceWarning: Objective did not converge. You might want to increase the number of iterations. Duality gap: 0.21095901992736366, tolerance: 0.01384998620523727\n",
      "  model = cd_fast.enet_coordinate_descent(\n",
      "C:\\Users\\maxle\\anaconda3\\lib\\site-packages\\sklearn\\linear_model\\_coordinate_descent.py:529: ConvergenceWarning: Objective did not converge. You might want to increase the number of iterations. Duality gap: 0.1582011726709398, tolerance: 0.013231675079835132\n",
      "  model = cd_fast.enet_coordinate_descent(\n",
      "C:\\Users\\maxle\\anaconda3\\lib\\site-packages\\sklearn\\linear_model\\_coordinate_descent.py:529: ConvergenceWarning: Objective did not converge. You might want to increase the number of iterations. Duality gap: 15.493665682119948, tolerance: 0.01402794191111797\n",
      "  model = cd_fast.enet_coordinate_descent(\n",
      "C:\\Users\\maxle\\anaconda3\\lib\\site-packages\\sklearn\\linear_model\\_coordinate_descent.py:529: ConvergenceWarning: Objective did not converge. You might want to increase the number of iterations. Duality gap: 15.269631773892032, tolerance: 0.014015897814864153\n",
      "  model = cd_fast.enet_coordinate_descent(\n",
      "C:\\Users\\maxle\\anaconda3\\lib\\site-packages\\sklearn\\linear_model\\_coordinate_descent.py:529: ConvergenceWarning: Objective did not converge. You might want to increase the number of iterations. Duality gap: 15.50490037977119, tolerance: 0.013829800883236269\n",
      "  model = cd_fast.enet_coordinate_descent(\n",
      "C:\\Users\\maxle\\anaconda3\\lib\\site-packages\\sklearn\\linear_model\\_coordinate_descent.py:529: ConvergenceWarning: Objective did not converge. You might want to increase the number of iterations. Duality gap: 15.541870634463685, tolerance: 0.01384998620523727\n",
      "  model = cd_fast.enet_coordinate_descent(\n",
      "C:\\Users\\maxle\\anaconda3\\lib\\site-packages\\sklearn\\linear_model\\_coordinate_descent.py:529: ConvergenceWarning: Objective did not converge. You might want to increase the number of iterations. Duality gap: 15.142915268358001, tolerance: 0.013231675079835132\n",
      "  model = cd_fast.enet_coordinate_descent(\n",
      "C:\\Users\\maxle\\anaconda3\\lib\\site-packages\\sklearn\\linear_model\\_coordinate_descent.py:529: ConvergenceWarning: Objective did not converge. You might want to increase the number of iterations. Duality gap: 6.665617647478852, tolerance: 0.01402794191111797\n",
      "  model = cd_fast.enet_coordinate_descent(\n",
      "C:\\Users\\maxle\\anaconda3\\lib\\site-packages\\sklearn\\linear_model\\_coordinate_descent.py:529: ConvergenceWarning: Objective did not converge. You might want to increase the number of iterations. Duality gap: 6.734772613860771, tolerance: 0.014015897814864153\n",
      "  model = cd_fast.enet_coordinate_descent(\n",
      "C:\\Users\\maxle\\anaconda3\\lib\\site-packages\\sklearn\\linear_model\\_coordinate_descent.py:529: ConvergenceWarning: Objective did not converge. You might want to increase the number of iterations. Duality gap: 6.661912170195503, tolerance: 0.013829800883236269\n",
      "  model = cd_fast.enet_coordinate_descent(\n",
      "C:\\Users\\maxle\\anaconda3\\lib\\site-packages\\sklearn\\linear_model\\_coordinate_descent.py:529: ConvergenceWarning: Objective did not converge. You might want to increase the number of iterations. Duality gap: 6.975602854764661, tolerance: 0.01384998620523727\n",
      "  model = cd_fast.enet_coordinate_descent(\n",
      "C:\\Users\\maxle\\anaconda3\\lib\\site-packages\\sklearn\\linear_model\\_coordinate_descent.py:529: ConvergenceWarning: Objective did not converge. You might want to increase the number of iterations. Duality gap: 6.607835390413511, tolerance: 0.013231675079835132\n",
      "  model = cd_fast.enet_coordinate_descent(\n",
      "C:\\Users\\maxle\\anaconda3\\lib\\site-packages\\sklearn\\linear_model\\_coordinate_descent.py:529: ConvergenceWarning: Objective did not converge. You might want to increase the number of iterations. Duality gap: 5.502516094842859, tolerance: 0.01402794191111797\n",
      "  model = cd_fast.enet_coordinate_descent(\n",
      "C:\\Users\\maxle\\anaconda3\\lib\\site-packages\\sklearn\\linear_model\\_coordinate_descent.py:529: ConvergenceWarning: Objective did not converge. You might want to increase the number of iterations. Duality gap: 5.438357444546581, tolerance: 0.014015897814864153\n",
      "  model = cd_fast.enet_coordinate_descent(\n",
      "C:\\Users\\maxle\\anaconda3\\lib\\site-packages\\sklearn\\linear_model\\_coordinate_descent.py:529: ConvergenceWarning: Objective did not converge. You might want to increase the number of iterations. Duality gap: 5.2741671931404, tolerance: 0.013829800883236269\n",
      "  model = cd_fast.enet_coordinate_descent(\n",
      "C:\\Users\\maxle\\anaconda3\\lib\\site-packages\\sklearn\\linear_model\\_coordinate_descent.py:529: ConvergenceWarning: Objective did not converge. You might want to increase the number of iterations. Duality gap: 5.62451382301926, tolerance: 0.01384998620523727\n",
      "  model = cd_fast.enet_coordinate_descent(\n",
      "C:\\Users\\maxle\\anaconda3\\lib\\site-packages\\sklearn\\linear_model\\_coordinate_descent.py:529: ConvergenceWarning: Objective did not converge. You might want to increase the number of iterations. Duality gap: 5.300082312429252, tolerance: 0.013231675079835132\n",
      "  model = cd_fast.enet_coordinate_descent(\n",
      "C:\\Users\\maxle\\anaconda3\\lib\\site-packages\\sklearn\\linear_model\\_coordinate_descent.py:529: ConvergenceWarning: Objective did not converge. You might want to increase the number of iterations. Duality gap: 0.06224702734640175, tolerance: 0.01402794191111797\n",
      "  model = cd_fast.enet_coordinate_descent(\n",
      "C:\\Users\\maxle\\anaconda3\\lib\\site-packages\\sklearn\\linear_model\\_coordinate_descent.py:529: ConvergenceWarning: Objective did not converge. You might want to increase the number of iterations. Duality gap: 0.068326106327115, tolerance: 0.014015897814864153\n",
      "  model = cd_fast.enet_coordinate_descent(\n",
      "C:\\Users\\maxle\\anaconda3\\lib\\site-packages\\sklearn\\linear_model\\_coordinate_descent.py:529: ConvergenceWarning: Objective did not converge. You might want to increase the number of iterations. Duality gap: 0.3861036133001834, tolerance: 0.013829800883236269\n",
      "  model = cd_fast.enet_coordinate_descent(\n",
      "C:\\Users\\maxle\\anaconda3\\lib\\site-packages\\sklearn\\linear_model\\_coordinate_descent.py:529: ConvergenceWarning: Objective did not converge. You might want to increase the number of iterations. Duality gap: 0.15285327388590897, tolerance: 0.01384998620523727\n",
      "  model = cd_fast.enet_coordinate_descent(\n",
      "C:\\Users\\maxle\\anaconda3\\lib\\site-packages\\sklearn\\linear_model\\_coordinate_descent.py:529: ConvergenceWarning: Objective did not converge. You might want to increase the number of iterations. Duality gap: 0.06793714877902168, tolerance: 0.013231675079835132\n",
      "  model = cd_fast.enet_coordinate_descent(\n"
     ]
    },
    {
     "name": "stderr",
     "output_type": "stream",
     "text": [
      "C:\\Users\\maxle\\anaconda3\\lib\\site-packages\\sklearn\\linear_model\\_coordinate_descent.py:529: ConvergenceWarning: Objective did not converge. You might want to increase the number of iterations. Duality gap: 16.152147458850884, tolerance: 0.01402794191111797\n",
      "  model = cd_fast.enet_coordinate_descent(\n",
      "C:\\Users\\maxle\\anaconda3\\lib\\site-packages\\sklearn\\linear_model\\_coordinate_descent.py:529: ConvergenceWarning: Objective did not converge. You might want to increase the number of iterations. Duality gap: 15.946810843835097, tolerance: 0.014015897814864153\n",
      "  model = cd_fast.enet_coordinate_descent(\n",
      "C:\\Users\\maxle\\anaconda3\\lib\\site-packages\\sklearn\\linear_model\\_coordinate_descent.py:529: ConvergenceWarning: Objective did not converge. You might want to increase the number of iterations. Duality gap: 16.142081512062262, tolerance: 0.013829800883236269\n",
      "  model = cd_fast.enet_coordinate_descent(\n",
      "C:\\Users\\maxle\\anaconda3\\lib\\site-packages\\sklearn\\linear_model\\_coordinate_descent.py:529: ConvergenceWarning: Objective did not converge. You might want to increase the number of iterations. Duality gap: 16.130983425159087, tolerance: 0.01384998620523727\n",
      "  model = cd_fast.enet_coordinate_descent(\n",
      "C:\\Users\\maxle\\anaconda3\\lib\\site-packages\\sklearn\\linear_model\\_coordinate_descent.py:529: ConvergenceWarning: Objective did not converge. You might want to increase the number of iterations. Duality gap: 15.782964763130542, tolerance: 0.013231675079835132\n",
      "  model = cd_fast.enet_coordinate_descent(\n",
      "C:\\Users\\maxle\\anaconda3\\lib\\site-packages\\sklearn\\linear_model\\_coordinate_descent.py:529: ConvergenceWarning: Objective did not converge. You might want to increase the number of iterations. Duality gap: 7.010636625437298, tolerance: 0.01402794191111797\n",
      "  model = cd_fast.enet_coordinate_descent(\n",
      "C:\\Users\\maxle\\anaconda3\\lib\\site-packages\\sklearn\\linear_model\\_coordinate_descent.py:529: ConvergenceWarning: Objective did not converge. You might want to increase the number of iterations. Duality gap: 7.041622699580678, tolerance: 0.014015897814864153\n",
      "  model = cd_fast.enet_coordinate_descent(\n",
      "C:\\Users\\maxle\\anaconda3\\lib\\site-packages\\sklearn\\linear_model\\_coordinate_descent.py:529: ConvergenceWarning: Objective did not converge. You might want to increase the number of iterations. Duality gap: 6.974451567733319, tolerance: 0.013829800883236269\n",
      "  model = cd_fast.enet_coordinate_descent(\n",
      "C:\\Users\\maxle\\anaconda3\\lib\\site-packages\\sklearn\\linear_model\\_coordinate_descent.py:529: ConvergenceWarning: Objective did not converge. You might want to increase the number of iterations. Duality gap: 7.363481259252996, tolerance: 0.01384998620523727\n",
      "  model = cd_fast.enet_coordinate_descent(\n",
      "C:\\Users\\maxle\\anaconda3\\lib\\site-packages\\sklearn\\linear_model\\_coordinate_descent.py:529: ConvergenceWarning: Objective did not converge. You might want to increase the number of iterations. Duality gap: 6.903845727934037, tolerance: 0.013231675079835132\n",
      "  model = cd_fast.enet_coordinate_descent(\n",
      "C:\\Users\\maxle\\anaconda3\\lib\\site-packages\\sklearn\\linear_model\\_coordinate_descent.py:529: ConvergenceWarning: Objective did not converge. You might want to increase the number of iterations. Duality gap: 5.801087058766861, tolerance: 0.01402794191111797\n",
      "  model = cd_fast.enet_coordinate_descent(\n",
      "C:\\Users\\maxle\\anaconda3\\lib\\site-packages\\sklearn\\linear_model\\_coordinate_descent.py:529: ConvergenceWarning: Objective did not converge. You might want to increase the number of iterations. Duality gap: 5.749177593969803, tolerance: 0.014015897814864153\n",
      "  model = cd_fast.enet_coordinate_descent(\n",
      "C:\\Users\\maxle\\anaconda3\\lib\\site-packages\\sklearn\\linear_model\\_coordinate_descent.py:529: ConvergenceWarning: Objective did not converge. You might want to increase the number of iterations. Duality gap: 5.543449878166596, tolerance: 0.013829800883236269\n",
      "  model = cd_fast.enet_coordinate_descent(\n",
      "C:\\Users\\maxle\\anaconda3\\lib\\site-packages\\sklearn\\linear_model\\_coordinate_descent.py:529: ConvergenceWarning: Objective did not converge. You might want to increase the number of iterations. Duality gap: 5.897490324124099, tolerance: 0.01384998620523727\n",
      "  model = cd_fast.enet_coordinate_descent(\n",
      "C:\\Users\\maxle\\anaconda3\\lib\\site-packages\\sklearn\\linear_model\\_coordinate_descent.py:529: ConvergenceWarning: Objective did not converge. You might want to increase the number of iterations. Duality gap: 5.595759940661143, tolerance: 0.013231675079835132\n",
      "  model = cd_fast.enet_coordinate_descent(\n",
      "C:\\Users\\maxle\\anaconda3\\lib\\site-packages\\sklearn\\linear_model\\_coordinate_descent.py:529: ConvergenceWarning: Objective did not converge. You might want to increase the number of iterations. Duality gap: 0.04524846813303096, tolerance: 0.01402794191111797\n",
      "  model = cd_fast.enet_coordinate_descent(\n",
      "C:\\Users\\maxle\\anaconda3\\lib\\site-packages\\sklearn\\linear_model\\_coordinate_descent.py:529: ConvergenceWarning: Objective did not converge. You might want to increase the number of iterations. Duality gap: 0.04090561461380737, tolerance: 0.014015897814864153\n",
      "  model = cd_fast.enet_coordinate_descent(\n",
      "C:\\Users\\maxle\\anaconda3\\lib\\site-packages\\sklearn\\linear_model\\_coordinate_descent.py:529: ConvergenceWarning: Objective did not converge. You might want to increase the number of iterations. Duality gap: 0.07310886237377456, tolerance: 0.013829800883236269\n",
      "  model = cd_fast.enet_coordinate_descent(\n",
      "C:\\Users\\maxle\\anaconda3\\lib\\site-packages\\sklearn\\linear_model\\_coordinate_descent.py:529: ConvergenceWarning: Objective did not converge. You might want to increase the number of iterations. Duality gap: 0.07756390465099816, tolerance: 0.01384998620523727\n",
      "  model = cd_fast.enet_coordinate_descent(\n",
      "C:\\Users\\maxle\\anaconda3\\lib\\site-packages\\sklearn\\linear_model\\_coordinate_descent.py:529: ConvergenceWarning: Objective did not converge. You might want to increase the number of iterations. Duality gap: 0.05600335644264476, tolerance: 0.013231675079835132\n",
      "  model = cd_fast.enet_coordinate_descent(\n",
      "C:\\Users\\maxle\\anaconda3\\lib\\site-packages\\sklearn\\linear_model\\_coordinate_descent.py:529: ConvergenceWarning: Objective did not converge. You might want to increase the number of iterations. Duality gap: 16.919763994850456, tolerance: 0.01402794191111797\n",
      "  model = cd_fast.enet_coordinate_descent(\n",
      "C:\\Users\\maxle\\anaconda3\\lib\\site-packages\\sklearn\\linear_model\\_coordinate_descent.py:529: ConvergenceWarning: Objective did not converge. You might want to increase the number of iterations. Duality gap: 16.732843853630133, tolerance: 0.014015897814864153\n",
      "  model = cd_fast.enet_coordinate_descent(\n",
      "C:\\Users\\maxle\\anaconda3\\lib\\site-packages\\sklearn\\linear_model\\_coordinate_descent.py:529: ConvergenceWarning: Objective did not converge. You might want to increase the number of iterations. Duality gap: 16.91954069891129, tolerance: 0.013829800883236269\n",
      "  model = cd_fast.enet_coordinate_descent(\n",
      "C:\\Users\\maxle\\anaconda3\\lib\\site-packages\\sklearn\\linear_model\\_coordinate_descent.py:529: ConvergenceWarning: Objective did not converge. You might want to increase the number of iterations. Duality gap: 16.814552569747168, tolerance: 0.01384998620523727\n",
      "  model = cd_fast.enet_coordinate_descent(\n",
      "C:\\Users\\maxle\\anaconda3\\lib\\site-packages\\sklearn\\linear_model\\_coordinate_descent.py:529: ConvergenceWarning: Objective did not converge. You might want to increase the number of iterations. Duality gap: 16.526510533809667, tolerance: 0.013231675079835132\n",
      "  model = cd_fast.enet_coordinate_descent(\n",
      "C:\\Users\\maxle\\anaconda3\\lib\\site-packages\\sklearn\\linear_model\\_coordinate_descent.py:529: ConvergenceWarning: Objective did not converge. You might want to increase the number of iterations. Duality gap: 7.332187942628532, tolerance: 0.01402794191111797\n",
      "  model = cd_fast.enet_coordinate_descent(\n",
      "C:\\Users\\maxle\\anaconda3\\lib\\site-packages\\sklearn\\linear_model\\_coordinate_descent.py:529: ConvergenceWarning: Objective did not converge. You might want to increase the number of iterations. Duality gap: 7.387163501717673, tolerance: 0.014015897814864153\n",
      "  model = cd_fast.enet_coordinate_descent(\n",
      "C:\\Users\\maxle\\anaconda3\\lib\\site-packages\\sklearn\\linear_model\\_coordinate_descent.py:529: ConvergenceWarning: Objective did not converge. You might want to increase the number of iterations. Duality gap: 7.286945113858593, tolerance: 0.013829800883236269\n",
      "  model = cd_fast.enet_coordinate_descent(\n",
      "C:\\Users\\maxle\\anaconda3\\lib\\site-packages\\sklearn\\linear_model\\_coordinate_descent.py:529: ConvergenceWarning: Objective did not converge. You might want to increase the number of iterations. Duality gap: 7.738859222071634, tolerance: 0.01384998620523727\n",
      "  model = cd_fast.enet_coordinate_descent(\n",
      "C:\\Users\\maxle\\anaconda3\\lib\\site-packages\\sklearn\\linear_model\\_coordinate_descent.py:529: ConvergenceWarning: Objective did not converge. You might want to increase the number of iterations. Duality gap: 7.2402798159284485, tolerance: 0.013231675079835132\n",
      "  model = cd_fast.enet_coordinate_descent(\n",
      "C:\\Users\\maxle\\anaconda3\\lib\\site-packages\\sklearn\\linear_model\\_coordinate_descent.py:529: ConvergenceWarning: Objective did not converge. You might want to increase the number of iterations. Duality gap: 6.155467560779765, tolerance: 0.01402794191111797\n",
      "  model = cd_fast.enet_coordinate_descent(\n",
      "C:\\Users\\maxle\\anaconda3\\lib\\site-packages\\sklearn\\linear_model\\_coordinate_descent.py:529: ConvergenceWarning: Objective did not converge. You might want to increase the number of iterations. Duality gap: 6.150438777596931, tolerance: 0.014015897814864153\n",
      "  model = cd_fast.enet_coordinate_descent(\n",
      "C:\\Users\\maxle\\anaconda3\\lib\\site-packages\\sklearn\\linear_model\\_coordinate_descent.py:529: ConvergenceWarning: Objective did not converge. You might want to increase the number of iterations. Duality gap: 5.878787244234377, tolerance: 0.013829800883236269\n",
      "  model = cd_fast.enet_coordinate_descent(\n",
      "C:\\Users\\maxle\\anaconda3\\lib\\site-packages\\sklearn\\linear_model\\_coordinate_descent.py:529: ConvergenceWarning: Objective did not converge. You might want to increase the number of iterations. Duality gap: 6.268311517009525, tolerance: 0.01384998620523727\n",
      "  model = cd_fast.enet_coordinate_descent(\n",
      "C:\\Users\\maxle\\anaconda3\\lib\\site-packages\\sklearn\\linear_model\\_coordinate_descent.py:529: ConvergenceWarning: Objective did not converge. You might want to increase the number of iterations. Duality gap: 5.997751548310049, tolerance: 0.013231675079835132\n",
      "  model = cd_fast.enet_coordinate_descent(\n",
      "C:\\Users\\maxle\\anaconda3\\lib\\site-packages\\sklearn\\linear_model\\_coordinate_descent.py:529: ConvergenceWarning: Objective did not converge. You might want to increase the number of iterations. Duality gap: 0.03723536171045083, tolerance: 0.01402794191111797\n",
      "  model = cd_fast.enet_coordinate_descent(\n",
      "C:\\Users\\maxle\\anaconda3\\lib\\site-packages\\sklearn\\linear_model\\_coordinate_descent.py:529: ConvergenceWarning: Objective did not converge. You might want to increase the number of iterations. Duality gap: 0.03797404488217282, tolerance: 0.014015897814864153\n",
      "  model = cd_fast.enet_coordinate_descent(\n",
      "C:\\Users\\maxle\\anaconda3\\lib\\site-packages\\sklearn\\linear_model\\_coordinate_descent.py:529: ConvergenceWarning: Objective did not converge. You might want to increase the number of iterations. Duality gap: 0.06130850378942121, tolerance: 0.013829800883236269\n",
      "  model = cd_fast.enet_coordinate_descent(\n",
      "C:\\Users\\maxle\\anaconda3\\lib\\site-packages\\sklearn\\linear_model\\_coordinate_descent.py:529: ConvergenceWarning: Objective did not converge. You might want to increase the number of iterations. Duality gap: 0.07247502249524729, tolerance: 0.01384998620523727\n",
      "  model = cd_fast.enet_coordinate_descent(\n",
      "C:\\Users\\maxle\\anaconda3\\lib\\site-packages\\sklearn\\linear_model\\_coordinate_descent.py:529: ConvergenceWarning: Objective did not converge. You might want to increase the number of iterations. Duality gap: 0.04913816813482441, tolerance: 0.013231675079835132\n",
      "  model = cd_fast.enet_coordinate_descent(\n"
     ]
    },
    {
     "name": "stderr",
     "output_type": "stream",
     "text": [
      "C:\\Users\\maxle\\anaconda3\\lib\\site-packages\\sklearn\\linear_model\\_coordinate_descent.py:529: ConvergenceWarning: Objective did not converge. You might want to increase the number of iterations. Duality gap: 17.794150904817396, tolerance: 0.01402794191111797\n",
      "  model = cd_fast.enet_coordinate_descent(\n",
      "C:\\Users\\maxle\\anaconda3\\lib\\site-packages\\sklearn\\linear_model\\_coordinate_descent.py:529: ConvergenceWarning: Objective did not converge. You might want to increase the number of iterations. Duality gap: 17.630360517023025, tolerance: 0.014015897814864153\n",
      "  model = cd_fast.enet_coordinate_descent(\n",
      "C:\\Users\\maxle\\anaconda3\\lib\\site-packages\\sklearn\\linear_model\\_coordinate_descent.py:529: ConvergenceWarning: Objective did not converge. You might want to increase the number of iterations. Duality gap: 17.831085315547597, tolerance: 0.013829800883236269\n",
      "  model = cd_fast.enet_coordinate_descent(\n",
      "C:\\Users\\maxle\\anaconda3\\lib\\site-packages\\sklearn\\linear_model\\_coordinate_descent.py:529: ConvergenceWarning: Objective did not converge. You might want to increase the number of iterations. Duality gap: 17.589601438075924, tolerance: 0.01384998620523727\n",
      "  model = cd_fast.enet_coordinate_descent(\n",
      "C:\\Users\\maxle\\anaconda3\\lib\\site-packages\\sklearn\\linear_model\\_coordinate_descent.py:529: ConvergenceWarning: Objective did not converge. You might want to increase the number of iterations. Duality gap: 17.344739652897196, tolerance: 0.013231675079835132\n",
      "  model = cd_fast.enet_coordinate_descent(\n",
      "C:\\Users\\maxle\\anaconda3\\lib\\site-packages\\sklearn\\linear_model\\_coordinate_descent.py:529: ConvergenceWarning: Objective did not converge. You might want to increase the number of iterations. Duality gap: 7.683152884610173, tolerance: 0.01402794191111797\n",
      "  model = cd_fast.enet_coordinate_descent(\n",
      "C:\\Users\\maxle\\anaconda3\\lib\\site-packages\\sklearn\\linear_model\\_coordinate_descent.py:529: ConvergenceWarning: Objective did not converge. You might want to increase the number of iterations. Duality gap: 7.752739227859857, tolerance: 0.014015897814864153\n",
      "  model = cd_fast.enet_coordinate_descent(\n",
      "C:\\Users\\maxle\\anaconda3\\lib\\site-packages\\sklearn\\linear_model\\_coordinate_descent.py:529: ConvergenceWarning: Objective did not converge. You might want to increase the number of iterations. Duality gap: 7.588193683367192, tolerance: 0.013829800883236269\n",
      "  model = cd_fast.enet_coordinate_descent(\n",
      "C:\\Users\\maxle\\anaconda3\\lib\\site-packages\\sklearn\\linear_model\\_coordinate_descent.py:529: ConvergenceWarning: Objective did not converge. You might want to increase the number of iterations. Duality gap: 8.07249127984451, tolerance: 0.01384998620523727\n",
      "  model = cd_fast.enet_coordinate_descent(\n",
      "C:\\Users\\maxle\\anaconda3\\lib\\site-packages\\sklearn\\linear_model\\_coordinate_descent.py:529: ConvergenceWarning: Objective did not converge. You might want to increase the number of iterations. Duality gap: 7.6056324202977255, tolerance: 0.013231675079835132\n",
      "  model = cd_fast.enet_coordinate_descent(\n",
      "C:\\Users\\maxle\\anaconda3\\lib\\site-packages\\sklearn\\linear_model\\_coordinate_descent.py:529: ConvergenceWarning: Objective did not converge. You might want to increase the number of iterations. Duality gap: 6.502222167888942, tolerance: 0.01402794191111797\n",
      "  model = cd_fast.enet_coordinate_descent(\n",
      "C:\\Users\\maxle\\anaconda3\\lib\\site-packages\\sklearn\\linear_model\\_coordinate_descent.py:529: ConvergenceWarning: Objective did not converge. You might want to increase the number of iterations. Duality gap: 6.572601832164609, tolerance: 0.014015897814864153\n",
      "  model = cd_fast.enet_coordinate_descent(\n",
      "C:\\Users\\maxle\\anaconda3\\lib\\site-packages\\sklearn\\linear_model\\_coordinate_descent.py:529: ConvergenceWarning: Objective did not converge. You might want to increase the number of iterations. Duality gap: 6.281411514408289, tolerance: 0.013829800883236269\n",
      "  model = cd_fast.enet_coordinate_descent(\n",
      "C:\\Users\\maxle\\anaconda3\\lib\\site-packages\\sklearn\\linear_model\\_coordinate_descent.py:529: ConvergenceWarning: Objective did not converge. You might want to increase the number of iterations. Duality gap: 6.648249990952098, tolerance: 0.01384998620523727\n",
      "  model = cd_fast.enet_coordinate_descent(\n",
      "C:\\Users\\maxle\\anaconda3\\lib\\site-packages\\sklearn\\linear_model\\_coordinate_descent.py:529: ConvergenceWarning: Objective did not converge. You might want to increase the number of iterations. Duality gap: 6.41510935259612, tolerance: 0.013231675079835132\n",
      "  model = cd_fast.enet_coordinate_descent(\n",
      "C:\\Users\\maxle\\anaconda3\\lib\\site-packages\\sklearn\\linear_model\\_coordinate_descent.py:529: ConvergenceWarning: Objective did not converge. You might want to increase the number of iterations. Duality gap: 0.02993185051906977, tolerance: 0.01402794191111797\n",
      "  model = cd_fast.enet_coordinate_descent(\n",
      "C:\\Users\\maxle\\anaconda3\\lib\\site-packages\\sklearn\\linear_model\\_coordinate_descent.py:529: ConvergenceWarning: Objective did not converge. You might want to increase the number of iterations. Duality gap: 0.04807211758590135, tolerance: 0.014015897814864153\n",
      "  model = cd_fast.enet_coordinate_descent(\n",
      "C:\\Users\\maxle\\anaconda3\\lib\\site-packages\\sklearn\\linear_model\\_coordinate_descent.py:529: ConvergenceWarning: Objective did not converge. You might want to increase the number of iterations. Duality gap: 0.05748610287454792, tolerance: 0.013829800883236269\n",
      "  model = cd_fast.enet_coordinate_descent(\n",
      "C:\\Users\\maxle\\anaconda3\\lib\\site-packages\\sklearn\\linear_model\\_coordinate_descent.py:529: ConvergenceWarning: Objective did not converge. You might want to increase the number of iterations. Duality gap: 0.03021900737969574, tolerance: 0.01384998620523727\n",
      "  model = cd_fast.enet_coordinate_descent(\n",
      "C:\\Users\\maxle\\anaconda3\\lib\\site-packages\\sklearn\\linear_model\\_coordinate_descent.py:529: ConvergenceWarning: Objective did not converge. You might want to increase the number of iterations. Duality gap: 0.036352351620618784, tolerance: 0.013231675079835132\n",
      "  model = cd_fast.enet_coordinate_descent(\n",
      "C:\\Users\\maxle\\anaconda3\\lib\\site-packages\\sklearn\\linear_model\\_coordinate_descent.py:529: ConvergenceWarning: Objective did not converge. You might want to increase the number of iterations. Duality gap: 18.77872944555308, tolerance: 0.01402794191111797\n",
      "  model = cd_fast.enet_coordinate_descent(\n",
      "C:\\Users\\maxle\\anaconda3\\lib\\site-packages\\sklearn\\linear_model\\_coordinate_descent.py:529: ConvergenceWarning: Objective did not converge. You might want to increase the number of iterations. Duality gap: 18.628675853452787, tolerance: 0.014015897814864153\n",
      "  model = cd_fast.enet_coordinate_descent(\n",
      "C:\\Users\\maxle\\anaconda3\\lib\\site-packages\\sklearn\\linear_model\\_coordinate_descent.py:529: ConvergenceWarning: Objective did not converge. You might want to increase the number of iterations. Duality gap: 18.86529250030278, tolerance: 0.013829800883236269\n",
      "  model = cd_fast.enet_coordinate_descent(\n",
      "C:\\Users\\maxle\\anaconda3\\lib\\site-packages\\sklearn\\linear_model\\_coordinate_descent.py:529: ConvergenceWarning: Objective did not converge. You might want to increase the number of iterations. Duality gap: 18.442539269680935, tolerance: 0.01384998620523727\n",
      "  model = cd_fast.enet_coordinate_descent(\n",
      "C:\\Users\\maxle\\anaconda3\\lib\\site-packages\\sklearn\\linear_model\\_coordinate_descent.py:529: ConvergenceWarning: Objective did not converge. You might want to increase the number of iterations. Duality gap: 18.265841468911344, tolerance: 0.013231675079835132\n",
      "  model = cd_fast.enet_coordinate_descent(\n",
      "C:\\Users\\maxle\\anaconda3\\lib\\site-packages\\sklearn\\linear_model\\_coordinate_descent.py:529: ConvergenceWarning: Objective did not converge. You might want to increase the number of iterations. Duality gap: 8.02340949578402, tolerance: 0.01402794191111797\n",
      "  model = cd_fast.enet_coordinate_descent(\n",
      "C:\\Users\\maxle\\anaconda3\\lib\\site-packages\\sklearn\\linear_model\\_coordinate_descent.py:529: ConvergenceWarning: Objective did not converge. You might want to increase the number of iterations. Duality gap: 8.09057949134609, tolerance: 0.014015897814864153\n",
      "  model = cd_fast.enet_coordinate_descent(\n",
      "C:\\Users\\maxle\\anaconda3\\lib\\site-packages\\sklearn\\linear_model\\_coordinate_descent.py:529: ConvergenceWarning: Objective did not converge. You might want to increase the number of iterations. Duality gap: 7.877651546274786, tolerance: 0.013829800883236269\n",
      "  model = cd_fast.enet_coordinate_descent(\n"
     ]
    },
    {
     "name": "stderr",
     "output_type": "stream",
     "text": [
      "C:\\Users\\maxle\\anaconda3\\lib\\site-packages\\sklearn\\linear_model\\_coordinate_descent.py:529: ConvergenceWarning: Objective did not converge. You might want to increase the number of iterations. Duality gap: 8.492299938817705, tolerance: 0.01384998620523727\n",
      "  model = cd_fast.enet_coordinate_descent(\n",
      "C:\\Users\\maxle\\anaconda3\\lib\\site-packages\\sklearn\\linear_model\\_coordinate_descent.py:529: ConvergenceWarning: Objective did not converge. You might want to increase the number of iterations. Duality gap: 7.883567013462188, tolerance: 0.013231675079835132\n",
      "  model = cd_fast.enet_coordinate_descent(\n",
      "C:\\Users\\maxle\\anaconda3\\lib\\site-packages\\sklearn\\linear_model\\_coordinate_descent.py:529: ConvergenceWarning: Objective did not converge. You might want to increase the number of iterations. Duality gap: 6.728310244614376, tolerance: 0.01402794191111797\n",
      "  model = cd_fast.enet_coordinate_descent(\n",
      "C:\\Users\\maxle\\anaconda3\\lib\\site-packages\\sklearn\\linear_model\\_coordinate_descent.py:529: ConvergenceWarning: Objective did not converge. You might want to increase the number of iterations. Duality gap: 6.9835499425090335, tolerance: 0.014015897814864153\n",
      "  model = cd_fast.enet_coordinate_descent(\n",
      "C:\\Users\\maxle\\anaconda3\\lib\\site-packages\\sklearn\\linear_model\\_coordinate_descent.py:529: ConvergenceWarning: Objective did not converge. You might want to increase the number of iterations. Duality gap: 6.65692590658624, tolerance: 0.013829800883236269\n",
      "  model = cd_fast.enet_coordinate_descent(\n",
      "C:\\Users\\maxle\\anaconda3\\lib\\site-packages\\sklearn\\linear_model\\_coordinate_descent.py:529: ConvergenceWarning: Objective did not converge. You might want to increase the number of iterations. Duality gap: 7.162156188275762, tolerance: 0.01384998620523727\n",
      "  model = cd_fast.enet_coordinate_descent(\n",
      "C:\\Users\\maxle\\anaconda3\\lib\\site-packages\\sklearn\\linear_model\\_coordinate_descent.py:529: ConvergenceWarning: Objective did not converge. You might want to increase the number of iterations. Duality gap: 6.819724945815927, tolerance: 0.013231675079835132\n",
      "  model = cd_fast.enet_coordinate_descent(\n",
      "C:\\Users\\maxle\\anaconda3\\lib\\site-packages\\sklearn\\linear_model\\_coordinate_descent.py:529: ConvergenceWarning: Objective did not converge. You might want to increase the number of iterations. Duality gap: 0.08678079832916552, tolerance: 0.01402794191111797\n",
      "  model = cd_fast.enet_coordinate_descent(\n",
      "C:\\Users\\maxle\\anaconda3\\lib\\site-packages\\sklearn\\linear_model\\_coordinate_descent.py:529: ConvergenceWarning: Objective did not converge. You might want to increase the number of iterations. Duality gap: 0.07372680241501328, tolerance: 0.014015897814864153\n",
      "  model = cd_fast.enet_coordinate_descent(\n",
      "C:\\Users\\maxle\\anaconda3\\lib\\site-packages\\sklearn\\linear_model\\_coordinate_descent.py:529: ConvergenceWarning: Objective did not converge. You might want to increase the number of iterations. Duality gap: 0.05193367660470827, tolerance: 0.013829800883236269\n",
      "  model = cd_fast.enet_coordinate_descent(\n",
      "C:\\Users\\maxle\\anaconda3\\lib\\site-packages\\sklearn\\linear_model\\_coordinate_descent.py:529: ConvergenceWarning: Objective did not converge. You might want to increase the number of iterations. Duality gap: 0.07685975926840705, tolerance: 0.01384998620523727\n",
      "  model = cd_fast.enet_coordinate_descent(\n",
      "C:\\Users\\maxle\\anaconda3\\lib\\site-packages\\sklearn\\linear_model\\_coordinate_descent.py:529: ConvergenceWarning: Objective did not converge. You might want to increase the number of iterations. Duality gap: 0.031035008313738288, tolerance: 0.013231675079835132\n",
      "  model = cd_fast.enet_coordinate_descent(\n",
      "C:\\Users\\maxle\\anaconda3\\lib\\site-packages\\sklearn\\linear_model\\_coordinate_descent.py:529: ConvergenceWarning: Objective did not converge. You might want to increase the number of iterations. Duality gap: 19.905911711781222, tolerance: 0.01402794191111797\n",
      "  model = cd_fast.enet_coordinate_descent(\n",
      "C:\\Users\\maxle\\anaconda3\\lib\\site-packages\\sklearn\\linear_model\\_coordinate_descent.py:529: ConvergenceWarning: Objective did not converge. You might want to increase the number of iterations. Duality gap: 19.73894366168974, tolerance: 0.014015897814864153\n",
      "  model = cd_fast.enet_coordinate_descent(\n",
      "C:\\Users\\maxle\\anaconda3\\lib\\site-packages\\sklearn\\linear_model\\_coordinate_descent.py:529: ConvergenceWarning: Objective did not converge. You might want to increase the number of iterations. Duality gap: 20.017056218677457, tolerance: 0.013829800883236269\n",
      "  model = cd_fast.enet_coordinate_descent(\n",
      "C:\\Users\\maxle\\anaconda3\\lib\\site-packages\\sklearn\\linear_model\\_coordinate_descent.py:529: ConvergenceWarning: Objective did not converge. You might want to increase the number of iterations. Duality gap: 19.412442163649352, tolerance: 0.01384998620523727\n",
      "  model = cd_fast.enet_coordinate_descent(\n",
      "C:\\Users\\maxle\\anaconda3\\lib\\site-packages\\sklearn\\linear_model\\_coordinate_descent.py:529: ConvergenceWarning: Objective did not converge. You might want to increase the number of iterations. Duality gap: 19.307138483213226, tolerance: 0.013231675079835132\n",
      "  model = cd_fast.enet_coordinate_descent(\n",
      "C:\\Users\\maxle\\anaconda3\\lib\\site-packages\\sklearn\\linear_model\\_coordinate_descent.py:529: ConvergenceWarning: Objective did not converge. You might want to increase the number of iterations. Duality gap: 8.402794506870425, tolerance: 0.01402794191111797\n",
      "  model = cd_fast.enet_coordinate_descent(\n",
      "C:\\Users\\maxle\\anaconda3\\lib\\site-packages\\sklearn\\linear_model\\_coordinate_descent.py:529: ConvergenceWarning: Objective did not converge. You might want to increase the number of iterations. Duality gap: 8.238680959500167, tolerance: 0.014015897814864153\n",
      "  model = cd_fast.enet_coordinate_descent(\n",
      "C:\\Users\\maxle\\anaconda3\\lib\\site-packages\\sklearn\\linear_model\\_coordinate_descent.py:529: ConvergenceWarning: Objective did not converge. You might want to increase the number of iterations. Duality gap: 8.380016347435976, tolerance: 0.013829800883236269\n",
      "  model = cd_fast.enet_coordinate_descent(\n",
      "C:\\Users\\maxle\\anaconda3\\lib\\site-packages\\sklearn\\linear_model\\_coordinate_descent.py:529: ConvergenceWarning: Objective did not converge. You might want to increase the number of iterations. Duality gap: 8.70622110520307, tolerance: 0.01384998620523727\n",
      "  model = cd_fast.enet_coordinate_descent(\n",
      "C:\\Users\\maxle\\anaconda3\\lib\\site-packages\\sklearn\\linear_model\\_coordinate_descent.py:529: ConvergenceWarning: Objective did not converge. You might want to increase the number of iterations. Duality gap: 8.004944864363221, tolerance: 0.013231675079835132\n",
      "  model = cd_fast.enet_coordinate_descent(\n",
      "C:\\Users\\maxle\\anaconda3\\lib\\site-packages\\sklearn\\linear_model\\_coordinate_descent.py:529: ConvergenceWarning: Objective did not converge. You might want to increase the number of iterations. Duality gap: 7.057846925630222, tolerance: 0.01402794191111797\n",
      "  model = cd_fast.enet_coordinate_descent(\n",
      "C:\\Users\\maxle\\anaconda3\\lib\\site-packages\\sklearn\\linear_model\\_coordinate_descent.py:529: ConvergenceWarning: Objective did not converge. You might want to increase the number of iterations. Duality gap: 7.24882461439151, tolerance: 0.014015897814864153\n",
      "  model = cd_fast.enet_coordinate_descent(\n",
      "C:\\Users\\maxle\\anaconda3\\lib\\site-packages\\sklearn\\linear_model\\_coordinate_descent.py:529: ConvergenceWarning: Objective did not converge. You might want to increase the number of iterations. Duality gap: 7.074166435118057, tolerance: 0.013829800883236269\n",
      "  model = cd_fast.enet_coordinate_descent(\n",
      "C:\\Users\\maxle\\anaconda3\\lib\\site-packages\\sklearn\\linear_model\\_coordinate_descent.py:529: ConvergenceWarning: Objective did not converge. You might want to increase the number of iterations. Duality gap: 7.49744803612489, tolerance: 0.01384998620523727\n",
      "  model = cd_fast.enet_coordinate_descent(\n",
      "C:\\Users\\maxle\\anaconda3\\lib\\site-packages\\sklearn\\linear_model\\_coordinate_descent.py:529: ConvergenceWarning: Objective did not converge. You might want to increase the number of iterations. Duality gap: 7.008585209700345, tolerance: 0.013231675079835132\n",
      "  model = cd_fast.enet_coordinate_descent(\n",
      "C:\\Users\\maxle\\anaconda3\\lib\\site-packages\\sklearn\\linear_model\\_coordinate_descent.py:529: ConvergenceWarning: Objective did not converge. You might want to increase the number of iterations. Duality gap: 0.019960247376841878, tolerance: 0.01402794191111797\n",
      "  model = cd_fast.enet_coordinate_descent(\n",
      "C:\\Users\\maxle\\anaconda3\\lib\\site-packages\\sklearn\\linear_model\\_coordinate_descent.py:529: ConvergenceWarning: Objective did not converge. You might want to increase the number of iterations. Duality gap: 0.11756073873798023, tolerance: 0.013829800883236269\n",
      "  model = cd_fast.enet_coordinate_descent(\n"
     ]
    },
    {
     "name": "stderr",
     "output_type": "stream",
     "text": [
      "C:\\Users\\maxle\\anaconda3\\lib\\site-packages\\sklearn\\linear_model\\_coordinate_descent.py:529: ConvergenceWarning: Objective did not converge. You might want to increase the number of iterations. Duality gap: 0.01491590835145118, tolerance: 0.01384998620523727\n",
      "  model = cd_fast.enet_coordinate_descent(\n",
      "C:\\Users\\maxle\\anaconda3\\lib\\site-packages\\sklearn\\linear_model\\_coordinate_descent.py:529: ConvergenceWarning: Objective did not converge. You might want to increase the number of iterations. Duality gap: 0.021690783051024454, tolerance: 0.013231675079835132\n",
      "  model = cd_fast.enet_coordinate_descent(\n",
      "C:\\Users\\maxle\\anaconda3\\lib\\site-packages\\sklearn\\linear_model\\_coordinate_descent.py:529: ConvergenceWarning: Objective did not converge. You might want to increase the number of iterations. Duality gap: 21.138782068925142, tolerance: 0.01402794191111797\n",
      "  model = cd_fast.enet_coordinate_descent(\n",
      "C:\\Users\\maxle\\anaconda3\\lib\\site-packages\\sklearn\\linear_model\\_coordinate_descent.py:529: ConvergenceWarning: Objective did not converge. You might want to increase the number of iterations. Duality gap: 20.953605240193685, tolerance: 0.014015897814864153\n",
      "  model = cd_fast.enet_coordinate_descent(\n",
      "C:\\Users\\maxle\\anaconda3\\lib\\site-packages\\sklearn\\linear_model\\_coordinate_descent.py:529: ConvergenceWarning: Objective did not converge. You might want to increase the number of iterations. Duality gap: 21.292714189303368, tolerance: 0.013829800883236269\n",
      "  model = cd_fast.enet_coordinate_descent(\n",
      "C:\\Users\\maxle\\anaconda3\\lib\\site-packages\\sklearn\\linear_model\\_coordinate_descent.py:529: ConvergenceWarning: Objective did not converge. You might want to increase the number of iterations. Duality gap: 20.529756676900668, tolerance: 0.01384998620523727\n",
      "  model = cd_fast.enet_coordinate_descent(\n",
      "C:\\Users\\maxle\\anaconda3\\lib\\site-packages\\sklearn\\linear_model\\_coordinate_descent.py:529: ConvergenceWarning: Objective did not converge. You might want to increase the number of iterations. Duality gap: 20.377465902737026, tolerance: 0.013231675079835132\n",
      "  model = cd_fast.enet_coordinate_descent(\n",
      "C:\\Users\\maxle\\anaconda3\\lib\\site-packages\\sklearn\\linear_model\\_coordinate_descent.py:529: ConvergenceWarning: Objective did not converge. You might want to increase the number of iterations. Duality gap: 9.216073971688122, tolerance: 0.01402794191111797\n",
      "  model = cd_fast.enet_coordinate_descent(\n",
      "C:\\Users\\maxle\\anaconda3\\lib\\site-packages\\sklearn\\linear_model\\_coordinate_descent.py:529: ConvergenceWarning: Objective did not converge. You might want to increase the number of iterations. Duality gap: 8.709071383010983, tolerance: 0.014015897814864153\n",
      "  model = cd_fast.enet_coordinate_descent(\n",
      "C:\\Users\\maxle\\anaconda3\\lib\\site-packages\\sklearn\\linear_model\\_coordinate_descent.py:529: ConvergenceWarning: Objective did not converge. You might want to increase the number of iterations. Duality gap: 9.042799923327157, tolerance: 0.013829800883236269\n",
      "  model = cd_fast.enet_coordinate_descent(\n",
      "C:\\Users\\maxle\\anaconda3\\lib\\site-packages\\sklearn\\linear_model\\_coordinate_descent.py:529: ConvergenceWarning: Objective did not converge. You might want to increase the number of iterations. Duality gap: 9.220661721636231, tolerance: 0.01384998620523727\n",
      "  model = cd_fast.enet_coordinate_descent(\n",
      "C:\\Users\\maxle\\anaconda3\\lib\\site-packages\\sklearn\\linear_model\\_coordinate_descent.py:529: ConvergenceWarning: Objective did not converge. You might want to increase the number of iterations. Duality gap: 8.577759409264745, tolerance: 0.013231675079835132\n",
      "  model = cd_fast.enet_coordinate_descent(\n",
      "C:\\Users\\maxle\\anaconda3\\lib\\site-packages\\sklearn\\linear_model\\_coordinate_descent.py:529: ConvergenceWarning: Objective did not converge. You might want to increase the number of iterations. Duality gap: 7.17043538321221, tolerance: 0.01402794191111797\n",
      "  model = cd_fast.enet_coordinate_descent(\n",
      "C:\\Users\\maxle\\anaconda3\\lib\\site-packages\\sklearn\\linear_model\\_coordinate_descent.py:529: ConvergenceWarning: Objective did not converge. You might want to increase the number of iterations. Duality gap: 6.632324489539542, tolerance: 0.014015897814864153\n",
      "  model = cd_fast.enet_coordinate_descent(\n",
      "C:\\Users\\maxle\\anaconda3\\lib\\site-packages\\sklearn\\linear_model\\_coordinate_descent.py:529: ConvergenceWarning: Objective did not converge. You might want to increase the number of iterations. Duality gap: 7.305696352577093, tolerance: 0.013829800883236269\n",
      "  model = cd_fast.enet_coordinate_descent(\n",
      "C:\\Users\\maxle\\anaconda3\\lib\\site-packages\\sklearn\\linear_model\\_coordinate_descent.py:529: ConvergenceWarning: Objective did not converge. You might want to increase the number of iterations. Duality gap: 7.43536717939364, tolerance: 0.01384998620523727\n",
      "  model = cd_fast.enet_coordinate_descent(\n",
      "C:\\Users\\maxle\\anaconda3\\lib\\site-packages\\sklearn\\linear_model\\_coordinate_descent.py:529: ConvergenceWarning: Objective did not converge. You might want to increase the number of iterations. Duality gap: 6.577823726595214, tolerance: 0.013231675079835132\n",
      "  model = cd_fast.enet_coordinate_descent(\n",
      "C:\\Users\\maxle\\anaconda3\\lib\\site-packages\\sklearn\\linear_model\\_coordinate_descent.py:529: ConvergenceWarning: Objective did not converge. You might want to increase the number of iterations. Duality gap: 22.527979419268526, tolerance: 0.01402794191111797\n",
      "  model = cd_fast.enet_coordinate_descent(\n",
      "C:\\Users\\maxle\\anaconda3\\lib\\site-packages\\sklearn\\linear_model\\_coordinate_descent.py:529: ConvergenceWarning: Objective did not converge. You might want to increase the number of iterations. Duality gap: 22.24534980418779, tolerance: 0.014015897814864153\n",
      "  model = cd_fast.enet_coordinate_descent(\n",
      "C:\\Users\\maxle\\anaconda3\\lib\\site-packages\\sklearn\\linear_model\\_coordinate_descent.py:529: ConvergenceWarning: Objective did not converge. You might want to increase the number of iterations. Duality gap: 22.63939664593579, tolerance: 0.013829800883236269\n",
      "  model = cd_fast.enet_coordinate_descent(\n",
      "C:\\Users\\maxle\\anaconda3\\lib\\site-packages\\sklearn\\linear_model\\_coordinate_descent.py:529: ConvergenceWarning: Objective did not converge. You might want to increase the number of iterations. Duality gap: 21.73236857736275, tolerance: 0.01384998620523727\n",
      "  model = cd_fast.enet_coordinate_descent(\n",
      "C:\\Users\\maxle\\anaconda3\\lib\\site-packages\\sklearn\\linear_model\\_coordinate_descent.py:529: ConvergenceWarning: Objective did not converge. You might want to increase the number of iterations. Duality gap: 21.459939396140225, tolerance: 0.013231675079835132\n",
      "  model = cd_fast.enet_coordinate_descent(\n",
      "C:\\Users\\maxle\\anaconda3\\lib\\site-packages\\sklearn\\linear_model\\_coordinate_descent.py:529: ConvergenceWarning: Objective did not converge. You might want to increase the number of iterations. Duality gap: 9.806699179129966, tolerance: 0.01402794191111797\n",
      "  model = cd_fast.enet_coordinate_descent(\n",
      "C:\\Users\\maxle\\anaconda3\\lib\\site-packages\\sklearn\\linear_model\\_coordinate_descent.py:529: ConvergenceWarning: Objective did not converge. You might want to increase the number of iterations. Duality gap: 9.851941704347881, tolerance: 0.014015897814864153\n",
      "  model = cd_fast.enet_coordinate_descent(\n",
      "C:\\Users\\maxle\\anaconda3\\lib\\site-packages\\sklearn\\linear_model\\_coordinate_descent.py:529: ConvergenceWarning: Objective did not converge. You might want to increase the number of iterations. Duality gap: 9.553900642521384, tolerance: 0.013829800883236269\n",
      "  model = cd_fast.enet_coordinate_descent(\n",
      "C:\\Users\\maxle\\anaconda3\\lib\\site-packages\\sklearn\\linear_model\\_coordinate_descent.py:529: ConvergenceWarning: Objective did not converge. You might want to increase the number of iterations. Duality gap: 10.018022079371146, tolerance: 0.01384998620523727\n",
      "  model = cd_fast.enet_coordinate_descent(\n",
      "C:\\Users\\maxle\\anaconda3\\lib\\site-packages\\sklearn\\linear_model\\_coordinate_descent.py:529: ConvergenceWarning: Objective did not converge. You might want to increase the number of iterations. Duality gap: 9.407043521708633, tolerance: 0.013231675079835132\n",
      "  model = cd_fast.enet_coordinate_descent(\n",
      "C:\\Users\\maxle\\anaconda3\\lib\\site-packages\\sklearn\\linear_model\\_coordinate_descent.py:529: ConvergenceWarning: Objective did not converge. You might want to increase the number of iterations. Duality gap: 6.51666684924321, tolerance: 0.01402794191111797\n",
      "  model = cd_fast.enet_coordinate_descent(\n",
      "C:\\Users\\maxle\\anaconda3\\lib\\site-packages\\sklearn\\linear_model\\_coordinate_descent.py:529: ConvergenceWarning: Objective did not converge. You might want to increase the number of iterations. Duality gap: 6.575382335425022, tolerance: 0.014015897814864153\n",
      "  model = cd_fast.enet_coordinate_descent(\n",
      "C:\\Users\\maxle\\anaconda3\\lib\\site-packages\\sklearn\\linear_model\\_coordinate_descent.py:529: ConvergenceWarning: Objective did not converge. You might want to increase the number of iterations. Duality gap: 7.024335638127915, tolerance: 0.013829800883236269\n",
      "  model = cd_fast.enet_coordinate_descent(\n",
      "C:\\Users\\maxle\\anaconda3\\lib\\site-packages\\sklearn\\linear_model\\_coordinate_descent.py:529: ConvergenceWarning: Objective did not converge. You might want to increase the number of iterations. Duality gap: 7.080252065955543, tolerance: 0.01384998620523727\n",
      "  model = cd_fast.enet_coordinate_descent(\n",
      "C:\\Users\\maxle\\anaconda3\\lib\\site-packages\\sklearn\\linear_model\\_coordinate_descent.py:529: ConvergenceWarning: Objective did not converge. You might want to increase the number of iterations. Duality gap: 6.422832050116944, tolerance: 0.013231675079835132\n",
      "  model = cd_fast.enet_coordinate_descent(\n"
     ]
    },
    {
     "name": "stderr",
     "output_type": "stream",
     "text": [
      "C:\\Users\\maxle\\anaconda3\\lib\\site-packages\\sklearn\\linear_model\\_coordinate_descent.py:529: ConvergenceWarning: Objective did not converge. You might want to increase the number of iterations. Duality gap: 23.98085356971456, tolerance: 0.01402794191111797\n",
      "  model = cd_fast.enet_coordinate_descent(\n",
      "C:\\Users\\maxle\\anaconda3\\lib\\site-packages\\sklearn\\linear_model\\_coordinate_descent.py:529: ConvergenceWarning: Objective did not converge. You might want to increase the number of iterations. Duality gap: 23.484469486655044, tolerance: 0.014015897814864153\n",
      "  model = cd_fast.enet_coordinate_descent(\n",
      "C:\\Users\\maxle\\anaconda3\\lib\\site-packages\\sklearn\\linear_model\\_coordinate_descent.py:529: ConvergenceWarning: Objective did not converge. You might want to increase the number of iterations. Duality gap: 23.89003929588445, tolerance: 0.013829800883236269\n",
      "  model = cd_fast.enet_coordinate_descent(\n",
      "C:\\Users\\maxle\\anaconda3\\lib\\site-packages\\sklearn\\linear_model\\_coordinate_descent.py:529: ConvergenceWarning: Objective did not converge. You might want to increase the number of iterations. Duality gap: 22.927354779757763, tolerance: 0.01384998620523727\n",
      "  model = cd_fast.enet_coordinate_descent(\n",
      "C:\\Users\\maxle\\anaconda3\\lib\\site-packages\\sklearn\\linear_model\\_coordinate_descent.py:529: ConvergenceWarning: Objective did not converge. You might want to increase the number of iterations. Duality gap: 22.64393663431475, tolerance: 0.013231675079835132\n",
      "  model = cd_fast.enet_coordinate_descent(\n",
      "C:\\Users\\maxle\\anaconda3\\lib\\site-packages\\sklearn\\linear_model\\_coordinate_descent.py:529: ConvergenceWarning: Objective did not converge. You might want to increase the number of iterations. Duality gap: 10.185993573284428, tolerance: 0.01402794191111797\n",
      "  model = cd_fast.enet_coordinate_descent(\n",
      "C:\\Users\\maxle\\anaconda3\\lib\\site-packages\\sklearn\\linear_model\\_coordinate_descent.py:529: ConvergenceWarning: Objective did not converge. You might want to increase the number of iterations. Duality gap: 10.16121578599935, tolerance: 0.014015897814864153\n",
      "  model = cd_fast.enet_coordinate_descent(\n",
      "C:\\Users\\maxle\\anaconda3\\lib\\site-packages\\sklearn\\linear_model\\_coordinate_descent.py:529: ConvergenceWarning: Objective did not converge. You might want to increase the number of iterations. Duality gap: 10.217009351245462, tolerance: 0.013829800883236269\n",
      "  model = cd_fast.enet_coordinate_descent(\n",
      "C:\\Users\\maxle\\anaconda3\\lib\\site-packages\\sklearn\\linear_model\\_coordinate_descent.py:529: ConvergenceWarning: Objective did not converge. You might want to increase the number of iterations. Duality gap: 10.559795869857497, tolerance: 0.01384998620523727\n",
      "  model = cd_fast.enet_coordinate_descent(\n",
      "C:\\Users\\maxle\\anaconda3\\lib\\site-packages\\sklearn\\linear_model\\_coordinate_descent.py:529: ConvergenceWarning: Objective did not converge. You might want to increase the number of iterations. Duality gap: 9.797658269150023, tolerance: 0.013231675079835132\n",
      "  model = cd_fast.enet_coordinate_descent(\n",
      "C:\\Users\\maxle\\anaconda3\\lib\\site-packages\\sklearn\\linear_model\\_coordinate_descent.py:529: ConvergenceWarning: Objective did not converge. You might want to increase the number of iterations. Duality gap: 3.4152159569270086, tolerance: 0.01402794191111797\n",
      "  model = cd_fast.enet_coordinate_descent(\n",
      "C:\\Users\\maxle\\anaconda3\\lib\\site-packages\\sklearn\\linear_model\\_coordinate_descent.py:529: ConvergenceWarning: Objective did not converge. You might want to increase the number of iterations. Duality gap: 6.065821028416655, tolerance: 0.014015897814864153\n",
      "  model = cd_fast.enet_coordinate_descent(\n",
      "C:\\Users\\maxle\\anaconda3\\lib\\site-packages\\sklearn\\linear_model\\_coordinate_descent.py:529: ConvergenceWarning: Objective did not converge. You might want to increase the number of iterations. Duality gap: 6.334571044894094, tolerance: 0.013829800883236269\n",
      "  model = cd_fast.enet_coordinate_descent(\n",
      "C:\\Users\\maxle\\anaconda3\\lib\\site-packages\\sklearn\\linear_model\\_coordinate_descent.py:529: ConvergenceWarning: Objective did not converge. You might want to increase the number of iterations. Duality gap: 5.22776774603005, tolerance: 0.01384998620523727\n",
      "  model = cd_fast.enet_coordinate_descent(\n",
      "C:\\Users\\maxle\\anaconda3\\lib\\site-packages\\sklearn\\linear_model\\_coordinate_descent.py:529: ConvergenceWarning: Objective did not converge. You might want to increase the number of iterations. Duality gap: 5.737668037924185, tolerance: 0.013231675079835132\n",
      "  model = cd_fast.enet_coordinate_descent(\n",
      "C:\\Users\\maxle\\anaconda3\\lib\\site-packages\\sklearn\\linear_model\\_coordinate_descent.py:529: ConvergenceWarning: Objective did not converge. You might want to increase the number of iterations. Duality gap: 25.23174310720753, tolerance: 0.01402794191111797\n",
      "  model = cd_fast.enet_coordinate_descent(\n",
      "C:\\Users\\maxle\\anaconda3\\lib\\site-packages\\sklearn\\linear_model\\_coordinate_descent.py:529: ConvergenceWarning: Objective did not converge. You might want to increase the number of iterations. Duality gap: 24.231560356025128, tolerance: 0.014015897814864153\n",
      "  model = cd_fast.enet_coordinate_descent(\n",
      "C:\\Users\\maxle\\anaconda3\\lib\\site-packages\\sklearn\\linear_model\\_coordinate_descent.py:529: ConvergenceWarning: Objective did not converge. You might want to increase the number of iterations. Duality gap: 24.736128550524803, tolerance: 0.013829800883236269\n",
      "  model = cd_fast.enet_coordinate_descent(\n",
      "C:\\Users\\maxle\\anaconda3\\lib\\site-packages\\sklearn\\linear_model\\_coordinate_descent.py:529: ConvergenceWarning: Objective did not converge. You might want to increase the number of iterations. Duality gap: 23.895970744265416, tolerance: 0.01384998620523727\n",
      "  model = cd_fast.enet_coordinate_descent(\n",
      "C:\\Users\\maxle\\anaconda3\\lib\\site-packages\\sklearn\\linear_model\\_coordinate_descent.py:529: ConvergenceWarning: Objective did not converge. You might want to increase the number of iterations. Duality gap: 23.4757226830473, tolerance: 0.013231675079835132\n",
      "  model = cd_fast.enet_coordinate_descent(\n",
      "C:\\Users\\maxle\\anaconda3\\lib\\site-packages\\sklearn\\linear_model\\_coordinate_descent.py:529: ConvergenceWarning: Objective did not converge. You might want to increase the number of iterations. Duality gap: 10.28371389062884, tolerance: 0.01402794191111797\n",
      "  model = cd_fast.enet_coordinate_descent(\n",
      "C:\\Users\\maxle\\anaconda3\\lib\\site-packages\\sklearn\\linear_model\\_coordinate_descent.py:529: ConvergenceWarning: Objective did not converge. You might want to increase the number of iterations. Duality gap: 10.257221810946145, tolerance: 0.014015897814864153\n",
      "  model = cd_fast.enet_coordinate_descent(\n",
      "C:\\Users\\maxle\\anaconda3\\lib\\site-packages\\sklearn\\linear_model\\_coordinate_descent.py:529: ConvergenceWarning: Objective did not converge. You might want to increase the number of iterations. Duality gap: 9.411888247629276, tolerance: 0.013829800883236269\n",
      "  model = cd_fast.enet_coordinate_descent(\n",
      "C:\\Users\\maxle\\anaconda3\\lib\\site-packages\\sklearn\\linear_model\\_coordinate_descent.py:529: ConvergenceWarning: Objective did not converge. You might want to increase the number of iterations. Duality gap: 8.959511002069636, tolerance: 0.01384998620523727\n",
      "  model = cd_fast.enet_coordinate_descent(\n",
      "C:\\Users\\maxle\\anaconda3\\lib\\site-packages\\sklearn\\linear_model\\_coordinate_descent.py:529: ConvergenceWarning: Objective did not converge. You might want to increase the number of iterations. Duality gap: 8.162605011203242, tolerance: 0.013231675079835132\n",
      "  model = cd_fast.enet_coordinate_descent(\n",
      "C:\\Users\\maxle\\anaconda3\\lib\\site-packages\\sklearn\\linear_model\\_coordinate_descent.py:529: ConvergenceWarning: Objective did not converge. You might want to increase the number of iterations. Duality gap: 2.804659289075815, tolerance: 0.01402794191111797\n",
      "  model = cd_fast.enet_coordinate_descent(\n",
      "C:\\Users\\maxle\\anaconda3\\lib\\site-packages\\sklearn\\linear_model\\_coordinate_descent.py:529: ConvergenceWarning: Objective did not converge. You might want to increase the number of iterations. Duality gap: 3.5253139364321626, tolerance: 0.014015897814864153\n",
      "  model = cd_fast.enet_coordinate_descent(\n",
      "C:\\Users\\maxle\\anaconda3\\lib\\site-packages\\sklearn\\linear_model\\_coordinate_descent.py:529: ConvergenceWarning: Objective did not converge. You might want to increase the number of iterations. Duality gap: 3.1661547825717236, tolerance: 0.013829800883236269\n",
      "  model = cd_fast.enet_coordinate_descent(\n",
      "C:\\Users\\maxle\\anaconda3\\lib\\site-packages\\sklearn\\linear_model\\_coordinate_descent.py:529: ConvergenceWarning: Objective did not converge. You might want to increase the number of iterations. Duality gap: 2.936112653262221, tolerance: 0.01384998620523727\n",
      "  model = cd_fast.enet_coordinate_descent(\n",
      "C:\\Users\\maxle\\anaconda3\\lib\\site-packages\\sklearn\\linear_model\\_coordinate_descent.py:529: ConvergenceWarning: Objective did not converge. You might want to increase the number of iterations. Duality gap: 3.2830696471236998, tolerance: 0.013231675079835132\n",
      "  model = cd_fast.enet_coordinate_descent(\n"
     ]
    },
    {
     "name": "stderr",
     "output_type": "stream",
     "text": [
      "C:\\Users\\maxle\\anaconda3\\lib\\site-packages\\sklearn\\linear_model\\_coordinate_descent.py:529: ConvergenceWarning: Objective did not converge. You might want to increase the number of iterations. Duality gap: 26.045295331872122, tolerance: 0.01402794191111797\n",
      "  model = cd_fast.enet_coordinate_descent(\n",
      "C:\\Users\\maxle\\anaconda3\\lib\\site-packages\\sklearn\\linear_model\\_coordinate_descent.py:529: ConvergenceWarning: Objective did not converge. You might want to increase the number of iterations. Duality gap: 24.663382758759717, tolerance: 0.014015897814864153\n",
      "  model = cd_fast.enet_coordinate_descent(\n",
      "C:\\Users\\maxle\\anaconda3\\lib\\site-packages\\sklearn\\linear_model\\_coordinate_descent.py:529: ConvergenceWarning: Objective did not converge. You might want to increase the number of iterations. Duality gap: 24.997824516925228, tolerance: 0.013829800883236269\n",
      "  model = cd_fast.enet_coordinate_descent(\n",
      "C:\\Users\\maxle\\anaconda3\\lib\\site-packages\\sklearn\\linear_model\\_coordinate_descent.py:529: ConvergenceWarning: Objective did not converge. You might want to increase the number of iterations. Duality gap: 24.70066148496634, tolerance: 0.01384998620523727\n",
      "  model = cd_fast.enet_coordinate_descent(\n",
      "C:\\Users\\maxle\\anaconda3\\lib\\site-packages\\sklearn\\linear_model\\_coordinate_descent.py:529: ConvergenceWarning: Objective did not converge. You might want to increase the number of iterations. Duality gap: 24.291400002906254, tolerance: 0.013231675079835132\n",
      "  model = cd_fast.enet_coordinate_descent(\n",
      "C:\\Users\\maxle\\anaconda3\\lib\\site-packages\\sklearn\\linear_model\\_coordinate_descent.py:529: ConvergenceWarning: Objective did not converge. You might want to increase the number of iterations. Duality gap: 7.361685492512176, tolerance: 0.01402794191111797\n",
      "  model = cd_fast.enet_coordinate_descent(\n",
      "C:\\Users\\maxle\\anaconda3\\lib\\site-packages\\sklearn\\linear_model\\_coordinate_descent.py:529: ConvergenceWarning: Objective did not converge. You might want to increase the number of iterations. Duality gap: 8.96190488112536, tolerance: 0.014015897814864153\n",
      "  model = cd_fast.enet_coordinate_descent(\n",
      "C:\\Users\\maxle\\anaconda3\\lib\\site-packages\\sklearn\\linear_model\\_coordinate_descent.py:529: ConvergenceWarning: Objective did not converge. You might want to increase the number of iterations. Duality gap: 8.659975836101971, tolerance: 0.013829800883236269\n",
      "  model = cd_fast.enet_coordinate_descent(\n",
      "C:\\Users\\maxle\\anaconda3\\lib\\site-packages\\sklearn\\linear_model\\_coordinate_descent.py:529: ConvergenceWarning: Objective did not converge. You might want to increase the number of iterations. Duality gap: 7.93779490756266, tolerance: 0.01384998620523727\n",
      "  model = cd_fast.enet_coordinate_descent(\n",
      "C:\\Users\\maxle\\anaconda3\\lib\\site-packages\\sklearn\\linear_model\\_coordinate_descent.py:529: ConvergenceWarning: Objective did not converge. You might want to increase the number of iterations. Duality gap: 8.085893520308582, tolerance: 0.013231675079835132\n",
      "  model = cd_fast.enet_coordinate_descent(\n",
      "C:\\Users\\maxle\\anaconda3\\lib\\site-packages\\sklearn\\linear_model\\_coordinate_descent.py:529: ConvergenceWarning: Objective did not converge. You might want to increase the number of iterations. Duality gap: 2.2429716194984533, tolerance: 0.01402794191111797\n",
      "  model = cd_fast.enet_coordinate_descent(\n",
      "C:\\Users\\maxle\\anaconda3\\lib\\site-packages\\sklearn\\linear_model\\_coordinate_descent.py:529: ConvergenceWarning: Objective did not converge. You might want to increase the number of iterations. Duality gap: 2.1055139683846793, tolerance: 0.014015897814864153\n",
      "  model = cd_fast.enet_coordinate_descent(\n",
      "C:\\Users\\maxle\\anaconda3\\lib\\site-packages\\sklearn\\linear_model\\_coordinate_descent.py:529: ConvergenceWarning: Objective did not converge. You might want to increase the number of iterations. Duality gap: 2.198694577434889, tolerance: 0.013829800883236269\n",
      "  model = cd_fast.enet_coordinate_descent(\n",
      "C:\\Users\\maxle\\anaconda3\\lib\\site-packages\\sklearn\\linear_model\\_coordinate_descent.py:529: ConvergenceWarning: Objective did not converge. You might want to increase the number of iterations. Duality gap: 2.147828361013577, tolerance: 0.01384998620523727\n",
      "  model = cd_fast.enet_coordinate_descent(\n",
      "C:\\Users\\maxle\\anaconda3\\lib\\site-packages\\sklearn\\linear_model\\_coordinate_descent.py:529: ConvergenceWarning: Objective did not converge. You might want to increase the number of iterations. Duality gap: 1.9233781675833548, tolerance: 0.013231675079835132\n",
      "  model = cd_fast.enet_coordinate_descent(\n",
      "C:\\Users\\maxle\\anaconda3\\lib\\site-packages\\sklearn\\linear_model\\_coordinate_descent.py:529: ConvergenceWarning: Objective did not converge. You might want to increase the number of iterations. Duality gap: 26.606506990670702, tolerance: 0.01402794191111797\n",
      "  model = cd_fast.enet_coordinate_descent(\n",
      "C:\\Users\\maxle\\anaconda3\\lib\\site-packages\\sklearn\\linear_model\\_coordinate_descent.py:529: ConvergenceWarning: Objective did not converge. You might want to increase the number of iterations. Duality gap: 25.47986045642221, tolerance: 0.014015897814864153\n",
      "  model = cd_fast.enet_coordinate_descent(\n",
      "C:\\Users\\maxle\\anaconda3\\lib\\site-packages\\sklearn\\linear_model\\_coordinate_descent.py:529: ConvergenceWarning: Objective did not converge. You might want to increase the number of iterations. Duality gap: 26.15266184215247, tolerance: 0.013829800883236269\n",
      "  model = cd_fast.enet_coordinate_descent(\n",
      "C:\\Users\\maxle\\anaconda3\\lib\\site-packages\\sklearn\\linear_model\\_coordinate_descent.py:529: ConvergenceWarning: Objective did not converge. You might want to increase the number of iterations. Duality gap: 25.67330403442933, tolerance: 0.01384998620523727\n",
      "  model = cd_fast.enet_coordinate_descent(\n",
      "C:\\Users\\maxle\\anaconda3\\lib\\site-packages\\sklearn\\linear_model\\_coordinate_descent.py:529: ConvergenceWarning: Objective did not converge. You might want to increase the number of iterations. Duality gap: 25.430347969578527, tolerance: 0.013231675079835132\n",
      "  model = cd_fast.enet_coordinate_descent(\n",
      "C:\\Users\\maxle\\anaconda3\\lib\\site-packages\\sklearn\\linear_model\\_coordinate_descent.py:529: ConvergenceWarning: Objective did not converge. You might want to increase the number of iterations. Duality gap: 5.983204886118209, tolerance: 0.01402794191111797\n",
      "  model = cd_fast.enet_coordinate_descent(\n",
      "C:\\Users\\maxle\\anaconda3\\lib\\site-packages\\sklearn\\linear_model\\_coordinate_descent.py:529: ConvergenceWarning: Objective did not converge. You might want to increase the number of iterations. Duality gap: 5.835698765624491, tolerance: 0.014015897814864153\n",
      "  model = cd_fast.enet_coordinate_descent(\n",
      "C:\\Users\\maxle\\anaconda3\\lib\\site-packages\\sklearn\\linear_model\\_coordinate_descent.py:529: ConvergenceWarning: Objective did not converge. You might want to increase the number of iterations. Duality gap: 6.399404954363892, tolerance: 0.013829800883236269\n",
      "  model = cd_fast.enet_coordinate_descent(\n",
      "C:\\Users\\maxle\\anaconda3\\lib\\site-packages\\sklearn\\linear_model\\_coordinate_descent.py:529: ConvergenceWarning: Objective did not converge. You might want to increase the number of iterations. Duality gap: 5.9201769432628755, tolerance: 0.01384998620523727\n",
      "  model = cd_fast.enet_coordinate_descent(\n",
      "C:\\Users\\maxle\\anaconda3\\lib\\site-packages\\sklearn\\linear_model\\_coordinate_descent.py:529: ConvergenceWarning: Objective did not converge. You might want to increase the number of iterations. Duality gap: 6.000329732336644, tolerance: 0.013231675079835132\n",
      "  model = cd_fast.enet_coordinate_descent(\n",
      "C:\\Users\\maxle\\anaconda3\\lib\\site-packages\\sklearn\\linear_model\\_coordinate_descent.py:529: ConvergenceWarning: Objective did not converge. You might want to increase the number of iterations. Duality gap: 1.5462313802506458, tolerance: 0.01402794191111797\n",
      "  model = cd_fast.enet_coordinate_descent(\n",
      "C:\\Users\\maxle\\anaconda3\\lib\\site-packages\\sklearn\\linear_model\\_coordinate_descent.py:529: ConvergenceWarning: Objective did not converge. You might want to increase the number of iterations. Duality gap: 1.5066711117280427, tolerance: 0.014015897814864153\n",
      "  model = cd_fast.enet_coordinate_descent(\n",
      "C:\\Users\\maxle\\anaconda3\\lib\\site-packages\\sklearn\\linear_model\\_coordinate_descent.py:529: ConvergenceWarning: Objective did not converge. You might want to increase the number of iterations. Duality gap: 1.6657318437358342, tolerance: 0.013829800883236269\n",
      "  model = cd_fast.enet_coordinate_descent(\n",
      "C:\\Users\\maxle\\anaconda3\\lib\\site-packages\\sklearn\\linear_model\\_coordinate_descent.py:529: ConvergenceWarning: Objective did not converge. You might want to increase the number of iterations. Duality gap: 1.651296405243201, tolerance: 0.01384998620523727\n",
      "  model = cd_fast.enet_coordinate_descent(\n",
      "C:\\Users\\maxle\\anaconda3\\lib\\site-packages\\sklearn\\linear_model\\_coordinate_descent.py:529: ConvergenceWarning: Objective did not converge. You might want to increase the number of iterations. Duality gap: 1.557902840647408, tolerance: 0.013231675079835132\n",
      "  model = cd_fast.enet_coordinate_descent(\n"
     ]
    },
    {
     "name": "stderr",
     "output_type": "stream",
     "text": [
      "C:\\Users\\maxle\\anaconda3\\lib\\site-packages\\sklearn\\linear_model\\_coordinate_descent.py:529: ConvergenceWarning: Objective did not converge. You might want to increase the number of iterations. Duality gap: 27.14302216529723, tolerance: 0.01402794191111797\n",
      "  model = cd_fast.enet_coordinate_descent(\n",
      "C:\\Users\\maxle\\anaconda3\\lib\\site-packages\\sklearn\\linear_model\\_coordinate_descent.py:529: ConvergenceWarning: Objective did not converge. You might want to increase the number of iterations. Duality gap: 25.305144952607876, tolerance: 0.014015897814864153\n",
      "  model = cd_fast.enet_coordinate_descent(\n",
      "C:\\Users\\maxle\\anaconda3\\lib\\site-packages\\sklearn\\linear_model\\_coordinate_descent.py:529: ConvergenceWarning: Objective did not converge. You might want to increase the number of iterations. Duality gap: 26.654449900580232, tolerance: 0.013829800883236269\n",
      "  model = cd_fast.enet_coordinate_descent(\n",
      "C:\\Users\\maxle\\anaconda3\\lib\\site-packages\\sklearn\\linear_model\\_coordinate_descent.py:529: ConvergenceWarning: Objective did not converge. You might want to increase the number of iterations. Duality gap: 26.404311516422784, tolerance: 0.01384998620523727\n",
      "  model = cd_fast.enet_coordinate_descent(\n",
      "C:\\Users\\maxle\\anaconda3\\lib\\site-packages\\sklearn\\linear_model\\_coordinate_descent.py:529: ConvergenceWarning: Objective did not converge. You might want to increase the number of iterations. Duality gap: 25.88665190112623, tolerance: 0.013231675079835132\n",
      "  model = cd_fast.enet_coordinate_descent(\n",
      "C:\\Users\\maxle\\anaconda3\\lib\\site-packages\\sklearn\\linear_model\\_coordinate_descent.py:529: ConvergenceWarning: Objective did not converge. You might want to increase the number of iterations. Duality gap: 5.493818782297586, tolerance: 0.01402794191111797\n",
      "  model = cd_fast.enet_coordinate_descent(\n",
      "C:\\Users\\maxle\\anaconda3\\lib\\site-packages\\sklearn\\linear_model\\_coordinate_descent.py:529: ConvergenceWarning: Objective did not converge. You might want to increase the number of iterations. Duality gap: 5.060522071273992, tolerance: 0.014015897814864153\n",
      "  model = cd_fast.enet_coordinate_descent(\n",
      "C:\\Users\\maxle\\anaconda3\\lib\\site-packages\\sklearn\\linear_model\\_coordinate_descent.py:529: ConvergenceWarning: Objective did not converge. You might want to increase the number of iterations. Duality gap: 5.847954753524583, tolerance: 0.013829800883236269\n",
      "  model = cd_fast.enet_coordinate_descent(\n",
      "C:\\Users\\maxle\\anaconda3\\lib\\site-packages\\sklearn\\linear_model\\_coordinate_descent.py:529: ConvergenceWarning: Objective did not converge. You might want to increase the number of iterations. Duality gap: 5.290857666770934, tolerance: 0.01384998620523727\n",
      "  model = cd_fast.enet_coordinate_descent(\n",
      "C:\\Users\\maxle\\anaconda3\\lib\\site-packages\\sklearn\\linear_model\\_coordinate_descent.py:529: ConvergenceWarning: Objective did not converge. You might want to increase the number of iterations. Duality gap: 5.248693624372251, tolerance: 0.013231675079835132\n",
      "  model = cd_fast.enet_coordinate_descent(\n",
      "C:\\Users\\maxle\\anaconda3\\lib\\site-packages\\sklearn\\linear_model\\_coordinate_descent.py:529: ConvergenceWarning: Objective did not converge. You might want to increase the number of iterations. Duality gap: 1.3145322253905363, tolerance: 0.01402794191111797\n",
      "  model = cd_fast.enet_coordinate_descent(\n",
      "C:\\Users\\maxle\\anaconda3\\lib\\site-packages\\sklearn\\linear_model\\_coordinate_descent.py:529: ConvergenceWarning: Objective did not converge. You might want to increase the number of iterations. Duality gap: 1.184169496153693, tolerance: 0.014015897814864153\n",
      "  model = cd_fast.enet_coordinate_descent(\n",
      "C:\\Users\\maxle\\anaconda3\\lib\\site-packages\\sklearn\\linear_model\\_coordinate_descent.py:529: ConvergenceWarning: Objective did not converge. You might want to increase the number of iterations. Duality gap: 1.5699197907502231, tolerance: 0.013829800883236269\n",
      "  model = cd_fast.enet_coordinate_descent(\n",
      "C:\\Users\\maxle\\anaconda3\\lib\\site-packages\\sklearn\\linear_model\\_coordinate_descent.py:529: ConvergenceWarning: Objective did not converge. You might want to increase the number of iterations. Duality gap: 1.5137696704694221, tolerance: 0.01384998620523727\n",
      "  model = cd_fast.enet_coordinate_descent(\n",
      "C:\\Users\\maxle\\anaconda3\\lib\\site-packages\\sklearn\\linear_model\\_coordinate_descent.py:529: ConvergenceWarning: Objective did not converge. You might want to increase the number of iterations. Duality gap: 1.3663588364529922, tolerance: 0.013231675079835132\n",
      "  model = cd_fast.enet_coordinate_descent(\n",
      "C:\\Users\\maxle\\anaconda3\\lib\\site-packages\\sklearn\\linear_model\\_coordinate_descent.py:529: ConvergenceWarning: Objective did not converge. You might want to increase the number of iterations. Duality gap: 24.691285337403357, tolerance: 0.01402794191111797\n",
      "  model = cd_fast.enet_coordinate_descent(\n",
      "C:\\Users\\maxle\\anaconda3\\lib\\site-packages\\sklearn\\linear_model\\_coordinate_descent.py:529: ConvergenceWarning: Objective did not converge. You might want to increase the number of iterations. Duality gap: 23.17516799456219, tolerance: 0.014015897814864153\n",
      "  model = cd_fast.enet_coordinate_descent(\n",
      "C:\\Users\\maxle\\anaconda3\\lib\\site-packages\\sklearn\\linear_model\\_coordinate_descent.py:529: ConvergenceWarning: Objective did not converge. You might want to increase the number of iterations. Duality gap: 23.933601884185723, tolerance: 0.013829800883236269\n",
      "  model = cd_fast.enet_coordinate_descent(\n",
      "C:\\Users\\maxle\\anaconda3\\lib\\site-packages\\sklearn\\linear_model\\_coordinate_descent.py:529: ConvergenceWarning: Objective did not converge. You might want to increase the number of iterations. Duality gap: 23.457630539852453, tolerance: 0.01384998620523727\n",
      "  model = cd_fast.enet_coordinate_descent(\n",
      "C:\\Users\\maxle\\anaconda3\\lib\\site-packages\\sklearn\\linear_model\\_coordinate_descent.py:529: ConvergenceWarning: Objective did not converge. You might want to increase the number of iterations. Duality gap: 23.12476800990868, tolerance: 0.013231675079835132\n",
      "  model = cd_fast.enet_coordinate_descent(\n",
      "C:\\Users\\maxle\\anaconda3\\lib\\site-packages\\sklearn\\linear_model\\_coordinate_descent.py:529: ConvergenceWarning: Objective did not converge. You might want to increase the number of iterations. Duality gap: 4.968157800727358, tolerance: 0.01402794191111797\n",
      "  model = cd_fast.enet_coordinate_descent(\n",
      "C:\\Users\\maxle\\anaconda3\\lib\\site-packages\\sklearn\\linear_model\\_coordinate_descent.py:529: ConvergenceWarning: Objective did not converge. You might want to increase the number of iterations. Duality gap: 4.731707855762711, tolerance: 0.014015897814864153\n",
      "  model = cd_fast.enet_coordinate_descent(\n",
      "C:\\Users\\maxle\\anaconda3\\lib\\site-packages\\sklearn\\linear_model\\_coordinate_descent.py:529: ConvergenceWarning: Objective did not converge. You might want to increase the number of iterations. Duality gap: 5.604397526124146, tolerance: 0.013829800883236269\n",
      "  model = cd_fast.enet_coordinate_descent(\n",
      "C:\\Users\\maxle\\anaconda3\\lib\\site-packages\\sklearn\\linear_model\\_coordinate_descent.py:529: ConvergenceWarning: Objective did not converge. You might want to increase the number of iterations. Duality gap: 5.054093741787398, tolerance: 0.01384998620523727\n",
      "  model = cd_fast.enet_coordinate_descent(\n",
      "C:\\Users\\maxle\\anaconda3\\lib\\site-packages\\sklearn\\linear_model\\_coordinate_descent.py:529: ConvergenceWarning: Objective did not converge. You might want to increase the number of iterations. Duality gap: 5.003523057662441, tolerance: 0.013231675079835132\n",
      "  model = cd_fast.enet_coordinate_descent(\n",
      "C:\\Users\\maxle\\anaconda3\\lib\\site-packages\\sklearn\\linear_model\\_coordinate_descent.py:529: ConvergenceWarning: Objective did not converge. You might want to increase the number of iterations. Duality gap: 1.4785817950122677, tolerance: 0.01402794191111797\n",
      "  model = cd_fast.enet_coordinate_descent(\n",
      "C:\\Users\\maxle\\anaconda3\\lib\\site-packages\\sklearn\\linear_model\\_coordinate_descent.py:529: ConvergenceWarning: Objective did not converge. You might want to increase the number of iterations. Duality gap: 0.9608470965377371, tolerance: 0.014015897814864153\n",
      "  model = cd_fast.enet_coordinate_descent(\n",
      "C:\\Users\\maxle\\anaconda3\\lib\\site-packages\\sklearn\\linear_model\\_coordinate_descent.py:529: ConvergenceWarning: Objective did not converge. You might want to increase the number of iterations. Duality gap: 1.2741356382457845, tolerance: 0.013829800883236269\n",
      "  model = cd_fast.enet_coordinate_descent(\n",
      "C:\\Users\\maxle\\anaconda3\\lib\\site-packages\\sklearn\\linear_model\\_coordinate_descent.py:529: ConvergenceWarning: Objective did not converge. You might want to increase the number of iterations. Duality gap: 1.339133490887491, tolerance: 0.01384998620523727\n",
      "  model = cd_fast.enet_coordinate_descent(\n",
      "C:\\Users\\maxle\\anaconda3\\lib\\site-packages\\sklearn\\linear_model\\_coordinate_descent.py:529: ConvergenceWarning: Objective did not converge. You might want to increase the number of iterations. Duality gap: 1.3256860743622312, tolerance: 0.013231675079835132\n",
      "  model = cd_fast.enet_coordinate_descent(\n"
     ]
    },
    {
     "name": "stderr",
     "output_type": "stream",
     "text": [
      "C:\\Users\\maxle\\anaconda3\\lib\\site-packages\\sklearn\\linear_model\\_coordinate_descent.py:529: ConvergenceWarning: Objective did not converge. You might want to increase the number of iterations. Duality gap: 21.649805260647582, tolerance: 0.01402794191111797\n",
      "  model = cd_fast.enet_coordinate_descent(\n",
      "C:\\Users\\maxle\\anaconda3\\lib\\site-packages\\sklearn\\linear_model\\_coordinate_descent.py:529: ConvergenceWarning: Objective did not converge. You might want to increase the number of iterations. Duality gap: 20.403273842204356, tolerance: 0.014015897814864153\n",
      "  model = cd_fast.enet_coordinate_descent(\n",
      "C:\\Users\\maxle\\anaconda3\\lib\\site-packages\\sklearn\\linear_model\\_coordinate_descent.py:529: ConvergenceWarning: Objective did not converge. You might want to increase the number of iterations. Duality gap: 20.50904219418957, tolerance: 0.013829800883236269\n",
      "  model = cd_fast.enet_coordinate_descent(\n",
      "C:\\Users\\maxle\\anaconda3\\lib\\site-packages\\sklearn\\linear_model\\_coordinate_descent.py:529: ConvergenceWarning: Objective did not converge. You might want to increase the number of iterations. Duality gap: 20.46671947149247, tolerance: 0.01384998620523727\n",
      "  model = cd_fast.enet_coordinate_descent(\n",
      "C:\\Users\\maxle\\anaconda3\\lib\\site-packages\\sklearn\\linear_model\\_coordinate_descent.py:529: ConvergenceWarning: Objective did not converge. You might want to increase the number of iterations. Duality gap: 20.360255659284253, tolerance: 0.013231675079835132\n",
      "  model = cd_fast.enet_coordinate_descent(\n",
      "C:\\Users\\maxle\\anaconda3\\lib\\site-packages\\sklearn\\linear_model\\_coordinate_descent.py:529: ConvergenceWarning: Objective did not converge. You might want to increase the number of iterations. Duality gap: 4.397151663664296, tolerance: 0.01402794191111797\n",
      "  model = cd_fast.enet_coordinate_descent(\n",
      "C:\\Users\\maxle\\anaconda3\\lib\\site-packages\\sklearn\\linear_model\\_coordinate_descent.py:529: ConvergenceWarning: Objective did not converge. You might want to increase the number of iterations. Duality gap: 4.176677624958241, tolerance: 0.014015897814864153\n",
      "  model = cd_fast.enet_coordinate_descent(\n",
      "C:\\Users\\maxle\\anaconda3\\lib\\site-packages\\sklearn\\linear_model\\_coordinate_descent.py:529: ConvergenceWarning: Objective did not converge. You might want to increase the number of iterations. Duality gap: 5.2238716987713225, tolerance: 0.013829800883236269\n",
      "  model = cd_fast.enet_coordinate_descent(\n",
      "C:\\Users\\maxle\\anaconda3\\lib\\site-packages\\sklearn\\linear_model\\_coordinate_descent.py:529: ConvergenceWarning: Objective did not converge. You might want to increase the number of iterations. Duality gap: 4.486575626951158, tolerance: 0.01384998620523727\n",
      "  model = cd_fast.enet_coordinate_descent(\n",
      "C:\\Users\\maxle\\anaconda3\\lib\\site-packages\\sklearn\\linear_model\\_coordinate_descent.py:529: ConvergenceWarning: Objective did not converge. You might want to increase the number of iterations. Duality gap: 4.718859629866053, tolerance: 0.013231675079835132\n",
      "  model = cd_fast.enet_coordinate_descent(\n",
      "C:\\Users\\maxle\\anaconda3\\lib\\site-packages\\sklearn\\linear_model\\_coordinate_descent.py:529: ConvergenceWarning: Objective did not converge. You might want to increase the number of iterations. Duality gap: 1.2133714967098612, tolerance: 0.01402794191111797\n",
      "  model = cd_fast.enet_coordinate_descent(\n",
      "C:\\Users\\maxle\\anaconda3\\lib\\site-packages\\sklearn\\linear_model\\_coordinate_descent.py:529: ConvergenceWarning: Objective did not converge. You might want to increase the number of iterations. Duality gap: 0.9983389151377793, tolerance: 0.014015897814864153\n",
      "  model = cd_fast.enet_coordinate_descent(\n",
      "C:\\Users\\maxle\\anaconda3\\lib\\site-packages\\sklearn\\linear_model\\_coordinate_descent.py:529: ConvergenceWarning: Objective did not converge. You might want to increase the number of iterations. Duality gap: 1.0865783725491696, tolerance: 0.013829800883236269\n",
      "  model = cd_fast.enet_coordinate_descent(\n",
      "C:\\Users\\maxle\\anaconda3\\lib\\site-packages\\sklearn\\linear_model\\_coordinate_descent.py:529: ConvergenceWarning: Objective did not converge. You might want to increase the number of iterations. Duality gap: 1.315639334383448, tolerance: 0.01384998620523727\n",
      "  model = cd_fast.enet_coordinate_descent(\n",
      "C:\\Users\\maxle\\anaconda3\\lib\\site-packages\\sklearn\\linear_model\\_coordinate_descent.py:529: ConvergenceWarning: Objective did not converge. You might want to increase the number of iterations. Duality gap: 1.1708880166475097, tolerance: 0.013231675079835132\n",
      "  model = cd_fast.enet_coordinate_descent(\n",
      "C:\\Users\\maxle\\anaconda3\\lib\\site-packages\\sklearn\\linear_model\\_coordinate_descent.py:529: ConvergenceWarning: Objective did not converge. You might want to increase the number of iterations. Duality gap: 19.82370549226826, tolerance: 0.01402794191111797\n",
      "  model = cd_fast.enet_coordinate_descent(\n",
      "C:\\Users\\maxle\\anaconda3\\lib\\site-packages\\sklearn\\linear_model\\_coordinate_descent.py:529: ConvergenceWarning: Objective did not converge. You might want to increase the number of iterations. Duality gap: 19.342290150394714, tolerance: 0.014015897814864153\n",
      "  model = cd_fast.enet_coordinate_descent(\n",
      "C:\\Users\\maxle\\anaconda3\\lib\\site-packages\\sklearn\\linear_model\\_coordinate_descent.py:529: ConvergenceWarning: Objective did not converge. You might want to increase the number of iterations. Duality gap: 19.721951569540618, tolerance: 0.013829800883236269\n",
      "  model = cd_fast.enet_coordinate_descent(\n",
      "C:\\Users\\maxle\\anaconda3\\lib\\site-packages\\sklearn\\linear_model\\_coordinate_descent.py:529: ConvergenceWarning: Objective did not converge. You might want to increase the number of iterations. Duality gap: 19.123201149276138, tolerance: 0.01384998620523727\n",
      "  model = cd_fast.enet_coordinate_descent(\n",
      "C:\\Users\\maxle\\anaconda3\\lib\\site-packages\\sklearn\\linear_model\\_coordinate_descent.py:529: ConvergenceWarning: Objective did not converge. You might want to increase the number of iterations. Duality gap: 19.218024080299493, tolerance: 0.013231675079835132\n",
      "  model = cd_fast.enet_coordinate_descent(\n",
      "C:\\Users\\maxle\\anaconda3\\lib\\site-packages\\sklearn\\linear_model\\_coordinate_descent.py:529: ConvergenceWarning: Objective did not converge. You might want to increase the number of iterations. Duality gap: 2.990179715199986, tolerance: 0.01402794191111797\n",
      "  model = cd_fast.enet_coordinate_descent(\n",
      "C:\\Users\\maxle\\anaconda3\\lib\\site-packages\\sklearn\\linear_model\\_coordinate_descent.py:529: ConvergenceWarning: Objective did not converge. You might want to increase the number of iterations. Duality gap: 2.9883924951485312, tolerance: 0.014015897814864153\n",
      "  model = cd_fast.enet_coordinate_descent(\n",
      "C:\\Users\\maxle\\anaconda3\\lib\\site-packages\\sklearn\\linear_model\\_coordinate_descent.py:529: ConvergenceWarning: Objective did not converge. You might want to increase the number of iterations. Duality gap: 4.077816620034369, tolerance: 0.013829800883236269\n",
      "  model = cd_fast.enet_coordinate_descent(\n",
      "C:\\Users\\maxle\\anaconda3\\lib\\site-packages\\sklearn\\linear_model\\_coordinate_descent.py:529: ConvergenceWarning: Objective did not converge. You might want to increase the number of iterations. Duality gap: 3.517121705011121, tolerance: 0.01384998620523727\n",
      "  model = cd_fast.enet_coordinate_descent(\n",
      "C:\\Users\\maxle\\anaconda3\\lib\\site-packages\\sklearn\\linear_model\\_coordinate_descent.py:529: ConvergenceWarning: Objective did not converge. You might want to increase the number of iterations. Duality gap: 3.5352638280002466, tolerance: 0.013231675079835132\n",
      "  model = cd_fast.enet_coordinate_descent(\n",
      "C:\\Users\\maxle\\anaconda3\\lib\\site-packages\\sklearn\\linear_model\\_coordinate_descent.py:529: ConvergenceWarning: Objective did not converge. You might want to increase the number of iterations. Duality gap: 0.7580293781821297, tolerance: 0.01402794191111797\n",
      "  model = cd_fast.enet_coordinate_descent(\n",
      "C:\\Users\\maxle\\anaconda3\\lib\\site-packages\\sklearn\\linear_model\\_coordinate_descent.py:529: ConvergenceWarning: Objective did not converge. You might want to increase the number of iterations. Duality gap: 0.7568135299546555, tolerance: 0.014015897814864153\n",
      "  model = cd_fast.enet_coordinate_descent(\n",
      "C:\\Users\\maxle\\anaconda3\\lib\\site-packages\\sklearn\\linear_model\\_coordinate_descent.py:529: ConvergenceWarning: Objective did not converge. You might want to increase the number of iterations. Duality gap: 0.8577894105225568, tolerance: 0.013829800883236269\n",
      "  model = cd_fast.enet_coordinate_descent(\n",
      "C:\\Users\\maxle\\anaconda3\\lib\\site-packages\\sklearn\\linear_model\\_coordinate_descent.py:529: ConvergenceWarning: Objective did not converge. You might want to increase the number of iterations. Duality gap: 1.0084570603370864, tolerance: 0.01384998620523727\n",
      "  model = cd_fast.enet_coordinate_descent(\n",
      "C:\\Users\\maxle\\anaconda3\\lib\\site-packages\\sklearn\\linear_model\\_coordinate_descent.py:529: ConvergenceWarning: Objective did not converge. You might want to increase the number of iterations. Duality gap: 0.9244804547126577, tolerance: 0.013231675079835132\n",
      "  model = cd_fast.enet_coordinate_descent(\n"
     ]
    },
    {
     "name": "stderr",
     "output_type": "stream",
     "text": [
      "C:\\Users\\maxle\\anaconda3\\lib\\site-packages\\sklearn\\linear_model\\_coordinate_descent.py:529: ConvergenceWarning: Objective did not converge. You might want to increase the number of iterations. Duality gap: 19.15245397940265, tolerance: 0.01402794191111797\n",
      "  model = cd_fast.enet_coordinate_descent(\n",
      "C:\\Users\\maxle\\anaconda3\\lib\\site-packages\\sklearn\\linear_model\\_coordinate_descent.py:529: ConvergenceWarning: Objective did not converge. You might want to increase the number of iterations. Duality gap: 19.23746341461969, tolerance: 0.014015897814864153\n",
      "  model = cd_fast.enet_coordinate_descent(\n",
      "C:\\Users\\maxle\\anaconda3\\lib\\site-packages\\sklearn\\linear_model\\_coordinate_descent.py:529: ConvergenceWarning: Objective did not converge. You might want to increase the number of iterations. Duality gap: 19.806950553742176, tolerance: 0.013829800883236269\n",
      "  model = cd_fast.enet_coordinate_descent(\n",
      "C:\\Users\\maxle\\anaconda3\\lib\\site-packages\\sklearn\\linear_model\\_coordinate_descent.py:529: ConvergenceWarning: Objective did not converge. You might want to increase the number of iterations. Duality gap: 19.208264193647878, tolerance: 0.01384998620523727\n",
      "  model = cd_fast.enet_coordinate_descent(\n",
      "C:\\Users\\maxle\\anaconda3\\lib\\site-packages\\sklearn\\linear_model\\_coordinate_descent.py:529: ConvergenceWarning: Objective did not converge. You might want to increase the number of iterations. Duality gap: 18.879490767285375, tolerance: 0.013231675079835132\n",
      "  model = cd_fast.enet_coordinate_descent(\n",
      "C:\\Users\\maxle\\anaconda3\\lib\\site-packages\\sklearn\\linear_model\\_coordinate_descent.py:529: ConvergenceWarning: Objective did not converge. You might want to increase the number of iterations. Duality gap: 2.4073942784794085, tolerance: 0.01402794191111797\n",
      "  model = cd_fast.enet_coordinate_descent(\n",
      "C:\\Users\\maxle\\anaconda3\\lib\\site-packages\\sklearn\\linear_model\\_coordinate_descent.py:529: ConvergenceWarning: Objective did not converge. You might want to increase the number of iterations. Duality gap: 2.4447219630287975, tolerance: 0.014015897814864153\n",
      "  model = cd_fast.enet_coordinate_descent(\n",
      "C:\\Users\\maxle\\anaconda3\\lib\\site-packages\\sklearn\\linear_model\\_coordinate_descent.py:529: ConvergenceWarning: Objective did not converge. You might want to increase the number of iterations. Duality gap: 2.9533350077103506, tolerance: 0.013829800883236269\n",
      "  model = cd_fast.enet_coordinate_descent(\n",
      "C:\\Users\\maxle\\anaconda3\\lib\\site-packages\\sklearn\\linear_model\\_coordinate_descent.py:529: ConvergenceWarning: Objective did not converge. You might want to increase the number of iterations. Duality gap: 2.6922128263117457, tolerance: 0.01384998620523727\n",
      "  model = cd_fast.enet_coordinate_descent(\n",
      "C:\\Users\\maxle\\anaconda3\\lib\\site-packages\\sklearn\\linear_model\\_coordinate_descent.py:529: ConvergenceWarning: Objective did not converge. You might want to increase the number of iterations. Duality gap: 2.681989143213208, tolerance: 0.013231675079835132\n",
      "  model = cd_fast.enet_coordinate_descent(\n",
      "C:\\Users\\maxle\\anaconda3\\lib\\site-packages\\sklearn\\linear_model\\_coordinate_descent.py:529: ConvergenceWarning: Objective did not converge. You might want to increase the number of iterations. Duality gap: 0.3437534825434554, tolerance: 0.01402794191111797\n",
      "  model = cd_fast.enet_coordinate_descent(\n",
      "C:\\Users\\maxle\\anaconda3\\lib\\site-packages\\sklearn\\linear_model\\_coordinate_descent.py:529: ConvergenceWarning: Objective did not converge. You might want to increase the number of iterations. Duality gap: 0.5787060917058113, tolerance: 0.014015897814864153\n",
      "  model = cd_fast.enet_coordinate_descent(\n",
      "C:\\Users\\maxle\\anaconda3\\lib\\site-packages\\sklearn\\linear_model\\_coordinate_descent.py:529: ConvergenceWarning: Objective did not converge. You might want to increase the number of iterations. Duality gap: 0.33040562201854584, tolerance: 0.013829800883236269\n",
      "  model = cd_fast.enet_coordinate_descent(\n",
      "C:\\Users\\maxle\\anaconda3\\lib\\site-packages\\sklearn\\linear_model\\_coordinate_descent.py:529: ConvergenceWarning: Objective did not converge. You might want to increase the number of iterations. Duality gap: 0.4623302528950859, tolerance: 0.01384998620523727\n",
      "  model = cd_fast.enet_coordinate_descent(\n",
      "C:\\Users\\maxle\\anaconda3\\lib\\site-packages\\sklearn\\linear_model\\_coordinate_descent.py:529: ConvergenceWarning: Objective did not converge. You might want to increase the number of iterations. Duality gap: 0.28778696349265687, tolerance: 0.013231675079835132\n",
      "  model = cd_fast.enet_coordinate_descent(\n",
      "C:\\Users\\maxle\\anaconda3\\lib\\site-packages\\sklearn\\linear_model\\_coordinate_descent.py:529: ConvergenceWarning: Objective did not converge. You might want to increase the number of iterations. Duality gap: 18.079216423482414, tolerance: 0.01402794191111797\n",
      "  model = cd_fast.enet_coordinate_descent(\n",
      "C:\\Users\\maxle\\anaconda3\\lib\\site-packages\\sklearn\\linear_model\\_coordinate_descent.py:529: ConvergenceWarning: Objective did not converge. You might want to increase the number of iterations. Duality gap: 18.42192646484086, tolerance: 0.014015897814864153\n",
      "  model = cd_fast.enet_coordinate_descent(\n",
      "C:\\Users\\maxle\\anaconda3\\lib\\site-packages\\sklearn\\linear_model\\_coordinate_descent.py:529: ConvergenceWarning: Objective did not converge. You might want to increase the number of iterations. Duality gap: 19.388896307858843, tolerance: 0.013829800883236269\n",
      "  model = cd_fast.enet_coordinate_descent(\n",
      "C:\\Users\\maxle\\anaconda3\\lib\\site-packages\\sklearn\\linear_model\\_coordinate_descent.py:529: ConvergenceWarning: Objective did not converge. You might want to increase the number of iterations. Duality gap: 18.592146232902877, tolerance: 0.01384998620523727\n",
      "  model = cd_fast.enet_coordinate_descent(\n",
      "C:\\Users\\maxle\\anaconda3\\lib\\site-packages\\sklearn\\linear_model\\_coordinate_descent.py:529: ConvergenceWarning: Objective did not converge. You might want to increase the number of iterations. Duality gap: 17.878086773475367, tolerance: 0.013231675079835132\n",
      "  model = cd_fast.enet_coordinate_descent(\n",
      "C:\\Users\\maxle\\anaconda3\\lib\\site-packages\\sklearn\\linear_model\\_coordinate_descent.py:529: ConvergenceWarning: Objective did not converge. You might want to increase the number of iterations. Duality gap: 1.9633183101270575, tolerance: 0.01402794191111797\n",
      "  model = cd_fast.enet_coordinate_descent(\n",
      "C:\\Users\\maxle\\anaconda3\\lib\\site-packages\\sklearn\\linear_model\\_coordinate_descent.py:529: ConvergenceWarning: Objective did not converge. You might want to increase the number of iterations. Duality gap: 1.5209775790609612, tolerance: 0.014015897814864153\n",
      "  model = cd_fast.enet_coordinate_descent(\n",
      "C:\\Users\\maxle\\anaconda3\\lib\\site-packages\\sklearn\\linear_model\\_coordinate_descent.py:529: ConvergenceWarning: Objective did not converge. You might want to increase the number of iterations. Duality gap: 2.0642756607222665, tolerance: 0.013829800883236269\n",
      "  model = cd_fast.enet_coordinate_descent(\n",
      "C:\\Users\\maxle\\anaconda3\\lib\\site-packages\\sklearn\\linear_model\\_coordinate_descent.py:529: ConvergenceWarning: Objective did not converge. You might want to increase the number of iterations. Duality gap: 1.7155749474116533, tolerance: 0.01384998620523727\n",
      "  model = cd_fast.enet_coordinate_descent(\n",
      "C:\\Users\\maxle\\anaconda3\\lib\\site-packages\\sklearn\\linear_model\\_coordinate_descent.py:529: ConvergenceWarning: Objective did not converge. You might want to increase the number of iterations. Duality gap: 1.6714062976404023, tolerance: 0.013231675079835132\n",
      "  model = cd_fast.enet_coordinate_descent(\n",
      "C:\\Users\\maxle\\anaconda3\\lib\\site-packages\\sklearn\\linear_model\\_coordinate_descent.py:529: ConvergenceWarning: Objective did not converge. You might want to increase the number of iterations. Duality gap: 0.15820945475758208, tolerance: 0.01402794191111797\n",
      "  model = cd_fast.enet_coordinate_descent(\n",
      "C:\\Users\\maxle\\anaconda3\\lib\\site-packages\\sklearn\\linear_model\\_coordinate_descent.py:529: ConvergenceWarning: Objective did not converge. You might want to increase the number of iterations. Duality gap: 0.15613574234315308, tolerance: 0.014015897814864153\n",
      "  model = cd_fast.enet_coordinate_descent(\n",
      "C:\\Users\\maxle\\anaconda3\\lib\\site-packages\\sklearn\\linear_model\\_coordinate_descent.py:529: ConvergenceWarning: Objective did not converge. You might want to increase the number of iterations. Duality gap: 0.15714577399931784, tolerance: 0.013829800883236269\n",
      "  model = cd_fast.enet_coordinate_descent(\n",
      "C:\\Users\\maxle\\anaconda3\\lib\\site-packages\\sklearn\\linear_model\\_coordinate_descent.py:529: ConvergenceWarning: Objective did not converge. You might want to increase the number of iterations. Duality gap: 0.25238679950365395, tolerance: 0.01384998620523727\n",
      "  model = cd_fast.enet_coordinate_descent(\n",
      "C:\\Users\\maxle\\anaconda3\\lib\\site-packages\\sklearn\\linear_model\\_coordinate_descent.py:529: ConvergenceWarning: Objective did not converge. You might want to increase the number of iterations. Duality gap: 0.1971781636950709, tolerance: 0.013231675079835132\n",
      "  model = cd_fast.enet_coordinate_descent(\n"
     ]
    },
    {
     "name": "stderr",
     "output_type": "stream",
     "text": [
      "C:\\Users\\maxle\\anaconda3\\lib\\site-packages\\sklearn\\linear_model\\_coordinate_descent.py:529: ConvergenceWarning: Objective did not converge. You might want to increase the number of iterations. Duality gap: 15.180257829216131, tolerance: 0.01402794191111797\n",
      "  model = cd_fast.enet_coordinate_descent(\n",
      "C:\\Users\\maxle\\anaconda3\\lib\\site-packages\\sklearn\\linear_model\\_coordinate_descent.py:529: ConvergenceWarning: Objective did not converge. You might want to increase the number of iterations. Duality gap: 15.87957225836621, tolerance: 0.014015897814864153\n",
      "  model = cd_fast.enet_coordinate_descent(\n",
      "C:\\Users\\maxle\\anaconda3\\lib\\site-packages\\sklearn\\linear_model\\_coordinate_descent.py:529: ConvergenceWarning: Objective did not converge. You might want to increase the number of iterations. Duality gap: 16.837776382165593, tolerance: 0.013829800883236269\n",
      "  model = cd_fast.enet_coordinate_descent(\n",
      "C:\\Users\\maxle\\anaconda3\\lib\\site-packages\\sklearn\\linear_model\\_coordinate_descent.py:529: ConvergenceWarning: Objective did not converge. You might want to increase the number of iterations. Duality gap: 16.25197144706008, tolerance: 0.01384998620523727\n",
      "  model = cd_fast.enet_coordinate_descent(\n",
      "C:\\Users\\maxle\\anaconda3\\lib\\site-packages\\sklearn\\linear_model\\_coordinate_descent.py:529: ConvergenceWarning: Objective did not converge. You might want to increase the number of iterations. Duality gap: 14.840719173236245, tolerance: 0.013231675079835132\n",
      "  model = cd_fast.enet_coordinate_descent(\n",
      "C:\\Users\\maxle\\anaconda3\\lib\\site-packages\\sklearn\\linear_model\\_coordinate_descent.py:529: ConvergenceWarning: Objective did not converge. You might want to increase the number of iterations. Duality gap: 0.8290675185208158, tolerance: 0.01402794191111797\n",
      "  model = cd_fast.enet_coordinate_descent(\n",
      "C:\\Users\\maxle\\anaconda3\\lib\\site-packages\\sklearn\\linear_model\\_coordinate_descent.py:529: ConvergenceWarning: Objective did not converge. You might want to increase the number of iterations. Duality gap: 0.7359519048173837, tolerance: 0.014015897814864153\n",
      "  model = cd_fast.enet_coordinate_descent(\n",
      "C:\\Users\\maxle\\anaconda3\\lib\\site-packages\\sklearn\\linear_model\\_coordinate_descent.py:529: ConvergenceWarning: Objective did not converge. You might want to increase the number of iterations. Duality gap: 1.0624265309080272, tolerance: 0.013829800883236269\n",
      "  model = cd_fast.enet_coordinate_descent(\n",
      "C:\\Users\\maxle\\anaconda3\\lib\\site-packages\\sklearn\\linear_model\\_coordinate_descent.py:529: ConvergenceWarning: Objective did not converge. You might want to increase the number of iterations. Duality gap: 0.8968423611738956, tolerance: 0.01384998620523727\n",
      "  model = cd_fast.enet_coordinate_descent(\n",
      "C:\\Users\\maxle\\anaconda3\\lib\\site-packages\\sklearn\\linear_model\\_coordinate_descent.py:529: ConvergenceWarning: Objective did not converge. You might want to increase the number of iterations. Duality gap: 0.8937230619181733, tolerance: 0.013231675079835132\n",
      "  model = cd_fast.enet_coordinate_descent(\n",
      "C:\\Users\\maxle\\anaconda3\\lib\\site-packages\\sklearn\\linear_model\\_coordinate_descent.py:529: ConvergenceWarning: Objective did not converge. You might want to increase the number of iterations. Duality gap: 0.08569267315472473, tolerance: 0.01402794191111797\n",
      "  model = cd_fast.enet_coordinate_descent(\n",
      "C:\\Users\\maxle\\anaconda3\\lib\\site-packages\\sklearn\\linear_model\\_coordinate_descent.py:529: ConvergenceWarning: Objective did not converge. You might want to increase the number of iterations. Duality gap: 0.07556281747542926, tolerance: 0.014015897814864153\n",
      "  model = cd_fast.enet_coordinate_descent(\n",
      "C:\\Users\\maxle\\anaconda3\\lib\\site-packages\\sklearn\\linear_model\\_coordinate_descent.py:529: ConvergenceWarning: Objective did not converge. You might want to increase the number of iterations. Duality gap: 0.03525372908981694, tolerance: 0.013829800883236269\n",
      "  model = cd_fast.enet_coordinate_descent(\n",
      "C:\\Users\\maxle\\anaconda3\\lib\\site-packages\\sklearn\\linear_model\\_coordinate_descent.py:529: ConvergenceWarning: Objective did not converge. You might want to increase the number of iterations. Duality gap: 0.15262475883183413, tolerance: 0.01384998620523727\n",
      "  model = cd_fast.enet_coordinate_descent(\n",
      "C:\\Users\\maxle\\anaconda3\\lib\\site-packages\\sklearn\\linear_model\\_coordinate_descent.py:529: ConvergenceWarning: Objective did not converge. You might want to increase the number of iterations. Duality gap: 0.03207829688908248, tolerance: 0.013231675079835132\n",
      "  model = cd_fast.enet_coordinate_descent(\n",
      "C:\\Users\\maxle\\anaconda3\\lib\\site-packages\\sklearn\\linear_model\\_coordinate_descent.py:529: ConvergenceWarning: Objective did not converge. You might want to increase the number of iterations. Duality gap: 9.702559124322974, tolerance: 0.01402794191111797\n",
      "  model = cd_fast.enet_coordinate_descent(\n",
      "C:\\Users\\maxle\\anaconda3\\lib\\site-packages\\sklearn\\linear_model\\_coordinate_descent.py:529: ConvergenceWarning: Objective did not converge. You might want to increase the number of iterations. Duality gap: 10.912295141766819, tolerance: 0.014015897814864153\n",
      "  model = cd_fast.enet_coordinate_descent(\n",
      "C:\\Users\\maxle\\anaconda3\\lib\\site-packages\\sklearn\\linear_model\\_coordinate_descent.py:529: ConvergenceWarning: Objective did not converge. You might want to increase the number of iterations. Duality gap: 11.699963283035046, tolerance: 0.013829800883236269\n",
      "  model = cd_fast.enet_coordinate_descent(\n",
      "C:\\Users\\maxle\\anaconda3\\lib\\site-packages\\sklearn\\linear_model\\_coordinate_descent.py:529: ConvergenceWarning: Objective did not converge. You might want to increase the number of iterations. Duality gap: 11.19465313328012, tolerance: 0.01384998620523727\n",
      "  model = cd_fast.enet_coordinate_descent(\n",
      "C:\\Users\\maxle\\anaconda3\\lib\\site-packages\\sklearn\\linear_model\\_coordinate_descent.py:529: ConvergenceWarning: Objective did not converge. You might want to increase the number of iterations. Duality gap: 9.135165612008329, tolerance: 0.013231675079835132\n",
      "  model = cd_fast.enet_coordinate_descent(\n",
      "C:\\Users\\maxle\\anaconda3\\lib\\site-packages\\sklearn\\linear_model\\_coordinate_descent.py:529: ConvergenceWarning: Objective did not converge. You might want to increase the number of iterations. Duality gap: 0.2426210690126709, tolerance: 0.01402794191111797\n",
      "  model = cd_fast.enet_coordinate_descent(\n",
      "C:\\Users\\maxle\\anaconda3\\lib\\site-packages\\sklearn\\linear_model\\_coordinate_descent.py:529: ConvergenceWarning: Objective did not converge. You might want to increase the number of iterations. Duality gap: 0.42263744096000266, tolerance: 0.014015897814864153\n",
      "  model = cd_fast.enet_coordinate_descent(\n",
      "C:\\Users\\maxle\\anaconda3\\lib\\site-packages\\sklearn\\linear_model\\_coordinate_descent.py:529: ConvergenceWarning: Objective did not converge. You might want to increase the number of iterations. Duality gap: 0.47281694748284053, tolerance: 0.013829800883236269\n",
      "  model = cd_fast.enet_coordinate_descent(\n",
      "C:\\Users\\maxle\\anaconda3\\lib\\site-packages\\sklearn\\linear_model\\_coordinate_descent.py:529: ConvergenceWarning: Objective did not converge. You might want to increase the number of iterations. Duality gap: 0.5826409219817208, tolerance: 0.01384998620523727\n",
      "  model = cd_fast.enet_coordinate_descent(\n",
      "C:\\Users\\maxle\\anaconda3\\lib\\site-packages\\sklearn\\linear_model\\_coordinate_descent.py:529: ConvergenceWarning: Objective did not converge. You might want to increase the number of iterations. Duality gap: 0.4483438131435804, tolerance: 0.013231675079835132\n",
      "  model = cd_fast.enet_coordinate_descent(\n",
      "C:\\Users\\maxle\\anaconda3\\lib\\site-packages\\sklearn\\linear_model\\_coordinate_descent.py:529: ConvergenceWarning: Objective did not converge. You might want to increase the number of iterations. Duality gap: 4.858763512496495, tolerance: 0.01402794191111797\n",
      "  model = cd_fast.enet_coordinate_descent(\n",
      "C:\\Users\\maxle\\anaconda3\\lib\\site-packages\\sklearn\\linear_model\\_coordinate_descent.py:529: ConvergenceWarning: Objective did not converge. You might want to increase the number of iterations. Duality gap: 5.901826814445712, tolerance: 0.014015897814864153\n",
      "  model = cd_fast.enet_coordinate_descent(\n",
      "C:\\Users\\maxle\\anaconda3\\lib\\site-packages\\sklearn\\linear_model\\_coordinate_descent.py:529: ConvergenceWarning: Objective did not converge. You might want to increase the number of iterations. Duality gap: 6.050929359712555, tolerance: 0.013829800883236269\n",
      "  model = cd_fast.enet_coordinate_descent(\n",
      "C:\\Users\\maxle\\anaconda3\\lib\\site-packages\\sklearn\\linear_model\\_coordinate_descent.py:529: ConvergenceWarning: Objective did not converge. You might want to increase the number of iterations. Duality gap: 5.93131703518047, tolerance: 0.01384998620523727\n",
      "  model = cd_fast.enet_coordinate_descent(\n",
      "C:\\Users\\maxle\\anaconda3\\lib\\site-packages\\sklearn\\linear_model\\_coordinate_descent.py:529: ConvergenceWarning: Objective did not converge. You might want to increase the number of iterations. Duality gap: 4.601356553269028, tolerance: 0.013231675079835132\n",
      "  model = cd_fast.enet_coordinate_descent(\n",
      "C:\\Users\\maxle\\anaconda3\\lib\\site-packages\\sklearn\\linear_model\\_coordinate_descent.py:529: ConvergenceWarning: Objective did not converge. You might want to increase the number of iterations. Duality gap: 0.09635388633586217, tolerance: 0.01402794191111797\n",
      "  model = cd_fast.enet_coordinate_descent(\n",
      "C:\\Users\\maxle\\anaconda3\\lib\\site-packages\\sklearn\\linear_model\\_coordinate_descent.py:529: ConvergenceWarning: Objective did not converge. You might want to increase the number of iterations. Duality gap: 0.08818848883663577, tolerance: 0.014015897814864153\n",
      "  model = cd_fast.enet_coordinate_descent(\n",
      "C:\\Users\\maxle\\anaconda3\\lib\\site-packages\\sklearn\\linear_model\\_coordinate_descent.py:529: ConvergenceWarning: Objective did not converge. You might want to increase the number of iterations. Duality gap: 0.11036378650328516, tolerance: 0.013829800883236269\n",
      "  model = cd_fast.enet_coordinate_descent(\n",
      "C:\\Users\\maxle\\anaconda3\\lib\\site-packages\\sklearn\\linear_model\\_coordinate_descent.py:529: ConvergenceWarning: Objective did not converge. You might want to increase the number of iterations. Duality gap: 0.13097091220777202, tolerance: 0.01384998620523727\n",
      "  model = cd_fast.enet_coordinate_descent(\n",
      "C:\\Users\\maxle\\anaconda3\\lib\\site-packages\\sklearn\\linear_model\\_coordinate_descent.py:529: ConvergenceWarning: Objective did not converge. You might want to increase the number of iterations. Duality gap: 0.08397449929137224, tolerance: 0.013231675079835132\n",
      "  model = cd_fast.enet_coordinate_descent(\n"
     ]
    },
    {
     "name": "stderr",
     "output_type": "stream",
     "text": [
      "C:\\Users\\maxle\\anaconda3\\lib\\site-packages\\sklearn\\linear_model\\_coordinate_descent.py:529: ConvergenceWarning: Objective did not converge. You might want to increase the number of iterations. Duality gap: 1.0910581545827682, tolerance: 0.01402794191111797\n",
      "  model = cd_fast.enet_coordinate_descent(\n",
      "C:\\Users\\maxle\\anaconda3\\lib\\site-packages\\sklearn\\linear_model\\_coordinate_descent.py:529: ConvergenceWarning: Objective did not converge. You might want to increase the number of iterations. Duality gap: 1.5916795127441503, tolerance: 0.014015897814864153\n",
      "  model = cd_fast.enet_coordinate_descent(\n",
      "C:\\Users\\maxle\\anaconda3\\lib\\site-packages\\sklearn\\linear_model\\_coordinate_descent.py:529: ConvergenceWarning: Objective did not converge. You might want to increase the number of iterations. Duality gap: 1.712514416660369, tolerance: 0.013829800883236269\n",
      "  model = cd_fast.enet_coordinate_descent(\n",
      "C:\\Users\\maxle\\anaconda3\\lib\\site-packages\\sklearn\\linear_model\\_coordinate_descent.py:529: ConvergenceWarning: Objective did not converge. You might want to increase the number of iterations. Duality gap: 1.5656763056918095, tolerance: 0.01384998620523727\n",
      "  model = cd_fast.enet_coordinate_descent(\n",
      "C:\\Users\\maxle\\anaconda3\\lib\\site-packages\\sklearn\\linear_model\\_coordinate_descent.py:529: ConvergenceWarning: Objective did not converge. You might want to increase the number of iterations. Duality gap: 1.0542224252007344, tolerance: 0.013231675079835132\n",
      "  model = cd_fast.enet_coordinate_descent(\n",
      "C:\\Users\\maxle\\anaconda3\\lib\\site-packages\\sklearn\\linear_model\\_coordinate_descent.py:529: ConvergenceWarning: Objective did not converge. You might want to increase the number of iterations. Duality gap: 0.01689057482383305, tolerance: 0.013829800883236269\n",
      "  model = cd_fast.enet_coordinate_descent(\n",
      "C:\\Users\\maxle\\anaconda3\\lib\\site-packages\\sklearn\\linear_model\\_coordinate_descent.py:529: ConvergenceWarning: Objective did not converge. You might want to increase the number of iterations. Duality gap: 0.020266748004175383, tolerance: 0.01384998620523727\n",
      "  model = cd_fast.enet_coordinate_descent(\n",
      "C:\\Users\\maxle\\anaconda3\\lib\\site-packages\\sklearn\\linear_model\\_coordinate_descent.py:529: ConvergenceWarning: Objective did not converge. You might want to increase the number of iterations. Duality gap: 0.06821613987271746, tolerance: 0.017240131621043195\n",
      "  model = cd_fast.enet_coordinate_descent(\n"
     ]
    },
    {
     "data": {
      "text/plain": [
       "GridSearchCV(cv=5, estimator=Lasso(),\n",
       "             param_grid={'alpha': array([1.00000000e-05, 1.32571137e-05, 1.75751062e-05, 2.32995181e-05,\n",
       "       3.08884360e-05, 4.09491506e-05, 5.42867544e-05, 7.19685673e-05,\n",
       "       9.54095476e-05, 1.26485522e-04, 1.67683294e-04, 2.22299648e-04,\n",
       "       2.94705170e-04, 3.90693994e-04, 5.17947468e-04, 6.86648845e-04,\n",
       "       9.10298178e-04, 1.20679264e-03, 1.59985872e-03, 2....\n",
       "       2.68269580e-02, 3.55648031e-02, 4.71486636e-02, 6.25055193e-02,\n",
       "       8.28642773e-02, 1.09854114e-01, 1.45634848e-01, 1.93069773e-01,\n",
       "       2.55954792e-01, 3.39322177e-01, 4.49843267e-01, 5.96362332e-01,\n",
       "       7.90604321e-01, 1.04811313e+00, 1.38949549e+00, 1.84206997e+00,\n",
       "       2.44205309e+00, 3.23745754e+00, 4.29193426e+00, 5.68986603e+00,\n",
       "       7.54312006e+00, 1.00000000e+01]),\n",
       "                         'max_iter': [1, 5, 10, 100, 1000]})"
      ]
     },
     "execution_count": 328,
     "metadata": {},
     "output_type": "execute_result"
    }
   ],
   "source": [
    "# your Lasso code here\n",
    "\n",
    "param_grid = {'alpha': np.logspace(-5, 1), \n",
    "              'max_iter': [ 1, 5, 10, 100, 1000]\n",
    "             }\n",
    "\n",
    "lasso = Lasso()\n",
    "grid_lasso = GridSearchCV(estimator=lasso, param_grid=param_grid, cv=5)\n",
    "grid_lasso.fit(X_train, y_train)"
   ]
  },
  {
   "cell_type": "code",
   "execution_count": 329,
   "metadata": {},
   "outputs": [],
   "source": [
    "# grid.get_params()"
   ]
  },
  {
   "cell_type": "code",
   "execution_count": 330,
   "metadata": {},
   "outputs": [
    {
     "name": "stdout",
     "output_type": "stream",
     "text": [
      "Error 0.04266346156564838\n"
     ]
    }
   ],
   "source": [
    "y_predicted_lasso = grid_lasso.predict(X_val)\n",
    "print('Error', np.mean( (y_predicted_lasso - y_val)**2))"
   ]
  },
  {
   "cell_type": "markdown",
   "metadata": {},
   "source": [
    "А вот здесь получилась совершенно человеческая ошибка! Что не так с линейной регрессией? Я хз."
   ]
  },
  {
   "cell_type": "markdown",
   "metadata": {},
   "source": [
    "#### Ridge (регуляризация L2)"
   ]
  },
  {
   "cell_type": "code",
   "execution_count": 331,
   "metadata": {},
   "outputs": [
    {
     "data": {
      "text/plain": [
       "GridSearchCV(cv=5, estimator=Ridge(),\n",
       "             param_grid={'alpha': array([1.00000000e-05, 1.32571137e-05, 1.75751062e-05, 2.32995181e-05,\n",
       "       3.08884360e-05, 4.09491506e-05, 5.42867544e-05, 7.19685673e-05,\n",
       "       9.54095476e-05, 1.26485522e-04, 1.67683294e-04, 2.22299648e-04,\n",
       "       2.94705170e-04, 3.90693994e-04, 5.17947468e-04, 6.86648845e-04,\n",
       "       9.10298178e-04, 1.20679264e-03, 1.59985872e-03, 2....\n",
       "       2.68269580e-02, 3.55648031e-02, 4.71486636e-02, 6.25055193e-02,\n",
       "       8.28642773e-02, 1.09854114e-01, 1.45634848e-01, 1.93069773e-01,\n",
       "       2.55954792e-01, 3.39322177e-01, 4.49843267e-01, 5.96362332e-01,\n",
       "       7.90604321e-01, 1.04811313e+00, 1.38949549e+00, 1.84206997e+00,\n",
       "       2.44205309e+00, 3.23745754e+00, 4.29193426e+00, 5.68986603e+00,\n",
       "       7.54312006e+00, 1.00000000e+01]),\n",
       "                         'max_iter': [1, 5, 10, 100, 1000]})"
      ]
     },
     "execution_count": 331,
     "metadata": {},
     "output_type": "execute_result"
    }
   ],
   "source": [
    "# your Ridge code here\n",
    "ridge = Ridge()\n",
    "grid_ridge = GridSearchCV(estimator=ridge, param_grid=param_grid, cv=5)\n",
    "grid_ridge.fit(X_train, y_train)"
   ]
  },
  {
   "cell_type": "code",
   "execution_count": 332,
   "metadata": {},
   "outputs": [
    {
     "name": "stdout",
     "output_type": "stream",
     "text": [
      "Error 0.040659183187031135\n"
     ]
    }
   ],
   "source": [
    "y_predicted_ridge = grid_ridge.predict(X_val)\n",
    "print('Error', np.mean( (y_predicted_ridge - y_val)**2))"
   ]
  },
  {
   "cell_type": "markdown",
   "metadata": {},
   "source": [
    "Опять норм"
   ]
  },
  {
   "cell_type": "markdown",
   "metadata": {},
   "source": [
    "### Задание 8 <a id=\"task28\"></a>"
   ]
  },
  {
   "cell_type": "markdown",
   "metadata": {},
   "source": [
    "Постройте гистограммы значений весов для линейной регрессии, Lasso и Ridge. Опишите наблюдения. В чем различия между полученными наборами весов и почему?"
   ]
  },
  {
   "cell_type": "code",
   "execution_count": 333,
   "metadata": {},
   "outputs": [],
   "source": [
    "y_predicted_lr = lr.predict(X_val)\n",
    "y_predicted_lasso = grid_lasso.predict(X_val)\n",
    "y_predicted_ridge = grid_ridge.predict(X_val)"
   ]
  },
  {
   "cell_type": "code",
   "execution_count": 218,
   "metadata": {},
   "outputs": [],
   "source": [
    "# y_predicted_lr"
   ]
  },
  {
   "cell_type": "code",
   "execution_count": 217,
   "metadata": {},
   "outputs": [],
   "source": [
    "# y_predicted_lasso"
   ]
  },
  {
   "cell_type": "code",
   "execution_count": 203,
   "metadata": {},
   "outputs": [],
   "source": [
    "# y_predicted_ridge"
   ]
  },
  {
   "cell_type": "markdown",
   "metadata": {},
   "source": [
    "Опа! Несколько коэффициентов в линейной регрессии очень слиьно \"улетели\" от нормы. Возможно, это \"выбросы\" и \"хвосты\" в данных, что и привело к такому качеству прогноза при использовании MSE в качестве функципи потерь. В весах, предсказанных остальными методами такой фигни нет."
   ]
  },
  {
   "cell_type": "markdown",
   "metadata": {},
   "source": [
    "#### Гистограмма вычисленных весов для линейной регрессии"
   ]
  },
  {
   "cell_type": "code",
   "execution_count": 334,
   "metadata": {},
   "outputs": [
    {
     "data": {
      "text/plain": [
       "array([[<AxesSubplot:title={'center':'0'}>]], dtype=object)"
      ]
     },
     "execution_count": 334,
     "metadata": {},
     "output_type": "execute_result"
    },
    {
     "data": {
      "image/png": "[encoded data removed]",
      "text/plain": [
       "<Figure size 432x288 with 1 Axes>"
      ]
     },
     "metadata": {
      "needs_background": "light"
     },
     "output_type": "display_data"
    }
   ],
   "source": [
    "pd.DataFrame(y_predicted_lr).hist(bins=20)"
   ]
  },
  {
   "cell_type": "markdown",
   "metadata": {},
   "source": [
    "#### Гистограмма вычисленных весов для Lasso"
   ]
  },
  {
   "cell_type": "code",
   "execution_count": 335,
   "metadata": {},
   "outputs": [
    {
     "data": {
      "text/plain": [
       "array([[<AxesSubplot:title={'center':'0'}>]], dtype=object)"
      ]
     },
     "execution_count": 335,
     "metadata": {},
     "output_type": "execute_result"
    },
    {
     "data": {
      "image/png": "[encoded data removed]",
      "text/plain": [
       "<Figure size 432x288 with 1 Axes>"
      ]
     },
     "metadata": {
      "needs_background": "light"
     },
     "output_type": "display_data"
    }
   ],
   "source": [
    "pd.DataFrame(y_predicted_lasso).hist(bins=20)"
   ]
  },
  {
   "cell_type": "markdown",
   "metadata": {},
   "source": [
    "#### Гистограмма вычисленных весов для Ridge"
   ]
  },
  {
   "cell_type": "code",
   "execution_count": 208,
   "metadata": {},
   "outputs": [
    {
     "data": {
      "text/plain": [
       "array([[<AxesSubplot:title={'center':'0'}>]], dtype=object)"
      ]
     },
     "execution_count": 208,
     "metadata": {},
     "output_type": "execute_result"
    },
    {
     "data": {
      "image/png": "[encoded data removed]",
      "text/plain": [
       "<Figure size 432x288 with 1 Axes>"
      ]
     },
     "metadata": {
      "needs_background": "light"
     },
     "output_type": "display_data"
    }
   ],
   "source": [
    "pd.DataFrame(y_predicted_ridge).hist(bins=20)"
   ]
  },
  {
   "cell_type": "markdown",
   "metadata": {},
   "source": [
    "``` Опишите свои наблюдения.```\n",
    "\n",
    "Веса при расчете их через Ridge и Lasso стремятся быть нормально распределенными. \n",
    "Как мне кажется, это связано с самим применяемым подходом в этих способах: гиперпараметр альфа подбирается оптимальнее через интерационные вычисления. А многократная выборка оцениваемой величины из пусть даже ненормального распределения стремится к нормальности."
   ]
  },
  {
   "cell_type": "markdown",
   "metadata": {},
   "source": [
    "### One more thing"
   ]
  },
  {
   "cell_type": "code",
   "execution_count": 336,
   "metadata": {},
   "outputs": [
    {
     "name": "stdout",
     "output_type": "stream",
     "text": [
      "[1.046661473197054e+20, 0.15755147897970465, 0.014131151863495815]\n",
      "2\n"
     ]
    }
   ],
   "source": [
    "from sklearn.model_selection import cross_val_score\n",
    "\n",
    "models = [LinearRegression(), Lasso(), Ridge()]\n",
    "all_scores = []\n",
    "\n",
    "for model in models:\n",
    "    scores = cross_val_score(estimator=model, X=X_train, y=y_train, cv=5, scoring = 'neg_mean_squared_error')\n",
    "    \n",
    "    all_scores.append(-np.mean(scores))\n",
    "    \n",
    "print(all_scores)\n",
    "print(np.argmin(all_scores))"
   ]
  },
  {
   "cell_type": "markdown",
   "metadata": {},
   "source": [
    "Хм... В этом куске кода определяется оптимальная модель для наших данных по значениям ошибки. Я его стащил из лекции. Говорят, что для вычисления ошибки нужно использовать train набор, а не валидационный, как это делал я. Блин, недоразобрался где-то, чую."
   ]
  },
  {
   "cell_type": "markdown",
   "metadata": {},
   "source": [
    "### Задание 9 (Бонус) <a id=\"task29\"></a>\n",
    "\n",
    "\n",
    "- Скачайте тестовые данные из соревнования [Kaggle](https://www.kaggle.com/c/house-prices-advanced-regression-techniques/data?select=test.csv)\n",
    "- Примените к ним те же шаги предобработки (заполнение пропусков, масштабирование, и т.д.)\n",
    "- Выберите лучшую модель, которую вам удалось обучить и предскажите с ее помощью цену \n",
    "- На забудьте, что ваша модель предсказывает логарифм (см. Задание 5), так что нужно применить обраное преобразование\n",
    "- Загрузите ваши прогнозы на Kaggle (`Submit Prediction`) и узнайте их точность. "
   ]
  },
  {
   "cell_type": "code",
   "execution_count": 210,
   "metadata": {},
   "outputs": [],
   "source": [
    "# your code here"
   ]
  },
  {
   "cell_type": "markdown",
   "metadata": {},
   "source": [
    "Не, спасибо. Это была прямо сложная для меня домашка. Не всё то, что сделал, удалось нормально осмыслить. Нужно переварить, поразмышлять и несколько раз сюда вернуться."
   ]
  }
 ],
 "metadata": {
  "celltoolbar": "Отсутствует",
  "kernelspec": {
   "display_name": "Python 3",
   "language": "python",
   "name": "python3"
  },
  "language_info": {
   "codemirror_mode": {
    "name": "ipython",
    "version": 3
   },
   "file_extension": ".py",
   "mimetype": "text/x-python",
   "name": "python",
   "nbconvert_exporter": "python",
   "pygments_lexer": "ipython3",
   "version": "3.8.5"
  }
 },
 "nbformat": 4,
 "nbformat_minor": 4
}
