{
  "nbformat": 4,
  "nbformat_minor": 0,
  "metadata": {
    "colab": {
      "provenance": []
    },
    "kernelspec": {
      "name": "python3",
      "display_name": "Python 3"
    },
    "language_info": {
      "name": "python"
    }
  },
  "cells": [
    {
      "cell_type": "markdown",
      "source": [
        "# Случайный лес (Random Forest)\n",
        "\n",
        "В программе:\n",
        "* обучение леса и сравнение с деревом\n",
        "* подбор гиперпараметров леса\n",
        "* зависимость качества от числа деревьев"
      ],
      "metadata": {
        "id": "jwQOvxGpni_6"
      }
    },
    {
      "cell_type": "code",
      "execution_count": null,
      "metadata": {
        "id": "4Irgm907fQZJ"
      },
      "outputs": [],
      "source": [
        "import numpy as np\n",
        "import pandas as pd\n",
        "from matplotlib import pyplot as plt\n",
        "\n",
        "from sklearn.preprocessing import StandardScaler\n",
        "from sklearn.model_selection import train_test_split, cross_val_score, GridSearchCV\n",
        "from sklearn.datasets import fetch_california_housing\n",
        "\n",
        "from sklearn.tree import DecisionTreeRegressor\n",
        "from sklearn.ensemble import RandomForestRegressor\n",
        "\n",
        "from sklearn.metrics import r2_score"
      ]
    },
    {
      "cell_type": "code",
      "source": [
        "RANDOM_STATE = 42"
      ],
      "metadata": {
        "id": "l9Zz_tedfWzS"
      },
      "execution_count": null,
      "outputs": []
    },
    {
      "cell_type": "code",
      "source": [
        "data = fetch_california_housing(as_frame=True)\n",
        "\n",
        "X = data.data\n",
        "y = data.target"
      ],
      "metadata": {
        "id": "2ERpGXd7fW2m"
      },
      "execution_count": null,
      "outputs": []
    },
    {
      "cell_type": "markdown",
      "source": [
        "## 1. Сравнение дерева и леса"
      ],
      "metadata": {
        "id": "o1wQyK-VouS4"
      }
    },
    {
      "cell_type": "code",
      "source": [
        "dt = DecisionTreeRegressor()\n",
        "\n",
        "cross_val_score(dt, X, y, cv=3, scoring='r2').mean()"
      ],
      "metadata": {
        "id": "bevG_CybfW6d",
        "colab": {
          "base_uri": "https://localhost:8080/"
        },
        "outputId": "fab70d78-a1cc-4861-89f7-989e6ee1faff"
      },
      "execution_count": null,
      "outputs": [
        {
          "output_type": "execute_result",
          "data": {
            "text/plain": [
              "0.32344822677735985"
            ]
          },
          "metadata": {},
          "execution_count": 14
        }
      ]
    },
    {
      "cell_type": "code",
      "source": [
        "rf = RandomForestRegressor()\n",
        "\n",
        "cross_val_score(rf, X, y, cv=3, scoring='r2').mean()"
      ],
      "metadata": {
        "id": "BynDIsscgM_m",
        "colab": {
          "base_uri": "https://localhost:8080/"
        },
        "outputId": "a1de8aeb-4498-477e-f1b0-ee61fbc1cd8f"
      },
      "execution_count": null,
      "outputs": [
        {
          "output_type": "execute_result",
          "data": {
            "text/plain": [
              "0.6527700825220905"
            ]
          },
          "metadata": {},
          "execution_count": 15
        }
      ]
    },
    {
      "cell_type": "markdown",
      "source": [
        "## 2. Подбор гиперпараметров леса\n",
        "\n",
        "Для подбора гиперпараметров модели лучше всего действовать так:\n",
        "* разбиваем данные на *train* и *test*\n",
        "* на *train* по кросс-валидации при помощи `GridSearchCV` ищем наилучшие гиперпараметры модели\n",
        "* оцениваем качество модели с наилучшими гиперпараметрами на *test*"
      ],
      "metadata": {
        "id": "kR7QkqUbgZJ9"
      }
    },
    {
      "cell_type": "code",
      "source": [
        "Xtrain, Xtest, ytrain, ytest = train_test_split(X, y, test_size=0.3, random_state=RANDOM_STATE)"
      ],
      "metadata": {
        "id": "ZQ3DfdCsgSpf"
      },
      "execution_count": null,
      "outputs": []
    },
    {
      "cell_type": "markdown",
      "source": [
        "### Гиперпараметры леса (random forest)\n",
        "\n",
        "* `n_estimators=100` - число деревьев в лесе \n",
        "* `oob_score=False` - вычисляем ли out-of-bag ошибку\n",
        "* `n_jobs=None` - на сколько процессов распараллеливаем вычисления\n",
        "* гиперпараметры деревьев (обсуждали раньше):\n",
        "  + `criterion='squared_error'`\n",
        "  + `max_depth=None`\n",
        "  + `min_samples_split=2`\n",
        "  + ...\n",
        "  + `random_state=None`\n"
      ],
      "metadata": {
        "id": "73-P0Qdugz7X"
      }
    },
    {
      "cell_type": "code",
      "source": [
        "params = {'n_estimators': np.arange(10, 200, 20),\n",
        "          'max_depth': np.arange(2, 20, 3)}\n",
        "\n",
        "gs = GridSearchCV(RandomForestRegressor(), params, cv=3, scoring='r2', verbose=2)\n",
        "\n",
        "gs.fit(Xtrain, ytrain)"
      ],
      "metadata": {
        "colab": {
          "base_uri": "https://localhost:8080/"
        },
        "id": "nPvPF01rgu0d",
        "outputId": "09f2d623-42d7-4b7d-d05e-aad529b73af5"
      },
      "execution_count": null,
      "outputs": [
        {
          "output_type": "stream",
          "name": "stdout",
          "text": [
            "Fitting 3 folds for each of 60 candidates, totalling 180 fits\n",
            "[CV] END .......................max_depth=2, n_estimators=10; total time=   0.1s\n",
            "[CV] END .......................max_depth=2, n_estimators=10; total time=   0.1s\n",
            "[CV] END .......................max_depth=2, n_estimators=10; total time=   0.1s\n",
            "[CV] END .......................max_depth=2, n_estimators=30; total time=   0.3s\n",
            "[CV] END .......................max_depth=2, n_estimators=30; total time=   0.4s\n",
            "[CV] END .......................max_depth=2, n_estimators=30; total time=   0.3s\n",
            "[CV] END .......................max_depth=2, n_estimators=50; total time=   0.6s\n",
            "[CV] END .......................max_depth=2, n_estimators=50; total time=   0.6s\n",
            "[CV] END .......................max_depth=2, n_estimators=50; total time=   0.6s\n",
            "[CV] END .......................max_depth=2, n_estimators=70; total time=   0.8s\n",
            "[CV] END .......................max_depth=2, n_estimators=70; total time=   1.0s\n",
            "[CV] END .......................max_depth=2, n_estimators=70; total time=   1.1s\n",
            "[CV] END .......................max_depth=2, n_estimators=90; total time=   1.3s\n",
            "[CV] END .......................max_depth=2, n_estimators=90; total time=   1.0s\n",
            "[CV] END .......................max_depth=2, n_estimators=90; total time=   1.0s\n",
            "[CV] END ......................max_depth=2, n_estimators=110; total time=   1.3s\n",
            "[CV] END ......................max_depth=2, n_estimators=110; total time=   1.2s\n",
            "[CV] END ......................max_depth=2, n_estimators=110; total time=   1.2s\n",
            "[CV] END ......................max_depth=2, n_estimators=130; total time=   1.4s\n",
            "[CV] END ......................max_depth=2, n_estimators=130; total time=   1.4s\n",
            "[CV] END ......................max_depth=2, n_estimators=130; total time=   1.6s\n",
            "[CV] END ......................max_depth=2, n_estimators=150; total time=   2.3s\n",
            "[CV] END ......................max_depth=2, n_estimators=150; total time=   1.7s\n",
            "[CV] END ......................max_depth=2, n_estimators=150; total time=   1.6s\n",
            "[CV] END ......................max_depth=2, n_estimators=170; total time=   1.9s\n",
            "[CV] END ......................max_depth=2, n_estimators=170; total time=   1.9s\n",
            "[CV] END ......................max_depth=2, n_estimators=170; total time=   1.9s\n",
            "[CV] END ......................max_depth=2, n_estimators=190; total time=   2.6s\n",
            "[CV] END ......................max_depth=2, n_estimators=190; total time=   2.4s\n",
            "[CV] END ......................max_depth=2, n_estimators=190; total time=   2.1s\n",
            "[CV] END .......................max_depth=5, n_estimators=10; total time=   0.2s\n",
            "[CV] END .......................max_depth=5, n_estimators=10; total time=   0.2s\n",
            "[CV] END .......................max_depth=5, n_estimators=10; total time=   0.2s\n",
            "[CV] END .......................max_depth=5, n_estimators=30; total time=   0.7s\n",
            "[CV] END .......................max_depth=5, n_estimators=30; total time=   0.7s\n",
            "[CV] END .......................max_depth=5, n_estimators=30; total time=   0.7s\n",
            "[CV] END .......................max_depth=5, n_estimators=50; total time=   1.2s\n",
            "[CV] END .......................max_depth=5, n_estimators=50; total time=   1.2s\n",
            "[CV] END .......................max_depth=5, n_estimators=50; total time=   1.2s\n",
            "[CV] END .......................max_depth=5, n_estimators=70; total time=   3.2s\n",
            "[CV] END .......................max_depth=5, n_estimators=70; total time=   1.7s\n",
            "[CV] END .......................max_depth=5, n_estimators=70; total time=   1.7s\n",
            "[CV] END .......................max_depth=5, n_estimators=90; total time=   2.1s\n",
            "[CV] END .......................max_depth=5, n_estimators=90; total time=   2.2s\n",
            "[CV] END .......................max_depth=5, n_estimators=90; total time=   2.3s\n",
            "[CV] END ......................max_depth=5, n_estimators=110; total time=   3.4s\n",
            "[CV] END ......................max_depth=5, n_estimators=110; total time=   3.6s\n",
            "[CV] END ......................max_depth=5, n_estimators=110; total time=   2.7s\n",
            "[CV] END ......................max_depth=5, n_estimators=130; total time=   3.3s\n",
            "[CV] END ......................max_depth=5, n_estimators=130; total time=   3.8s\n",
            "[CV] END ......................max_depth=5, n_estimators=130; total time=   3.1s\n",
            "[CV] END ......................max_depth=5, n_estimators=150; total time=   3.6s\n",
            "[CV] END ......................max_depth=5, n_estimators=150; total time=   4.4s\n",
            "[CV] END ......................max_depth=5, n_estimators=150; total time=   3.6s\n",
            "[CV] END ......................max_depth=5, n_estimators=170; total time=   4.1s\n",
            "[CV] END ......................max_depth=5, n_estimators=170; total time=   5.0s\n",
            "[CV] END ......................max_depth=5, n_estimators=170; total time=   4.1s\n",
            "[CV] END ......................max_depth=5, n_estimators=190; total time=   4.6s\n",
            "[CV] END ......................max_depth=5, n_estimators=190; total time=   5.4s\n",
            "[CV] END ......................max_depth=5, n_estimators=190; total time=   4.5s\n",
            "[CV] END .......................max_depth=8, n_estimators=10; total time=   0.4s\n",
            "[CV] END .......................max_depth=8, n_estimators=10; total time=   0.4s\n",
            "[CV] END .......................max_depth=8, n_estimators=10; total time=   0.4s\n",
            "[CV] END .......................max_depth=8, n_estimators=30; total time=   1.1s\n",
            "[CV] END .......................max_depth=8, n_estimators=30; total time=   1.1s\n",
            "[CV] END .......................max_depth=8, n_estimators=30; total time=   1.2s\n",
            "[CV] END .......................max_depth=8, n_estimators=50; total time=   2.5s\n",
            "[CV] END .......................max_depth=8, n_estimators=50; total time=   1.8s\n",
            "[CV] END .......................max_depth=8, n_estimators=50; total time=   1.8s\n",
            "[CV] END .......................max_depth=8, n_estimators=70; total time=   2.5s\n",
            "[CV] END .......................max_depth=8, n_estimators=70; total time=   2.5s\n",
            "[CV] END .......................max_depth=8, n_estimators=70; total time=   3.0s\n",
            "[CV] END .......................max_depth=8, n_estimators=90; total time=   3.5s\n",
            "[CV] END .......................max_depth=8, n_estimators=90; total time=   3.2s\n",
            "[CV] END .......................max_depth=8, n_estimators=90; total time=   3.2s\n",
            "[CV] END ......................max_depth=8, n_estimators=110; total time=   4.8s\n",
            "[CV] END ......................max_depth=8, n_estimators=110; total time=   4.0s\n",
            "[CV] END ......................max_depth=8, n_estimators=110; total time=   8.0s\n",
            "[CV] END ......................max_depth=8, n_estimators=130; total time=   6.5s\n",
            "[CV] END ......................max_depth=8, n_estimators=130; total time=   4.9s\n",
            "[CV] END ......................max_depth=8, n_estimators=130; total time=   5.1s\n",
            "[CV] END ......................max_depth=8, n_estimators=150; total time=   5.3s\n",
            "[CV] END ......................max_depth=8, n_estimators=150; total time=   6.2s\n",
            "[CV] END ......................max_depth=8, n_estimators=150; total time=   5.3s\n",
            "[CV] END ......................max_depth=8, n_estimators=170; total time=   6.9s\n",
            "[CV] END ......................max_depth=8, n_estimators=170; total time=   6.0s\n",
            "[CV] END ......................max_depth=8, n_estimators=170; total time=   6.9s\n",
            "[CV] END ......................max_depth=8, n_estimators=190; total time=   6.8s\n",
            "[CV] END ......................max_depth=8, n_estimators=190; total time=   8.6s\n",
            "[CV] END ......................max_depth=8, n_estimators=190; total time=   7.2s\n",
            "[CV] END ......................max_depth=11, n_estimators=10; total time=   0.7s\n",
            "[CV] END ......................max_depth=11, n_estimators=10; total time=   0.6s\n",
            "[CV] END ......................max_depth=11, n_estimators=10; total time=   0.5s\n",
            "[CV] END ......................max_depth=11, n_estimators=30; total time=   1.4s\n",
            "[CV] END ......................max_depth=11, n_estimators=30; total time=   1.4s\n",
            "[CV] END ......................max_depth=11, n_estimators=30; total time=   1.4s\n",
            "[CV] END ......................max_depth=11, n_estimators=50; total time=   2.3s\n",
            "[CV] END ......................max_depth=11, n_estimators=50; total time=   2.3s\n",
            "[CV] END ......................max_depth=11, n_estimators=50; total time=   3.0s\n",
            "[CV] END ......................max_depth=11, n_estimators=70; total time=   3.4s\n",
            "[CV] END ......................max_depth=11, n_estimators=70; total time=   3.2s\n",
            "[CV] END ......................max_depth=11, n_estimators=70; total time=   3.2s\n",
            "[CV] END ......................max_depth=11, n_estimators=90; total time=   5.0s\n",
            "[CV] END ......................max_depth=11, n_estimators=90; total time=   4.1s\n",
            "[CV] END ......................max_depth=11, n_estimators=90; total time=   4.1s\n",
            "[CV] END .....................max_depth=11, n_estimators=110; total time=   5.8s\n",
            "[CV] END .....................max_depth=11, n_estimators=110; total time=   5.0s\n",
            "[CV] END .....................max_depth=11, n_estimators=110; total time=   5.8s\n",
            "[CV] END .....................max_depth=11, n_estimators=130; total time=   5.9s\n",
            "[CV] END .....................max_depth=11, n_estimators=130; total time=   6.7s\n",
            "[CV] END .....................max_depth=11, n_estimators=130; total time=   5.9s\n",
            "[CV] END .....................max_depth=11, n_estimators=150; total time=   7.7s\n",
            "[CV] END .....................max_depth=11, n_estimators=150; total time=   6.8s\n",
            "[CV] END .....................max_depth=11, n_estimators=150; total time=   7.6s\n",
            "[CV] END .....................max_depth=11, n_estimators=170; total time=   8.1s\n",
            "[CV] END .....................max_depth=11, n_estimators=170; total time=   8.2s\n",
            "[CV] END .....................max_depth=11, n_estimators=170; total time=   8.6s\n",
            "[CV] END .....................max_depth=11, n_estimators=190; total time=   9.3s\n",
            "[CV] END .....................max_depth=11, n_estimators=190; total time=   8.9s\n",
            "[CV] END .....................max_depth=11, n_estimators=190; total time=   9.5s\n",
            "[CV] END ......................max_depth=14, n_estimators=10; total time=   0.6s\n",
            "[CV] END ......................max_depth=14, n_estimators=10; total time=   0.5s\n",
            "[CV] END ......................max_depth=14, n_estimators=10; total time=   0.6s\n",
            "[CV] END ......................max_depth=14, n_estimators=30; total time=   1.6s\n",
            "[CV] END ......................max_depth=14, n_estimators=30; total time=   1.6s\n",
            "[CV] END ......................max_depth=14, n_estimators=30; total time=   2.2s\n",
            "[CV] END ......................max_depth=14, n_estimators=50; total time=   2.9s\n",
            "[CV] END ......................max_depth=14, n_estimators=50; total time=   2.7s\n",
            "[CV] END ......................max_depth=14, n_estimators=50; total time=   2.7s\n",
            "[CV] END ......................max_depth=14, n_estimators=70; total time=   4.3s\n",
            "[CV] END ......................max_depth=14, n_estimators=70; total time=   4.0s\n",
            "[CV] END ......................max_depth=14, n_estimators=70; total time=   3.7s\n",
            "[CV] END ......................max_depth=14, n_estimators=90; total time=   6.1s\n",
            "[CV] END ......................max_depth=14, n_estimators=90; total time=   6.0s\n",
            "[CV] END ......................max_depth=14, n_estimators=90; total time=   4.9s\n",
            "[CV] END .....................max_depth=14, n_estimators=110; total time=   7.0s\n",
            "[CV] END .....................max_depth=14, n_estimators=110; total time=   6.0s\n",
            "[CV] END .....................max_depth=14, n_estimators=110; total time=   6.8s\n",
            "[CV] END .....................max_depth=14, n_estimators=130; total time=   7.1s\n",
            "[CV] END .....................max_depth=14, n_estimators=130; total time=   7.8s\n",
            "[CV] END .....................max_depth=14, n_estimators=130; total time=   7.8s\n",
            "[CV] END .....................max_depth=14, n_estimators=150; total time=   8.1s\n",
            "[CV] END .....................max_depth=14, n_estimators=150; total time=   8.9s\n",
            "[CV] END .....................max_depth=14, n_estimators=150; total time=   8.9s\n",
            "[CV] END .....................max_depth=14, n_estimators=170; total time=   9.2s\n",
            "[CV] END .....................max_depth=14, n_estimators=170; total time=  10.0s\n",
            "[CV] END .....................max_depth=14, n_estimators=170; total time=  10.0s\n",
            "[CV] END .....................max_depth=14, n_estimators=190; total time=  11.0s\n",
            "[CV] END .....................max_depth=14, n_estimators=190; total time=  11.0s\n",
            "[CV] END .....................max_depth=14, n_estimators=190; total time=  10.6s\n",
            "[CV] END ......................max_depth=17, n_estimators=10; total time=   0.9s\n",
            "[CV] END ......................max_depth=17, n_estimators=10; total time=   0.7s\n",
            "[CV] END ......................max_depth=17, n_estimators=10; total time=   0.6s\n",
            "[CV] END ......................max_depth=17, n_estimators=30; total time=   1.8s\n",
            "[CV] END ......................max_depth=17, n_estimators=30; total time=   1.8s\n",
            "[CV] END ......................max_depth=17, n_estimators=30; total time=   1.8s\n",
            "[CV] END ......................max_depth=17, n_estimators=50; total time=   3.0s\n",
            "[CV] END ......................max_depth=17, n_estimators=50; total time=   3.8s\n",
            "[CV] END ......................max_depth=17, n_estimators=50; total time=   3.0s\n",
            "[CV] END ......................max_depth=17, n_estimators=70; total time=   4.2s\n",
            "[CV] END ......................max_depth=17, n_estimators=70; total time=   4.9s\n",
            "[CV] END ......................max_depth=17, n_estimators=70; total time=   4.2s\n",
            "[CV] END ......................max_depth=17, n_estimators=90; total time=   5.3s\n",
            "[CV] END ......................max_depth=17, n_estimators=90; total time=   6.2s\n",
            "[CV] END ......................max_depth=17, n_estimators=90; total time=   5.3s\n",
            "[CV] END .....................max_depth=17, n_estimators=110; total time=   7.4s\n",
            "[CV] END .....................max_depth=17, n_estimators=110; total time=   6.5s\n",
            "[CV] END .....................max_depth=17, n_estimators=110; total time=   7.4s\n",
            "[CV] END .....................max_depth=17, n_estimators=130; total time=   9.0s\n",
            "[CV] END .....................max_depth=17, n_estimators=130; total time=   7.7s\n",
            "[CV] END .....................max_depth=17, n_estimators=130; total time=   8.5s\n",
            "[CV] END .....................max_depth=17, n_estimators=150; total time=   9.8s\n",
            "[CV] END .....................max_depth=17, n_estimators=150; total time=   8.8s\n",
            "[CV] END .....................max_depth=17, n_estimators=150; total time=   9.7s\n",
            "[CV] END .....................max_depth=17, n_estimators=170; total time=  10.9s\n",
            "[CV] END .....................max_depth=17, n_estimators=170; total time=  10.9s\n",
            "[CV] END .....................max_depth=17, n_estimators=170; total time=  10.9s\n",
            "[CV] END .....................max_depth=17, n_estimators=190; total time=  12.0s\n",
            "[CV] END .....................max_depth=17, n_estimators=190; total time=  11.7s\n",
            "[CV] END .....................max_depth=17, n_estimators=190; total time=  11.6s\n"
          ]
        },
        {
          "output_type": "execute_result",
          "data": {
            "text/plain": [
              "GridSearchCV(cv=3, estimator=RandomForestRegressor(),\n",
              "             param_grid={'max_depth': array([ 2,  5,  8, 11, 14, 17]),\n",
              "                         'n_estimators': array([ 10,  30,  50,  70,  90, 110, 130, 150, 170, 190])},\n",
              "             scoring='r2', verbose=2)"
            ]
          },
          "metadata": {},
          "execution_count": 7
        }
      ]
    },
    {
      "cell_type": "code",
      "source": [
        "gs.best_score_, gs.best_estimator_"
      ],
      "metadata": {
        "colab": {
          "base_uri": "https://localhost:8080/"
        },
        "id": "ESqrgsg_i7ME",
        "outputId": "c0f7e2c9-e1bd-43c1-8c2a-00101adef84a"
      },
      "execution_count": null,
      "outputs": [
        {
          "output_type": "execute_result",
          "data": {
            "text/plain": [
              "(0.7931685623299155, RandomForestRegressor(max_depth=17, n_estimators=190))"
            ]
          },
          "metadata": {},
          "execution_count": 8
        }
      ]
    },
    {
      "cell_type": "code",
      "source": [
        "params = {'max_features': [None, 'sqrt', 'log2']}\n",
        "\n",
        "gs = GridSearchCV(RandomForestRegressor(n_estimators = 190, max_depth = 17), params, cv=3, scoring='r2', verbose=2)\n",
        "\n",
        "gs.fit(Xtrain, ytrain)"
      ],
      "metadata": {
        "colab": {
          "base_uri": "https://localhost:8080/"
        },
        "id": "g2KbNpCekLHq",
        "outputId": "b07c14e4-0d3d-4f32-dfc9-f05f4d645864"
      },
      "execution_count": null,
      "outputs": [
        {
          "output_type": "stream",
          "name": "stdout",
          "text": [
            "Fitting 3 folds for each of 3 candidates, totalling 9 fits\n",
            "[CV] END ..................................max_features=None; total time=  12.4s\n",
            "[CV] END ..................................max_features=None; total time=  13.2s\n",
            "[CV] END ..................................max_features=None; total time=  12.2s\n",
            "[CV] END ..................................max_features=sqrt; total time=   3.7s\n",
            "[CV] END ..................................max_features=sqrt; total time=   4.7s\n",
            "[CV] END ..................................max_features=sqrt; total time=   3.8s\n",
            "[CV] END ..................................max_features=log2; total time=   5.0s\n",
            "[CV] END ..................................max_features=log2; total time=   5.9s\n",
            "[CV] END ..................................max_features=log2; total time=   5.6s\n"
          ]
        },
        {
          "output_type": "execute_result",
          "data": {
            "text/plain": [
              "GridSearchCV(cv=3,\n",
              "             estimator=RandomForestRegressor(max_depth=17, n_estimators=190),\n",
              "             param_grid={'max_features': [None, 'sqrt', 'log2']}, scoring='r2',\n",
              "             verbose=2)"
            ]
          },
          "metadata": {},
          "execution_count": 17
        }
      ]
    },
    {
      "cell_type": "code",
      "source": [
        "gs.best_score_, gs.best_estimator_"
      ],
      "metadata": {
        "colab": {
          "base_uri": "https://localhost:8080/"
        },
        "id": "CGn2GfJhkiC7",
        "outputId": "2e332212-2e45-4d4a-fef9-2bb76217a198"
      },
      "execution_count": null,
      "outputs": [
        {
          "output_type": "execute_result",
          "data": {
            "text/plain": [
              "(0.8062933573574306,\n",
              " RandomForestRegressor(max_depth=17, max_features='log2', n_estimators=190))"
            ]
          },
          "metadata": {},
          "execution_count": 18
        }
      ]
    },
    {
      "cell_type": "markdown",
      "source": [
        "Теперь проверим полученную модель на тестовых данных"
      ],
      "metadata": {
        "id": "bQRD6H3TmljZ"
      }
    },
    {
      "cell_type": "code",
      "source": [
        "model = RandomForestRegressor(n_estimators = 190, max_depth = 17, max_features='log2')\n",
        "\n",
        "model.fit(Xtrain, ytrain)\n",
        "\n",
        "pred = model.predict(Xtest) \n",
        "\n",
        "r2_score(ytest, pred)"
      ],
      "metadata": {
        "id": "XquzSpNpmrKi",
        "colab": {
          "base_uri": "https://localhost:8080/"
        },
        "outputId": "37c7bec4-0f6c-4e9a-e4b6-d3e482b1c973"
      },
      "execution_count": null,
      "outputs": [
        {
          "output_type": "execute_result",
          "data": {
            "text/plain": [
              "0.8140511795198865"
            ]
          },
          "metadata": {},
          "execution_count": 19
        }
      ]
    },
    {
      "cell_type": "markdown",
      "source": [
        "## 3. Поведение модели при увеличении числа деревьев"
      ],
      "metadata": {
        "id": "7j9ChZOaknF0"
      }
    },
    {
      "cell_type": "code",
      "source": [
        "r2_train = []\n",
        "r2_test = []\n",
        "\n",
        "for n in range(2, 50, 5):\n",
        "    model = RandomForestRegressor(n_estimators = n, n_jobs=-1)\n",
        "    model.fit(Xtrain, ytrain)\n",
        "\n",
        "    pred_train = model.predict(Xtrain)\n",
        "    pred_test = model.predict(Xtest)\n",
        "\n",
        "    r2_train.append(r2_score(ytrain, pred_train))\n",
        "    r2_test.append(r2_score(ytest, pred_test))\n",
        "\n",
        "plt.plot(r2_train, color='blue')\n",
        "plt.plot(r2_test, color='red')\n",
        "plt.xlabel('iteration')\n",
        "plt.ylabel('r2')"
      ],
      "metadata": {
        "id": "_wGarqpFk0Yz",
        "colab": {
          "base_uri": "https://localhost:8080/",
          "height": 317
        },
        "outputId": "b4ce3ec4-f4d6-4e57-b011-91fb02963c00"
      },
      "execution_count": null,
      "outputs": [
        {
          "output_type": "execute_result",
          "data": {
            "text/plain": [
              "Text(0, 0.5, 'r2')"
            ]
          },
          "metadata": {},
          "execution_count": 20
        },
        {
          "output_type": "display_data",
          "data": {
            "text/plain": [
              "<Figure size 432x288 with 1 Axes>"
            ],
            "image/png": "[encoded data removed]"
          },
          "metadata": {
            "needs_background": "light"
          }
        }
      ]
    },
    {
      "cell_type": "markdown",
      "source": [
        "Эти графики подтверждают теорию: при увеличении числа деревьев в лесе качество тоже только увеличивается.\n",
        "\n",
        "На практике качество в какой-то момент выходит на асимптоту и начинает увеличиваться совсем незначительно. Поэтому обычно выбирают минимальное число деревьев в лесе, при котором качество уже почти не растет - ведь лес с большим числом деревьев обучается очень долго."
      ],
      "metadata": {
        "id": "UTXWz7HWoWEs"
      }
    }
  ]
}