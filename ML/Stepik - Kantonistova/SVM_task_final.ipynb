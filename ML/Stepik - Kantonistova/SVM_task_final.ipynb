{
  "cells": [
    {
      "cell_type": "markdown",
      "source": [
        "# SVM. Метод опорных векторов"
      ],
      "metadata": {
        "id": "MUZ6rDRxJX9P"
      }
    },
    {
      "cell_type": "markdown",
      "metadata": {
        "id": "zUu_ftbUtaQ4"
      },
      "source": [
        "## Данные"
      ]
    },
    {
      "cell_type": "markdown",
      "source": [
        "В этой практической работе мы будем обучать модели машинного обучения, ставить эксперименты, подбирать гиперпараметры и сравнивать модели. Вам предлагается решить задачу бинарной классификации, а именно построить алгоритм, определяющий превысит ли средний заработок человека порог $50k. Каждый объект выборки — человек, для которого известны следующие признаки:\n",
        " - `age`\n",
        " - `workclass`\n",
        " - `fnlwgt`\n",
        " - `education`\n",
        " - `education-num`\n",
        " - `marital-status`\n",
        " - `occupation`\n",
        " - `relationship`\n",
        " - `race`\n",
        " - `sex`\n",
        " - `capital-gain`\n",
        " - `capital-loss`\n",
        " - `hours-per-week`\n",
        " \n",
        "Более подробно про признаки можно почитать [здесь](http://archive.ics.uci.edu/ml/machine-learning-databases/adult/adult.names). Целевой признак записан в переменной *>50K,<=50K*."
      ],
      "metadata": {
        "id": "Hy5JxD0EJlcl"
      }
    },
    {
      "cell_type": "markdown",
      "source": [
        "## Бонус ноутбука"
      ],
      "metadata": {
        "id": "LnMba-Q7F5gf"
      }
    },
    {
      "cell_type": "markdown",
      "source": [
        "Все исследователи данных знают, что SVM из библиотеки `sklearn` работает крайне медленно, поэтому на практике не могут его применять для решения задач.\n",
        "\n",
        "В этом ноутбуке мы используем средства библиотеки `sklearn intelex` для ускорения обучения SVM в 600 раз! \n",
        "\n",
        "Ради интереса попробуйте после завершения выполнения заданий в ноутбуке удалить ячейки, связанные с установкой и импортом `sklearn intelex` и засечь время работы методов :)"
      ],
      "metadata": {
        "id": "7ukkKGDYJwj2"
      }
    },
    {
      "cell_type": "code",
      "source": [
        "%%capture \n",
        "!pip install \"scikit-learn-intelex<2021.5\""
      ],
      "metadata": {
        "id": "T22iTCsq2eQ_"
      },
      "execution_count": null,
      "outputs": []
    },
    {
      "cell_type": "code",
      "source": [
        "import pandas as pd\n",
        "import numpy as np\n",
        "from sklearn.linear_model import LogisticRegression\n",
        "from sklearn.svm import SVC\n",
        "from matplotlib import pyplot as plt\n",
        "\n",
        "import sys\n",
        "import os\n",
        "import site\n",
        "sys.path.append(os.path.join(os.path.dirname(site.getsitepackages()[0]), \"site-packages\"))"
      ],
      "metadata": {
        "id": "28pC0ajQt7QF"
      },
      "execution_count": null,
      "outputs": []
    },
    {
      "cell_type": "code",
      "source": [
        "from sklearnex import patch_sklearn \n",
        "\n",
        "patch_sklearn()"
      ],
      "metadata": {
        "id": "116RGtjE6C2W",
        "outputId": "d2f55f50-4b7e-41fb-d1e7-7356ceb9ca8d",
        "colab": {
          "base_uri": "https://localhost:8080/"
        }
      },
      "execution_count": null,
      "outputs": [
        {
          "output_type": "stream",
          "name": "stderr",
          "text": [
            "Intel(R) Extension for Scikit-learn* enabled (https://github.com/intel/scikit-learn-intelex)\n"
          ]
        }
      ]
    },
    {
      "cell_type": "markdown",
      "metadata": {
        "id": "_yBbivcOtaQ5"
      },
      "source": [
        "## Метрика качества"
      ]
    },
    {
      "cell_type": "markdown",
      "source": [
        "В задании мы будем оценивать качество моделей с помощью метрики *AUC-ROC*."
      ],
      "metadata": {
        "id": "GA5Z7L3JJRn2"
      }
    },
    {
      "cell_type": "markdown",
      "metadata": {
        "id": "sUj902IjtaQ7"
      },
      "source": [
        "Загрузим набор данных `data.adult.csv`."
      ]
    },
    {
      "cell_type": "code",
      "execution_count": null,
      "metadata": {
        "collapsed": true,
        "id": "o42lJKF0taQ8",
        "outputId": "e1e80854-757e-4f1d-fa23-bb100b994c26",
        "colab": {
          "base_uri": "https://localhost:8080/",
          "height": 206
        }
      },
      "outputs": [
        {
          "output_type": "execute_result",
          "data": {
            "text/plain": [
              "   age  workclass  fnlwgt     education  education-num      marital-status  \\\n",
              "0   34  Local-gov  284843       HS-grad              9       Never-married   \n",
              "1   40    Private  190290  Some-college             10            Divorced   \n",
              "2   36  Local-gov  177858     Bachelors             13  Married-civ-spouse   \n",
              "3   22    Private  184756  Some-college             10       Never-married   \n",
              "4   47    Private  149700     Bachelors             13  Married-civ-spouse   \n",
              "\n",
              "        occupation   relationship   race     sex  capital-gain  capital-loss  \\\n",
              "0  Farming-fishing  Not-in-family  Black    Male           594             0   \n",
              "1            Sales  Not-in-family  White    Male             0             0   \n",
              "2   Prof-specialty      Own-child  White    Male             0             0   \n",
              "3            Sales      Own-child  White  Female             0             0   \n",
              "4     Tech-support        Husband  White    Male         15024             0   \n",
              "\n",
              "   hours-per-week >50K,<=50K  \n",
              "0              60      <=50K  \n",
              "1              40      <=50K  \n",
              "2              40      <=50K  \n",
              "3              30      <=50K  \n",
              "4              40       >50K  "
            ],
            "text/html": [
              "\n",
              "  <div id=\"df-54da4f2e-5321-4f65-8b49-6d2d1c0dbf5f\">\n",
              "    <div class=\"colab-df-container\">\n",
              "      <div>\n",
              "<style scoped>\n",
              "    .dataframe tbody tr th:only-of-type {\n",
              "        vertical-align: middle;\n",
              "    }\n",
              "\n",
              "    .dataframe tbody tr th {\n",
              "        vertical-align: top;\n",
              "    }\n",
              "\n",
              "    .dataframe thead th {\n",
              "        text-align: right;\n",
              "    }\n",
              "</style>\n",
              "<table border=\"1\" class=\"dataframe\">\n",
              "  <thead>\n",
              "    <tr style=\"text-align: right;\">\n",
              "      <th></th>\n",
              "      <th>age</th>\n",
              "      <th>workclass</th>\n",
              "      <th>fnlwgt</th>\n",
              "      <th>education</th>\n",
              "      <th>education-num</th>\n",
              "      <th>marital-status</th>\n",
              "      <th>occupation</th>\n",
              "      <th>relationship</th>\n",
              "      <th>race</th>\n",
              "      <th>sex</th>\n",
              "      <th>capital-gain</th>\n",
              "      <th>capital-loss</th>\n",
              "      <th>hours-per-week</th>\n",
              "      <th>&gt;50K,&lt;=50K</th>\n",
              "    </tr>\n",
              "  </thead>\n",
              "  <tbody>\n",
              "    <tr>\n",
              "      <th>0</th>\n",
              "      <td>34</td>\n",
              "      <td>Local-gov</td>\n",
              "      <td>284843</td>\n",
              "      <td>HS-grad</td>\n",
              "      <td>9</td>\n",
              "      <td>Never-married</td>\n",
              "      <td>Farming-fishing</td>\n",
              "      <td>Not-in-family</td>\n",
              "      <td>Black</td>\n",
              "      <td>Male</td>\n",
              "      <td>594</td>\n",
              "      <td>0</td>\n",
              "      <td>60</td>\n",
              "      <td>&lt;=50K</td>\n",
              "    </tr>\n",
              "    <tr>\n",
              "      <th>1</th>\n",
              "      <td>40</td>\n",
              "      <td>Private</td>\n",
              "      <td>190290</td>\n",
              "      <td>Some-college</td>\n",
              "      <td>10</td>\n",
              "      <td>Divorced</td>\n",
              "      <td>Sales</td>\n",
              "      <td>Not-in-family</td>\n",
              "      <td>White</td>\n",
              "      <td>Male</td>\n",
              "      <td>0</td>\n",
              "      <td>0</td>\n",
              "      <td>40</td>\n",
              "      <td>&lt;=50K</td>\n",
              "    </tr>\n",
              "    <tr>\n",
              "      <th>2</th>\n",
              "      <td>36</td>\n",
              "      <td>Local-gov</td>\n",
              "      <td>177858</td>\n",
              "      <td>Bachelors</td>\n",
              "      <td>13</td>\n",
              "      <td>Married-civ-spouse</td>\n",
              "      <td>Prof-specialty</td>\n",
              "      <td>Own-child</td>\n",
              "      <td>White</td>\n",
              "      <td>Male</td>\n",
              "      <td>0</td>\n",
              "      <td>0</td>\n",
              "      <td>40</td>\n",
              "      <td>&lt;=50K</td>\n",
              "    </tr>\n",
              "    <tr>\n",
              "      <th>3</th>\n",
              "      <td>22</td>\n",
              "      <td>Private</td>\n",
              "      <td>184756</td>\n",
              "      <td>Some-college</td>\n",
              "      <td>10</td>\n",
              "      <td>Never-married</td>\n",
              "      <td>Sales</td>\n",
              "      <td>Own-child</td>\n",
              "      <td>White</td>\n",
              "      <td>Female</td>\n",
              "      <td>0</td>\n",
              "      <td>0</td>\n",
              "      <td>30</td>\n",
              "      <td>&lt;=50K</td>\n",
              "    </tr>\n",
              "    <tr>\n",
              "      <th>4</th>\n",
              "      <td>47</td>\n",
              "      <td>Private</td>\n",
              "      <td>149700</td>\n",
              "      <td>Bachelors</td>\n",
              "      <td>13</td>\n",
              "      <td>Married-civ-spouse</td>\n",
              "      <td>Tech-support</td>\n",
              "      <td>Husband</td>\n",
              "      <td>White</td>\n",
              "      <td>Male</td>\n",
              "      <td>15024</td>\n",
              "      <td>0</td>\n",
              "      <td>40</td>\n",
              "      <td>&gt;50K</td>\n",
              "    </tr>\n",
              "  </tbody>\n",
              "</table>\n",
              "</div>\n",
              "      <button class=\"colab-df-convert\" onclick=\"convertToInteractive('df-54da4f2e-5321-4f65-8b49-6d2d1c0dbf5f')\"\n",
              "              title=\"Convert this dataframe to an interactive table.\"\n",
              "              style=\"display:none;\">\n",
              "        \n",
              "  <svg xmlns=\"http://www.w3.org/2000/svg\" height=\"24px\"viewBox=\"0 0 24 24\"\n",
              "       width=\"24px\">\n",
              "    <path d=\"M0 0h24v24H0V0z\" fill=\"none\"/>\n",
              "    <path d=\"M18.56 5.44l.94 2.06.94-2.06 2.06-.94-2.06-.94-.94-2.06-.94 2.06-2.06.94zm-11 1L8.5 8.5l.94-2.06 2.06-.94-2.06-.94L8.5 2.5l-.94 2.06-2.06.94zm10 10l.94 2.06.94-2.06 2.06-.94-2.06-.94-.94-2.06-.94 2.06-2.06.94z\"/><path d=\"M17.41 7.96l-1.37-1.37c-.4-.4-.92-.59-1.43-.59-.52 0-1.04.2-1.43.59L10.3 9.45l-7.72 7.72c-.78.78-.78 2.05 0 2.83L4 21.41c.39.39.9.59 1.41.59.51 0 1.02-.2 1.41-.59l7.78-7.78 2.81-2.81c.8-.78.8-2.07 0-2.86zM5.41 20L4 18.59l7.72-7.72 1.47 1.35L5.41 20z\"/>\n",
              "  </svg>\n",
              "      </button>\n",
              "      \n",
              "  <style>\n",
              "    .colab-df-container {\n",
              "      display:flex;\n",
              "      flex-wrap:wrap;\n",
              "      gap: 12px;\n",
              "    }\n",
              "\n",
              "    .colab-df-convert {\n",
              "      background-color: #E8F0FE;\n",
              "      border: none;\n",
              "      border-radius: 50%;\n",
              "      cursor: pointer;\n",
              "      display: none;\n",
              "      fill: #1967D2;\n",
              "      height: 32px;\n",
              "      padding: 0 0 0 0;\n",
              "      width: 32px;\n",
              "    }\n",
              "\n",
              "    .colab-df-convert:hover {\n",
              "      background-color: #E2EBFA;\n",
              "      box-shadow: 0px 1px 2px rgba(60, 64, 67, 0.3), 0px 1px 3px 1px rgba(60, 64, 67, 0.15);\n",
              "      fill: #174EA6;\n",
              "    }\n",
              "\n",
              "    [theme=dark] .colab-df-convert {\n",
              "      background-color: #3B4455;\n",
              "      fill: #D2E3FC;\n",
              "    }\n",
              "\n",
              "    [theme=dark] .colab-df-convert:hover {\n",
              "      background-color: #434B5C;\n",
              "      box-shadow: 0px 1px 3px 1px rgba(0, 0, 0, 0.15);\n",
              "      filter: drop-shadow(0px 1px 2px rgba(0, 0, 0, 0.3));\n",
              "      fill: #FFFFFF;\n",
              "    }\n",
              "  </style>\n",
              "\n",
              "      <script>\n",
              "        const buttonEl =\n",
              "          document.querySelector('#df-54da4f2e-5321-4f65-8b49-6d2d1c0dbf5f button.colab-df-convert');\n",
              "        buttonEl.style.display =\n",
              "          google.colab.kernel.accessAllowed ? 'block' : 'none';\n",
              "\n",
              "        async function convertToInteractive(key) {\n",
              "          const element = document.querySelector('#df-54da4f2e-5321-4f65-8b49-6d2d1c0dbf5f');\n",
              "          const dataTable =\n",
              "            await google.colab.kernel.invokeFunction('convertToInteractive',\n",
              "                                                     [key], {});\n",
              "          if (!dataTable) return;\n",
              "\n",
              "          const docLinkHtml = 'Like what you see? Visit the ' +\n",
              "            '<a target=\"_blank\" href=https://colab.research.google.com/notebooks/data_table.ipynb>data table notebook</a>'\n",
              "            + ' to learn more about interactive tables.';\n",
              "          element.innerHTML = '';\n",
              "          dataTable['output_type'] = 'display_data';\n",
              "          await google.colab.output.renderOutput(dataTable, element);\n",
              "          const docLink = document.createElement('div');\n",
              "          docLink.innerHTML = docLinkHtml;\n",
              "          element.appendChild(docLink);\n",
              "        }\n",
              "      </script>\n",
              "    </div>\n",
              "  </div>\n",
              "  "
            ]
          },
          "metadata": {},
          "execution_count": 4
        }
      ],
      "source": [
        "df = pd.read_csv(\"https://raw.githubusercontent.com/evgpat/edu_stepik_practical_ml/main/datasets/data.adult.csv\")\n",
        "\n",
        "df.head()"
      ]
    },
    {
      "cell_type": "code",
      "source": [
        "df.shape"
      ],
      "metadata": {
        "id": "czvSDePtHJlA",
        "outputId": "d752feb3-1150-4210-ef9a-697d35774000",
        "colab": {
          "base_uri": "https://localhost:8080/"
        }
      },
      "execution_count": null,
      "outputs": [
        {
          "output_type": "execute_result",
          "data": {
            "text/plain": [
              "(16280, 14)"
            ]
          },
          "metadata": {},
          "execution_count": 10
        }
      ]
    },
    {
      "cell_type": "markdown",
      "metadata": {
        "id": "kH9mGBEKtaQ9"
      },
      "source": [
        "Иногда в данных встречаются пропуски. Как задаются пропуски обычно либо прописывается в описании к данным, либо просто на месте пропуска после чтения данных оказывается значение `numpy.nan`.  \n",
        "Более подробно о работе с пропусками в Pandas можно прочитать например [здесь](http://pandas.pydata.org/pandas-docs/stable/missing_data.html). \n",
        "\n",
        "В данном датасете пропущенные значения обозначены как \"?\"."
      ]
    },
    {
      "cell_type": "markdown",
      "source": [
        "### Задание"
      ],
      "metadata": {
        "id": "2VZ0C1KfKDZ2"
      }
    },
    {
      "cell_type": "markdown",
      "source": [
        "Найдите все признаки, имеющие пропущенные значения.\n",
        "\n",
        "Затем удалите из выборки все объекты с пропусками."
      ],
      "metadata": {
        "id": "t9HQxsauKGAH"
      }
    },
    {
      "cell_type": "code",
      "source": [
        "df_test = df.replace({'?': np.nan})"
      ],
      "metadata": {
        "id": "4qxblD1yPOBj"
      },
      "execution_count": null,
      "outputs": []
    },
    {
      "cell_type": "code",
      "source": [
        "df_test.isna().sum()"
      ],
      "metadata": {
        "id": "4d4i_GT_PUJz",
        "outputId": "23b6c652-8b87-4819-87f9-59eb5b0e77ca",
        "colab": {
          "base_uri": "https://localhost:8080/"
        }
      },
      "execution_count": null,
      "outputs": [
        {
          "output_type": "execute_result",
          "data": {
            "text/plain": [
              "age                 0\n",
              "workclass         929\n",
              "fnlwgt              0\n",
              "education           0\n",
              "education-num       0\n",
              "marital-status      0\n",
              "occupation        933\n",
              "relationship        0\n",
              "race                0\n",
              "sex                 0\n",
              "capital-gain        0\n",
              "capital-loss        0\n",
              "hours-per-week      0\n",
              ">50K,<=50K          0\n",
              "dtype: int64"
            ]
          },
          "metadata": {},
          "execution_count": 39
        }
      ]
    },
    {
      "cell_type": "code",
      "execution_count": null,
      "metadata": {
        "collapsed": true,
        "id": "sDsgwXUktaQ-"
      },
      "outputs": [],
      "source": [
        "df_upd = df.replace({'?': np.nan})"
      ]
    },
    {
      "cell_type": "code",
      "source": [
        "df_upd.dropna(inplace=True)"
      ],
      "metadata": {
        "id": "LUgQ1POdJdM9"
      },
      "execution_count": null,
      "outputs": []
    },
    {
      "cell_type": "code",
      "source": [
        "df_upd.shape"
      ],
      "metadata": {
        "id": "3FLxyOo6v7Ej",
        "outputId": "fa5ab791-5c8f-4207-e8af-b71c0a253456",
        "colab": {
          "base_uri": "https://localhost:8080/"
        }
      },
      "execution_count": null,
      "outputs": [
        {
          "output_type": "execute_result",
          "data": {
            "text/plain": [
              "(15347, 14)"
            ]
          },
          "metadata": {},
          "execution_count": 22
        }
      ]
    },
    {
      "cell_type": "markdown",
      "metadata": {
        "id": "nCAoxs8ItaQ_"
      },
      "source": [
        "Обычно после загрузки датасета всегда необходима его некоторая предобработка.  \n",
        "В данном случае она будет заключаться в следующем: \n",
        "\n",
        " - Выделите целевую переменную y в отдельную переменную и преобразуйте к бинарному формату по правилу:  \n",
        " '>50K' - 1, '<=50K' - 0.\n",
        " - Выделите матрицу объект-признак `X`, содержащую только вещественные столбцы (числовые) и не содержащую целевой переменной\n",
        " - Обратите внимание, что не все признаки являются вещественными. В начале мы будем работать только с вещественными признаками. Выделите их отдельно."
      ]
    },
    {
      "cell_type": "code",
      "execution_count": null,
      "metadata": {
        "collapsed": true,
        "id": "L3ktg3zUtaQ_"
      },
      "outputs": [],
      "source": [
        "y = df_upd['>50K,<=50K'].replace({'>50K': 1, '<=50K': 0})"
      ]
    },
    {
      "cell_type": "code",
      "source": [
        "y.shape"
      ],
      "metadata": {
        "id": "flgfMSBUNc6W",
        "outputId": "b4327655-219b-4e39-e72a-d2df830c0e4b",
        "colab": {
          "base_uri": "https://localhost:8080/"
        }
      },
      "execution_count": null,
      "outputs": [
        {
          "output_type": "execute_result",
          "data": {
            "text/plain": [
              "(15347,)"
            ]
          },
          "metadata": {},
          "execution_count": 37
        }
      ]
    },
    {
      "cell_type": "code",
      "source": [
        "y.value_counts()"
      ],
      "metadata": {
        "id": "yUVPtYW1MMHp",
        "outputId": "042523dc-109d-4575-8879-ec10946be8bb",
        "colab": {
          "base_uri": "https://localhost:8080/"
        }
      },
      "execution_count": null,
      "outputs": [
        {
          "output_type": "execute_result",
          "data": {
            "text/plain": [
              "0    11407\n",
              "1     3940\n",
              "Name: >50K,<=50K, dtype: int64"
            ]
          },
          "metadata": {},
          "execution_count": 27
        }
      ]
    },
    {
      "cell_type": "code",
      "source": [
        "df_upd.drop(['>50K,<=50K'], axis=1, inplace=True)"
      ],
      "metadata": {
        "id": "oHQra2swMQv-"
      },
      "execution_count": null,
      "outputs": []
    },
    {
      "cell_type": "code",
      "source": [
        "X = df_upd.select_dtypes(exclude='object')"
      ],
      "metadata": {
        "id": "Nx3VR3FdM9_D"
      },
      "execution_count": null,
      "outputs": []
    },
    {
      "cell_type": "code",
      "source": [
        "X.shape"
      ],
      "metadata": {
        "id": "L4miWdf8NaQa",
        "outputId": "2566f1c8-ee00-4b5b-92ac-f8521685199e",
        "colab": {
          "base_uri": "https://localhost:8080/"
        }
      },
      "execution_count": null,
      "outputs": [
        {
          "output_type": "execute_result",
          "data": {
            "text/plain": [
              "(15347, 6)"
            ]
          },
          "metadata": {},
          "execution_count": 36
        }
      ]
    },
    {
      "cell_type": "markdown",
      "source": [
        "### Задание"
      ],
      "metadata": {
        "id": "5z1ZtHu1x7ns"
      }
    },
    {
      "cell_type": "markdown",
      "source": [
        "Cколько столбцов содержит матрица `X`?"
      ],
      "metadata": {
        "id": "uDEOHieNKJ6J"
      }
    },
    {
      "cell_type": "markdown",
      "metadata": {
        "id": "wsVm_R2p8TEp"
      },
      "source": [
        "Постройте гистограммы для признаков `age`, `fnlwgt`, `capital-gain`. Глядя на получившиеся графики в чем заключается особенность данных? На какие алгоритмы это может повлиять? Может ли масшитабирование повлиять на работу этих алгоритмов?\n",
        "\n",
        "Ответьте на этот вопрос для себя устно."
      ]
    },
    {
      "cell_type": "code",
      "execution_count": null,
      "metadata": {
        "collapsed": true,
        "id": "tZXDMgki8TEw",
        "outputId": "330bcc27-fe58-45e1-897d-2eb890fd04d7",
        "colab": {
          "base_uri": "https://localhost:8080/",
          "height": 281
        }
      },
      "outputs": [
        {
          "output_type": "display_data",
          "data": {
            "text/plain": [
              "<Figure size 432x288 with 4 Axes>"
            ],
            "image/png": "[encoded data removed]"
          },
          "metadata": {
            "needs_background": "light"
          }
        }
      ],
      "source": [
        "X.hist(['age', 'fnlwgt', 'capital-gain']);"
      ]
    },
    {
      "cell_type": "markdown",
      "metadata": {
        "id": "-YoOuaWe8TEw"
      },
      "source": [
        "Масштабируйте все вещественные признаки (масштабированную матрицу назовите, как и раньше, `X`)."
      ]
    },
    {
      "cell_type": "code",
      "execution_count": null,
      "metadata": {
        "collapsed": true,
        "id": "iQSk7m9W8TEw"
      },
      "outputs": [],
      "source": [
        "from sklearn.preprocessing import StandardScaler\n",
        "\n",
        "SS = StandardScaler()"
      ]
    },
    {
      "cell_type": "code",
      "source": [
        "X = pd.DataFrame(SS.fit_transform(X), columns=X.columns)"
      ],
      "metadata": {
        "id": "e3oe-m_wScgm"
      },
      "execution_count": null,
      "outputs": []
    },
    {
      "cell_type": "code",
      "source": [
        "X"
      ],
      "metadata": {
        "id": "5s31tW8QSm8J",
        "outputId": "6b9aaa17-777e-47a9-a50f-864516b2e7dd",
        "colab": {
          "base_uri": "https://localhost:8080/",
          "height": 424
        }
      },
      "execution_count": null,
      "outputs": [
        {
          "output_type": "execute_result",
          "data": {
            "text/plain": [
              "            age    fnlwgt  education-num  capital-gain  capital-loss  \\\n",
              "0     -0.342919  0.900258      -0.450788     -0.065600     -0.218740   \n",
              "1      0.114760  0.010683      -0.059086     -0.150439     -0.218740   \n",
              "2     -0.190359 -0.106280       1.116020     -0.150439     -0.218740   \n",
              "3     -1.258276 -0.041382      -0.059086     -0.150439     -0.218740   \n",
              "4      0.648719 -0.371197       1.116020      1.995391     -0.218740   \n",
              "...         ...       ...            ...           ...           ...   \n",
              "15342 -1.029436  3.062953       1.116020     -0.150439     -0.218740   \n",
              "15343 -0.495478  0.174179       1.116020      1.995391     -0.218740   \n",
              "15344 -0.876877 -0.796853       1.116020     -0.150439     -0.218740   \n",
              "15345  1.564076  0.748381      -0.450788     -0.150439     -0.218740   \n",
              "15346 -0.419198 -1.223741       1.116020     -0.150439      4.473444   \n",
              "\n",
              "       hours-per-week  \n",
              "0            1.588223  \n",
              "1           -0.074178  \n",
              "2           -0.074178  \n",
              "3           -0.905379  \n",
              "4           -0.074178  \n",
              "...               ...  \n",
              "15342       -0.074178  \n",
              "15343        0.341422  \n",
              "15344       -0.074178  \n",
              "15345       -0.074178  \n",
              "15346        0.341422  \n",
              "\n",
              "[15347 rows x 6 columns]"
            ],
            "text/html": [
              "\n",
              "  <div id=\"df-287b8c81-94c8-43c4-9ca6-41735f77e257\">\n",
              "    <div class=\"colab-df-container\">\n",
              "      <div>\n",
              "<style scoped>\n",
              "    .dataframe tbody tr th:only-of-type {\n",
              "        vertical-align: middle;\n",
              "    }\n",
              "\n",
              "    .dataframe tbody tr th {\n",
              "        vertical-align: top;\n",
              "    }\n",
              "\n",
              "    .dataframe thead th {\n",
              "        text-align: right;\n",
              "    }\n",
              "</style>\n",
              "<table border=\"1\" class=\"dataframe\">\n",
              "  <thead>\n",
              "    <tr style=\"text-align: right;\">\n",
              "      <th></th>\n",
              "      <th>age</th>\n",
              "      <th>fnlwgt</th>\n",
              "      <th>education-num</th>\n",
              "      <th>capital-gain</th>\n",
              "      <th>capital-loss</th>\n",
              "      <th>hours-per-week</th>\n",
              "    </tr>\n",
              "  </thead>\n",
              "  <tbody>\n",
              "    <tr>\n",
              "      <th>0</th>\n",
              "      <td>-0.342919</td>\n",
              "      <td>0.900258</td>\n",
              "      <td>-0.450788</td>\n",
              "      <td>-0.065600</td>\n",
              "      <td>-0.218740</td>\n",
              "      <td>1.588223</td>\n",
              "    </tr>\n",
              "    <tr>\n",
              "      <th>1</th>\n",
              "      <td>0.114760</td>\n",
              "      <td>0.010683</td>\n",
              "      <td>-0.059086</td>\n",
              "      <td>-0.150439</td>\n",
              "      <td>-0.218740</td>\n",
              "      <td>-0.074178</td>\n",
              "    </tr>\n",
              "    <tr>\n",
              "      <th>2</th>\n",
              "      <td>-0.190359</td>\n",
              "      <td>-0.106280</td>\n",
              "      <td>1.116020</td>\n",
              "      <td>-0.150439</td>\n",
              "      <td>-0.218740</td>\n",
              "      <td>-0.074178</td>\n",
              "    </tr>\n",
              "    <tr>\n",
              "      <th>3</th>\n",
              "      <td>-1.258276</td>\n",
              "      <td>-0.041382</td>\n",
              "      <td>-0.059086</td>\n",
              "      <td>-0.150439</td>\n",
              "      <td>-0.218740</td>\n",
              "      <td>-0.905379</td>\n",
              "    </tr>\n",
              "    <tr>\n",
              "      <th>4</th>\n",
              "      <td>0.648719</td>\n",
              "      <td>-0.371197</td>\n",
              "      <td>1.116020</td>\n",
              "      <td>1.995391</td>\n",
              "      <td>-0.218740</td>\n",
              "      <td>-0.074178</td>\n",
              "    </tr>\n",
              "    <tr>\n",
              "      <th>...</th>\n",
              "      <td>...</td>\n",
              "      <td>...</td>\n",
              "      <td>...</td>\n",
              "      <td>...</td>\n",
              "      <td>...</td>\n",
              "      <td>...</td>\n",
              "    </tr>\n",
              "    <tr>\n",
              "      <th>15342</th>\n",
              "      <td>-1.029436</td>\n",
              "      <td>3.062953</td>\n",
              "      <td>1.116020</td>\n",
              "      <td>-0.150439</td>\n",
              "      <td>-0.218740</td>\n",
              "      <td>-0.074178</td>\n",
              "    </tr>\n",
              "    <tr>\n",
              "      <th>15343</th>\n",
              "      <td>-0.495478</td>\n",
              "      <td>0.174179</td>\n",
              "      <td>1.116020</td>\n",
              "      <td>1.995391</td>\n",
              "      <td>-0.218740</td>\n",
              "      <td>0.341422</td>\n",
              "    </tr>\n",
              "    <tr>\n",
              "      <th>15344</th>\n",
              "      <td>-0.876877</td>\n",
              "      <td>-0.796853</td>\n",
              "      <td>1.116020</td>\n",
              "      <td>-0.150439</td>\n",
              "      <td>-0.218740</td>\n",
              "      <td>-0.074178</td>\n",
              "    </tr>\n",
              "    <tr>\n",
              "      <th>15345</th>\n",
              "      <td>1.564076</td>\n",
              "      <td>0.748381</td>\n",
              "      <td>-0.450788</td>\n",
              "      <td>-0.150439</td>\n",
              "      <td>-0.218740</td>\n",
              "      <td>-0.074178</td>\n",
              "    </tr>\n",
              "    <tr>\n",
              "      <th>15346</th>\n",
              "      <td>-0.419198</td>\n",
              "      <td>-1.223741</td>\n",
              "      <td>1.116020</td>\n",
              "      <td>-0.150439</td>\n",
              "      <td>4.473444</td>\n",
              "      <td>0.341422</td>\n",
              "    </tr>\n",
              "  </tbody>\n",
              "</table>\n",
              "<p>15347 rows × 6 columns</p>\n",
              "</div>\n",
              "      <button class=\"colab-df-convert\" onclick=\"convertToInteractive('df-287b8c81-94c8-43c4-9ca6-41735f77e257')\"\n",
              "              title=\"Convert this dataframe to an interactive table.\"\n",
              "              style=\"display:none;\">\n",
              "        \n",
              "  <svg xmlns=\"http://www.w3.org/2000/svg\" height=\"24px\"viewBox=\"0 0 24 24\"\n",
              "       width=\"24px\">\n",
              "    <path d=\"M0 0h24v24H0V0z\" fill=\"none\"/>\n",
              "    <path d=\"M18.56 5.44l.94 2.06.94-2.06 2.06-.94-2.06-.94-.94-2.06-.94 2.06-2.06.94zm-11 1L8.5 8.5l.94-2.06 2.06-.94-2.06-.94L8.5 2.5l-.94 2.06-2.06.94zm10 10l.94 2.06.94-2.06 2.06-.94-2.06-.94-.94-2.06-.94 2.06-2.06.94z\"/><path d=\"M17.41 7.96l-1.37-1.37c-.4-.4-.92-.59-1.43-.59-.52 0-1.04.2-1.43.59L10.3 9.45l-7.72 7.72c-.78.78-.78 2.05 0 2.83L4 21.41c.39.39.9.59 1.41.59.51 0 1.02-.2 1.41-.59l7.78-7.78 2.81-2.81c.8-.78.8-2.07 0-2.86zM5.41 20L4 18.59l7.72-7.72 1.47 1.35L5.41 20z\"/>\n",
              "  </svg>\n",
              "      </button>\n",
              "      \n",
              "  <style>\n",
              "    .colab-df-container {\n",
              "      display:flex;\n",
              "      flex-wrap:wrap;\n",
              "      gap: 12px;\n",
              "    }\n",
              "\n",
              "    .colab-df-convert {\n",
              "      background-color: #E8F0FE;\n",
              "      border: none;\n",
              "      border-radius: 50%;\n",
              "      cursor: pointer;\n",
              "      display: none;\n",
              "      fill: #1967D2;\n",
              "      height: 32px;\n",
              "      padding: 0 0 0 0;\n",
              "      width: 32px;\n",
              "    }\n",
              "\n",
              "    .colab-df-convert:hover {\n",
              "      background-color: #E2EBFA;\n",
              "      box-shadow: 0px 1px 2px rgba(60, 64, 67, 0.3), 0px 1px 3px 1px rgba(60, 64, 67, 0.15);\n",
              "      fill: #174EA6;\n",
              "    }\n",
              "\n",
              "    [theme=dark] .colab-df-convert {\n",
              "      background-color: #3B4455;\n",
              "      fill: #D2E3FC;\n",
              "    }\n",
              "\n",
              "    [theme=dark] .colab-df-convert:hover {\n",
              "      background-color: #434B5C;\n",
              "      box-shadow: 0px 1px 3px 1px rgba(0, 0, 0, 0.15);\n",
              "      filter: drop-shadow(0px 1px 2px rgba(0, 0, 0, 0.3));\n",
              "      fill: #FFFFFF;\n",
              "    }\n",
              "  </style>\n",
              "\n",
              "      <script>\n",
              "        const buttonEl =\n",
              "          document.querySelector('#df-287b8c81-94c8-43c4-9ca6-41735f77e257 button.colab-df-convert');\n",
              "        buttonEl.style.display =\n",
              "          google.colab.kernel.accessAllowed ? 'block' : 'none';\n",
              "\n",
              "        async function convertToInteractive(key) {\n",
              "          const element = document.querySelector('#df-287b8c81-94c8-43c4-9ca6-41735f77e257');\n",
              "          const dataTable =\n",
              "            await google.colab.kernel.invokeFunction('convertToInteractive',\n",
              "                                                     [key], {});\n",
              "          if (!dataTable) return;\n",
              "\n",
              "          const docLinkHtml = 'Like what you see? Visit the ' +\n",
              "            '<a target=\"_blank\" href=https://colab.research.google.com/notebooks/data_table.ipynb>data table notebook</a>'\n",
              "            + ' to learn more about interactive tables.';\n",
              "          element.innerHTML = '';\n",
              "          dataTable['output_type'] = 'display_data';\n",
              "          await google.colab.output.renderOutput(dataTable, element);\n",
              "          const docLink = document.createElement('div');\n",
              "          docLink.innerHTML = docLinkHtml;\n",
              "          element.appendChild(docLink);\n",
              "        }\n",
              "      </script>\n",
              "    </div>\n",
              "  </div>\n",
              "  "
            ]
          },
          "metadata": {},
          "execution_count": 46
        }
      ]
    },
    {
      "cell_type": "markdown",
      "metadata": {
        "id": "YMfzsmqdtaQ_"
      },
      "source": [
        "## Обучение классификаторов на вещественных признаках"
      ]
    },
    {
      "cell_type": "markdown",
      "source": [
        "В данном разделе необходимо будет работать только с вещественными признаками и целевой переменной.\n",
        "\n",
        "Сначала обучите по кросс-валидации c **тремя** фолдами и метрикой **roc_auc** алгоритмы:\n",
        "*  LogisticRegression\n",
        "*  SVC(kernel='linear')\n",
        "\n",
        "Остальные параметры оставьте по умолчанию."
      ],
      "metadata": {
        "id": "dXumzL4xKdq2"
      }
    },
    {
      "cell_type": "code",
      "source": [
        "from sklearn.model_selection import cross_val_score\n",
        "from sklearn.metrics import roc_auc_score\n",
        "\n",
        "# пример для логистической регрессии\n",
        "\n",
        "cross_val_score(LogisticRegression(), X, y, cv=3, scoring='roc_auc', verbose=2).mean()"
      ],
      "metadata": {
        "id": "qTidKGjbySO7",
        "colab": {
          "base_uri": "https://localhost:8080/"
        },
        "outputId": "c9da3b3a-1008-44f3-a725-3f8a3c86073f"
      },
      "execution_count": null,
      "outputs": [
        {
          "output_type": "stream",
          "name": "stderr",
          "text": [
            "[Parallel(n_jobs=1)]: Using backend SequentialBackend with 1 concurrent workers.\n",
            "[Parallel(n_jobs=1)]: Done   1 out of   1 | elapsed:    0.1s remaining:    0.0s\n"
          ]
        },
        {
          "output_type": "stream",
          "name": "stdout",
          "text": [
            "[CV] END .................................................... total time=   0.1s\n",
            "[CV] END .................................................... total time=   0.0s\n",
            "[CV] END .................................................... total time=   0.1s\n"
          ]
        },
        {
          "output_type": "stream",
          "name": "stderr",
          "text": [
            "[Parallel(n_jobs=1)]: Done   3 out of   3 | elapsed:    0.2s finished\n"
          ]
        },
        {
          "output_type": "execute_result",
          "data": {
            "text/plain": [
              "0.8250515880497281"
            ]
          },
          "metadata": {},
          "execution_count": 47
        }
      ]
    },
    {
      "cell_type": "code",
      "source": [
        "# посмотрите на среднее качество SVM с линейным ядром \n",
        "\n",
        "cross_val_score(SVC(kernel='linear'), X, y, cv=3, scoring='roc_auc', verbose=2).mean()"
      ],
      "metadata": {
        "id": "IQ9ggGNmyowF",
        "outputId": "546bd81c-97c0-4d1e-cfca-4d6510cf442c",
        "colab": {
          "base_uri": "https://localhost:8080/"
        }
      },
      "execution_count": null,
      "outputs": [
        {
          "output_type": "stream",
          "name": "stderr",
          "text": [
            "[Parallel(n_jobs=1)]: Using backend SequentialBackend with 1 concurrent workers.\n"
          ]
        },
        {
          "output_type": "stream",
          "name": "stdout",
          "text": [
            "[CV] END .................................................... total time=   7.1s\n"
          ]
        },
        {
          "output_type": "stream",
          "name": "stderr",
          "text": [
            "[Parallel(n_jobs=1)]: Done   1 out of   1 | elapsed:    7.1s remaining:    0.0s\n"
          ]
        },
        {
          "output_type": "stream",
          "name": "stdout",
          "text": [
            "[CV] END .................................................... total time=   5.7s\n",
            "[CV] END .................................................... total time=   5.2s\n"
          ]
        },
        {
          "output_type": "stream",
          "name": "stderr",
          "text": [
            "[Parallel(n_jobs=1)]: Done   3 out of   3 | elapsed:   18.0s finished\n"
          ]
        },
        {
          "output_type": "execute_result",
          "data": {
            "text/plain": [
              "0.8100354760945175"
            ]
          },
          "metadata": {},
          "execution_count": 51
        }
      ]
    },
    {
      "cell_type": "markdown",
      "source": [
        "### Задание"
      ],
      "metadata": {
        "id": "9UKxMEwULOQK"
      }
    },
    {
      "cell_type": "markdown",
      "source": [
        "Чему равно качество наилучшей из этих моделей?  \n",
        "Ответ округлите до десятых."
      ],
      "metadata": {
        "id": "tAr8yuShLx9d"
      }
    },
    {
      "cell_type": "markdown",
      "source": [
        "Теперь посмотрим как работает подбор параметров по сетке и как влияет на качество разбиение выборки. Сейчас и далее будем рассматривать два алгоритма:\n",
        " - Logistic Regression\n",
        " - SVC (Support Vector Classifier)\n",
        " \n",
        "У обоих алгоритмов будем оптимизировать гиперпараметр С, а у SVC - ещё гиперпараметр kernel.\n",
        "\n",
        "*  Ищите C в диапазоне от 0.01 до 10.01 с шагом 0.25\n",
        "*  Перебирайте ядра из списка ['rbf','poly','sigmoid','linear']\n",
        "\n",
        "Для подбора гиперпараметров воспользуйтесь перебором по сетке, который реализован в классе [GridSearchCV (тут есть пример использования)](https://scikit-learn.org/stable/modules/generated/sklearn.model_selection.GridSearchCV.html). В качестве схемы кросс-валидации используйте 3-fold cv."
      ],
      "metadata": {
        "id": "7EMO4IzuyCha"
      }
    },
    {
      "cell_type": "code",
      "source": [
        "C = np.arange(0.01, 10.01, 0.25)"
      ],
      "metadata": {
        "id": "G7uA1yGtbYl-"
      },
      "execution_count": null,
      "outputs": []
    },
    {
      "cell_type": "code",
      "execution_count": null,
      "metadata": {
        "collapsed": true,
        "id": "1ClHRH2ftaRA",
        "outputId": "a6a32eb8-c1ea-4667-864c-76f90526dd69",
        "colab": {
          "base_uri": "https://localhost:8080/"
        }
      },
      "outputs": [
        {
          "output_type": "execute_result",
          "data": {
            "text/plain": [
              "(0.825109999279449, {'C': 0.26})"
            ]
          },
          "metadata": {},
          "execution_count": 66
        }
      ],
      "source": [
        "# подберите C у логистической регрессии\n",
        "\n",
        "from sklearn.model_selection import GridSearchCV\n",
        "\n",
        "modelLR = LogisticRegression()\n",
        "# parameters = {}\n",
        "gs = GridSearchCV(modelLR, {'C':C}, cv=3, scoring='roc_auc')\n",
        "gs.fit(X, y)\n",
        "\n",
        "gs.best_score_, gs.best_params_"
      ]
    },
    {
      "cell_type": "code",
      "execution_count": null,
      "metadata": {
        "collapsed": true,
        "id": "xMMtQOn0taRB",
        "outputId": "30afa821-ff52-4be7-da5c-67b01cd1b7e5",
        "colab": {
          "base_uri": "https://localhost:8080/"
        }
      },
      "outputs": [
        {
          "output_type": "execute_result",
          "data": {
            "text/plain": [
              "(0.8100354760945175, {'kernel': 'linear'})"
            ]
          },
          "metadata": {},
          "execution_count": 93
        }
      ],
      "source": [
        "# так как SVM работает долго, то:\n",
        "# сначала первым gridsearch подберите у метода только kernel\n",
        "# вторым gridsearch для найденного ядра подберите C в диапазане от 0.01 до 2.01 с шагом 0.25\n",
        "\n",
        "modelSVM = SVC()\n",
        "gsSVM = GridSearchCV(modelSVM, {'kernel': ('linear', 'sigmoid', 'rbf', 'poly')}, cv=3, scoring='roc_auc')\n",
        "\n",
        "gsSVM.fit(X, y)\n",
        "\n",
        "gsSVM.best_score_, gsSVM.best_params_"
      ]
    },
    {
      "cell_type": "code",
      "source": [
        "C_new = np.arange(0.01, 2.01, 0.25)"
      ],
      "metadata": {
        "id": "5FaVsXAWho7i"
      },
      "execution_count": null,
      "outputs": []
    },
    {
      "cell_type": "code",
      "source": [
        "modelRBF = SVC(kernel='linear')"
      ],
      "metadata": {
        "id": "FPEMNZmzgUMF"
      },
      "execution_count": null,
      "outputs": []
    },
    {
      "cell_type": "code",
      "source": [
        "gsRBF = GridSearchCV(modelRBF, {'C': C_new}, cv=3, scoring='roc_auc')\n",
        "gsRBF.fit(X, y)\n",
        "\n",
        "gsRBF.best_score_, gsRBF.best_params_"
      ],
      "metadata": {
        "id": "Jc59kwivg2Hw",
        "outputId": "83d6cd20-c9c3-4ec3-def5-c7fe65bfdf8c",
        "colab": {
          "base_uri": "https://localhost:8080/"
        }
      },
      "execution_count": null,
      "outputs": [
        {
          "output_type": "execute_result",
          "data": {
            "text/plain": [
              "(0.8117049223200672, {'C': 0.01})"
            ]
          },
          "metadata": {},
          "execution_count": 95
        }
      ]
    },
    {
      "cell_type": "markdown",
      "metadata": {
        "id": "NNmvwB2DtaRD"
      },
      "source": [
        "### Задание"
      ]
    },
    {
      "cell_type": "markdown",
      "source": [
        "Какой из алгоритмов имеет наилучшее качество? \n",
        "\n",
        "Сравните алгоритмы с точки зрения времени обучения. Обучение какого из алгоритмов работает дольше всего и, как вы думаете, почему?"
      ],
      "metadata": {
        "id": "x62Qlcg2Kjhx"
      }
    },
    {
      "cell_type": "markdown",
      "metadata": {
        "id": "w99DPaUOtaRD"
      },
      "source": [
        "## Добавление категориальных признаков в модели"
      ]
    },
    {
      "cell_type": "markdown",
      "source": [
        "Пока мы не использовали нечисловые признаки, которые есть в датасете. Давайте посмотрим, правильно ли мы сделали и увеличится ли качество моделей после добавлениях этих признаков. \n",
        "\n",
        "*  Преобразуйте все категориальные признаки (исходной матрицы df) с помощью метода one-hot-encoding (например, это можно сделать с помощью функции [`pandas.get_dummies`](http://pandas.pydata.org/pandas-docs/stable/generated/pandas.get_dummies.html). Чтобы избежать переобучения, в `get_dummies` поставьте гиперпараметр **`drop_first=True`**.\n",
        "\n",
        "*  Заново масштабируйте данные"
      ],
      "metadata": {
        "id": "-vgwDFrwKl4a"
      }
    },
    {
      "cell_type": "code",
      "source": [
        "df_upd"
      ],
      "metadata": {
        "id": "OrFEtqLGobyn",
        "outputId": "be1910e6-5f9e-44f4-f5ce-b0d08216f2be",
        "colab": {
          "base_uri": "https://localhost:8080/",
          "height": 424
        }
      },
      "execution_count": null,
      "outputs": [
        {
          "output_type": "execute_result",
          "data": {
            "text/plain": [
              "       age  workclass  fnlwgt     education  education-num  \\\n",
              "0       34  Local-gov  284843       HS-grad              9   \n",
              "1       40    Private  190290  Some-college             10   \n",
              "2       36  Local-gov  177858     Bachelors             13   \n",
              "3       22    Private  184756  Some-college             10   \n",
              "4       47    Private  149700     Bachelors             13   \n",
              "...    ...        ...     ...           ...            ...   \n",
              "16275   25  Local-gov  514716     Bachelors             13   \n",
              "16276   32    Private  207668     Bachelors             13   \n",
              "16277   27    Private  104457     Bachelors             13   \n",
              "16278   59  State-gov  268700       HS-grad              9   \n",
              "16279   33    Private   59083     Bachelors             13   \n",
              "\n",
              "           marital-status         occupation   relationship  \\\n",
              "0           Never-married    Farming-fishing  Not-in-family   \n",
              "1                Divorced              Sales  Not-in-family   \n",
              "2      Married-civ-spouse     Prof-specialty      Own-child   \n",
              "3           Never-married              Sales      Own-child   \n",
              "4      Married-civ-spouse       Tech-support        Husband   \n",
              "...                   ...                ...            ...   \n",
              "16275       Never-married       Adm-clerical      Own-child   \n",
              "16276  Married-civ-spouse    Exec-managerial        Husband   \n",
              "16277       Never-married  Machine-op-inspct  Not-in-family   \n",
              "16278  Married-civ-spouse      Other-service        Husband   \n",
              "16279  Married-civ-spouse       Adm-clerical        Husband   \n",
              "\n",
              "                     race     sex  capital-gain  capital-loss  hours-per-week  \n",
              "0                   Black    Male           594             0              60  \n",
              "1                   White    Male             0             0              40  \n",
              "2                   White    Male             0             0              40  \n",
              "3                   White  Female             0             0              30  \n",
              "4                   White    Male         15024             0              40  \n",
              "...                   ...     ...           ...           ...             ...  \n",
              "16275               Black  Female             0             0              40  \n",
              "16276               White    Male         15024             0              45  \n",
              "16277  Asian-Pac-Islander    Male             0             0              40  \n",
              "16278               White    Male             0             0              40  \n",
              "16279               White    Male             0          1902              45  \n",
              "\n",
              "[15347 rows x 13 columns]"
            ],
            "text/html": [
              "\n",
              "  <div id=\"df-f1120c64-951a-4104-977c-dffe360c2713\">\n",
              "    <div class=\"colab-df-container\">\n",
              "      <div>\n",
              "<style scoped>\n",
              "    .dataframe tbody tr th:only-of-type {\n",
              "        vertical-align: middle;\n",
              "    }\n",
              "\n",
              "    .dataframe tbody tr th {\n",
              "        vertical-align: top;\n",
              "    }\n",
              "\n",
              "    .dataframe thead th {\n",
              "        text-align: right;\n",
              "    }\n",
              "</style>\n",
              "<table border=\"1\" class=\"dataframe\">\n",
              "  <thead>\n",
              "    <tr style=\"text-align: right;\">\n",
              "      <th></th>\n",
              "      <th>age</th>\n",
              "      <th>workclass</th>\n",
              "      <th>fnlwgt</th>\n",
              "      <th>education</th>\n",
              "      <th>education-num</th>\n",
              "      <th>marital-status</th>\n",
              "      <th>occupation</th>\n",
              "      <th>relationship</th>\n",
              "      <th>race</th>\n",
              "      <th>sex</th>\n",
              "      <th>capital-gain</th>\n",
              "      <th>capital-loss</th>\n",
              "      <th>hours-per-week</th>\n",
              "    </tr>\n",
              "  </thead>\n",
              "  <tbody>\n",
              "    <tr>\n",
              "      <th>0</th>\n",
              "      <td>34</td>\n",
              "      <td>Local-gov</td>\n",
              "      <td>284843</td>\n",
              "      <td>HS-grad</td>\n",
              "      <td>9</td>\n",
              "      <td>Never-married</td>\n",
              "      <td>Farming-fishing</td>\n",
              "      <td>Not-in-family</td>\n",
              "      <td>Black</td>\n",
              "      <td>Male</td>\n",
              "      <td>594</td>\n",
              "      <td>0</td>\n",
              "      <td>60</td>\n",
              "    </tr>\n",
              "    <tr>\n",
              "      <th>1</th>\n",
              "      <td>40</td>\n",
              "      <td>Private</td>\n",
              "      <td>190290</td>\n",
              "      <td>Some-college</td>\n",
              "      <td>10</td>\n",
              "      <td>Divorced</td>\n",
              "      <td>Sales</td>\n",
              "      <td>Not-in-family</td>\n",
              "      <td>White</td>\n",
              "      <td>Male</td>\n",
              "      <td>0</td>\n",
              "      <td>0</td>\n",
              "      <td>40</td>\n",
              "    </tr>\n",
              "    <tr>\n",
              "      <th>2</th>\n",
              "      <td>36</td>\n",
              "      <td>Local-gov</td>\n",
              "      <td>177858</td>\n",
              "      <td>Bachelors</td>\n",
              "      <td>13</td>\n",
              "      <td>Married-civ-spouse</td>\n",
              "      <td>Prof-specialty</td>\n",
              "      <td>Own-child</td>\n",
              "      <td>White</td>\n",
              "      <td>Male</td>\n",
              "      <td>0</td>\n",
              "      <td>0</td>\n",
              "      <td>40</td>\n",
              "    </tr>\n",
              "    <tr>\n",
              "      <th>3</th>\n",
              "      <td>22</td>\n",
              "      <td>Private</td>\n",
              "      <td>184756</td>\n",
              "      <td>Some-college</td>\n",
              "      <td>10</td>\n",
              "      <td>Never-married</td>\n",
              "      <td>Sales</td>\n",
              "      <td>Own-child</td>\n",
              "      <td>White</td>\n",
              "      <td>Female</td>\n",
              "      <td>0</td>\n",
              "      <td>0</td>\n",
              "      <td>30</td>\n",
              "    </tr>\n",
              "    <tr>\n",
              "      <th>4</th>\n",
              "      <td>47</td>\n",
              "      <td>Private</td>\n",
              "      <td>149700</td>\n",
              "      <td>Bachelors</td>\n",
              "      <td>13</td>\n",
              "      <td>Married-civ-spouse</td>\n",
              "      <td>Tech-support</td>\n",
              "      <td>Husband</td>\n",
              "      <td>White</td>\n",
              "      <td>Male</td>\n",
              "      <td>15024</td>\n",
              "      <td>0</td>\n",
              "      <td>40</td>\n",
              "    </tr>\n",
              "    <tr>\n",
              "      <th>...</th>\n",
              "      <td>...</td>\n",
              "      <td>...</td>\n",
              "      <td>...</td>\n",
              "      <td>...</td>\n",
              "      <td>...</td>\n",
              "      <td>...</td>\n",
              "      <td>...</td>\n",
              "      <td>...</td>\n",
              "      <td>...</td>\n",
              "      <td>...</td>\n",
              "      <td>...</td>\n",
              "      <td>...</td>\n",
              "      <td>...</td>\n",
              "    </tr>\n",
              "    <tr>\n",
              "      <th>16275</th>\n",
              "      <td>25</td>\n",
              "      <td>Local-gov</td>\n",
              "      <td>514716</td>\n",
              "      <td>Bachelors</td>\n",
              "      <td>13</td>\n",
              "      <td>Never-married</td>\n",
              "      <td>Adm-clerical</td>\n",
              "      <td>Own-child</td>\n",
              "      <td>Black</td>\n",
              "      <td>Female</td>\n",
              "      <td>0</td>\n",
              "      <td>0</td>\n",
              "      <td>40</td>\n",
              "    </tr>\n",
              "    <tr>\n",
              "      <th>16276</th>\n",
              "      <td>32</td>\n",
              "      <td>Private</td>\n",
              "      <td>207668</td>\n",
              "      <td>Bachelors</td>\n",
              "      <td>13</td>\n",
              "      <td>Married-civ-spouse</td>\n",
              "      <td>Exec-managerial</td>\n",
              "      <td>Husband</td>\n",
              "      <td>White</td>\n",
              "      <td>Male</td>\n",
              "      <td>15024</td>\n",
              "      <td>0</td>\n",
              "      <td>45</td>\n",
              "    </tr>\n",
              "    <tr>\n",
              "      <th>16277</th>\n",
              "      <td>27</td>\n",
              "      <td>Private</td>\n",
              "      <td>104457</td>\n",
              "      <td>Bachelors</td>\n",
              "      <td>13</td>\n",
              "      <td>Never-married</td>\n",
              "      <td>Machine-op-inspct</td>\n",
              "      <td>Not-in-family</td>\n",
              "      <td>Asian-Pac-Islander</td>\n",
              "      <td>Male</td>\n",
              "      <td>0</td>\n",
              "      <td>0</td>\n",
              "      <td>40</td>\n",
              "    </tr>\n",
              "    <tr>\n",
              "      <th>16278</th>\n",
              "      <td>59</td>\n",
              "      <td>State-gov</td>\n",
              "      <td>268700</td>\n",
              "      <td>HS-grad</td>\n",
              "      <td>9</td>\n",
              "      <td>Married-civ-spouse</td>\n",
              "      <td>Other-service</td>\n",
              "      <td>Husband</td>\n",
              "      <td>White</td>\n",
              "      <td>Male</td>\n",
              "      <td>0</td>\n",
              "      <td>0</td>\n",
              "      <td>40</td>\n",
              "    </tr>\n",
              "    <tr>\n",
              "      <th>16279</th>\n",
              "      <td>33</td>\n",
              "      <td>Private</td>\n",
              "      <td>59083</td>\n",
              "      <td>Bachelors</td>\n",
              "      <td>13</td>\n",
              "      <td>Married-civ-spouse</td>\n",
              "      <td>Adm-clerical</td>\n",
              "      <td>Husband</td>\n",
              "      <td>White</td>\n",
              "      <td>Male</td>\n",
              "      <td>0</td>\n",
              "      <td>1902</td>\n",
              "      <td>45</td>\n",
              "    </tr>\n",
              "  </tbody>\n",
              "</table>\n",
              "<p>15347 rows × 13 columns</p>\n",
              "</div>\n",
              "      <button class=\"colab-df-convert\" onclick=\"convertToInteractive('df-f1120c64-951a-4104-977c-dffe360c2713')\"\n",
              "              title=\"Convert this dataframe to an interactive table.\"\n",
              "              style=\"display:none;\">\n",
              "        \n",
              "  <svg xmlns=\"http://www.w3.org/2000/svg\" height=\"24px\"viewBox=\"0 0 24 24\"\n",
              "       width=\"24px\">\n",
              "    <path d=\"M0 0h24v24H0V0z\" fill=\"none\"/>\n",
              "    <path d=\"M18.56 5.44l.94 2.06.94-2.06 2.06-.94-2.06-.94-.94-2.06-.94 2.06-2.06.94zm-11 1L8.5 8.5l.94-2.06 2.06-.94-2.06-.94L8.5 2.5l-.94 2.06-2.06.94zm10 10l.94 2.06.94-2.06 2.06-.94-2.06-.94-.94-2.06-.94 2.06-2.06.94z\"/><path d=\"M17.41 7.96l-1.37-1.37c-.4-.4-.92-.59-1.43-.59-.52 0-1.04.2-1.43.59L10.3 9.45l-7.72 7.72c-.78.78-.78 2.05 0 2.83L4 21.41c.39.39.9.59 1.41.59.51 0 1.02-.2 1.41-.59l7.78-7.78 2.81-2.81c.8-.78.8-2.07 0-2.86zM5.41 20L4 18.59l7.72-7.72 1.47 1.35L5.41 20z\"/>\n",
              "  </svg>\n",
              "      </button>\n",
              "      \n",
              "  <style>\n",
              "    .colab-df-container {\n",
              "      display:flex;\n",
              "      flex-wrap:wrap;\n",
              "      gap: 12px;\n",
              "    }\n",
              "\n",
              "    .colab-df-convert {\n",
              "      background-color: #E8F0FE;\n",
              "      border: none;\n",
              "      border-radius: 50%;\n",
              "      cursor: pointer;\n",
              "      display: none;\n",
              "      fill: #1967D2;\n",
              "      height: 32px;\n",
              "      padding: 0 0 0 0;\n",
              "      width: 32px;\n",
              "    }\n",
              "\n",
              "    .colab-df-convert:hover {\n",
              "      background-color: #E2EBFA;\n",
              "      box-shadow: 0px 1px 2px rgba(60, 64, 67, 0.3), 0px 1px 3px 1px rgba(60, 64, 67, 0.15);\n",
              "      fill: #174EA6;\n",
              "    }\n",
              "\n",
              "    [theme=dark] .colab-df-convert {\n",
              "      background-color: #3B4455;\n",
              "      fill: #D2E3FC;\n",
              "    }\n",
              "\n",
              "    [theme=dark] .colab-df-convert:hover {\n",
              "      background-color: #434B5C;\n",
              "      box-shadow: 0px 1px 3px 1px rgba(0, 0, 0, 0.15);\n",
              "      filter: drop-shadow(0px 1px 2px rgba(0, 0, 0, 0.3));\n",
              "      fill: #FFFFFF;\n",
              "    }\n",
              "  </style>\n",
              "\n",
              "      <script>\n",
              "        const buttonEl =\n",
              "          document.querySelector('#df-f1120c64-951a-4104-977c-dffe360c2713 button.colab-df-convert');\n",
              "        buttonEl.style.display =\n",
              "          google.colab.kernel.accessAllowed ? 'block' : 'none';\n",
              "\n",
              "        async function convertToInteractive(key) {\n",
              "          const element = document.querySelector('#df-f1120c64-951a-4104-977c-dffe360c2713');\n",
              "          const dataTable =\n",
              "            await google.colab.kernel.invokeFunction('convertToInteractive',\n",
              "                                                     [key], {});\n",
              "          if (!dataTable) return;\n",
              "\n",
              "          const docLinkHtml = 'Like what you see? Visit the ' +\n",
              "            '<a target=\"_blank\" href=https://colab.research.google.com/notebooks/data_table.ipynb>data table notebook</a>'\n",
              "            + ' to learn more about interactive tables.';\n",
              "          element.innerHTML = '';\n",
              "          dataTable['output_type'] = 'display_data';\n",
              "          await google.colab.output.renderOutput(dataTable, element);\n",
              "          const docLink = document.createElement('div');\n",
              "          docLink.innerHTML = docLinkHtml;\n",
              "          element.appendChild(docLink);\n",
              "        }\n",
              "      </script>\n",
              "    </div>\n",
              "  </div>\n",
              "  "
            ]
          },
          "metadata": {},
          "execution_count": 69
        }
      ]
    },
    {
      "cell_type": "code",
      "execution_count": null,
      "metadata": {
        "collapsed": true,
        "id": "9XsO_AC_taRD",
        "outputId": "93d9a330-4935-406b-cf52-72ed0e3a0524",
        "colab": {
          "base_uri": "https://localhost:8080/",
          "height": 334
        }
      },
      "outputs": [
        {
          "output_type": "execute_result",
          "data": {
            "text/plain": [
              "   age  fnlwgt  education-num  capital-gain  capital-loss  hours-per-week  \\\n",
              "0   34  284843              9           594             0              60   \n",
              "1   40  190290             10             0             0              40   \n",
              "2   36  177858             13             0             0              40   \n",
              "3   22  184756             10             0             0              30   \n",
              "4   47  149700             13         15024             0              40   \n",
              "\n",
              "   workclass_Local-gov  workclass_Private  workclass_Self-emp-inc  \\\n",
              "0                    1                  0                       0   \n",
              "1                    0                  1                       0   \n",
              "2                    1                  0                       0   \n",
              "3                    0                  1                       0   \n",
              "4                    0                  1                       0   \n",
              "\n",
              "   workclass_Self-emp-not-inc  ...  relationship_Not-in-family  \\\n",
              "0                           0  ...                           1   \n",
              "1                           0  ...                           1   \n",
              "2                           0  ...                           0   \n",
              "3                           0  ...                           0   \n",
              "4                           0  ...                           0   \n",
              "\n",
              "   relationship_Other-relative  relationship_Own-child  \\\n",
              "0                            0                       0   \n",
              "1                            0                       0   \n",
              "2                            0                       1   \n",
              "3                            0                       1   \n",
              "4                            0                       0   \n",
              "\n",
              "   relationship_Unmarried  relationship_Wife  race_Asian-Pac-Islander  \\\n",
              "0                       0                  0                        0   \n",
              "1                       0                  0                        0   \n",
              "2                       0                  0                        0   \n",
              "3                       0                  0                        0   \n",
              "4                       0                  0                        0   \n",
              "\n",
              "   race_Black  race_Other  race_White  sex_Male  \n",
              "0           1           0           0         1  \n",
              "1           0           0           1         1  \n",
              "2           0           0           1         1  \n",
              "3           0           0           1         0  \n",
              "4           0           0           1         1  \n",
              "\n",
              "[5 rows x 56 columns]"
            ],
            "text/html": [
              "\n",
              "  <div id=\"df-dff1bcc9-b370-4487-8def-b285b3251bd5\">\n",
              "    <div class=\"colab-df-container\">\n",
              "      <div>\n",
              "<style scoped>\n",
              "    .dataframe tbody tr th:only-of-type {\n",
              "        vertical-align: middle;\n",
              "    }\n",
              "\n",
              "    .dataframe tbody tr th {\n",
              "        vertical-align: top;\n",
              "    }\n",
              "\n",
              "    .dataframe thead th {\n",
              "        text-align: right;\n",
              "    }\n",
              "</style>\n",
              "<table border=\"1\" class=\"dataframe\">\n",
              "  <thead>\n",
              "    <tr style=\"text-align: right;\">\n",
              "      <th></th>\n",
              "      <th>age</th>\n",
              "      <th>fnlwgt</th>\n",
              "      <th>education-num</th>\n",
              "      <th>capital-gain</th>\n",
              "      <th>capital-loss</th>\n",
              "      <th>hours-per-week</th>\n",
              "      <th>workclass_Local-gov</th>\n",
              "      <th>workclass_Private</th>\n",
              "      <th>workclass_Self-emp-inc</th>\n",
              "      <th>workclass_Self-emp-not-inc</th>\n",
              "      <th>...</th>\n",
              "      <th>relationship_Not-in-family</th>\n",
              "      <th>relationship_Other-relative</th>\n",
              "      <th>relationship_Own-child</th>\n",
              "      <th>relationship_Unmarried</th>\n",
              "      <th>relationship_Wife</th>\n",
              "      <th>race_Asian-Pac-Islander</th>\n",
              "      <th>race_Black</th>\n",
              "      <th>race_Other</th>\n",
              "      <th>race_White</th>\n",
              "      <th>sex_Male</th>\n",
              "    </tr>\n",
              "  </thead>\n",
              "  <tbody>\n",
              "    <tr>\n",
              "      <th>0</th>\n",
              "      <td>34</td>\n",
              "      <td>284843</td>\n",
              "      <td>9</td>\n",
              "      <td>594</td>\n",
              "      <td>0</td>\n",
              "      <td>60</td>\n",
              "      <td>1</td>\n",
              "      <td>0</td>\n",
              "      <td>0</td>\n",
              "      <td>0</td>\n",
              "      <td>...</td>\n",
              "      <td>1</td>\n",
              "      <td>0</td>\n",
              "      <td>0</td>\n",
              "      <td>0</td>\n",
              "      <td>0</td>\n",
              "      <td>0</td>\n",
              "      <td>1</td>\n",
              "      <td>0</td>\n",
              "      <td>0</td>\n",
              "      <td>1</td>\n",
              "    </tr>\n",
              "    <tr>\n",
              "      <th>1</th>\n",
              "      <td>40</td>\n",
              "      <td>190290</td>\n",
              "      <td>10</td>\n",
              "      <td>0</td>\n",
              "      <td>0</td>\n",
              "      <td>40</td>\n",
              "      <td>0</td>\n",
              "      <td>1</td>\n",
              "      <td>0</td>\n",
              "      <td>0</td>\n",
              "      <td>...</td>\n",
              "      <td>1</td>\n",
              "      <td>0</td>\n",
              "      <td>0</td>\n",
              "      <td>0</td>\n",
              "      <td>0</td>\n",
              "      <td>0</td>\n",
              "      <td>0</td>\n",
              "      <td>0</td>\n",
              "      <td>1</td>\n",
              "      <td>1</td>\n",
              "    </tr>\n",
              "    <tr>\n",
              "      <th>2</th>\n",
              "      <td>36</td>\n",
              "      <td>177858</td>\n",
              "      <td>13</td>\n",
              "      <td>0</td>\n",
              "      <td>0</td>\n",
              "      <td>40</td>\n",
              "      <td>1</td>\n",
              "      <td>0</td>\n",
              "      <td>0</td>\n",
              "      <td>0</td>\n",
              "      <td>...</td>\n",
              "      <td>0</td>\n",
              "      <td>0</td>\n",
              "      <td>1</td>\n",
              "      <td>0</td>\n",
              "      <td>0</td>\n",
              "      <td>0</td>\n",
              "      <td>0</td>\n",
              "      <td>0</td>\n",
              "      <td>1</td>\n",
              "      <td>1</td>\n",
              "    </tr>\n",
              "    <tr>\n",
              "      <th>3</th>\n",
              "      <td>22</td>\n",
              "      <td>184756</td>\n",
              "      <td>10</td>\n",
              "      <td>0</td>\n",
              "      <td>0</td>\n",
              "      <td>30</td>\n",
              "      <td>0</td>\n",
              "      <td>1</td>\n",
              "      <td>0</td>\n",
              "      <td>0</td>\n",
              "      <td>...</td>\n",
              "      <td>0</td>\n",
              "      <td>0</td>\n",
              "      <td>1</td>\n",
              "      <td>0</td>\n",
              "      <td>0</td>\n",
              "      <td>0</td>\n",
              "      <td>0</td>\n",
              "      <td>0</td>\n",
              "      <td>1</td>\n",
              "      <td>0</td>\n",
              "    </tr>\n",
              "    <tr>\n",
              "      <th>4</th>\n",
              "      <td>47</td>\n",
              "      <td>149700</td>\n",
              "      <td>13</td>\n",
              "      <td>15024</td>\n",
              "      <td>0</td>\n",
              "      <td>40</td>\n",
              "      <td>0</td>\n",
              "      <td>1</td>\n",
              "      <td>0</td>\n",
              "      <td>0</td>\n",
              "      <td>...</td>\n",
              "      <td>0</td>\n",
              "      <td>0</td>\n",
              "      <td>0</td>\n",
              "      <td>0</td>\n",
              "      <td>0</td>\n",
              "      <td>0</td>\n",
              "      <td>0</td>\n",
              "      <td>0</td>\n",
              "      <td>1</td>\n",
              "      <td>1</td>\n",
              "    </tr>\n",
              "  </tbody>\n",
              "</table>\n",
              "<p>5 rows × 56 columns</p>\n",
              "</div>\n",
              "      <button class=\"colab-df-convert\" onclick=\"convertToInteractive('df-dff1bcc9-b370-4487-8def-b285b3251bd5')\"\n",
              "              title=\"Convert this dataframe to an interactive table.\"\n",
              "              style=\"display:none;\">\n",
              "        \n",
              "  <svg xmlns=\"http://www.w3.org/2000/svg\" height=\"24px\"viewBox=\"0 0 24 24\"\n",
              "       width=\"24px\">\n",
              "    <path d=\"M0 0h24v24H0V0z\" fill=\"none\"/>\n",
              "    <path d=\"M18.56 5.44l.94 2.06.94-2.06 2.06-.94-2.06-.94-.94-2.06-.94 2.06-2.06.94zm-11 1L8.5 8.5l.94-2.06 2.06-.94-2.06-.94L8.5 2.5l-.94 2.06-2.06.94zm10 10l.94 2.06.94-2.06 2.06-.94-2.06-.94-.94-2.06-.94 2.06-2.06.94z\"/><path d=\"M17.41 7.96l-1.37-1.37c-.4-.4-.92-.59-1.43-.59-.52 0-1.04.2-1.43.59L10.3 9.45l-7.72 7.72c-.78.78-.78 2.05 0 2.83L4 21.41c.39.39.9.59 1.41.59.51 0 1.02-.2 1.41-.59l7.78-7.78 2.81-2.81c.8-.78.8-2.07 0-2.86zM5.41 20L4 18.59l7.72-7.72 1.47 1.35L5.41 20z\"/>\n",
              "  </svg>\n",
              "      </button>\n",
              "      \n",
              "  <style>\n",
              "    .colab-df-container {\n",
              "      display:flex;\n",
              "      flex-wrap:wrap;\n",
              "      gap: 12px;\n",
              "    }\n",
              "\n",
              "    .colab-df-convert {\n",
              "      background-color: #E8F0FE;\n",
              "      border: none;\n",
              "      border-radius: 50%;\n",
              "      cursor: pointer;\n",
              "      display: none;\n",
              "      fill: #1967D2;\n",
              "      height: 32px;\n",
              "      padding: 0 0 0 0;\n",
              "      width: 32px;\n",
              "    }\n",
              "\n",
              "    .colab-df-convert:hover {\n",
              "      background-color: #E2EBFA;\n",
              "      box-shadow: 0px 1px 2px rgba(60, 64, 67, 0.3), 0px 1px 3px 1px rgba(60, 64, 67, 0.15);\n",
              "      fill: #174EA6;\n",
              "    }\n",
              "\n",
              "    [theme=dark] .colab-df-convert {\n",
              "      background-color: #3B4455;\n",
              "      fill: #D2E3FC;\n",
              "    }\n",
              "\n",
              "    [theme=dark] .colab-df-convert:hover {\n",
              "      background-color: #434B5C;\n",
              "      box-shadow: 0px 1px 3px 1px rgba(0, 0, 0, 0.15);\n",
              "      filter: drop-shadow(0px 1px 2px rgba(0, 0, 0, 0.3));\n",
              "      fill: #FFFFFF;\n",
              "    }\n",
              "  </style>\n",
              "\n",
              "      <script>\n",
              "        const buttonEl =\n",
              "          document.querySelector('#df-dff1bcc9-b370-4487-8def-b285b3251bd5 button.colab-df-convert');\n",
              "        buttonEl.style.display =\n",
              "          google.colab.kernel.accessAllowed ? 'block' : 'none';\n",
              "\n",
              "        async function convertToInteractive(key) {\n",
              "          const element = document.querySelector('#df-dff1bcc9-b370-4487-8def-b285b3251bd5');\n",
              "          const dataTable =\n",
              "            await google.colab.kernel.invokeFunction('convertToInteractive',\n",
              "                                                     [key], {});\n",
              "          if (!dataTable) return;\n",
              "\n",
              "          const docLinkHtml = 'Like what you see? Visit the ' +\n",
              "            '<a target=\"_blank\" href=https://colab.research.google.com/notebooks/data_table.ipynb>data table notebook</a>'\n",
              "            + ' to learn more about interactive tables.';\n",
              "          element.innerHTML = '';\n",
              "          dataTable['output_type'] = 'display_data';\n",
              "          await google.colab.output.renderOutput(dataTable, element);\n",
              "          const docLink = document.createElement('div');\n",
              "          docLink.innerHTML = docLinkHtml;\n",
              "          element.appendChild(docLink);\n",
              "        }\n",
              "      </script>\n",
              "    </div>\n",
              "  </div>\n",
              "  "
            ]
          },
          "metadata": {},
          "execution_count": 71
        }
      ],
      "source": [
        "X_new = pd.get_dummies(df_upd, drop_first=True)\n",
        "X_new.head()"
      ]
    },
    {
      "cell_type": "code",
      "source": [
        "X_new = pd.DataFrame(SS.fit_transform(X_new), columns=X_new.columns)"
      ],
      "metadata": {
        "id": "qDLH4NIXplCG"
      },
      "execution_count": null,
      "outputs": []
    },
    {
      "cell_type": "code",
      "source": [
        "X_new"
      ],
      "metadata": {
        "id": "XwTIS7TFpzON",
        "outputId": "00c59dc9-62de-488d-a812-3e784ed2b076",
        "colab": {
          "base_uri": "https://localhost:8080/",
          "height": 523
        }
      },
      "execution_count": null,
      "outputs": [
        {
          "output_type": "execute_result",
          "data": {
            "text/plain": [
              "            age    fnlwgt  education-num  capital-gain  capital-loss  \\\n",
              "0     -0.342919  0.900258      -0.450788     -0.065600     -0.218740   \n",
              "1      0.114760  0.010683      -0.059086     -0.150439     -0.218740   \n",
              "2     -0.190359 -0.106280       1.116020     -0.150439     -0.218740   \n",
              "3     -1.258276 -0.041382      -0.059086     -0.150439     -0.218740   \n",
              "4      0.648719 -0.371197       1.116020      1.995391     -0.218740   \n",
              "...         ...       ...            ...           ...           ...   \n",
              "15342 -1.029436  3.062953       1.116020     -0.150439     -0.218740   \n",
              "15343 -0.495478  0.174179       1.116020      1.995391     -0.218740   \n",
              "15344 -0.876877 -0.796853       1.116020     -0.150439     -0.218740   \n",
              "15345  1.564076  0.748381      -0.450788     -0.150439     -0.218740   \n",
              "15346 -0.419198 -1.223741       1.116020     -0.150439      4.473444   \n",
              "\n",
              "       hours-per-week  workclass_Local-gov  workclass_Private  \\\n",
              "0            1.588223             3.658322          -1.665953   \n",
              "1           -0.074178            -0.273349           0.600257   \n",
              "2           -0.074178             3.658322          -1.665953   \n",
              "3           -0.905379            -0.273349           0.600257   \n",
              "4           -0.074178            -0.273349           0.600257   \n",
              "...               ...                  ...                ...   \n",
              "15342       -0.074178             3.658322          -1.665953   \n",
              "15343        0.341422            -0.273349           0.600257   \n",
              "15344       -0.074178            -0.273349           0.600257   \n",
              "15345       -0.074178            -0.273349          -1.665953   \n",
              "15346        0.341422            -0.273349           0.600257   \n",
              "\n",
              "       workclass_Self-emp-inc  workclass_Self-emp-not-inc  ...  \\\n",
              "0                   -0.194785                   -0.307272  ...   \n",
              "1                   -0.194785                   -0.307272  ...   \n",
              "2                   -0.194785                   -0.307272  ...   \n",
              "3                   -0.194785                   -0.307272  ...   \n",
              "4                   -0.194785                   -0.307272  ...   \n",
              "...                       ...                         ...  ...   \n",
              "15342               -0.194785                   -0.307272  ...   \n",
              "15343               -0.194785                   -0.307272  ...   \n",
              "15344               -0.194785                   -0.307272  ...   \n",
              "15345               -0.194785                   -0.307272  ...   \n",
              "15346               -0.194785                   -0.307272  ...   \n",
              "\n",
              "       relationship_Not-in-family  relationship_Other-relative  \\\n",
              "0                        1.711163                    -0.175191   \n",
              "1                        1.711163                    -0.175191   \n",
              "2                       -0.584398                    -0.175191   \n",
              "3                       -0.584398                    -0.175191   \n",
              "4                       -0.584398                    -0.175191   \n",
              "...                           ...                          ...   \n",
              "15342                   -0.584398                    -0.175191   \n",
              "15343                   -0.584398                    -0.175191   \n",
              "15344                    1.711163                    -0.175191   \n",
              "15345                   -0.584398                    -0.175191   \n",
              "15346                   -0.584398                    -0.175191   \n",
              "\n",
              "       relationship_Own-child  relationship_Unmarried  relationship_Wife  \\\n",
              "0                   -0.416530               -0.338654          -0.227941   \n",
              "1                   -0.416530               -0.338654          -0.227941   \n",
              "2                    2.400786               -0.338654          -0.227941   \n",
              "3                    2.400786               -0.338654          -0.227941   \n",
              "4                   -0.416530               -0.338654          -0.227941   \n",
              "...                       ...                     ...                ...   \n",
              "15342                2.400786               -0.338654          -0.227941   \n",
              "15343               -0.416530               -0.338654          -0.227941   \n",
              "15344               -0.416530               -0.338654          -0.227941   \n",
              "15345               -0.416530               -0.338654          -0.227941   \n",
              "15346               -0.416530               -0.338654          -0.227941   \n",
              "\n",
              "       race_Asian-Pac-Islander  race_Black  race_Other  race_White  sex_Male  \n",
              "0                    -0.182943    3.101735    -0.08727   -2.443271  0.686401  \n",
              "1                    -0.182943   -0.322400    -0.08727    0.409287  0.686401  \n",
              "2                    -0.182943   -0.322400    -0.08727    0.409287  0.686401  \n",
              "3                    -0.182943   -0.322400    -0.08727    0.409287 -1.456874  \n",
              "4                    -0.182943   -0.322400    -0.08727    0.409287  0.686401  \n",
              "...                        ...         ...         ...         ...       ...  \n",
              "15342                -0.182943    3.101735    -0.08727   -2.443271 -1.456874  \n",
              "15343                -0.182943   -0.322400    -0.08727    0.409287  0.686401  \n",
              "15344                 5.466194   -0.322400    -0.08727   -2.443271  0.686401  \n",
              "15345                -0.182943   -0.322400    -0.08727    0.409287  0.686401  \n",
              "15346                -0.182943   -0.322400    -0.08727    0.409287  0.686401  \n",
              "\n",
              "[15347 rows x 56 columns]"
            ],
            "text/html": [
              "\n",
              "  <div id=\"df-7d28a6f7-2c0c-4b3b-91d5-69b900a2545a\">\n",
              "    <div class=\"colab-df-container\">\n",
              "      <div>\n",
              "<style scoped>\n",
              "    .dataframe tbody tr th:only-of-type {\n",
              "        vertical-align: middle;\n",
              "    }\n",
              "\n",
              "    .dataframe tbody tr th {\n",
              "        vertical-align: top;\n",
              "    }\n",
              "\n",
              "    .dataframe thead th {\n",
              "        text-align: right;\n",
              "    }\n",
              "</style>\n",
              "<table border=\"1\" class=\"dataframe\">\n",
              "  <thead>\n",
              "    <tr style=\"text-align: right;\">\n",
              "      <th></th>\n",
              "      <th>age</th>\n",
              "      <th>fnlwgt</th>\n",
              "      <th>education-num</th>\n",
              "      <th>capital-gain</th>\n",
              "      <th>capital-loss</th>\n",
              "      <th>hours-per-week</th>\n",
              "      <th>workclass_Local-gov</th>\n",
              "      <th>workclass_Private</th>\n",
              "      <th>workclass_Self-emp-inc</th>\n",
              "      <th>workclass_Self-emp-not-inc</th>\n",
              "      <th>...</th>\n",
              "      <th>relationship_Not-in-family</th>\n",
              "      <th>relationship_Other-relative</th>\n",
              "      <th>relationship_Own-child</th>\n",
              "      <th>relationship_Unmarried</th>\n",
              "      <th>relationship_Wife</th>\n",
              "      <th>race_Asian-Pac-Islander</th>\n",
              "      <th>race_Black</th>\n",
              "      <th>race_Other</th>\n",
              "      <th>race_White</th>\n",
              "      <th>sex_Male</th>\n",
              "    </tr>\n",
              "  </thead>\n",
              "  <tbody>\n",
              "    <tr>\n",
              "      <th>0</th>\n",
              "      <td>-0.342919</td>\n",
              "      <td>0.900258</td>\n",
              "      <td>-0.450788</td>\n",
              "      <td>-0.065600</td>\n",
              "      <td>-0.218740</td>\n",
              "      <td>1.588223</td>\n",
              "      <td>3.658322</td>\n",
              "      <td>-1.665953</td>\n",
              "      <td>-0.194785</td>\n",
              "      <td>-0.307272</td>\n",
              "      <td>...</td>\n",
              "      <td>1.711163</td>\n",
              "      <td>-0.175191</td>\n",
              "      <td>-0.416530</td>\n",
              "      <td>-0.338654</td>\n",
              "      <td>-0.227941</td>\n",
              "      <td>-0.182943</td>\n",
              "      <td>3.101735</td>\n",
              "      <td>-0.08727</td>\n",
              "      <td>-2.443271</td>\n",
              "      <td>0.686401</td>\n",
              "    </tr>\n",
              "    <tr>\n",
              "      <th>1</th>\n",
              "      <td>0.114760</td>\n",
              "      <td>0.010683</td>\n",
              "      <td>-0.059086</td>\n",
              "      <td>-0.150439</td>\n",
              "      <td>-0.218740</td>\n",
              "      <td>-0.074178</td>\n",
              "      <td>-0.273349</td>\n",
              "      <td>0.600257</td>\n",
              "      <td>-0.194785</td>\n",
              "      <td>-0.307272</td>\n",
              "      <td>...</td>\n",
              "      <td>1.711163</td>\n",
              "      <td>-0.175191</td>\n",
              "      <td>-0.416530</td>\n",
              "      <td>-0.338654</td>\n",
              "      <td>-0.227941</td>\n",
              "      <td>-0.182943</td>\n",
              "      <td>-0.322400</td>\n",
              "      <td>-0.08727</td>\n",
              "      <td>0.409287</td>\n",
              "      <td>0.686401</td>\n",
              "    </tr>\n",
              "    <tr>\n",
              "      <th>2</th>\n",
              "      <td>-0.190359</td>\n",
              "      <td>-0.106280</td>\n",
              "      <td>1.116020</td>\n",
              "      <td>-0.150439</td>\n",
              "      <td>-0.218740</td>\n",
              "      <td>-0.074178</td>\n",
              "      <td>3.658322</td>\n",
              "      <td>-1.665953</td>\n",
              "      <td>-0.194785</td>\n",
              "      <td>-0.307272</td>\n",
              "      <td>...</td>\n",
              "      <td>-0.584398</td>\n",
              "      <td>-0.175191</td>\n",
              "      <td>2.400786</td>\n",
              "      <td>-0.338654</td>\n",
              "      <td>-0.227941</td>\n",
              "      <td>-0.182943</td>\n",
              "      <td>-0.322400</td>\n",
              "      <td>-0.08727</td>\n",
              "      <td>0.409287</td>\n",
              "      <td>0.686401</td>\n",
              "    </tr>\n",
              "    <tr>\n",
              "      <th>3</th>\n",
              "      <td>-1.258276</td>\n",
              "      <td>-0.041382</td>\n",
              "      <td>-0.059086</td>\n",
              "      <td>-0.150439</td>\n",
              "      <td>-0.218740</td>\n",
              "      <td>-0.905379</td>\n",
              "      <td>-0.273349</td>\n",
              "      <td>0.600257</td>\n",
              "      <td>-0.194785</td>\n",
              "      <td>-0.307272</td>\n",
              "      <td>...</td>\n",
              "      <td>-0.584398</td>\n",
              "      <td>-0.175191</td>\n",
              "      <td>2.400786</td>\n",
              "      <td>-0.338654</td>\n",
              "      <td>-0.227941</td>\n",
              "      <td>-0.182943</td>\n",
              "      <td>-0.322400</td>\n",
              "      <td>-0.08727</td>\n",
              "      <td>0.409287</td>\n",
              "      <td>-1.456874</td>\n",
              "    </tr>\n",
              "    <tr>\n",
              "      <th>4</th>\n",
              "      <td>0.648719</td>\n",
              "      <td>-0.371197</td>\n",
              "      <td>1.116020</td>\n",
              "      <td>1.995391</td>\n",
              "      <td>-0.218740</td>\n",
              "      <td>-0.074178</td>\n",
              "      <td>-0.273349</td>\n",
              "      <td>0.600257</td>\n",
              "      <td>-0.194785</td>\n",
              "      <td>-0.307272</td>\n",
              "      <td>...</td>\n",
              "      <td>-0.584398</td>\n",
              "      <td>-0.175191</td>\n",
              "      <td>-0.416530</td>\n",
              "      <td>-0.338654</td>\n",
              "      <td>-0.227941</td>\n",
              "      <td>-0.182943</td>\n",
              "      <td>-0.322400</td>\n",
              "      <td>-0.08727</td>\n",
              "      <td>0.409287</td>\n",
              "      <td>0.686401</td>\n",
              "    </tr>\n",
              "    <tr>\n",
              "      <th>...</th>\n",
              "      <td>...</td>\n",
              "      <td>...</td>\n",
              "      <td>...</td>\n",
              "      <td>...</td>\n",
              "      <td>...</td>\n",
              "      <td>...</td>\n",
              "      <td>...</td>\n",
              "      <td>...</td>\n",
              "      <td>...</td>\n",
              "      <td>...</td>\n",
              "      <td>...</td>\n",
              "      <td>...</td>\n",
              "      <td>...</td>\n",
              "      <td>...</td>\n",
              "      <td>...</td>\n",
              "      <td>...</td>\n",
              "      <td>...</td>\n",
              "      <td>...</td>\n",
              "      <td>...</td>\n",
              "      <td>...</td>\n",
              "      <td>...</td>\n",
              "    </tr>\n",
              "    <tr>\n",
              "      <th>15342</th>\n",
              "      <td>-1.029436</td>\n",
              "      <td>3.062953</td>\n",
              "      <td>1.116020</td>\n",
              "      <td>-0.150439</td>\n",
              "      <td>-0.218740</td>\n",
              "      <td>-0.074178</td>\n",
              "      <td>3.658322</td>\n",
              "      <td>-1.665953</td>\n",
              "      <td>-0.194785</td>\n",
              "      <td>-0.307272</td>\n",
              "      <td>...</td>\n",
              "      <td>-0.584398</td>\n",
              "      <td>-0.175191</td>\n",
              "      <td>2.400786</td>\n",
              "      <td>-0.338654</td>\n",
              "      <td>-0.227941</td>\n",
              "      <td>-0.182943</td>\n",
              "      <td>3.101735</td>\n",
              "      <td>-0.08727</td>\n",
              "      <td>-2.443271</td>\n",
              "      <td>-1.456874</td>\n",
              "    </tr>\n",
              "    <tr>\n",
              "      <th>15343</th>\n",
              "      <td>-0.495478</td>\n",
              "      <td>0.174179</td>\n",
              "      <td>1.116020</td>\n",
              "      <td>1.995391</td>\n",
              "      <td>-0.218740</td>\n",
              "      <td>0.341422</td>\n",
              "      <td>-0.273349</td>\n",
              "      <td>0.600257</td>\n",
              "      <td>-0.194785</td>\n",
              "      <td>-0.307272</td>\n",
              "      <td>...</td>\n",
              "      <td>-0.584398</td>\n",
              "      <td>-0.175191</td>\n",
              "      <td>-0.416530</td>\n",
              "      <td>-0.338654</td>\n",
              "      <td>-0.227941</td>\n",
              "      <td>-0.182943</td>\n",
              "      <td>-0.322400</td>\n",
              "      <td>-0.08727</td>\n",
              "      <td>0.409287</td>\n",
              "      <td>0.686401</td>\n",
              "    </tr>\n",
              "    <tr>\n",
              "      <th>15344</th>\n",
              "      <td>-0.876877</td>\n",
              "      <td>-0.796853</td>\n",
              "      <td>1.116020</td>\n",
              "      <td>-0.150439</td>\n",
              "      <td>-0.218740</td>\n",
              "      <td>-0.074178</td>\n",
              "      <td>-0.273349</td>\n",
              "      <td>0.600257</td>\n",
              "      <td>-0.194785</td>\n",
              "      <td>-0.307272</td>\n",
              "      <td>...</td>\n",
              "      <td>1.711163</td>\n",
              "      <td>-0.175191</td>\n",
              "      <td>-0.416530</td>\n",
              "      <td>-0.338654</td>\n",
              "      <td>-0.227941</td>\n",
              "      <td>5.466194</td>\n",
              "      <td>-0.322400</td>\n",
              "      <td>-0.08727</td>\n",
              "      <td>-2.443271</td>\n",
              "      <td>0.686401</td>\n",
              "    </tr>\n",
              "    <tr>\n",
              "      <th>15345</th>\n",
              "      <td>1.564076</td>\n",
              "      <td>0.748381</td>\n",
              "      <td>-0.450788</td>\n",
              "      <td>-0.150439</td>\n",
              "      <td>-0.218740</td>\n",
              "      <td>-0.074178</td>\n",
              "      <td>-0.273349</td>\n",
              "      <td>-1.665953</td>\n",
              "      <td>-0.194785</td>\n",
              "      <td>-0.307272</td>\n",
              "      <td>...</td>\n",
              "      <td>-0.584398</td>\n",
              "      <td>-0.175191</td>\n",
              "      <td>-0.416530</td>\n",
              "      <td>-0.338654</td>\n",
              "      <td>-0.227941</td>\n",
              "      <td>-0.182943</td>\n",
              "      <td>-0.322400</td>\n",
              "      <td>-0.08727</td>\n",
              "      <td>0.409287</td>\n",
              "      <td>0.686401</td>\n",
              "    </tr>\n",
              "    <tr>\n",
              "      <th>15346</th>\n",
              "      <td>-0.419198</td>\n",
              "      <td>-1.223741</td>\n",
              "      <td>1.116020</td>\n",
              "      <td>-0.150439</td>\n",
              "      <td>4.473444</td>\n",
              "      <td>0.341422</td>\n",
              "      <td>-0.273349</td>\n",
              "      <td>0.600257</td>\n",
              "      <td>-0.194785</td>\n",
              "      <td>-0.307272</td>\n",
              "      <td>...</td>\n",
              "      <td>-0.584398</td>\n",
              "      <td>-0.175191</td>\n",
              "      <td>-0.416530</td>\n",
              "      <td>-0.338654</td>\n",
              "      <td>-0.227941</td>\n",
              "      <td>-0.182943</td>\n",
              "      <td>-0.322400</td>\n",
              "      <td>-0.08727</td>\n",
              "      <td>0.409287</td>\n",
              "      <td>0.686401</td>\n",
              "    </tr>\n",
              "  </tbody>\n",
              "</table>\n",
              "<p>15347 rows × 56 columns</p>\n",
              "</div>\n",
              "      <button class=\"colab-df-convert\" onclick=\"convertToInteractive('df-7d28a6f7-2c0c-4b3b-91d5-69b900a2545a')\"\n",
              "              title=\"Convert this dataframe to an interactive table.\"\n",
              "              style=\"display:none;\">\n",
              "        \n",
              "  <svg xmlns=\"http://www.w3.org/2000/svg\" height=\"24px\"viewBox=\"0 0 24 24\"\n",
              "       width=\"24px\">\n",
              "    <path d=\"M0 0h24v24H0V0z\" fill=\"none\"/>\n",
              "    <path d=\"M18.56 5.44l.94 2.06.94-2.06 2.06-.94-2.06-.94-.94-2.06-.94 2.06-2.06.94zm-11 1L8.5 8.5l.94-2.06 2.06-.94-2.06-.94L8.5 2.5l-.94 2.06-2.06.94zm10 10l.94 2.06.94-2.06 2.06-.94-2.06-.94-.94-2.06-.94 2.06-2.06.94z\"/><path d=\"M17.41 7.96l-1.37-1.37c-.4-.4-.92-.59-1.43-.59-.52 0-1.04.2-1.43.59L10.3 9.45l-7.72 7.72c-.78.78-.78 2.05 0 2.83L4 21.41c.39.39.9.59 1.41.59.51 0 1.02-.2 1.41-.59l7.78-7.78 2.81-2.81c.8-.78.8-2.07 0-2.86zM5.41 20L4 18.59l7.72-7.72 1.47 1.35L5.41 20z\"/>\n",
              "  </svg>\n",
              "      </button>\n",
              "      \n",
              "  <style>\n",
              "    .colab-df-container {\n",
              "      display:flex;\n",
              "      flex-wrap:wrap;\n",
              "      gap: 12px;\n",
              "    }\n",
              "\n",
              "    .colab-df-convert {\n",
              "      background-color: #E8F0FE;\n",
              "      border: none;\n",
              "      border-radius: 50%;\n",
              "      cursor: pointer;\n",
              "      display: none;\n",
              "      fill: #1967D2;\n",
              "      height: 32px;\n",
              "      padding: 0 0 0 0;\n",
              "      width: 32px;\n",
              "    }\n",
              "\n",
              "    .colab-df-convert:hover {\n",
              "      background-color: #E2EBFA;\n",
              "      box-shadow: 0px 1px 2px rgba(60, 64, 67, 0.3), 0px 1px 3px 1px rgba(60, 64, 67, 0.15);\n",
              "      fill: #174EA6;\n",
              "    }\n",
              "\n",
              "    [theme=dark] .colab-df-convert {\n",
              "      background-color: #3B4455;\n",
              "      fill: #D2E3FC;\n",
              "    }\n",
              "\n",
              "    [theme=dark] .colab-df-convert:hover {\n",
              "      background-color: #434B5C;\n",
              "      box-shadow: 0px 1px 3px 1px rgba(0, 0, 0, 0.15);\n",
              "      filter: drop-shadow(0px 1px 2px rgba(0, 0, 0, 0.3));\n",
              "      fill: #FFFFFF;\n",
              "    }\n",
              "  </style>\n",
              "\n",
              "      <script>\n",
              "        const buttonEl =\n",
              "          document.querySelector('#df-7d28a6f7-2c0c-4b3b-91d5-69b900a2545a button.colab-df-convert');\n",
              "        buttonEl.style.display =\n",
              "          google.colab.kernel.accessAllowed ? 'block' : 'none';\n",
              "\n",
              "        async function convertToInteractive(key) {\n",
              "          const element = document.querySelector('#df-7d28a6f7-2c0c-4b3b-91d5-69b900a2545a');\n",
              "          const dataTable =\n",
              "            await google.colab.kernel.invokeFunction('convertToInteractive',\n",
              "                                                     [key], {});\n",
              "          if (!dataTable) return;\n",
              "\n",
              "          const docLinkHtml = 'Like what you see? Visit the ' +\n",
              "            '<a target=\"_blank\" href=https://colab.research.google.com/notebooks/data_table.ipynb>data table notebook</a>'\n",
              "            + ' to learn more about interactive tables.';\n",
              "          element.innerHTML = '';\n",
              "          dataTable['output_type'] = 'display_data';\n",
              "          await google.colab.output.renderOutput(dataTable, element);\n",
              "          const docLink = document.createElement('div');\n",
              "          docLink.innerHTML = docLinkHtml;\n",
              "          element.appendChild(docLink);\n",
              "        }\n",
              "      </script>\n",
              "    </div>\n",
              "  </div>\n",
              "  "
            ]
          },
          "metadata": {},
          "execution_count": 73
        }
      ]
    },
    {
      "cell_type": "markdown",
      "metadata": {
        "id": "svY78nPytaRD"
      },
      "source": [
        "Так как после кодирования признаков получилось достаточно много, в этой работе мы не будем добавлять их и подбирать заново оптимальные гиперпараметры. \n",
        "\n",
        "Обучите алгоритмы с наилучшими гиперпараметрами из предыдущего пункта. Дало ли добавление новых признаков прирост качества? Измеряйте качество как и раньше используя 3-Fold CV в функции `cross_val_score`."
      ]
    },
    {
      "cell_type": "code",
      "execution_count": null,
      "metadata": {
        "collapsed": true,
        "id": "8l2SvJXotaRE",
        "outputId": "8a299168-905d-4256-d3b7-e0a46edacedc",
        "colab": {
          "base_uri": "https://localhost:8080/"
        }
      },
      "outputs": [
        {
          "output_type": "stream",
          "name": "stderr",
          "text": [
            "[Parallel(n_jobs=1)]: Using backend SequentialBackend with 1 concurrent workers.\n",
            "[Parallel(n_jobs=1)]: Done   1 out of   1 | elapsed:    0.1s remaining:    0.0s\n"
          ]
        },
        {
          "output_type": "stream",
          "name": "stdout",
          "text": [
            "[CV] END .................................................... total time=   0.1s\n",
            "[CV] END .................................................... total time=   0.1s\n",
            "[CV] END .................................................... total time=   0.1s\n"
          ]
        },
        {
          "output_type": "stream",
          "name": "stderr",
          "text": [
            "[Parallel(n_jobs=1)]: Done   3 out of   3 | elapsed:    0.3s finished\n"
          ]
        },
        {
          "output_type": "execute_result",
          "data": {
            "text/plain": [
              "0.9027489658933026"
            ]
          },
          "metadata": {},
          "execution_count": 74
        }
      ],
      "source": [
        "cross_val_score(LogisticRegression(C=0.26), X_new, y, cv=3, scoring='roc_auc', verbose=2).mean()"
      ]
    },
    {
      "cell_type": "code",
      "source": [
        "cross_val_score(SVC(kernel='linear', C=0.01), X_new, y, cv=3, scoring='roc_auc', verbose=2).mean()"
      ],
      "metadata": {
        "id": "Swt0CjWpHX9i",
        "outputId": "d3717de5-4135-414a-f472-f0403c96a1ff",
        "colab": {
          "base_uri": "https://localhost:8080/"
        }
      },
      "execution_count": null,
      "outputs": [
        {
          "output_type": "stream",
          "name": "stderr",
          "text": [
            "[Parallel(n_jobs=1)]: Using backend SequentialBackend with 1 concurrent workers.\n"
          ]
        },
        {
          "output_type": "stream",
          "name": "stdout",
          "text": [
            "[CV] END .................................................... total time=   3.9s\n"
          ]
        },
        {
          "output_type": "stream",
          "name": "stderr",
          "text": [
            "[Parallel(n_jobs=1)]: Done   1 out of   1 | elapsed:    3.9s remaining:    0.0s\n"
          ]
        },
        {
          "output_type": "stream",
          "name": "stdout",
          "text": [
            "[CV] END .................................................... total time=   3.6s\n",
            "[CV] END .................................................... total time=   3.7s\n"
          ]
        },
        {
          "output_type": "stream",
          "name": "stderr",
          "text": [
            "[Parallel(n_jobs=1)]: Done   3 out of   3 | elapsed:   11.3s finished\n"
          ]
        },
        {
          "output_type": "execute_result",
          "data": {
            "text/plain": [
              "0.8981838913603667"
            ]
          },
          "metadata": {},
          "execution_count": 96
        }
      ]
    },
    {
      "cell_type": "markdown",
      "metadata": {
        "id": "ZpGHTswwtaRE"
      },
      "source": [
        "Отличается ли теперь наилучший классификатор от наилучшего в предыдущем пункте?"
      ]
    },
    {
      "cell_type": "markdown",
      "source": [
        "Не отличается"
      ],
      "metadata": {
        "id": "aUev6TOPzAw2"
      }
    },
    {
      "cell_type": "markdown",
      "source": [
        "### Задание"
      ],
      "metadata": {
        "id": "6NKTAZHoCwKW"
      }
    },
    {
      "cell_type": "markdown",
      "source": [
        "*  Разбейте данные на тренировочную и тестовую часть (либо данные только с числовыми признаками, либо данные после OneHot-кодировки - в зависимости от того, на каких данных модели лучше отработали). \n",
        "\n",
        "**Вопрос:**  \n",
        "стали ли модели лучше решать задачу при добавлении закодированных категориальных признаков?\n",
        "\n",
        "*test_size = 0.25, random_state = 42*\n",
        "\n",
        "* Cреди всех обученных в работе моделей возьмите наилучшую (по roc-auc).\n",
        "Заново обучите эту модель на тренировочных данных, сделайте предсказание на тесте.\n",
        "\n",
        "* Постройте roc-кривую и отметьте на ней значение roc-auc - по тестовым данным."
      ],
      "metadata": {
        "id": "i17m0fSgKrQD"
      }
    },
    {
      "cell_type": "code",
      "execution_count": null,
      "metadata": {
        "collapsed": true,
        "id": "Dda7kAMZtaRF"
      },
      "outputs": [],
      "source": [
        "from sklearn.model_selection import train_test_split\n",
        "\n",
        "Xtrain, Xtest, ytrain, ytest = train_test_split(X_new, y, test_size=0.25, random_state=42)"
      ]
    },
    {
      "cell_type": "code",
      "source": [
        "from sklearn.metrics import roc_curve, auc\n",
        "\n",
        "best_model = LogisticRegression(C=0.26).fit(Xtrain, ytrain)"
      ],
      "metadata": {
        "id": "LlDJSKAVDxY_"
      },
      "execution_count": null,
      "outputs": []
    },
    {
      "cell_type": "code",
      "source": [
        "best_pred = best_model.predict(Xtest)"
      ],
      "metadata": {
        "id": "DfwXW9WVtpQy"
      },
      "execution_count": null,
      "outputs": []
    },
    {
      "cell_type": "code",
      "source": [
        "fpr, tpr, thresh = roc_curve(ytest, best_pred)"
      ],
      "metadata": {
        "id": "mDioLwnKv0_m"
      },
      "execution_count": null,
      "outputs": []
    },
    {
      "cell_type": "code",
      "source": [
        "fpr, tpr"
      ],
      "metadata": {
        "id": "FOSh1qF5wuVp",
        "outputId": "c47fd9a5-9f20-4b52-8c56-853afbc15869",
        "colab": {
          "base_uri": "https://localhost:8080/"
        }
      },
      "execution_count": null,
      "outputs": [
        {
          "output_type": "execute_result",
          "data": {
            "text/plain": [
              "(array([0.        , 0.07175359, 1.        ]),\n",
              " array([0.        , 0.60510204, 1.        ]))"
            ]
          },
          "metadata": {},
          "execution_count": 91
        }
      ]
    },
    {
      "cell_type": "code",
      "source": [
        "roc_auc = auc(fpr, tpr)"
      ],
      "metadata": {
        "id": "0YyMzvJRwEC5"
      },
      "execution_count": null,
      "outputs": []
    },
    {
      "cell_type": "code",
      "source": [
        "roc_auc"
      ],
      "metadata": {
        "id": "5XKppcPjwPNo",
        "outputId": "400d6942-d132-42e9-eb80-d6e8ffd0f44b",
        "colab": {
          "base_uri": "https://localhost:8080/"
        }
      },
      "execution_count": null,
      "outputs": [
        {
          "output_type": "execute_result",
          "data": {
            "text/plain": [
              "0.7666742265684712"
            ]
          },
          "metadata": {},
          "execution_count": 88
        }
      ]
    },
    {
      "cell_type": "code",
      "source": [
        "plt.title('Receiver Operating Characteristic')\n",
        "plt.plot(fpr, tpr, 'b', label = 'AUC = %0.2f' % roc_auc)\n",
        "plt.legend(loc = 'lower right')\n",
        "plt.plot([0, 1], [0, 1],'r--')\n",
        "plt.xlim([0, 1])\n",
        "plt.ylim([0, 1])\n",
        "plt.ylabel('True Positive Rate')\n",
        "plt.xlabel('False Positive Rate')\n",
        "plt.show();"
      ],
      "metadata": {
        "id": "HIvR2GSCwSBp",
        "outputId": "1cce7e30-0b8a-4fe3-b254-67a322d119fe",
        "colab": {
          "base_uri": "https://localhost:8080/",
          "height": 295
        }
      },
      "execution_count": null,
      "outputs": [
        {
          "output_type": "display_data",
          "data": {
            "text/plain": [
              "<Figure size 432x288 with 1 Axes>"
            ],
            "image/png": "[encoded data removed]"
          },
          "metadata": {
            "needs_background": "light"
          }
        }
      ]
    },
    {
      "cell_type": "markdown",
      "source": [
        "### Задание"
      ],
      "metadata": {
        "id": "DNk8pYi1HqKk"
      }
    },
    {
      "cell_type": "code",
      "source": [
        "roc_auc_score(ytest, best_pred)"
      ],
      "metadata": {
        "id": "e67iMoIkt0aT",
        "outputId": "a3ca6e43-475b-4f12-c3f8-4e1f928863b2",
        "colab": {
          "base_uri": "https://localhost:8080/"
        }
      },
      "execution_count": null,
      "outputs": [
        {
          "output_type": "execute_result",
          "data": {
            "text/plain": [
              "0.7666742265684713"
            ]
          },
          "metadata": {},
          "execution_count": 81
        }
      ]
    },
    {
      "cell_type": "markdown",
      "source": [
        "Чему равен `roc-auc` наилучшей модели на тестовых данных?"
      ],
      "metadata": {
        "id": "iNwCd0ObKuyt"
      }
    },
    {
      "cell_type": "code",
      "source": [
        "model2 = SVC(kernel='linear', C=0.01).fit(Xtrain, ytrain)"
      ],
      "metadata": {
        "id": "9vxSPbgAzUxd"
      },
      "execution_count": null,
      "outputs": []
    },
    {
      "cell_type": "code",
      "source": [
        "ypred = model2.predict(Xtest)"
      ],
      "metadata": {
        "id": "Pjyh_YNuzmrq"
      },
      "execution_count": null,
      "outputs": []
    },
    {
      "cell_type": "code",
      "source": [
        "roc_auc_score(ytest, ypred)"
      ],
      "metadata": {
        "id": "DJU_qvAHzu7H",
        "outputId": "9045c210-cf0d-4bc6-b28a-ccbf25e9b10b",
        "colab": {
          "base_uri": "https://localhost:8080/"
        }
      },
      "execution_count": null,
      "outputs": [
        {
          "output_type": "execute_result",
          "data": {
            "text/plain": [
              "0.754533083797047"
            ]
          },
          "metadata": {},
          "execution_count": 99
        }
      ]
    }
  ],
  "metadata": {
    "kernelspec": {
      "display_name": "Python 3",
      "language": "python",
      "name": "python3"
    },
    "language_info": {
      "codemirror_mode": {
        "name": "ipython",
        "version": 3
      },
      "file_extension": ".py",
      "mimetype": "text/x-python",
      "name": "python",
      "nbconvert_exporter": "python",
      "pygments_lexer": "ipython3",
      "version": "3.7.6"
    },
    "colab": {
      "provenance": []
    }
  },
  "nbformat": 4,
  "nbformat_minor": 0
}