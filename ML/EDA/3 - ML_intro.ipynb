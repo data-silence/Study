{
  "nbformat": 4,
  "nbformat_minor": 0,
  "metadata": {
    "colab": {
      "provenance": []
    },
    "kernelspec": {
      "name": "python3",
      "display_name": "Python 3"
    },
    "language_info": {
      "name": "python"
    },
    "widgets": {
      "application/vnd.jupyter.widget-state+json": {
        "1b2d2307e6774cc0af8e3b0ab20caf15": {
          "model_module": "@jupyter-widgets/controls",
          "model_name": "HBoxModel",
          "model_module_version": "1.5.0",
          "state": {
            "_dom_classes": [],
            "_model_module": "@jupyter-widgets/controls",
            "_model_module_version": "1.5.0",
            "_model_name": "HBoxModel",
            "_view_count": null,
            "_view_module": "@jupyter-widgets/controls",
            "_view_module_version": "1.5.0",
            "_view_name": "HBoxView",
            "box_style": "",
            "children": [
              "IPY_MODEL_1cb3fbcf05274a6bb4b209127eb36e46",
              "IPY_MODEL_05bacb5d7e2f4fec9ea65803edcc1937",
              "IPY_MODEL_ed24709f7ac346b4904cf9277744ecea"
            ],
            "layout": "IPY_MODEL_cabaaa6a25824109be43b5acbf46dc04"
          }
        },
        "1cb3fbcf05274a6bb4b209127eb36e46": {
          "model_module": "@jupyter-widgets/controls",
          "model_name": "HTMLModel",
          "model_module_version": "1.5.0",
          "state": {
            "_dom_classes": [],
            "_model_module": "@jupyter-widgets/controls",
            "_model_module_version": "1.5.0",
            "_model_name": "HTMLModel",
            "_view_count": null,
            "_view_module": "@jupyter-widgets/controls",
            "_view_module_version": "1.5.0",
            "_view_name": "HTMLView",
            "description": "",
            "description_tooltip": null,
            "layout": "IPY_MODEL_7912626f7d38426a8503ba68464f1071",
            "placeholder": "​",
            "style": "IPY_MODEL_5361cb69fc8744faac2229bfb18a73fe",
            "value": "100%"
          }
        },
        "05bacb5d7e2f4fec9ea65803edcc1937": {
          "model_module": "@jupyter-widgets/controls",
          "model_name": "FloatProgressModel",
          "model_module_version": "1.5.0",
          "state": {
            "_dom_classes": [],
            "_model_module": "@jupyter-widgets/controls",
            "_model_module_version": "1.5.0",
            "_model_name": "FloatProgressModel",
            "_view_count": null,
            "_view_module": "@jupyter-widgets/controls",
            "_view_module_version": "1.5.0",
            "_view_name": "ProgressView",
            "bar_style": "success",
            "description": "",
            "description_tooltip": null,
            "layout": "IPY_MODEL_86469c79298e4e0e844bfb4336a266fe",
            "max": 1000,
            "min": 0,
            "orientation": "horizontal",
            "style": "IPY_MODEL_e5276b023406430b96262a2f9b984eea",
            "value": 1000
          }
        },
        "ed24709f7ac346b4904cf9277744ecea": {
          "model_module": "@jupyter-widgets/controls",
          "model_name": "HTMLModel",
          "model_module_version": "1.5.0",
          "state": {
            "_dom_classes": [],
            "_model_module": "@jupyter-widgets/controls",
            "_model_module_version": "1.5.0",
            "_model_name": "HTMLModel",
            "_view_count": null,
            "_view_module": "@jupyter-widgets/controls",
            "_view_module_version": "1.5.0",
            "_view_name": "HTMLView",
            "description": "",
            "description_tooltip": null,
            "layout": "IPY_MODEL_d53fe2cae5004159939f42bc8323a819",
            "placeholder": "​",
            "style": "IPY_MODEL_0c001fdb766f4cf5ab849460e60bce98",
            "value": " 1000/1000 [04:40&lt;00:00,  4.10it/s]"
          }
        },
        "cabaaa6a25824109be43b5acbf46dc04": {
          "model_module": "@jupyter-widgets/base",
          "model_name": "LayoutModel",
          "model_module_version": "1.2.0",
          "state": {
            "_model_module": "@jupyter-widgets/base",
            "_model_module_version": "1.2.0",
            "_model_name": "LayoutModel",
            "_view_count": null,
            "_view_module": "@jupyter-widgets/base",
            "_view_module_version": "1.2.0",
            "_view_name": "LayoutView",
            "align_content": null,
            "align_items": null,
            "align_self": null,
            "border": null,
            "bottom": null,
            "display": null,
            "flex": null,
            "flex_flow": null,
            "grid_area": null,
            "grid_auto_columns": null,
            "grid_auto_flow": null,
            "grid_auto_rows": null,
            "grid_column": null,
            "grid_gap": null,
            "grid_row": null,
            "grid_template_areas": null,
            "grid_template_columns": null,
            "grid_template_rows": null,
            "height": null,
            "justify_content": null,
            "justify_items": null,
            "left": null,
            "margin": null,
            "max_height": null,
            "max_width": null,
            "min_height": null,
            "min_width": null,
            "object_fit": null,
            "object_position": null,
            "order": null,
            "overflow": null,
            "overflow_x": null,
            "overflow_y": null,
            "padding": null,
            "right": null,
            "top": null,
            "visibility": null,
            "width": null
          }
        },
        "7912626f7d38426a8503ba68464f1071": {
          "model_module": "@jupyter-widgets/base",
          "model_name": "LayoutModel",
          "model_module_version": "1.2.0",
          "state": {
            "_model_module": "@jupyter-widgets/base",
            "_model_module_version": "1.2.0",
            "_model_name": "LayoutModel",
            "_view_count": null,
            "_view_module": "@jupyter-widgets/base",
            "_view_module_version": "1.2.0",
            "_view_name": "LayoutView",
            "align_content": null,
            "align_items": null,
            "align_self": null,
            "border": null,
            "bottom": null,
            "display": null,
            "flex": null,
            "flex_flow": null,
            "grid_area": null,
            "grid_auto_columns": null,
            "grid_auto_flow": null,
            "grid_auto_rows": null,
            "grid_column": null,
            "grid_gap": null,
            "grid_row": null,
            "grid_template_areas": null,
            "grid_template_columns": null,
            "grid_template_rows": null,
            "height": null,
            "justify_content": null,
            "justify_items": null,
            "left": null,
            "margin": null,
            "max_height": null,
            "max_width": null,
            "min_height": null,
            "min_width": null,
            "object_fit": null,
            "object_position": null,
            "order": null,
            "overflow": null,
            "overflow_x": null,
            "overflow_y": null,
            "padding": null,
            "right": null,
            "top": null,
            "visibility": null,
            "width": null
          }
        },
        "5361cb69fc8744faac2229bfb18a73fe": {
          "model_module": "@jupyter-widgets/controls",
          "model_name": "DescriptionStyleModel",
          "model_module_version": "1.5.0",
          "state": {
            "_model_module": "@jupyter-widgets/controls",
            "_model_module_version": "1.5.0",
            "_model_name": "DescriptionStyleModel",
            "_view_count": null,
            "_view_module": "@jupyter-widgets/base",
            "_view_module_version": "1.2.0",
            "_view_name": "StyleView",
            "description_width": ""
          }
        },
        "86469c79298e4e0e844bfb4336a266fe": {
          "model_module": "@jupyter-widgets/base",
          "model_name": "LayoutModel",
          "model_module_version": "1.2.0",
          "state": {
            "_model_module": "@jupyter-widgets/base",
            "_model_module_version": "1.2.0",
            "_model_name": "LayoutModel",
            "_view_count": null,
            "_view_module": "@jupyter-widgets/base",
            "_view_module_version": "1.2.0",
            "_view_name": "LayoutView",
            "align_content": null,
            "align_items": null,
            "align_self": null,
            "border": null,
            "bottom": null,
            "display": null,
            "flex": null,
            "flex_flow": null,
            "grid_area": null,
            "grid_auto_columns": null,
            "grid_auto_flow": null,
            "grid_auto_rows": null,
            "grid_column": null,
            "grid_gap": null,
            "grid_row": null,
            "grid_template_areas": null,
            "grid_template_columns": null,
            "grid_template_rows": null,
            "height": null,
            "justify_content": null,
            "justify_items": null,
            "left": null,
            "margin": null,
            "max_height": null,
            "max_width": null,
            "min_height": null,
            "min_width": null,
            "object_fit": null,
            "object_position": null,
            "order": null,
            "overflow": null,
            "overflow_x": null,
            "overflow_y": null,
            "padding": null,
            "right": null,
            "top": null,
            "visibility": null,
            "width": null
          }
        },
        "e5276b023406430b96262a2f9b984eea": {
          "model_module": "@jupyter-widgets/controls",
          "model_name": "ProgressStyleModel",
          "model_module_version": "1.5.0",
          "state": {
            "_model_module": "@jupyter-widgets/controls",
            "_model_module_version": "1.5.0",
            "_model_name": "ProgressStyleModel",
            "_view_count": null,
            "_view_module": "@jupyter-widgets/base",
            "_view_module_version": "1.2.0",
            "_view_name": "StyleView",
            "bar_color": null,
            "description_width": ""
          }
        },
        "d53fe2cae5004159939f42bc8323a819": {
          "model_module": "@jupyter-widgets/base",
          "model_name": "LayoutModel",
          "model_module_version": "1.2.0",
          "state": {
            "_model_module": "@jupyter-widgets/base",
            "_model_module_version": "1.2.0",
            "_model_name": "LayoutModel",
            "_view_count": null,
            "_view_module": "@jupyter-widgets/base",
            "_view_module_version": "1.2.0",
            "_view_name": "LayoutView",
            "align_content": null,
            "align_items": null,
            "align_self": null,
            "border": null,
            "bottom": null,
            "display": null,
            "flex": null,
            "flex_flow": null,
            "grid_area": null,
            "grid_auto_columns": null,
            "grid_auto_flow": null,
            "grid_auto_rows": null,
            "grid_column": null,
            "grid_gap": null,
            "grid_row": null,
            "grid_template_areas": null,
            "grid_template_columns": null,
            "grid_template_rows": null,
            "height": null,
            "justify_content": null,
            "justify_items": null,
            "left": null,
            "margin": null,
            "max_height": null,
            "max_width": null,
            "min_height": null,
            "min_width": null,
            "object_fit": null,
            "object_position": null,
            "order": null,
            "overflow": null,
            "overflow_x": null,
            "overflow_y": null,
            "padding": null,
            "right": null,
            "top": null,
            "visibility": null,
            "width": null
          }
        },
        "0c001fdb766f4cf5ab849460e60bce98": {
          "model_module": "@jupyter-widgets/controls",
          "model_name": "DescriptionStyleModel",
          "model_module_version": "1.5.0",
          "state": {
            "_model_module": "@jupyter-widgets/controls",
            "_model_module_version": "1.5.0",
            "_model_name": "DescriptionStyleModel",
            "_view_count": null,
            "_view_module": "@jupyter-widgets/base",
            "_view_module_version": "1.2.0",
            "_view_name": "StyleView",
            "description_width": ""
          }
        },
        "4620829485d045f1bb89122b36915144": {
          "model_module": "@jupyter-widgets/controls",
          "model_name": "HBoxModel",
          "model_module_version": "1.5.0",
          "state": {
            "_dom_classes": [],
            "_model_module": "@jupyter-widgets/controls",
            "_model_module_version": "1.5.0",
            "_model_name": "HBoxModel",
            "_view_count": null,
            "_view_module": "@jupyter-widgets/controls",
            "_view_module_version": "1.5.0",
            "_view_name": "HBoxView",
            "box_style": "",
            "children": [
              "IPY_MODEL_b5cbb4c50be2438e88a9b2600ba32110",
              "IPY_MODEL_5df01af71678454fb4db1ec548a8c638",
              "IPY_MODEL_9e2f326a5659465698866b5127ba6d69"
            ],
            "layout": "IPY_MODEL_a43d3e72fd164a39953d14c312905d50"
          }
        },
        "b5cbb4c50be2438e88a9b2600ba32110": {
          "model_module": "@jupyter-widgets/controls",
          "model_name": "HTMLModel",
          "model_module_version": "1.5.0",
          "state": {
            "_dom_classes": [],
            "_model_module": "@jupyter-widgets/controls",
            "_model_module_version": "1.5.0",
            "_model_name": "HTMLModel",
            "_view_count": null,
            "_view_module": "@jupyter-widgets/controls",
            "_view_module_version": "1.5.0",
            "_view_name": "HTMLView",
            "description": "",
            "description_tooltip": null,
            "layout": "IPY_MODEL_cc359493df894421af44f502753710e9",
            "placeholder": "​",
            "style": "IPY_MODEL_4c9926f1e53547068ddc34f94839f4e7",
            "value": "100%"
          }
        },
        "5df01af71678454fb4db1ec548a8c638": {
          "model_module": "@jupyter-widgets/controls",
          "model_name": "FloatProgressModel",
          "model_module_version": "1.5.0",
          "state": {
            "_dom_classes": [],
            "_model_module": "@jupyter-widgets/controls",
            "_model_module_version": "1.5.0",
            "_model_name": "FloatProgressModel",
            "_view_count": null,
            "_view_module": "@jupyter-widgets/controls",
            "_view_module_version": "1.5.0",
            "_view_name": "ProgressView",
            "bar_style": "success",
            "description": "",
            "description_tooltip": null,
            "layout": "IPY_MODEL_6d177c975b19423bacdbe6382e191896",
            "max": 1000,
            "min": 0,
            "orientation": "horizontal",
            "style": "IPY_MODEL_6b0216bcff1647478a4811b05abc9a6e",
            "value": 1000
          }
        },
        "9e2f326a5659465698866b5127ba6d69": {
          "model_module": "@jupyter-widgets/controls",
          "model_name": "HTMLModel",
          "model_module_version": "1.5.0",
          "state": {
            "_dom_classes": [],
            "_model_module": "@jupyter-widgets/controls",
            "_model_module_version": "1.5.0",
            "_model_name": "HTMLModel",
            "_view_count": null,
            "_view_module": "@jupyter-widgets/controls",
            "_view_module_version": "1.5.0",
            "_view_name": "HTMLView",
            "description": "",
            "description_tooltip": null,
            "layout": "IPY_MODEL_a5f2d46463b4436eabacad544c3da9ef",
            "placeholder": "​",
            "style": "IPY_MODEL_00e5ca7a76dd4555b5b5d35757a4d232",
            "value": " 1000/1000 [05:24&lt;00:00,  3.54it/s]"
          }
        },
        "a43d3e72fd164a39953d14c312905d50": {
          "model_module": "@jupyter-widgets/base",
          "model_name": "LayoutModel",
          "model_module_version": "1.2.0",
          "state": {
            "_model_module": "@jupyter-widgets/base",
            "_model_module_version": "1.2.0",
            "_model_name": "LayoutModel",
            "_view_count": null,
            "_view_module": "@jupyter-widgets/base",
            "_view_module_version": "1.2.0",
            "_view_name": "LayoutView",
            "align_content": null,
            "align_items": null,
            "align_self": null,
            "border": null,
            "bottom": null,
            "display": null,
            "flex": null,
            "flex_flow": null,
            "grid_area": null,
            "grid_auto_columns": null,
            "grid_auto_flow": null,
            "grid_auto_rows": null,
            "grid_column": null,
            "grid_gap": null,
            "grid_row": null,
            "grid_template_areas": null,
            "grid_template_columns": null,
            "grid_template_rows": null,
            "height": null,
            "justify_content": null,
            "justify_items": null,
            "left": null,
            "margin": null,
            "max_height": null,
            "max_width": null,
            "min_height": null,
            "min_width": null,
            "object_fit": null,
            "object_position": null,
            "order": null,
            "overflow": null,
            "overflow_x": null,
            "overflow_y": null,
            "padding": null,
            "right": null,
            "top": null,
            "visibility": null,
            "width": null
          }
        },
        "cc359493df894421af44f502753710e9": {
          "model_module": "@jupyter-widgets/base",
          "model_name": "LayoutModel",
          "model_module_version": "1.2.0",
          "state": {
            "_model_module": "@jupyter-widgets/base",
            "_model_module_version": "1.2.0",
            "_model_name": "LayoutModel",
            "_view_count": null,
            "_view_module": "@jupyter-widgets/base",
            "_view_module_version": "1.2.0",
            "_view_name": "LayoutView",
            "align_content": null,
            "align_items": null,
            "align_self": null,
            "border": null,
            "bottom": null,
            "display": null,
            "flex": null,
            "flex_flow": null,
            "grid_area": null,
            "grid_auto_columns": null,
            "grid_auto_flow": null,
            "grid_auto_rows": null,
            "grid_column": null,
            "grid_gap": null,
            "grid_row": null,
            "grid_template_areas": null,
            "grid_template_columns": null,
            "grid_template_rows": null,
            "height": null,
            "justify_content": null,
            "justify_items": null,
            "left": null,
            "margin": null,
            "max_height": null,
            "max_width": null,
            "min_height": null,
            "min_width": null,
            "object_fit": null,
            "object_position": null,
            "order": null,
            "overflow": null,
            "overflow_x": null,
            "overflow_y": null,
            "padding": null,
            "right": null,
            "top": null,
            "visibility": null,
            "width": null
          }
        },
        "4c9926f1e53547068ddc34f94839f4e7": {
          "model_module": "@jupyter-widgets/controls",
          "model_name": "DescriptionStyleModel",
          "model_module_version": "1.5.0",
          "state": {
            "_model_module": "@jupyter-widgets/controls",
            "_model_module_version": "1.5.0",
            "_model_name": "DescriptionStyleModel",
            "_view_count": null,
            "_view_module": "@jupyter-widgets/base",
            "_view_module_version": "1.2.0",
            "_view_name": "StyleView",
            "description_width": ""
          }
        },
        "6d177c975b19423bacdbe6382e191896": {
          "model_module": "@jupyter-widgets/base",
          "model_name": "LayoutModel",
          "model_module_version": "1.2.0",
          "state": {
            "_model_module": "@jupyter-widgets/base",
            "_model_module_version": "1.2.0",
            "_model_name": "LayoutModel",
            "_view_count": null,
            "_view_module": "@jupyter-widgets/base",
            "_view_module_version": "1.2.0",
            "_view_name": "LayoutView",
            "align_content": null,
            "align_items": null,
            "align_self": null,
            "border": null,
            "bottom": null,
            "display": null,
            "flex": null,
            "flex_flow": null,
            "grid_area": null,
            "grid_auto_columns": null,
            "grid_auto_flow": null,
            "grid_auto_rows": null,
            "grid_column": null,
            "grid_gap": null,
            "grid_row": null,
            "grid_template_areas": null,
            "grid_template_columns": null,
            "grid_template_rows": null,
            "height": null,
            "justify_content": null,
            "justify_items": null,
            "left": null,
            "margin": null,
            "max_height": null,
            "max_width": null,
            "min_height": null,
            "min_width": null,
            "object_fit": null,
            "object_position": null,
            "order": null,
            "overflow": null,
            "overflow_x": null,
            "overflow_y": null,
            "padding": null,
            "right": null,
            "top": null,
            "visibility": null,
            "width": null
          }
        },
        "6b0216bcff1647478a4811b05abc9a6e": {
          "model_module": "@jupyter-widgets/controls",
          "model_name": "ProgressStyleModel",
          "model_module_version": "1.5.0",
          "state": {
            "_model_module": "@jupyter-widgets/controls",
            "_model_module_version": "1.5.0",
            "_model_name": "ProgressStyleModel",
            "_view_count": null,
            "_view_module": "@jupyter-widgets/base",
            "_view_module_version": "1.2.0",
            "_view_name": "StyleView",
            "bar_color": null,
            "description_width": ""
          }
        },
        "a5f2d46463b4436eabacad544c3da9ef": {
          "model_module": "@jupyter-widgets/base",
          "model_name": "LayoutModel",
          "model_module_version": "1.2.0",
          "state": {
            "_model_module": "@jupyter-widgets/base",
            "_model_module_version": "1.2.0",
            "_model_name": "LayoutModel",
            "_view_count": null,
            "_view_module": "@jupyter-widgets/base",
            "_view_module_version": "1.2.0",
            "_view_name": "LayoutView",
            "align_content": null,
            "align_items": null,
            "align_self": null,
            "border": null,
            "bottom": null,
            "display": null,
            "flex": null,
            "flex_flow": null,
            "grid_area": null,
            "grid_auto_columns": null,
            "grid_auto_flow": null,
            "grid_auto_rows": null,
            "grid_column": null,
            "grid_gap": null,
            "grid_row": null,
            "grid_template_areas": null,
            "grid_template_columns": null,
            "grid_template_rows": null,
            "height": null,
            "justify_content": null,
            "justify_items": null,
            "left": null,
            "margin": null,
            "max_height": null,
            "max_width": null,
            "min_height": null,
            "min_width": null,
            "object_fit": null,
            "object_position": null,
            "order": null,
            "overflow": null,
            "overflow_x": null,
            "overflow_y": null,
            "padding": null,
            "right": null,
            "top": null,
            "visibility": null,
            "width": null
          }
        },
        "00e5ca7a76dd4555b5b5d35757a4d232": {
          "model_module": "@jupyter-widgets/controls",
          "model_name": "DescriptionStyleModel",
          "model_module_version": "1.5.0",
          "state": {
            "_model_module": "@jupyter-widgets/controls",
            "_model_module_version": "1.5.0",
            "_model_name": "DescriptionStyleModel",
            "_view_count": null,
            "_view_module": "@jupyter-widgets/base",
            "_view_module_version": "1.2.0",
            "_view_name": "StyleView",
            "description_width": ""
          }
        }
      }
    }
  },
  "cells": [
    {
      "cell_type": "markdown",
      "source": [
        "# Машинное обучение: начало"
      ],
      "metadata": {
        "id": "IUyZ4ZX3jyx6"
      }
    },
    {
      "cell_type": "markdown",
      "source": [
        "Мы будем работать с датасетом про алмазы - в нем содержатся их различные характеристики, а также стоимость."
      ],
      "metadata": {
        "id": "BlQcqgt11zHM"
      }
    },
    {
      "cell_type": "markdown",
      "source": [
        "![diamond-2.jpeg](data:image/jpeg;base64,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)"
      ],
      "metadata": {
        "id": "ukQFCBt6oyi1"
      }
    },
    {
      "cell_type": "markdown",
      "source": [
        "**Цели на сегодня:**\n",
        "\n",
        "* разобраться в алгоритмах KNN и NaiveBayes\n",
        "\n",
        "* построить Explainer Dashboard"
      ],
      "metadata": {
        "id": "wAsq5FMdj55A"
      }
    },
    {
      "cell_type": "markdown",
      "source": [
        "## Импорт библиотек и загрузка данных"
      ],
      "metadata": {
        "id": "IMP3VmOP12iI"
      }
    },
    {
      "cell_type": "code",
      "execution_count": 48,
      "metadata": {
        "id": "cB6bCbeORLBF"
      },
      "outputs": [],
      "source": [
        "import numpy as np\n",
        "import pandas as pd\n",
        "import matplotlib.pyplot as plt\n",
        "import seaborn as sns"
      ]
    },
    {
      "cell_type": "code",
      "source": [
        "DIAMONDS_DATASET = \"https://raw.githubusercontent.com/aiedu-courses/stepik_eda_and_dev_tools/main/datasets/diamonds_clean.csv\""
      ],
      "metadata": {
        "id": "BM69ewKF2G2p"
      },
      "execution_count": 2,
      "outputs": []
    },
    {
      "cell_type": "code",
      "source": [
        "df = pd.read_csv(DIAMONDS_DATASET)"
      ],
      "metadata": {
        "id": "s56FX_wZRRd7"
      },
      "execution_count": 3,
      "outputs": []
    },
    {
      "cell_type": "markdown",
      "source": [
        "## Описание данных"
      ],
      "metadata": {
        "id": "MnGf3vGqkcAT"
      }
    },
    {
      "cell_type": "markdown",
      "source": [
        "* `carat` - число каратов алмаза\n",
        "* `cut` - огранка алмаза\n",
        "* `color` - цвет алмаза\n",
        "* `clarity` - прозрачность алмаза\n",
        "* `depth` - глубина алмаза\n",
        "* `table` - платформа алмаза (грань, которую можно увидеть, если смотреть на камень лицевой стороной вверх)\n",
        "* `price` - цена алмаза\n",
        "* `x` - размер алмаза по оси x\n",
        "* `y` - размер алмаза по оси y\n",
        "* `z` - размер алмаза по оси z"
      ],
      "metadata": {
        "id": "ARMb2AEW2N89"
      }
    },
    {
      "cell_type": "code",
      "source": [
        "df.head()"
      ],
      "metadata": {
        "id": "UF06et3OkY0d",
        "colab": {
          "base_uri": "https://localhost:8080/",
          "height": 206
        },
        "outputId": "0949e83d-c7e7-438b-85ee-ef2d039e4ab5"
      },
      "execution_count": 4,
      "outputs": [
        {
          "output_type": "execute_result",
          "data": {
            "text/plain": [
              "   carat      cut color clarity  depth  table  price   'x'   'y'   'z'\n",
              "0   0.23    Ideal     E     SI2   61.5   55.0  326.0  3.95  3.98  2.43\n",
              "1   0.21  Premium     E     SI1   59.8   61.0  326.0  3.89  3.84  2.31\n",
              "2   0.23     Good     E     VS1   56.9   65.0  327.0  4.05  4.07  2.31\n",
              "3   0.29  Premium     I     VS2   62.4   58.0  334.0  4.20  4.23  2.63\n",
              "4   0.31     Good     J     SI2   63.3   58.0  335.0  4.34  4.35  2.75"
            ],
            "text/html": [
              "\n",
              "  <div id=\"df-88b179a6-1193-423b-b2e4-667ec17a92b3\" class=\"colab-df-container\">\n",
              "    <div>\n",
              "<style scoped>\n",
              "    .dataframe tbody tr th:only-of-type {\n",
              "        vertical-align: middle;\n",
              "    }\n",
              "\n",
              "    .dataframe tbody tr th {\n",
              "        vertical-align: top;\n",
              "    }\n",
              "\n",
              "    .dataframe thead th {\n",
              "        text-align: right;\n",
              "    }\n",
              "</style>\n",
              "<table border=\"1\" class=\"dataframe\">\n",
              "  <thead>\n",
              "    <tr style=\"text-align: right;\">\n",
              "      <th></th>\n",
              "      <th>carat</th>\n",
              "      <th>cut</th>\n",
              "      <th>color</th>\n",
              "      <th>clarity</th>\n",
              "      <th>depth</th>\n",
              "      <th>table</th>\n",
              "      <th>price</th>\n",
              "      <th>'x'</th>\n",
              "      <th>'y'</th>\n",
              "      <th>'z'</th>\n",
              "    </tr>\n",
              "  </thead>\n",
              "  <tbody>\n",
              "    <tr>\n",
              "      <th>0</th>\n",
              "      <td>0.23</td>\n",
              "      <td>Ideal</td>\n",
              "      <td>E</td>\n",
              "      <td>SI2</td>\n",
              "      <td>61.5</td>\n",
              "      <td>55.0</td>\n",
              "      <td>326.0</td>\n",
              "      <td>3.95</td>\n",
              "      <td>3.98</td>\n",
              "      <td>2.43</td>\n",
              "    </tr>\n",
              "    <tr>\n",
              "      <th>1</th>\n",
              "      <td>0.21</td>\n",
              "      <td>Premium</td>\n",
              "      <td>E</td>\n",
              "      <td>SI1</td>\n",
              "      <td>59.8</td>\n",
              "      <td>61.0</td>\n",
              "      <td>326.0</td>\n",
              "      <td>3.89</td>\n",
              "      <td>3.84</td>\n",
              "      <td>2.31</td>\n",
              "    </tr>\n",
              "    <tr>\n",
              "      <th>2</th>\n",
              "      <td>0.23</td>\n",
              "      <td>Good</td>\n",
              "      <td>E</td>\n",
              "      <td>VS1</td>\n",
              "      <td>56.9</td>\n",
              "      <td>65.0</td>\n",
              "      <td>327.0</td>\n",
              "      <td>4.05</td>\n",
              "      <td>4.07</td>\n",
              "      <td>2.31</td>\n",
              "    </tr>\n",
              "    <tr>\n",
              "      <th>3</th>\n",
              "      <td>0.29</td>\n",
              "      <td>Premium</td>\n",
              "      <td>I</td>\n",
              "      <td>VS2</td>\n",
              "      <td>62.4</td>\n",
              "      <td>58.0</td>\n",
              "      <td>334.0</td>\n",
              "      <td>4.20</td>\n",
              "      <td>4.23</td>\n",
              "      <td>2.63</td>\n",
              "    </tr>\n",
              "    <tr>\n",
              "      <th>4</th>\n",
              "      <td>0.31</td>\n",
              "      <td>Good</td>\n",
              "      <td>J</td>\n",
              "      <td>SI2</td>\n",
              "      <td>63.3</td>\n",
              "      <td>58.0</td>\n",
              "      <td>335.0</td>\n",
              "      <td>4.34</td>\n",
              "      <td>4.35</td>\n",
              "      <td>2.75</td>\n",
              "    </tr>\n",
              "  </tbody>\n",
              "</table>\n",
              "</div>\n",
              "    <div class=\"colab-df-buttons\">\n",
              "\n",
              "  <div class=\"colab-df-container\">\n",
              "    <button class=\"colab-df-convert\" onclick=\"convertToInteractive('df-88b179a6-1193-423b-b2e4-667ec17a92b3')\"\n",
              "            title=\"Convert this dataframe to an interactive table.\"\n",
              "            style=\"display:none;\">\n",
              "\n",
              "  <svg xmlns=\"http://www.w3.org/2000/svg\" height=\"24px\" viewBox=\"0 -960 960 960\">\n",
              "    <path d=\"M120-120v-720h720v720H120Zm60-500h600v-160H180v160Zm220 220h160v-160H400v160Zm0 220h160v-160H400v160ZM180-400h160v-160H180v160Zm440 0h160v-160H620v160ZM180-180h160v-160H180v160Zm440 0h160v-160H620v160Z\"/>\n",
              "  </svg>\n",
              "    </button>\n",
              "\n",
              "  <style>\n",
              "    .colab-df-container {\n",
              "      display:flex;\n",
              "      gap: 12px;\n",
              "    }\n",
              "\n",
              "    .colab-df-convert {\n",
              "      background-color: #E8F0FE;\n",
              "      border: none;\n",
              "      border-radius: 50%;\n",
              "      cursor: pointer;\n",
              "      display: none;\n",
              "      fill: #1967D2;\n",
              "      height: 32px;\n",
              "      padding: 0 0 0 0;\n",
              "      width: 32px;\n",
              "    }\n",
              "\n",
              "    .colab-df-convert:hover {\n",
              "      background-color: #E2EBFA;\n",
              "      box-shadow: 0px 1px 2px rgba(60, 64, 67, 0.3), 0px 1px 3px 1px rgba(60, 64, 67, 0.15);\n",
              "      fill: #174EA6;\n",
              "    }\n",
              "\n",
              "    .colab-df-buttons div {\n",
              "      margin-bottom: 4px;\n",
              "    }\n",
              "\n",
              "    [theme=dark] .colab-df-convert {\n",
              "      background-color: #3B4455;\n",
              "      fill: #D2E3FC;\n",
              "    }\n",
              "\n",
              "    [theme=dark] .colab-df-convert:hover {\n",
              "      background-color: #434B5C;\n",
              "      box-shadow: 0px 1px 3px 1px rgba(0, 0, 0, 0.15);\n",
              "      filter: drop-shadow(0px 1px 2px rgba(0, 0, 0, 0.3));\n",
              "      fill: #FFFFFF;\n",
              "    }\n",
              "  </style>\n",
              "\n",
              "    <script>\n",
              "      const buttonEl =\n",
              "        document.querySelector('#df-88b179a6-1193-423b-b2e4-667ec17a92b3 button.colab-df-convert');\n",
              "      buttonEl.style.display =\n",
              "        google.colab.kernel.accessAllowed ? 'block' : 'none';\n",
              "\n",
              "      async function convertToInteractive(key) {\n",
              "        const element = document.querySelector('#df-88b179a6-1193-423b-b2e4-667ec17a92b3');\n",
              "        const dataTable =\n",
              "          await google.colab.kernel.invokeFunction('convertToInteractive',\n",
              "                                                    [key], {});\n",
              "        if (!dataTable) return;\n",
              "\n",
              "        const docLinkHtml = 'Like what you see? Visit the ' +\n",
              "          '<a target=\"_blank\" href=https://colab.research.google.com/notebooks/data_table.ipynb>data table notebook</a>'\n",
              "          + ' to learn more about interactive tables.';\n",
              "        element.innerHTML = '';\n",
              "        dataTable['output_type'] = 'display_data';\n",
              "        await google.colab.output.renderOutput(dataTable, element);\n",
              "        const docLink = document.createElement('div');\n",
              "        docLink.innerHTML = docLinkHtml;\n",
              "        element.appendChild(docLink);\n",
              "      }\n",
              "    </script>\n",
              "  </div>\n",
              "\n",
              "\n",
              "<div id=\"df-6e1dab37-bf4e-47ea-aad1-0c83b8ab2790\">\n",
              "  <button class=\"colab-df-quickchart\" onclick=\"quickchart('df-6e1dab37-bf4e-47ea-aad1-0c83b8ab2790')\"\n",
              "            title=\"Suggest charts.\"\n",
              "            style=\"display:none;\">\n",
              "\n",
              "<svg xmlns=\"http://www.w3.org/2000/svg\" height=\"24px\"viewBox=\"0 0 24 24\"\n",
              "     width=\"24px\">\n",
              "    <g>\n",
              "        <path d=\"M19 3H5c-1.1 0-2 .9-2 2v14c0 1.1.9 2 2 2h14c1.1 0 2-.9 2-2V5c0-1.1-.9-2-2-2zM9 17H7v-7h2v7zm4 0h-2V7h2v10zm4 0h-2v-4h2v4z\"/>\n",
              "    </g>\n",
              "</svg>\n",
              "  </button>\n",
              "\n",
              "<style>\n",
              "  .colab-df-quickchart {\n",
              "      --bg-color: #E8F0FE;\n",
              "      --fill-color: #1967D2;\n",
              "      --hover-bg-color: #E2EBFA;\n",
              "      --hover-fill-color: #174EA6;\n",
              "      --disabled-fill-color: #AAA;\n",
              "      --disabled-bg-color: #DDD;\n",
              "  }\n",
              "\n",
              "  [theme=dark] .colab-df-quickchart {\n",
              "      --bg-color: #3B4455;\n",
              "      --fill-color: #D2E3FC;\n",
              "      --hover-bg-color: #434B5C;\n",
              "      --hover-fill-color: #FFFFFF;\n",
              "      --disabled-bg-color: #3B4455;\n",
              "      --disabled-fill-color: #666;\n",
              "  }\n",
              "\n",
              "  .colab-df-quickchart {\n",
              "    background-color: var(--bg-color);\n",
              "    border: none;\n",
              "    border-radius: 50%;\n",
              "    cursor: pointer;\n",
              "    display: none;\n",
              "    fill: var(--fill-color);\n",
              "    height: 32px;\n",
              "    padding: 0;\n",
              "    width: 32px;\n",
              "  }\n",
              "\n",
              "  .colab-df-quickchart:hover {\n",
              "    background-color: var(--hover-bg-color);\n",
              "    box-shadow: 0 1px 2px rgba(60, 64, 67, 0.3), 0 1px 3px 1px rgba(60, 64, 67, 0.15);\n",
              "    fill: var(--button-hover-fill-color);\n",
              "  }\n",
              "\n",
              "  .colab-df-quickchart-complete:disabled,\n",
              "  .colab-df-quickchart-complete:disabled:hover {\n",
              "    background-color: var(--disabled-bg-color);\n",
              "    fill: var(--disabled-fill-color);\n",
              "    box-shadow: none;\n",
              "  }\n",
              "\n",
              "  .colab-df-spinner {\n",
              "    border: 2px solid var(--fill-color);\n",
              "    border-color: transparent;\n",
              "    border-bottom-color: var(--fill-color);\n",
              "    animation:\n",
              "      spin 1s steps(1) infinite;\n",
              "  }\n",
              "\n",
              "  @keyframes spin {\n",
              "    0% {\n",
              "      border-color: transparent;\n",
              "      border-bottom-color: var(--fill-color);\n",
              "      border-left-color: var(--fill-color);\n",
              "    }\n",
              "    20% {\n",
              "      border-color: transparent;\n",
              "      border-left-color: var(--fill-color);\n",
              "      border-top-color: var(--fill-color);\n",
              "    }\n",
              "    30% {\n",
              "      border-color: transparent;\n",
              "      border-left-color: var(--fill-color);\n",
              "      border-top-color: var(--fill-color);\n",
              "      border-right-color: var(--fill-color);\n",
              "    }\n",
              "    40% {\n",
              "      border-color: transparent;\n",
              "      border-right-color: var(--fill-color);\n",
              "      border-top-color: var(--fill-color);\n",
              "    }\n",
              "    60% {\n",
              "      border-color: transparent;\n",
              "      border-right-color: var(--fill-color);\n",
              "    }\n",
              "    80% {\n",
              "      border-color: transparent;\n",
              "      border-right-color: var(--fill-color);\n",
              "      border-bottom-color: var(--fill-color);\n",
              "    }\n",
              "    90% {\n",
              "      border-color: transparent;\n",
              "      border-bottom-color: var(--fill-color);\n",
              "    }\n",
              "  }\n",
              "</style>\n",
              "\n",
              "  <script>\n",
              "    async function quickchart(key) {\n",
              "      const quickchartButtonEl =\n",
              "        document.querySelector('#' + key + ' button');\n",
              "      quickchartButtonEl.disabled = true;  // To prevent multiple clicks.\n",
              "      quickchartButtonEl.classList.add('colab-df-spinner');\n",
              "      try {\n",
              "        const charts = await google.colab.kernel.invokeFunction(\n",
              "            'suggestCharts', [key], {});\n",
              "      } catch (error) {\n",
              "        console.error('Error during call to suggestCharts:', error);\n",
              "      }\n",
              "      quickchartButtonEl.classList.remove('colab-df-spinner');\n",
              "      quickchartButtonEl.classList.add('colab-df-quickchart-complete');\n",
              "    }\n",
              "    (() => {\n",
              "      let quickchartButtonEl =\n",
              "        document.querySelector('#df-6e1dab37-bf4e-47ea-aad1-0c83b8ab2790 button');\n",
              "      quickchartButtonEl.style.display =\n",
              "        google.colab.kernel.accessAllowed ? 'block' : 'none';\n",
              "    })();\n",
              "  </script>\n",
              "</div>\n",
              "    </div>\n",
              "  </div>\n"
            ]
          },
          "metadata": {},
          "execution_count": 4
        }
      ]
    },
    {
      "cell_type": "markdown",
      "source": [
        "# Введение в машинное обучение (основные понятия)\n",
        "\n",
        "Основные понятия."
      ],
      "metadata": {
        "id": "uOy4qcrpTPG4"
      }
    },
    {
      "cell_type": "markdown",
      "source": [
        "В нашем примере мы можем попробовать предсказать стоимость алмаза по его характеристикам.\n",
        "\n",
        "* алмазы - *объекты*\n",
        "* характеристики - *признаки*\n",
        "* стоимость - *целевая переменная*"
      ],
      "metadata": {
        "id": "NS93TFBzfGzj"
      }
    },
    {
      "cell_type": "markdown",
      "source": [
        "![object_feature-3.png](data:image/png;base64,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)"
      ],
      "metadata": {
        "id": "mx7PPl4zlbKc"
      }
    },
    {
      "cell_type": "markdown",
      "source": [
        "Модели машинного обучения - это некоторые математические правила (обычно функции), по которым модель делает прогноз.\n",
        "\n",
        "**Пример (линейная регрессия):**\n",
        "\n",
        "$price = a + b\\cdot carat + c\\cdot depth,$\n",
        "\n",
        "здесь $a,b,c$ - параметры модели (заранее мы их не знаем).\n",
        "\n",
        "*Параметры подбираются по обучающим данным так, чтобы модель ошибалась меньше всего.*"
      ],
      "metadata": {
        "id": "xHWT4aK8fwcA"
      }
    },
    {
      "cell_type": "markdown",
      "source": [
        "Пример плохо подобранных параметров $a, b$ модели\n",
        "$$y = a + b\\cdot x.$$\n",
        "\n",
        "На рисунке\n",
        "$$y = -30 + 7x.$$"
      ],
      "metadata": {
        "id": "xTkK8GvSgp5p"
      }
    },
    {
      "cell_type": "markdown",
      "source": [
        "![LR_bad.png](data:image/png;base64,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)"
      ],
      "metadata": {
        "id": "O6OvjsjxgnLB"
      }
    },
    {
      "cell_type": "markdown",
      "source": [
        "Пример хорошо подобранных параметров:\n",
        "$$y = 0.5 + x.$$"
      ],
      "metadata": {
        "id": "a03pB-nKg6M4"
      }
    },
    {
      "cell_type": "markdown",
      "source": [
        "![LR_good.png](data:image/png;base64,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)"
      ],
      "metadata": {
        "id": "SOHQvhZ0g9QT"
      }
    },
    {
      "cell_type": "markdown",
      "source": [
        "Функции для построения прогнозов бывают разные:\n",
        "\n",
        "* линейные модели\n",
        "* решающие правила (если $a$, то $b$)\n",
        "* нейронные сети\n",
        "* другие модели\n",
        "\n",
        "Каждая модель хорошо работает в своих предположениях о данных, поэтому изучить распределение целевой переменной всегда очень полезно."
      ],
      "metadata": {
        "id": "YPCDl8CXhMDZ"
      }
    },
    {
      "cell_type": "markdown",
      "source": [
        "Обучим линейную регрессию предсказывать цену по числу карат."
      ],
      "metadata": {
        "id": "S26Mh9ADmm8g"
      }
    },
    {
      "cell_type": "code",
      "source": [
        "X = df[['carat','depth','table',\"'x'\",\"'y'\",\"'z'\"]]\n",
        "y = df['price']"
      ],
      "metadata": {
        "id": "E0q8yMvElh8P"
      },
      "execution_count": 5,
      "outputs": []
    },
    {
      "cell_type": "code",
      "source": [
        "from sklearn.linear_model import LinearRegression\n",
        "\n",
        "lr = LinearRegression()\n",
        "lr.fit(X, y)\n",
        "\n",
        "pred = lr.predict(X)"
      ],
      "metadata": {
        "id": "883Ap--amsLc"
      },
      "execution_count": 6,
      "outputs": []
    },
    {
      "cell_type": "markdown",
      "source": [
        "Вычислим ошибку модели\n",
        "\n",
        "$$MAE = \\frac1l\\sum_{i=1}^l |a(x_i)-y_i|$$"
      ],
      "metadata": {
        "id": "MHZKuWKcnMLp"
      }
    },
    {
      "cell_type": "code",
      "source": [
        "from sklearn.metrics import mean_absolute_error\n",
        "\n",
        "mean_absolute_error(y, pred), np.mean(y)"
      ],
      "metadata": {
        "colab": {
          "base_uri": "https://localhost:8080/"
        },
        "id": "Xl2I42yHnTn5",
        "outputId": "9ce739df-6a7a-468b-9fe0-cacd0b2b2a76"
      },
      "execution_count": 7,
      "outputs": [
        {
          "output_type": "execute_result",
          "data": {
            "text/plain": [
              "(977.2282539113676, 3933.562828733389)"
            ]
          },
          "metadata": {},
          "execution_count": 7
        }
      ]
    },
    {
      "cell_type": "markdown",
      "source": [
        "## Анализ распределения столбцов (целевой переменной)"
      ],
      "metadata": {
        "id": "FqzX-bQmTJgE"
      }
    },
    {
      "cell_type": "markdown",
      "source": [
        "![image.png](data:image/png;base64,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)"
      ],
      "metadata": {
        "id": "ci-YduRMiNxW"
      }
    },
    {
      "cell_type": "markdown",
      "source": [
        "В основном в задачах регрессии мы ожидаем увидеть нормально распределенную целевую переменную. Многие модели заточены под нормальное распределение.\n",
        "\n",
        "Но не только в этом дело..."
      ],
      "metadata": {
        "id": "6Dczel7pjsIJ"
      }
    },
    {
      "cell_type": "code",
      "source": [
        "sns.histplot(data = df['price'], kde = True)"
      ],
      "metadata": {
        "id": "3vrhognsR2Bj",
        "colab": {
          "base_uri": "https://localhost:8080/",
          "height": 467
        },
        "outputId": "0a677983-5e53-49fe-8e0d-628a9efb0aac"
      },
      "execution_count": 8,
      "outputs": [
        {
          "output_type": "execute_result",
          "data": {
            "text/plain": [
              "<Axes: xlabel='price', ylabel='Count'>"
            ]
          },
          "metadata": {},
          "execution_count": 8
        },
        {
          "output_type": "display_data",
          "data": {
            "text/plain": [
              "<Figure size 640x480 with 1 Axes>"
            ],
            "image/png": "[encoded data removed]"
          },
          "metadata": {}
        }
      ]
    },
    {
      "cell_type": "markdown",
      "source": [
        "Мы видим у распределения тяжелый хвост, который может быть трудно прогнозируем моделями (так как там мало значений).\n",
        "\n",
        "Проверим это."
      ],
      "metadata": {
        "id": "wd4K4mpgp9eP"
      }
    },
    {
      "cell_type": "code",
      "source": [
        "mean_absolute_error(y[y < 10000], pred[y < 10000])"
      ],
      "metadata": {
        "id": "gNqFlHwIpDEE",
        "colab": {
          "base_uri": "https://localhost:8080/"
        },
        "outputId": "e4a7f4d1-4738-4eef-b1fc-6b0487c3e9d1"
      },
      "execution_count": 9,
      "outputs": [
        {
          "output_type": "execute_result",
          "data": {
            "text/plain": [
              "764.9688224207086"
            ]
          },
          "metadata": {},
          "execution_count": 9
        }
      ]
    },
    {
      "cell_type": "code",
      "source": [
        "mean_absolute_error(y[y >= 10000], pred[y >= 10000])"
      ],
      "metadata": {
        "id": "IyQ13-2gp2oz",
        "colab": {
          "base_uri": "https://localhost:8080/"
        },
        "outputId": "f935a5fd-b17c-4a3b-e3fd-c3ffc0fdf0b7"
      },
      "execution_count": 10,
      "outputs": [
        {
          "output_type": "execute_result",
          "data": {
            "text/plain": [
              "2957.8679605456914"
            ]
          },
          "metadata": {},
          "execution_count": 10
        }
      ]
    },
    {
      "cell_type": "markdown",
      "source": [
        "Действительно, ошибка на дорогих алмазах больше."
      ],
      "metadata": {
        "id": "vdLYhBDnqFHC"
      }
    },
    {
      "cell_type": "markdown",
      "source": [
        "# Простые нелинейные модели: классификация"
      ],
      "metadata": {
        "id": "LCDQmw5-Cx01"
      }
    },
    {
      "cell_type": "markdown",
      "source": [
        "## Наивный байесовский классификатор"
      ],
      "metadata": {
        "id": "Hct3GQrlDHp-"
      }
    },
    {
      "cell_type": "code",
      "source": [
        "X = df[['carat','depth','table',\"'x'\",\"'y'\",\"'z'\"]]\n",
        "y_class = (y > 2500).astype(int)"
      ],
      "metadata": {
        "id": "Bi5Yph8iHhUZ"
      },
      "execution_count": 11,
      "outputs": []
    },
    {
      "cell_type": "code",
      "source": [
        "y_class.value_counts()"
      ],
      "metadata": {
        "id": "3Jl6uqjsH3W1",
        "colab": {
          "base_uri": "https://localhost:8080/"
        },
        "outputId": "5551cfc0-9af8-4cdd-b8b7-dc8d5a6a8631"
      },
      "execution_count": 12,
      "outputs": [
        {
          "output_type": "execute_result",
          "data": {
            "text/plain": [
              "0    27464\n",
              "1    26341\n",
              "Name: price, dtype: int64"
            ]
          },
          "metadata": {},
          "execution_count": 12
        }
      ]
    },
    {
      "cell_type": "code",
      "source": [
        "from sklearn.model_selection import train_test_split\n",
        "\n",
        "X_train, X_test, y_train, y_test = train_test_split(X, y_class, test_size=0.25, random_state=42)"
      ],
      "metadata": {
        "id": "1VOtfkb6IQqd"
      },
      "execution_count": 13,
      "outputs": []
    },
    {
      "cell_type": "code",
      "source": [
        "from sklearn.naive_bayes import GaussianNB\n",
        "\n",
        "gnb = GaussianNB()\n",
        "\n",
        "gnb.fit(X_train, y_train)\n",
        "\n",
        "y_pred = gnb.predict(X_test)"
      ],
      "metadata": {
        "id": "iddXYxOmIIPh"
      },
      "execution_count": 14,
      "outputs": []
    },
    {
      "cell_type": "code",
      "source": [
        "from sklearn.metrics import accuracy_score\n",
        "\n",
        "accuracy_score(y_test, y_pred)"
      ],
      "metadata": {
        "id": "NpmpMr4TIbXL",
        "colab": {
          "base_uri": "https://localhost:8080/"
        },
        "outputId": "2d3d02af-8887-4f33-f56d-93991124f19c"
      },
      "execution_count": 15,
      "outputs": [
        {
          "output_type": "execute_result",
          "data": {
            "text/plain": [
              "0.9397115670532263"
            ]
          },
          "metadata": {},
          "execution_count": 15
        }
      ]
    },
    {
      "cell_type": "code",
      "source": [
        "from sklearn.metrics import confusion_matrix\n",
        "\n",
        "confusion_matrix(y_test, y_pred)"
      ],
      "metadata": {
        "id": "bRN57zEzIykJ",
        "colab": {
          "base_uri": "https://localhost:8080/"
        },
        "outputId": "b6adcde8-49f6-4338-bc00-a1c31764f7b4"
      },
      "execution_count": 16,
      "outputs": [
        {
          "output_type": "execute_result",
          "data": {
            "text/plain": [
              "array([[6225,  632],\n",
              "       [ 179, 6416]])"
            ]
          },
          "metadata": {},
          "execution_count": 16
        }
      ]
    },
    {
      "cell_type": "markdown",
      "source": [
        "## KNN"
      ],
      "metadata": {
        "id": "_svsvkFVI7G_"
      }
    },
    {
      "cell_type": "code",
      "source": [
        "from sklearn.neighbors import KNeighborsClassifier\n",
        "\n",
        "knn_cl = KNeighborsClassifier()\n",
        "\n",
        "knn_cl.fit(X_train, y_train)\n",
        "\n",
        "pred_knn = knn_cl.predict(X_test)"
      ],
      "metadata": {
        "id": "r4GaS2ZYI8tI"
      },
      "execution_count": 17,
      "outputs": []
    },
    {
      "cell_type": "code",
      "source": [
        "accuracy_score(y_test, pred_knn)"
      ],
      "metadata": {
        "id": "DSiJEaQgMdHq",
        "colab": {
          "base_uri": "https://localhost:8080/"
        },
        "outputId": "e4fa223d-6f2f-455d-9268-f990b9d22023"
      },
      "execution_count": 18,
      "outputs": [
        {
          "output_type": "execute_result",
          "data": {
            "text/plain": [
              "0.9415700267618198"
            ]
          },
          "metadata": {},
          "execution_count": 18
        }
      ]
    },
    {
      "cell_type": "code",
      "source": [
        "confusion_matrix(y_test, pred_knn)"
      ],
      "metadata": {
        "id": "mo9NqamnMgJi",
        "colab": {
          "base_uri": "https://localhost:8080/"
        },
        "outputId": "0d9d01e4-df3c-404e-9a63-bfec83291657"
      },
      "execution_count": 19,
      "outputs": [
        {
          "output_type": "execute_result",
          "data": {
            "text/plain": [
              "array([[6416,  441],\n",
              "       [ 345, 6250]])"
            ]
          },
          "metadata": {},
          "execution_count": 19
        }
      ]
    },
    {
      "cell_type": "markdown",
      "source": [
        "## Кросс-валидация"
      ],
      "metadata": {
        "id": "cD8Bmr_cQMk5"
      }
    },
    {
      "cell_type": "markdown",
      "source": [
        "![CV-2.jpeg](data:image/jpeg;base64,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)"
      ],
      "metadata": {
        "id": "Oxyw84H_QdUe"
      }
    },
    {
      "cell_type": "code",
      "source": [
        "from sklearn.model_selection import cross_val_score\n",
        "\n",
        "cross_val_score(knn_cl, X, y_class, scoring='accuracy', cv=3, n_jobs=-1).mean()"
      ],
      "metadata": {
        "id": "eC3QlDZfQh-U",
        "colab": {
          "base_uri": "https://localhost:8080/"
        },
        "outputId": "1ca13248-15ca-4a53-9db8-5a9688ed7c82"
      },
      "execution_count": 20,
      "outputs": [
        {
          "output_type": "execute_result",
          "data": {
            "text/plain": [
              "0.8938016912926307"
            ]
          },
          "metadata": {},
          "execution_count": 20
        }
      ]
    },
    {
      "cell_type": "code",
      "source": [
        "from sklearn.model_selection import cross_validate\n",
        "\n",
        "cross_validate(knn_cl, X, y_class, scoring=['accuracy', 'f1'], cv=3, n_jobs=-1)"
      ],
      "metadata": {
        "id": "Dw_AJ-QGRB8a",
        "colab": {
          "base_uri": "https://localhost:8080/"
        },
        "outputId": "fc481766-1588-4189-deb7-f24a09979cff"
      },
      "execution_count": 21,
      "outputs": [
        {
          "output_type": "execute_result",
          "data": {
            "text/plain": [
              "{'fit_time': array([0.101861  , 0.13595033, 0.05752349]),\n",
              " 'score_time': array([1.9849534 , 1.92787194, 1.0461638 ]),\n",
              " 'test_accuracy': array([0.86936158, 0.99632004, 0.81572345]),\n",
              " 'test_f1': array([0.84602747, 0.99624744, 0.83911795])}"
            ]
          },
          "metadata": {},
          "execution_count": 21
        }
      ]
    },
    {
      "cell_type": "markdown",
      "source": [
        "## Подбор гиперпараметров моделей\n",
        "\n",
        "При подборе гиперпараметров мы разбиваем выборку на три части:\n",
        "* train - обучение модели\n",
        "* validation - применение модели для разных наборов гиперпараметров\n",
        "* test - проверка качества модели с лучшими найденными гиперпараметрами"
      ],
      "metadata": {
        "id": "ASEM56V3Mjws"
      }
    },
    {
      "cell_type": "markdown",
      "source": [
        "![image.png](data:image/png;base64,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)"
      ],
      "metadata": {
        "id": "IxrjuuRRMuUs"
      }
    },
    {
      "cell_type": "code",
      "source": [
        "X_train, X_val, y_train, y_val = train_test_split(X_train, y_train, test_size=0.25, random_state=42)"
      ],
      "metadata": {
        "id": "6x0WEFGsM_D8"
      },
      "execution_count": 22,
      "outputs": []
    },
    {
      "cell_type": "code",
      "source": [
        "best_k = -1\n",
        "best_acc = -1\n",
        "\n",
        "for k in np.arange(2, 30, 1):\n",
        "    knn_cl = KNeighborsClassifier(n_neighbors=k) # по умолчанию n_neighbors=5\n",
        "\n",
        "    knn_cl.fit(X_train, y_train)\n",
        "    pred_knn = knn_cl.predict(X_val)\n",
        "    acc = accuracy_score(y_val, pred_knn)\n",
        "\n",
        "    if acc > best_acc:\n",
        "        best_k = k\n",
        "        best_acc = acc\n",
        "\n",
        "    print('n_neighbors:', k, 'accuracy:', acc)\n",
        "\n",
        "print(best_k, best_acc)"
      ],
      "metadata": {
        "id": "umF0mNcRNHNq",
        "colab": {
          "base_uri": "https://localhost:8080/"
        },
        "outputId": "0da2d18d-fe1f-493d-d4ed-6f0980c6e577"
      },
      "execution_count": 23,
      "outputs": [
        {
          "output_type": "stream",
          "name": "stdout",
          "text": [
            "n_neighbors: 2 accuracy: 0.9295272078501338\n",
            "n_neighbors: 3 accuracy: 0.936366339577758\n",
            "n_neighbors: 4 accuracy: 0.935474278917633\n",
            "n_neighbors: 5 accuracy: 0.9396372286648825\n",
            "n_neighbors: 6 accuracy: 0.9396372286648825\n",
            "n_neighbors: 7 accuracy: 0.9416195856873822\n",
            "n_neighbors: 8 accuracy: 0.9405292893250075\n",
            "n_neighbors: 9 accuracy: 0.9417187035385073\n",
            "n_neighbors: 10 accuracy: 0.9413222321340073\n",
            "n_neighbors: 11 accuracy: 0.9414213499851323\n",
            "n_neighbors: 12 accuracy: 0.9420160570918823\n",
            "n_neighbors: 13 accuracy: 0.9428089999008822\n",
            "n_neighbors: 14 accuracy: 0.9427098820497571\n",
            "n_neighbors: 15 accuracy: 0.9421151749430072\n",
            "n_neighbors: 16 accuracy: 0.9418178213896323\n",
            "n_neighbors: 17 accuracy: 0.9421151749430072\n",
            "n_neighbors: 18 accuracy: 0.9426107641986322\n",
            "n_neighbors: 19 accuracy: 0.9432054713053821\n",
            "n_neighbors: 20 accuracy: 0.943998414114382\n",
            "n_neighbors: 21 accuracy: 0.943800178412132\n",
            "n_neighbors: 22 accuracy: 0.9431063534542571\n",
            "n_neighbors: 23 accuracy: 0.9436019427098821\n",
            "n_neighbors: 24 accuracy: 0.943998414114382\n",
            "n_neighbors: 25 accuracy: 0.9434037070076321\n",
            "n_neighbors: 26 accuracy: 0.943502824858757\n",
            "n_neighbors: 27 accuracy: 0.9424125284963822\n",
            "n_neighbors: 28 accuracy: 0.943502824858757\n",
            "n_neighbors: 29 accuracy: 0.9427098820497571\n",
            "20 0.943998414114382\n"
          ]
        }
      ]
    },
    {
      "cell_type": "code",
      "source": [
        "knn_cl = KNeighborsClassifier(n_neighbors=20) # по умолчанию n_neighbors=5\n",
        "\n",
        "knn_cl.fit(X_train, y_train)\n",
        "pred_knn = knn_cl.predict(X_test)\n",
        "\n",
        "acc = accuracy_score(y_test, pred_knn)\n",
        "print(acc)"
      ],
      "metadata": {
        "id": "YHWZ3omSOHgf",
        "colab": {
          "base_uri": "https://localhost:8080/"
        },
        "outputId": "f97a31f2-f2b9-45a2-9d6e-2164e61615a8"
      },
      "execution_count": 24,
      "outputs": [
        {
          "output_type": "stream",
          "name": "stdout",
          "text": [
            "0.9447665774606007\n"
          ]
        }
      ]
    },
    {
      "cell_type": "code",
      "source": [
        "confusion_matrix(y_test, pred_knn)"
      ],
      "metadata": {
        "id": "EqF1HIfHOmXX",
        "colab": {
          "base_uri": "https://localhost:8080/"
        },
        "outputId": "b571cd1e-dc01-4e61-bc6c-68db121c5bf8"
      },
      "execution_count": 25,
      "outputs": [
        {
          "output_type": "execute_result",
          "data": {
            "text/plain": [
              "array([[6444,  413],\n",
              "       [ 330, 6265]])"
            ]
          },
          "metadata": {},
          "execution_count": 25
        }
      ]
    },
    {
      "cell_type": "markdown",
      "source": [
        "## Подбор гиперпараметров по сетке"
      ],
      "metadata": {
        "id": "PmCcdpjoO33s"
      }
    },
    {
      "cell_type": "markdown",
      "source": [
        "![image.png](data:image/png;base64,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)"
      ],
      "metadata": {
        "id": "tqy0-kvGPAGZ"
      }
    },
    {
      "cell_type": "code",
      "source": [
        "from sklearn.model_selection import GridSearchCV\n",
        "\n",
        "X_train, X_test, y_train, y_test = train_test_split(X, y_class, test_size=0.25, random_state=42)\n",
        "\n",
        "model = KNeighborsClassifier()\n",
        "\n",
        "params = {'n_neighbors' : np.arange(2, 20, 2),\n",
        "          'weights' : ['uniform', 'distance'],\n",
        "          'p' : [1, 2]}\n",
        "\n",
        "gs = GridSearchCV(model, params, scoring='accuracy', cv=3, n_jobs=-1, verbose=2)\n",
        "gs.fit(X_train, y_train)"
      ],
      "metadata": {
        "id": "mrd_nxtjPCU3",
        "colab": {
          "base_uri": "https://localhost:8080/",
          "height": 136
        },
        "outputId": "24a86a94-8252-429a-9544-e81f5d9fe2a1"
      },
      "execution_count": 26,
      "outputs": [
        {
          "output_type": "stream",
          "name": "stdout",
          "text": [
            "Fitting 3 folds for each of 36 candidates, totalling 108 fits\n"
          ]
        },
        {
          "output_type": "execute_result",
          "data": {
            "text/plain": [
              "GridSearchCV(cv=3, estimator=KNeighborsClassifier(), n_jobs=-1,\n",
              "             param_grid={'n_neighbors': array([ 2,  4,  6,  8, 10, 12, 14, 16, 18]),\n",
              "                         'p': [1, 2], 'weights': ['uniform', 'distance']},\n",
              "             scoring='accuracy', verbose=2)"
            ],
            "text/html": [
              "<style>#sk-container-id-1 {color: black;background-color: white;}#sk-container-id-1 pre{padding: 0;}#sk-container-id-1 div.sk-toggleable {background-color: white;}#sk-container-id-1 label.sk-toggleable__label {cursor: pointer;display: block;width: 100%;margin-bottom: 0;padding: 0.3em;box-sizing: border-box;text-align: center;}#sk-container-id-1 label.sk-toggleable__label-arrow:before {content: \"▸\";float: left;margin-right: 0.25em;color: #696969;}#sk-container-id-1 label.sk-toggleable__label-arrow:hover:before {color: black;}#sk-container-id-1 div.sk-estimator:hover label.sk-toggleable__label-arrow:before {color: black;}#sk-container-id-1 div.sk-toggleable__content {max-height: 0;max-width: 0;overflow: hidden;text-align: left;background-color: #f0f8ff;}#sk-container-id-1 div.sk-toggleable__content pre {margin: 0.2em;color: black;border-radius: 0.25em;background-color: #f0f8ff;}#sk-container-id-1 input.sk-toggleable__control:checked~div.sk-toggleable__content {max-height: 200px;max-width: 100%;overflow: auto;}#sk-container-id-1 input.sk-toggleable__control:checked~label.sk-toggleable__label-arrow:before {content: \"▾\";}#sk-container-id-1 div.sk-estimator input.sk-toggleable__control:checked~label.sk-toggleable__label {background-color: #d4ebff;}#sk-container-id-1 div.sk-label input.sk-toggleable__control:checked~label.sk-toggleable__label {background-color: #d4ebff;}#sk-container-id-1 input.sk-hidden--visually {border: 0;clip: rect(1px 1px 1px 1px);clip: rect(1px, 1px, 1px, 1px);height: 1px;margin: -1px;overflow: hidden;padding: 0;position: absolute;width: 1px;}#sk-container-id-1 div.sk-estimator {font-family: monospace;background-color: #f0f8ff;border: 1px dotted black;border-radius: 0.25em;box-sizing: border-box;margin-bottom: 0.5em;}#sk-container-id-1 div.sk-estimator:hover {background-color: #d4ebff;}#sk-container-id-1 div.sk-parallel-item::after {content: \"\";width: 100%;border-bottom: 1px solid gray;flex-grow: 1;}#sk-container-id-1 div.sk-label:hover label.sk-toggleable__label {background-color: #d4ebff;}#sk-container-id-1 div.sk-serial::before {content: \"\";position: absolute;border-left: 1px solid gray;box-sizing: border-box;top: 0;bottom: 0;left: 50%;z-index: 0;}#sk-container-id-1 div.sk-serial {display: flex;flex-direction: column;align-items: center;background-color: white;padding-right: 0.2em;padding-left: 0.2em;position: relative;}#sk-container-id-1 div.sk-item {position: relative;z-index: 1;}#sk-container-id-1 div.sk-parallel {display: flex;align-items: stretch;justify-content: center;background-color: white;position: relative;}#sk-container-id-1 div.sk-item::before, #sk-container-id-1 div.sk-parallel-item::before {content: \"\";position: absolute;border-left: 1px solid gray;box-sizing: border-box;top: 0;bottom: 0;left: 50%;z-index: -1;}#sk-container-id-1 div.sk-parallel-item {display: flex;flex-direction: column;z-index: 1;position: relative;background-color: white;}#sk-container-id-1 div.sk-parallel-item:first-child::after {align-self: flex-end;width: 50%;}#sk-container-id-1 div.sk-parallel-item:last-child::after {align-self: flex-start;width: 50%;}#sk-container-id-1 div.sk-parallel-item:only-child::after {width: 0;}#sk-container-id-1 div.sk-dashed-wrapped {border: 1px dashed gray;margin: 0 0.4em 0.5em 0.4em;box-sizing: border-box;padding-bottom: 0.4em;background-color: white;}#sk-container-id-1 div.sk-label label {font-family: monospace;font-weight: bold;display: inline-block;line-height: 1.2em;}#sk-container-id-1 div.sk-label-container {text-align: center;}#sk-container-id-1 div.sk-container {/* jupyter's `normalize.less` sets `[hidden] { display: none; }` but bootstrap.min.css set `[hidden] { display: none !important; }` so we also need the `!important` here to be able to override the default hidden behavior on the sphinx rendered scikit-learn.org. See: https://github.com/scikit-learn/scikit-learn/issues/21755 */display: inline-block !important;position: relative;}#sk-container-id-1 div.sk-text-repr-fallback {display: none;}</style><div id=\"sk-container-id-1\" class=\"sk-top-container\"><div class=\"sk-text-repr-fallback\"><pre>GridSearchCV(cv=3, estimator=KNeighborsClassifier(), n_jobs=-1,\n",
              "             param_grid={&#x27;n_neighbors&#x27;: array([ 2,  4,  6,  8, 10, 12, 14, 16, 18]),\n",
              "                         &#x27;p&#x27;: [1, 2], &#x27;weights&#x27;: [&#x27;uniform&#x27;, &#x27;distance&#x27;]},\n",
              "             scoring=&#x27;accuracy&#x27;, verbose=2)</pre><b>In a Jupyter environment, please rerun this cell to show the HTML representation or trust the notebook. <br />On GitHub, the HTML representation is unable to render, please try loading this page with nbviewer.org.</b></div><div class=\"sk-container\" hidden><div class=\"sk-item sk-dashed-wrapped\"><div class=\"sk-label-container\"><div class=\"sk-label sk-toggleable\"><input class=\"sk-toggleable__control sk-hidden--visually\" id=\"sk-estimator-id-1\" type=\"checkbox\" ><label for=\"sk-estimator-id-1\" class=\"sk-toggleable__label sk-toggleable__label-arrow\">GridSearchCV</label><div class=\"sk-toggleable__content\"><pre>GridSearchCV(cv=3, estimator=KNeighborsClassifier(), n_jobs=-1,\n",
              "             param_grid={&#x27;n_neighbors&#x27;: array([ 2,  4,  6,  8, 10, 12, 14, 16, 18]),\n",
              "                         &#x27;p&#x27;: [1, 2], &#x27;weights&#x27;: [&#x27;uniform&#x27;, &#x27;distance&#x27;]},\n",
              "             scoring=&#x27;accuracy&#x27;, verbose=2)</pre></div></div></div><div class=\"sk-parallel\"><div class=\"sk-parallel-item\"><div class=\"sk-item\"><div class=\"sk-label-container\"><div class=\"sk-label sk-toggleable\"><input class=\"sk-toggleable__control sk-hidden--visually\" id=\"sk-estimator-id-2\" type=\"checkbox\" ><label for=\"sk-estimator-id-2\" class=\"sk-toggleable__label sk-toggleable__label-arrow\">estimator: KNeighborsClassifier</label><div class=\"sk-toggleable__content\"><pre>KNeighborsClassifier()</pre></div></div></div><div class=\"sk-serial\"><div class=\"sk-item\"><div class=\"sk-estimator sk-toggleable\"><input class=\"sk-toggleable__control sk-hidden--visually\" id=\"sk-estimator-id-3\" type=\"checkbox\" ><label for=\"sk-estimator-id-3\" class=\"sk-toggleable__label sk-toggleable__label-arrow\">KNeighborsClassifier</label><div class=\"sk-toggleable__content\"><pre>KNeighborsClassifier()</pre></div></div></div></div></div></div></div></div></div></div>"
            ]
          },
          "metadata": {},
          "execution_count": 26
        }
      ]
    },
    {
      "cell_type": "code",
      "source": [
        "gs.best_score_, gs.best_params_"
      ],
      "metadata": {
        "id": "6JNrLhjzPxx1",
        "colab": {
          "base_uri": "https://localhost:8080/"
        },
        "outputId": "adfcd9c5-1c25-4c54-ee8a-b5c8aca1bc57"
      },
      "execution_count": 27,
      "outputs": [
        {
          "output_type": "execute_result",
          "data": {
            "text/plain": [
              "(0.9465962877605135, {'n_neighbors': 16, 'p': 1, 'weights': 'uniform'})"
            ]
          },
          "metadata": {},
          "execution_count": 27
        }
      ]
    },
    {
      "cell_type": "code",
      "source": [
        "pred = gs.best_estimator_.predict(X_test)\n",
        "\n",
        "accuracy_score(y_test, pred)"
      ],
      "metadata": {
        "id": "F3TI6bzlP-1O",
        "colab": {
          "base_uri": "https://localhost:8080/"
        },
        "outputId": "c36f8771-9bb4-48b0-dadf-f4c5cc7f047a"
      },
      "execution_count": 28,
      "outputs": [
        {
          "output_type": "execute_result",
          "data": {
            "text/plain": [
              "0.9461790068391317"
            ]
          },
          "metadata": {},
          "execution_count": 28
        }
      ]
    },
    {
      "cell_type": "code",
      "source": [
        "confusion_matrix(y_test, pred)"
      ],
      "metadata": {
        "id": "PSdbE1J8QFms",
        "colab": {
          "base_uri": "https://localhost:8080/"
        },
        "outputId": "05fc0399-b485-43c5-c575-69af70fb5121"
      },
      "execution_count": 29,
      "outputs": [
        {
          "output_type": "execute_result",
          "data": {
            "text/plain": [
              "array([[6467,  390],\n",
              "       [ 334, 6261]])"
            ]
          },
          "metadata": {},
          "execution_count": 29
        }
      ]
    },
    {
      "cell_type": "markdown",
      "source": [
        "# Explainer Dashboard\n",
        "\n",
        "[tutorial](https://github.com/oegedijk/explainerdashboard/blob/c7c515c05c5a161226193e40a8258c310fc7901d/notebooks/dashboard_examples.ipynb)"
      ],
      "metadata": {
        "id": "SrAAhqSw5iDr"
      }
    },
    {
      "cell_type": "code",
      "source": [
        "!pip install explainerdashboard -q"
      ],
      "metadata": {
        "id": "r_8m95dZ5gqV",
        "colab": {
          "base_uri": "https://localhost:8080/"
        },
        "outputId": "fdd21540-14cc-44a3-8cd1-df9344caea7d"
      },
      "execution_count": 30,
      "outputs": [
        {
          "output_type": "stream",
          "name": "stdout",
          "text": [
            "\u001b[2K     \u001b[90m━━━━━━━━━━━━━━━━━━━━━━━━━━━━━━━━━━━━━━━━\u001b[0m \u001b[32m287.2/287.2 kB\u001b[0m \u001b[31m4.0 MB/s\u001b[0m eta \u001b[36m0:00:00\u001b[0m\n",
            "\u001b[2K     \u001b[90m━━━━━━━━━━━━━━━━━━━━━━━━━━━━━━━━━━━━━━━━\u001b[0m \u001b[32m221.2/221.2 kB\u001b[0m \u001b[31m9.7 MB/s\u001b[0m eta \u001b[36m0:00:00\u001b[0m\n",
            "\u001b[2K     \u001b[90m━━━━━━━━━━━━━━━━━━━━━━━━━━━━━━━━━━━━━━━━\u001b[0m \u001b[32m10.4/10.4 MB\u001b[0m \u001b[31m24.5 MB/s\u001b[0m eta \u001b[36m0:00:00\u001b[0m\n",
            "\u001b[2K     \u001b[90m━━━━━━━━━━━━━━━━━━━━━━━━━━━━━━━━━━━━━━━━\u001b[0m \u001b[32m91.8/91.8 kB\u001b[0m \u001b[31m8.8 MB/s\u001b[0m eta \u001b[36m0:00:00\u001b[0m\n",
            "\u001b[2K     \u001b[90m━━━━━━━━━━━━━━━━━━━━━━━━━━━━━━━━━━━━━━━━\u001b[0m \u001b[32m532.9/532.9 kB\u001b[0m \u001b[31m36.3 MB/s\u001b[0m eta \u001b[36m0:00:00\u001b[0m\n",
            "\u001b[2K     \u001b[90m━━━━━━━━━━━━━━━━━━━━━━━━━━━━━━━━━━━━━━━━\u001b[0m \u001b[32m57.7/57.7 kB\u001b[0m \u001b[31m6.2 MB/s\u001b[0m eta \u001b[36m0:00:00\u001b[0m\n",
            "\u001b[2K     \u001b[90m━━━━━━━━━━━━━━━━━━━━━━━━━━━━━━━━━━━━━━━━\u001b[0m \u001b[32m145.2/145.2 kB\u001b[0m \u001b[31m15.8 MB/s\u001b[0m eta \u001b[36m0:00:00\u001b[0m\n",
            "\u001b[2K     \u001b[90m━━━━━━━━━━━━━━━━━━━━━━━━━━━━━━━━━━━━━━━━\u001b[0m \u001b[32m1.6/1.6 MB\u001b[0m \u001b[31m42.2 MB/s\u001b[0m eta \u001b[36m0:00:00\u001b[0m\n",
            "\u001b[?25h"
          ]
        }
      ]
    },
    {
      "cell_type": "code",
      "source": [
        "from explainerdashboard import ClassifierExplainer, RegressionExplainer, ExplainerDashboard"
      ],
      "metadata": {
        "id": "hLp8QLnc5gsk"
      },
      "execution_count": 31,
      "outputs": []
    },
    {
      "cell_type": "code",
      "source": [
        "from IPython.core.interactiveshell import InteractiveShell\n",
        "InteractiveShell.ast_node_interactivity = \"all\""
      ],
      "metadata": {
        "id": "SJRPYGF85gu-"
      },
      "execution_count": 32,
      "outputs": []
    },
    {
      "cell_type": "code",
      "source": [
        "explainer = ClassifierExplainer(gs.best_estimator_, X_test.iloc[:1000], y_test.iloc[:1000])"
      ],
      "metadata": {
        "id": "Wq9-5Aus6IFq",
        "colab": {
          "base_uri": "https://localhost:8080/"
        },
        "outputId": "94aded78-8f7d-4d71-8a15-e1de09378403"
      },
      "execution_count": 33,
      "outputs": [
        {
          "output_type": "stream",
          "name": "stdout",
          "text": [
            "WARNING: Parameter shap='guess', but failed to guess the type of shap explainer to use for KNeighborsClassifier. Defaulting to the model agnostic shap.KernelExplainer (shap='kernel'). However this will be slow, so if your model is compatible with e.g. shap.TreeExplainer or shap.LinearExplainer then pass shap='tree' or shap='linear'!\n",
            "WARNING: For shap='kernel', shap interaction values can unfortunately not be calculated!\n",
            "Note: shap values for shap='kernel' normally get calculated against X_background, but paramater X_background=None, so setting X_background=shap.sample(X, 50)...\n",
            "Generating self.shap_explainer = shap.KernelExplainer(model, X, link='identity')\n"
          ]
        }
      ]
    },
    {
      "cell_type": "code",
      "source": [
        "db = ExplainerDashboard(explainer)"
      ],
      "metadata": {
        "id": "TyieT79365Rk",
        "colab": {
          "base_uri": "https://localhost:8080/",
          "height": 478,
          "referenced_widgets": [
            "1b2d2307e6774cc0af8e3b0ab20caf15",
            "1cb3fbcf05274a6bb4b209127eb36e46",
            "05bacb5d7e2f4fec9ea65803edcc1937",
            "ed24709f7ac346b4904cf9277744ecea",
            "cabaaa6a25824109be43b5acbf46dc04",
            "7912626f7d38426a8503ba68464f1071",
            "5361cb69fc8744faac2229bfb18a73fe",
            "86469c79298e4e0e844bfb4336a266fe",
            "e5276b023406430b96262a2f9b984eea",
            "d53fe2cae5004159939f42bc8323a819",
            "0c001fdb766f4cf5ab849460e60bce98"
          ]
        },
        "outputId": "2f11fe2e-382c-4789-9051-b0674468b8be"
      },
      "execution_count": 34,
      "outputs": [
        {
          "output_type": "stream",
          "name": "stdout",
          "text": [
            "Building ExplainerDashboard..\n",
            "Detected google colab environment, setting mode='external'\n",
            "For this type of model and model_output interactions don't work, so setting shap_interaction=False...\n",
            "The explainer object has no decision_trees property. so setting decision_trees=False...\n",
            "Generating layout...\n",
            "Calculating shap values...\n"
          ]
        },
        {
          "output_type": "stream",
          "name": "stderr",
          "text": [
            "/usr/local/lib/python3.10/dist-packages/dash/dash.py:538: UserWarning:\n",
            "\n",
            "JupyterDash is deprecated, use Dash instead.\n",
            "See https://dash.plotly.com/dash-in-jupyter for more details.\n",
            "\n"
          ]
        },
        {
          "output_type": "display_data",
          "data": {
            "text/plain": [
              "  0%|          | 0/1000 [00:00<?, ?it/s]"
            ],
            "application/vnd.jupyter.widget-view+json": {
              "version_major": 2,
              "version_minor": 0,
              "model_id": "1b2d2307e6774cc0af8e3b0ab20caf15"
            }
          },
          "metadata": {}
        },
        {
          "output_type": "stream",
          "name": "stdout",
          "text": [
            "Calculating prediction probabilities...\n",
            "Calculating metrics...\n",
            "Calculating confusion matrices...\n",
            "Calculating classification_dfs...\n",
            "Calculating roc auc curves...\n",
            "Calculating pr auc curves...\n",
            "Calculating liftcurve_dfs...\n",
            "Calculating dependencies...\n",
            "Calculating permutation importances (if slow, try setting n_jobs parameter)...\n",
            "Calculating predictions...\n",
            "Calculating pred_percentiles...\n",
            "Reminder: you can store the explainer (including calculated dependencies) with explainer.dump('explainer.joblib') and reload with e.g. ClassifierExplainer.from_file('explainer.joblib')\n",
            "Registering callbacks...\n"
          ]
        }
      ]
    },
    {
      "cell_type": "code",
      "source": [
        "db.run()"
      ],
      "metadata": {
        "colab": {
          "base_uri": "https://localhost:8080/",
          "height": 742
        },
        "id": "LlDabdGV8Yxe",
        "outputId": "7733efc1-a367-4027-da21-8c1de83ca471"
      },
      "execution_count": 35,
      "outputs": [
        {
          "output_type": "stream",
          "name": "stdout",
          "text": [
            "Starting ExplainerDashboard on http://172.28.0.12:8050\n",
            "You can terminate the dashboard with ExplainerDashboard.terminate(8050)\n",
            "Dash app running on:\n"
          ]
        },
        {
          "output_type": "display_data",
          "data": {
            "text/plain": [
              "<IPython.core.display.Javascript object>"
            ],
            "application/javascript": [
              "(async (port, path, text, element) => {\n",
              "    if (!google.colab.kernel.accessAllowed) {\n",
              "      return;\n",
              "    }\n",
              "    element.appendChild(document.createTextNode(''));\n",
              "    const url = await google.colab.kernel.proxyPort(port);\n",
              "    const anchor = document.createElement('a');\n",
              "    anchor.href = new URL(path, url).toString();\n",
              "    anchor.target = '_blank';\n",
              "    anchor.setAttribute('data-href', url + path);\n",
              "    anchor.textContent = text;\n",
              "    element.appendChild(anchor);\n",
              "  })(8050, \"/\", \"http://127.0.0.1:8050/\", window.element)"
            ]
          },
          "metadata": {}
        },
        {
          "output_type": "display_data",
          "data": {
            "text/plain": [
              "<IPython.core.display.Javascript object>"
            ],
            "application/javascript": [
              "(async (port, path, width, height, cache, element) => {\n",
              "    if (!google.colab.kernel.accessAllowed && !cache) {\n",
              "      return;\n",
              "    }\n",
              "    element.appendChild(document.createTextNode(''));\n",
              "    const url = await google.colab.kernel.proxyPort(port, {cache});\n",
              "    const iframe = document.createElement('iframe');\n",
              "    iframe.src = new URL(path, url).toString();\n",
              "    iframe.height = height;\n",
              "    iframe.width = width;\n",
              "    iframe.style.border = 0;\n",
              "    iframe.allow = [\n",
              "        'accelerometer',\n",
              "        'autoplay',\n",
              "        'camera',\n",
              "        'clipboard-read',\n",
              "        'clipboard-write',\n",
              "        'gyroscope',\n",
              "        'magnetometer',\n",
              "        'microphone',\n",
              "        'serial',\n",
              "        'usb',\n",
              "        'xr-spatial-tracking',\n",
              "    ].join('; ');\n",
              "    element.appendChild(iframe);\n",
              "  })(8050, \"/\", \"100%\", 650, false, window.element)"
            ]
          },
          "metadata": {}
        }
      ]
    },
    {
      "cell_type": "markdown",
      "source": [
        "# Домашнее задание\n",
        "\n",
        "## KNN для задачи регрессии"
      ],
      "metadata": {
        "id": "zQlvU509qRVV"
      }
    },
    {
      "cell_type": "code",
      "source": [
        "X = df[['carat','depth','table',\"'x'\",\"'y'\",\"'z'\"]]\n",
        "y_reg = df['price']"
      ],
      "metadata": {
        "id": "VOMTPi82rAup"
      },
      "execution_count": 36,
      "outputs": []
    },
    {
      "cell_type": "code",
      "source": [
        "from sklearn.neighbors import KNeighborsRegressor\n",
        "\n",
        "knn_reg = KNeighborsRegressor()"
      ],
      "metadata": {
        "id": "4ohmy41P8gVy"
      },
      "execution_count": 37,
      "outputs": []
    },
    {
      "cell_type": "markdown",
      "source": [
        "### Задание 1\n",
        "\n",
        "Чему равна ошибка MAE на кросс-валидации с тремя фолдами? Ответ округлите до целого числа."
      ],
      "metadata": {
        "id": "12vIUr4XAxgd"
      }
    },
    {
      "cell_type": "code",
      "source": [
        "\n",
        "\n",
        "# scoring = 'neg_mean_absolute_error'\n",
        "cross_val_score(knn_reg, X, y_reg, scoring='neg_mean_absolute_error', cv=3, n_jobs=-1).mean()\n",
        "\n",
        "# your code here"
      ],
      "metadata": {
        "id": "Zcy1vEgfrJYO",
        "colab": {
          "base_uri": "https://localhost:8080/"
        },
        "outputId": "44ae0fc0-673e-4f8f-b1b1-ce986975c8aa"
      },
      "execution_count": 42,
      "outputs": [
        {
          "output_type": "execute_result",
          "data": {
            "text/plain": [
              "-1959.366278226931"
            ]
          },
          "metadata": {},
          "execution_count": 42
        }
      ]
    },
    {
      "cell_type": "markdown",
      "source": [
        "Разобъем данные на трейн и тес"
      ],
      "metadata": {
        "id": "8Dx2aI1HA-HY"
      }
    },
    {
      "cell_type": "code",
      "source": [
        "from sklearn.model_selection import train_test_split\n",
        "\n",
        "X_train, X_test, y_train, y_test = train_test_split(X, y_reg, test_size=0.25, random_state=42)"
      ],
      "metadata": {
        "id": "ed-QiNSWrOaC"
      },
      "execution_count": 43,
      "outputs": []
    },
    {
      "cell_type": "markdown",
      "source": [
        "### Задание 2\n",
        "\n",
        "Обучите KNN с гиперпараметрами по умолчанию на тренировочных данных и вычислите MAE на тесте. Ответ округлите до целого числа."
      ],
      "metadata": {
        "id": "3Cnz5wzoBBkS"
      }
    },
    {
      "cell_type": "code",
      "source": [
        "from sklearn.metrics import mean_absolute_error\n",
        "\n",
        "knn = KNeighborsRegressor().fit(X_train, y_train)"
      ],
      "metadata": {
        "id": "sEBV8PUEBBCo"
      },
      "execution_count": 44,
      "outputs": []
    },
    {
      "cell_type": "code",
      "source": [
        "y_hat = knn.predict(X_test)\n",
        "mean_absolute_error(y_test, y_hat)"
      ],
      "metadata": {
        "colab": {
          "base_uri": "https://localhost:8080/"
        },
        "id": "K-NL8y58KpGe",
        "outputId": "ed750f1d-a37b-48b2-afbf-1036d836be5a"
      },
      "execution_count": 46,
      "outputs": [
        {
          "output_type": "execute_result",
          "data": {
            "text/plain": [
              "825.9063633660421"
            ]
          },
          "metadata": {},
          "execution_count": 46
        }
      ]
    },
    {
      "cell_type": "markdown",
      "source": [
        "### Задание 3\n",
        "\n",
        "Подберите по сетке на тренировочных данных гиперпараметры метода:\n",
        "\n",
        "* `n_neighbors` в диапазоне от 2 до 30 не включительно с шагом 2\n",
        "* `weights` - `uniform` или `distance`\n",
        "* `p` - 1 или 2\n",
        "\n",
        "Метрика - `neg_mean_squared_error`, `cv=3`\n",
        "\n",
        "Чему равно число соседей у наилучшей модели?"
      ],
      "metadata": {
        "id": "ImQlkf9SCLLE"
      }
    },
    {
      "cell_type": "code",
      "source": [
        "knn = KNeighborsRegressor()"
      ],
      "metadata": {
        "id": "RQdhrP4MMgoU"
      },
      "execution_count": 51,
      "outputs": []
    },
    {
      "cell_type": "code",
      "source": [
        "params = {'n_neighbors' : np.arange(2, 30, 2),\n",
        "          'weights' : ['uniform', 'distance'],\n",
        "          'p' : [1, 2]}\n",
        "\n",
        "gs = GridSearchCV(knn, params, scoring='neg_mean_squared_error', cv=3, n_jobs=-1, verbose=2)\n",
        "gs.fit(X_train, y_train)"
      ],
      "metadata": {
        "id": "8-GNIgZuBZq1",
        "colab": {
          "base_uri": "https://localhost:8080/",
          "height": 136
        },
        "outputId": "0e7ee471-ebf3-4dfa-a98e-767e775569f7"
      },
      "execution_count": 53,
      "outputs": [
        {
          "output_type": "stream",
          "name": "stdout",
          "text": [
            "Fitting 3 folds for each of 56 candidates, totalling 168 fits\n"
          ]
        },
        {
          "output_type": "execute_result",
          "data": {
            "text/plain": [
              "GridSearchCV(cv=3, estimator=KNeighborsRegressor(), n_jobs=-1,\n",
              "             param_grid={'n_neighbors': array([ 2,  4,  6,  8, 10, 12, 14, 16, 18, 20, 22, 24, 26, 28]),\n",
              "                         'p': [1, 2], 'weights': ['uniform', 'distance']},\n",
              "             scoring='neg_mean_squared_error', verbose=2)"
            ],
            "text/html": [
              "<style>#sk-container-id-2 {color: black;background-color: white;}#sk-container-id-2 pre{padding: 0;}#sk-container-id-2 div.sk-toggleable {background-color: white;}#sk-container-id-2 label.sk-toggleable__label {cursor: pointer;display: block;width: 100%;margin-bottom: 0;padding: 0.3em;box-sizing: border-box;text-align: center;}#sk-container-id-2 label.sk-toggleable__label-arrow:before {content: \"▸\";float: left;margin-right: 0.25em;color: #696969;}#sk-container-id-2 label.sk-toggleable__label-arrow:hover:before {color: black;}#sk-container-id-2 div.sk-estimator:hover label.sk-toggleable__label-arrow:before {color: black;}#sk-container-id-2 div.sk-toggleable__content {max-height: 0;max-width: 0;overflow: hidden;text-align: left;background-color: #f0f8ff;}#sk-container-id-2 div.sk-toggleable__content pre {margin: 0.2em;color: black;border-radius: 0.25em;background-color: #f0f8ff;}#sk-container-id-2 input.sk-toggleable__control:checked~div.sk-toggleable__content {max-height: 200px;max-width: 100%;overflow: auto;}#sk-container-id-2 input.sk-toggleable__control:checked~label.sk-toggleable__label-arrow:before {content: \"▾\";}#sk-container-id-2 div.sk-estimator input.sk-toggleable__control:checked~label.sk-toggleable__label {background-color: #d4ebff;}#sk-container-id-2 div.sk-label input.sk-toggleable__control:checked~label.sk-toggleable__label {background-color: #d4ebff;}#sk-container-id-2 input.sk-hidden--visually {border: 0;clip: rect(1px 1px 1px 1px);clip: rect(1px, 1px, 1px, 1px);height: 1px;margin: -1px;overflow: hidden;padding: 0;position: absolute;width: 1px;}#sk-container-id-2 div.sk-estimator {font-family: monospace;background-color: #f0f8ff;border: 1px dotted black;border-radius: 0.25em;box-sizing: border-box;margin-bottom: 0.5em;}#sk-container-id-2 div.sk-estimator:hover {background-color: #d4ebff;}#sk-container-id-2 div.sk-parallel-item::after {content: \"\";width: 100%;border-bottom: 1px solid gray;flex-grow: 1;}#sk-container-id-2 div.sk-label:hover label.sk-toggleable__label {background-color: #d4ebff;}#sk-container-id-2 div.sk-serial::before {content: \"\";position: absolute;border-left: 1px solid gray;box-sizing: border-box;top: 0;bottom: 0;left: 50%;z-index: 0;}#sk-container-id-2 div.sk-serial {display: flex;flex-direction: column;align-items: center;background-color: white;padding-right: 0.2em;padding-left: 0.2em;position: relative;}#sk-container-id-2 div.sk-item {position: relative;z-index: 1;}#sk-container-id-2 div.sk-parallel {display: flex;align-items: stretch;justify-content: center;background-color: white;position: relative;}#sk-container-id-2 div.sk-item::before, #sk-container-id-2 div.sk-parallel-item::before {content: \"\";position: absolute;border-left: 1px solid gray;box-sizing: border-box;top: 0;bottom: 0;left: 50%;z-index: -1;}#sk-container-id-2 div.sk-parallel-item {display: flex;flex-direction: column;z-index: 1;position: relative;background-color: white;}#sk-container-id-2 div.sk-parallel-item:first-child::after {align-self: flex-end;width: 50%;}#sk-container-id-2 div.sk-parallel-item:last-child::after {align-self: flex-start;width: 50%;}#sk-container-id-2 div.sk-parallel-item:only-child::after {width: 0;}#sk-container-id-2 div.sk-dashed-wrapped {border: 1px dashed gray;margin: 0 0.4em 0.5em 0.4em;box-sizing: border-box;padding-bottom: 0.4em;background-color: white;}#sk-container-id-2 div.sk-label label {font-family: monospace;font-weight: bold;display: inline-block;line-height: 1.2em;}#sk-container-id-2 div.sk-label-container {text-align: center;}#sk-container-id-2 div.sk-container {/* jupyter's `normalize.less` sets `[hidden] { display: none; }` but bootstrap.min.css set `[hidden] { display: none !important; }` so we also need the `!important` here to be able to override the default hidden behavior on the sphinx rendered scikit-learn.org. See: https://github.com/scikit-learn/scikit-learn/issues/21755 */display: inline-block !important;position: relative;}#sk-container-id-2 div.sk-text-repr-fallback {display: none;}</style><div id=\"sk-container-id-2\" class=\"sk-top-container\"><div class=\"sk-text-repr-fallback\"><pre>GridSearchCV(cv=3, estimator=KNeighborsRegressor(), n_jobs=-1,\n",
              "             param_grid={&#x27;n_neighbors&#x27;: array([ 2,  4,  6,  8, 10, 12, 14, 16, 18, 20, 22, 24, 26, 28]),\n",
              "                         &#x27;p&#x27;: [1, 2], &#x27;weights&#x27;: [&#x27;uniform&#x27;, &#x27;distance&#x27;]},\n",
              "             scoring=&#x27;neg_mean_squared_error&#x27;, verbose=2)</pre><b>In a Jupyter environment, please rerun this cell to show the HTML representation or trust the notebook. <br />On GitHub, the HTML representation is unable to render, please try loading this page with nbviewer.org.</b></div><div class=\"sk-container\" hidden><div class=\"sk-item sk-dashed-wrapped\"><div class=\"sk-label-container\"><div class=\"sk-label sk-toggleable\"><input class=\"sk-toggleable__control sk-hidden--visually\" id=\"sk-estimator-id-4\" type=\"checkbox\" ><label for=\"sk-estimator-id-4\" class=\"sk-toggleable__label sk-toggleable__label-arrow\">GridSearchCV</label><div class=\"sk-toggleable__content\"><pre>GridSearchCV(cv=3, estimator=KNeighborsRegressor(), n_jobs=-1,\n",
              "             param_grid={&#x27;n_neighbors&#x27;: array([ 2,  4,  6,  8, 10, 12, 14, 16, 18, 20, 22, 24, 26, 28]),\n",
              "                         &#x27;p&#x27;: [1, 2], &#x27;weights&#x27;: [&#x27;uniform&#x27;, &#x27;distance&#x27;]},\n",
              "             scoring=&#x27;neg_mean_squared_error&#x27;, verbose=2)</pre></div></div></div><div class=\"sk-parallel\"><div class=\"sk-parallel-item\"><div class=\"sk-item\"><div class=\"sk-label-container\"><div class=\"sk-label sk-toggleable\"><input class=\"sk-toggleable__control sk-hidden--visually\" id=\"sk-estimator-id-5\" type=\"checkbox\" ><label for=\"sk-estimator-id-5\" class=\"sk-toggleable__label sk-toggleable__label-arrow\">estimator: KNeighborsRegressor</label><div class=\"sk-toggleable__content\"><pre>KNeighborsRegressor()</pre></div></div></div><div class=\"sk-serial\"><div class=\"sk-item\"><div class=\"sk-estimator sk-toggleable\"><input class=\"sk-toggleable__control sk-hidden--visually\" id=\"sk-estimator-id-6\" type=\"checkbox\" ><label for=\"sk-estimator-id-6\" class=\"sk-toggleable__label sk-toggleable__label-arrow\">KNeighborsRegressor</label><div class=\"sk-toggleable__content\"><pre>KNeighborsRegressor()</pre></div></div></div></div></div></div></div></div></div></div>"
            ]
          },
          "metadata": {},
          "execution_count": 53
        }
      ]
    },
    {
      "cell_type": "code",
      "source": [
        "gs.best_params_"
      ],
      "metadata": {
        "colab": {
          "base_uri": "https://localhost:8080/"
        },
        "id": "RhODrmQFNASb",
        "outputId": "ecc50601-0306-42da-b30f-500a9d6628a1"
      },
      "execution_count": 54,
      "outputs": [
        {
          "output_type": "execute_result",
          "data": {
            "text/plain": [
              "{'n_neighbors': 28, 'p': 1, 'weights': 'uniform'}"
            ]
          },
          "metadata": {},
          "execution_count": 54
        }
      ]
    },
    {
      "cell_type": "markdown",
      "source": [
        "### Задание 4\n",
        "\n",
        "Вычислите качество наилучшей найденной модели на тестовых данных (MAE), ответ округлите до целого числа."
      ],
      "metadata": {
        "id": "-d-987N3DXfa"
      }
    },
    {
      "cell_type": "code",
      "source": [
        "mean_absolute_error(y_test, gs.best_estimator_.predict(X_test))"
      ],
      "metadata": {
        "id": "HJH03FCZDSuJ",
        "colab": {
          "base_uri": "https://localhost:8080/"
        },
        "outputId": "0b68c89b-d239-492e-f350-49564e2209f9"
      },
      "execution_count": 55,
      "outputs": [
        {
          "output_type": "execute_result",
          "data": {
            "text/plain": [
              "784.8629970052249"
            ]
          },
          "metadata": {},
          "execution_count": 55
        }
      ]
    },
    {
      "cell_type": "markdown",
      "source": [
        "### Задание 5\n",
        "\n",
        "Постройте explainer dashboard для наилучшей модели (на первых 1000 объектах тестовой выборки).\n",
        "\n",
        "Какой признак по методу SHAP самый важный для модели?"
      ],
      "metadata": {
        "id": "XbigNonID2lY"
      }
    },
    {
      "cell_type": "code",
      "source": [
        "explainer = RegressionExplainer(gs.best_estimator_, X_test.iloc[:1000], y_test.iloc[:1000])"
      ],
      "metadata": {
        "id": "MofWwAQqDmH2",
        "colab": {
          "base_uri": "https://localhost:8080/"
        },
        "outputId": "bfee4e0a-d17e-43d5-9eb7-20e4bec9c53e"
      },
      "execution_count": 62,
      "outputs": [
        {
          "output_type": "stream",
          "name": "stdout",
          "text": [
            "WARNING: Parameter shap='guess', but failed to guess the type of shap explainer to use for KNeighborsRegressor. Defaulting to the model agnostic shap.KernelExplainer (shap='kernel'). However this will be slow, so if your model is compatible with e.g. shap.TreeExplainer or shap.LinearExplainer then pass shap='tree' or shap='linear'!\n",
            "WARNING: For shap='kernel', shap interaction values can unfortunately not be calculated!\n",
            "Warning: shap values for shap.KernelExplainer get calculated against X_background, but paramater X_background=None, so using shap.sample(X, 50) instead\n",
            "Generating self.shap_explainer = shap.KernelExplainer(model, X)...\n"
          ]
        }
      ]
    },
    {
      "cell_type": "code",
      "source": [
        "explainer.columns_ranked_by_shap()"
      ],
      "metadata": {
        "colab": {
          "base_uri": "https://localhost:8080/"
        },
        "id": "qwsXCL19Tu5f",
        "outputId": "d856bbe0-7e60-4bcf-e764-07447ac614d0"
      },
      "execution_count": 69,
      "outputs": [
        {
          "output_type": "execute_result",
          "data": {
            "text/plain": [
              "[\"'y'\", \"'x'\", \"'z'\", 'carat', 'depth', 'table']"
            ]
          },
          "metadata": {},
          "execution_count": 69
        }
      ]
    },
    {
      "cell_type": "code",
      "source": [
        "db = ExplainerDashboard(explainer)"
      ],
      "metadata": {
        "colab": {
          "base_uri": "https://localhost:8080/",
          "height": 371,
          "referenced_widgets": [
            "4620829485d045f1bb89122b36915144",
            "b5cbb4c50be2438e88a9b2600ba32110",
            "5df01af71678454fb4db1ec548a8c638",
            "9e2f326a5659465698866b5127ba6d69",
            "a43d3e72fd164a39953d14c312905d50",
            "cc359493df894421af44f502753710e9",
            "4c9926f1e53547068ddc34f94839f4e7",
            "6d177c975b19423bacdbe6382e191896",
            "6b0216bcff1647478a4811b05abc9a6e",
            "a5f2d46463b4436eabacad544c3da9ef",
            "00e5ca7a76dd4555b5b5d35757a4d232"
          ]
        },
        "id": "RmIJcs0nOC8C",
        "outputId": "4f55ad84-beb7-490e-9879-458e8b216bd2"
      },
      "execution_count": 63,
      "outputs": [
        {
          "output_type": "stream",
          "name": "stdout",
          "text": [
            "Building ExplainerDashboard..\n",
            "Detected google colab environment, setting mode='external'\n",
            "For this type of model and model_output interactions don't work, so setting shap_interaction=False...\n",
            "The explainer object has no decision_trees property. so setting decision_trees=False...\n",
            "Generating layout...\n",
            "Calculating shap values...\n"
          ]
        },
        {
          "output_type": "stream",
          "name": "stderr",
          "text": [
            "/usr/local/lib/python3.10/dist-packages/dash/dash.py:538: UserWarning:\n",
            "\n",
            "JupyterDash is deprecated, use Dash instead.\n",
            "See https://dash.plotly.com/dash-in-jupyter for more details.\n",
            "\n"
          ]
        },
        {
          "output_type": "display_data",
          "data": {
            "text/plain": [
              "  0%|          | 0/1000 [00:00<?, ?it/s]"
            ],
            "application/vnd.jupyter.widget-view+json": {
              "version_major": 2,
              "version_minor": 0,
              "model_id": "4620829485d045f1bb89122b36915144"
            }
          },
          "metadata": {}
        },
        {
          "output_type": "stream",
          "name": "stdout",
          "text": [
            "Calculating predictions...\n",
            "Calculating residuals...\n",
            "Calculating absolute residuals...\n",
            "Calculating dependencies...\n",
            "Calculating importances...\n",
            "Reminder: you can store the explainer (including calculated dependencies) with explainer.dump('explainer.joblib') and reload with e.g. ClassifierExplainer.from_file('explainer.joblib')\n",
            "Registering callbacks...\n"
          ]
        }
      ]
    },
    {
      "cell_type": "code",
      "source": [
        "ExplainerDashboard.terminate(8050)"
      ],
      "metadata": {
        "colab": {
          "base_uri": "https://localhost:8080/"
        },
        "id": "jOs_w9sETcZm",
        "outputId": "a6930e26-8c16-4dbc-bfde-f211f70cdd79"
      },
      "execution_count": 66,
      "outputs": [
        {
          "output_type": "stream",
          "name": "stdout",
          "text": [
            "Trying to shut down dashboard on port 8050...\n"
          ]
        }
      ]
    },
    {
      "cell_type": "code",
      "source": [
        "# db.run()"
      ],
      "metadata": {
        "id": "2TBof96jQNNE"
      },
      "execution_count": 124,
      "outputs": []
    },
    {
      "cell_type": "markdown",
      "source": [
        "### Задание 6\n",
        "\n",
        "По explainer dashboard ответьте, чему равен прогноз модели для объекта с индексом 32390?\n",
        "\n",
        "Ответ округлите до целого числа."
      ],
      "metadata": {
        "id": "rU1imGJzJuJY"
      }
    },
    {
      "cell_type": "code",
      "source": [
        "explainer.prediction_result_df(index='32390')"
      ],
      "metadata": {
        "colab": {
          "base_uri": "https://localhost:8080/",
          "height": 143
        },
        "id": "I3-XuoqeYWMH",
        "outputId": "086a625c-716b-4cb1-9629-e7e708bc360b"
      },
      "execution_count": 132,
      "outputs": [
        {
          "output_type": "execute_result",
          "data": {
            "text/plain": [
              "                 price\n",
              "0  Predicted  793.893 \n",
              "1   Observed  795.000 \n",
              "2   Residual    1.107 "
            ],
            "text/html": [
              "\n",
              "  <div id=\"df-30cb9cc0-cf8b-4b87-81c8-5916883de2d7\" class=\"colab-df-container\">\n",
              "    <div>\n",
              "<style scoped>\n",
              "    .dataframe tbody tr th:only-of-type {\n",
              "        vertical-align: middle;\n",
              "    }\n",
              "\n",
              "    .dataframe tbody tr th {\n",
              "        vertical-align: top;\n",
              "    }\n",
              "\n",
              "    .dataframe thead th {\n",
              "        text-align: right;\n",
              "    }\n",
              "</style>\n",
              "<table border=\"1\" class=\"dataframe\">\n",
              "  <thead>\n",
              "    <tr style=\"text-align: right;\">\n",
              "      <th></th>\n",
              "      <th></th>\n",
              "      <th>price</th>\n",
              "    </tr>\n",
              "  </thead>\n",
              "  <tbody>\n",
              "    <tr>\n",
              "      <th>0</th>\n",
              "      <td>Predicted</td>\n",
              "      <td>793.893</td>\n",
              "    </tr>\n",
              "    <tr>\n",
              "      <th>1</th>\n",
              "      <td>Observed</td>\n",
              "      <td>795.000</td>\n",
              "    </tr>\n",
              "    <tr>\n",
              "      <th>2</th>\n",
              "      <td>Residual</td>\n",
              "      <td>1.107</td>\n",
              "    </tr>\n",
              "  </tbody>\n",
              "</table>\n",
              "</div>\n",
              "    <div class=\"colab-df-buttons\">\n",
              "\n",
              "  <div class=\"colab-df-container\">\n",
              "    <button class=\"colab-df-convert\" onclick=\"convertToInteractive('df-30cb9cc0-cf8b-4b87-81c8-5916883de2d7')\"\n",
              "            title=\"Convert this dataframe to an interactive table.\"\n",
              "            style=\"display:none;\">\n",
              "\n",
              "  <svg xmlns=\"http://www.w3.org/2000/svg\" height=\"24px\" viewBox=\"0 -960 960 960\">\n",
              "    <path d=\"M120-120v-720h720v720H120Zm60-500h600v-160H180v160Zm220 220h160v-160H400v160Zm0 220h160v-160H400v160ZM180-400h160v-160H180v160Zm440 0h160v-160H620v160ZM180-180h160v-160H180v160Zm440 0h160v-160H620v160Z\"/>\n",
              "  </svg>\n",
              "    </button>\n",
              "\n",
              "  <style>\n",
              "    .colab-df-container {\n",
              "      display:flex;\n",
              "      gap: 12px;\n",
              "    }\n",
              "\n",
              "    .colab-df-convert {\n",
              "      background-color: #E8F0FE;\n",
              "      border: none;\n",
              "      border-radius: 50%;\n",
              "      cursor: pointer;\n",
              "      display: none;\n",
              "      fill: #1967D2;\n",
              "      height: 32px;\n",
              "      padding: 0 0 0 0;\n",
              "      width: 32px;\n",
              "    }\n",
              "\n",
              "    .colab-df-convert:hover {\n",
              "      background-color: #E2EBFA;\n",
              "      box-shadow: 0px 1px 2px rgba(60, 64, 67, 0.3), 0px 1px 3px 1px rgba(60, 64, 67, 0.15);\n",
              "      fill: #174EA6;\n",
              "    }\n",
              "\n",
              "    .colab-df-buttons div {\n",
              "      margin-bottom: 4px;\n",
              "    }\n",
              "\n",
              "    [theme=dark] .colab-df-convert {\n",
              "      background-color: #3B4455;\n",
              "      fill: #D2E3FC;\n",
              "    }\n",
              "\n",
              "    [theme=dark] .colab-df-convert:hover {\n",
              "      background-color: #434B5C;\n",
              "      box-shadow: 0px 1px 3px 1px rgba(0, 0, 0, 0.15);\n",
              "      filter: drop-shadow(0px 1px 2px rgba(0, 0, 0, 0.3));\n",
              "      fill: #FFFFFF;\n",
              "    }\n",
              "  </style>\n",
              "\n",
              "    <script>\n",
              "      const buttonEl =\n",
              "        document.querySelector('#df-30cb9cc0-cf8b-4b87-81c8-5916883de2d7 button.colab-df-convert');\n",
              "      buttonEl.style.display =\n",
              "        google.colab.kernel.accessAllowed ? 'block' : 'none';\n",
              "\n",
              "      async function convertToInteractive(key) {\n",
              "        const element = document.querySelector('#df-30cb9cc0-cf8b-4b87-81c8-5916883de2d7');\n",
              "        const dataTable =\n",
              "          await google.colab.kernel.invokeFunction('convertToInteractive',\n",
              "                                                    [key], {});\n",
              "        if (!dataTable) return;\n",
              "\n",
              "        const docLinkHtml = 'Like what you see? Visit the ' +\n",
              "          '<a target=\"_blank\" href=https://colab.research.google.com/notebooks/data_table.ipynb>data table notebook</a>'\n",
              "          + ' to learn more about interactive tables.';\n",
              "        element.innerHTML = '';\n",
              "        dataTable['output_type'] = 'display_data';\n",
              "        await google.colab.output.renderOutput(dataTable, element);\n",
              "        const docLink = document.createElement('div');\n",
              "        docLink.innerHTML = docLinkHtml;\n",
              "        element.appendChild(docLink);\n",
              "      }\n",
              "    </script>\n",
              "  </div>\n",
              "\n",
              "\n",
              "<div id=\"df-f9c62c48-ae0e-47a8-b2c7-b981b656bb32\">\n",
              "  <button class=\"colab-df-quickchart\" onclick=\"quickchart('df-f9c62c48-ae0e-47a8-b2c7-b981b656bb32')\"\n",
              "            title=\"Suggest charts.\"\n",
              "            style=\"display:none;\">\n",
              "\n",
              "<svg xmlns=\"http://www.w3.org/2000/svg\" height=\"24px\"viewBox=\"0 0 24 24\"\n",
              "     width=\"24px\">\n",
              "    <g>\n",
              "        <path d=\"M19 3H5c-1.1 0-2 .9-2 2v14c0 1.1.9 2 2 2h14c1.1 0 2-.9 2-2V5c0-1.1-.9-2-2-2zM9 17H7v-7h2v7zm4 0h-2V7h2v10zm4 0h-2v-4h2v4z\"/>\n",
              "    </g>\n",
              "</svg>\n",
              "  </button>\n",
              "\n",
              "<style>\n",
              "  .colab-df-quickchart {\n",
              "      --bg-color: #E8F0FE;\n",
              "      --fill-color: #1967D2;\n",
              "      --hover-bg-color: #E2EBFA;\n",
              "      --hover-fill-color: #174EA6;\n",
              "      --disabled-fill-color: #AAA;\n",
              "      --disabled-bg-color: #DDD;\n",
              "  }\n",
              "\n",
              "  [theme=dark] .colab-df-quickchart {\n",
              "      --bg-color: #3B4455;\n",
              "      --fill-color: #D2E3FC;\n",
              "      --hover-bg-color: #434B5C;\n",
              "      --hover-fill-color: #FFFFFF;\n",
              "      --disabled-bg-color: #3B4455;\n",
              "      --disabled-fill-color: #666;\n",
              "  }\n",
              "\n",
              "  .colab-df-quickchart {\n",
              "    background-color: var(--bg-color);\n",
              "    border: none;\n",
              "    border-radius: 50%;\n",
              "    cursor: pointer;\n",
              "    display: none;\n",
              "    fill: var(--fill-color);\n",
              "    height: 32px;\n",
              "    padding: 0;\n",
              "    width: 32px;\n",
              "  }\n",
              "\n",
              "  .colab-df-quickchart:hover {\n",
              "    background-color: var(--hover-bg-color);\n",
              "    box-shadow: 0 1px 2px rgba(60, 64, 67, 0.3), 0 1px 3px 1px rgba(60, 64, 67, 0.15);\n",
              "    fill: var(--button-hover-fill-color);\n",
              "  }\n",
              "\n",
              "  .colab-df-quickchart-complete:disabled,\n",
              "  .colab-df-quickchart-complete:disabled:hover {\n",
              "    background-color: var(--disabled-bg-color);\n",
              "    fill: var(--disabled-fill-color);\n",
              "    box-shadow: none;\n",
              "  }\n",
              "\n",
              "  .colab-df-spinner {\n",
              "    border: 2px solid var(--fill-color);\n",
              "    border-color: transparent;\n",
              "    border-bottom-color: var(--fill-color);\n",
              "    animation:\n",
              "      spin 1s steps(1) infinite;\n",
              "  }\n",
              "\n",
              "  @keyframes spin {\n",
              "    0% {\n",
              "      border-color: transparent;\n",
              "      border-bottom-color: var(--fill-color);\n",
              "      border-left-color: var(--fill-color);\n",
              "    }\n",
              "    20% {\n",
              "      border-color: transparent;\n",
              "      border-left-color: var(--fill-color);\n",
              "      border-top-color: var(--fill-color);\n",
              "    }\n",
              "    30% {\n",
              "      border-color: transparent;\n",
              "      border-left-color: var(--fill-color);\n",
              "      border-top-color: var(--fill-color);\n",
              "      border-right-color: var(--fill-color);\n",
              "    }\n",
              "    40% {\n",
              "      border-color: transparent;\n",
              "      border-right-color: var(--fill-color);\n",
              "      border-top-color: var(--fill-color);\n",
              "    }\n",
              "    60% {\n",
              "      border-color: transparent;\n",
              "      border-right-color: var(--fill-color);\n",
              "    }\n",
              "    80% {\n",
              "      border-color: transparent;\n",
              "      border-right-color: var(--fill-color);\n",
              "      border-bottom-color: var(--fill-color);\n",
              "    }\n",
              "    90% {\n",
              "      border-color: transparent;\n",
              "      border-bottom-color: var(--fill-color);\n",
              "    }\n",
              "  }\n",
              "</style>\n",
              "\n",
              "  <script>\n",
              "    async function quickchart(key) {\n",
              "      const quickchartButtonEl =\n",
              "        document.querySelector('#' + key + ' button');\n",
              "      quickchartButtonEl.disabled = true;  // To prevent multiple clicks.\n",
              "      quickchartButtonEl.classList.add('colab-df-spinner');\n",
              "      try {\n",
              "        const charts = await google.colab.kernel.invokeFunction(\n",
              "            'suggestCharts', [key], {});\n",
              "      } catch (error) {\n",
              "        console.error('Error during call to suggestCharts:', error);\n",
              "      }\n",
              "      quickchartButtonEl.classList.remove('colab-df-spinner');\n",
              "      quickchartButtonEl.classList.add('colab-df-quickchart-complete');\n",
              "    }\n",
              "    (() => {\n",
              "      let quickchartButtonEl =\n",
              "        document.querySelector('#df-f9c62c48-ae0e-47a8-b2c7-b981b656bb32 button');\n",
              "      quickchartButtonEl.style.display =\n",
              "        google.colab.kernel.accessAllowed ? 'block' : 'none';\n",
              "    })();\n",
              "  </script>\n",
              "</div>\n",
              "    </div>\n",
              "  </div>\n"
            ]
          },
          "metadata": {},
          "execution_count": 132
        }
      ]
    },
    {
      "cell_type": "markdown",
      "source": [
        "### Задание 7\n",
        "\n",
        "По explainer dashboard ответьте, какой признак с точки зрения подхода SHAP дает наибольший вклад в прогноз на объекте с индексом 6234?"
      ],
      "metadata": {
        "id": "aIneLQy3LWiS"
      }
    },
    {
      "cell_type": "code",
      "source": [
        "explainer.get_shap_row(index='6234')"
      ],
      "metadata": {
        "colab": {
          "base_uri": "https://localhost:8080/",
          "height": 81
        },
        "id": "54jNgk1mT-4e",
        "outputId": "ec02f4b5-8ccb-40de-b7ef-920942a02967"
      },
      "execution_count": 123,
      "outputs": [
        {
          "output_type": "execute_result",
          "data": {
            "text/plain": [
              "         carat       depth     table         'x'         'y'        'z'\n",
              "26 -123.218167  190.205964 -140.3405 -143.527488 -166.195845 -80.702536"
            ],
            "text/html": [
              "\n",
              "  <div id=\"df-28fe8f70-4a04-476e-be3b-ce266ee9d624\" class=\"colab-df-container\">\n",
              "    <div>\n",
              "<style scoped>\n",
              "    .dataframe tbody tr th:only-of-type {\n",
              "        vertical-align: middle;\n",
              "    }\n",
              "\n",
              "    .dataframe tbody tr th {\n",
              "        vertical-align: top;\n",
              "    }\n",
              "\n",
              "    .dataframe thead th {\n",
              "        text-align: right;\n",
              "    }\n",
              "</style>\n",
              "<table border=\"1\" class=\"dataframe\">\n",
              "  <thead>\n",
              "    <tr style=\"text-align: right;\">\n",
              "      <th></th>\n",
              "      <th>carat</th>\n",
              "      <th>depth</th>\n",
              "      <th>table</th>\n",
              "      <th>'x'</th>\n",
              "      <th>'y'</th>\n",
              "      <th>'z'</th>\n",
              "    </tr>\n",
              "  </thead>\n",
              "  <tbody>\n",
              "    <tr>\n",
              "      <th>26</th>\n",
              "      <td>-123.218167</td>\n",
              "      <td>190.205964</td>\n",
              "      <td>-140.3405</td>\n",
              "      <td>-143.527488</td>\n",
              "      <td>-166.195845</td>\n",
              "      <td>-80.702536</td>\n",
              "    </tr>\n",
              "  </tbody>\n",
              "</table>\n",
              "</div>\n",
              "    <div class=\"colab-df-buttons\">\n",
              "\n",
              "  <div class=\"colab-df-container\">\n",
              "    <button class=\"colab-df-convert\" onclick=\"convertToInteractive('df-28fe8f70-4a04-476e-be3b-ce266ee9d624')\"\n",
              "            title=\"Convert this dataframe to an interactive table.\"\n",
              "            style=\"display:none;\">\n",
              "\n",
              "  <svg xmlns=\"http://www.w3.org/2000/svg\" height=\"24px\" viewBox=\"0 -960 960 960\">\n",
              "    <path d=\"M120-120v-720h720v720H120Zm60-500h600v-160H180v160Zm220 220h160v-160H400v160Zm0 220h160v-160H400v160ZM180-400h160v-160H180v160Zm440 0h160v-160H620v160ZM180-180h160v-160H180v160Zm440 0h160v-160H620v160Z\"/>\n",
              "  </svg>\n",
              "    </button>\n",
              "\n",
              "  <style>\n",
              "    .colab-df-container {\n",
              "      display:flex;\n",
              "      gap: 12px;\n",
              "    }\n",
              "\n",
              "    .colab-df-convert {\n",
              "      background-color: #E8F0FE;\n",
              "      border: none;\n",
              "      border-radius: 50%;\n",
              "      cursor: pointer;\n",
              "      display: none;\n",
              "      fill: #1967D2;\n",
              "      height: 32px;\n",
              "      padding: 0 0 0 0;\n",
              "      width: 32px;\n",
              "    }\n",
              "\n",
              "    .colab-df-convert:hover {\n",
              "      background-color: #E2EBFA;\n",
              "      box-shadow: 0px 1px 2px rgba(60, 64, 67, 0.3), 0px 1px 3px 1px rgba(60, 64, 67, 0.15);\n",
              "      fill: #174EA6;\n",
              "    }\n",
              "\n",
              "    .colab-df-buttons div {\n",
              "      margin-bottom: 4px;\n",
              "    }\n",
              "\n",
              "    [theme=dark] .colab-df-convert {\n",
              "      background-color: #3B4455;\n",
              "      fill: #D2E3FC;\n",
              "    }\n",
              "\n",
              "    [theme=dark] .colab-df-convert:hover {\n",
              "      background-color: #434B5C;\n",
              "      box-shadow: 0px 1px 3px 1px rgba(0, 0, 0, 0.15);\n",
              "      filter: drop-shadow(0px 1px 2px rgba(0, 0, 0, 0.3));\n",
              "      fill: #FFFFFF;\n",
              "    }\n",
              "  </style>\n",
              "\n",
              "    <script>\n",
              "      const buttonEl =\n",
              "        document.querySelector('#df-28fe8f70-4a04-476e-be3b-ce266ee9d624 button.colab-df-convert');\n",
              "      buttonEl.style.display =\n",
              "        google.colab.kernel.accessAllowed ? 'block' : 'none';\n",
              "\n",
              "      async function convertToInteractive(key) {\n",
              "        const element = document.querySelector('#df-28fe8f70-4a04-476e-be3b-ce266ee9d624');\n",
              "        const dataTable =\n",
              "          await google.colab.kernel.invokeFunction('convertToInteractive',\n",
              "                                                    [key], {});\n",
              "        if (!dataTable) return;\n",
              "\n",
              "        const docLinkHtml = 'Like what you see? Visit the ' +\n",
              "          '<a target=\"_blank\" href=https://colab.research.google.com/notebooks/data_table.ipynb>data table notebook</a>'\n",
              "          + ' to learn more about interactive tables.';\n",
              "        element.innerHTML = '';\n",
              "        dataTable['output_type'] = 'display_data';\n",
              "        await google.colab.output.renderOutput(dataTable, element);\n",
              "        const docLink = document.createElement('div');\n",
              "        docLink.innerHTML = docLinkHtml;\n",
              "        element.appendChild(docLink);\n",
              "      }\n",
              "    </script>\n",
              "  </div>\n",
              "\n",
              "    </div>\n",
              "  </div>\n"
            ]
          },
          "metadata": {},
          "execution_count": 123
        }
      ]
    }
  ]
}