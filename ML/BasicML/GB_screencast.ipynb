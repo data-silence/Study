{
  "nbformat": 4,
  "nbformat_minor": 0,
  "metadata": {
    "colab": {
      "provenance": []
    },
    "kernelspec": {
      "name": "python3",
      "display_name": "Python 3"
    },
    "language_info": {
      "name": "python"
    }
  },
  "cells": [
    {
      "cell_type": "markdown",
      "source": [
        "# Градиентный бустинг (Gradient Boosting)\n",
        "\n",
        "В программе:\n",
        "* обучение бустинга и сравнение с лесом\n",
        "* подбор гиперпараметров бустинга\n",
        "* зависимость качества от числа деревьев"
      ],
      "metadata": {
        "id": "jwQOvxGpni_6"
      }
    },
    {
      "cell_type": "code",
      "execution_count": null,
      "metadata": {
        "id": "4Irgm907fQZJ"
      },
      "outputs": [],
      "source": [
        "import numpy as np\n",
        "import pandas as pd\n",
        "from matplotlib import pyplot as plt\n",
        "\n",
        "from sklearn.preprocessing import StandardScaler\n",
        "from sklearn.model_selection import train_test_split, cross_val_score, GridSearchCV\n",
        "from sklearn.datasets import fetch_california_housing\n",
        "\n",
        "from sklearn.ensemble import RandomForestRegressor, GradientBoostingRegressor\n",
        "\n",
        "from sklearn.metrics import r2_score"
      ]
    },
    {
      "cell_type": "code",
      "source": [
        "RANDOM_STATE = 42"
      ],
      "metadata": {
        "id": "l9Zz_tedfWzS"
      },
      "execution_count": null,
      "outputs": []
    },
    {
      "cell_type": "code",
      "source": [
        "data = fetch_california_housing(as_frame=True)\n",
        "\n",
        "X = data.data\n",
        "y = data.target"
      ],
      "metadata": {
        "id": "2ERpGXd7fW2m"
      },
      "execution_count": null,
      "outputs": []
    },
    {
      "cell_type": "markdown",
      "source": [
        "## 1. Сравнение дерева и леса"
      ],
      "metadata": {
        "id": "o1wQyK-VouS4"
      }
    },
    {
      "cell_type": "code",
      "source": [
        "rf = RandomForestRegressor()\n",
        "\n",
        "cross_val_score(rf, X, y, cv=3, scoring='r2').mean()"
      ],
      "metadata": {
        "id": "bevG_CybfW6d",
        "colab": {
          "base_uri": "https://localhost:8080/"
        },
        "outputId": "0c9d7330-2052-4df8-f1bd-92e9b563245d"
      },
      "execution_count": null,
      "outputs": [
        {
          "output_type": "execute_result",
          "data": {
            "text/plain": [
              "0.6550731065121949"
            ]
          },
          "metadata": {},
          "execution_count": 4
        }
      ]
    },
    {
      "cell_type": "code",
      "source": [
        "gb = GradientBoostingRegressor()\n",
        "\n",
        "cross_val_score(gb, X, y, cv=3, scoring='r2').mean()"
      ],
      "metadata": {
        "id": "BynDIsscgM_m",
        "colab": {
          "base_uri": "https://localhost:8080/"
        },
        "outputId": "e1ad1143-c62f-4a98-ab7e-d64a3ccee095"
      },
      "execution_count": null,
      "outputs": [
        {
          "output_type": "execute_result",
          "data": {
            "text/plain": [
              "0.6800438496919287"
            ]
          },
          "metadata": {},
          "execution_count": 5
        }
      ]
    },
    {
      "cell_type": "markdown",
      "source": [
        "## 2. Подбор гиперпараметров бустинга\n",
        "\n",
        "Напомним, как мы действуем при подборе гиперпараметров:\n",
        "* разбиваем данные на *train* и *test*\n",
        "* на *train* по кросс-валидации при помощи `GridSearchCV` ищем наилучшие гиперпараметры модели\n",
        "* оцениваем качество модели с наилучшими гиперпараметрами на *test*"
      ],
      "metadata": {
        "id": "kR7QkqUbgZJ9"
      }
    },
    {
      "cell_type": "code",
      "source": [
        "Xtrain, Xtest, ytrain, ytest = train_test_split(X, y, test_size=0.3, random_state=RANDOM_STATE)"
      ],
      "metadata": {
        "id": "ZQ3DfdCsgSpf"
      },
      "execution_count": null,
      "outputs": []
    },
    {
      "cell_type": "markdown",
      "source": [
        "### Гиперпараметры бустинга (gradient boosting)\n",
        "\n",
        "* `n_estimators=100` - число деревьев в лесе \n",
        "* `learning_rate=0.1` - градиентный шаг (= степень доверия каждой модели в композиции)\n",
        "* гиперпараметры деревьев (обсуждали раньше):\n",
        "  * `criterion='squared_error'`\n",
        "  * `max_depth=None`\n",
        "  * `min_samples_split=2`\n",
        "  * ...\n",
        "  * `random_state=None`\n"
      ],
      "metadata": {
        "id": "73-P0Qdugz7X"
      }
    },
    {
      "cell_type": "code",
      "source": [
        "params = {'n_estimators': np.arange(10, 200, 20),\n",
        "          'max_depth': np.arange(2, 20, 3)}\n",
        "\n",
        "gs = GridSearchCV(GradientBoostingRegressor(), params, cv=3, scoring='r2', verbose=2)\n",
        "\n",
        "gs.fit(Xtrain, ytrain)"
      ],
      "metadata": {
        "colab": {
          "base_uri": "https://localhost:8080/"
        },
        "id": "nPvPF01rgu0d",
        "outputId": "2e27df9f-7d02-4bce-ad0b-6551b45ef241"
      },
      "execution_count": null,
      "outputs": [
        {
          "output_type": "stream",
          "name": "stdout",
          "text": [
            "Fitting 3 folds for each of 60 candidates, totalling 180 fits\n",
            "[CV] END .......................max_depth=2, n_estimators=10; total time=   0.2s\n",
            "[CV] END .......................max_depth=2, n_estimators=10; total time=   0.2s\n",
            "[CV] END .......................max_depth=2, n_estimators=10; total time=   0.2s\n",
            "[CV] END .......................max_depth=2, n_estimators=30; total time=   0.5s\n",
            "[CV] END .......................max_depth=2, n_estimators=30; total time=   0.5s\n",
            "[CV] END .......................max_depth=2, n_estimators=30; total time=   0.5s\n",
            "[CV] END .......................max_depth=2, n_estimators=50; total time=   1.1s\n",
            "[CV] END .......................max_depth=2, n_estimators=50; total time=   1.1s\n",
            "[CV] END .......................max_depth=2, n_estimators=50; total time=   0.9s\n",
            "[CV] END .......................max_depth=2, n_estimators=70; total time=   1.1s\n",
            "[CV] END .......................max_depth=2, n_estimators=70; total time=   1.1s\n",
            "[CV] END .......................max_depth=2, n_estimators=70; total time=   1.3s\n",
            "[CV] END .......................max_depth=2, n_estimators=90; total time=   1.9s\n",
            "[CV] END .......................max_depth=2, n_estimators=90; total time=   2.7s\n",
            "[CV] END .......................max_depth=2, n_estimators=90; total time=   4.5s\n",
            "[CV] END ......................max_depth=2, n_estimators=110; total time=   1.8s\n",
            "[CV] END ......................max_depth=2, n_estimators=110; total time=   1.7s\n",
            "[CV] END ......................max_depth=2, n_estimators=110; total time=   1.7s\n",
            "[CV] END ......................max_depth=2, n_estimators=130; total time=   2.1s\n",
            "[CV] END ......................max_depth=2, n_estimators=130; total time=   2.0s\n",
            "[CV] END ......................max_depth=2, n_estimators=130; total time=   2.6s\n",
            "[CV] END ......................max_depth=2, n_estimators=150; total time=   2.6s\n",
            "[CV] END ......................max_depth=2, n_estimators=150; total time=   3.0s\n",
            "[CV] END ......................max_depth=2, n_estimators=150; total time=   2.7s\n",
            "[CV] END ......................max_depth=2, n_estimators=170; total time=   3.1s\n",
            "[CV] END ......................max_depth=2, n_estimators=170; total time=   3.5s\n",
            "[CV] END ......................max_depth=2, n_estimators=170; total time=   3.0s\n",
            "[CV] END ......................max_depth=2, n_estimators=190; total time=   3.0s\n",
            "[CV] END ......................max_depth=2, n_estimators=190; total time=   3.0s\n",
            "[CV] END ......................max_depth=2, n_estimators=190; total time=   3.7s\n",
            "[CV] END .......................max_depth=5, n_estimators=10; total time=   0.4s\n",
            "[CV] END .......................max_depth=5, n_estimators=10; total time=   0.4s\n",
            "[CV] END .......................max_depth=5, n_estimators=10; total time=   0.4s\n",
            "[CV] END .......................max_depth=5, n_estimators=30; total time=   1.1s\n",
            "[CV] END .......................max_depth=5, n_estimators=30; total time=   1.1s\n",
            "[CV] END .......................max_depth=5, n_estimators=30; total time=   1.1s\n",
            "[CV] END .......................max_depth=5, n_estimators=50; total time=   1.8s\n",
            "[CV] END .......................max_depth=5, n_estimators=50; total time=   1.8s\n",
            "[CV] END .......................max_depth=5, n_estimators=50; total time=   2.3s\n",
            "[CV] END .......................max_depth=5, n_estimators=70; total time=   2.9s\n",
            "[CV] END .......................max_depth=5, n_estimators=70; total time=   2.6s\n",
            "[CV] END .......................max_depth=5, n_estimators=70; total time=   2.6s\n",
            "[CV] END .......................max_depth=5, n_estimators=90; total time=   3.4s\n",
            "[CV] END .......................max_depth=5, n_estimators=90; total time=   4.0s\n",
            "[CV] END .......................max_depth=5, n_estimators=90; total time=   3.3s\n",
            "[CV] END ......................max_depth=5, n_estimators=110; total time=   4.0s\n",
            "[CV] END ......................max_depth=5, n_estimators=110; total time=   5.1s\n",
            "[CV] END ......................max_depth=5, n_estimators=110; total time=   4.0s\n",
            "[CV] END ......................max_depth=5, n_estimators=130; total time=   5.6s\n",
            "[CV] END ......................max_depth=5, n_estimators=130; total time=   5.3s\n",
            "[CV] END ......................max_depth=5, n_estimators=130; total time=   4.8s\n",
            "[CV] END ......................max_depth=5, n_estimators=150; total time=   6.8s\n",
            "[CV] END ......................max_depth=5, n_estimators=150; total time=   5.5s\n",
            "[CV] END ......................max_depth=5, n_estimators=150; total time=   6.3s\n",
            "[CV] END ......................max_depth=5, n_estimators=170; total time=   6.2s\n",
            "[CV] END ......................max_depth=5, n_estimators=170; total time=   7.1s\n",
            "[CV] END ......................max_depth=5, n_estimators=170; total time=   6.2s\n",
            "[CV] END ......................max_depth=5, n_estimators=190; total time=   8.9s\n",
            "[CV] END ......................max_depth=5, n_estimators=190; total time=   7.4s\n",
            "[CV] END ......................max_depth=5, n_estimators=190; total time=   7.3s\n",
            "[CV] END .......................max_depth=8, n_estimators=10; total time=   0.6s\n",
            "[CV] END .......................max_depth=8, n_estimators=10; total time=   0.6s\n",
            "[CV] END .......................max_depth=8, n_estimators=10; total time=   0.6s\n",
            "[CV] END .......................max_depth=8, n_estimators=30; total time=   1.7s\n",
            "[CV] END .......................max_depth=8, n_estimators=30; total time=   2.1s\n",
            "[CV] END .......................max_depth=8, n_estimators=30; total time=   2.0s\n",
            "[CV] END .......................max_depth=8, n_estimators=50; total time=   2.8s\n",
            "[CV] END .......................max_depth=8, n_estimators=50; total time=   2.8s\n",
            "[CV] END .......................max_depth=8, n_estimators=50; total time=   2.8s\n",
            "[CV] END .......................max_depth=8, n_estimators=70; total time=   4.8s\n",
            "[CV] END .......................max_depth=8, n_estimators=70; total time=   4.0s\n",
            "[CV] END .......................max_depth=8, n_estimators=70; total time=   3.9s\n",
            "[CV] END .......................max_depth=8, n_estimators=90; total time=   5.9s\n",
            "[CV] END .......................max_depth=8, n_estimators=90; total time=   5.1s\n",
            "[CV] END .......................max_depth=8, n_estimators=90; total time=   5.9s\n",
            "[CV] END ......................max_depth=8, n_estimators=110; total time=   6.2s\n",
            "[CV] END ......................max_depth=8, n_estimators=110; total time=   7.0s\n",
            "[CV] END ......................max_depth=8, n_estimators=110; total time=   6.2s\n",
            "[CV] END ......................max_depth=8, n_estimators=130; total time=   8.1s\n",
            "[CV] END ......................max_depth=8, n_estimators=130; total time=   7.4s\n",
            "[CV] END ......................max_depth=8, n_estimators=130; total time=   8.2s\n",
            "[CV] END ......................max_depth=8, n_estimators=150; total time=   9.3s\n",
            "[CV] END ......................max_depth=8, n_estimators=150; total time=   8.7s\n",
            "[CV] END ......................max_depth=8, n_estimators=150; total time=   9.2s\n",
            "[CV] END ......................max_depth=8, n_estimators=170; total time=  10.4s\n",
            "[CV] END ......................max_depth=8, n_estimators=170; total time=  10.5s\n",
            "[CV] END ......................max_depth=8, n_estimators=170; total time=  10.6s\n",
            "[CV] END ......................max_depth=8, n_estimators=190; total time=  11.2s\n",
            "[CV] END ......................max_depth=8, n_estimators=190; total time=  11.2s\n",
            "[CV] END ......................max_depth=8, n_estimators=190; total time=  11.6s\n",
            "[CV] END ......................max_depth=11, n_estimators=10; total time=   0.7s\n",
            "[CV] END ......................max_depth=11, n_estimators=10; total time=   0.8s\n",
            "[CV] END ......................max_depth=11, n_estimators=10; total time=   1.1s\n",
            "[CV] END ......................max_depth=11, n_estimators=30; total time=   2.6s\n",
            "[CV] END ......................max_depth=11, n_estimators=30; total time=   2.2s\n",
            "[CV] END ......................max_depth=11, n_estimators=30; total time=   2.2s\n",
            "[CV] END ......................max_depth=11, n_estimators=50; total time=   3.7s\n",
            "[CV] END ......................max_depth=11, n_estimators=50; total time=   4.5s\n",
            "[CV] END ......................max_depth=11, n_estimators=50; total time=   3.7s\n",
            "[CV] END ......................max_depth=11, n_estimators=70; total time=   5.2s\n",
            "[CV] END ......................max_depth=11, n_estimators=70; total time=   6.0s\n",
            "[CV] END ......................max_depth=11, n_estimators=70; total time=   5.2s\n",
            "[CV] END ......................max_depth=11, n_estimators=90; total time=   7.5s\n",
            "[CV] END ......................max_depth=11, n_estimators=90; total time=   6.8s\n",
            "[CV] END ......................max_depth=11, n_estimators=90; total time=   7.6s\n",
            "[CV] END .....................max_depth=11, n_estimators=110; total time=   9.1s\n",
            "[CV] END .....................max_depth=11, n_estimators=110; total time=   8.2s\n",
            "[CV] END .....................max_depth=11, n_estimators=110; total time=   9.1s\n",
            "[CV] END .....................max_depth=11, n_estimators=130; total time=  10.6s\n",
            "[CV] END .....................max_depth=11, n_estimators=130; total time=  10.6s\n",
            "[CV] END .....................max_depth=11, n_estimators=130; total time=  10.2s\n",
            "[CV] END .....................max_depth=11, n_estimators=150; total time=  13.3s\n",
            "[CV] END .....................max_depth=11, n_estimators=150; total time=  12.2s\n",
            "[CV] END .....................max_depth=11, n_estimators=150; total time=  12.2s\n",
            "[CV] END .....................max_depth=11, n_estimators=170; total time=  13.9s\n",
            "[CV] END .....................max_depth=11, n_estimators=170; total time=  14.2s\n",
            "[CV] END .....................max_depth=11, n_estimators=170; total time=  13.9s\n",
            "[CV] END .....................max_depth=11, n_estimators=190; total time=  15.3s\n",
            "[CV] END .....................max_depth=11, n_estimators=190; total time=  15.3s\n",
            "[CV] END .....................max_depth=11, n_estimators=190; total time=  15.2s\n",
            "[CV] END ......................max_depth=14, n_estimators=10; total time=   0.9s\n",
            "[CV] END ......................max_depth=14, n_estimators=10; total time=   0.9s\n",
            "[CV] END ......................max_depth=14, n_estimators=10; total time=   1.1s\n",
            "[CV] END ......................max_depth=14, n_estimators=30; total time=   3.2s\n",
            "[CV] END ......................max_depth=14, n_estimators=30; total time=   2.6s\n",
            "[CV] END ......................max_depth=14, n_estimators=30; total time=   2.6s\n",
            "[CV] END ......................max_depth=14, n_estimators=50; total time=   4.6s\n",
            "[CV] END ......................max_depth=14, n_estimators=50; total time=   4.9s\n",
            "[CV] END ......................max_depth=14, n_estimators=50; total time=   4.3s\n",
            "[CV] END ......................max_depth=14, n_estimators=70; total time=   7.0s\n",
            "[CV] END ......................max_depth=14, n_estimators=70; total time=   6.1s\n",
            "[CV] END ......................max_depth=14, n_estimators=70; total time=   7.0s\n",
            "[CV] END ......................max_depth=14, n_estimators=90; total time=   8.0s\n",
            "[CV] END ......................max_depth=14, n_estimators=90; total time=   8.8s\n",
            "[CV] END ......................max_depth=14, n_estimators=90; total time=   8.8s\n",
            "[CV] END .....................max_depth=14, n_estimators=110; total time=  10.8s\n",
            "[CV] END .....................max_depth=14, n_estimators=110; total time=  10.0s\n",
            "[CV] END .....................max_depth=14, n_estimators=110; total time=  10.7s\n",
            "[CV] END .....................max_depth=14, n_estimators=130; total time=  12.7s\n",
            "[CV] END .....................max_depth=14, n_estimators=130; total time=  12.7s\n",
            "[CV] END .....................max_depth=14, n_estimators=130; total time=  12.7s\n",
            "[CV] END .....................max_depth=14, n_estimators=150; total time=  14.7s\n",
            "[CV] END .....................max_depth=14, n_estimators=150; total time=  15.2s\n",
            "[CV] END .....................max_depth=14, n_estimators=150; total time=  14.8s\n",
            "[CV] END .....................max_depth=14, n_estimators=170; total time=  16.6s\n",
            "[CV] END .....................max_depth=14, n_estimators=170; total time=  16.6s\n",
            "[CV] END .....................max_depth=14, n_estimators=170; total time=  17.4s\n",
            "[CV] END .....................max_depth=14, n_estimators=190; total time=  18.5s\n",
            "[CV] END .....................max_depth=14, n_estimators=190; total time=  19.3s\n",
            "[CV] END .....................max_depth=14, n_estimators=190; total time=  18.5s\n",
            "[CV] END ......................max_depth=17, n_estimators=10; total time=   1.0s\n",
            "[CV] END ......................max_depth=17, n_estimators=10; total time=   1.0s\n",
            "[CV] END ......................max_depth=17, n_estimators=10; total time=   1.0s\n",
            "[CV] END ......................max_depth=17, n_estimators=30; total time=   3.8s\n",
            "[CV] END ......................max_depth=17, n_estimators=30; total time=   2.9s\n",
            "[CV] END ......................max_depth=17, n_estimators=30; total time=   2.9s\n",
            "[CV] END ......................max_depth=17, n_estimators=50; total time=   5.1s\n",
            "[CV] END ......................max_depth=17, n_estimators=50; total time=   5.3s\n",
            "[CV] END ......................max_depth=17, n_estimators=50; total time=   4.8s\n",
            "[CV] END ......................max_depth=17, n_estimators=70; total time=   7.6s\n",
            "[CV] END ......................max_depth=17, n_estimators=70; total time=   6.7s\n",
            "[CV] END ......................max_depth=17, n_estimators=70; total time=   7.6s\n",
            "[CV] END ......................max_depth=17, n_estimators=90; total time=   9.6s\n",
            "[CV] END ......................max_depth=17, n_estimators=90; total time=   8.7s\n",
            "[CV] END ......................max_depth=17, n_estimators=90; total time=   9.5s\n",
            "[CV] END .....................max_depth=17, n_estimators=110; total time=  11.6s\n",
            "[CV] END .....................max_depth=17, n_estimators=110; total time=  11.5s\n",
            "[CV] END .....................max_depth=17, n_estimators=110; total time=  11.6s\n",
            "[CV] END .....................max_depth=17, n_estimators=130; total time=  13.7s\n",
            "[CV] END .....................max_depth=17, n_estimators=130; total time=  13.6s\n",
            "[CV] END .....................max_depth=17, n_estimators=130; total time=  13.8s\n",
            "[CV] END .....................max_depth=17, n_estimators=150; total time=  15.8s\n",
            "[CV] END .....................max_depth=17, n_estimators=150; total time=  16.7s\n",
            "[CV] END .....................max_depth=17, n_estimators=150; total time=  16.1s\n",
            "[CV] END .....................max_depth=17, n_estimators=170; total time=  18.0s\n",
            "[CV] END .....................max_depth=17, n_estimators=170; total time=  18.8s\n",
            "[CV] END .....................max_depth=17, n_estimators=170; total time=  18.3s\n",
            "[CV] END .....................max_depth=17, n_estimators=190; total time=  21.2s\n",
            "[CV] END .....................max_depth=17, n_estimators=190; total time=  20.6s\n",
            "[CV] END .....................max_depth=17, n_estimators=190; total time=  21.0s\n"
          ]
        },
        {
          "output_type": "execute_result",
          "data": {
            "text/plain": [
              "GridSearchCV(cv=3, estimator=GradientBoostingRegressor(),\n",
              "             param_grid={'max_depth': array([ 2,  5,  8, 11, 14, 17]),\n",
              "                         'n_estimators': array([ 10,  30,  50,  70,  90, 110, 130, 150, 170, 190])},\n",
              "             scoring='r2', verbose=2)"
            ]
          },
          "metadata": {},
          "execution_count": 7
        }
      ]
    },
    {
      "cell_type": "code",
      "source": [
        "gs.best_score_, gs.best_estimator_"
      ],
      "metadata": {
        "colab": {
          "base_uri": "https://localhost:8080/"
        },
        "id": "ESqrgsg_i7ME",
        "outputId": "4441767c-facb-478e-8d2b-149a4ebfba59"
      },
      "execution_count": null,
      "outputs": [
        {
          "output_type": "execute_result",
          "data": {
            "text/plain": [
              "(0.8244124183295582, GradientBoostingRegressor(max_depth=8, n_estimators=190))"
            ]
          },
          "metadata": {},
          "execution_count": 8
        }
      ]
    },
    {
      "cell_type": "code",
      "source": [
        "params = {'max_features': [None, 'sqrt', 'log2']}\n",
        "\n",
        "gs = GridSearchCV(GradientBoostingRegressor(n_estimators = 170, max_depth = 8), params, cv=3, scoring='r2', verbose=2)\n",
        "\n",
        "gs.fit(Xtrain, ytrain)"
      ],
      "metadata": {
        "colab": {
          "base_uri": "https://localhost:8080/"
        },
        "id": "g2KbNpCekLHq",
        "outputId": "c63d1a97-5062-4249-9853-a0446d3accde"
      },
      "execution_count": null,
      "outputs": [
        {
          "output_type": "stream",
          "name": "stdout",
          "text": [
            "Fitting 3 folds for each of 3 candidates, totalling 9 fits\n",
            "[CV] END ..................................max_features=None; total time=  10.1s\n",
            "[CV] END ..................................max_features=None; total time=  10.5s\n",
            "[CV] END ..................................max_features=None; total time=  10.5s\n",
            "[CV] END ..................................max_features=sqrt; total time=   2.7s\n",
            "[CV] END ..................................max_features=sqrt; total time=   2.7s\n",
            "[CV] END ..................................max_features=sqrt; total time=   3.5s\n",
            "[CV] END ..................................max_features=log2; total time=   3.9s\n",
            "[CV] END ..................................max_features=log2; total time=   3.9s\n",
            "[CV] END ..................................max_features=log2; total time=   4.7s\n"
          ]
        },
        {
          "output_type": "execute_result",
          "data": {
            "text/plain": [
              "GridSearchCV(cv=3,\n",
              "             estimator=GradientBoostingRegressor(max_depth=8, n_estimators=170),\n",
              "             param_grid={'max_features': [None, 'sqrt', 'log2']}, scoring='r2',\n",
              "             verbose=2)"
            ]
          },
          "metadata": {},
          "execution_count": 9
        }
      ]
    },
    {
      "cell_type": "code",
      "source": [
        "gs.best_score_, gs.best_estimator_"
      ],
      "metadata": {
        "colab": {
          "base_uri": "https://localhost:8080/"
        },
        "id": "CGn2GfJhkiC7",
        "outputId": "3c09c928-78af-4ed1-f29b-e839181489a0"
      },
      "execution_count": null,
      "outputs": [
        {
          "output_type": "execute_result",
          "data": {
            "text/plain": [
              "(0.8296675722761929,\n",
              " GradientBoostingRegressor(max_depth=8, max_features='log2', n_estimators=170))"
            ]
          },
          "metadata": {},
          "execution_count": 10
        }
      ]
    },
    {
      "cell_type": "markdown",
      "source": [
        "Теперь проверим полученную модель на тестовых данных"
      ],
      "metadata": {
        "id": "bQRD6H3TmljZ"
      }
    },
    {
      "cell_type": "code",
      "source": [
        "model = GradientBoostingRegressor(n_estimators = 170, learning_rate = 0.1, max_depth = 8, max_features='log2')\n",
        "\n",
        "model.fit(Xtrain, ytrain)\n",
        "\n",
        "pred = model.predict(Xtest) \n",
        "\n",
        "r2_score(ytest, pred)"
      ],
      "metadata": {
        "id": "RlZ2UThov-Zf",
        "colab": {
          "base_uri": "https://localhost:8080/"
        },
        "outputId": "c21c4073-7845-4bac-bc43-2c550c5ff82b"
      },
      "execution_count": null,
      "outputs": [
        {
          "output_type": "execute_result",
          "data": {
            "text/plain": [
              "0.8442035390010441"
            ]
          },
          "metadata": {},
          "execution_count": 7
        }
      ]
    },
    {
      "cell_type": "markdown",
      "source": [
        "На качество бустинга влияет `learning_rate`.\n",
        "\n",
        "Стратегия такая: после подбора гиперпараметров мы уменьшаем `learning_rate` до 0.01-0.03  \n",
        "(то есть если значение по умолчанию 0.1, то уменьшаем в 10 раз), и во столько же раз увеличиваем число деревьев."
      ],
      "metadata": {
        "id": "9CPBuvEdqRbr"
      }
    },
    {
      "cell_type": "code",
      "source": [
        "model = GradientBoostingRegressor(n_estimators = 1700, learning_rate = 0.01, max_depth = 8, max_features='log2')\n",
        "\n",
        "model.fit(Xtrain, ytrain)\n",
        "\n",
        "pred = model.predict(Xtest) \n",
        "\n",
        "r2_score(ytest, pred)"
      ],
      "metadata": {
        "id": "XquzSpNpmrKi",
        "colab": {
          "base_uri": "https://localhost:8080/"
        },
        "outputId": "8a701eb7-999a-47d1-9ccc-b55583a55006"
      },
      "execution_count": null,
      "outputs": [
        {
          "output_type": "execute_result",
          "data": {
            "text/plain": [
              "0.8505992113044265"
            ]
          },
          "metadata": {},
          "execution_count": 8
        }
      ]
    },
    {
      "cell_type": "markdown",
      "source": [
        "При помощи случайного леса в предыдущем уроке нам удалось добиться качества $r2=0.812$.\n",
        "\n",
        "Мы видим, что в этой задаче бустинг значительно превзошел по качеству алгоритм случайного леса!"
      ],
      "metadata": {
        "id": "_YeQlW2Pxr6U"
      }
    },
    {
      "cell_type": "markdown",
      "source": [
        "## 3. Поведение модели при увеличении числа деревьев"
      ],
      "metadata": {
        "id": "7j9ChZOaknF0"
      }
    },
    {
      "cell_type": "code",
      "source": [
        "r2_train = []\n",
        "r2_test = []\n",
        "\n",
        "for n in range(2, 300, 20):\n",
        "    model = GradientBoostingRegressor(n_estimators = n, max_depth = 20)\n",
        "    model.fit(Xtrain, ytrain)\n",
        "\n",
        "    pred_train = model.predict(Xtrain)\n",
        "    pred_test = model.predict(Xtest)\n",
        "\n",
        "    r2_train.append(r2_score(ytrain, pred_train))\n",
        "    r2_test.append(r2_score(ytest, pred_test))\n",
        "\n",
        "plt.plot(r2_train, color='blue')\n",
        "plt.plot(r2_test, color='red')\n",
        "plt.xlabel('iteration')\n",
        "plt.ylabel('r2')"
      ],
      "metadata": {
        "id": "_wGarqpFk0Yz",
        "colab": {
          "base_uri": "https://localhost:8080/",
          "height": 296
        },
        "outputId": "29ffe4a2-28be-4466-d670-c8d1211b74a0"
      },
      "execution_count": null,
      "outputs": [
        {
          "output_type": "execute_result",
          "data": {
            "text/plain": [
              "Text(0, 0.5, 'r2')"
            ]
          },
          "metadata": {},
          "execution_count": 13
        },
        {
          "output_type": "display_data",
          "data": {
            "text/plain": [
              "<Figure size 432x288 with 1 Axes>"
            ],
            "image/png": "[encoded data removed]"
          },
          "metadata": {
            "needs_background": "light"
          }
        }
      ]
    },
    {
      "cell_type": "markdown",
      "source": [
        "Эти графики подтверждают теорию: при увеличении числа деревьев в бустинге качество на тренировочных данных сначала растет, а потом начинает уменьшаться (так как начинается переобучение).\n",
        "\n",
        "Поэтому на практике необходимо подобрать такое число деревьев, при котором качество на тестовых данных максимальное (и больше деревьев не брать!). В этом одно из важных отличий бустинга от леса."
      ],
      "metadata": {
        "id": "UTXWz7HWoWEs"
      }
    }
  ]
}