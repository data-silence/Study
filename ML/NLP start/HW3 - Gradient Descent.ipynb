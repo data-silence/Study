{
  "nbformat": 4,
  "nbformat_minor": 0,
  "metadata": {
    "colab": {
      "provenance": []
    },
    "kernelspec": {
      "name": "python3",
      "display_name": "Python 3"
    },
    "language_info": {
      "name": "python"
    }
  },
  "cells": [
    {
      "cell_type": "markdown",
      "source": [
        "# Домашнее задание\n",
        "\n",
        "### Применение различных методов градиентного спуска\n",
        "\n",
        "В этом домашнем задании мы потренируемся применять различные методы градиентного спуска на примере классического датасета для предсказания стоимости домов в Калифорнии."
      ],
      "metadata": {
        "id": "RviFzrzcDiFo"
      }
    },
    {
      "cell_type": "markdown",
      "source": [
        "## Импорт библиотек"
      ],
      "metadata": {
        "id": "VUA5S_9JEJqN"
      }
    },
    {
      "cell_type": "code",
      "execution_count": 1,
      "metadata": {
        "id": "A-y-4JNCDCft"
      },
      "outputs": [],
      "source": [
        "import pandas as pd\n",
        "import numpy as np\n",
        "from numpy import random\n",
        "\n",
        "from sklearn.datasets import fetch_california_housing\n",
        "from sklearn.linear_model import LinearRegression\n",
        "from sklearn.model_selection import train_test_split\n",
        "from sklearn.preprocessing import StandardScaler\n",
        "\n",
        "import matplotlib.pyplot as plt\n",
        "%matplotlib inline\n",
        "\n",
        "RANDOM_SEED = 42"
      ]
    },
    {
      "cell_type": "markdown",
      "source": [
        "### Загрузим датасет"
      ],
      "metadata": {
        "id": "phj9pO5oK5WH"
      }
    },
    {
      "cell_type": "code",
      "source": [
        "data = fetch_california_housing()\n",
        "df = pd.DataFrame(data= np.c_[data['data'], data['target']],\n",
        "                     columns= data['feature_names'] + data['target_names'])\n",
        "df.head()"
      ],
      "metadata": {
        "colab": {
          "base_uri": "https://localhost:8080/",
          "height": 206
        },
        "id": "qniOF2KMEO4h",
        "outputId": "02a84c3a-b719-43a9-f2ce-b92817df1336"
      },
      "execution_count": 2,
      "outputs": [
        {
          "output_type": "execute_result",
          "data": {
            "text/plain": [
              "   MedInc  HouseAge  AveRooms  AveBedrms  Population  AveOccup  Latitude  \\\n",
              "0  8.3252      41.0  6.984127   1.023810       322.0  2.555556     37.88   \n",
              "1  8.3014      21.0  6.238137   0.971880      2401.0  2.109842     37.86   \n",
              "2  7.2574      52.0  8.288136   1.073446       496.0  2.802260     37.85   \n",
              "3  5.6431      52.0  5.817352   1.073059       558.0  2.547945     37.85   \n",
              "4  3.8462      52.0  6.281853   1.081081       565.0  2.181467     37.85   \n",
              "\n",
              "   Longitude  MedHouseVal  \n",
              "0    -122.23        4.526  \n",
              "1    -122.22        3.585  \n",
              "2    -122.24        3.521  \n",
              "3    -122.25        3.413  \n",
              "4    -122.25        3.422  "
            ],
            "text/html": [
              "\n",
              "  <div id=\"df-da8cbd29-7876-4270-8fe3-e95add43e569\" class=\"colab-df-container\">\n",
              "    <div>\n",
              "<style scoped>\n",
              "    .dataframe tbody tr th:only-of-type {\n",
              "        vertical-align: middle;\n",
              "    }\n",
              "\n",
              "    .dataframe tbody tr th {\n",
              "        vertical-align: top;\n",
              "    }\n",
              "\n",
              "    .dataframe thead th {\n",
              "        text-align: right;\n",
              "    }\n",
              "</style>\n",
              "<table border=\"1\" class=\"dataframe\">\n",
              "  <thead>\n",
              "    <tr style=\"text-align: right;\">\n",
              "      <th></th>\n",
              "      <th>MedInc</th>\n",
              "      <th>HouseAge</th>\n",
              "      <th>AveRooms</th>\n",
              "      <th>AveBedrms</th>\n",
              "      <th>Population</th>\n",
              "      <th>AveOccup</th>\n",
              "      <th>Latitude</th>\n",
              "      <th>Longitude</th>\n",
              "      <th>MedHouseVal</th>\n",
              "    </tr>\n",
              "  </thead>\n",
              "  <tbody>\n",
              "    <tr>\n",
              "      <th>0</th>\n",
              "      <td>8.3252</td>\n",
              "      <td>41.0</td>\n",
              "      <td>6.984127</td>\n",
              "      <td>1.023810</td>\n",
              "      <td>322.0</td>\n",
              "      <td>2.555556</td>\n",
              "      <td>37.88</td>\n",
              "      <td>-122.23</td>\n",
              "      <td>4.526</td>\n",
              "    </tr>\n",
              "    <tr>\n",
              "      <th>1</th>\n",
              "      <td>8.3014</td>\n",
              "      <td>21.0</td>\n",
              "      <td>6.238137</td>\n",
              "      <td>0.971880</td>\n",
              "      <td>2401.0</td>\n",
              "      <td>2.109842</td>\n",
              "      <td>37.86</td>\n",
              "      <td>-122.22</td>\n",
              "      <td>3.585</td>\n",
              "    </tr>\n",
              "    <tr>\n",
              "      <th>2</th>\n",
              "      <td>7.2574</td>\n",
              "      <td>52.0</td>\n",
              "      <td>8.288136</td>\n",
              "      <td>1.073446</td>\n",
              "      <td>496.0</td>\n",
              "      <td>2.802260</td>\n",
              "      <td>37.85</td>\n",
              "      <td>-122.24</td>\n",
              "      <td>3.521</td>\n",
              "    </tr>\n",
              "    <tr>\n",
              "      <th>3</th>\n",
              "      <td>5.6431</td>\n",
              "      <td>52.0</td>\n",
              "      <td>5.817352</td>\n",
              "      <td>1.073059</td>\n",
              "      <td>558.0</td>\n",
              "      <td>2.547945</td>\n",
              "      <td>37.85</td>\n",
              "      <td>-122.25</td>\n",
              "      <td>3.413</td>\n",
              "    </tr>\n",
              "    <tr>\n",
              "      <th>4</th>\n",
              "      <td>3.8462</td>\n",
              "      <td>52.0</td>\n",
              "      <td>6.281853</td>\n",
              "      <td>1.081081</td>\n",
              "      <td>565.0</td>\n",
              "      <td>2.181467</td>\n",
              "      <td>37.85</td>\n",
              "      <td>-122.25</td>\n",
              "      <td>3.422</td>\n",
              "    </tr>\n",
              "  </tbody>\n",
              "</table>\n",
              "</div>\n",
              "    <div class=\"colab-df-buttons\">\n",
              "\n",
              "  <div class=\"colab-df-container\">\n",
              "    <button class=\"colab-df-convert\" onclick=\"convertToInteractive('df-da8cbd29-7876-4270-8fe3-e95add43e569')\"\n",
              "            title=\"Convert this dataframe to an interactive table.\"\n",
              "            style=\"display:none;\">\n",
              "\n",
              "  <svg xmlns=\"http://www.w3.org/2000/svg\" height=\"24px\" viewBox=\"0 -960 960 960\">\n",
              "    <path d=\"M120-120v-720h720v720H120Zm60-500h600v-160H180v160Zm220 220h160v-160H400v160Zm0 220h160v-160H400v160ZM180-400h160v-160H180v160Zm440 0h160v-160H620v160ZM180-180h160v-160H180v160Zm440 0h160v-160H620v160Z\"/>\n",
              "  </svg>\n",
              "    </button>\n",
              "\n",
              "  <style>\n",
              "    .colab-df-container {\n",
              "      display:flex;\n",
              "      gap: 12px;\n",
              "    }\n",
              "\n",
              "    .colab-df-convert {\n",
              "      background-color: #E8F0FE;\n",
              "      border: none;\n",
              "      border-radius: 50%;\n",
              "      cursor: pointer;\n",
              "      display: none;\n",
              "      fill: #1967D2;\n",
              "      height: 32px;\n",
              "      padding: 0 0 0 0;\n",
              "      width: 32px;\n",
              "    }\n",
              "\n",
              "    .colab-df-convert:hover {\n",
              "      background-color: #E2EBFA;\n",
              "      box-shadow: 0px 1px 2px rgba(60, 64, 67, 0.3), 0px 1px 3px 1px rgba(60, 64, 67, 0.15);\n",
              "      fill: #174EA6;\n",
              "    }\n",
              "\n",
              "    .colab-df-buttons div {\n",
              "      margin-bottom: 4px;\n",
              "    }\n",
              "\n",
              "    [theme=dark] .colab-df-convert {\n",
              "      background-color: #3B4455;\n",
              "      fill: #D2E3FC;\n",
              "    }\n",
              "\n",
              "    [theme=dark] .colab-df-convert:hover {\n",
              "      background-color: #434B5C;\n",
              "      box-shadow: 0px 1px 3px 1px rgba(0, 0, 0, 0.15);\n",
              "      filter: drop-shadow(0px 1px 2px rgba(0, 0, 0, 0.3));\n",
              "      fill: #FFFFFF;\n",
              "    }\n",
              "  </style>\n",
              "\n",
              "    <script>\n",
              "      const buttonEl =\n",
              "        document.querySelector('#df-da8cbd29-7876-4270-8fe3-e95add43e569 button.colab-df-convert');\n",
              "      buttonEl.style.display =\n",
              "        google.colab.kernel.accessAllowed ? 'block' : 'none';\n",
              "\n",
              "      async function convertToInteractive(key) {\n",
              "        const element = document.querySelector('#df-da8cbd29-7876-4270-8fe3-e95add43e569');\n",
              "        const dataTable =\n",
              "          await google.colab.kernel.invokeFunction('convertToInteractive',\n",
              "                                                    [key], {});\n",
              "        if (!dataTable) return;\n",
              "\n",
              "        const docLinkHtml = 'Like what you see? Visit the ' +\n",
              "          '<a target=\"_blank\" href=https://colab.research.google.com/notebooks/data_table.ipynb>data table notebook</a>'\n",
              "          + ' to learn more about interactive tables.';\n",
              "        element.innerHTML = '';\n",
              "        dataTable['output_type'] = 'display_data';\n",
              "        await google.colab.output.renderOutput(dataTable, element);\n",
              "        const docLink = document.createElement('div');\n",
              "        docLink.innerHTML = docLinkHtml;\n",
              "        element.appendChild(docLink);\n",
              "      }\n",
              "    </script>\n",
              "  </div>\n",
              "\n",
              "\n",
              "<div id=\"df-9d1dbf0a-a56e-468d-8518-380ba8ae9e43\">\n",
              "  <button class=\"colab-df-quickchart\" onclick=\"quickchart('df-9d1dbf0a-a56e-468d-8518-380ba8ae9e43')\"\n",
              "            title=\"Suggest charts.\"\n",
              "            style=\"display:none;\">\n",
              "\n",
              "<svg xmlns=\"http://www.w3.org/2000/svg\" height=\"24px\"viewBox=\"0 0 24 24\"\n",
              "     width=\"24px\">\n",
              "    <g>\n",
              "        <path d=\"M19 3H5c-1.1 0-2 .9-2 2v14c0 1.1.9 2 2 2h14c1.1 0 2-.9 2-2V5c0-1.1-.9-2-2-2zM9 17H7v-7h2v7zm4 0h-2V7h2v10zm4 0h-2v-4h2v4z\"/>\n",
              "    </g>\n",
              "</svg>\n",
              "  </button>\n",
              "\n",
              "<style>\n",
              "  .colab-df-quickchart {\n",
              "      --bg-color: #E8F0FE;\n",
              "      --fill-color: #1967D2;\n",
              "      --hover-bg-color: #E2EBFA;\n",
              "      --hover-fill-color: #174EA6;\n",
              "      --disabled-fill-color: #AAA;\n",
              "      --disabled-bg-color: #DDD;\n",
              "  }\n",
              "\n",
              "  [theme=dark] .colab-df-quickchart {\n",
              "      --bg-color: #3B4455;\n",
              "      --fill-color: #D2E3FC;\n",
              "      --hover-bg-color: #434B5C;\n",
              "      --hover-fill-color: #FFFFFF;\n",
              "      --disabled-bg-color: #3B4455;\n",
              "      --disabled-fill-color: #666;\n",
              "  }\n",
              "\n",
              "  .colab-df-quickchart {\n",
              "    background-color: var(--bg-color);\n",
              "    border: none;\n",
              "    border-radius: 50%;\n",
              "    cursor: pointer;\n",
              "    display: none;\n",
              "    fill: var(--fill-color);\n",
              "    height: 32px;\n",
              "    padding: 0;\n",
              "    width: 32px;\n",
              "  }\n",
              "\n",
              "  .colab-df-quickchart:hover {\n",
              "    background-color: var(--hover-bg-color);\n",
              "    box-shadow: 0 1px 2px rgba(60, 64, 67, 0.3), 0 1px 3px 1px rgba(60, 64, 67, 0.15);\n",
              "    fill: var(--button-hover-fill-color);\n",
              "  }\n",
              "\n",
              "  .colab-df-quickchart-complete:disabled,\n",
              "  .colab-df-quickchart-complete:disabled:hover {\n",
              "    background-color: var(--disabled-bg-color);\n",
              "    fill: var(--disabled-fill-color);\n",
              "    box-shadow: none;\n",
              "  }\n",
              "\n",
              "  .colab-df-spinner {\n",
              "    border: 2px solid var(--fill-color);\n",
              "    border-color: transparent;\n",
              "    border-bottom-color: var(--fill-color);\n",
              "    animation:\n",
              "      spin 1s steps(1) infinite;\n",
              "  }\n",
              "\n",
              "  @keyframes spin {\n",
              "    0% {\n",
              "      border-color: transparent;\n",
              "      border-bottom-color: var(--fill-color);\n",
              "      border-left-color: var(--fill-color);\n",
              "    }\n",
              "    20% {\n",
              "      border-color: transparent;\n",
              "      border-left-color: var(--fill-color);\n",
              "      border-top-color: var(--fill-color);\n",
              "    }\n",
              "    30% {\n",
              "      border-color: transparent;\n",
              "      border-left-color: var(--fill-color);\n",
              "      border-top-color: var(--fill-color);\n",
              "      border-right-color: var(--fill-color);\n",
              "    }\n",
              "    40% {\n",
              "      border-color: transparent;\n",
              "      border-right-color: var(--fill-color);\n",
              "      border-top-color: var(--fill-color);\n",
              "    }\n",
              "    60% {\n",
              "      border-color: transparent;\n",
              "      border-right-color: var(--fill-color);\n",
              "    }\n",
              "    80% {\n",
              "      border-color: transparent;\n",
              "      border-right-color: var(--fill-color);\n",
              "      border-bottom-color: var(--fill-color);\n",
              "    }\n",
              "    90% {\n",
              "      border-color: transparent;\n",
              "      border-bottom-color: var(--fill-color);\n",
              "    }\n",
              "  }\n",
              "</style>\n",
              "\n",
              "  <script>\n",
              "    async function quickchart(key) {\n",
              "      const quickchartButtonEl =\n",
              "        document.querySelector('#' + key + ' button');\n",
              "      quickchartButtonEl.disabled = true;  // To prevent multiple clicks.\n",
              "      quickchartButtonEl.classList.add('colab-df-spinner');\n",
              "      try {\n",
              "        const charts = await google.colab.kernel.invokeFunction(\n",
              "            'suggestCharts', [key], {});\n",
              "      } catch (error) {\n",
              "        console.error('Error during call to suggestCharts:', error);\n",
              "      }\n",
              "      quickchartButtonEl.classList.remove('colab-df-spinner');\n",
              "      quickchartButtonEl.classList.add('colab-df-quickchart-complete');\n",
              "    }\n",
              "    (() => {\n",
              "      let quickchartButtonEl =\n",
              "        document.querySelector('#df-9d1dbf0a-a56e-468d-8518-380ba8ae9e43 button');\n",
              "      quickchartButtonEl.style.display =\n",
              "        google.colab.kernel.accessAllowed ? 'block' : 'none';\n",
              "    })();\n",
              "  </script>\n",
              "</div>\n",
              "    </div>\n",
              "  </div>\n"
            ]
          },
          "metadata": {},
          "execution_count": 2
        }
      ]
    },
    {
      "cell_type": "markdown",
      "source": [
        "Разделим датасет на обучающую и тестовую выборки, а также сразу осуществим масштабирование признаков, поскольку в дальнейшем мы будем использовать линейную регрессию."
      ],
      "metadata": {
        "id": "hsBHGsjBr_3w"
      }
    },
    {
      "cell_type": "code",
      "source": [
        "X_train, X_test, y_train, y_test = train_test_split(df[data['feature_names']], df[data['target_names']].values,\n",
        "                                                    test_size=0.33,\n",
        "                                                    random_state=RANDOM_SEED)\n",
        "\n",
        "scaler = StandardScaler()\n",
        "X_train = scaler.fit_transform(X_train)\n",
        "X_test = scaler.transform(X_test)"
      ],
      "metadata": {
        "id": "h-Pm6MyVK-fU"
      },
      "execution_count": 3,
      "outputs": []
    },
    {
      "cell_type": "markdown",
      "source": [
        "Попробуем применить линейную регрессию \"из коробки\" и посмотреть, какая получается ошибка на тестовой выборке."
      ],
      "metadata": {
        "id": "Gm_mgDvesOUp"
      }
    },
    {
      "cell_type": "code",
      "source": [
        "model = LinearRegression()\n",
        "model.fit(X_train, y_train)\n",
        "pred = model.predict(X_test)\n",
        "print(f'Ошибка: {np.sum((pred - y_test)**2) / y_test.shape[0]}')"
      ],
      "metadata": {
        "colab": {
          "base_uri": "https://localhost:8080/"
        },
        "id": "YGiaDDRmsV_f",
        "outputId": "0ed8642a-f390-4607-cb31-81ab47fa23bf"
      },
      "execution_count": 4,
      "outputs": [
        {
          "output_type": "stream",
          "name": "stdout",
          "text": [
            "Ошибка: 0.5369686543372459\n"
          ]
        }
      ]
    },
    {
      "cell_type": "markdown",
      "source": [
        "В итоге мы получили на тестовой выборке некоторое значение ошибки. Давайте теперь попробуем самостоятельно реализовать классический градиентный спуск и сравним значение полученной ошибки"
      ],
      "metadata": {
        "id": "DG2XKC0msi2a"
      }
    },
    {
      "cell_type": "code",
      "source": [
        "X_new = np.hstack((np.ones((X_train.shape[0], 1)), X_train))"
      ],
      "metadata": {
        "id": "7RUphpcnc7Ae"
      },
      "execution_count": 17,
      "outputs": []
    },
    {
      "cell_type": "code",
      "source": [],
      "metadata": {
        "colab": {
          "base_uri": "https://localhost:8080/"
        },
        "id": "pR2xFvMOetl0",
        "outputId": "522c62e3-b1cb-473f-820b-3d9e9491d7fd"
      },
      "execution_count": 14,
      "outputs": [
        {
          "output_type": "execute_result",
          "data": {
            "text/plain": [
              "array([1., 1., 1., ..., 1., 1., 1.])"
            ]
          },
          "metadata": {},
          "execution_count": 14
        }
      ]
    },
    {
      "cell_type": "code",
      "source": [
        "X_train.shape, X_new.shape"
      ],
      "metadata": {
        "colab": {
          "base_uri": "https://localhost:8080/"
        },
        "id": "TZHpClGKdHP3",
        "outputId": "37b8f04a-6bae-4e9e-b2c1-be0aaf8a8f72"
      },
      "execution_count": 11,
      "outputs": [
        {
          "output_type": "execute_result",
          "data": {
            "text/plain": [
              "((13828, 8), (13828,))"
            ]
          },
          "metadata": {},
          "execution_count": 11
        }
      ]
    },
    {
      "cell_type": "code",
      "source": [],
      "metadata": {
        "id": "eKusTstWd9G5"
      },
      "execution_count": null,
      "outputs": []
    },
    {
      "cell_type": "code",
      "source": [
        "def full_gradient_descent(X, y, lr=0.001, tol=0.0001, max_steps=20000):\n",
        "  # Добавьте в начало матрицы Х столбец из единиц\n",
        "  X = np.hstack((np.ones((X.shape[0], 1)), X))\n",
        "  np.random.seed(RANDOM_SEED)\n",
        "  w_prev = np.random.rand(X.shape[1], 1)\n",
        "\n",
        "  # Количество строк в матрице Х\n",
        "  n = X.shape[0]\n",
        "  errors = []\n",
        "\n",
        "  for i in range(max_steps):\n",
        "    # Значение градиента на шаге i\n",
        "    grad = - 2 / n * X.T @ (y - X @ w_prev)\n",
        "    # Шаг градиентного спуска\n",
        "    w_new = w_prev - lr * grad\n",
        "\n",
        "    errors.append(((y - X @ w_new)**2).sum() / n)\n",
        "    # Условие, что норма разности векторов w_new и w_prev меньше tol\n",
        "    if np.linalg.norm(w_new - w_prev) < tol:\n",
        "      return w_new, errors\n",
        "    else:\n",
        "      w_prev = w_new\n",
        "\n",
        "  return w_new, errors\n",
        "\n",
        "\n",
        "def test_error(X, y, w):\n",
        "  X = np.hstack((np.ones((X.shape[0], 1)), X))\n",
        "  return ((y - X @ w)**2).sum() / X.shape[0]"
      ],
      "metadata": {
        "id": "4Wxn1oFILC0n"
      },
      "execution_count": 18,
      "outputs": []
    },
    {
      "cell_type": "code",
      "source": [
        "%%time\n",
        "w_fgd, errors_fgd = full_gradient_descent(X_train, y_train)\n",
        "\n",
        "print(f'Количество итераций: {len(errors_fgd)}')"
      ],
      "metadata": {
        "id": "y5qLZmbdX41G",
        "colab": {
          "base_uri": "https://localhost:8080/"
        },
        "outputId": "8d16120b-f68f-4f1d-edad-ea8d7f0fe3df"
      },
      "execution_count": 19,
      "outputs": [
        {
          "output_type": "stream",
          "name": "stdout",
          "text": [
            "Количество итераций: 8554\n",
            "CPU times: user 3.56 s, sys: 1.63 s, total: 5.19 s\n",
            "Wall time: 2.71 s\n"
          ]
        }
      ]
    },
    {
      "cell_type": "code",
      "source": [
        "print(f'Ошибка на тестовой выборке: {test_error(X_test, y_test, w_fgd)}')\n",
        "print('Значения весов', w_fgd.T)\n",
        "plt.plot(errors_fgd);"
      ],
      "metadata": {
        "colab": {
          "base_uri": "https://localhost:8080/",
          "height": 484
        },
        "id": "8xRYidhquvd3",
        "outputId": "50fe325d-ea5e-44b9-d89c-d7245695af87"
      },
      "execution_count": 20,
      "outputs": [
        {
          "output_type": "stream",
          "name": "stdout",
          "text": [
            "Ошибка на тестовой выборке: 0.56785915405439\n",
            "Значения весов [[ 2.06663614  0.90272471  0.18767006 -0.29860149  0.29710304  0.02317329\n",
            "  -0.0498699  -0.34309453 -0.32044882]]\n"
          ]
        },
        {
          "output_type": "display_data",
          "data": {
            "text/plain": [
              "<Figure size 640x480 with 1 Axes>"
            ],
            "image/png": "[encoded data removed]"
          },
          "metadata": {}
        }
      ]
    },
    {
      "cell_type": "markdown",
      "source": [
        "Давайте теперь реализуем стохастический градиентный спуск."
      ],
      "metadata": {
        "id": "vsFu4wdpuuuF"
      }
    },
    {
      "cell_type": "code",
      "source": [
        "def stochastic_gradient_descent(X, y, lr=0.001, tol=0.0001, max_steps=20000):\n",
        "  # Добавьте в начало матрицы Х столбец из единиц\n",
        "  X = np.hstack((np.ones((X.shape[0], 1)), X))\n",
        "  np.random.seed(RANDOM_SEED)\n",
        "  w_prev = np.random.rand(X.shape[1])\n",
        "\n",
        "  # Количество строк в матрице Х\n",
        "  n = X.shape[0]\n",
        "  errors = []\n",
        "\n",
        "  for i in range(max_steps):\n",
        "    # Создайте список из номера одного случайного объекта из выборки\n",
        "    ind = np.random.randint(0, n)\n",
        "\n",
        "    X_ind = X[ind, :].reshape(1, -1)\n",
        "    # Значение градиента на шаге i\n",
        "    grad = 2 * X_ind.T @ ((X_ind @ w_prev) - y[ind])\n",
        "    # Шаг градиентного спуска\n",
        "    w_new = w_prev - lr * grad\n",
        "\n",
        "    errors.append(((y - X @ w_new)**2).sum() / n)\n",
        "    # Условие, что норма разности векторов w_new и w_prev меньше tol\n",
        "    if np.linalg.norm(w_new - w_prev) < tol:\n",
        "      return w_new, errors\n",
        "    else:\n",
        "      w_prev = w_new\n",
        "\n",
        "  return w_new, errors\n"
      ],
      "metadata": {
        "id": "qvFdrwpalkMD"
      },
      "execution_count": 35,
      "outputs": []
    },
    {
      "cell_type": "code",
      "source": [
        "%%time\n",
        "w_sgd, errors_sgd = stochastic_gradient_descent(X_train, y_train)\n",
        "\n",
        "print(f'Количество итераций: {len(errors_sgd)}')"
      ],
      "metadata": {
        "id": "NXzPtiOerfgb",
        "colab": {
          "base_uri": "https://localhost:8080/"
        },
        "outputId": "921809ed-5a01-46f7-b825-401a72a2d626"
      },
      "execution_count": 36,
      "outputs": [
        {
          "output_type": "stream",
          "name": "stdout",
          "text": [
            "Количество итераций: 244\n",
            "CPU times: user 1min 44s, sys: 1min 31s, total: 3min 15s\n",
            "Wall time: 2min 53s\n"
          ]
        }
      ]
    },
    {
      "cell_type": "code",
      "source": [
        "print(f'Ошибка на тестовой выборке: {test_error(X_test, y_test, w_sgd)}')\n",
        "print('Значения весов', w_sgd.T)\n",
        "plt.plot(errors_sgd);"
      ],
      "metadata": {
        "colab": {
          "base_uri": "https://localhost:8080/",
          "height": 484
        },
        "id": "_4LEwJ4UO2vo",
        "outputId": "7db4fdb8-ec7d-40ba-be95-1ff8125177d1"
      },
      "execution_count": 37,
      "outputs": [
        {
          "output_type": "stream",
          "name": "stdout",
          "text": [
            "Ошибка на тестовой выборке: 24572.077693073454\n",
            "Значения весов [1.07960103 0.8941185  0.60013235 0.40334447 0.0432827  0.22142737\n",
            " 0.03361304 0.70012945 0.67218878]\n"
          ]
        },
        {
          "output_type": "display_data",
          "data": {
            "text/plain": [
              "<Figure size 640x480 with 1 Axes>"
            ],
            "image/png": "[encoded data removed]"
          },
          "metadata": {}
        }
      ]
    },
    {
      "cell_type": "markdown",
      "source": [
        "Видно, что хоть мы и движемся вниз с точки зрения ошибки на обучающей выборке, мы останавливаемся слишком рано. Подумайте, почему так происходит. Попробуйте уменьшить значение параметра tol и посмотрите, что получится."
      ],
      "metadata": {
        "id": "u02JZZAy77fC"
      }
    },
    {
      "cell_type": "code",
      "source": [
        "%%time\n",
        "w_sgd, errors_sgd = stochastic_gradient_descent(X_train, y_train, tol=0.00001)\n",
        "\n",
        "print(f'Количество итераций: {len(errors_sgd)}')"
      ],
      "metadata": {
        "id": "WOviapK2PLcT",
        "colab": {
          "base_uri": "https://localhost:8080/"
        },
        "outputId": "394a9b12-18bc-4a35-cbf9-07a0abc74e8e"
      },
      "execution_count": 38,
      "outputs": [
        {
          "output_type": "stream",
          "name": "stdout",
          "text": [
            "Количество итераций: 1260\n",
            "CPU times: user 9min 7s, sys: 7min 53s, total: 17min\n",
            "Wall time: 15min 35s\n"
          ]
        }
      ]
    },
    {
      "cell_type": "code",
      "source": [
        "print(f'Ошибка на тестовой выборке: {test_error(X_test, y_test, w_sgd)}')\n",
        "print('Значения весов', w_sgd.T)\n",
        "plt.plot(errors_sgd);"
      ],
      "metadata": {
        "colab": {
          "base_uri": "https://localhost:8080/",
          "height": 484
        },
        "id": "N9LWdcvPQeFY",
        "outputId": "d563f390-3ce1-4138-98f0-773d9c623ede"
      },
      "execution_count": 39,
      "outputs": [
        {
          "output_type": "stream",
          "name": "stdout",
          "text": [
            "Ошибка на тестовой выборке: 13975.970616664083\n",
            "Значения весов [ 1.94675537  0.82909012  0.39157934  0.05928422 -0.06918601  0.13142379\n",
            " -0.01282355  0.4608064   0.49975588]\n"
          ]
        },
        {
          "output_type": "display_data",
          "data": {
            "text/plain": [
              "<Figure size 640x480 with 1 Axes>"
            ],
            "image/png": "[encoded data removed]"
          },
          "metadata": {}
        }
      ]
    },
    {
      "cell_type": "markdown",
      "source": [
        "Ошибка получилась значительно меньше, но и количество потребовавшихся шагов сильно увеличилось. Давайте теперь попробуем сделать что-то среднее между полным градиентным спуском и стохастическим градиентным спуском (Mini-batch),  добавим сохранение момента и динамический learning rate."
      ],
      "metadata": {
        "id": "xVf--yEl9Y78"
      }
    },
    {
      "cell_type": "code",
      "source": [
        "def momentum_gradient_descent(X, y, lr=0.001, tol=0.0001, batch_size=64, alpha=0.9, max_steps=20000):\n",
        "  # Добавьте в начало матрицы Х столбец из единиц\n",
        "  X = np.hstack((np.ones((X.shape[0], 1)), X))\n",
        "  np.random.seed(RANDOM_SEED)\n",
        "  w_prev = np.random.rand(X.shape[1], 1)\n",
        "\n",
        "  # Количество строк в матрице Х\n",
        "  n = X.shape[0]\n",
        "  errors = []\n",
        "  momentum = 0\n",
        "\n",
        "  for i in range(max_steps):\n",
        "    # Создайте список из batch_size штук случайных объектов из выборки\n",
        "    ind = np.random.randint(0, n)\n",
        "    X_ind = X[ind, :].reshape(1, -1)\n",
        "\n",
        "    # Значение градиента на шаге i\n",
        "    grad = - 2 * X_ind.T @ (y[ind] - X_ind @ w_prev)\n",
        "    h = lr * grad\n",
        "    w_new = w_prev - h\n",
        "\n",
        "    errors.append(((y - X @ w_new)**2).sum() / n)\n",
        "    # Условие, что норма разности векторов w_new и w_prev меньше tol\n",
        "    if np.linalg.norm(w_new - w_prev) < tol:\n",
        "      return w_new, errors\n",
        "    else:\n",
        "      w_prev = w_new\n",
        "      momentum = h\n",
        "      # Динамический learning rate\n",
        "      lr = 0.01 / (i+1)**0.3\n",
        "\n",
        "  return w_new, errors\n"
      ],
      "metadata": {
        "id": "iOSU6hZi9W3g"
      },
      "execution_count": 42,
      "outputs": []
    },
    {
      "cell_type": "code",
      "source": [
        "%%time\n",
        "w_mgd, errors_mgd = momentum_gradient_descent(X_train, y_train, tol=0.001)\n",
        "\n",
        "print(f'Количество итераций: {len(errors_mgd)}')"
      ],
      "metadata": {
        "id": "7uNkULEz-G2c",
        "colab": {
          "base_uri": "https://localhost:8080/"
        },
        "outputId": "aa0b9f3b-4510-4f57-c2a7-65e73d46b5ae"
      },
      "execution_count": 43,
      "outputs": [
        {
          "output_type": "stream",
          "name": "stdout",
          "text": [
            "Количество итераций: 59\n",
            "CPU times: user 15.5 ms, sys: 23.8 ms, total: 39.3 ms\n",
            "Wall time: 31.9 ms\n"
          ]
        }
      ]
    },
    {
      "cell_type": "code",
      "source": [
        "print(f'Ошибка на тестовой выборке: {test_error(X_test, y_test, w_mgd)}')\n",
        "print('Значения весов', w_mgd.T)\n",
        "plt.plot(errors_mgd);"
      ],
      "metadata": {
        "colab": {
          "base_uri": "https://localhost:8080/",
          "height": 484
        },
        "id": "-BFCuDYf-I7n",
        "outputId": "e02ac3ef-7d46-4f1f-e683-f638740bdebf"
      },
      "execution_count": 44,
      "outputs": [
        {
          "output_type": "stream",
          "name": "stdout",
          "text": [
            "Ошибка на тестовой выборке: 2.531472885270542\n",
            "Значения весов [[ 0.91342543  0.98170949  0.60970622  0.04954996 -0.40724979  0.32798338\n",
            "   0.04787448  0.67734099  0.65479759]]\n"
          ]
        },
        {
          "output_type": "display_data",
          "data": {
            "text/plain": [
              "<Figure size 640x480 with 1 Axes>"
            ],
            "image/png": "[encoded data removed]"
          },
          "metadata": {}
        }
      ]
    },
    {
      "cell_type": "markdown",
      "source": [
        "Обратите внимание, что с помощью Momentum Mini-batch SGD мы получили даже лучше результат, чем при использовании метода LinearRegression из пакета sklearn. Однако, пришлось заменить значение параметра tol. Подумайте, почему так происходит, и поэкспериментируйте."
      ],
      "metadata": {
        "id": "3OggNDbLDhFw"
      }
    },
    {
      "cell_type": "code",
      "source": [],
      "metadata": {
        "id": "oREWqRyv-gLI"
      },
      "execution_count": null,
      "outputs": []
    }
  ]
}