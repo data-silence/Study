{
  "nbformat": 4,
  "nbformat_minor": 0,
  "metadata": {
    "colab": {
      "provenance": []
    },
    "kernelspec": {
      "name": "python3",
      "display_name": "Python 3"
    },
    "language_info": {
      "name": "python"
    }
  },
  "cells": [
    {
      "cell_type": "markdown",
      "source": [
        "# Домашнее задание: класс линейной регрессии"
      ],
      "metadata": {
        "id": "QY4qPJPpgyIS"
      }
    },
    {
      "cell_type": "markdown",
      "source": [
        "## Импорт библиотек, установка констант"
      ],
      "metadata": {
        "id": "Chacc6YchldZ"
      }
    },
    {
      "cell_type": "code",
      "source": [
        "import numpy as np\n",
        "import pandas as pd\n",
        "\n",
        "from sklearn.datasets import fetch_california_housing\n",
        "from sklearn.model_selection import train_test_split\n",
        "from sklearn.preprocessing import StandardScaler"
      ],
      "metadata": {
        "id": "w8iKrWvwhrFd"
      },
      "execution_count": 1,
      "outputs": []
    },
    {
      "cell_type": "code",
      "source": [
        "RANDOM_STATE = 42\n",
        "TEST_SIZE = 0.25"
      ],
      "metadata": {
        "id": "CHNgJXXlVjO4"
      },
      "execution_count": 2,
      "outputs": []
    },
    {
      "cell_type": "markdown",
      "source": [
        "## Интерфейс Scikit-Learn"
      ],
      "metadata": {
        "id": "2K_pNTftYGH7"
      }
    },
    {
      "cell_type": "markdown",
      "source": [
        "Scikit-Learn (`sklearn`)- библиотека, в которой реализованы практически все используемые сегодня алгоритмы машинного обучения.\n",
        "\n",
        "Для реализации алгоритмов машинного обучения в `sklearn` всегда используется один интерфейс - класс с функциями `fit(X, y)` для обучения модели по обучающей выборке `X`, `y` и `predict(X)` для возвращения предсказаний на выборке `X`. При создании класса можно указывать дополнительные параметры, влияющие на работу алгоритма машинного обучения."
      ],
      "metadata": {
        "id": "IqHi_qAnYLGN"
      }
    },
    {
      "cell_type": "markdown",
      "source": [
        "## Линейная регрессия"
      ],
      "metadata": {
        "id": "kARfL8ifg4MH"
      }
    },
    {
      "cell_type": "markdown",
      "source": [
        "Реализуйте класс линейной регрессии c L2-регуляризацией со следующей логикой:\n",
        "*   При создании класса задайте коэффициент регуляризации `reg_coef`, равный по умолчанию нулю, а также веса (=None)\n",
        "*   Задача функции `fit` - по выборке `X` и `y` найти веса `w` и сохранить их внутри класса в `self.w`:  \n",
        "$w = (X^TX + \\lambda I)^{-1}X^Ty,$\n",
        "где $\\lambda$ - коэффициент регуляризации, $I$ - единичная матрица.\n",
        "  \n",
        "P.S. Формула верна только при наличии вектора признаков, равного 1 - поэтому для вашего удобства мы уже добавили его в класс.\n",
        "\n",
        "*   Задача функции `predict` - по весам `self.w` и `X` вернуть предсказания  \n"
      ],
      "metadata": {
        "id": "s03ZFGS7WBQx"
      }
    },
    {
      "cell_type": "code",
      "execution_count": 86,
      "metadata": {
        "id": "hNHNWPhngrUl"
      },
      "outputs": [],
      "source": [
        "from numpy import linalg\n",
        "\n",
        "class LinearRegressor:\n",
        "    def __init__(self, reg_coef = 0.0) -> None:\n",
        "        self.lambda_ = reg_coef\n",
        "        self.weights = None\n",
        "\n",
        "    def fit(self, X_train: np.array, y_train: np.array) -> None:\n",
        "        X_train = np.hstack((np.ones((X_train.shape[0], 1)), X_train))\n",
        "        self.weights = linalg.inv(X_train.T@X_train + self.lambda_*np.ones((X_train.T.shape[0], X_train.shape[1])))@X_train.T@y_train.ravel()\n",
        "\n",
        "    def predict(self, X_test: np.array) -> np.array:\n",
        "        X_test = np.hstack((np.ones((X_test.shape[0], 1)), X_test))\n",
        "\n",
        "        pred = X_test@self.weights\n",
        "\n",
        "        return pred"
      ]
    },
    {
      "cell_type": "code",
      "source": [],
      "metadata": {
        "id": "PZPfMcKBC-Uc"
      },
      "execution_count": null,
      "outputs": []
    },
    {
      "cell_type": "markdown",
      "source": [
        "Если бы не использовали класс, нам пришлось бы передавать веса `w` в функцию `predict()` каждый раз, когда мы захотели бы сделать предсказания, а так они хранятся внутри класса. Это особенно удобно, если таких вспомогательных переменных много."
      ],
      "metadata": {
        "id": "nUr6LVKMZKJO"
      }
    },
    {
      "cell_type": "markdown",
      "source": [
        "Будем тестировать ваш класс на датасете о стоимости домов в Калифорнии."
      ],
      "metadata": {
        "id": "MJW77s17TjWc"
      }
    },
    {
      "cell_type": "code",
      "source": [
        "X, y = fetch_california_housing(return_X_y=True, as_frame=True)"
      ],
      "metadata": {
        "id": "niRXfcjoTnY1"
      },
      "execution_count": 4,
      "outputs": []
    },
    {
      "cell_type": "markdown",
      "source": [
        "Разобъем данные на тренировочную и тестовую часть."
      ],
      "metadata": {
        "id": "iBoENaEHU5zp"
      }
    },
    {
      "cell_type": "code",
      "source": [
        "X_train, X_test, y_train, y_test = train_test_split(\n",
        "    X,\n",
        "    y,\n",
        "    test_size=TEST_SIZE,\n",
        "    random_state=RANDOM_STATE\n",
        "    )"
      ],
      "metadata": {
        "id": "gPf5ioAqUj4z"
      },
      "execution_count": 5,
      "outputs": []
    },
    {
      "cell_type": "markdown",
      "source": [
        "Масштабируем данные."
      ],
      "metadata": {
        "id": "i052kbxBU8uH"
      }
    },
    {
      "cell_type": "code",
      "source": [
        "sc = StandardScaler()\n",
        "\n",
        "sc.fit(X_train)\n",
        "\n",
        "X_train = pd.DataFrame(sc.transform(X_train), columns=X_train.columns)\n",
        "X_test = pd.DataFrame(sc.transform(X_test), columns=X_test.columns)"
      ],
      "metadata": {
        "id": "zDKnJu_mUra2"
      },
      "execution_count": 6,
      "outputs": []
    },
    {
      "cell_type": "markdown",
      "source": [
        "## Задание 1\n",
        "\n",
        "Обучите вашу линейную регрессию (без регуляризации) на тренировочных данных. Выведите на экран максимальный по модулю вес (со знаком). Ответ округлите до сотых."
      ],
      "metadata": {
        "id": "5FgImqv-W2I8"
      }
    },
    {
      "cell_type": "code",
      "source": [
        "model = LinearRegressor()"
      ],
      "metadata": {
        "id": "O1GFjCzHW354"
      },
      "execution_count": 88,
      "outputs": []
    },
    {
      "cell_type": "code",
      "source": [
        "model.fit(X_train, y_train)"
      ],
      "metadata": {
        "id": "icebEgMPCUWe"
      },
      "execution_count": 89,
      "outputs": []
    },
    {
      "cell_type": "code",
      "source": [
        "model.weights"
      ],
      "metadata": {
        "colab": {
          "base_uri": "https://localhost:8080/"
        },
        "id": "ydbaTsSKMU1j",
        "outputId": "160268b5-60b9-4466-b094-939018cd5418"
      },
      "execution_count": 90,
      "outputs": [
        {
          "output_type": "execute_result",
          "data": {
            "text/plain": [
              "array([ 2.07034892e+00,  8.52108147e-01,  1.20655325e-01, -3.02105554e-01,\n",
              "        3.48605752e-01, -1.64465406e-03, -4.11635631e-02, -8.93146971e-01,\n",
              "       -8.67840463e-01])"
            ]
          },
          "metadata": {},
          "execution_count": 90
        }
      ]
    },
    {
      "cell_type": "code",
      "source": [
        "max(abs(model.weights))"
      ],
      "metadata": {
        "colab": {
          "base_uri": "https://localhost:8080/"
        },
        "id": "6rBLuHbcJ0Sj",
        "outputId": "da0908a4-eb76-4168-91c6-af4dd05a0700"
      },
      "execution_count": 83,
      "outputs": [
        {
          "output_type": "execute_result",
          "data": {
            "text/plain": [
              "2.0703489205426377"
            ]
          },
          "metadata": {},
          "execution_count": 83
        }
      ]
    },
    {
      "cell_type": "markdown",
      "source": [
        "## Задание 2\n",
        "\n",
        "Сделайте прогноз на тестовых данных и выведите на экран значение метрики $R^2$ на тесте.  \n",
        "Ответ округлите до тысячных."
      ],
      "metadata": {
        "id": "8_2fdHpGW5Tt"
      }
    },
    {
      "cell_type": "code",
      "source": [
        "from sklearn.metrics import r2_score\n",
        "\n",
        "y_pred = model.predict(X_test)"
      ],
      "metadata": {
        "id": "8qXP-aqUW5xP"
      },
      "execution_count": 91,
      "outputs": []
    },
    {
      "cell_type": "code",
      "source": [
        "y_pred.shape"
      ],
      "metadata": {
        "colab": {
          "base_uri": "https://localhost:8080/"
        },
        "id": "6-pHQd4tNWKZ",
        "outputId": "71046aa4-493c-4a4f-b8d2-47c5aa1f16fc"
      },
      "execution_count": 92,
      "outputs": [
        {
          "output_type": "execute_result",
          "data": {
            "text/plain": [
              "(5160,)"
            ]
          },
          "metadata": {},
          "execution_count": 92
        }
      ]
    },
    {
      "cell_type": "code",
      "source": [
        "y_test.shape"
      ],
      "metadata": {
        "colab": {
          "base_uri": "https://localhost:8080/"
        },
        "id": "d488XsrANZIo",
        "outputId": "e3c00dc9-42c2-4ac4-db4d-5fe40f3563b2"
      },
      "execution_count": 93,
      "outputs": [
        {
          "output_type": "execute_result",
          "data": {
            "text/plain": [
              "(5160,)"
            ]
          },
          "metadata": {},
          "execution_count": 93
        }
      ]
    },
    {
      "cell_type": "code",
      "source": [
        "r2_score(y_test, y_pred)"
      ],
      "metadata": {
        "colab": {
          "base_uri": "https://localhost:8080/"
        },
        "id": "rtlkdRkkNeMM",
        "outputId": "a8fe0223-8e1a-4c04-e84e-e18a930949d3"
      },
      "execution_count": 94,
      "outputs": [
        {
          "output_type": "execute_result",
          "data": {
            "text/plain": [
              "0.5910509795491352"
            ]
          },
          "metadata": {},
          "execution_count": 94
        }
      ]
    },
    {
      "cell_type": "markdown",
      "source": [
        "## Задание 3\n",
        "\n",
        "Теперь обучите линейную регрессию с коэффициентом регуляризации $\\alpha = 100$ на тренировочных данных.\n",
        "\n",
        "Чему теперь равен наибольший по модулю вес? Ответ округлите до сотых."
      ],
      "metadata": {
        "id": "ifbWwkBwW6eT"
      }
    },
    {
      "cell_type": "code",
      "source": [
        "model2 = LinearRegressor(reg_coef=100)\n",
        "model2.fit(X_train, y_train)"
      ],
      "metadata": {
        "id": "6lsKNemsW6-U"
      },
      "execution_count": 100,
      "outputs": []
    },
    {
      "cell_type": "code",
      "source": [
        "max(abs(model2.weights))"
      ],
      "metadata": {
        "colab": {
          "base_uri": "https://localhost:8080/"
        },
        "id": "6CVI4J8cOOFW",
        "outputId": "79990fc8-5346-4457-803b-030410374961"
      },
      "execution_count": 103,
      "outputs": [
        {
          "output_type": "execute_result",
          "data": {
            "text/plain": [
              "2.0640961047061324"
            ]
          },
          "metadata": {},
          "execution_count": 103
        }
      ]
    },
    {
      "cell_type": "markdown",
      "source": [
        "## Задание 4\n",
        "\n",
        "Для модели с регуляризацией сделайте прогноз на тестовых данных и выведите на экран значение метрики $R^2$ на тесте.  \n",
        "Ответ округлите до тысячных."
      ],
      "metadata": {
        "id": "aQGP9xoOW8Kc"
      }
    },
    {
      "cell_type": "code",
      "source": [
        "y_pred2 = model2.predict(X_test)\n",
        "r2_score(y_test, y_pred2)"
      ],
      "metadata": {
        "id": "DkSCG1rUW8n-",
        "colab": {
          "base_uri": "https://localhost:8080/"
        },
        "outputId": "26b63c5c-2cce-4e27-ecc6-bfaa0ad9fb35"
      },
      "execution_count": 104,
      "outputs": [
        {
          "output_type": "execute_result",
          "data": {
            "text/plain": [
              "0.5923211097894452"
            ]
          },
          "metadata": {},
          "execution_count": 104
        }
      ]
    }
  ]
}