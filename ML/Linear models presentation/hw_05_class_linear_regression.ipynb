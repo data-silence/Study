{
  "nbformat": 4,
  "nbformat_minor": 0,
  "metadata": {
    "colab": {
      "provenance": []
    },
    "kernelspec": {
      "name": "python3",
      "language": "python",
      "display_name": "Python 3 (ipykernel)"
    },
    "language_info": {
      "name": "python"
    }
  },
  "cells": [
    {
      "cell_type": "markdown",
      "source": [
        "# Градиентный спуск"
      ],
      "metadata": {
        "id": "UxKHEXFaylYH"
      }
    },
    {
      "cell_type": "markdown",
      "source": [
        "Сгенерируем выборку для задачи регрессии и визуализируем данные"
      ],
      "metadata": {
        "id": "Tb-5iUrybT-m"
      }
    },
    {
      "cell_type": "code",
      "source": [
        "import random\n",
        "import matplotlib.pyplot as plt\n",
        "import numpy as np\n",
        "%matplotlib inline\n",
        "\n",
        "np.random.seed(42)\n",
        "\n",
        "X = np.linspace(-10,10,100)\n",
        "\n",
        "print(X.shape)\n",
        "\n",
        "y = X * (np.random.random_sample(len(X)) + 0.5)\n",
        "X = X.reshape(len(X), 1)\n",
        "\n",
        "print(X.shape)\n",
        "\n",
        "plt.scatter(X, y)"
      ],
      "metadata": {
        "colab": {
          "base_uri": "https://localhost:8080/",
          "height": 484
        },
        "id": "e6hYQKiiGpFq",
        "outputId": "9d3321e2-11a9-4684-c2f8-b1105e281c73",
        "ExecuteTime": {
          "end_time": "2023-11-04T14:33:43.652462911Z",
          "start_time": "2023-11-04T14:33:41.922272178Z"
        }
      },
      "execution_count": 1,
      "outputs": [
        {
          "output_type": "stream",
          "name": "stdout",
          "text": [
            "(100,)\n",
            "(100, 1)\n"
          ]
        },
        {
          "output_type": "execute_result",
          "data": {
            "text/plain": [
              "<matplotlib.collections.PathCollection at 0x7e1a4fee2c80>"
            ]
          },
          "metadata": {},
          "execution_count": 1
        },
        {
          "output_type": "display_data",
          "data": {
            "text/plain": [
              "<Figure size 640x480 with 1 Axes>"
            ],
            "image/png": "[encoded data removed]"
          },
          "metadata": {}
        }
      ]
    },
    {
      "cell_type": "markdown",
      "source": [
        "Реализуем метод градиентного спуска для обучения линейной регрессии."
      ],
      "metadata": {
        "id": "1YJ9cqoYG-N3"
      }
    },
    {
      "cell_type": "markdown",
      "source": [
        "Сначала напишем функцию для вычисления среднеквадратичной ошибки\n",
        "\n",
        "$MSE = \\frac{1}{m}||Xw - y||^2_2$.\n",
        "\n",
        "Здесь квадратичная ошибка записана в матричном виде, т.е. $X$ - матрица объект-признак, $w$ - вектор весов модели.\n",
        "*  $Xw$ - вектор предсказания модели\n",
        "*  $y$ - вектор правильных ответов,\n",
        "и квадратичная ошибка - это квадрат нормы разности вектора предсказания и вектора правильных ответов.\n",
        "\n",
        "Вычислить норму вектора в python можно разными способами. Здесь мы  воспользуемся готовой функцией из библиотеку numpy - numpy.linalg.norm."
      ],
      "metadata": {
        "id": "uqXcS5A5bLfX"
      }
    },
    {
      "cell_type": "code",
      "source": [
        "import numpy as np\n",
        "\n",
        "def compute_cost(X, y, theta):\n",
        "    m = len(y)\n",
        "\n",
        "    cost = (1./m) * (np.linalg.norm(X @ theta - y) ** 2)\n",
        "    return cost"
      ],
      "metadata": {
        "id": "YEQuDFkiHG4f",
        "ExecuteTime": {
          "end_time": "2023-11-04T14:33:43.652958998Z",
          "start_time": "2023-11-04T14:33:43.253617077Z"
        }
      },
      "execution_count": 2,
      "outputs": []
    },
    {
      "cell_type": "markdown",
      "source": [
        "Реализуем градиентный спуск по формуле\n",
        "\n",
        "$$w_{new} = w_{prev} - \\eta\\nabla_w Q(w_{prev})$$"
      ],
      "metadata": {
        "id": "Cj9DrXzZbOLi"
      }
    },
    {
      "cell_type": "markdown",
      "source": [
        "Вычислим градиент MSE:\n",
        "$$\\nabla_w Q(w)=\\frac2m X^T(Xw-y).$$"
      ],
      "metadata": {
        "id": "nkcALpyjdIAT"
      }
    },
    {
      "cell_type": "markdown",
      "source": [
        "Итак, реализуем метод градиентного спуска:\n",
        "\n",
        "*  первым шагом добавим к матрице $X$ единичный столбец - это константный признак, равный 1 на всех объектах. Он нужен, чтобы записать предсказание линейной регрессии в виде скалярного произведения и тем самым избавиться от знака суммы:\n",
        "$a(x)=w_0+w_1x_1+...+w_dx_d=w_1\\cdot 1+w_1x_1+...w_dx_d=(w,x)$\n",
        "\n",
        "В python скалярное произведение можно записать так: $w@x$\n",
        "\n",
        "*  затем инициализируем случайным образом вектор весов params\n",
        "\n",
        "*  зададим пустой массив cost_track, в который будем записывать ошибку на каждой итерации\n",
        "\n",
        "*  наконец, в цикле по количеству эпох (итераций) будем обновлять веса по формуле градиентного спуска"
      ],
      "metadata": {
        "id": "2jus26KKsKTz"
      }
    },
    {
      "cell_type": "markdown",
      "source": [
        "## Задание 1\n",
        "\n",
        "Добавьте в функцию градиентного спуска из семинара L2-регуляризацию.\n",
        "\n",
        "В этом случае градиент будет считаться по формуле\n",
        "\n",
        "$$\\nabla_w Q(w)=\\frac2m (X^T(Xw-y)+\\lambda w).$$\n",
        "\n",
        "Добавьте в функцию `gradient_descent` гиперпараметр `lambda_`, задайте его по умолчанию равным нулю."
      ],
      "metadata": {
        "id": "GnpEyztDmjVM"
      }
    },
    {
      "cell_type": "code",
      "source": [
        "def gradient_descent(X, y, learning_rate, iterations, lambda_=0):\n",
        "    X = np.hstack((np.ones((X.shape[0], 1)), X))\n",
        "    w = np.random.rand(X.shape[1])\n",
        "    cost_track = []\n",
        "    m = X.shape[0]\n",
        "    for it_num in range(iterations):\n",
        "      grad = 2 / m * (X.T @ (X @ w - y) + lambda_ * w)\n",
        "      w_new = w - learning_rate * grad\n",
        "      iter_error = compute_cost(X, y, w)\n",
        "      cost_track.append(iter_error)\n",
        "      w = w_new\n",
        "    return w, cost_track"
      ],
      "metadata": {
        "id": "7TJNbyLJdSVj"
      },
      "execution_count": 3,
      "outputs": []
    },
    {
      "cell_type": "markdown",
      "source": [
        "## Задание 2\n",
        "\n",
        "Модифицируйте функцию из задания 1 так, чтобы она осуществляла стохастический градиентный спуск - назовите новую функцию `stochastic_gradient_descent` (она также должна учитывать регуляризацию).\n",
        "\n",
        "* в стохастическом градиентном спуске на каждой итерации метода мы выбираем случайный объект - пусть это будет индекс случайного объекта `ind`\n",
        "\n",
        "* затем применяем обычный градиентный спуск, но с условием, что градиент считается не по всем объектам, а только по объекту с индексом `ind`, поэтому в формуле для обновления весов должно произойти два изменения:\n",
        "  - мы обращаемся не ко всей матрице `X`, а только к одному объекту.\n",
        "\n",
        "  **Подсказка:** чтобы матричная запись не поменялась, мы можем объявить новую матрицу `X_ind = X[ind, :].reshape(-1,1)` и работать с ней.\n",
        "  - при вычислении градиента по одному объекту делить результат на число объектов `m` не требуется."
      ],
      "metadata": {
        "id": "htj0rJhBIxuj"
      }
    },
    {
      "cell_type": "code",
      "source": [
        "def stochastic_gradient_descent(X, y, learning_rate, iterations, lambda_=0):\n",
        "    X = np.hstack((np.ones((X.shape[0], 1)), X))\n",
        "    w = np.random.rand(X.shape[1])\n",
        "    cost_track = []\n",
        "    m = X.shape[0]\n",
        "    for iters in range(iterations):\n",
        "      ind = np.random.randint(0, m)  # скорее всего X.shape[0] + 1\n",
        "      X_ind = X[ind, :].reshape(1,-1)\n",
        "      grad = 2 * (X_ind.T @ ((X_ind @ w) - y[ind]) + lambda_ * w)\n",
        "      w -= learning_rate * grad\n",
        "      iter_error = compute_cost(X, y, w)\n",
        "      cost_track.append(iter_error)\n",
        "    return w, cost_track"
      ],
      "metadata": {
        "id": "4-VngWBHmUxE"
      },
      "execution_count": 8,
      "outputs": []
    },
    {
      "cell_type": "code",
      "source": [
        "w_true, cost_track = stochastic_gradient_descent(X, y, learning_rate=0.001, iterations=100, lambda_=100)\n",
        "w_true"
      ],
      "metadata": {
        "colab": {
          "base_uri": "https://localhost:8080/"
        },
        "id": "K3JWVJ6NJvFJ",
        "outputId": "ac792d33-4813-4717-ec04-86693fc0fc3d"
      },
      "execution_count": 60,
      "outputs": [
        {
          "output_type": "execute_result",
          "data": {
            "text/plain": [
              "array([-0.02139812,  0.27946954])"
            ]
          },
          "metadata": {},
          "execution_count": 60
        }
      ]
    },
    {
      "cell_type": "code",
      "source": [
        "_, pareams = stochastic_gradient_descent(X, y, learning_rate=0.001, iterations=100)"
      ],
      "metadata": {
        "id": "h6dR8ZEFKJWp"
      },
      "execution_count": 284,
      "outputs": []
    },
    {
      "cell_type": "markdown",
      "source": [
        "Создадим функцию для получения предсказания модели"
      ],
      "metadata": {
        "id": "R__qZ_ESbQ98"
      }
    },
    {
      "cell_type": "code",
      "source": [
        "def predict(X, params):\n",
        "    X = np.hstack((np.ones((X.shape[0], 1)), X))\n",
        "    return X @ params"
      ],
      "metadata": {
        "id": "REpiCGpGaVO6"
      },
      "execution_count": 67,
      "outputs": []
    },
    {
      "cell_type": "markdown",
      "source": [
        "## Вопрос 1\n",
        "\n",
        "Примените функцию `gradient_descent` без регуляризации, с шагом 0.01 и 100 итерациями.\n",
        "\n",
        "Чему равен наибольший вес модели? Ответ округлите до сотых."
      ],
      "metadata": {
        "id": "tZh5I2tgpwFN"
      }
    },
    {
      "cell_type": "code",
      "source": [
        "w, gd_costs = gradient_descent(X, y, learning_rate=0.01, iterations=100)"
      ],
      "metadata": {
        "id": "yR_Taz95p7xn"
      },
      "execution_count": 13,
      "outputs": []
    },
    {
      "cell_type": "code",
      "source": [
        "w"
      ],
      "metadata": {
        "colab": {
          "base_uri": "https://localhost:8080/"
        },
        "id": "j2zLz0HG-6fB",
        "outputId": "ebeb9fc0-9069-4fbf-9621-02f764bdfe56"
      },
      "execution_count": 5,
      "outputs": [
        {
          "output_type": "execute_result",
          "data": {
            "text/plain": [
              "array([0.03439099, 0.96568968])"
            ]
          },
          "metadata": {},
          "execution_count": 5
        }
      ]
    },
    {
      "cell_type": "markdown",
      "source": [
        "## Вопрос 2\n",
        "\n",
        "Примените функцию `gradient_descent` с коэффициентом регуляризации 1000, с шагом 0.01 и 100 итерациями.\n",
        "\n",
        "Чему равен наибольший вес модели? Ответ округлите до сотых."
      ],
      "metadata": {
        "id": "fpBOWHC6p_VQ"
      }
    },
    {
      "cell_type": "code",
      "source": [
        "w, _ = gradient_descent(X, y, learning_rate=0.01, iterations=100, lambda_=1000)"
      ],
      "metadata": {
        "id": "vEVrUAc5p_VR"
      },
      "execution_count": 6,
      "outputs": []
    },
    {
      "cell_type": "code",
      "source": [
        "w"
      ],
      "metadata": {
        "colab": {
          "base_uri": "https://localhost:8080/"
        },
        "id": "zpIr7Rbh7Ioq",
        "outputId": "243a9768-0c4b-4591-a1e2-89cb5e1bd356"
      },
      "execution_count": 7,
      "outputs": [
        {
          "output_type": "execute_result",
          "data": {
            "text/plain": [
              "array([0.00316762, 0.74624834])"
            ]
          },
          "metadata": {},
          "execution_count": 7
        }
      ]
    },
    {
      "cell_type": "markdown",
      "source": [
        "## Вопрос 3\n",
        "\n",
        "Примените функцию `stochastic_gradient_descent` без регуляризации, с шагом 0.001 и 100 итерациями.\n",
        "\n",
        "Чему равен наибольший вес модели? Ответ округлите до сотых."
      ],
      "metadata": {
        "id": "69OMY-K2qGZy"
      }
    },
    {
      "cell_type": "code",
      "source": [
        "np.random.seed(42)\n",
        "\n",
        "w_true, sgd_costs = stochastic_gradient_descent(X, y, learning_rate=0.001, iterations=100)\n",
        "w_true"
      ],
      "metadata": {
        "id": "F5HfroPFqGZ1",
        "colab": {
          "base_uri": "https://localhost:8080/"
        },
        "outputId": "9d56fc18-e41f-4c2b-e19c-fbd5d8d37405"
      },
      "execution_count": 14,
      "outputs": [
        {
          "output_type": "execute_result",
          "data": {
            "text/plain": [
              "array([0.27882166, 1.00181914])"
            ]
          },
          "metadata": {},
          "execution_count": 14
        }
      ]
    },
    {
      "cell_type": "markdown",
      "source": [
        "## Вопрос 4\n",
        "\n",
        "Примените функцию `stochastic_gradient_descent` с коэффициентом регуляризации 100, с шагом 0.001 и 100 итерациями.\n",
        "\n",
        "Чему равен наибольший вес модели? Ответ округлите до сотых."
      ],
      "metadata": {
        "id": "9mnbe97RqtA1"
      }
    },
    {
      "cell_type": "code",
      "source": [
        "np.random.seed(42)\n",
        "\n",
        "w_true, cost_track = stochastic_gradient_descent(X, y, learning_rate=0.001, iterations=100, lambda_=100)\n",
        "w_true"
      ],
      "metadata": {
        "id": "26_l2uCdqtA3",
        "colab": {
          "base_uri": "https://localhost:8080/"
        },
        "outputId": "bb9b6805-76d3-4b70-9f63-dfc980da035c"
      },
      "execution_count": 12,
      "outputs": [
        {
          "output_type": "execute_result",
          "data": {
            "text/plain": [
              "array([0.01572833, 0.24921064])"
            ]
          },
          "metadata": {},
          "execution_count": 12
        }
      ]
    },
    {
      "cell_type": "markdown",
      "source": [
        "## Вопрос 5\n",
        "\n",
        "Нарисуйте ошибку в зависимости от номера итерации для GD и SGD на одной картинке. Используйте для обучения в обоих случаях `learning_rate=0.001, iterations=100, lambda_=0.`\n",
        "\n",
        "Можно ли сказать, что оба графика монотонно убывают?"
      ],
      "metadata": {
        "id": "cTsAye0Uq-VW"
      }
    },
    {
      "cell_type": "code",
      "source": [
        "cost_array = np.array((np.arange(1, 100), gd_costs, sgd_costs))"
      ],
      "metadata": {
        "id": "pBntkyzDq-Va",
        "colab": {
          "base_uri": "https://localhost:8080/"
        },
        "outputId": "3532a052-3868-4d8a-8255-b665c05fdc7f"
      },
      "execution_count": 20,
      "outputs": [
        {
          "output_type": "stream",
          "name": "stderr",
          "text": [
            "<ipython-input-20-bb92f27a494f>:1: VisibleDeprecationWarning: Creating an ndarray from ragged nested sequences (which is a list-or-tuple of lists-or-tuples-or ndarrays with different lengths or shapes) is deprecated. If you meant to do this, you must specify 'dtype=object' when creating the ndarray.\n",
            "  cost_array = np.array((np.arange(1, 100), gd_costs, sgd_costs))\n"
          ]
        }
      ]
    },
    {
      "cell_type": "code",
      "source": [
        "nums = np.arange(0, 100)\n",
        "gd = np.array(gd_costs)\n",
        "sgd = np.array(sgd_costs)"
      ],
      "metadata": {
        "id": "L1vqFbVQVC-X"
      },
      "execution_count": 26,
      "outputs": []
    },
    {
      "cell_type": "code",
      "source": [
        "nums.shape, gd.shape, sgd.shape"
      ],
      "metadata": {
        "colab": {
          "base_uri": "https://localhost:8080/"
        },
        "id": "JVkKYTyvV66D",
        "outputId": "f5725f82-a05d-42a6-91e0-e662ad2e7f3e"
      },
      "execution_count": 27,
      "outputs": [
        {
          "output_type": "execute_result",
          "data": {
            "text/plain": [
              "((100,), (100,), (100,))"
            ]
          },
          "metadata": {},
          "execution_count": 27
        }
      ]
    },
    {
      "cell_type": "code",
      "source": [
        "cost_array = np.array((nums, gd, sgd))"
      ],
      "metadata": {
        "id": "DjXxn49rVtse"
      },
      "execution_count": 30,
      "outputs": []
    },
    {
      "cell_type": "code",
      "source": [
        "cost_array.shape"
      ],
      "metadata": {
        "colab": {
          "base_uri": "https://localhost:8080/"
        },
        "id": "2Nqh5_h9WPWL",
        "outputId": "d46b1683-83c1-4af1-f7a8-7c47f242d107"
      },
      "execution_count": 32,
      "outputs": [
        {
          "output_type": "execute_result",
          "data": {
            "text/plain": [
              "(3, 100)"
            ]
          },
          "metadata": {},
          "execution_count": 32
        }
      ]
    },
    {
      "cell_type": "code",
      "source": [
        "fig, ax = plt.subplots()\n",
        "ax.plot(nums, gd)\n",
        "ax.plot(nums, sgd)"
      ],
      "metadata": {
        "colab": {
          "base_uri": "https://localhost:8080/",
          "height": 448
        },
        "id": "QQG7ZdopWU2f",
        "outputId": "e7e0203a-b6f4-44ab-976b-95c5d7b89d4a"
      },
      "execution_count": 43,
      "outputs": [
        {
          "output_type": "execute_result",
          "data": {
            "text/plain": [
              "[<matplotlib.lines.Line2D at 0x7e1a2c001ba0>]"
            ]
          },
          "metadata": {},
          "execution_count": 43
        },
        {
          "output_type": "display_data",
          "data": {
            "text/plain": [
              "<Figure size 640x480 with 1 Axes>"
            ],
            "image/png": "[encoded data removed]"
          },
          "metadata": {}
        }
      ]
    },
    {
      "cell_type": "markdown",
      "source": [
        "## Задание (бонус, без проверки)\n",
        "\n",
        "Реализуйте стохастический градиентный спуск с регуляризацией в виде класса. Протестируйте его."
      ],
      "metadata": {
        "id": "7x3Gt7vYrpCq"
      }
    },
    {
      "cell_type": "code",
      "source": [
        "def fit(self, X: np.array, y: np.array, learning_rate: float, iterations: int, reg_coef: float=0.0) -> None:\n",
        "        X = np.hstack((np.ones((X.shape[0], 1)), X)) # добавляем константный признак (столбец из 1)\n",
        "        params = np.random.rand(X.shape[1]) # инициализируем веса\n",
        "        m = X.shape[0] # число объектов\n",
        "        cost_track = np.zeros((iterations, 1)) # массив с ошибками (MSE)\n",
        "        for i in range(iterations):\n",
        "            ind = np.random.randint(low=0, high=m) # генерируем случайный признак\n",
        "            X_ind = X[ind, :].reshape(-1,1)\n",
        "            params = params - 2 * learning_rate * (X_ind @ ((X_ind.T @ params) - y[ind]) + reg_coef * params)\n",
        "            cost_track[i] = compute_cost(X, y, params)\n",
        "        self.weights = params\n",
        "        self.errors = cost_track"
      ],
      "metadata": {
        "id": "Jf1XKMlhc2um"
      },
      "execution_count": 44,
      "outputs": []
    }
  ]
}