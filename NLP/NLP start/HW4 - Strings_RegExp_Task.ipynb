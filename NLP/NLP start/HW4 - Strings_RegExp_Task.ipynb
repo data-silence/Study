{
  "nbformat": 4,
  "nbformat_minor": 0,
  "metadata": {
    "colab": {
      "provenance": []
    },
    "kernelspec": {
      "name": "python3",
      "display_name": "Python 3"
    },
    "language_info": {
      "name": "python"
    }
  },
  "cells": [
    {
      "cell_type": "markdown",
      "source": [
        "# Работа со строками. Регулярные выражения. Практика"
      ],
      "metadata": {
        "id": "nWvD7qWzGI1J"
      }
    },
    {
      "cell_type": "markdown",
      "source": [
        "## Как сдавать"
      ],
      "metadata": {
        "id": "pKiSLIceOw7u"
      }
    },
    {
      "cell_type": "markdown",
      "source": [
        "\n",
        "\n",
        "1.   Создаем копию ноутбука и сохраняем к себе на Google Drive\n",
        "2.   Выполняем задания\n",
        "3.   Делаем ноутбук доступным для чтения и комментариев\n",
        "     - в правом верхнем углу кликаем `Share`\n",
        "     - выбираем Anyone with the link (в `General access`)\n",
        "     - меняем роль `Viewer` на `Commenter`\n",
        "     - копируем получившуюся ссылку (`Copy link`) и отправляем на степик\n"
      ],
      "metadata": {
        "id": "bstPr_kfO4Bg"
      }
    },
    {
      "cell_type": "markdown",
      "source": [
        "## Упражнения"
      ],
      "metadata": {
        "id": "lHvWur9lfs8v"
      }
    },
    {
      "cell_type": "code",
      "source": [
        "import re"
      ],
      "metadata": {
        "id": "SQ1t7nKMy0e4"
      },
      "execution_count": null,
      "outputs": []
    },
    {
      "cell_type": "markdown",
      "source": [
        "### Задание 1. Четное число"
      ],
      "metadata": {
        "id": "dSwELBk53g-V"
      }
    },
    {
      "cell_type": "markdown",
      "source": [
        "Напишите регулярное выражение, соответствующее четному числу."
      ],
      "metadata": {
        "id": "nehfD6fd3pFQ"
      }
    },
    {
      "cell_type": "code",
      "source": [
        "# числа\n",
        "numbers = {\n",
        "    \"2341\": False,\n",
        "    \"132\": True,\n",
        "    \"29\": False,\n",
        "    \"5578\": True\n",
        "}\n",
        "\n",
        "pattern = r'^-?\\d*[02468]$'\n",
        "for number, answer in numbers.items():\n",
        "  assert bool(re.match(pattern, number)) == numbers[number]"
      ],
      "metadata": {
        "id": "5dRgorkJ3qUU"
      },
      "execution_count": null,
      "outputs": []
    },
    {
      "cell_type": "markdown",
      "source": [
        "### Задание 2. Гласные"
      ],
      "metadata": {
        "id": "ZL--cOY4fvkn"
      }
    },
    {
      "cell_type": "markdown",
      "source": [
        "Извлечь все слова, начинающиеся на гласную"
      ],
      "metadata": {
        "id": "ujnPIx0Dfznb"
      }
    },
    {
      "cell_type": "code",
      "source": [
        "string = 'ОГО Десять негритят отправились обедать, \\\n",
        "          Один поперхнулся, их осталось девять.'\n",
        "pattern = r'\\b[АЕЁИОУЫЭЮЯаеёиоуыэюя]\\w+\\b'\n",
        "re.findall(pattern, string)"
      ],
      "metadata": {
        "id": "RbkJSfSZHxUi",
        "colab": {
          "base_uri": "https://localhost:8080/"
        },
        "outputId": "a9a79836-6575-4824-b893-c6242004039c"
      },
      "execution_count": null,
      "outputs": [
        {
          "output_type": "execute_result",
          "data": {
            "text/plain": [
              "['ОГО', 'отправились', 'обедать', 'Один', 'их', 'осталось']"
            ]
          },
          "metadata": {},
          "execution_count": 20
        }
      ]
    },
    {
      "cell_type": "markdown",
      "source": [
        "### Задание 3. Телефонный номер"
      ],
      "metadata": {
        "id": "LJFV1Cy2yRJR"
      }
    },
    {
      "cell_type": "markdown",
      "source": [
        "Проверить телефонный номер (номер должен быть длиной 10 знаков и начинаться с 7 или 8)"
      ],
      "metadata": {
        "id": "CfSGk0pGyVCb"
      }
    },
    {
      "cell_type": "code",
      "source": [
        "phone_numbers = ['899999999964', '8999999999', '79999999992', '7999999999', '9999999999']\n",
        "pattern = r'(7|8)[0-9]{9}$'\n",
        "\n",
        "for number in phone_numbers:\n",
        "  match = re.search(pattern, number)\n",
        "  if  match:\n",
        "      print(f'{number} - корректный телефонный номер')\n",
        "  else:\n",
        "      print (f'{number} - некорректный телефонный номер')"
      ],
      "metadata": {
        "id": "VCOJVmcuyQL5",
        "colab": {
          "base_uri": "https://localhost:8080/"
        },
        "outputId": "7d8e04e0-0564-4d5f-9888-ed9b7e20c3f6"
      },
      "execution_count": null,
      "outputs": [
        {
          "output_type": "stream",
          "name": "stdout",
          "text": [
            "899999999964 - некорректный телефонный номер\n",
            "8999999999 - корректный телефонный номер\n",
            "79999999992 - некорректный телефонный номер\n",
            "7999999999 - корректный телефонный номер\n",
            "9999999999 - некорректный телефонный номер\n"
          ]
        }
      ]
    },
    {
      "cell_type": "markdown",
      "source": [
        "### Задание 4. Номера автомобилей"
      ],
      "metadata": {
        "id": "LiUIhVJSybLM"
      }
    },
    {
      "cell_type": "markdown",
      "source": [
        "В России применяются регистрационные знаки нескольких видов. Общего в них то, что они состоят из цифр и букв. Причём используются только 12 букв кириллицы,\n",
        "имеющие графические аналоги в латинском алфавите — А, В, Е, К, М, Н, О, Р, С, Т, У и Х.\n",
        "\n",
        "У частных легковых автомобилях номера — это буква, три цифры, две буквы, затем две или три цифры с\n",
        "кодом региона. У такси — две буквы, три цифры, затем две или три цифры с кодом региона.\n",
        "Есть также и другие виды, но в этой задаче они не понадобятся."
      ],
      "metadata": {
        "id": "oTA5KMCeyeaM"
      }
    },
    {
      "cell_type": "code",
      "source": [
        "# Автомобильные номера\n",
        "numbers = ['С227НА777', 'КУ22777', 'Т22В7477', 'М227К19У9', 'С227НА8777']\n",
        "\n",
        "# Теперь правильные ответы\n",
        "Answers = ['Private', 'Taxi', 'Fail', 'Fail', 'Fail']"
      ],
      "metadata": {
        "id": "pxEiw7jGyeB4"
      },
      "execution_count": null,
      "outputs": []
    },
    {
      "cell_type": "code",
      "source": [
        "x = int(input('Введите номер примера для проверки:'))\n",
        "number = numbers[x]\n",
        "\n",
        "private_pattern = r'\\b[АВЕКМНОРСТУХ]\\d{3}[АВЕКМНОРСТУХ]{2}\\d{2,3}\\b'\n",
        "taxi_pattern = r'\\b[АВЕКМНОРСТУХ]{2}\\d{5,6}\\b'\n",
        "\n",
        "if re.match(private_pattern, number) and len(number) in (8,9):\n",
        "    print('Private')\n",
        "elif re.match(taxi_pattern, number) and len(number) in (7,8):\n",
        "    print('Taxi')\n",
        "else:\n",
        "    print('Fail')"
      ],
      "metadata": {
        "id": "pb5eWG0G2Bmn",
        "colab": {
          "base_uri": "https://localhost:8080/"
        },
        "outputId": "470455a7-963b-4663-a5ab-8662507c9a8f"
      },
      "execution_count": null,
      "outputs": [
        {
          "output_type": "stream",
          "name": "stdout",
          "text": [
            "Введите номер примера для проверки:0\n",
            "Private\n"
          ]
        }
      ]
    },
    {
      "cell_type": "markdown",
      "source": [
        "### Задание 5. Проверка пароля"
      ],
      "metadata": {
        "id": "Do324_es5lNH"
      }
    },
    {
      "cell_type": "markdown",
      "source": [
        "На сайте нужно вывести сообщение, если пароль не валиден.\n",
        "Обычно пароль должен содержать не менее 8 символов, не менее одной заглавной буквы,\n",
        "не менее одной строчной буквы и, опционально, символ.\n",
        "\n",
        "_\"Your password must have at least 8 characters, at least an upper case letter, an lowercase letter,\n",
        "a number and probably a symbol so you make sure you’ll never remember it in the future\"_"
      ],
      "metadata": {
        "id": "Uwjvt6HP5ujl"
      }
    },
    {
      "cell_type": "code",
      "source": [
        "passwords = ['', '1', 'abcdefgh', 'abCdefgh', 'ABCDEFGH', 'ab3defGh']\n",
        "\n",
        "# Не менее 8 символов (тут не считаются знаки препинания)\n",
        "char_regex = re.compile(r'\\w{8,}') # Ваш код здесь\n",
        "\n",
        "# Не менее 1 маленькой буквы\n",
        "lower_regex = re.compile(r'[a-z]{1,}') # Ваш код здесь\n",
        "\n",
        "# Не менее 1 большой буквы\n",
        "upper_regex = re.compile(r'[A-Z]{1,}') # Ваш код здесь\n",
        "\n",
        "# Не менее 1 цифры\n",
        "digit_regex = re.compile(r'[0-9]{1,}') # Ваш код здесь\n",
        "\n",
        "# ПРОВЕРКА\n",
        "for password in passwords:\n",
        "  if char_regex.findall(password) == []:\n",
        "      print('Password must contain at least 8 characters')\n",
        "  elif lower_regex.findall(password)==[]:\n",
        "      print('Password must contain at least one lowercase character')\n",
        "  elif upper_regex.findall(password)==[]:\n",
        "      print('Password must contain at least one uppercase character')\n",
        "  elif digit_regex.findall(password)==[]:\n",
        "      print('Password must contain at least one digit character')\n",
        "  else:\n",
        "      print('Your password is strong. Good job!')"
      ],
      "metadata": {
        "colab": {
          "base_uri": "https://localhost:8080/"
        },
        "id": "LI3QUFB15qCl",
        "outputId": "d3f9fc5b-d9ea-4266-dfb9-abc66eb5d726"
      },
      "execution_count": null,
      "outputs": [
        {
          "output_type": "stream",
          "name": "stdout",
          "text": [
            "Password must contain at least 8 characters\n",
            "Password must contain at least 8 characters\n",
            "Password must contain at least one uppercase character\n",
            "Password must contain at least one digit character\n",
            "Password must contain at least one lowercase character\n",
            "Your password is strong. Good job!\n"
          ]
        }
      ]
    }
  ]
}