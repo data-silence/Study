{
  "cells": [
    {
      "cell_type": "markdown",
      "metadata": {
        "id": "xrInqRAx_NV7"
      },
      "source": [
        "# Домашнее задание\n",
        "\n",
        "Применим простые ML и DL-подходы для решения задачи регрессии. Будем прогнозировать зарплату сотрудников по ее описанию (датасет отличается от датасета с занятия)."
      ]
    },
    {
      "cell_type": "code",
      "execution_count": 1,
      "metadata": {
        "id": "6FWeD_Wdq6dJ"
      },
      "outputs": [],
      "source": [
        "import pandas as pd\n",
        "import numpy as np\n",
        "from sklearn.linear_model import Ridge\n",
        "from sklearn.model_selection import train_test_split, GridSearchCV\n",
        "from sklearn.metrics import r2_score\n",
        "from sklearn.feature_extraction.text import TfidfVectorizer\n",
        "import matplotlib.pyplot as plt"
      ]
    },
    {
      "cell_type": "markdown",
      "metadata": {
        "id": "7tj2nfCucY-f"
      },
      "source": [
        "Считайте из файла jobs.csv первые 100_000 строк и выведите на экран первые 10 строк таблицы."
      ]
    },
    {
      "cell_type": "code",
      "execution_count": 2,
      "metadata": {
        "id": "jt_-J8ONq6dV"
      },
      "outputs": [],
      "source": [
        "JOBS = 'https://www.dropbox.com/scl/fi/10z2fzgcldg9c0ghhekr9/jobs.csv?rlkey=j4b19zohmd8xai8zch42h5d7z&dl=1'"
      ]
    },
    {
      "cell_type": "code",
      "source": [
        "JOBS"
      ],
      "metadata": {
        "colab": {
          "base_uri": "https://localhost:8080/",
          "height": 35
        },
        "id": "D6hiY4K_vtoO",
        "outputId": "0c5c630b-abef-4507-ab61-a7d9c8b53a4b"
      },
      "execution_count": 3,
      "outputs": [
        {
          "output_type": "execute_result",
          "data": {
            "text/plain": [
              "'https://www.dropbox.com/scl/fi/10z2fzgcldg9c0ghhekr9/jobs.csv?rlkey=j4b19zohmd8xai8zch42h5d7z&dl=1'"
            ],
            "application/vnd.google.colaboratory.intrinsic+json": {
              "type": "string"
            }
          },
          "metadata": {},
          "execution_count": 3
        }
      ]
    },
    {
      "cell_type": "code",
      "source": [
        "df = pd.read_csv(JOBS, nrows=100_000)"
      ],
      "metadata": {
        "id": "oq8m1Dngvxud"
      },
      "execution_count": 4,
      "outputs": []
    },
    {
      "cell_type": "code",
      "execution_count": 53,
      "metadata": {
        "id": "jPz_HS89QKpa",
        "colab": {
          "base_uri": "https://localhost:8080/",
          "height": 311
        },
        "outputId": "27fe4552-f498-45ad-a859-fbe9c4354f52"
      },
      "outputs": [
        {
          "output_type": "execute_result",
          "data": {
            "text/plain": [
              "         Id                                              Title  \\\n",
              "0  72116516                 Chartered Senior Quantity Surveyor   \n",
              "1  72547512  Net Developer  VB / SQL  Central Manchester  *...   \n",
              "2  71680877  Desktop Support Administrator  Windows 7, Exch...   \n",
              "3  70241394                                Clinical Lead (RGN)   \n",
              "4  72692179        Charity Fundraisers  GET PAID TO SAVE LIVES   \n",
              "\n",
              "                                     FullDescription  \\\n",
              "0  Award winning multi disciplinary consultancy a...   \n",
              "1  A senior / experienced VB.Net Developer, with ...   \n",
              "2  Desktop Support Administrator  Windows 7, Exch...   \n",
              "3  RGN Clinical Lead Mid Glamorgan Very competiti...   \n",
              "4  CHARITY FUNDRAISING REPRESENTATIVES  GET PAID ...   \n",
              "\n",
              "                                         LocationRaw LocationNormalized  \\\n",
              "0                                           Somerset           Somerset   \n",
              "1  Manchester, Greater Manchester, England, Great...         Manchester   \n",
              "2                       Reading Berkshire South East            Reading   \n",
              "3                 Merthyr Tydfil Mid Glamorgan Wales                 UK   \n",
              "4  Exeter,Devon,EXMOUTH,CREDITON,OTTERY ST MARY,D...                 UK   \n",
              "\n",
              "  ContractType ContractTime                             Company  \\\n",
              "0          NaN    permanent                    Resourcing Group   \n",
              "1          NaN    permanent                       CV Screen Ltd   \n",
              "2          NaN    permanent                         Spectrum IT   \n",
              "3          NaN    permanent  BROOK STREET BUREAU   Cardiff Care   \n",
              "4          NaN    permanent                      Recruit4Talent   \n",
              "\n",
              "                    Category                                     SalaryRaw  \\\n",
              "0           Consultancy Jobs                           45000 - 55000/annum   \n",
              "1                    IT Jobs                30000 - 45000/annum + benefits   \n",
              "2                    IT Jobs  26000 - 30000 per annum + excellent benefits   \n",
              "3  Healthcare & Nursing Jobs            26026 - 29029 per annum + Benefits   \n",
              "4                 Sales Jobs                            7 per hour + bonus   \n",
              "\n",
              "   SalaryNormalized        SourceName  \n",
              "0             50000  cv-library.co.uk  \n",
              "1             37500  cv-library.co.uk  \n",
              "2             28000     totaljobs.com  \n",
              "3             27527     totaljobs.com  \n",
              "4             13440     jobsite.co.uk  "
            ],
            "text/html": [
              "\n",
              "  <div id=\"df-b6910d34-a8d5-451a-987a-cfd1e668ff6e\" class=\"colab-df-container\">\n",
              "    <div>\n",
              "<style scoped>\n",
              "    .dataframe tbody tr th:only-of-type {\n",
              "        vertical-align: middle;\n",
              "    }\n",
              "\n",
              "    .dataframe tbody tr th {\n",
              "        vertical-align: top;\n",
              "    }\n",
              "\n",
              "    .dataframe thead th {\n",
              "        text-align: right;\n",
              "    }\n",
              "</style>\n",
              "<table border=\"1\" class=\"dataframe\">\n",
              "  <thead>\n",
              "    <tr style=\"text-align: right;\">\n",
              "      <th></th>\n",
              "      <th>Id</th>\n",
              "      <th>Title</th>\n",
              "      <th>FullDescription</th>\n",
              "      <th>LocationRaw</th>\n",
              "      <th>LocationNormalized</th>\n",
              "      <th>ContractType</th>\n",
              "      <th>ContractTime</th>\n",
              "      <th>Company</th>\n",
              "      <th>Category</th>\n",
              "      <th>SalaryRaw</th>\n",
              "      <th>SalaryNormalized</th>\n",
              "      <th>SourceName</th>\n",
              "    </tr>\n",
              "  </thead>\n",
              "  <tbody>\n",
              "    <tr>\n",
              "      <th>0</th>\n",
              "      <td>72116516</td>\n",
              "      <td>Chartered Senior Quantity Surveyor</td>\n",
              "      <td>Award winning multi disciplinary consultancy a...</td>\n",
              "      <td>Somerset</td>\n",
              "      <td>Somerset</td>\n",
              "      <td>NaN</td>\n",
              "      <td>permanent</td>\n",
              "      <td>Resourcing Group</td>\n",
              "      <td>Consultancy Jobs</td>\n",
              "      <td>45000 - 55000/annum</td>\n",
              "      <td>50000</td>\n",
              "      <td>cv-library.co.uk</td>\n",
              "    </tr>\n",
              "    <tr>\n",
              "      <th>1</th>\n",
              "      <td>72547512</td>\n",
              "      <td>Net Developer  VB / SQL  Central Manchester  *...</td>\n",
              "      <td>A senior / experienced VB.Net Developer, with ...</td>\n",
              "      <td>Manchester, Greater Manchester, England, Great...</td>\n",
              "      <td>Manchester</td>\n",
              "      <td>NaN</td>\n",
              "      <td>permanent</td>\n",
              "      <td>CV Screen Ltd</td>\n",
              "      <td>IT Jobs</td>\n",
              "      <td>30000 - 45000/annum + benefits</td>\n",
              "      <td>37500</td>\n",
              "      <td>cv-library.co.uk</td>\n",
              "    </tr>\n",
              "    <tr>\n",
              "      <th>2</th>\n",
              "      <td>71680877</td>\n",
              "      <td>Desktop Support Administrator  Windows 7, Exch...</td>\n",
              "      <td>Desktop Support Administrator  Windows 7, Exch...</td>\n",
              "      <td>Reading Berkshire South East</td>\n",
              "      <td>Reading</td>\n",
              "      <td>NaN</td>\n",
              "      <td>permanent</td>\n",
              "      <td>Spectrum IT</td>\n",
              "      <td>IT Jobs</td>\n",
              "      <td>26000 - 30000 per annum + excellent benefits</td>\n",
              "      <td>28000</td>\n",
              "      <td>totaljobs.com</td>\n",
              "    </tr>\n",
              "    <tr>\n",
              "      <th>3</th>\n",
              "      <td>70241394</td>\n",
              "      <td>Clinical Lead (RGN)</td>\n",
              "      <td>RGN Clinical Lead Mid Glamorgan Very competiti...</td>\n",
              "      <td>Merthyr Tydfil Mid Glamorgan Wales</td>\n",
              "      <td>UK</td>\n",
              "      <td>NaN</td>\n",
              "      <td>permanent</td>\n",
              "      <td>BROOK STREET BUREAU   Cardiff Care</td>\n",
              "      <td>Healthcare &amp; Nursing Jobs</td>\n",
              "      <td>26026 - 29029 per annum + Benefits</td>\n",
              "      <td>27527</td>\n",
              "      <td>totaljobs.com</td>\n",
              "    </tr>\n",
              "    <tr>\n",
              "      <th>4</th>\n",
              "      <td>72692179</td>\n",
              "      <td>Charity Fundraisers  GET PAID TO SAVE LIVES</td>\n",
              "      <td>CHARITY FUNDRAISING REPRESENTATIVES  GET PAID ...</td>\n",
              "      <td>Exeter,Devon,EXMOUTH,CREDITON,OTTERY ST MARY,D...</td>\n",
              "      <td>UK</td>\n",
              "      <td>NaN</td>\n",
              "      <td>permanent</td>\n",
              "      <td>Recruit4Talent</td>\n",
              "      <td>Sales Jobs</td>\n",
              "      <td>7 per hour + bonus</td>\n",
              "      <td>13440</td>\n",
              "      <td>jobsite.co.uk</td>\n",
              "    </tr>\n",
              "  </tbody>\n",
              "</table>\n",
              "</div>\n",
              "    <div class=\"colab-df-buttons\">\n",
              "\n",
              "  <div class=\"colab-df-container\">\n",
              "    <button class=\"colab-df-convert\" onclick=\"convertToInteractive('df-b6910d34-a8d5-451a-987a-cfd1e668ff6e')\"\n",
              "            title=\"Convert this dataframe to an interactive table.\"\n",
              "            style=\"display:none;\">\n",
              "\n",
              "  <svg xmlns=\"http://www.w3.org/2000/svg\" height=\"24px\" viewBox=\"0 -960 960 960\">\n",
              "    <path d=\"M120-120v-720h720v720H120Zm60-500h600v-160H180v160Zm220 220h160v-160H400v160Zm0 220h160v-160H400v160ZM180-400h160v-160H180v160Zm440 0h160v-160H620v160ZM180-180h160v-160H180v160Zm440 0h160v-160H620v160Z\"/>\n",
              "  </svg>\n",
              "    </button>\n",
              "\n",
              "  <style>\n",
              "    .colab-df-container {\n",
              "      display:flex;\n",
              "      gap: 12px;\n",
              "    }\n",
              "\n",
              "    .colab-df-convert {\n",
              "      background-color: #E8F0FE;\n",
              "      border: none;\n",
              "      border-radius: 50%;\n",
              "      cursor: pointer;\n",
              "      display: none;\n",
              "      fill: #1967D2;\n",
              "      height: 32px;\n",
              "      padding: 0 0 0 0;\n",
              "      width: 32px;\n",
              "    }\n",
              "\n",
              "    .colab-df-convert:hover {\n",
              "      background-color: #E2EBFA;\n",
              "      box-shadow: 0px 1px 2px rgba(60, 64, 67, 0.3), 0px 1px 3px 1px rgba(60, 64, 67, 0.15);\n",
              "      fill: #174EA6;\n",
              "    }\n",
              "\n",
              "    .colab-df-buttons div {\n",
              "      margin-bottom: 4px;\n",
              "    }\n",
              "\n",
              "    [theme=dark] .colab-df-convert {\n",
              "      background-color: #3B4455;\n",
              "      fill: #D2E3FC;\n",
              "    }\n",
              "\n",
              "    [theme=dark] .colab-df-convert:hover {\n",
              "      background-color: #434B5C;\n",
              "      box-shadow: 0px 1px 3px 1px rgba(0, 0, 0, 0.15);\n",
              "      filter: drop-shadow(0px 1px 2px rgba(0, 0, 0, 0.3));\n",
              "      fill: #FFFFFF;\n",
              "    }\n",
              "  </style>\n",
              "\n",
              "    <script>\n",
              "      const buttonEl =\n",
              "        document.querySelector('#df-b6910d34-a8d5-451a-987a-cfd1e668ff6e button.colab-df-convert');\n",
              "      buttonEl.style.display =\n",
              "        google.colab.kernel.accessAllowed ? 'block' : 'none';\n",
              "\n",
              "      async function convertToInteractive(key) {\n",
              "        const element = document.querySelector('#df-b6910d34-a8d5-451a-987a-cfd1e668ff6e');\n",
              "        const dataTable =\n",
              "          await google.colab.kernel.invokeFunction('convertToInteractive',\n",
              "                                                    [key], {});\n",
              "        if (!dataTable) return;\n",
              "\n",
              "        const docLinkHtml = 'Like what you see? Visit the ' +\n",
              "          '<a target=\"_blank\" href=https://colab.research.google.com/notebooks/data_table.ipynb>data table notebook</a>'\n",
              "          + ' to learn more about interactive tables.';\n",
              "        element.innerHTML = '';\n",
              "        dataTable['output_type'] = 'display_data';\n",
              "        await google.colab.output.renderOutput(dataTable, element);\n",
              "        const docLink = document.createElement('div');\n",
              "        docLink.innerHTML = docLinkHtml;\n",
              "        element.appendChild(docLink);\n",
              "      }\n",
              "    </script>\n",
              "  </div>\n",
              "\n",
              "\n",
              "<div id=\"df-2fc07073-d199-4a04-a5d0-ac9bdb828810\">\n",
              "  <button class=\"colab-df-quickchart\" onclick=\"quickchart('df-2fc07073-d199-4a04-a5d0-ac9bdb828810')\"\n",
              "            title=\"Suggest charts\"\n",
              "            style=\"display:none;\">\n",
              "\n",
              "<svg xmlns=\"http://www.w3.org/2000/svg\" height=\"24px\"viewBox=\"0 0 24 24\"\n",
              "     width=\"24px\">\n",
              "    <g>\n",
              "        <path d=\"M19 3H5c-1.1 0-2 .9-2 2v14c0 1.1.9 2 2 2h14c1.1 0 2-.9 2-2V5c0-1.1-.9-2-2-2zM9 17H7v-7h2v7zm4 0h-2V7h2v10zm4 0h-2v-4h2v4z\"/>\n",
              "    </g>\n",
              "</svg>\n",
              "  </button>\n",
              "\n",
              "<style>\n",
              "  .colab-df-quickchart {\n",
              "      --bg-color: #E8F0FE;\n",
              "      --fill-color: #1967D2;\n",
              "      --hover-bg-color: #E2EBFA;\n",
              "      --hover-fill-color: #174EA6;\n",
              "      --disabled-fill-color: #AAA;\n",
              "      --disabled-bg-color: #DDD;\n",
              "  }\n",
              "\n",
              "  [theme=dark] .colab-df-quickchart {\n",
              "      --bg-color: #3B4455;\n",
              "      --fill-color: #D2E3FC;\n",
              "      --hover-bg-color: #434B5C;\n",
              "      --hover-fill-color: #FFFFFF;\n",
              "      --disabled-bg-color: #3B4455;\n",
              "      --disabled-fill-color: #666;\n",
              "  }\n",
              "\n",
              "  .colab-df-quickchart {\n",
              "    background-color: var(--bg-color);\n",
              "    border: none;\n",
              "    border-radius: 50%;\n",
              "    cursor: pointer;\n",
              "    display: none;\n",
              "    fill: var(--fill-color);\n",
              "    height: 32px;\n",
              "    padding: 0;\n",
              "    width: 32px;\n",
              "  }\n",
              "\n",
              "  .colab-df-quickchart:hover {\n",
              "    background-color: var(--hover-bg-color);\n",
              "    box-shadow: 0 1px 2px rgba(60, 64, 67, 0.3), 0 1px 3px 1px rgba(60, 64, 67, 0.15);\n",
              "    fill: var(--button-hover-fill-color);\n",
              "  }\n",
              "\n",
              "  .colab-df-quickchart-complete:disabled,\n",
              "  .colab-df-quickchart-complete:disabled:hover {\n",
              "    background-color: var(--disabled-bg-color);\n",
              "    fill: var(--disabled-fill-color);\n",
              "    box-shadow: none;\n",
              "  }\n",
              "\n",
              "  .colab-df-spinner {\n",
              "    border: 2px solid var(--fill-color);\n",
              "    border-color: transparent;\n",
              "    border-bottom-color: var(--fill-color);\n",
              "    animation:\n",
              "      spin 1s steps(1) infinite;\n",
              "  }\n",
              "\n",
              "  @keyframes spin {\n",
              "    0% {\n",
              "      border-color: transparent;\n",
              "      border-bottom-color: var(--fill-color);\n",
              "      border-left-color: var(--fill-color);\n",
              "    }\n",
              "    20% {\n",
              "      border-color: transparent;\n",
              "      border-left-color: var(--fill-color);\n",
              "      border-top-color: var(--fill-color);\n",
              "    }\n",
              "    30% {\n",
              "      border-color: transparent;\n",
              "      border-left-color: var(--fill-color);\n",
              "      border-top-color: var(--fill-color);\n",
              "      border-right-color: var(--fill-color);\n",
              "    }\n",
              "    40% {\n",
              "      border-color: transparent;\n",
              "      border-right-color: var(--fill-color);\n",
              "      border-top-color: var(--fill-color);\n",
              "    }\n",
              "    60% {\n",
              "      border-color: transparent;\n",
              "      border-right-color: var(--fill-color);\n",
              "    }\n",
              "    80% {\n",
              "      border-color: transparent;\n",
              "      border-right-color: var(--fill-color);\n",
              "      border-bottom-color: var(--fill-color);\n",
              "    }\n",
              "    90% {\n",
              "      border-color: transparent;\n",
              "      border-bottom-color: var(--fill-color);\n",
              "    }\n",
              "  }\n",
              "</style>\n",
              "\n",
              "  <script>\n",
              "    async function quickchart(key) {\n",
              "      const quickchartButtonEl =\n",
              "        document.querySelector('#' + key + ' button');\n",
              "      quickchartButtonEl.disabled = true;  // To prevent multiple clicks.\n",
              "      quickchartButtonEl.classList.add('colab-df-spinner');\n",
              "      try {\n",
              "        const charts = await google.colab.kernel.invokeFunction(\n",
              "            'suggestCharts', [key], {});\n",
              "      } catch (error) {\n",
              "        console.error('Error during call to suggestCharts:', error);\n",
              "      }\n",
              "      quickchartButtonEl.classList.remove('colab-df-spinner');\n",
              "      quickchartButtonEl.classList.add('colab-df-quickchart-complete');\n",
              "    }\n",
              "    (() => {\n",
              "      let quickchartButtonEl =\n",
              "        document.querySelector('#df-2fc07073-d199-4a04-a5d0-ac9bdb828810 button');\n",
              "      quickchartButtonEl.style.display =\n",
              "        google.colab.kernel.accessAllowed ? 'block' : 'none';\n",
              "    })();\n",
              "  </script>\n",
              "</div>\n",
              "\n",
              "    </div>\n",
              "  </div>\n"
            ]
          },
          "metadata": {},
          "execution_count": 53
        }
      ],
      "source": [
        "df.head()"
      ]
    },
    {
      "cell_type": "markdown",
      "metadata": {
        "id": "1UvYVDWmcrob"
      },
      "source": [
        "## Задание 1\n",
        "\n",
        "Для каждой категории профессий (столбец `Category`) вычислите среднюю зарплату.\n",
        "\n",
        "Отсортируйте результаты в порядке убывания средней зарплаты.\n",
        "\n",
        "В какой категории средняя зарплата максимальна?"
      ]
    },
    {
      "cell_type": "code",
      "execution_count": 54,
      "metadata": {
        "id": "lok29JWbq6d1",
        "scrolled": true,
        "colab": {
          "base_uri": "https://localhost:8080/",
          "height": 1000
        },
        "outputId": "11089448-b33c-441b-8c64-07bbb7c3236d"
      },
      "outputs": [
        {
          "output_type": "stream",
          "name": "stderr",
          "text": [
            "<ipython-input-54-dc1f20e5dfc5>:1: FutureWarning: The default value of numeric_only in DataFrameGroupBy.mean is deprecated. In a future version, numeric_only will default to False. Either specify numeric_only or select only columns which should be valid for the function.\n",
            "  df.groupby(by='Category').mean().sort_values('SalaryNormalized', ascending=False)\n"
          ]
        },
        {
          "output_type": "execute_result",
          "data": {
            "text/plain": [
              "                                            Id  SalaryNormalized\n",
              "Category                                                        \n",
              "Energy, Oil & Gas Jobs            7.004325e+07      46139.266065\n",
              "IT Jobs                           6.987420e+07      43960.589841\n",
              "Legal Jobs                        7.017890e+07      42483.794595\n",
              "Accounting & Finance Jobs         6.979105e+07      38379.619805\n",
              "Consultancy Jobs                  6.979069e+07      37433.728528\n",
              "Trade & Construction Jobs         7.015634e+07      36035.933427\n",
              "Engineering Jobs                  7.001868e+07      35710.654359\n",
              "Other/General Jobs                7.012760e+07      35460.798630\n",
              "PR, Advertising & Marketing Jobs  6.999668e+07      35449.413650\n",
              "Scientific & QA Jobs              6.952388e+07      34966.127953\n",
              "Creative & Design Jobs            6.979010e+07      33085.919453\n",
              "Healthcare & Nursing Jobs         6.763164e+07      32738.502708\n",
              "Retail Jobs                       7.014230e+07      32658.853685\n",
              "HR & Recruitment Jobs             6.948369e+07      32579.053464\n",
              "Social work Jobs                  7.006943e+07      32313.117052\n",
              "Property Jobs                     6.969636e+07      32158.156812\n",
              "Sales Jobs                        6.990474e+07      30781.965426\n",
              "Graduate Jobs                     7.004510e+07      28776.788214\n",
              "Charity & Voluntary Jobs          6.991460e+07      28703.721639\n",
              "Teaching Jobs                     7.000491e+07      27637.552342\n",
              "Manufacturing Jobs                6.984697e+07      26796.918109\n",
              "Logistics & Warehouse Jobs        6.966829e+07      26707.551299\n",
              "Travel Jobs                       6.979248e+07      23814.608907\n",
              "Hospitality & Catering Jobs       6.941977e+07      23715.634493\n",
              "Admin Jobs                        7.003064e+07      21077.193422\n",
              "Customer Services Jobs            6.968116e+07      20023.179735\n",
              "Domestic help & Cleaning Jobs     7.061426e+07      18242.223214\n",
              "Maintenance Jobs                  6.965575e+07      17424.475548\n",
              "Part time Jobs                    7.160673e+07      10693.965517"
            ],
            "text/html": [
              "\n",
              "  <div id=\"df-b29b9024-983f-4b23-b6fc-184379ff8b1b\" class=\"colab-df-container\">\n",
              "    <div>\n",
              "<style scoped>\n",
              "    .dataframe tbody tr th:only-of-type {\n",
              "        vertical-align: middle;\n",
              "    }\n",
              "\n",
              "    .dataframe tbody tr th {\n",
              "        vertical-align: top;\n",
              "    }\n",
              "\n",
              "    .dataframe thead th {\n",
              "        text-align: right;\n",
              "    }\n",
              "</style>\n",
              "<table border=\"1\" class=\"dataframe\">\n",
              "  <thead>\n",
              "    <tr style=\"text-align: right;\">\n",
              "      <th></th>\n",
              "      <th>Id</th>\n",
              "      <th>SalaryNormalized</th>\n",
              "    </tr>\n",
              "    <tr>\n",
              "      <th>Category</th>\n",
              "      <th></th>\n",
              "      <th></th>\n",
              "    </tr>\n",
              "  </thead>\n",
              "  <tbody>\n",
              "    <tr>\n",
              "      <th>Energy, Oil &amp; Gas Jobs</th>\n",
              "      <td>7.004325e+07</td>\n",
              "      <td>46139.266065</td>\n",
              "    </tr>\n",
              "    <tr>\n",
              "      <th>IT Jobs</th>\n",
              "      <td>6.987420e+07</td>\n",
              "      <td>43960.589841</td>\n",
              "    </tr>\n",
              "    <tr>\n",
              "      <th>Legal Jobs</th>\n",
              "      <td>7.017890e+07</td>\n",
              "      <td>42483.794595</td>\n",
              "    </tr>\n",
              "    <tr>\n",
              "      <th>Accounting &amp; Finance Jobs</th>\n",
              "      <td>6.979105e+07</td>\n",
              "      <td>38379.619805</td>\n",
              "    </tr>\n",
              "    <tr>\n",
              "      <th>Consultancy Jobs</th>\n",
              "      <td>6.979069e+07</td>\n",
              "      <td>37433.728528</td>\n",
              "    </tr>\n",
              "    <tr>\n",
              "      <th>Trade &amp; Construction Jobs</th>\n",
              "      <td>7.015634e+07</td>\n",
              "      <td>36035.933427</td>\n",
              "    </tr>\n",
              "    <tr>\n",
              "      <th>Engineering Jobs</th>\n",
              "      <td>7.001868e+07</td>\n",
              "      <td>35710.654359</td>\n",
              "    </tr>\n",
              "    <tr>\n",
              "      <th>Other/General Jobs</th>\n",
              "      <td>7.012760e+07</td>\n",
              "      <td>35460.798630</td>\n",
              "    </tr>\n",
              "    <tr>\n",
              "      <th>PR, Advertising &amp; Marketing Jobs</th>\n",
              "      <td>6.999668e+07</td>\n",
              "      <td>35449.413650</td>\n",
              "    </tr>\n",
              "    <tr>\n",
              "      <th>Scientific &amp; QA Jobs</th>\n",
              "      <td>6.952388e+07</td>\n",
              "      <td>34966.127953</td>\n",
              "    </tr>\n",
              "    <tr>\n",
              "      <th>Creative &amp; Design Jobs</th>\n",
              "      <td>6.979010e+07</td>\n",
              "      <td>33085.919453</td>\n",
              "    </tr>\n",
              "    <tr>\n",
              "      <th>Healthcare &amp; Nursing Jobs</th>\n",
              "      <td>6.763164e+07</td>\n",
              "      <td>32738.502708</td>\n",
              "    </tr>\n",
              "    <tr>\n",
              "      <th>Retail Jobs</th>\n",
              "      <td>7.014230e+07</td>\n",
              "      <td>32658.853685</td>\n",
              "    </tr>\n",
              "    <tr>\n",
              "      <th>HR &amp; Recruitment Jobs</th>\n",
              "      <td>6.948369e+07</td>\n",
              "      <td>32579.053464</td>\n",
              "    </tr>\n",
              "    <tr>\n",
              "      <th>Social work Jobs</th>\n",
              "      <td>7.006943e+07</td>\n",
              "      <td>32313.117052</td>\n",
              "    </tr>\n",
              "    <tr>\n",
              "      <th>Property Jobs</th>\n",
              "      <td>6.969636e+07</td>\n",
              "      <td>32158.156812</td>\n",
              "    </tr>\n",
              "    <tr>\n",
              "      <th>Sales Jobs</th>\n",
              "      <td>6.990474e+07</td>\n",
              "      <td>30781.965426</td>\n",
              "    </tr>\n",
              "    <tr>\n",
              "      <th>Graduate Jobs</th>\n",
              "      <td>7.004510e+07</td>\n",
              "      <td>28776.788214</td>\n",
              "    </tr>\n",
              "    <tr>\n",
              "      <th>Charity &amp; Voluntary Jobs</th>\n",
              "      <td>6.991460e+07</td>\n",
              "      <td>28703.721639</td>\n",
              "    </tr>\n",
              "    <tr>\n",
              "      <th>Teaching Jobs</th>\n",
              "      <td>7.000491e+07</td>\n",
              "      <td>27637.552342</td>\n",
              "    </tr>\n",
              "    <tr>\n",
              "      <th>Manufacturing Jobs</th>\n",
              "      <td>6.984697e+07</td>\n",
              "      <td>26796.918109</td>\n",
              "    </tr>\n",
              "    <tr>\n",
              "      <th>Logistics &amp; Warehouse Jobs</th>\n",
              "      <td>6.966829e+07</td>\n",
              "      <td>26707.551299</td>\n",
              "    </tr>\n",
              "    <tr>\n",
              "      <th>Travel Jobs</th>\n",
              "      <td>6.979248e+07</td>\n",
              "      <td>23814.608907</td>\n",
              "    </tr>\n",
              "    <tr>\n",
              "      <th>Hospitality &amp; Catering Jobs</th>\n",
              "      <td>6.941977e+07</td>\n",
              "      <td>23715.634493</td>\n",
              "    </tr>\n",
              "    <tr>\n",
              "      <th>Admin Jobs</th>\n",
              "      <td>7.003064e+07</td>\n",
              "      <td>21077.193422</td>\n",
              "    </tr>\n",
              "    <tr>\n",
              "      <th>Customer Services Jobs</th>\n",
              "      <td>6.968116e+07</td>\n",
              "      <td>20023.179735</td>\n",
              "    </tr>\n",
              "    <tr>\n",
              "      <th>Domestic help &amp; Cleaning Jobs</th>\n",
              "      <td>7.061426e+07</td>\n",
              "      <td>18242.223214</td>\n",
              "    </tr>\n",
              "    <tr>\n",
              "      <th>Maintenance Jobs</th>\n",
              "      <td>6.965575e+07</td>\n",
              "      <td>17424.475548</td>\n",
              "    </tr>\n",
              "    <tr>\n",
              "      <th>Part time Jobs</th>\n",
              "      <td>7.160673e+07</td>\n",
              "      <td>10693.965517</td>\n",
              "    </tr>\n",
              "  </tbody>\n",
              "</table>\n",
              "</div>\n",
              "    <div class=\"colab-df-buttons\">\n",
              "\n",
              "  <div class=\"colab-df-container\">\n",
              "    <button class=\"colab-df-convert\" onclick=\"convertToInteractive('df-b29b9024-983f-4b23-b6fc-184379ff8b1b')\"\n",
              "            title=\"Convert this dataframe to an interactive table.\"\n",
              "            style=\"display:none;\">\n",
              "\n",
              "  <svg xmlns=\"http://www.w3.org/2000/svg\" height=\"24px\" viewBox=\"0 -960 960 960\">\n",
              "    <path d=\"M120-120v-720h720v720H120Zm60-500h600v-160H180v160Zm220 220h160v-160H400v160Zm0 220h160v-160H400v160ZM180-400h160v-160H180v160Zm440 0h160v-160H620v160ZM180-180h160v-160H180v160Zm440 0h160v-160H620v160Z\"/>\n",
              "  </svg>\n",
              "    </button>\n",
              "\n",
              "  <style>\n",
              "    .colab-df-container {\n",
              "      display:flex;\n",
              "      gap: 12px;\n",
              "    }\n",
              "\n",
              "    .colab-df-convert {\n",
              "      background-color: #E8F0FE;\n",
              "      border: none;\n",
              "      border-radius: 50%;\n",
              "      cursor: pointer;\n",
              "      display: none;\n",
              "      fill: #1967D2;\n",
              "      height: 32px;\n",
              "      padding: 0 0 0 0;\n",
              "      width: 32px;\n",
              "    }\n",
              "\n",
              "    .colab-df-convert:hover {\n",
              "      background-color: #E2EBFA;\n",
              "      box-shadow: 0px 1px 2px rgba(60, 64, 67, 0.3), 0px 1px 3px 1px rgba(60, 64, 67, 0.15);\n",
              "      fill: #174EA6;\n",
              "    }\n",
              "\n",
              "    .colab-df-buttons div {\n",
              "      margin-bottom: 4px;\n",
              "    }\n",
              "\n",
              "    [theme=dark] .colab-df-convert {\n",
              "      background-color: #3B4455;\n",
              "      fill: #D2E3FC;\n",
              "    }\n",
              "\n",
              "    [theme=dark] .colab-df-convert:hover {\n",
              "      background-color: #434B5C;\n",
              "      box-shadow: 0px 1px 3px 1px rgba(0, 0, 0, 0.15);\n",
              "      filter: drop-shadow(0px 1px 2px rgba(0, 0, 0, 0.3));\n",
              "      fill: #FFFFFF;\n",
              "    }\n",
              "  </style>\n",
              "\n",
              "    <script>\n",
              "      const buttonEl =\n",
              "        document.querySelector('#df-b29b9024-983f-4b23-b6fc-184379ff8b1b button.colab-df-convert');\n",
              "      buttonEl.style.display =\n",
              "        google.colab.kernel.accessAllowed ? 'block' : 'none';\n",
              "\n",
              "      async function convertToInteractive(key) {\n",
              "        const element = document.querySelector('#df-b29b9024-983f-4b23-b6fc-184379ff8b1b');\n",
              "        const dataTable =\n",
              "          await google.colab.kernel.invokeFunction('convertToInteractive',\n",
              "                                                    [key], {});\n",
              "        if (!dataTable) return;\n",
              "\n",
              "        const docLinkHtml = 'Like what you see? Visit the ' +\n",
              "          '<a target=\"_blank\" href=https://colab.research.google.com/notebooks/data_table.ipynb>data table notebook</a>'\n",
              "          + ' to learn more about interactive tables.';\n",
              "        element.innerHTML = '';\n",
              "        dataTable['output_type'] = 'display_data';\n",
              "        await google.colab.output.renderOutput(dataTable, element);\n",
              "        const docLink = document.createElement('div');\n",
              "        docLink.innerHTML = docLinkHtml;\n",
              "        element.appendChild(docLink);\n",
              "      }\n",
              "    </script>\n",
              "  </div>\n",
              "\n",
              "\n",
              "<div id=\"df-25a36410-d7dc-4064-8952-3147d30950c1\">\n",
              "  <button class=\"colab-df-quickchart\" onclick=\"quickchart('df-25a36410-d7dc-4064-8952-3147d30950c1')\"\n",
              "            title=\"Suggest charts\"\n",
              "            style=\"display:none;\">\n",
              "\n",
              "<svg xmlns=\"http://www.w3.org/2000/svg\" height=\"24px\"viewBox=\"0 0 24 24\"\n",
              "     width=\"24px\">\n",
              "    <g>\n",
              "        <path d=\"M19 3H5c-1.1 0-2 .9-2 2v14c0 1.1.9 2 2 2h14c1.1 0 2-.9 2-2V5c0-1.1-.9-2-2-2zM9 17H7v-7h2v7zm4 0h-2V7h2v10zm4 0h-2v-4h2v4z\"/>\n",
              "    </g>\n",
              "</svg>\n",
              "  </button>\n",
              "\n",
              "<style>\n",
              "  .colab-df-quickchart {\n",
              "      --bg-color: #E8F0FE;\n",
              "      --fill-color: #1967D2;\n",
              "      --hover-bg-color: #E2EBFA;\n",
              "      --hover-fill-color: #174EA6;\n",
              "      --disabled-fill-color: #AAA;\n",
              "      --disabled-bg-color: #DDD;\n",
              "  }\n",
              "\n",
              "  [theme=dark] .colab-df-quickchart {\n",
              "      --bg-color: #3B4455;\n",
              "      --fill-color: #D2E3FC;\n",
              "      --hover-bg-color: #434B5C;\n",
              "      --hover-fill-color: #FFFFFF;\n",
              "      --disabled-bg-color: #3B4455;\n",
              "      --disabled-fill-color: #666;\n",
              "  }\n",
              "\n",
              "  .colab-df-quickchart {\n",
              "    background-color: var(--bg-color);\n",
              "    border: none;\n",
              "    border-radius: 50%;\n",
              "    cursor: pointer;\n",
              "    display: none;\n",
              "    fill: var(--fill-color);\n",
              "    height: 32px;\n",
              "    padding: 0;\n",
              "    width: 32px;\n",
              "  }\n",
              "\n",
              "  .colab-df-quickchart:hover {\n",
              "    background-color: var(--hover-bg-color);\n",
              "    box-shadow: 0 1px 2px rgba(60, 64, 67, 0.3), 0 1px 3px 1px rgba(60, 64, 67, 0.15);\n",
              "    fill: var(--button-hover-fill-color);\n",
              "  }\n",
              "\n",
              "  .colab-df-quickchart-complete:disabled,\n",
              "  .colab-df-quickchart-complete:disabled:hover {\n",
              "    background-color: var(--disabled-bg-color);\n",
              "    fill: var(--disabled-fill-color);\n",
              "    box-shadow: none;\n",
              "  }\n",
              "\n",
              "  .colab-df-spinner {\n",
              "    border: 2px solid var(--fill-color);\n",
              "    border-color: transparent;\n",
              "    border-bottom-color: var(--fill-color);\n",
              "    animation:\n",
              "      spin 1s steps(1) infinite;\n",
              "  }\n",
              "\n",
              "  @keyframes spin {\n",
              "    0% {\n",
              "      border-color: transparent;\n",
              "      border-bottom-color: var(--fill-color);\n",
              "      border-left-color: var(--fill-color);\n",
              "    }\n",
              "    20% {\n",
              "      border-color: transparent;\n",
              "      border-left-color: var(--fill-color);\n",
              "      border-top-color: var(--fill-color);\n",
              "    }\n",
              "    30% {\n",
              "      border-color: transparent;\n",
              "      border-left-color: var(--fill-color);\n",
              "      border-top-color: var(--fill-color);\n",
              "      border-right-color: var(--fill-color);\n",
              "    }\n",
              "    40% {\n",
              "      border-color: transparent;\n",
              "      border-right-color: var(--fill-color);\n",
              "      border-top-color: var(--fill-color);\n",
              "    }\n",
              "    60% {\n",
              "      border-color: transparent;\n",
              "      border-right-color: var(--fill-color);\n",
              "    }\n",
              "    80% {\n",
              "      border-color: transparent;\n",
              "      border-right-color: var(--fill-color);\n",
              "      border-bottom-color: var(--fill-color);\n",
              "    }\n",
              "    90% {\n",
              "      border-color: transparent;\n",
              "      border-bottom-color: var(--fill-color);\n",
              "    }\n",
              "  }\n",
              "</style>\n",
              "\n",
              "  <script>\n",
              "    async function quickchart(key) {\n",
              "      const quickchartButtonEl =\n",
              "        document.querySelector('#' + key + ' button');\n",
              "      quickchartButtonEl.disabled = true;  // To prevent multiple clicks.\n",
              "      quickchartButtonEl.classList.add('colab-df-spinner');\n",
              "      try {\n",
              "        const charts = await google.colab.kernel.invokeFunction(\n",
              "            'suggestCharts', [key], {});\n",
              "      } catch (error) {\n",
              "        console.error('Error during call to suggestCharts:', error);\n",
              "      }\n",
              "      quickchartButtonEl.classList.remove('colab-df-spinner');\n",
              "      quickchartButtonEl.classList.add('colab-df-quickchart-complete');\n",
              "    }\n",
              "    (() => {\n",
              "      let quickchartButtonEl =\n",
              "        document.querySelector('#df-25a36410-d7dc-4064-8952-3147d30950c1 button');\n",
              "      quickchartButtonEl.style.display =\n",
              "        google.colab.kernel.accessAllowed ? 'block' : 'none';\n",
              "    })();\n",
              "  </script>\n",
              "</div>\n",
              "\n",
              "    </div>\n",
              "  </div>\n"
            ]
          },
          "metadata": {},
          "execution_count": 54
        }
      ],
      "source": [
        "df.groupby(by='Category').mean().sort_values('SalaryNormalized', ascending=False)"
      ]
    },
    {
      "cell_type": "markdown",
      "metadata": {
        "id": "33GR__CVdHCH"
      },
      "source": [
        "Посмотрим на распределение логарифма целевой переменной."
      ]
    },
    {
      "cell_type": "code",
      "execution_count": null,
      "metadata": {
        "colab": {
          "base_uri": "https://localhost:8080/",
          "height": 450
        },
        "id": "h2jcGJ88q6d5",
        "outputId": "3a72d7b9-0d94-4f18-8e40-d526dfe54bf3"
      },
      "outputs": [
        {
          "output_type": "display_data",
          "data": {
            "text/plain": [
              "<Figure size 640x480 with 1 Axes>"
            ],
            "image/png": "[encoded data removed]"
          },
          "metadata": {}
        }
      ],
      "source": [
        "plt.hist(np.log(df.SalaryNormalized), bins=70)\n",
        "plt.show()"
      ]
    },
    {
      "cell_type": "markdown",
      "metadata": {
        "id": "-Rq39_eJdKfY"
      },
      "source": [
        "Она стала иметь распределение, более похожее на нормальное - это для нас удобно."
      ]
    },
    {
      "cell_type": "markdown",
      "metadata": {
        "id": "ksMoyZqLd6CS"
      },
      "source": [
        "При помощи `train_test_split` разобъем данные на тренировочную и тестовую части:\n",
        "\n",
        "В тест отправим 20% данных, зафиксируем `random_state=42`."
      ]
    },
    {
      "cell_type": "code",
      "execution_count": 5,
      "metadata": {
        "id": "zdvN9Lzrq6eK"
      },
      "outputs": [],
      "source": [
        "Xtrain, Xtest, ytrain, ytest = train_test_split(df[\"FullDescription\"], np.log(df[\"SalaryNormalized\"]), test_size = 0.2, random_state=42)"
      ]
    },
    {
      "cell_type": "markdown",
      "metadata": {
        "id": "zz4VpKNZdUhC"
      },
      "source": [
        "## Задание 2\n",
        "\n",
        "Обучите на тренировочных данных TfidfVectorizer с гиперпараметрами\n",
        "`stop_words='english', min_df=5, max_df=1.0, ngram_range=(1, 1), max_features=1000`.\n",
        "\n",
        "Затем примените обученный векторизатор и к трейну, и к тесту в отдельности.\n",
        "\n",
        "Сколько столбцов стало в преобразованных матрицах `Xtrain` и `Xtest`?"
      ]
    },
    {
      "cell_type": "code",
      "execution_count": 6,
      "metadata": {
        "id": "9JWQoeQ4q6d9"
      },
      "outputs": [],
      "source": [
        "tfidf_vec = TfidfVectorizer(stop_words='english', min_df=5, max_df=1.0, ngram_range=(1, 1), max_features=1000)\n",
        "\n",
        "# ваш код здесь\n",
        "\n",
        "X_train = tfidf_vec.fit_transform(Xtrain)\n",
        "X_test = tfidf_vec.transform(Xtest)"
      ]
    },
    {
      "cell_type": "code",
      "source": [
        "X_train.shape, X_test.shape"
      ],
      "metadata": {
        "colab": {
          "base_uri": "https://localhost:8080/"
        },
        "id": "J0myLRlI4E_Q",
        "outputId": "f2d57439-e866-4161-da34-a5b339e0ef91"
      },
      "execution_count": 7,
      "outputs": [
        {
          "output_type": "execute_result",
          "data": {
            "text/plain": [
              "((80000, 1000), (20000, 1000))"
            ]
          },
          "metadata": {},
          "execution_count": 7
        }
      ]
    },
    {
      "cell_type": "markdown",
      "metadata": {
        "id": "CyA3WyYXeRgm"
      },
      "source": [
        "## Задание 3\n",
        "\n",
        "Обучите Ridge-регрессию (с гиперпараметрами по умолчанию) на тренировочных данных и выведите качество модели ($R^2$) на трейне и на тесте.\n",
        "\n",
        "Чему равно значение $R^2$ на тесте? Ответ округлите до сотых."
      ]
    },
    {
      "cell_type": "code",
      "execution_count": 8,
      "metadata": {
        "id": "SfJqYav-q6eN"
      },
      "outputs": [],
      "source": [
        "model = Ridge().fit(X_train, ytrain)"
      ]
    },
    {
      "cell_type": "code",
      "source": [
        "y_pred = model.predict(X_test)"
      ],
      "metadata": {
        "id": "Pqe8bw-A5frz"
      },
      "execution_count": 9,
      "outputs": []
    },
    {
      "cell_type": "code",
      "source": [
        "r2_score(ytest, y_pred)"
      ],
      "metadata": {
        "colab": {
          "base_uri": "https://localhost:8080/"
        },
        "id": "IbxeGkzl5obH",
        "outputId": "b8c21f75-3a13-455e-c4e0-f3e101ea531e"
      },
      "execution_count": 10,
      "outputs": [
        {
          "output_type": "execute_result",
          "data": {
            "text/plain": [
              "0.5735886323769972"
            ]
          },
          "metadata": {},
          "execution_count": 10
        }
      ]
    },
    {
      "cell_type": "markdown",
      "metadata": {
        "id": "a_NDEWvdef4g"
      },
      "source": [
        "## Задание 4\n",
        "\n",
        "Посмотрите как работает ваша модель.\n",
        "\n",
        "Так как мы обучали ее на логарифмированной зарплате, то от предсказания надо взять экспоненту (обратное преобразование).\n",
        "\n",
        "Напомним, что `ridge` - это обученная модель, а `tfidf_vec` - обученный TfIdfVectorizer (у вас тут могут быть другие названия).\n",
        "\n",
        "Вопросы:\n",
        "* чему равна зарплата `director`, предсказываемая моделью?\n",
        "* чему равна зарплата `manager`, предсказываемая моделью?\n",
        "\n",
        "В ответ выведите бОльшую из этих зарплат, округленную до целого числа.\n",
        "\n",
        "P.S. В модель нужно передать векторизованные слова `director` и `manager`."
      ]
    },
    {
      "cell_type": "code",
      "execution_count": 11,
      "metadata": {
        "id": "aKFK0-jcq6eS",
        "colab": {
          "base_uri": "https://localhost:8080/"
        },
        "outputId": "7800a1e5-274b-41e9-dec0-3a32b3d58d8e"
      },
      "outputs": [
        {
          "output_type": "execute_result",
          "data": {
            "text/plain": [
              "array([76026.76148782])"
            ]
          },
          "metadata": {},
          "execution_count": 11
        }
      ],
      "source": [
        "np.exp(model.predict(tfidf_vec.transform([u\"director\"])))"
      ]
    },
    {
      "cell_type": "code",
      "source": [
        "np.exp(model.predict(tfidf_vec.transform([u\"manager\"])))"
      ],
      "metadata": {
        "colab": {
          "base_uri": "https://localhost:8080/"
        },
        "id": "lffAJxT6Lf7L",
        "outputId": "f062e5de-9947-480f-d0ce-a06b661a38c0"
      },
      "execution_count": 12,
      "outputs": [
        {
          "output_type": "execute_result",
          "data": {
            "text/plain": [
              "array([47703.76732048])"
            ]
          },
          "metadata": {},
          "execution_count": 12
        }
      ]
    },
    {
      "cell_type": "markdown",
      "metadata": {
        "id": "vPoe7mCdfAaN"
      },
      "source": [
        "Поэкспериментируйте с моделью. Вычислите предсказываемую моделью зарплату:\n",
        "\n",
        "* junior window cleaner\n",
        "* chief window cleaner\n",
        "* chief window cleaner and big data"
      ]
    },
    {
      "cell_type": "code",
      "execution_count": 66,
      "metadata": {
        "id": "2rYS04Ceq6eb",
        "colab": {
          "base_uri": "https://localhost:8080/"
        },
        "outputId": "77f6f8bd-01d2-4d4b-f5a1-5193e89747a3"
      },
      "outputs": [
        {
          "output_type": "execute_result",
          "data": {
            "text/plain": [
              "array([18818.46778264])"
            ]
          },
          "metadata": {},
          "execution_count": 66
        }
      ],
      "source": [
        "np.exp(model.predict(tfidf_vec.transform([u\"junior window cleaner\"])))"
      ]
    },
    {
      "cell_type": "code",
      "source": [
        "np.exp(model.predict(tfidf_vec.transform([u\"chief window cleaner\"])))"
      ],
      "metadata": {
        "colab": {
          "base_uri": "https://localhost:8080/"
        },
        "id": "xij5e7xIORuD",
        "outputId": "812bb8c9-53e2-492c-a17d-83f8b50e2c6c"
      },
      "execution_count": 65,
      "outputs": [
        {
          "output_type": "execute_result",
          "data": {
            "text/plain": [
              "array([27542.93805563])"
            ]
          },
          "metadata": {},
          "execution_count": 65
        }
      ]
    },
    {
      "cell_type": "code",
      "source": [
        "np.exp(model.predict(tfidf_vec.transform([u\"chief window cleaner and big data\"])))"
      ],
      "metadata": {
        "colab": {
          "base_uri": "https://localhost:8080/"
        },
        "id": "Kre0WtI-OT0E",
        "outputId": "2338afae-fd8b-446a-9032-5fe42cca2796"
      },
      "execution_count": 67,
      "outputs": [
        {
          "output_type": "execute_result",
          "data": {
            "text/plain": [
              "array([32633.08147761])"
            ]
          },
          "metadata": {},
          "execution_count": 67
        }
      ]
    },
    {
      "cell_type": "markdown",
      "metadata": {
        "id": "ESi5iam9fRgv"
      },
      "source": [
        "## Задание 5\n",
        "\n",
        "Выведите на экран в виде pd.DataFrame топ-10 признаков с наибольшим положительным весом, а затем топ-10 признаков с наибольшим отрицательным весом.\n",
        "\n",
        "Какой признак имеет наибольший положительный вес?"
      ]
    },
    {
      "cell_type": "code",
      "execution_count": 14,
      "metadata": {
        "id": "K2wdNE_qYNQR"
      },
      "outputs": [],
      "source": [
        "df_idf = pd.DataFrame(tfidf_vec.idf_, index=tfidf_vec.get_feature_names_out(), columns=[\"idf_weights\"])"
      ]
    },
    {
      "cell_type": "code",
      "source": [
        "df_idf.sort_values(by='idf_weights', ascending=False)"
      ],
      "metadata": {
        "colab": {
          "base_uri": "https://localhost:8080/",
          "height": 424
        },
        "id": "Gt_-ztHuOqr9",
        "outputId": "34ef12f2-2c5d-401d-9a68-57bd6dc2333c"
      },
      "execution_count": 15,
      "outputs": [
        {
          "output_type": "execute_result",
          "data": {
            "text/plain": [
              "            idf_weights\n",
              "asbestos       6.776366\n",
              "nbsp           5.945914\n",
              "partie         5.836169\n",
              "dynamics       5.818995\n",
              "embedded       5.663077\n",
              "...                 ...\n",
              "working        1.613055\n",
              "team           1.553702\n",
              "work           1.516039\n",
              "role           1.477061\n",
              "experience     1.270166\n",
              "\n",
              "[1000 rows x 1 columns]"
            ],
            "text/html": [
              "\n",
              "  <div id=\"df-8917528a-7ebd-45dc-9ed9-cb753022930f\" class=\"colab-df-container\">\n",
              "    <div>\n",
              "<style scoped>\n",
              "    .dataframe tbody tr th:only-of-type {\n",
              "        vertical-align: middle;\n",
              "    }\n",
              "\n",
              "    .dataframe tbody tr th {\n",
              "        vertical-align: top;\n",
              "    }\n",
              "\n",
              "    .dataframe thead th {\n",
              "        text-align: right;\n",
              "    }\n",
              "</style>\n",
              "<table border=\"1\" class=\"dataframe\">\n",
              "  <thead>\n",
              "    <tr style=\"text-align: right;\">\n",
              "      <th></th>\n",
              "      <th>idf_weights</th>\n",
              "    </tr>\n",
              "  </thead>\n",
              "  <tbody>\n",
              "    <tr>\n",
              "      <th>asbestos</th>\n",
              "      <td>6.776366</td>\n",
              "    </tr>\n",
              "    <tr>\n",
              "      <th>nbsp</th>\n",
              "      <td>5.945914</td>\n",
              "    </tr>\n",
              "    <tr>\n",
              "      <th>partie</th>\n",
              "      <td>5.836169</td>\n",
              "    </tr>\n",
              "    <tr>\n",
              "      <th>dynamics</th>\n",
              "      <td>5.818995</td>\n",
              "    </tr>\n",
              "    <tr>\n",
              "      <th>embedded</th>\n",
              "      <td>5.663077</td>\n",
              "    </tr>\n",
              "    <tr>\n",
              "      <th>...</th>\n",
              "      <td>...</td>\n",
              "    </tr>\n",
              "    <tr>\n",
              "      <th>working</th>\n",
              "      <td>1.613055</td>\n",
              "    </tr>\n",
              "    <tr>\n",
              "      <th>team</th>\n",
              "      <td>1.553702</td>\n",
              "    </tr>\n",
              "    <tr>\n",
              "      <th>work</th>\n",
              "      <td>1.516039</td>\n",
              "    </tr>\n",
              "    <tr>\n",
              "      <th>role</th>\n",
              "      <td>1.477061</td>\n",
              "    </tr>\n",
              "    <tr>\n",
              "      <th>experience</th>\n",
              "      <td>1.270166</td>\n",
              "    </tr>\n",
              "  </tbody>\n",
              "</table>\n",
              "<p>1000 rows × 1 columns</p>\n",
              "</div>\n",
              "    <div class=\"colab-df-buttons\">\n",
              "\n",
              "  <div class=\"colab-df-container\">\n",
              "    <button class=\"colab-df-convert\" onclick=\"convertToInteractive('df-8917528a-7ebd-45dc-9ed9-cb753022930f')\"\n",
              "            title=\"Convert this dataframe to an interactive table.\"\n",
              "            style=\"display:none;\">\n",
              "\n",
              "  <svg xmlns=\"http://www.w3.org/2000/svg\" height=\"24px\" viewBox=\"0 -960 960 960\">\n",
              "    <path d=\"M120-120v-720h720v720H120Zm60-500h600v-160H180v160Zm220 220h160v-160H400v160Zm0 220h160v-160H400v160ZM180-400h160v-160H180v160Zm440 0h160v-160H620v160ZM180-180h160v-160H180v160Zm440 0h160v-160H620v160Z\"/>\n",
              "  </svg>\n",
              "    </button>\n",
              "\n",
              "  <style>\n",
              "    .colab-df-container {\n",
              "      display:flex;\n",
              "      gap: 12px;\n",
              "    }\n",
              "\n",
              "    .colab-df-convert {\n",
              "      background-color: #E8F0FE;\n",
              "      border: none;\n",
              "      border-radius: 50%;\n",
              "      cursor: pointer;\n",
              "      display: none;\n",
              "      fill: #1967D2;\n",
              "      height: 32px;\n",
              "      padding: 0 0 0 0;\n",
              "      width: 32px;\n",
              "    }\n",
              "\n",
              "    .colab-df-convert:hover {\n",
              "      background-color: #E2EBFA;\n",
              "      box-shadow: 0px 1px 2px rgba(60, 64, 67, 0.3), 0px 1px 3px 1px rgba(60, 64, 67, 0.15);\n",
              "      fill: #174EA6;\n",
              "    }\n",
              "\n",
              "    .colab-df-buttons div {\n",
              "      margin-bottom: 4px;\n",
              "    }\n",
              "\n",
              "    [theme=dark] .colab-df-convert {\n",
              "      background-color: #3B4455;\n",
              "      fill: #D2E3FC;\n",
              "    }\n",
              "\n",
              "    [theme=dark] .colab-df-convert:hover {\n",
              "      background-color: #434B5C;\n",
              "      box-shadow: 0px 1px 3px 1px rgba(0, 0, 0, 0.15);\n",
              "      filter: drop-shadow(0px 1px 2px rgba(0, 0, 0, 0.3));\n",
              "      fill: #FFFFFF;\n",
              "    }\n",
              "  </style>\n",
              "\n",
              "    <script>\n",
              "      const buttonEl =\n",
              "        document.querySelector('#df-8917528a-7ebd-45dc-9ed9-cb753022930f button.colab-df-convert');\n",
              "      buttonEl.style.display =\n",
              "        google.colab.kernel.accessAllowed ? 'block' : 'none';\n",
              "\n",
              "      async function convertToInteractive(key) {\n",
              "        const element = document.querySelector('#df-8917528a-7ebd-45dc-9ed9-cb753022930f');\n",
              "        const dataTable =\n",
              "          await google.colab.kernel.invokeFunction('convertToInteractive',\n",
              "                                                    [key], {});\n",
              "        if (!dataTable) return;\n",
              "\n",
              "        const docLinkHtml = 'Like what you see? Visit the ' +\n",
              "          '<a target=\"_blank\" href=https://colab.research.google.com/notebooks/data_table.ipynb>data table notebook</a>'\n",
              "          + ' to learn more about interactive tables.';\n",
              "        element.innerHTML = '';\n",
              "        dataTable['output_type'] = 'display_data';\n",
              "        await google.colab.output.renderOutput(dataTable, element);\n",
              "        const docLink = document.createElement('div');\n",
              "        docLink.innerHTML = docLinkHtml;\n",
              "        element.appendChild(docLink);\n",
              "      }\n",
              "    </script>\n",
              "  </div>\n",
              "\n",
              "\n",
              "<div id=\"df-2c3168c6-3758-4503-b4e2-41b957906a30\">\n",
              "  <button class=\"colab-df-quickchart\" onclick=\"quickchart('df-2c3168c6-3758-4503-b4e2-41b957906a30')\"\n",
              "            title=\"Suggest charts\"\n",
              "            style=\"display:none;\">\n",
              "\n",
              "<svg xmlns=\"http://www.w3.org/2000/svg\" height=\"24px\"viewBox=\"0 0 24 24\"\n",
              "     width=\"24px\">\n",
              "    <g>\n",
              "        <path d=\"M19 3H5c-1.1 0-2 .9-2 2v14c0 1.1.9 2 2 2h14c1.1 0 2-.9 2-2V5c0-1.1-.9-2-2-2zM9 17H7v-7h2v7zm4 0h-2V7h2v10zm4 0h-2v-4h2v4z\"/>\n",
              "    </g>\n",
              "</svg>\n",
              "  </button>\n",
              "\n",
              "<style>\n",
              "  .colab-df-quickchart {\n",
              "      --bg-color: #E8F0FE;\n",
              "      --fill-color: #1967D2;\n",
              "      --hover-bg-color: #E2EBFA;\n",
              "      --hover-fill-color: #174EA6;\n",
              "      --disabled-fill-color: #AAA;\n",
              "      --disabled-bg-color: #DDD;\n",
              "  }\n",
              "\n",
              "  [theme=dark] .colab-df-quickchart {\n",
              "      --bg-color: #3B4455;\n",
              "      --fill-color: #D2E3FC;\n",
              "      --hover-bg-color: #434B5C;\n",
              "      --hover-fill-color: #FFFFFF;\n",
              "      --disabled-bg-color: #3B4455;\n",
              "      --disabled-fill-color: #666;\n",
              "  }\n",
              "\n",
              "  .colab-df-quickchart {\n",
              "    background-color: var(--bg-color);\n",
              "    border: none;\n",
              "    border-radius: 50%;\n",
              "    cursor: pointer;\n",
              "    display: none;\n",
              "    fill: var(--fill-color);\n",
              "    height: 32px;\n",
              "    padding: 0;\n",
              "    width: 32px;\n",
              "  }\n",
              "\n",
              "  .colab-df-quickchart:hover {\n",
              "    background-color: var(--hover-bg-color);\n",
              "    box-shadow: 0 1px 2px rgba(60, 64, 67, 0.3), 0 1px 3px 1px rgba(60, 64, 67, 0.15);\n",
              "    fill: var(--button-hover-fill-color);\n",
              "  }\n",
              "\n",
              "  .colab-df-quickchart-complete:disabled,\n",
              "  .colab-df-quickchart-complete:disabled:hover {\n",
              "    background-color: var(--disabled-bg-color);\n",
              "    fill: var(--disabled-fill-color);\n",
              "    box-shadow: none;\n",
              "  }\n",
              "\n",
              "  .colab-df-spinner {\n",
              "    border: 2px solid var(--fill-color);\n",
              "    border-color: transparent;\n",
              "    border-bottom-color: var(--fill-color);\n",
              "    animation:\n",
              "      spin 1s steps(1) infinite;\n",
              "  }\n",
              "\n",
              "  @keyframes spin {\n",
              "    0% {\n",
              "      border-color: transparent;\n",
              "      border-bottom-color: var(--fill-color);\n",
              "      border-left-color: var(--fill-color);\n",
              "    }\n",
              "    20% {\n",
              "      border-color: transparent;\n",
              "      border-left-color: var(--fill-color);\n",
              "      border-top-color: var(--fill-color);\n",
              "    }\n",
              "    30% {\n",
              "      border-color: transparent;\n",
              "      border-left-color: var(--fill-color);\n",
              "      border-top-color: var(--fill-color);\n",
              "      border-right-color: var(--fill-color);\n",
              "    }\n",
              "    40% {\n",
              "      border-color: transparent;\n",
              "      border-right-color: var(--fill-color);\n",
              "      border-top-color: var(--fill-color);\n",
              "    }\n",
              "    60% {\n",
              "      border-color: transparent;\n",
              "      border-right-color: var(--fill-color);\n",
              "    }\n",
              "    80% {\n",
              "      border-color: transparent;\n",
              "      border-right-color: var(--fill-color);\n",
              "      border-bottom-color: var(--fill-color);\n",
              "    }\n",
              "    90% {\n",
              "      border-color: transparent;\n",
              "      border-bottom-color: var(--fill-color);\n",
              "    }\n",
              "  }\n",
              "</style>\n",
              "\n",
              "  <script>\n",
              "    async function quickchart(key) {\n",
              "      const quickchartButtonEl =\n",
              "        document.querySelector('#' + key + ' button');\n",
              "      quickchartButtonEl.disabled = true;  // To prevent multiple clicks.\n",
              "      quickchartButtonEl.classList.add('colab-df-spinner');\n",
              "      try {\n",
              "        const charts = await google.colab.kernel.invokeFunction(\n",
              "            'suggestCharts', [key], {});\n",
              "      } catch (error) {\n",
              "        console.error('Error during call to suggestCharts:', error);\n",
              "      }\n",
              "      quickchartButtonEl.classList.remove('colab-df-spinner');\n",
              "      quickchartButtonEl.classList.add('colab-df-quickchart-complete');\n",
              "    }\n",
              "    (() => {\n",
              "      let quickchartButtonEl =\n",
              "        document.querySelector('#df-2c3168c6-3758-4503-b4e2-41b957906a30 button');\n",
              "      quickchartButtonEl.style.display =\n",
              "        google.colab.kernel.accessAllowed ? 'block' : 'none';\n",
              "    })();\n",
              "  </script>\n",
              "</div>\n",
              "\n",
              "    </div>\n",
              "  </div>\n"
            ]
          },
          "metadata": {},
          "execution_count": 15
        }
      ]
    },
    {
      "cell_type": "code",
      "source": [
        "importances = pd.DataFrame({'weights': model.coef_\n",
        "                            ,'features': tfidf_vec.get_feature_names_out()})\\\n",
        "                            .sort_values(by='weights', ascending=False)\n",
        "importances"
      ],
      "metadata": {
        "colab": {
          "base_uri": "https://localhost:8080/",
          "height": 424
        },
        "id": "qSlZGRKaP07w",
        "outputId": "7abc773e-4eab-414c-e84e-22b038511d61"
      },
      "execution_count": 16,
      "outputs": [
        {
          "output_type": "execute_result",
          "data": {
            "text/plain": [
              "      weights      features\n",
              "265  1.015339      director\n",
              "701  0.957334       privacy\n",
              "770  0.893471  registration\n",
              "499  0.762076    leadership\n",
              "594  0.756171           nhs\n",
              "..        ...           ...\n",
              "279 -0.664668        duties\n",
              "601 -0.676885           nvq\n",
              "394 -0.712105      graduate\n",
              "76  -0.879750     assistant\n",
              "934 -0.985121     totaljobs\n",
              "\n",
              "[1000 rows x 2 columns]"
            ],
            "text/html": [
              "\n",
              "  <div id=\"df-dec60544-c348-4ecb-b89c-348640b85286\" class=\"colab-df-container\">\n",
              "    <div>\n",
              "<style scoped>\n",
              "    .dataframe tbody tr th:only-of-type {\n",
              "        vertical-align: middle;\n",
              "    }\n",
              "\n",
              "    .dataframe tbody tr th {\n",
              "        vertical-align: top;\n",
              "    }\n",
              "\n",
              "    .dataframe thead th {\n",
              "        text-align: right;\n",
              "    }\n",
              "</style>\n",
              "<table border=\"1\" class=\"dataframe\">\n",
              "  <thead>\n",
              "    <tr style=\"text-align: right;\">\n",
              "      <th></th>\n",
              "      <th>weights</th>\n",
              "      <th>features</th>\n",
              "    </tr>\n",
              "  </thead>\n",
              "  <tbody>\n",
              "    <tr>\n",
              "      <th>265</th>\n",
              "      <td>1.015339</td>\n",
              "      <td>director</td>\n",
              "    </tr>\n",
              "    <tr>\n",
              "      <th>701</th>\n",
              "      <td>0.957334</td>\n",
              "      <td>privacy</td>\n",
              "    </tr>\n",
              "    <tr>\n",
              "      <th>770</th>\n",
              "      <td>0.893471</td>\n",
              "      <td>registration</td>\n",
              "    </tr>\n",
              "    <tr>\n",
              "      <th>499</th>\n",
              "      <td>0.762076</td>\n",
              "      <td>leadership</td>\n",
              "    </tr>\n",
              "    <tr>\n",
              "      <th>594</th>\n",
              "      <td>0.756171</td>\n",
              "      <td>nhs</td>\n",
              "    </tr>\n",
              "    <tr>\n",
              "      <th>...</th>\n",
              "      <td>...</td>\n",
              "      <td>...</td>\n",
              "    </tr>\n",
              "    <tr>\n",
              "      <th>279</th>\n",
              "      <td>-0.664668</td>\n",
              "      <td>duties</td>\n",
              "    </tr>\n",
              "    <tr>\n",
              "      <th>601</th>\n",
              "      <td>-0.676885</td>\n",
              "      <td>nvq</td>\n",
              "    </tr>\n",
              "    <tr>\n",
              "      <th>394</th>\n",
              "      <td>-0.712105</td>\n",
              "      <td>graduate</td>\n",
              "    </tr>\n",
              "    <tr>\n",
              "      <th>76</th>\n",
              "      <td>-0.879750</td>\n",
              "      <td>assistant</td>\n",
              "    </tr>\n",
              "    <tr>\n",
              "      <th>934</th>\n",
              "      <td>-0.985121</td>\n",
              "      <td>totaljobs</td>\n",
              "    </tr>\n",
              "  </tbody>\n",
              "</table>\n",
              "<p>1000 rows × 2 columns</p>\n",
              "</div>\n",
              "    <div class=\"colab-df-buttons\">\n",
              "\n",
              "  <div class=\"colab-df-container\">\n",
              "    <button class=\"colab-df-convert\" onclick=\"convertToInteractive('df-dec60544-c348-4ecb-b89c-348640b85286')\"\n",
              "            title=\"Convert this dataframe to an interactive table.\"\n",
              "            style=\"display:none;\">\n",
              "\n",
              "  <svg xmlns=\"http://www.w3.org/2000/svg\" height=\"24px\" viewBox=\"0 -960 960 960\">\n",
              "    <path d=\"M120-120v-720h720v720H120Zm60-500h600v-160H180v160Zm220 220h160v-160H400v160Zm0 220h160v-160H400v160ZM180-400h160v-160H180v160Zm440 0h160v-160H620v160ZM180-180h160v-160H180v160Zm440 0h160v-160H620v160Z\"/>\n",
              "  </svg>\n",
              "    </button>\n",
              "\n",
              "  <style>\n",
              "    .colab-df-container {\n",
              "      display:flex;\n",
              "      gap: 12px;\n",
              "    }\n",
              "\n",
              "    .colab-df-convert {\n",
              "      background-color: #E8F0FE;\n",
              "      border: none;\n",
              "      border-radius: 50%;\n",
              "      cursor: pointer;\n",
              "      display: none;\n",
              "      fill: #1967D2;\n",
              "      height: 32px;\n",
              "      padding: 0 0 0 0;\n",
              "      width: 32px;\n",
              "    }\n",
              "\n",
              "    .colab-df-convert:hover {\n",
              "      background-color: #E2EBFA;\n",
              "      box-shadow: 0px 1px 2px rgba(60, 64, 67, 0.3), 0px 1px 3px 1px rgba(60, 64, 67, 0.15);\n",
              "      fill: #174EA6;\n",
              "    }\n",
              "\n",
              "    .colab-df-buttons div {\n",
              "      margin-bottom: 4px;\n",
              "    }\n",
              "\n",
              "    [theme=dark] .colab-df-convert {\n",
              "      background-color: #3B4455;\n",
              "      fill: #D2E3FC;\n",
              "    }\n",
              "\n",
              "    [theme=dark] .colab-df-convert:hover {\n",
              "      background-color: #434B5C;\n",
              "      box-shadow: 0px 1px 3px 1px rgba(0, 0, 0, 0.15);\n",
              "      filter: drop-shadow(0px 1px 2px rgba(0, 0, 0, 0.3));\n",
              "      fill: #FFFFFF;\n",
              "    }\n",
              "  </style>\n",
              "\n",
              "    <script>\n",
              "      const buttonEl =\n",
              "        document.querySelector('#df-dec60544-c348-4ecb-b89c-348640b85286 button.colab-df-convert');\n",
              "      buttonEl.style.display =\n",
              "        google.colab.kernel.accessAllowed ? 'block' : 'none';\n",
              "\n",
              "      async function convertToInteractive(key) {\n",
              "        const element = document.querySelector('#df-dec60544-c348-4ecb-b89c-348640b85286');\n",
              "        const dataTable =\n",
              "          await google.colab.kernel.invokeFunction('convertToInteractive',\n",
              "                                                    [key], {});\n",
              "        if (!dataTable) return;\n",
              "\n",
              "        const docLinkHtml = 'Like what you see? Visit the ' +\n",
              "          '<a target=\"_blank\" href=https://colab.research.google.com/notebooks/data_table.ipynb>data table notebook</a>'\n",
              "          + ' to learn more about interactive tables.';\n",
              "        element.innerHTML = '';\n",
              "        dataTable['output_type'] = 'display_data';\n",
              "        await google.colab.output.renderOutput(dataTable, element);\n",
              "        const docLink = document.createElement('div');\n",
              "        docLink.innerHTML = docLinkHtml;\n",
              "        element.appendChild(docLink);\n",
              "      }\n",
              "    </script>\n",
              "  </div>\n",
              "\n",
              "\n",
              "<div id=\"df-130c57c1-20c5-4b1f-851f-1799a4d05468\">\n",
              "  <button class=\"colab-df-quickchart\" onclick=\"quickchart('df-130c57c1-20c5-4b1f-851f-1799a4d05468')\"\n",
              "            title=\"Suggest charts\"\n",
              "            style=\"display:none;\">\n",
              "\n",
              "<svg xmlns=\"http://www.w3.org/2000/svg\" height=\"24px\"viewBox=\"0 0 24 24\"\n",
              "     width=\"24px\">\n",
              "    <g>\n",
              "        <path d=\"M19 3H5c-1.1 0-2 .9-2 2v14c0 1.1.9 2 2 2h14c1.1 0 2-.9 2-2V5c0-1.1-.9-2-2-2zM9 17H7v-7h2v7zm4 0h-2V7h2v10zm4 0h-2v-4h2v4z\"/>\n",
              "    </g>\n",
              "</svg>\n",
              "  </button>\n",
              "\n",
              "<style>\n",
              "  .colab-df-quickchart {\n",
              "      --bg-color: #E8F0FE;\n",
              "      --fill-color: #1967D2;\n",
              "      --hover-bg-color: #E2EBFA;\n",
              "      --hover-fill-color: #174EA6;\n",
              "      --disabled-fill-color: #AAA;\n",
              "      --disabled-bg-color: #DDD;\n",
              "  }\n",
              "\n",
              "  [theme=dark] .colab-df-quickchart {\n",
              "      --bg-color: #3B4455;\n",
              "      --fill-color: #D2E3FC;\n",
              "      --hover-bg-color: #434B5C;\n",
              "      --hover-fill-color: #FFFFFF;\n",
              "      --disabled-bg-color: #3B4455;\n",
              "      --disabled-fill-color: #666;\n",
              "  }\n",
              "\n",
              "  .colab-df-quickchart {\n",
              "    background-color: var(--bg-color);\n",
              "    border: none;\n",
              "    border-radius: 50%;\n",
              "    cursor: pointer;\n",
              "    display: none;\n",
              "    fill: var(--fill-color);\n",
              "    height: 32px;\n",
              "    padding: 0;\n",
              "    width: 32px;\n",
              "  }\n",
              "\n",
              "  .colab-df-quickchart:hover {\n",
              "    background-color: var(--hover-bg-color);\n",
              "    box-shadow: 0 1px 2px rgba(60, 64, 67, 0.3), 0 1px 3px 1px rgba(60, 64, 67, 0.15);\n",
              "    fill: var(--button-hover-fill-color);\n",
              "  }\n",
              "\n",
              "  .colab-df-quickchart-complete:disabled,\n",
              "  .colab-df-quickchart-complete:disabled:hover {\n",
              "    background-color: var(--disabled-bg-color);\n",
              "    fill: var(--disabled-fill-color);\n",
              "    box-shadow: none;\n",
              "  }\n",
              "\n",
              "  .colab-df-spinner {\n",
              "    border: 2px solid var(--fill-color);\n",
              "    border-color: transparent;\n",
              "    border-bottom-color: var(--fill-color);\n",
              "    animation:\n",
              "      spin 1s steps(1) infinite;\n",
              "  }\n",
              "\n",
              "  @keyframes spin {\n",
              "    0% {\n",
              "      border-color: transparent;\n",
              "      border-bottom-color: var(--fill-color);\n",
              "      border-left-color: var(--fill-color);\n",
              "    }\n",
              "    20% {\n",
              "      border-color: transparent;\n",
              "      border-left-color: var(--fill-color);\n",
              "      border-top-color: var(--fill-color);\n",
              "    }\n",
              "    30% {\n",
              "      border-color: transparent;\n",
              "      border-left-color: var(--fill-color);\n",
              "      border-top-color: var(--fill-color);\n",
              "      border-right-color: var(--fill-color);\n",
              "    }\n",
              "    40% {\n",
              "      border-color: transparent;\n",
              "      border-right-color: var(--fill-color);\n",
              "      border-top-color: var(--fill-color);\n",
              "    }\n",
              "    60% {\n",
              "      border-color: transparent;\n",
              "      border-right-color: var(--fill-color);\n",
              "    }\n",
              "    80% {\n",
              "      border-color: transparent;\n",
              "      border-right-color: var(--fill-color);\n",
              "      border-bottom-color: var(--fill-color);\n",
              "    }\n",
              "    90% {\n",
              "      border-color: transparent;\n",
              "      border-bottom-color: var(--fill-color);\n",
              "    }\n",
              "  }\n",
              "</style>\n",
              "\n",
              "  <script>\n",
              "    async function quickchart(key) {\n",
              "      const quickchartButtonEl =\n",
              "        document.querySelector('#' + key + ' button');\n",
              "      quickchartButtonEl.disabled = true;  // To prevent multiple clicks.\n",
              "      quickchartButtonEl.classList.add('colab-df-spinner');\n",
              "      try {\n",
              "        const charts = await google.colab.kernel.invokeFunction(\n",
              "            'suggestCharts', [key], {});\n",
              "      } catch (error) {\n",
              "        console.error('Error during call to suggestCharts:', error);\n",
              "      }\n",
              "      quickchartButtonEl.classList.remove('colab-df-spinner');\n",
              "      quickchartButtonEl.classList.add('colab-df-quickchart-complete');\n",
              "    }\n",
              "    (() => {\n",
              "      let quickchartButtonEl =\n",
              "        document.querySelector('#df-130c57c1-20c5-4b1f-851f-1799a4d05468 button');\n",
              "      quickchartButtonEl.style.display =\n",
              "        google.colab.kernel.accessAllowed ? 'block' : 'none';\n",
              "    })();\n",
              "  </script>\n",
              "</div>\n",
              "\n",
              "  <div id=\"id_8d5dff02-aa30-4418-a708-800af1edf0e2\">\n",
              "    <style>\n",
              "      .colab-df-generate {\n",
              "        background-color: #E8F0FE;\n",
              "        border: none;\n",
              "        border-radius: 50%;\n",
              "        cursor: pointer;\n",
              "        display: none;\n",
              "        fill: #1967D2;\n",
              "        height: 32px;\n",
              "        padding: 0 0 0 0;\n",
              "        width: 32px;\n",
              "      }\n",
              "\n",
              "      .colab-df-generate:hover {\n",
              "        background-color: #E2EBFA;\n",
              "        box-shadow: 0px 1px 2px rgba(60, 64, 67, 0.3), 0px 1px 3px 1px rgba(60, 64, 67, 0.15);\n",
              "        fill: #174EA6;\n",
              "      }\n",
              "\n",
              "      [theme=dark] .colab-df-generate {\n",
              "        background-color: #3B4455;\n",
              "        fill: #D2E3FC;\n",
              "      }\n",
              "\n",
              "      [theme=dark] .colab-df-generate:hover {\n",
              "        background-color: #434B5C;\n",
              "        box-shadow: 0px 1px 3px 1px rgba(0, 0, 0, 0.15);\n",
              "        filter: drop-shadow(0px 1px 2px rgba(0, 0, 0, 0.3));\n",
              "        fill: #FFFFFF;\n",
              "      }\n",
              "    </style>\n",
              "    <button class=\"colab-df-generate\" onclick=\"generateWithVariable('importances')\"\n",
              "            title=\"Generate code using this dataframe.\"\n",
              "            style=\"display:none;\">\n",
              "\n",
              "  <svg xmlns=\"http://www.w3.org/2000/svg\" height=\"24px\"viewBox=\"0 0 24 24\"\n",
              "       width=\"24px\">\n",
              "    <path d=\"M7,19H8.4L18.45,9,17,7.55,7,17.6ZM5,21V16.75L18.45,3.32a2,2,0,0,1,2.83,0l1.4,1.43a1.91,1.91,0,0,1,.58,1.4,1.91,1.91,0,0,1-.58,1.4L9.25,21ZM18.45,9,17,7.55Zm-12,3A5.31,5.31,0,0,0,4.9,8.1,5.31,5.31,0,0,0,1,6.5,5.31,5.31,0,0,0,4.9,4.9,5.31,5.31,0,0,0,6.5,1,5.31,5.31,0,0,0,8.1,4.9,5.31,5.31,0,0,0,12,6.5,5.46,5.46,0,0,0,6.5,12Z\"/>\n",
              "  </svg>\n",
              "    </button>\n",
              "    <script>\n",
              "      (() => {\n",
              "      const buttonEl =\n",
              "        document.querySelector('#id_8d5dff02-aa30-4418-a708-800af1edf0e2 button.colab-df-generate');\n",
              "      buttonEl.style.display =\n",
              "        google.colab.kernel.accessAllowed ? 'block' : 'none';\n",
              "\n",
              "      buttonEl.onclick = () => {\n",
              "        google.colab.notebook.generateWithVariable('importances');\n",
              "      }\n",
              "      })();\n",
              "    </script>\n",
              "  </div>\n",
              "\n",
              "    </div>\n",
              "  </div>\n"
            ]
          },
          "metadata": {},
          "execution_count": 16
        }
      ]
    },
    {
      "cell_type": "markdown",
      "metadata": {
        "id": "j0IodEjWcPu-"
      },
      "source": [
        "## Word2Vec\n",
        "\n",
        "Теперь обучите word2vec на тренировочных данных.\n",
        "\n",
        "Используйте гиперпараметры из [ноутбука](https://colab.research.google.com/drive/1MM2atgNv7PDaab1qDLEPux7aUFYbxjEE?usp=sharing).\n",
        "\n",
        "Обучайте word2vec 3 эпохи."
      ]
    },
    {
      "cell_type": "code",
      "source": [
        "Xtrain, Xtest, ytrain, ytest = train_test_split(df[[\"FullDescription\"]], np.log(df[\"SalaryNormalized\"]), test_size = 0.2, random_state=42)"
      ],
      "metadata": {
        "id": "0KiClPFRdon_"
      },
      "execution_count": 17,
      "outputs": []
    },
    {
      "cell_type": "code",
      "execution_count": 79,
      "metadata": {
        "id": "9qex0apAcXNt",
        "colab": {
          "base_uri": "https://localhost:8080/"
        },
        "outputId": "8d5cb4ba-d80f-4d3c-e501-e9a7874da707"
      },
      "outputs": [
        {
          "output_type": "execute_result",
          "data": {
            "text/plain": [
              "(27821887, 58825338)"
            ]
          },
          "metadata": {},
          "execution_count": 79
        }
      ],
      "source": [
        "from gensim.models import Word2Vec\n",
        "\n",
        "sent = [row.split() for row in Xtrain[\"FullDescription\"]]\n",
        "\n",
        "HIDDEN = 100\n",
        "\n",
        "model = Word2Vec(min_count=20,\n",
        "                     window=2,\n",
        "                     vector_size=HIDDEN,\n",
        "                     sample=6e-5,\n",
        "                     alpha=0.03,\n",
        "                     min_alpha=0.0007,\n",
        "                     negative=20,\n",
        "                     workers=2)\n",
        "model.build_vocab(sent, progress_per=10000)\n",
        "model.train(sent, total_examples=model.corpus_count, epochs=3, report_delay=1)"
      ]
    },
    {
      "cell_type": "markdown",
      "metadata": {
        "id": "Jeoc5qJoczqI"
      },
      "source": [
        "Будем вычислять вектор профессии как средний вектор всех ее слов."
      ]
    },
    {
      "cell_type": "code",
      "execution_count": 19,
      "metadata": {
        "id": "NvfGVZYbcics"
      },
      "outputs": [],
      "source": [
        "def get_mean_w2v_vector(sentence):\n",
        "    Sum = 0\n",
        "    Count = 0\n",
        "\n",
        "    words = sentence.split()\n",
        "\n",
        "    for w in words:\n",
        "        if w in model.wv:\n",
        "            Sum += model.wv[w]\n",
        "            Count += 1\n",
        "\n",
        "    return Sum / Count"
      ]
    },
    {
      "cell_type": "markdown",
      "metadata": {
        "id": "Jp5R_Ka7c67d"
      },
      "source": [
        "По аналогии с [ноутбуком](https://colab.research.google.com/drive/1MM2atgNv7PDaab1qDLEPux7aUFYbxjEE?usp=sharing) создайте в тренировочных и тестовых данных колонки, содержащие полученные числовые значения (компоненты word2vec-векторизации).\n",
        "\n",
        "Затем удалите из матриц все остальные колонки."
      ]
    },
    {
      "cell_type": "code",
      "execution_count": 20,
      "metadata": {
        "id": "mO6F7zfoc4Zv"
      },
      "outputs": [],
      "source": [
        "NewCols = ['col'+str(i) for i in range(HIDDEN)]\n",
        "\n",
        "Xtrain_wv = Xtrain.copy()\n",
        "Xtest_wv = Xtest.copy()\n",
        "\n",
        "Xtrain_wv['vectors'] = Xtrain_wv['FullDescription'].map(get_mean_w2v_vector)\n",
        "Xtest_wv['vectors'] = Xtest_wv['FullDescription'].map(get_mean_w2v_vector)"
      ]
    },
    {
      "cell_type": "code",
      "source": [
        "Xtest_wv.columns"
      ],
      "metadata": {
        "colab": {
          "base_uri": "https://localhost:8080/"
        },
        "id": "9eHi2ObgXJJu",
        "outputId": "f2512bc6-ff4a-4c66-a981-0b1cfa58f1c6"
      },
      "execution_count": 84,
      "outputs": [
        {
          "output_type": "execute_result",
          "data": {
            "text/plain": [
              "Index(['FullDescription', 'vectors'], dtype='object')"
            ]
          },
          "metadata": {},
          "execution_count": 84
        }
      ]
    },
    {
      "cell_type": "code",
      "source": [
        "Xtrain_wv[NewCols] = pd.DataFrame(Xtrain_wv['vectors'].tolist(), index= Xtrain_wv.index)\n",
        "Xtest_wv[NewCols] = pd.DataFrame(Xtest_wv['vectors'].tolist(), index= Xtest_wv.index)"
      ],
      "metadata": {
        "colab": {
          "base_uri": "https://localhost:8080/"
        },
        "id": "8SmDkWNPbA6p",
        "outputId": "ec4fad0d-7303-4bc2-de84-808a560bcc4d"
      },
      "execution_count": 21,
      "outputs": [
        {
          "output_type": "stream",
          "name": "stderr",
          "text": [
            "<ipython-input-21-ca70de264cc3>:1: PerformanceWarning: DataFrame is highly fragmented.  This is usually the result of calling `frame.insert` many times, which has poor performance.  Consider joining all columns at once using pd.concat(axis=1) instead. To get a de-fragmented frame, use `newframe = frame.copy()`\n",
            "  Xtrain_wv[NewCols] = pd.DataFrame(Xtrain_wv['vectors'].tolist(), index= Xtrain_wv.index)\n",
            "<ipython-input-21-ca70de264cc3>:1: PerformanceWarning: DataFrame is highly fragmented.  This is usually the result of calling `frame.insert` many times, which has poor performance.  Consider joining all columns at once using pd.concat(axis=1) instead. To get a de-fragmented frame, use `newframe = frame.copy()`\n",
            "  Xtrain_wv[NewCols] = pd.DataFrame(Xtrain_wv['vectors'].tolist(), index= Xtrain_wv.index)\n",
            "<ipython-input-21-ca70de264cc3>:2: PerformanceWarning: DataFrame is highly fragmented.  This is usually the result of calling `frame.insert` many times, which has poor performance.  Consider joining all columns at once using pd.concat(axis=1) instead. To get a de-fragmented frame, use `newframe = frame.copy()`\n",
            "  Xtest_wv[NewCols] = pd.DataFrame(Xtest_wv['vectors'].tolist(), index= Xtest_wv.index)\n",
            "<ipython-input-21-ca70de264cc3>:2: PerformanceWarning: DataFrame is highly fragmented.  This is usually the result of calling `frame.insert` many times, which has poor performance.  Consider joining all columns at once using pd.concat(axis=1) instead. To get a de-fragmented frame, use `newframe = frame.copy()`\n",
            "  Xtest_wv[NewCols] = pd.DataFrame(Xtest_wv['vectors'].tolist(), index= Xtest_wv.index)\n"
          ]
        }
      ]
    },
    {
      "cell_type": "code",
      "source": [
        "Xtrain_wv.head()"
      ],
      "metadata": {
        "colab": {
          "base_uri": "https://localhost:8080/",
          "height": 323
        },
        "id": "d5s6t0gr327A",
        "outputId": "857d4986-8218-4045-e3b5-c3c10a6a778b"
      },
      "execution_count": 22,
      "outputs": [
        {
          "output_type": "execute_result",
          "data": {
            "text/plain": [
              "                                         FullDescription  \\\n",
              "75220  You will be responsible for day to day liaison...   \n",
              "48955  Do you want a change? Do you want to choose wh...   \n",
              "44966  Position: Business Process Analyst  ARIS Job t...   \n",
              "13568  Ofqual regulates qualifications, exams and ass...   \n",
              "92727  Our Client based in East London have an urgent...   \n",
              "\n",
              "                                                 vectors      col0      col1  \\\n",
              "75220  [-0.22617671, 0.0655566, -0.32318267, 0.518299... -0.226177  0.065557   \n",
              "48955  [0.03045081, 0.053165942, -0.058026902, 0.4964...  0.030451  0.053166   \n",
              "44966  [-0.18207148, 0.019041551, -0.060059384, 0.323... -0.182071  0.019042   \n",
              "13568  [-0.33257785, -0.12098869, -0.44726926, 0.4091... -0.332578 -0.120989   \n",
              "92727  [-0.22586446, 0.16735609, -0.24093644, 0.59820... -0.225864  0.167356   \n",
              "\n",
              "           col2      col3      col4      col5      col6      col7  ...  \\\n",
              "75220 -0.323183  0.518300  0.098899  0.241577  0.104000 -0.485835  ...   \n",
              "48955 -0.058027  0.496425  0.065902  0.333106  0.180551 -0.359656  ...   \n",
              "44966 -0.060059  0.323796 -0.122855  0.175646  0.058596 -0.393218  ...   \n",
              "13568 -0.447269  0.409147  0.033083  0.278923  0.025120 -0.558317  ...   \n",
              "92727 -0.240936  0.598203  0.035310  0.151458 -0.065803 -0.251969  ...   \n",
              "\n",
              "          col90     col91     col92     col93     col94     col95     col96  \\\n",
              "75220  0.035495  0.343133 -0.431646  0.011607 -0.029718  0.078379  0.052955   \n",
              "48955  0.309000  0.249650 -0.713764 -0.073725  0.226781  0.145735  0.041632   \n",
              "44966  0.102035  0.471042 -0.447055 -0.129442  0.055237  0.041346  0.000739   \n",
              "13568  0.224955  0.361697 -0.494516  0.039046 -0.072369  0.149438  0.214391   \n",
              "92727 -0.187357  0.386819 -0.285506  0.032316 -0.031444  0.096468 -0.038741   \n",
              "\n",
              "          col97     col98     col99  \n",
              "75220  0.005259  0.261323 -0.076826  \n",
              "48955  0.319304  0.587457 -0.136949  \n",
              "44966  0.052893  0.209430 -0.092558  \n",
              "13568  0.246103  0.307388 -0.063411  \n",
              "92727 -0.149914  0.198209 -0.178050  \n",
              "\n",
              "[5 rows x 102 columns]"
            ],
            "text/html": [
              "\n",
              "  <div id=\"df-0d362b33-a14d-439d-92ce-5185ba16a20f\" class=\"colab-df-container\">\n",
              "    <div>\n",
              "<style scoped>\n",
              "    .dataframe tbody tr th:only-of-type {\n",
              "        vertical-align: middle;\n",
              "    }\n",
              "\n",
              "    .dataframe tbody tr th {\n",
              "        vertical-align: top;\n",
              "    }\n",
              "\n",
              "    .dataframe thead th {\n",
              "        text-align: right;\n",
              "    }\n",
              "</style>\n",
              "<table border=\"1\" class=\"dataframe\">\n",
              "  <thead>\n",
              "    <tr style=\"text-align: right;\">\n",
              "      <th></th>\n",
              "      <th>FullDescription</th>\n",
              "      <th>vectors</th>\n",
              "      <th>col0</th>\n",
              "      <th>col1</th>\n",
              "      <th>col2</th>\n",
              "      <th>col3</th>\n",
              "      <th>col4</th>\n",
              "      <th>col5</th>\n",
              "      <th>col6</th>\n",
              "      <th>col7</th>\n",
              "      <th>...</th>\n",
              "      <th>col90</th>\n",
              "      <th>col91</th>\n",
              "      <th>col92</th>\n",
              "      <th>col93</th>\n",
              "      <th>col94</th>\n",
              "      <th>col95</th>\n",
              "      <th>col96</th>\n",
              "      <th>col97</th>\n",
              "      <th>col98</th>\n",
              "      <th>col99</th>\n",
              "    </tr>\n",
              "  </thead>\n",
              "  <tbody>\n",
              "    <tr>\n",
              "      <th>75220</th>\n",
              "      <td>You will be responsible for day to day liaison...</td>\n",
              "      <td>[-0.22617671, 0.0655566, -0.32318267, 0.518299...</td>\n",
              "      <td>-0.226177</td>\n",
              "      <td>0.065557</td>\n",
              "      <td>-0.323183</td>\n",
              "      <td>0.518300</td>\n",
              "      <td>0.098899</td>\n",
              "      <td>0.241577</td>\n",
              "      <td>0.104000</td>\n",
              "      <td>-0.485835</td>\n",
              "      <td>...</td>\n",
              "      <td>0.035495</td>\n",
              "      <td>0.343133</td>\n",
              "      <td>-0.431646</td>\n",
              "      <td>0.011607</td>\n",
              "      <td>-0.029718</td>\n",
              "      <td>0.078379</td>\n",
              "      <td>0.052955</td>\n",
              "      <td>0.005259</td>\n",
              "      <td>0.261323</td>\n",
              "      <td>-0.076826</td>\n",
              "    </tr>\n",
              "    <tr>\n",
              "      <th>48955</th>\n",
              "      <td>Do you want a change? Do you want to choose wh...</td>\n",
              "      <td>[0.03045081, 0.053165942, -0.058026902, 0.4964...</td>\n",
              "      <td>0.030451</td>\n",
              "      <td>0.053166</td>\n",
              "      <td>-0.058027</td>\n",
              "      <td>0.496425</td>\n",
              "      <td>0.065902</td>\n",
              "      <td>0.333106</td>\n",
              "      <td>0.180551</td>\n",
              "      <td>-0.359656</td>\n",
              "      <td>...</td>\n",
              "      <td>0.309000</td>\n",
              "      <td>0.249650</td>\n",
              "      <td>-0.713764</td>\n",
              "      <td>-0.073725</td>\n",
              "      <td>0.226781</td>\n",
              "      <td>0.145735</td>\n",
              "      <td>0.041632</td>\n",
              "      <td>0.319304</td>\n",
              "      <td>0.587457</td>\n",
              "      <td>-0.136949</td>\n",
              "    </tr>\n",
              "    <tr>\n",
              "      <th>44966</th>\n",
              "      <td>Position: Business Process Analyst  ARIS Job t...</td>\n",
              "      <td>[-0.18207148, 0.019041551, -0.060059384, 0.323...</td>\n",
              "      <td>-0.182071</td>\n",
              "      <td>0.019042</td>\n",
              "      <td>-0.060059</td>\n",
              "      <td>0.323796</td>\n",
              "      <td>-0.122855</td>\n",
              "      <td>0.175646</td>\n",
              "      <td>0.058596</td>\n",
              "      <td>-0.393218</td>\n",
              "      <td>...</td>\n",
              "      <td>0.102035</td>\n",
              "      <td>0.471042</td>\n",
              "      <td>-0.447055</td>\n",
              "      <td>-0.129442</td>\n",
              "      <td>0.055237</td>\n",
              "      <td>0.041346</td>\n",
              "      <td>0.000739</td>\n",
              "      <td>0.052893</td>\n",
              "      <td>0.209430</td>\n",
              "      <td>-0.092558</td>\n",
              "    </tr>\n",
              "    <tr>\n",
              "      <th>13568</th>\n",
              "      <td>Ofqual regulates qualifications, exams and ass...</td>\n",
              "      <td>[-0.33257785, -0.12098869, -0.44726926, 0.4091...</td>\n",
              "      <td>-0.332578</td>\n",
              "      <td>-0.120989</td>\n",
              "      <td>-0.447269</td>\n",
              "      <td>0.409147</td>\n",
              "      <td>0.033083</td>\n",
              "      <td>0.278923</td>\n",
              "      <td>0.025120</td>\n",
              "      <td>-0.558317</td>\n",
              "      <td>...</td>\n",
              "      <td>0.224955</td>\n",
              "      <td>0.361697</td>\n",
              "      <td>-0.494516</td>\n",
              "      <td>0.039046</td>\n",
              "      <td>-0.072369</td>\n",
              "      <td>0.149438</td>\n",
              "      <td>0.214391</td>\n",
              "      <td>0.246103</td>\n",
              "      <td>0.307388</td>\n",
              "      <td>-0.063411</td>\n",
              "    </tr>\n",
              "    <tr>\n",
              "      <th>92727</th>\n",
              "      <td>Our Client based in East London have an urgent...</td>\n",
              "      <td>[-0.22586446, 0.16735609, -0.24093644, 0.59820...</td>\n",
              "      <td>-0.225864</td>\n",
              "      <td>0.167356</td>\n",
              "      <td>-0.240936</td>\n",
              "      <td>0.598203</td>\n",
              "      <td>0.035310</td>\n",
              "      <td>0.151458</td>\n",
              "      <td>-0.065803</td>\n",
              "      <td>-0.251969</td>\n",
              "      <td>...</td>\n",
              "      <td>-0.187357</td>\n",
              "      <td>0.386819</td>\n",
              "      <td>-0.285506</td>\n",
              "      <td>0.032316</td>\n",
              "      <td>-0.031444</td>\n",
              "      <td>0.096468</td>\n",
              "      <td>-0.038741</td>\n",
              "      <td>-0.149914</td>\n",
              "      <td>0.198209</td>\n",
              "      <td>-0.178050</td>\n",
              "    </tr>\n",
              "  </tbody>\n",
              "</table>\n",
              "<p>5 rows × 102 columns</p>\n",
              "</div>\n",
              "    <div class=\"colab-df-buttons\">\n",
              "\n",
              "  <div class=\"colab-df-container\">\n",
              "    <button class=\"colab-df-convert\" onclick=\"convertToInteractive('df-0d362b33-a14d-439d-92ce-5185ba16a20f')\"\n",
              "            title=\"Convert this dataframe to an interactive table.\"\n",
              "            style=\"display:none;\">\n",
              "\n",
              "  <svg xmlns=\"http://www.w3.org/2000/svg\" height=\"24px\" viewBox=\"0 -960 960 960\">\n",
              "    <path d=\"M120-120v-720h720v720H120Zm60-500h600v-160H180v160Zm220 220h160v-160H400v160Zm0 220h160v-160H400v160ZM180-400h160v-160H180v160Zm440 0h160v-160H620v160ZM180-180h160v-160H180v160Zm440 0h160v-160H620v160Z\"/>\n",
              "  </svg>\n",
              "    </button>\n",
              "\n",
              "  <style>\n",
              "    .colab-df-container {\n",
              "      display:flex;\n",
              "      gap: 12px;\n",
              "    }\n",
              "\n",
              "    .colab-df-convert {\n",
              "      background-color: #E8F0FE;\n",
              "      border: none;\n",
              "      border-radius: 50%;\n",
              "      cursor: pointer;\n",
              "      display: none;\n",
              "      fill: #1967D2;\n",
              "      height: 32px;\n",
              "      padding: 0 0 0 0;\n",
              "      width: 32px;\n",
              "    }\n",
              "\n",
              "    .colab-df-convert:hover {\n",
              "      background-color: #E2EBFA;\n",
              "      box-shadow: 0px 1px 2px rgba(60, 64, 67, 0.3), 0px 1px 3px 1px rgba(60, 64, 67, 0.15);\n",
              "      fill: #174EA6;\n",
              "    }\n",
              "\n",
              "    .colab-df-buttons div {\n",
              "      margin-bottom: 4px;\n",
              "    }\n",
              "\n",
              "    [theme=dark] .colab-df-convert {\n",
              "      background-color: #3B4455;\n",
              "      fill: #D2E3FC;\n",
              "    }\n",
              "\n",
              "    [theme=dark] .colab-df-convert:hover {\n",
              "      background-color: #434B5C;\n",
              "      box-shadow: 0px 1px 3px 1px rgba(0, 0, 0, 0.15);\n",
              "      filter: drop-shadow(0px 1px 2px rgba(0, 0, 0, 0.3));\n",
              "      fill: #FFFFFF;\n",
              "    }\n",
              "  </style>\n",
              "\n",
              "    <script>\n",
              "      const buttonEl =\n",
              "        document.querySelector('#df-0d362b33-a14d-439d-92ce-5185ba16a20f button.colab-df-convert');\n",
              "      buttonEl.style.display =\n",
              "        google.colab.kernel.accessAllowed ? 'block' : 'none';\n",
              "\n",
              "      async function convertToInteractive(key) {\n",
              "        const element = document.querySelector('#df-0d362b33-a14d-439d-92ce-5185ba16a20f');\n",
              "        const dataTable =\n",
              "          await google.colab.kernel.invokeFunction('convertToInteractive',\n",
              "                                                    [key], {});\n",
              "        if (!dataTable) return;\n",
              "\n",
              "        const docLinkHtml = 'Like what you see? Visit the ' +\n",
              "          '<a target=\"_blank\" href=https://colab.research.google.com/notebooks/data_table.ipynb>data table notebook</a>'\n",
              "          + ' to learn more about interactive tables.';\n",
              "        element.innerHTML = '';\n",
              "        dataTable['output_type'] = 'display_data';\n",
              "        await google.colab.output.renderOutput(dataTable, element);\n",
              "        const docLink = document.createElement('div');\n",
              "        docLink.innerHTML = docLinkHtml;\n",
              "        element.appendChild(docLink);\n",
              "      }\n",
              "    </script>\n",
              "  </div>\n",
              "\n",
              "\n",
              "<div id=\"df-cb3b0ddf-817d-4ed2-bce4-5d01e4330d09\">\n",
              "  <button class=\"colab-df-quickchart\" onclick=\"quickchart('df-cb3b0ddf-817d-4ed2-bce4-5d01e4330d09')\"\n",
              "            title=\"Suggest charts\"\n",
              "            style=\"display:none;\">\n",
              "\n",
              "<svg xmlns=\"http://www.w3.org/2000/svg\" height=\"24px\"viewBox=\"0 0 24 24\"\n",
              "     width=\"24px\">\n",
              "    <g>\n",
              "        <path d=\"M19 3H5c-1.1 0-2 .9-2 2v14c0 1.1.9 2 2 2h14c1.1 0 2-.9 2-2V5c0-1.1-.9-2-2-2zM9 17H7v-7h2v7zm4 0h-2V7h2v10zm4 0h-2v-4h2v4z\"/>\n",
              "    </g>\n",
              "</svg>\n",
              "  </button>\n",
              "\n",
              "<style>\n",
              "  .colab-df-quickchart {\n",
              "      --bg-color: #E8F0FE;\n",
              "      --fill-color: #1967D2;\n",
              "      --hover-bg-color: #E2EBFA;\n",
              "      --hover-fill-color: #174EA6;\n",
              "      --disabled-fill-color: #AAA;\n",
              "      --disabled-bg-color: #DDD;\n",
              "  }\n",
              "\n",
              "  [theme=dark] .colab-df-quickchart {\n",
              "      --bg-color: #3B4455;\n",
              "      --fill-color: #D2E3FC;\n",
              "      --hover-bg-color: #434B5C;\n",
              "      --hover-fill-color: #FFFFFF;\n",
              "      --disabled-bg-color: #3B4455;\n",
              "      --disabled-fill-color: #666;\n",
              "  }\n",
              "\n",
              "  .colab-df-quickchart {\n",
              "    background-color: var(--bg-color);\n",
              "    border: none;\n",
              "    border-radius: 50%;\n",
              "    cursor: pointer;\n",
              "    display: none;\n",
              "    fill: var(--fill-color);\n",
              "    height: 32px;\n",
              "    padding: 0;\n",
              "    width: 32px;\n",
              "  }\n",
              "\n",
              "  .colab-df-quickchart:hover {\n",
              "    background-color: var(--hover-bg-color);\n",
              "    box-shadow: 0 1px 2px rgba(60, 64, 67, 0.3), 0 1px 3px 1px rgba(60, 64, 67, 0.15);\n",
              "    fill: var(--button-hover-fill-color);\n",
              "  }\n",
              "\n",
              "  .colab-df-quickchart-complete:disabled,\n",
              "  .colab-df-quickchart-complete:disabled:hover {\n",
              "    background-color: var(--disabled-bg-color);\n",
              "    fill: var(--disabled-fill-color);\n",
              "    box-shadow: none;\n",
              "  }\n",
              "\n",
              "  .colab-df-spinner {\n",
              "    border: 2px solid var(--fill-color);\n",
              "    border-color: transparent;\n",
              "    border-bottom-color: var(--fill-color);\n",
              "    animation:\n",
              "      spin 1s steps(1) infinite;\n",
              "  }\n",
              "\n",
              "  @keyframes spin {\n",
              "    0% {\n",
              "      border-color: transparent;\n",
              "      border-bottom-color: var(--fill-color);\n",
              "      border-left-color: var(--fill-color);\n",
              "    }\n",
              "    20% {\n",
              "      border-color: transparent;\n",
              "      border-left-color: var(--fill-color);\n",
              "      border-top-color: var(--fill-color);\n",
              "    }\n",
              "    30% {\n",
              "      border-color: transparent;\n",
              "      border-left-color: var(--fill-color);\n",
              "      border-top-color: var(--fill-color);\n",
              "      border-right-color: var(--fill-color);\n",
              "    }\n",
              "    40% {\n",
              "      border-color: transparent;\n",
              "      border-right-color: var(--fill-color);\n",
              "      border-top-color: var(--fill-color);\n",
              "    }\n",
              "    60% {\n",
              "      border-color: transparent;\n",
              "      border-right-color: var(--fill-color);\n",
              "    }\n",
              "    80% {\n",
              "      border-color: transparent;\n",
              "      border-right-color: var(--fill-color);\n",
              "      border-bottom-color: var(--fill-color);\n",
              "    }\n",
              "    90% {\n",
              "      border-color: transparent;\n",
              "      border-bottom-color: var(--fill-color);\n",
              "    }\n",
              "  }\n",
              "</style>\n",
              "\n",
              "  <script>\n",
              "    async function quickchart(key) {\n",
              "      const quickchartButtonEl =\n",
              "        document.querySelector('#' + key + ' button');\n",
              "      quickchartButtonEl.disabled = true;  // To prevent multiple clicks.\n",
              "      quickchartButtonEl.classList.add('colab-df-spinner');\n",
              "      try {\n",
              "        const charts = await google.colab.kernel.invokeFunction(\n",
              "            'suggestCharts', [key], {});\n",
              "      } catch (error) {\n",
              "        console.error('Error during call to suggestCharts:', error);\n",
              "      }\n",
              "      quickchartButtonEl.classList.remove('colab-df-spinner');\n",
              "      quickchartButtonEl.classList.add('colab-df-quickchart-complete');\n",
              "    }\n",
              "    (() => {\n",
              "      let quickchartButtonEl =\n",
              "        document.querySelector('#df-cb3b0ddf-817d-4ed2-bce4-5d01e4330d09 button');\n",
              "      quickchartButtonEl.style.display =\n",
              "        google.colab.kernel.accessAllowed ? 'block' : 'none';\n",
              "    })();\n",
              "  </script>\n",
              "</div>\n",
              "\n",
              "    </div>\n",
              "  </div>\n"
            ]
          },
          "metadata": {},
          "execution_count": 22
        }
      ]
    },
    {
      "cell_type": "code",
      "source": [
        "Xtrain_wv.drop(columns=['FullDescription', 'vectors'], inplace=True)\n",
        "Xtest_wv.drop(columns=['FullDescription', 'vectors'], inplace=True)"
      ],
      "metadata": {
        "id": "QqRm5L_9ZHmm"
      },
      "execution_count": 23,
      "outputs": []
    },
    {
      "cell_type": "markdown",
      "metadata": {
        "id": "pKV34B9pdVO9"
      },
      "source": [
        "## Задание 6\n",
        "\n",
        "Обучите Ridge-регрессию с гиперпараметрами по умолчанию на полученных тренировочных данных.\n",
        "\n",
        "Затем сделайте прогноз на тесте и выведите значение метрики $R^2$ на тесте. Ответ округлите до сотых."
      ]
    },
    {
      "cell_type": "code",
      "source": [
        "Xtrain_wv.shape, ytrain.shape"
      ],
      "metadata": {
        "colab": {
          "base_uri": "https://localhost:8080/"
        },
        "id": "4hZt-jGKaWMo",
        "outputId": "414549c0-9c9c-4622-f439-c68ae4f54e4d"
      },
      "execution_count": 95,
      "outputs": [
        {
          "output_type": "execute_result",
          "data": {
            "text/plain": [
              "((80000, 100), (80000,))"
            ]
          },
          "metadata": {},
          "execution_count": 95
        }
      ]
    },
    {
      "cell_type": "code",
      "execution_count": 24,
      "metadata": {
        "id": "JpB2rkOGdf9j"
      },
      "outputs": [],
      "source": [
        "ridge_vw = Ridge().fit(Xtrain_wv, ytrain)"
      ]
    },
    {
      "cell_type": "code",
      "source": [
        "print(\"train R^2:\", r2_score(ytrain, ridge_vw.predict(Xtrain_wv)))\n",
        "print(\"test R^2:\", r2_score(ytest, ridge_vw.predict(Xtest_wv)))"
      ],
      "metadata": {
        "colab": {
          "base_uri": "https://localhost:8080/"
        },
        "id": "N9fEwR9ScObs",
        "outputId": "ae46353d-4772-4f21-fa43-650144bb60ab"
      },
      "execution_count": 25,
      "outputs": [
        {
          "output_type": "stream",
          "name": "stdout",
          "text": [
            "train R^2: 0.4752826371027783\n",
            "test R^2: 0.4682941969406964\n"
          ]
        }
      ]
    },
    {
      "cell_type": "markdown",
      "metadata": {
        "id": "q01yv0RUJvTK"
      },
      "source": [
        "## Предобученные модели\n",
        "\n",
        "Попробуем повторить эксперимент с предобученными моделями из [ноутука](https://colab.research.google.com/drive/1MM2atgNv7PDaab1qDLEPux7aUFYbxjEE?usp=sharing)."
      ]
    },
    {
      "cell_type": "markdown",
      "metadata": {
        "id": "F_HEJcpQdzwV"
      },
      "source": [
        "Загрузите модель `glove-twitter-25`."
      ]
    },
    {
      "cell_type": "code",
      "execution_count": 26,
      "metadata": {
        "id": "MM4ydR2lJljB",
        "colab": {
          "base_uri": "https://localhost:8080/"
        },
        "outputId": "3eadf343-bb7c-48ae-e882-aed8c8d1c861"
      },
      "outputs": [
        {
          "output_type": "stream",
          "name": "stdout",
          "text": [
            "[==================================================] 100.0% 104.8/104.8MB downloaded\n"
          ]
        }
      ],
      "source": [
        "import gensim.downloader\n",
        "\n",
        "glove_vectors = gensim.downloader.load('glove-twitter-25')"
      ]
    },
    {
      "cell_type": "markdown",
      "metadata": {
        "id": "kwGMW3sed7z4"
      },
      "source": [
        "Cкопируем из референсного ноутбука и немного модифицируем функцию для вычисления среднего вектора вакансии при помощи glove."
      ]
    },
    {
      "cell_type": "code",
      "execution_count": 27,
      "metadata": {
        "id": "yN0FbAfUJljB"
      },
      "outputs": [],
      "source": [
        "def get_mean_glove_vector(sentence):\n",
        "    Sum = 0\n",
        "    Count = 0\n",
        "\n",
        "    try:\n",
        "      words = sentence.split()\n",
        "    except TypeError:\n",
        "      words = []\n",
        "\n",
        "    for w in words:\n",
        "        if w in glove_vectors:\n",
        "            Sum += glove_vectors[w]\n",
        "            Count += 1\n",
        "\n",
        "    if Count > 0:\n",
        "        return Sum / Count\n",
        "    return 0"
      ]
    },
    {
      "cell_type": "markdown",
      "metadata": {
        "id": "d_UoHos6eDX9"
      },
      "source": [
        "Создайте признаки, являющиеся координатами glove-векторов вакансий. Действуйте по аналогии с тем, как вы действовали в предыдущем пункте (с моделью word2vec)."
      ]
    },
    {
      "cell_type": "code",
      "execution_count": 28,
      "metadata": {
        "id": "NJm9IQKgJljC"
      },
      "outputs": [],
      "source": [
        "Xtrain_gl = Xtrain.copy()\n",
        "Xtest_gl = Xtest.copy()\n",
        "\n",
        "Xtrain_gl['vectors'] = Xtrain_gl['FullDescription'].map(get_mean_glove_vector)\n",
        "Xtest_gl['vectors'] = Xtest_gl['FullDescription'].map(get_mean_glove_vector)"
      ]
    },
    {
      "cell_type": "markdown",
      "source": [
        "Удалим строки, для которых векторы не посчитались (все слова оказались неизвестными)."
      ],
      "metadata": {
        "id": "Ysor7uDf1oZr"
      }
    },
    {
      "cell_type": "code",
      "source": [
        "IdxTrain = []\n",
        "\n",
        "for ix, row in Xtrain_gl.iterrows():\n",
        "    if not isinstance(row['vectors'],np.ndarray):\n",
        "        IdxTrain.append(ix)\n",
        "\n",
        "IdxTest = []\n",
        "\n",
        "for ix, row in Xtest_gl.iterrows():\n",
        "    if not isinstance(row['vectors'],np.ndarray):\n",
        "        IdxTest.append(ix)"
      ],
      "metadata": {
        "id": "jQgsDQ7PgFqr"
      },
      "execution_count": 29,
      "outputs": []
    },
    {
      "cell_type": "code",
      "source": [
        "len(IdxTrain), len(IdxTest)"
      ],
      "metadata": {
        "colab": {
          "base_uri": "https://localhost:8080/"
        },
        "id": "3Ngmb2qd8ezv",
        "outputId": "c3afd334-7a3f-4175-d9d0-849efb3a6ca8"
      },
      "execution_count": 40,
      "outputs": [
        {
          "output_type": "execute_result",
          "data": {
            "text/plain": [
              "(28, 9)"
            ]
          },
          "metadata": {},
          "execution_count": 40
        }
      ]
    },
    {
      "cell_type": "code",
      "source": [
        "NewCols = ['col'+str(i) for i in range(25)]"
      ],
      "metadata": {
        "id": "mKx22w0nAjow"
      },
      "execution_count": 42,
      "outputs": []
    },
    {
      "cell_type": "code",
      "source": [
        "Xtrain_gl.drop(index=IdxTrain, inplace=True)\n",
        "Xtest_gl.drop(index=IdxTest, inplace=True)\n",
        "\n",
        "ytrain_gl = ytrain.drop(index=IdxTrain)\n",
        "ytest_gl = ytest.drop(index=IdxTest)"
      ],
      "metadata": {
        "id": "hPMRkIHNhHql"
      },
      "execution_count": 34,
      "outputs": []
    },
    {
      "cell_type": "code",
      "execution_count": 43,
      "metadata": {
        "id": "klJ54hdaJljC"
      },
      "outputs": [],
      "source": [
        "Xtrain_gl[NewCols] = pd.DataFrame(Xtrain_gl['vectors'].tolist(), index=Xtrain_gl.index)\n",
        "Xtest_gl[NewCols] = pd.DataFrame(Xtest_gl['vectors'].tolist(), index= Xtest_gl.index)"
      ]
    },
    {
      "cell_type": "code",
      "execution_count": 44,
      "metadata": {
        "id": "1kSuZGe8JljC"
      },
      "outputs": [],
      "source": [
        "Xtrain_gl.drop(['FullDescription','vectors'], axis=1, inplace=True)\n",
        "Xtest_gl.drop(['FullDescription','vectors'], axis=1, inplace=True)"
      ]
    },
    {
      "cell_type": "markdown",
      "metadata": {
        "id": "OEmLgTO6eaKh"
      },
      "source": [
        "## Задание 7\n",
        "\n",
        "Обучите ridge-регрессию с гиперпараметрами по умолчанию на тренировочных данных.\n",
        "\n",
        "Выведите на экран значение $R^2$ на тесте, округленное до сотых."
      ]
    },
    {
      "cell_type": "code",
      "execution_count": 45,
      "metadata": {
        "id": "CLOyyDdUJljC",
        "colab": {
          "base_uri": "https://localhost:8080/",
          "height": 75
        },
        "outputId": "1eca4d15-ade3-4041-e3b2-cb0d36d5b55b"
      },
      "outputs": [
        {
          "output_type": "execute_result",
          "data": {
            "text/plain": [
              "Ridge()"
            ],
            "text/html": [
              "<style>#sk-container-id-1 {color: black;background-color: white;}#sk-container-id-1 pre{padding: 0;}#sk-container-id-1 div.sk-toggleable {background-color: white;}#sk-container-id-1 label.sk-toggleable__label {cursor: pointer;display: block;width: 100%;margin-bottom: 0;padding: 0.3em;box-sizing: border-box;text-align: center;}#sk-container-id-1 label.sk-toggleable__label-arrow:before {content: \"▸\";float: left;margin-right: 0.25em;color: #696969;}#sk-container-id-1 label.sk-toggleable__label-arrow:hover:before {color: black;}#sk-container-id-1 div.sk-estimator:hover label.sk-toggleable__label-arrow:before {color: black;}#sk-container-id-1 div.sk-toggleable__content {max-height: 0;max-width: 0;overflow: hidden;text-align: left;background-color: #f0f8ff;}#sk-container-id-1 div.sk-toggleable__content pre {margin: 0.2em;color: black;border-radius: 0.25em;background-color: #f0f8ff;}#sk-container-id-1 input.sk-toggleable__control:checked~div.sk-toggleable__content {max-height: 200px;max-width: 100%;overflow: auto;}#sk-container-id-1 input.sk-toggleable__control:checked~label.sk-toggleable__label-arrow:before {content: \"▾\";}#sk-container-id-1 div.sk-estimator input.sk-toggleable__control:checked~label.sk-toggleable__label {background-color: #d4ebff;}#sk-container-id-1 div.sk-label input.sk-toggleable__control:checked~label.sk-toggleable__label {background-color: #d4ebff;}#sk-container-id-1 input.sk-hidden--visually {border: 0;clip: rect(1px 1px 1px 1px);clip: rect(1px, 1px, 1px, 1px);height: 1px;margin: -1px;overflow: hidden;padding: 0;position: absolute;width: 1px;}#sk-container-id-1 div.sk-estimator {font-family: monospace;background-color: #f0f8ff;border: 1px dotted black;border-radius: 0.25em;box-sizing: border-box;margin-bottom: 0.5em;}#sk-container-id-1 div.sk-estimator:hover {background-color: #d4ebff;}#sk-container-id-1 div.sk-parallel-item::after {content: \"\";width: 100%;border-bottom: 1px solid gray;flex-grow: 1;}#sk-container-id-1 div.sk-label:hover label.sk-toggleable__label {background-color: #d4ebff;}#sk-container-id-1 div.sk-serial::before {content: \"\";position: absolute;border-left: 1px solid gray;box-sizing: border-box;top: 0;bottom: 0;left: 50%;z-index: 0;}#sk-container-id-1 div.sk-serial {display: flex;flex-direction: column;align-items: center;background-color: white;padding-right: 0.2em;padding-left: 0.2em;position: relative;}#sk-container-id-1 div.sk-item {position: relative;z-index: 1;}#sk-container-id-1 div.sk-parallel {display: flex;align-items: stretch;justify-content: center;background-color: white;position: relative;}#sk-container-id-1 div.sk-item::before, #sk-container-id-1 div.sk-parallel-item::before {content: \"\";position: absolute;border-left: 1px solid gray;box-sizing: border-box;top: 0;bottom: 0;left: 50%;z-index: -1;}#sk-container-id-1 div.sk-parallel-item {display: flex;flex-direction: column;z-index: 1;position: relative;background-color: white;}#sk-container-id-1 div.sk-parallel-item:first-child::after {align-self: flex-end;width: 50%;}#sk-container-id-1 div.sk-parallel-item:last-child::after {align-self: flex-start;width: 50%;}#sk-container-id-1 div.sk-parallel-item:only-child::after {width: 0;}#sk-container-id-1 div.sk-dashed-wrapped {border: 1px dashed gray;margin: 0 0.4em 0.5em 0.4em;box-sizing: border-box;padding-bottom: 0.4em;background-color: white;}#sk-container-id-1 div.sk-label label {font-family: monospace;font-weight: bold;display: inline-block;line-height: 1.2em;}#sk-container-id-1 div.sk-label-container {text-align: center;}#sk-container-id-1 div.sk-container {/* jupyter's `normalize.less` sets `[hidden] { display: none; }` but bootstrap.min.css set `[hidden] { display: none !important; }` so we also need the `!important` here to be able to override the default hidden behavior on the sphinx rendered scikit-learn.org. See: https://github.com/scikit-learn/scikit-learn/issues/21755 */display: inline-block !important;position: relative;}#sk-container-id-1 div.sk-text-repr-fallback {display: none;}</style><div id=\"sk-container-id-1\" class=\"sk-top-container\"><div class=\"sk-text-repr-fallback\"><pre>Ridge()</pre><b>In a Jupyter environment, please rerun this cell to show the HTML representation or trust the notebook. <br />On GitHub, the HTML representation is unable to render, please try loading this page with nbviewer.org.</b></div><div class=\"sk-container\" hidden><div class=\"sk-item\"><div class=\"sk-estimator sk-toggleable\"><input class=\"sk-toggleable__control sk-hidden--visually\" id=\"sk-estimator-id-1\" type=\"checkbox\" checked><label for=\"sk-estimator-id-1\" class=\"sk-toggleable__label sk-toggleable__label-arrow\">Ridge</label><div class=\"sk-toggleable__content\"><pre>Ridge()</pre></div></div></div></div></div>"
            ]
          },
          "metadata": {},
          "execution_count": 45
        }
      ],
      "source": [
        "clf = Ridge()\n",
        "clf.fit(Xtrain_gl, ytrain_gl)"
      ]
    },
    {
      "cell_type": "code",
      "source": [
        "print(\"train R^2:\", r2_score(ytrain_gl, clf.predict(Xtrain_gl)))\n",
        "print(\"test R^2:\", r2_score(ytest_gl, clf.predict(Xtest_gl)))"
      ],
      "metadata": {
        "colab": {
          "base_uri": "https://localhost:8080/"
        },
        "id": "F4fPQskhA11Z",
        "outputId": "7667bb02-8ce6-44ba-eb50-ebbae36bd94d"
      },
      "execution_count": 46,
      "outputs": [
        {
          "output_type": "stream",
          "name": "stdout",
          "text": [
            "train R^2: 0.2161530983838824\n",
            "test R^2: 0.22116550114045108\n"
          ]
        }
      ]
    },
    {
      "cell_type": "markdown",
      "source": [
        "## Новые подходы\n",
        "\n",
        "Теперь попробуем обучить fasttext на наших данных.\n",
        "\n",
        "Гиперпараметры модели:\n",
        "* `vector_size` - размер итогового вектора (по умолчанию 100)\n",
        "* `window` - размер контекстного окна\n",
        "* `min_count` - игнорируем слова, появляющиеся реже, чем min_count раз"
      ],
      "metadata": {
        "id": "fQEIsa0i66qy"
      }
    },
    {
      "cell_type": "markdown",
      "source": [
        "По аналогии с word2vec (с тем же синтаксисом) обучите FastText с гиперпараметрами `vector_size=4, window=3, min_count=1`.\n",
        "\n",
        "Обучайте модель 3 эпохи."
      ],
      "metadata": {
        "id": "OS_7qi9f75JV"
      }
    },
    {
      "cell_type": "code",
      "execution_count": 47,
      "metadata": {
        "id": "OtBxWQbwewoG",
        "colab": {
          "base_uri": "https://localhost:8080/"
        },
        "outputId": "e2007f96-6081-4422-8296-5fd548d43da2"
      },
      "outputs": [
        {
          "output_type": "execute_result",
          "data": {
            "text/plain": [
              "(47126986, 58825338)"
            ]
          },
          "metadata": {},
          "execution_count": 47
        }
      ],
      "source": [
        "from gensim.models import FastText\n",
        "\n",
        "model = FastText(vector_size=4, window=3, min_count=1)\n",
        "\n",
        "model.build_vocab(sent, progress_per=10000)\n",
        "model.train(sent, total_examples=model.corpus_count, epochs=3, report_delay=1)"
      ]
    },
    {
      "cell_type": "code",
      "source": [
        "model.wv['привет']"
      ],
      "metadata": {
        "colab": {
          "base_uri": "https://localhost:8080/"
        },
        "id": "RV7ABKRSFN9o",
        "outputId": "6b3fcebe-6468-46ad-fe96-9f0b19051710"
      },
      "execution_count": 50,
      "outputs": [
        {
          "output_type": "execute_result",
          "data": {
            "text/plain": [
              "array([ 0.09133936,  0.0260705 , -0.06672692,  0.18288428], dtype=float32)"
            ]
          },
          "metadata": {},
          "execution_count": 50
        }
      ]
    },
    {
      "cell_type": "markdown",
      "source": [
        "## Задание 8\n",
        "\n",
        "Повторите действия далее по аналогии с пунктом про word2vec.\n",
        "\n",
        "Обучайте ridge-регрессию с гиперпараметрами по умолчанию.\n",
        "\n",
        "Нас интересует $R^2$ на тесте, округленный до сотых."
      ],
      "metadata": {
        "id": "d21v9m6k8pBs"
      }
    },
    {
      "cell_type": "code",
      "source": [
        "NewCols = ['col'+str(i) for i in range(4)]\n",
        "\n",
        "Xtrain_ft = Xtrain.copy()\n",
        "Xtest_ft = Xtest.copy()\n",
        "\n",
        "Xtrain_ft['vectors'] = Xtrain_ft['FullDescription'].map(get_mean_w2v_vector)\n",
        "Xtest_ft['vectors'] = Xtest_ft['FullDescription'].map(get_mean_w2v_vector)"
      ],
      "metadata": {
        "id": "xkT1DclsGu8f"
      },
      "execution_count": 51,
      "outputs": []
    },
    {
      "cell_type": "code",
      "source": [
        "Xtrain_ft[NewCols] = pd.DataFrame(Xtrain_ft['vectors'].tolist(), index= Xtrain_ft.index)\n",
        "Xtest_ft[NewCols] = pd.DataFrame(Xtest_ft['vectors'].tolist(), index= Xtest_ft.index)"
      ],
      "metadata": {
        "id": "ZbMh3ETWHBFN"
      },
      "execution_count": 52,
      "outputs": []
    },
    {
      "cell_type": "code",
      "source": [
        "Xtrain_ft.drop(columns=['FullDescription', 'vectors'], inplace=True)\n",
        "Xtest_ft.drop(columns=['FullDescription', 'vectors'], inplace=True)"
      ],
      "metadata": {
        "id": "cM9KGa5cHhr7"
      },
      "execution_count": 54,
      "outputs": []
    },
    {
      "cell_type": "code",
      "source": [
        "ridge_ft = Ridge().fit(Xtrain_ft, ytrain)"
      ],
      "metadata": {
        "id": "3nwXjwg9HxMU"
      },
      "execution_count": 55,
      "outputs": []
    },
    {
      "cell_type": "code",
      "source": [
        "print(\"train R^2:\", r2_score(ytrain, ridge_ft.predict(Xtrain_ft)))\n",
        "print(\"test R^2:\", r2_score(ytest, ridge_ft.predict(Xtest_ft)))"
      ],
      "metadata": {
        "id": "KFRThahZ80TP",
        "colab": {
          "base_uri": "https://localhost:8080/"
        },
        "outputId": "2a1fb712-a54f-4d8a-b2ce-289baf0d83fb"
      },
      "execution_count": 56,
      "outputs": [
        {
          "output_type": "stream",
          "name": "stdout",
          "text": [
            "train R^2: 0.12907526771321154\n",
            "test R^2: 0.12553536324118464\n"
          ]
        }
      ]
    },
    {
      "cell_type": "markdown",
      "source": [
        "## \"Стекинг\"\n",
        "\n",
        "Сконкатенируйте tfidf-признаки с word2vec-признаками (сконкатенируйте соответствующие матрицы).\n",
        "Отдельно конкатенируйте трейн и отдельно тест."
      ],
      "metadata": {
        "id": "we0uYvHVi3x6"
      }
    },
    {
      "cell_type": "code",
      "source": [
        "Xtrain_lr = pd.DataFrame.sparse.from_spmatrix(X_train)\n",
        "Xtest_lr = pd.DataFrame.sparse.from_spmatrix(X_test)\n",
        "\n",
        "Xtrain_lr.shape"
      ],
      "metadata": {
        "id": "wXbNHxRqlWwQ",
        "colab": {
          "base_uri": "https://localhost:8080/"
        },
        "outputId": "6c6d2423-2499-47e6-be41-b4dbe0cec4f4"
      },
      "execution_count": 57,
      "outputs": [
        {
          "output_type": "execute_result",
          "data": {
            "text/plain": [
              "(80000, 1000)"
            ]
          },
          "metadata": {},
          "execution_count": 57
        }
      ]
    },
    {
      "cell_type": "code",
      "source": [
        "Xtrain_lr.head()"
      ],
      "metadata": {
        "colab": {
          "base_uri": "https://localhost:8080/",
          "height": 236
        },
        "id": "ZmzZPK2JLuVH",
        "outputId": "82945af4-5435-4d77-89b0-a9a181aff763"
      },
      "execution_count": 72,
      "outputs": [
        {
          "output_type": "execute_result",
          "data": {
            "text/plain": [
              "   0    1    2    3    4         5         6    7    8    9    ...       990  \\\n",
              "0  0.0  0.0  0.0  0.0  0.0  0.082905  0.000000  0.0  0.0  0.0  ...  0.000000   \n",
              "1  0.0  0.0  0.0  0.0  0.0  0.000000  0.000000  0.0  0.0  0.0  ...  0.000000   \n",
              "2  0.0  0.0  0.0  0.0  0.0  0.041899  0.000000  0.0  0.0  0.0  ...  0.078241   \n",
              "3  0.0  0.0  0.0  0.0  0.0  0.057189  0.000000  0.0  0.0  0.0  ...  0.106793   \n",
              "4  0.0  0.0  0.0  0.0  0.0  0.000000  0.064625  0.0  0.0  0.0  ...  0.000000   \n",
              "\n",
              "        991  992  993  994       995       996       997  998  999  \n",
              "0  0.063479  0.0  0.0  0.0  0.038358  0.000000  0.000000  0.0  0.0  \n",
              "1  0.000000  0.0  0.0  0.0  0.065964  0.000000  0.161494  0.0  0.0  \n",
              "2  0.000000  0.0  0.0  0.0  0.000000  0.060532  0.000000  0.0  0.0  \n",
              "3  0.000000  0.0  0.0  0.0  0.000000  0.000000  0.000000  0.0  0.0  \n",
              "4  0.000000  0.0  0.0  0.0  0.058338  0.000000  0.000000  0.0  0.0  \n",
              "\n",
              "[5 rows x 1000 columns]"
            ],
            "text/html": [
              "\n",
              "  <div id=\"df-362a1e0c-b8bb-4cd4-92da-5f115931fa40\" class=\"colab-df-container\">\n",
              "    <div>\n",
              "<style scoped>\n",
              "    .dataframe tbody tr th:only-of-type {\n",
              "        vertical-align: middle;\n",
              "    }\n",
              "\n",
              "    .dataframe tbody tr th {\n",
              "        vertical-align: top;\n",
              "    }\n",
              "\n",
              "    .dataframe thead th {\n",
              "        text-align: right;\n",
              "    }\n",
              "</style>\n",
              "<table border=\"1\" class=\"dataframe\">\n",
              "  <thead>\n",
              "    <tr style=\"text-align: right;\">\n",
              "      <th></th>\n",
              "      <th>0</th>\n",
              "      <th>1</th>\n",
              "      <th>2</th>\n",
              "      <th>3</th>\n",
              "      <th>4</th>\n",
              "      <th>5</th>\n",
              "      <th>6</th>\n",
              "      <th>7</th>\n",
              "      <th>8</th>\n",
              "      <th>9</th>\n",
              "      <th>...</th>\n",
              "      <th>990</th>\n",
              "      <th>991</th>\n",
              "      <th>992</th>\n",
              "      <th>993</th>\n",
              "      <th>994</th>\n",
              "      <th>995</th>\n",
              "      <th>996</th>\n",
              "      <th>997</th>\n",
              "      <th>998</th>\n",
              "      <th>999</th>\n",
              "    </tr>\n",
              "  </thead>\n",
              "  <tbody>\n",
              "    <tr>\n",
              "      <th>0</th>\n",
              "      <td>0.0</td>\n",
              "      <td>0.0</td>\n",
              "      <td>0.0</td>\n",
              "      <td>0.0</td>\n",
              "      <td>0.0</td>\n",
              "      <td>0.082905</td>\n",
              "      <td>0.000000</td>\n",
              "      <td>0.0</td>\n",
              "      <td>0.0</td>\n",
              "      <td>0.0</td>\n",
              "      <td>...</td>\n",
              "      <td>0.000000</td>\n",
              "      <td>0.063479</td>\n",
              "      <td>0.0</td>\n",
              "      <td>0.0</td>\n",
              "      <td>0.0</td>\n",
              "      <td>0.038358</td>\n",
              "      <td>0.000000</td>\n",
              "      <td>0.000000</td>\n",
              "      <td>0.0</td>\n",
              "      <td>0.0</td>\n",
              "    </tr>\n",
              "    <tr>\n",
              "      <th>1</th>\n",
              "      <td>0.0</td>\n",
              "      <td>0.0</td>\n",
              "      <td>0.0</td>\n",
              "      <td>0.0</td>\n",
              "      <td>0.0</td>\n",
              "      <td>0.000000</td>\n",
              "      <td>0.000000</td>\n",
              "      <td>0.0</td>\n",
              "      <td>0.0</td>\n",
              "      <td>0.0</td>\n",
              "      <td>...</td>\n",
              "      <td>0.000000</td>\n",
              "      <td>0.000000</td>\n",
              "      <td>0.0</td>\n",
              "      <td>0.0</td>\n",
              "      <td>0.0</td>\n",
              "      <td>0.065964</td>\n",
              "      <td>0.000000</td>\n",
              "      <td>0.161494</td>\n",
              "      <td>0.0</td>\n",
              "      <td>0.0</td>\n",
              "    </tr>\n",
              "    <tr>\n",
              "      <th>2</th>\n",
              "      <td>0.0</td>\n",
              "      <td>0.0</td>\n",
              "      <td>0.0</td>\n",
              "      <td>0.0</td>\n",
              "      <td>0.0</td>\n",
              "      <td>0.041899</td>\n",
              "      <td>0.000000</td>\n",
              "      <td>0.0</td>\n",
              "      <td>0.0</td>\n",
              "      <td>0.0</td>\n",
              "      <td>...</td>\n",
              "      <td>0.078241</td>\n",
              "      <td>0.000000</td>\n",
              "      <td>0.0</td>\n",
              "      <td>0.0</td>\n",
              "      <td>0.0</td>\n",
              "      <td>0.000000</td>\n",
              "      <td>0.060532</td>\n",
              "      <td>0.000000</td>\n",
              "      <td>0.0</td>\n",
              "      <td>0.0</td>\n",
              "    </tr>\n",
              "    <tr>\n",
              "      <th>3</th>\n",
              "      <td>0.0</td>\n",
              "      <td>0.0</td>\n",
              "      <td>0.0</td>\n",
              "      <td>0.0</td>\n",
              "      <td>0.0</td>\n",
              "      <td>0.057189</td>\n",
              "      <td>0.000000</td>\n",
              "      <td>0.0</td>\n",
              "      <td>0.0</td>\n",
              "      <td>0.0</td>\n",
              "      <td>...</td>\n",
              "      <td>0.106793</td>\n",
              "      <td>0.000000</td>\n",
              "      <td>0.0</td>\n",
              "      <td>0.0</td>\n",
              "      <td>0.0</td>\n",
              "      <td>0.000000</td>\n",
              "      <td>0.000000</td>\n",
              "      <td>0.000000</td>\n",
              "      <td>0.0</td>\n",
              "      <td>0.0</td>\n",
              "    </tr>\n",
              "    <tr>\n",
              "      <th>4</th>\n",
              "      <td>0.0</td>\n",
              "      <td>0.0</td>\n",
              "      <td>0.0</td>\n",
              "      <td>0.0</td>\n",
              "      <td>0.0</td>\n",
              "      <td>0.000000</td>\n",
              "      <td>0.064625</td>\n",
              "      <td>0.0</td>\n",
              "      <td>0.0</td>\n",
              "      <td>0.0</td>\n",
              "      <td>...</td>\n",
              "      <td>0.000000</td>\n",
              "      <td>0.000000</td>\n",
              "      <td>0.0</td>\n",
              "      <td>0.0</td>\n",
              "      <td>0.0</td>\n",
              "      <td>0.058338</td>\n",
              "      <td>0.000000</td>\n",
              "      <td>0.000000</td>\n",
              "      <td>0.0</td>\n",
              "      <td>0.0</td>\n",
              "    </tr>\n",
              "  </tbody>\n",
              "</table>\n",
              "<p>5 rows × 1000 columns</p>\n",
              "</div>\n",
              "    <div class=\"colab-df-buttons\">\n",
              "\n",
              "  <div class=\"colab-df-container\">\n",
              "    <button class=\"colab-df-convert\" onclick=\"convertToInteractive('df-362a1e0c-b8bb-4cd4-92da-5f115931fa40')\"\n",
              "            title=\"Convert this dataframe to an interactive table.\"\n",
              "            style=\"display:none;\">\n",
              "\n",
              "  <svg xmlns=\"http://www.w3.org/2000/svg\" height=\"24px\" viewBox=\"0 -960 960 960\">\n",
              "    <path d=\"M120-120v-720h720v720H120Zm60-500h600v-160H180v160Zm220 220h160v-160H400v160Zm0 220h160v-160H400v160ZM180-400h160v-160H180v160Zm440 0h160v-160H620v160ZM180-180h160v-160H180v160Zm440 0h160v-160H620v160Z\"/>\n",
              "  </svg>\n",
              "    </button>\n",
              "\n",
              "  <style>\n",
              "    .colab-df-container {\n",
              "      display:flex;\n",
              "      gap: 12px;\n",
              "    }\n",
              "\n",
              "    .colab-df-convert {\n",
              "      background-color: #E8F0FE;\n",
              "      border: none;\n",
              "      border-radius: 50%;\n",
              "      cursor: pointer;\n",
              "      display: none;\n",
              "      fill: #1967D2;\n",
              "      height: 32px;\n",
              "      padding: 0 0 0 0;\n",
              "      width: 32px;\n",
              "    }\n",
              "\n",
              "    .colab-df-convert:hover {\n",
              "      background-color: #E2EBFA;\n",
              "      box-shadow: 0px 1px 2px rgba(60, 64, 67, 0.3), 0px 1px 3px 1px rgba(60, 64, 67, 0.15);\n",
              "      fill: #174EA6;\n",
              "    }\n",
              "\n",
              "    .colab-df-buttons div {\n",
              "      margin-bottom: 4px;\n",
              "    }\n",
              "\n",
              "    [theme=dark] .colab-df-convert {\n",
              "      background-color: #3B4455;\n",
              "      fill: #D2E3FC;\n",
              "    }\n",
              "\n",
              "    [theme=dark] .colab-df-convert:hover {\n",
              "      background-color: #434B5C;\n",
              "      box-shadow: 0px 1px 3px 1px rgba(0, 0, 0, 0.15);\n",
              "      filter: drop-shadow(0px 1px 2px rgba(0, 0, 0, 0.3));\n",
              "      fill: #FFFFFF;\n",
              "    }\n",
              "  </style>\n",
              "\n",
              "    <script>\n",
              "      const buttonEl =\n",
              "        document.querySelector('#df-362a1e0c-b8bb-4cd4-92da-5f115931fa40 button.colab-df-convert');\n",
              "      buttonEl.style.display =\n",
              "        google.colab.kernel.accessAllowed ? 'block' : 'none';\n",
              "\n",
              "      async function convertToInteractive(key) {\n",
              "        const element = document.querySelector('#df-362a1e0c-b8bb-4cd4-92da-5f115931fa40');\n",
              "        const dataTable =\n",
              "          await google.colab.kernel.invokeFunction('convertToInteractive',\n",
              "                                                    [key], {});\n",
              "        if (!dataTable) return;\n",
              "\n",
              "        const docLinkHtml = 'Like what you see? Visit the ' +\n",
              "          '<a target=\"_blank\" href=https://colab.research.google.com/notebooks/data_table.ipynb>data table notebook</a>'\n",
              "          + ' to learn more about interactive tables.';\n",
              "        element.innerHTML = '';\n",
              "        dataTable['output_type'] = 'display_data';\n",
              "        await google.colab.output.renderOutput(dataTable, element);\n",
              "        const docLink = document.createElement('div');\n",
              "        docLink.innerHTML = docLinkHtml;\n",
              "        element.appendChild(docLink);\n",
              "      }\n",
              "    </script>\n",
              "  </div>\n",
              "\n",
              "\n",
              "<div id=\"df-7c594ad4-5614-467d-8011-6c5ba4c76836\">\n",
              "  <button class=\"colab-df-quickchart\" onclick=\"quickchart('df-7c594ad4-5614-467d-8011-6c5ba4c76836')\"\n",
              "            title=\"Suggest charts\"\n",
              "            style=\"display:none;\">\n",
              "\n",
              "<svg xmlns=\"http://www.w3.org/2000/svg\" height=\"24px\"viewBox=\"0 0 24 24\"\n",
              "     width=\"24px\">\n",
              "    <g>\n",
              "        <path d=\"M19 3H5c-1.1 0-2 .9-2 2v14c0 1.1.9 2 2 2h14c1.1 0 2-.9 2-2V5c0-1.1-.9-2-2-2zM9 17H7v-7h2v7zm4 0h-2V7h2v10zm4 0h-2v-4h2v4z\"/>\n",
              "    </g>\n",
              "</svg>\n",
              "  </button>\n",
              "\n",
              "<style>\n",
              "  .colab-df-quickchart {\n",
              "      --bg-color: #E8F0FE;\n",
              "      --fill-color: #1967D2;\n",
              "      --hover-bg-color: #E2EBFA;\n",
              "      --hover-fill-color: #174EA6;\n",
              "      --disabled-fill-color: #AAA;\n",
              "      --disabled-bg-color: #DDD;\n",
              "  }\n",
              "\n",
              "  [theme=dark] .colab-df-quickchart {\n",
              "      --bg-color: #3B4455;\n",
              "      --fill-color: #D2E3FC;\n",
              "      --hover-bg-color: #434B5C;\n",
              "      --hover-fill-color: #FFFFFF;\n",
              "      --disabled-bg-color: #3B4455;\n",
              "      --disabled-fill-color: #666;\n",
              "  }\n",
              "\n",
              "  .colab-df-quickchart {\n",
              "    background-color: var(--bg-color);\n",
              "    border: none;\n",
              "    border-radius: 50%;\n",
              "    cursor: pointer;\n",
              "    display: none;\n",
              "    fill: var(--fill-color);\n",
              "    height: 32px;\n",
              "    padding: 0;\n",
              "    width: 32px;\n",
              "  }\n",
              "\n",
              "  .colab-df-quickchart:hover {\n",
              "    background-color: var(--hover-bg-color);\n",
              "    box-shadow: 0 1px 2px rgba(60, 64, 67, 0.3), 0 1px 3px 1px rgba(60, 64, 67, 0.15);\n",
              "    fill: var(--button-hover-fill-color);\n",
              "  }\n",
              "\n",
              "  .colab-df-quickchart-complete:disabled,\n",
              "  .colab-df-quickchart-complete:disabled:hover {\n",
              "    background-color: var(--disabled-bg-color);\n",
              "    fill: var(--disabled-fill-color);\n",
              "    box-shadow: none;\n",
              "  }\n",
              "\n",
              "  .colab-df-spinner {\n",
              "    border: 2px solid var(--fill-color);\n",
              "    border-color: transparent;\n",
              "    border-bottom-color: var(--fill-color);\n",
              "    animation:\n",
              "      spin 1s steps(1) infinite;\n",
              "  }\n",
              "\n",
              "  @keyframes spin {\n",
              "    0% {\n",
              "      border-color: transparent;\n",
              "      border-bottom-color: var(--fill-color);\n",
              "      border-left-color: var(--fill-color);\n",
              "    }\n",
              "    20% {\n",
              "      border-color: transparent;\n",
              "      border-left-color: var(--fill-color);\n",
              "      border-top-color: var(--fill-color);\n",
              "    }\n",
              "    30% {\n",
              "      border-color: transparent;\n",
              "      border-left-color: var(--fill-color);\n",
              "      border-top-color: var(--fill-color);\n",
              "      border-right-color: var(--fill-color);\n",
              "    }\n",
              "    40% {\n",
              "      border-color: transparent;\n",
              "      border-right-color: var(--fill-color);\n",
              "      border-top-color: var(--fill-color);\n",
              "    }\n",
              "    60% {\n",
              "      border-color: transparent;\n",
              "      border-right-color: var(--fill-color);\n",
              "    }\n",
              "    80% {\n",
              "      border-color: transparent;\n",
              "      border-right-color: var(--fill-color);\n",
              "      border-bottom-color: var(--fill-color);\n",
              "    }\n",
              "    90% {\n",
              "      border-color: transparent;\n",
              "      border-bottom-color: var(--fill-color);\n",
              "    }\n",
              "  }\n",
              "</style>\n",
              "\n",
              "  <script>\n",
              "    async function quickchart(key) {\n",
              "      const quickchartButtonEl =\n",
              "        document.querySelector('#' + key + ' button');\n",
              "      quickchartButtonEl.disabled = true;  // To prevent multiple clicks.\n",
              "      quickchartButtonEl.classList.add('colab-df-spinner');\n",
              "      try {\n",
              "        const charts = await google.colab.kernel.invokeFunction(\n",
              "            'suggestCharts', [key], {});\n",
              "      } catch (error) {\n",
              "        console.error('Error during call to suggestCharts:', error);\n",
              "      }\n",
              "      quickchartButtonEl.classList.remove('colab-df-spinner');\n",
              "      quickchartButtonEl.classList.add('colab-df-quickchart-complete');\n",
              "    }\n",
              "    (() => {\n",
              "      let quickchartButtonEl =\n",
              "        document.querySelector('#df-7c594ad4-5614-467d-8011-6c5ba4c76836 button');\n",
              "      quickchartButtonEl.style.display =\n",
              "        google.colab.kernel.accessAllowed ? 'block' : 'none';\n",
              "    })();\n",
              "  </script>\n",
              "</div>\n",
              "\n",
              "    </div>\n",
              "  </div>\n"
            ]
          },
          "metadata": {},
          "execution_count": 72
        }
      ]
    },
    {
      "cell_type": "code",
      "source": [
        "Xtrain_wv.head()"
      ],
      "metadata": {
        "colab": {
          "base_uri": "https://localhost:8080/",
          "height": 236
        },
        "id": "qw158hIzLKqd",
        "outputId": "32f78381-d290-46df-d0d5-ccb6164e6a4c"
      },
      "execution_count": 71,
      "outputs": [
        {
          "output_type": "execute_result",
          "data": {
            "text/plain": [
              "           col0      col1      col2      col3      col4      col5      col6  \\\n",
              "75220 -0.226177  0.065557 -0.323183  0.518300  0.098899  0.241577  0.104000   \n",
              "48955  0.030451  0.053166 -0.058027  0.496425  0.065902  0.333106  0.180551   \n",
              "44966 -0.182071  0.019042 -0.060059  0.323796 -0.122855  0.175646  0.058596   \n",
              "13568 -0.332578 -0.120989 -0.447269  0.409147  0.033083  0.278923  0.025120   \n",
              "92727 -0.225864  0.167356 -0.240936  0.598203  0.035310  0.151458 -0.065803   \n",
              "\n",
              "           col7      col8      col9  ...     col90     col91     col92  \\\n",
              "75220 -0.485835 -0.410213 -0.077558  ...  0.035495  0.343133 -0.431646   \n",
              "48955 -0.359656 -0.641724 -0.078189  ...  0.309000  0.249650 -0.713764   \n",
              "44966 -0.393218 -0.146582 -0.028532  ...  0.102035  0.471042 -0.447055   \n",
              "13568 -0.558317 -0.362141 -0.169402  ...  0.224955  0.361697 -0.494516   \n",
              "92727 -0.251969 -0.110077 -0.293440  ... -0.187357  0.386819 -0.285506   \n",
              "\n",
              "          col93     col94     col95     col96     col97     col98     col99  \n",
              "75220  0.011607 -0.029718  0.078379  0.052955  0.005259  0.261323 -0.076826  \n",
              "48955 -0.073725  0.226781  0.145735  0.041632  0.319304  0.587457 -0.136949  \n",
              "44966 -0.129442  0.055237  0.041346  0.000739  0.052893  0.209430 -0.092558  \n",
              "13568  0.039046 -0.072369  0.149438  0.214391  0.246103  0.307388 -0.063411  \n",
              "92727  0.032316 -0.031444  0.096468 -0.038741 -0.149914  0.198209 -0.178050  \n",
              "\n",
              "[5 rows x 100 columns]"
            ],
            "text/html": [
              "\n",
              "  <div id=\"df-50dbfda5-e904-4e48-aa76-0ddbfb0c96d1\" class=\"colab-df-container\">\n",
              "    <div>\n",
              "<style scoped>\n",
              "    .dataframe tbody tr th:only-of-type {\n",
              "        vertical-align: middle;\n",
              "    }\n",
              "\n",
              "    .dataframe tbody tr th {\n",
              "        vertical-align: top;\n",
              "    }\n",
              "\n",
              "    .dataframe thead th {\n",
              "        text-align: right;\n",
              "    }\n",
              "</style>\n",
              "<table border=\"1\" class=\"dataframe\">\n",
              "  <thead>\n",
              "    <tr style=\"text-align: right;\">\n",
              "      <th></th>\n",
              "      <th>col0</th>\n",
              "      <th>col1</th>\n",
              "      <th>col2</th>\n",
              "      <th>col3</th>\n",
              "      <th>col4</th>\n",
              "      <th>col5</th>\n",
              "      <th>col6</th>\n",
              "      <th>col7</th>\n",
              "      <th>col8</th>\n",
              "      <th>col9</th>\n",
              "      <th>...</th>\n",
              "      <th>col90</th>\n",
              "      <th>col91</th>\n",
              "      <th>col92</th>\n",
              "      <th>col93</th>\n",
              "      <th>col94</th>\n",
              "      <th>col95</th>\n",
              "      <th>col96</th>\n",
              "      <th>col97</th>\n",
              "      <th>col98</th>\n",
              "      <th>col99</th>\n",
              "    </tr>\n",
              "  </thead>\n",
              "  <tbody>\n",
              "    <tr>\n",
              "      <th>75220</th>\n",
              "      <td>-0.226177</td>\n",
              "      <td>0.065557</td>\n",
              "      <td>-0.323183</td>\n",
              "      <td>0.518300</td>\n",
              "      <td>0.098899</td>\n",
              "      <td>0.241577</td>\n",
              "      <td>0.104000</td>\n",
              "      <td>-0.485835</td>\n",
              "      <td>-0.410213</td>\n",
              "      <td>-0.077558</td>\n",
              "      <td>...</td>\n",
              "      <td>0.035495</td>\n",
              "      <td>0.343133</td>\n",
              "      <td>-0.431646</td>\n",
              "      <td>0.011607</td>\n",
              "      <td>-0.029718</td>\n",
              "      <td>0.078379</td>\n",
              "      <td>0.052955</td>\n",
              "      <td>0.005259</td>\n",
              "      <td>0.261323</td>\n",
              "      <td>-0.076826</td>\n",
              "    </tr>\n",
              "    <tr>\n",
              "      <th>48955</th>\n",
              "      <td>0.030451</td>\n",
              "      <td>0.053166</td>\n",
              "      <td>-0.058027</td>\n",
              "      <td>0.496425</td>\n",
              "      <td>0.065902</td>\n",
              "      <td>0.333106</td>\n",
              "      <td>0.180551</td>\n",
              "      <td>-0.359656</td>\n",
              "      <td>-0.641724</td>\n",
              "      <td>-0.078189</td>\n",
              "      <td>...</td>\n",
              "      <td>0.309000</td>\n",
              "      <td>0.249650</td>\n",
              "      <td>-0.713764</td>\n",
              "      <td>-0.073725</td>\n",
              "      <td>0.226781</td>\n",
              "      <td>0.145735</td>\n",
              "      <td>0.041632</td>\n",
              "      <td>0.319304</td>\n",
              "      <td>0.587457</td>\n",
              "      <td>-0.136949</td>\n",
              "    </tr>\n",
              "    <tr>\n",
              "      <th>44966</th>\n",
              "      <td>-0.182071</td>\n",
              "      <td>0.019042</td>\n",
              "      <td>-0.060059</td>\n",
              "      <td>0.323796</td>\n",
              "      <td>-0.122855</td>\n",
              "      <td>0.175646</td>\n",
              "      <td>0.058596</td>\n",
              "      <td>-0.393218</td>\n",
              "      <td>-0.146582</td>\n",
              "      <td>-0.028532</td>\n",
              "      <td>...</td>\n",
              "      <td>0.102035</td>\n",
              "      <td>0.471042</td>\n",
              "      <td>-0.447055</td>\n",
              "      <td>-0.129442</td>\n",
              "      <td>0.055237</td>\n",
              "      <td>0.041346</td>\n",
              "      <td>0.000739</td>\n",
              "      <td>0.052893</td>\n",
              "      <td>0.209430</td>\n",
              "      <td>-0.092558</td>\n",
              "    </tr>\n",
              "    <tr>\n",
              "      <th>13568</th>\n",
              "      <td>-0.332578</td>\n",
              "      <td>-0.120989</td>\n",
              "      <td>-0.447269</td>\n",
              "      <td>0.409147</td>\n",
              "      <td>0.033083</td>\n",
              "      <td>0.278923</td>\n",
              "      <td>0.025120</td>\n",
              "      <td>-0.558317</td>\n",
              "      <td>-0.362141</td>\n",
              "      <td>-0.169402</td>\n",
              "      <td>...</td>\n",
              "      <td>0.224955</td>\n",
              "      <td>0.361697</td>\n",
              "      <td>-0.494516</td>\n",
              "      <td>0.039046</td>\n",
              "      <td>-0.072369</td>\n",
              "      <td>0.149438</td>\n",
              "      <td>0.214391</td>\n",
              "      <td>0.246103</td>\n",
              "      <td>0.307388</td>\n",
              "      <td>-0.063411</td>\n",
              "    </tr>\n",
              "    <tr>\n",
              "      <th>92727</th>\n",
              "      <td>-0.225864</td>\n",
              "      <td>0.167356</td>\n",
              "      <td>-0.240936</td>\n",
              "      <td>0.598203</td>\n",
              "      <td>0.035310</td>\n",
              "      <td>0.151458</td>\n",
              "      <td>-0.065803</td>\n",
              "      <td>-0.251969</td>\n",
              "      <td>-0.110077</td>\n",
              "      <td>-0.293440</td>\n",
              "      <td>...</td>\n",
              "      <td>-0.187357</td>\n",
              "      <td>0.386819</td>\n",
              "      <td>-0.285506</td>\n",
              "      <td>0.032316</td>\n",
              "      <td>-0.031444</td>\n",
              "      <td>0.096468</td>\n",
              "      <td>-0.038741</td>\n",
              "      <td>-0.149914</td>\n",
              "      <td>0.198209</td>\n",
              "      <td>-0.178050</td>\n",
              "    </tr>\n",
              "  </tbody>\n",
              "</table>\n",
              "<p>5 rows × 100 columns</p>\n",
              "</div>\n",
              "    <div class=\"colab-df-buttons\">\n",
              "\n",
              "  <div class=\"colab-df-container\">\n",
              "    <button class=\"colab-df-convert\" onclick=\"convertToInteractive('df-50dbfda5-e904-4e48-aa76-0ddbfb0c96d1')\"\n",
              "            title=\"Convert this dataframe to an interactive table.\"\n",
              "            style=\"display:none;\">\n",
              "\n",
              "  <svg xmlns=\"http://www.w3.org/2000/svg\" height=\"24px\" viewBox=\"0 -960 960 960\">\n",
              "    <path d=\"M120-120v-720h720v720H120Zm60-500h600v-160H180v160Zm220 220h160v-160H400v160Zm0 220h160v-160H400v160ZM180-400h160v-160H180v160Zm440 0h160v-160H620v160ZM180-180h160v-160H180v160Zm440 0h160v-160H620v160Z\"/>\n",
              "  </svg>\n",
              "    </button>\n",
              "\n",
              "  <style>\n",
              "    .colab-df-container {\n",
              "      display:flex;\n",
              "      gap: 12px;\n",
              "    }\n",
              "\n",
              "    .colab-df-convert {\n",
              "      background-color: #E8F0FE;\n",
              "      border: none;\n",
              "      border-radius: 50%;\n",
              "      cursor: pointer;\n",
              "      display: none;\n",
              "      fill: #1967D2;\n",
              "      height: 32px;\n",
              "      padding: 0 0 0 0;\n",
              "      width: 32px;\n",
              "    }\n",
              "\n",
              "    .colab-df-convert:hover {\n",
              "      background-color: #E2EBFA;\n",
              "      box-shadow: 0px 1px 2px rgba(60, 64, 67, 0.3), 0px 1px 3px 1px rgba(60, 64, 67, 0.15);\n",
              "      fill: #174EA6;\n",
              "    }\n",
              "\n",
              "    .colab-df-buttons div {\n",
              "      margin-bottom: 4px;\n",
              "    }\n",
              "\n",
              "    [theme=dark] .colab-df-convert {\n",
              "      background-color: #3B4455;\n",
              "      fill: #D2E3FC;\n",
              "    }\n",
              "\n",
              "    [theme=dark] .colab-df-convert:hover {\n",
              "      background-color: #434B5C;\n",
              "      box-shadow: 0px 1px 3px 1px rgba(0, 0, 0, 0.15);\n",
              "      filter: drop-shadow(0px 1px 2px rgba(0, 0, 0, 0.3));\n",
              "      fill: #FFFFFF;\n",
              "    }\n",
              "  </style>\n",
              "\n",
              "    <script>\n",
              "      const buttonEl =\n",
              "        document.querySelector('#df-50dbfda5-e904-4e48-aa76-0ddbfb0c96d1 button.colab-df-convert');\n",
              "      buttonEl.style.display =\n",
              "        google.colab.kernel.accessAllowed ? 'block' : 'none';\n",
              "\n",
              "      async function convertToInteractive(key) {\n",
              "        const element = document.querySelector('#df-50dbfda5-e904-4e48-aa76-0ddbfb0c96d1');\n",
              "        const dataTable =\n",
              "          await google.colab.kernel.invokeFunction('convertToInteractive',\n",
              "                                                    [key], {});\n",
              "        if (!dataTable) return;\n",
              "\n",
              "        const docLinkHtml = 'Like what you see? Visit the ' +\n",
              "          '<a target=\"_blank\" href=https://colab.research.google.com/notebooks/data_table.ipynb>data table notebook</a>'\n",
              "          + ' to learn more about interactive tables.';\n",
              "        element.innerHTML = '';\n",
              "        dataTable['output_type'] = 'display_data';\n",
              "        await google.colab.output.renderOutput(dataTable, element);\n",
              "        const docLink = document.createElement('div');\n",
              "        docLink.innerHTML = docLinkHtml;\n",
              "        element.appendChild(docLink);\n",
              "      }\n",
              "    </script>\n",
              "  </div>\n",
              "\n",
              "\n",
              "<div id=\"df-4e21a2aa-1746-4668-8cba-6dc945567a01\">\n",
              "  <button class=\"colab-df-quickchart\" onclick=\"quickchart('df-4e21a2aa-1746-4668-8cba-6dc945567a01')\"\n",
              "            title=\"Suggest charts\"\n",
              "            style=\"display:none;\">\n",
              "\n",
              "<svg xmlns=\"http://www.w3.org/2000/svg\" height=\"24px\"viewBox=\"0 0 24 24\"\n",
              "     width=\"24px\">\n",
              "    <g>\n",
              "        <path d=\"M19 3H5c-1.1 0-2 .9-2 2v14c0 1.1.9 2 2 2h14c1.1 0 2-.9 2-2V5c0-1.1-.9-2-2-2zM9 17H7v-7h2v7zm4 0h-2V7h2v10zm4 0h-2v-4h2v4z\"/>\n",
              "    </g>\n",
              "</svg>\n",
              "  </button>\n",
              "\n",
              "<style>\n",
              "  .colab-df-quickchart {\n",
              "      --bg-color: #E8F0FE;\n",
              "      --fill-color: #1967D2;\n",
              "      --hover-bg-color: #E2EBFA;\n",
              "      --hover-fill-color: #174EA6;\n",
              "      --disabled-fill-color: #AAA;\n",
              "      --disabled-bg-color: #DDD;\n",
              "  }\n",
              "\n",
              "  [theme=dark] .colab-df-quickchart {\n",
              "      --bg-color: #3B4455;\n",
              "      --fill-color: #D2E3FC;\n",
              "      --hover-bg-color: #434B5C;\n",
              "      --hover-fill-color: #FFFFFF;\n",
              "      --disabled-bg-color: #3B4455;\n",
              "      --disabled-fill-color: #666;\n",
              "  }\n",
              "\n",
              "  .colab-df-quickchart {\n",
              "    background-color: var(--bg-color);\n",
              "    border: none;\n",
              "    border-radius: 50%;\n",
              "    cursor: pointer;\n",
              "    display: none;\n",
              "    fill: var(--fill-color);\n",
              "    height: 32px;\n",
              "    padding: 0;\n",
              "    width: 32px;\n",
              "  }\n",
              "\n",
              "  .colab-df-quickchart:hover {\n",
              "    background-color: var(--hover-bg-color);\n",
              "    box-shadow: 0 1px 2px rgba(60, 64, 67, 0.3), 0 1px 3px 1px rgba(60, 64, 67, 0.15);\n",
              "    fill: var(--button-hover-fill-color);\n",
              "  }\n",
              "\n",
              "  .colab-df-quickchart-complete:disabled,\n",
              "  .colab-df-quickchart-complete:disabled:hover {\n",
              "    background-color: var(--disabled-bg-color);\n",
              "    fill: var(--disabled-fill-color);\n",
              "    box-shadow: none;\n",
              "  }\n",
              "\n",
              "  .colab-df-spinner {\n",
              "    border: 2px solid var(--fill-color);\n",
              "    border-color: transparent;\n",
              "    border-bottom-color: var(--fill-color);\n",
              "    animation:\n",
              "      spin 1s steps(1) infinite;\n",
              "  }\n",
              "\n",
              "  @keyframes spin {\n",
              "    0% {\n",
              "      border-color: transparent;\n",
              "      border-bottom-color: var(--fill-color);\n",
              "      border-left-color: var(--fill-color);\n",
              "    }\n",
              "    20% {\n",
              "      border-color: transparent;\n",
              "      border-left-color: var(--fill-color);\n",
              "      border-top-color: var(--fill-color);\n",
              "    }\n",
              "    30% {\n",
              "      border-color: transparent;\n",
              "      border-left-color: var(--fill-color);\n",
              "      border-top-color: var(--fill-color);\n",
              "      border-right-color: var(--fill-color);\n",
              "    }\n",
              "    40% {\n",
              "      border-color: transparent;\n",
              "      border-right-color: var(--fill-color);\n",
              "      border-top-color: var(--fill-color);\n",
              "    }\n",
              "    60% {\n",
              "      border-color: transparent;\n",
              "      border-right-color: var(--fill-color);\n",
              "    }\n",
              "    80% {\n",
              "      border-color: transparent;\n",
              "      border-right-color: var(--fill-color);\n",
              "      border-bottom-color: var(--fill-color);\n",
              "    }\n",
              "    90% {\n",
              "      border-color: transparent;\n",
              "      border-bottom-color: var(--fill-color);\n",
              "    }\n",
              "  }\n",
              "</style>\n",
              "\n",
              "  <script>\n",
              "    async function quickchart(key) {\n",
              "      const quickchartButtonEl =\n",
              "        document.querySelector('#' + key + ' button');\n",
              "      quickchartButtonEl.disabled = true;  // To prevent multiple clicks.\n",
              "      quickchartButtonEl.classList.add('colab-df-spinner');\n",
              "      try {\n",
              "        const charts = await google.colab.kernel.invokeFunction(\n",
              "            'suggestCharts', [key], {});\n",
              "      } catch (error) {\n",
              "        console.error('Error during call to suggestCharts:', error);\n",
              "      }\n",
              "      quickchartButtonEl.classList.remove('colab-df-spinner');\n",
              "      quickchartButtonEl.classList.add('colab-df-quickchart-complete');\n",
              "    }\n",
              "    (() => {\n",
              "      let quickchartButtonEl =\n",
              "        document.querySelector('#df-4e21a2aa-1746-4668-8cba-6dc945567a01 button');\n",
              "      quickchartButtonEl.style.display =\n",
              "        google.colab.kernel.accessAllowed ? 'block' : 'none';\n",
              "    })();\n",
              "  </script>\n",
              "</div>\n",
              "\n",
              "    </div>\n",
              "  </div>\n"
            ]
          },
          "metadata": {},
          "execution_count": 71
        }
      ]
    },
    {
      "cell_type": "code",
      "source": [
        "pd.concat([Xtrain_lr, Xtrain_wv], axis=1).shape"
      ],
      "metadata": {
        "colab": {
          "base_uri": "https://localhost:8080/"
        },
        "id": "VLKShqvtJ0EP",
        "outputId": "7d6d4197-a131-4334-fb67-5212a22aa84f"
      },
      "execution_count": 76,
      "outputs": [
        {
          "output_type": "execute_result",
          "data": {
            "text/plain": [
              "(96022, 1100)"
            ]
          },
          "metadata": {},
          "execution_count": 76
        }
      ]
    },
    {
      "cell_type": "code",
      "source": [
        "pd.concat([Xtrain_lr, Xtrain_wv], axis=0).shape"
      ],
      "metadata": {
        "colab": {
          "base_uri": "https://localhost:8080/"
        },
        "id": "j5A_q55GNx85",
        "outputId": "69696ef9-92ce-4011-be95-f997b2ea02d3"
      },
      "execution_count": 78,
      "outputs": [
        {
          "output_type": "execute_result",
          "data": {
            "text/plain": [
              "(160000, 1100)"
            ]
          },
          "metadata": {},
          "execution_count": 78
        }
      ]
    },
    {
      "cell_type": "code",
      "source": [
        "model.wv.vectors.shape"
      ],
      "metadata": {
        "colab": {
          "base_uri": "https://localhost:8080/"
        },
        "id": "xKFpp-4HPD6t",
        "outputId": "b96fa2bf-514c-44f0-addf-51722128f027"
      },
      "execution_count": 83,
      "outputs": [
        {
          "output_type": "execute_result",
          "data": {
            "text/plain": [
              "(26839, 100)"
            ]
          },
          "metadata": {},
          "execution_count": 83
        }
      ]
    },
    {
      "cell_type": "code",
      "source": [
        "Xtrain_big = # ваш код здесь\n",
        "Xtest_big = # ваш код здесь"
      ],
      "metadata": {
        "id": "wqagjQZZz9JN"
      },
      "execution_count": null,
      "outputs": []
    },
    {
      "cell_type": "markdown",
      "source": [
        "## Задание 9\n",
        "\n",
        "Сколько столбцов в сконкатенированных матрицах объект-признак?"
      ],
      "metadata": {
        "id": "i8BCkErJ09tB"
      }
    },
    {
      "cell_type": "code",
      "source": [
        "# ваш код здесь"
      ],
      "metadata": {
        "id": "qTA50yUBjLS1"
      },
      "execution_count": null,
      "outputs": []
    },
    {
      "cell_type": "markdown",
      "source": [
        "## Задание 10\n",
        "\n",
        "Обучите ridge-регрессию с гиперпараметрами по умолчанию.\n",
        "\n",
        "Чему теперь равен $R^2$ на тестовых данных? Ответ округлите до сотых."
      ],
      "metadata": {
        "id": "pWFx0rW004cD"
      }
    },
    {
      "cell_type": "code",
      "source": [
        "# ваш код здесь"
      ],
      "metadata": {
        "id": "hvQ5D6IxngPC"
      },
      "execution_count": null,
      "outputs": []
    },
    {
      "cell_type": "markdown",
      "source": [
        "## Собственные эксперименты"
      ],
      "metadata": {
        "id": "Zn8_wCjHorkr"
      }
    },
    {
      "cell_type": "markdown",
      "source": [
        "В ходе экспериментов вам предлагается подобрать оптимальные гиперпараметры моделей для достижения наилучших значений метрики $R^2$ на тестовых данных.\n",
        "\n",
        "Кроме того, вы можете смешивать прогнозы моделей, а можете \"стекать\" признаки, как мы делали в предыдущем шаге."
      ],
      "metadata": {
        "id": "Vsw7eBA50jY-"
      }
    },
    {
      "cell_type": "markdown",
      "source": [
        "## Задание 11\n",
        "\n",
        "Получилось провести эксперименты и улучшить качество моделей?"
      ],
      "metadata": {
        "id": "vAXyc4-w0vrH"
      }
    },
    {
      "cell_type": "code",
      "source": [
        "# ваш код здесь"
      ],
      "metadata": {
        "id": "vRUXD1yzouAb"
      },
      "execution_count": null,
      "outputs": []
    }
  ],
  "metadata": {
    "colab": {
      "provenance": []
    },
    "kernelspec": {
      "display_name": "Python 3",
      "name": "python3"
    },
    "language_info": {
      "name": "python"
    }
  },
  "nbformat": 4,
  "nbformat_minor": 0
}