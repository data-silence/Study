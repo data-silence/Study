{
 "cells": [
  {
   "cell_type": "markdown",
   "metadata": {
    "id": "29lluO49LPvW"
   },
   "source": [
    "[![Open In Colab](https://colab.research.google.com/assets/colab-badge.svg)](https://github.com/NktBkzn/HSE_DL_2021/blob/master/12_week/Weather_forecast_RNN.ipynb)"
   ]
  },
  {
   "cell_type": "markdown",
   "metadata": {
    "id": "iwMKuwx6HjSn"
   },
   "source": [
    "## Задача прогнозирования температуры\n",
    "\n",
    "Во всех наших примерах в этом разделе мы будем играть с погодой\n",
    "набором  временных рядов, записанных на метеостанции в Институте биогеохимии им. Макса Планка в Йене, Германия: http://www.bgc-jena.mpg.de/wetter/.\n",
    "\n",
    "В этом наборе данных записано четырнадцать различных величин (таких как температура воздуха, атмосферное давление, влажность, направление ветра и т. Д.)\n",
    "каждые десять минут, в течение нескольких лет. Исходные данные относятся к 2003 году, но мы ограничиваемся данными за 2009-2016 годы. Этот набор данных\n",
    "идеально подходит для обучения работе с числовыми временными рядами. Мы будем использовать его для построения модели, которая принимает в качестве входных данных некоторые данные из недавнего прошлого (\n",
    "несколько дней стоит данных) и прогнозирует температуру воздуха на 24 часа в будущем.\n"
   ]
  },
  {
   "cell_type": "markdown",
   "metadata": {
    "id": "utHHOeplHjSr"
   },
   "source": [
    "Посмотрим на данные!"
   ]
  },
  {
   "cell_type": "code",
   "execution_count": 1,
   "metadata": {
    "colab": {
     "base_uri": "https://localhost:8080/"
    },
    "id": "KGPFQxMBHjSr",
    "outputId": "be4890d0-24d6-4be4-e2df-30061c643d2b"
   },
   "outputs": [
    {
     "name": "stdout",
     "output_type": "stream",
     "text": [
      "['\"Date Time\"', '\"p (mbar)\"', '\"T (degC)\"', '\"Tpot (K)\"', '\"Tdew (degC)\"', '\"rh (%)\"', '\"VPmax (mbar)\"', '\"VPact (mbar)\"', '\"VPdef (mbar)\"', '\"sh (g/kg)\"', '\"H2OC (mmol/mol)\"', '\"rho (g/m**3)\"', '\"wv (m/s)\"', '\"max. wv (m/s)\"', '\"wd (deg)\"']\n",
      "420551\n"
     ]
    }
   ],
   "source": [
    "import os\n",
    "\n",
    "\n",
    "fname = 'hw_data/jena_climate_2009_2016.csv'\n",
    "\n",
    "f = open(fname)\n",
    "data = f.read()\n",
    "f.close()\n",
    "\n",
    "lines = data.split('\\n')\n",
    "header = lines[0].split(',')\n",
    "lines = lines[1:]\n",
    "\n",
    "print(header)\n",
    "print(len(lines))"
   ]
  },
  {
   "cell_type": "code",
   "execution_count": 2,
   "metadata": {
    "colab": {
     "base_uri": "https://localhost:8080/",
     "height": 81
    },
    "id": "U6o3XyoNMf2E",
    "outputId": "a31b5367-146e-40c5-d42f-c07eb8065d5c"
   },
   "outputs": [
    {
     "data": {
      "text/html": [
       "<div>\n",
       "<style scoped>\n",
       "    .dataframe tbody tr th:only-of-type {\n",
       "        vertical-align: middle;\n",
       "    }\n",
       "\n",
       "    .dataframe tbody tr th {\n",
       "        vertical-align: top;\n",
       "    }\n",
       "\n",
       "    .dataframe thead th {\n",
       "        text-align: right;\n",
       "    }\n",
       "</style>\n",
       "<table border=\"1\" class=\"dataframe\">\n",
       "  <thead>\n",
       "    <tr style=\"text-align: right;\">\n",
       "      <th></th>\n",
       "      <th>Date Time</th>\n",
       "      <th>p (mbar)</th>\n",
       "      <th>T (degC)</th>\n",
       "      <th>Tpot (K)</th>\n",
       "      <th>Tdew (degC)</th>\n",
       "      <th>rh (%)</th>\n",
       "      <th>VPmax (mbar)</th>\n",
       "      <th>VPact (mbar)</th>\n",
       "      <th>VPdef (mbar)</th>\n",
       "      <th>sh (g/kg)</th>\n",
       "      <th>H2OC (mmol/mol)</th>\n",
       "      <th>rho (g/m**3)</th>\n",
       "      <th>wv (m/s)</th>\n",
       "      <th>max. wv (m/s)</th>\n",
       "      <th>wd (deg)</th>\n",
       "    </tr>\n",
       "  </thead>\n",
       "  <tbody>\n",
       "    <tr>\n",
       "      <th>0</th>\n",
       "      <td>01.01.2009 00:10:00</td>\n",
       "      <td>996.52</td>\n",
       "      <td>-8.02</td>\n",
       "      <td>265.4</td>\n",
       "      <td>-8.9</td>\n",
       "      <td>93.3</td>\n",
       "      <td>3.33</td>\n",
       "      <td>3.11</td>\n",
       "      <td>0.22</td>\n",
       "      <td>1.94</td>\n",
       "      <td>3.12</td>\n",
       "      <td>1307.75</td>\n",
       "      <td>1.03</td>\n",
       "      <td>1.75</td>\n",
       "      <td>152.3</td>\n",
       "    </tr>\n",
       "  </tbody>\n",
       "</table>\n",
       "</div>"
      ],
      "text/plain": [
       "             Date Time  p (mbar)  T (degC)  Tpot (K)  Tdew (degC)  rh (%)  \\\n",
       "0  01.01.2009 00:10:00    996.52     -8.02     265.4         -8.9    93.3   \n",
       "\n",
       "   VPmax (mbar)  VPact (mbar)  VPdef (mbar)  sh (g/kg)  H2OC (mmol/mol)  \\\n",
       "0          3.33          3.11          0.22       1.94             3.12   \n",
       "\n",
       "   rho (g/m**3)  wv (m/s)  max. wv (m/s)  wd (deg)  \n",
       "0       1307.75      1.03           1.75     152.3  "
      ]
     },
     "execution_count": 2,
     "metadata": {},
     "output_type": "execute_result"
    }
   ],
   "source": [
    "import pandas as pd\n",
    "\n",
    "tmp = pd.read_csv(fname)\n",
    "tmp.head(1)"
   ]
  },
  {
   "cell_type": "markdown",
   "metadata": {
    "id": "B9LNMpm5HjSt"
   },
   "source": [
    "переведем все в numpy array"
   ]
  },
  {
   "cell_type": "code",
   "execution_count": 3,
   "metadata": {
    "id": "8nyG1tcuHjSu"
   },
   "outputs": [],
   "source": [
    "import numpy as np\n",
    "\n",
    "float_data = np.zeros((len(lines), len(header) - 1))\n",
    "for i, line in enumerate(lines):\n",
    "    values = [float(x) for x in line.split(',')[1:]]\n",
    "    float_data[i, :] = values"
   ]
  },
  {
   "cell_type": "code",
   "execution_count": 4,
   "metadata": {
    "colab": {
     "base_uri": "https://localhost:8080/"
    },
    "id": "UaZ527WsM977",
    "outputId": "149fc768-8834-4afa-85ab-808097590912"
   },
   "outputs": [
    {
     "data": {
      "text/plain": [
       "(420551, 14)"
      ]
     },
     "execution_count": 4,
     "metadata": {},
     "output_type": "execute_result"
    }
   ],
   "source": [
    "float_data.shape"
   ]
  },
  {
   "cell_type": "code",
   "execution_count": 14,
   "metadata": {},
   "outputs": [
    {
     "data": {
      "text/plain": [
       "array([[ 0.90014748, -1.93135845, -1.98211036, ..., -0.72950452,\n",
       "        -0.78067973, -0.27613603],\n",
       "       [ 0.9060434 , -1.97541381, -2.02567   , ..., -0.93124017,\n",
       "        -0.88794488, -0.46317443],\n",
       "       [ 0.90132666, -1.98671006, -2.03683914, ..., -1.27614304,\n",
       "        -1.26122763, -0.05330633],\n",
       "       ...,\n",
       "       [ 1.28927851, -1.38236094, -1.46721307, ..., -0.69696652,\n",
       "        -0.67341457,  0.45008097],\n",
       "       [ 1.28809932, -1.50323076, -1.58672285, ..., -0.43015486,\n",
       "        -0.60476487,  0.57246412],\n",
       "       [ 1.28927851, -1.56987861, -1.65150386, ..., -0.5993525 ,\n",
       "        -0.690577  ,  0.10024989]])"
      ]
     },
     "execution_count": 14,
     "metadata": {},
     "output_type": "execute_result"
    }
   ],
   "source": [
    "float_data"
   ]
  },
  {
   "cell_type": "markdown",
   "metadata": {
    "id": "upJF6kP8HjSu"
   },
   "source": [
    "нарисуем график температуры"
   ]
  },
  {
   "cell_type": "code",
   "execution_count": 16,
   "metadata": {
    "colab": {
     "base_uri": "https://localhost:8080/",
     "height": 268
    },
    "id": "ZX1RW8CUHjSv",
    "outputId": "0d141872-3d0c-4b09-8df7-115772c44303"
   },
   "outputs": [
    {
     "data": {
      "image/png": "[encoded data removed]",
      "text/plain": [
       "<Figure size 432x288 with 1 Axes>"
      ]
     },
     "metadata": {
      "needs_background": "light"
     },
     "output_type": "display_data"
    }
   ],
   "source": [
    "from matplotlib import pyplot as plt\n",
    "%matplotlib inline\n",
    "\n",
    "temp = float_data[:, 1]  # температура\n",
    "plt.plot(range(len(temp)), temp)\n",
    "plt.show()"
   ]
  },
  {
   "cell_type": "markdown",
   "metadata": {
    "id": "uFVXzFHBHjSw"
   },
   "source": [
    "На этом графике вы можете четко увидеть годовую периодичность температуры.\n",
    "\n",
    "Вот более узкий график данных о температуре за первые десять дней (поскольку данные записываются каждые десять минут, мы получаем 144 точки данных\n",
    "в день):"
   ]
  },
  {
   "cell_type": "code",
   "execution_count": 17,
   "metadata": {
    "colab": {
     "base_uri": "https://localhost:8080/",
     "height": 265
    },
    "id": "8eW_Kx2FHjSw",
    "outputId": "56c29d04-fa30-419d-9611-47c0e85c7f6c"
   },
   "outputs": [
    {
     "data": {
      "image/png": "[encoded data removed]",
      "text/plain": [
       "<Figure size 432x288 with 1 Axes>"
      ]
     },
     "metadata": {
      "needs_background": "light"
     },
     "output_type": "display_data"
    }
   ],
   "source": [
    "plt.plot(range(1440), temp[:1440])\n",
    "plt.show()"
   ]
  },
  {
   "cell_type": "markdown",
   "metadata": {
    "id": "EkfFwcEuHjSx"
   },
   "source": [
    "На этом графике вы можете увидеть ежедневную периодичность, особенно заметную за последние 4 дня. Мы также можем отметить, что этот десятидневный период должен быть\n",
    "взят из довольно холодного зимнего месяца.\n",
    "\n",
    "Если бы мы пытались предсказать среднюю температуру для следующего месяца, учитывая данные за несколько месяцев, проблема была бы легкой из-за\n",
    "достоверной годовой периодичности данных. Но, глядя на данные в масштабе дней, температура выглядит намного более хаотичной. \n"
   ]
  },
  {
   "cell_type": "code",
   "execution_count": 18,
   "metadata": {
    "id": "agBqL3WEXsKi"
   },
   "outputs": [],
   "source": [
    "TRAIN_VAL_TH = 200000\n",
    "VAL_TEST_TH = 300000"
   ]
  },
  {
   "cell_type": "code",
   "execution_count": 19,
   "metadata": {
    "id": "dw9kvdmTHjSy"
   },
   "outputs": [],
   "source": [
    "mean = float_data[:TRAIN_VAL_TH].mean(axis=0)\n",
    "float_data -= mean\n",
    "std = float_data[:TRAIN_VAL_TH].std(axis=0)\n",
    "float_data /= std"
   ]
  },
  {
   "cell_type": "code",
   "execution_count": 20,
   "metadata": {
    "colab": {
     "base_uri": "https://localhost:8080/"
    },
    "id": "DdskTCGXCljm",
    "outputId": "84008566-f881-42c9-9ad5-76de56df664b"
   },
   "outputs": [
    {
     "data": {
      "text/plain": [
       "(420551, 14)"
      ]
     },
     "execution_count": 20,
     "metadata": {},
     "output_type": "execute_result"
    }
   ],
   "source": [
    "float_data.shape"
   ]
  },
  {
   "cell_type": "code",
   "execution_count": 21,
   "metadata": {},
   "outputs": [
    {
     "data": {
      "text/plain": [
       "array([[ 0.90014748, -1.93135845, -1.98211036, ..., -0.72950452,\n",
       "        -0.78067973, -0.27613603],\n",
       "       [ 0.9060434 , -1.97541381, -2.02567   , ..., -0.93124017,\n",
       "        -0.88794488, -0.46317443],\n",
       "       [ 0.90132666, -1.98671006, -2.03683914, ..., -1.27614304,\n",
       "        -1.26122763, -0.05330633],\n",
       "       ...,\n",
       "       [ 1.28927851, -1.38236094, -1.46721307, ..., -0.69696652,\n",
       "        -0.67341457,  0.45008097],\n",
       "       [ 1.28809932, -1.50323076, -1.58672285, ..., -0.43015486,\n",
       "        -0.60476487,  0.57246412],\n",
       "       [ 1.28927851, -1.56987861, -1.65150386, ..., -0.5993525 ,\n",
       "        -0.690577  ,  0.10024989]])"
      ]
     },
     "execution_count": 21,
     "metadata": {},
     "output_type": "execute_result"
    }
   ],
   "source": [
    "float_data"
   ]
  },
  {
   "cell_type": "markdown",
   "metadata": {
    "id": "f91dQ6MAHjSz"
   },
   "source": [
    "Рассмотрим генератор данных, который мы будем использовать. Он возвращает кортеж `(samples, target)`, где `samples` - один батч данных, а\n",
    "`target` -  массив целевых температур. Требуются следующие аргументы:\n",
    "\n",
    "* `data`: исходный массив данных с плавающей запятой, который мы только что нормализовали в приведенном выше фрагменте кода.\n",
    "* `lookback`: Сколько временных шагов назад должны пройти наши входные данные. Выбираем значение, равное 1440 (в нашем случае это кол-во прошедших минут).\n",
    "* `delay`: через сколько шагов прогнозим\n",
    "* `min_index` и` max_index`: индексы в массиве `data`, которые разграничивают временные шаги для отрисовки. \n",
    "* `shuffle`: перетасовать наши батчи или нарисовать их в хронологическом порядке.\n",
    "* `batch_size`: количество данных на батч.\n",
    "* `step`: период во временных шагах, с каким мы производим выборку данных. Мы установим его на 6, чтобы рисовать одну точку данных каждый час. Тогда длина полследовательности будет 1440:6= 240 (т.е. 240 10-ти минутных интервалов)"
   ]
  },
  {
   "cell_type": "code",
   "execution_count": 22,
   "metadata": {
    "id": "tIZSLwM2HjSz"
   },
   "outputs": [],
   "source": [
    "def generator(data, lookback, delay, min_index, max_index,\n",
    "              shuffle=False, batch_size=128, step=6):\n",
    "    if max_index is None:\n",
    "        max_index = len(data) - delay - 1\n",
    "    i = min_index + lookback\n",
    "    while 1:\n",
    "        if shuffle:\n",
    "            rows = np.random.randint(\n",
    "                min_index + lookback, max_index, size=batch_size)\n",
    "        else:\n",
    "            if i + batch_size >= max_index:\n",
    "                i = min_index + lookback\n",
    "            rows = np.arange(i, min(i + batch_size, max_index))\n",
    "            i += len(rows)\n",
    "\n",
    "        samples = np.zeros((len(rows),       # batch size\n",
    "                           lookback // step, # seq_len\n",
    "                           data.shape[-1]))  # features number\n",
    "        targets = np.zeros((len(rows),))\n",
    "        for j, row in enumerate(rows):  # loop of batch size len\n",
    "            indices = range(row - lookback, row, step) # indices form a sequence (total number of sequences = batch size)\n",
    "            # print('indices', len(list(indices)), list(indices))\n",
    "            # print(row + delay - step, '\\n')\n",
    "            samples[j] = data[indices]\n",
    "            # [1] below means that temperature is being a target\n",
    "            targets[j] = data[row + delay - step][1]\n",
    "        yield samples, targets"
   ]
  },
  {
   "cell_type": "markdown",
   "metadata": {
    "id": "MIM47-PVHjS0"
   },
   "source": [
    "\n",
    "Теперь давайте использовать нашу функцию абстрактного генератора для создания трех генераторов, одного для обучения, одного для проверки и одного для тестирования.\n"
   ]
  },
  {
   "cell_type": "code",
   "execution_count": 23,
   "metadata": {
    "colab": {
     "base_uri": "https://localhost:8080/"
    },
    "id": "uaeGV0UdvWz9",
    "outputId": "737d1727-47b0-4c5b-e26a-8bd39ea2aea6"
   },
   "outputs": [
    {
     "data": {
      "text/plain": [
       "(420551, 14)"
      ]
     },
     "execution_count": 23,
     "metadata": {},
     "output_type": "execute_result"
    }
   ],
   "source": [
    "float_data.shape"
   ]
  },
  {
   "cell_type": "code",
   "execution_count": 24,
   "metadata": {
    "colab": {
     "base_uri": "https://localhost:8080/"
    },
    "id": "59Xdn_cPHjS0",
    "outputId": "a729f5f5-da8a-44b8-d5bc-d260d6d6d441"
   },
   "outputs": [
    {
     "name": "stdout",
     "output_type": "stream",
     "text": [
      "769 930\n"
     ]
    }
   ],
   "source": [
    "lookback = 1440 \n",
    "step = 6\n",
    "delay = 144\n",
    "batch_size = 128\n",
    "\n",
    "train_gen = generator(float_data,\n",
    "                      lookback=lookback,\n",
    "                      delay=delay,\n",
    "                      min_index=0,\n",
    "                      max_index=TRAIN_VAL_TH,\n",
    "                      shuffle=True,\n",
    "                      step=step, \n",
    "                      batch_size=batch_size)\n",
    "val_gen = generator(float_data,\n",
    "                    lookback=lookback,\n",
    "                    delay=delay,\n",
    "                    min_index=TRAIN_VAL_TH+1,\n",
    "                    max_index=VAL_TEST_TH,\n",
    "                    step=step,\n",
    "                    batch_size=batch_size)\n",
    "test_gen = generator(float_data,\n",
    "                     lookback=lookback,\n",
    "                     delay=delay,\n",
    "                     min_index=VAL_TEST_TH+1,\n",
    "                     max_index=None,\n",
    "                     step=step,\n",
    "                     batch_size=batch_size)\n",
    "\n",
    "# number of steps needed to cover the whole datasets\n",
    "train_steps = (TRAIN_VAL_TH - 0 - lookback) // batch_size\n",
    "val_steps = (VAL_TEST_TH - (TRAIN_VAL_TH+1) - lookback) // batch_size\n",
    "test_steps = (len(float_data) - (VAL_TEST_TH+1) - lookback) // batch_size\n",
    "\n",
    "print(val_steps, test_steps)"
   ]
  },
  {
   "cell_type": "code",
   "execution_count": 35,
   "metadata": {},
   "outputs": [
    {
     "data": {
      "text/plain": [
       "(array([[[-7.53069824e-01,  2.12399356e+00,  2.16834158e+00, ...,\n",
       "           1.29498860e-01,  3.90655771e-01, -1.28048606e+00],\n",
       "         [-6.88214651e-01,  1.97827200e+00,  2.01867512e+00, ...,\n",
       "          -6.53167952e-04, -1.58541826e-01, -1.81608553e+00],\n",
       "         [-5.76192081e-01,  1.85514293e+00,  1.88687928e+00, ...,\n",
       "          -1.43820399e-01, -4.33140624e-01,  2.03990737e+00],\n",
       "         ...,\n",
       "         [ 2.78772883e-03,  5.71889475e-01,  5.66687087e-01, ...,\n",
       "           7.15182986e-01,  1.09431519e+00,  1.09663346e+00],\n",
       "         [ 3.69840924e-02,  4.28427161e-01,  4.21488285e-01, ...,\n",
       "           4.09325720e-01,  8.96947305e-01,  1.09316979e+00],\n",
       "         [ 3.93424623e-02,  4.69093644e-01,  4.61697184e-01, ...,\n",
       "           3.24726902e-01,  2.87681221e-01,  1.08855156e+00]],\n",
       " \n",
       "        [[-7.26801079e-02,  6.49833566e-01,  6.49338714e-01, ...,\n",
       "           4.48371329e-01,  4.74072729e-02,  8.05684841e-01],\n",
       "         [-8.44719574e-02,  7.24388785e-01,  7.24171943e-01, ...,\n",
       "           6.17568965e-01,  3.90655771e-01,  8.58794511e-01],\n",
       "         [-8.68303273e-02,  7.19870286e-01,  7.20821201e-01, ...,\n",
       "          -2.02388811e-01, -1.67123038e-01,  9.28067992e-01],\n",
       "         ...,\n",
       "         [-2.42482741e-01,  7.86518133e-01,  7.99005172e-01, ...,\n",
       "          -9.05209762e-01, -1.02524428e+00,  1.44646455e+00],\n",
       "         [-2.34228446e-01,  7.91036631e-01,  8.02355914e-01, ...,\n",
       "          -1.06789980e+00, -9.82338221e-01,  9.86950452e-01],\n",
       "         [-2.60170515e-01,  7.58277520e-01,  7.72199239e-01, ...,\n",
       "          -9.31240168e-01, -1.11963762e+00,  4.72017571e-01]],\n",
       " \n",
       "        [[ 3.43572179e-01,  1.24558166e-01,  9.64663486e-02, ...,\n",
       "           4.02818119e-01,  3.47749709e-01,  3.79652929e-01],\n",
       "         [ 3.34138700e-01,  1.16650794e-01,  8.86479515e-02, ...,\n",
       "           4.15833322e-01,  7.21032450e-01,  7.08701967e-01],\n",
       "         [ 3.19988480e-01,  1.00836051e-01,  7.41280712e-02, ...,\n",
       "           1.49021664e-01,  1.84706672e-01,  5.58609423e-01],\n",
       "         ...,\n",
       "         [-8.33254400e-01,  9.94369044e-01,  1.05254462e+00, ...,\n",
       "          -4.04124455e-01, -4.58884262e-01, -1.60676416e+00],\n",
       "         [-8.72167504e-01,  1.09829450e+00,  1.15865144e+00, ...,\n",
       "          -7.42519727e-01, -4.58884262e-01, -1.30219175e+00],\n",
       "         [-8.96930387e-01,  1.12540549e+00,  1.18769120e+00, ...,\n",
       "          -2.28419217e-01, -2.95841225e-01, -1.78929978e+00]],\n",
       " \n",
       "        ...,\n",
       " \n",
       "        [[ 1.12773017e+00, -3.20513894e-01, -4.03911065e-01, ...,\n",
       "          -6.83951315e-01, -8.87944884e-01,  5.41291053e-01],\n",
       "         [ 1.11357995e+00, -4.71883579e-01, -5.53577523e-01, ...,\n",
       "          -1.09393020e+00, -1.18828732e+00, -1.17422425e-02],\n",
       "         [ 1.09825055e+00, -6.42456881e-01, -7.21114604e-01, ...,\n",
       "          -8.66164154e-01, -7.59226697e-01,  4.25219848e-02],\n",
       "         ...,\n",
       "         [ 5.58510515e-02,  3.44834947e-01,  3.36602830e-01, ...,\n",
       "          -1.05488459e+00, -1.17112489e+00, -1.20786436e+00],\n",
       "         [ 1.45795783e-02,  2.30742871e-01,  2.27145271e-01, ...,\n",
       "          -9.96316182e-01, -9.65175796e-01, -1.17207306e+00],\n",
       "         [ 5.14609872e-03,  1.31335913e-01,  1.28856851e-01, ...,\n",
       "          -7.29504525e-01, -8.79363672e-01,  7.71048100e-01]],\n",
       " \n",
       "        [[ 2.12885819e+00, -1.27504661e+00, -1.42141960e+00, ...,\n",
       "          -8.07595741e-01, -9.56594584e-01,  6.67137878e-01],\n",
       "         [ 2.11234960e+00, -1.26375037e+00, -1.40913355e+00, ...,\n",
       "          -3.84601651e-01, -6.39089723e-01,  5.10117986e-01],\n",
       "         [ 2.12296227e+00, -1.28182436e+00, -1.42812108e+00, ...,\n",
       "          -7.36012126e-01, -8.96526097e-01,  7.34102244e-01],\n",
       "         ...,\n",
       "         [-4.05210264e-01, -2.82106660e-01, -2.48660037e-01, ...,\n",
       "           1.30086711e+00,  8.32588212e-01, -1.62916258e+00],\n",
       "         [-4.37048257e-01, -3.52143380e-01, -3.16791783e-01, ...,\n",
       "           1.47657235e+00,  1.40752945e+00, -1.67973223e+00],\n",
       "         [-4.47660922e-01, -4.48161464e-01, -4.10612548e-01, ...,\n",
       "           1.49021664e-01, -5.55672765e-02, -1.86584698e+00]],\n",
       " \n",
       "        [[ 3.98993872e-01, -7.66715578e-01, -7.91480177e-01, ...,\n",
       "           1.69783080e+00,  1.45901672e+00, -1.72568364e+00],\n",
       "         [ 3.70693433e-01, -7.79141448e-01, -8.01532402e-01, ...,\n",
       "           6.04553762e-01,  7.38194875e-01, -1.80511723e+00],\n",
       "         [ 3.45930549e-01, -7.79141448e-01, -8.00415488e-01, ...,\n",
       "           7.08675385e-01,  5.83733051e-01, -1.74000015e+00],\n",
       "         ...,\n",
       "         [-1.33558719e+00, -1.30893535e+00, -1.19803683e+00, ...,\n",
       "          -6.18875301e-01, -6.21927298e-01,  6.25573789e-01],\n",
       "         [-1.29195735e+00, -1.32475009e+00, -1.21814128e+00, ...,\n",
       "          -5.01738476e-01, -6.90576998e-01,  7.09856525e-01],\n",
       "         [-1.27780713e+00, -1.29989835e+00, -1.19468608e+00, ...,\n",
       "          -9.83300979e-01, -9.90919433e-01,  1.28944466e+00]]]),\n",
       " array([ 0.72551841,  0.24090949,  0.82266612, -0.46397621, -1.01975147,\n",
       "         0.07372506, -1.89859934, -0.50012419,  1.00340604, -0.94519625,\n",
       "        -0.55660542,  0.68033343,  1.4529966 ,  1.0384244 ,  0.52896374,\n",
       "        -0.94858513,  0.47474177,  0.10422492,  0.95709144,  0.56285248,\n",
       "        -0.3069584 ,  0.67242606,  1.21125695,  0.1629654 ,  0.7526294 ,\n",
       "        -0.59953115, -0.22223656,  0.49959351,  0.41600129, -0.25273642,\n",
       "         0.04209558,  2.00425336, -0.06408913,  1.10507225, -0.22336619,\n",
       "         1.15477573, -0.10588524, -2.79100271,  0.31659433, -0.63906801,\n",
       "         2.05169759, -0.95762212, -0.76671558,  1.22820132, -0.32842127,\n",
       "        -0.47414283,  0.94127669, -0.94519625,  0.48829726, -0.78365995,\n",
       "         0.18329864,  0.25333536,  0.82040687, -0.7723637 ,  1.42814486,\n",
       "         0.54364886,  0.03192896,  0.56737098, -0.26064379, -0.07764462,\n",
       "         1.96697575, -1.31571309,  0.78764776, -0.04714476, -0.44251334,\n",
       "         0.47926026,  1.39425612,  0.52105637, -1.33830558,  0.00933647,\n",
       "        -1.15417679,  0.08841018,  0.35613119, -0.19964407,  0.83509199,\n",
       "        -0.05957063, -0.23579205, -0.79721544, -1.71898905,  1.14122023,\n",
       "         1.25870118,  0.94692481,  0.74924052,  0.64983357, -1.7076928 ,\n",
       "         0.35613119,  0.6972778 , -0.48092058, -1.54276762,  0.91981383,\n",
       "         0.32224246,  0.3380572 , -1.26149112,  2.89213823,  0.20024301,\n",
       "         0.12229892, -2.50407809, -1.22647276,  0.82944386, -0.23579205,\n",
       "        -0.04940401, -1.1869359 ,  1.02373928, -0.72266022,  1.25983081,\n",
       "        -0.50464269,  0.79781438, -2.83731732, -1.33039821, -0.57693866,\n",
       "        -0.18495895,  1.36827476, -1.29989835, -0.33181014, -0.1273481 ,\n",
       "         0.22961325,  1.17059047,  0.49507501,  1.16042385, -0.1872182 ,\n",
       "        -0.03471889, -0.24144018, -0.44251334, -1.04121434, -0.3668285 ,\n",
       "         0.19798376, -0.10136674, -1.84550699]))"
      ]
     },
     "execution_count": 35,
     "metadata": {},
     "output_type": "execute_result"
    }
   ],
   "source": [
    "next_batch = next(train_gen)\n",
    "# type(next_batch)\n",
    "next_batch"
   ]
  },
  {
   "cell_type": "code",
   "execution_count": 36,
   "metadata": {
    "colab": {
     "base_uri": "https://localhost:8080/"
    },
    "id": "V7Yv5FL3Q68w",
    "outputId": "587ea05a-97fd-4541-8707-90fc8b0248b5"
   },
   "outputs": [],
   "source": [
    "# samples, targets = next(val_gen)\n",
    "\n",
    "# samples.shape, targets.shape"
   ]
  },
  {
   "cell_type": "markdown",
   "metadata": {
    "id": "zlOP0eDN4Ny3"
   },
   "source": [
    "Немного разберемся с процедурой формирования батча\\\n",
    "Создадим generator с небольшими значениями параметров, чтобы все можно было увидеть глазами"
   ]
  },
  {
   "cell_type": "code",
   "execution_count": 37,
   "metadata": {
    "id": "9zTR4k4z4M2g"
   },
   "outputs": [],
   "source": [
    "lookback = 1440\n",
    "step = 6\n",
    "delay = 144\n",
    "batch_size = 8\n",
    "\n",
    "tmp_gen = generator(float_data,\n",
    "                      lookback=lookback,\n",
    "                      delay=delay,\n",
    "                      min_index=0,\n",
    "                      max_index=200000,\n",
    "                      shuffle=False,\n",
    "                      step=step, \n",
    "                      batch_size=batch_size)\n",
    "\n",
    "samples, targets = next(tmp_gen)"
   ]
  },
  {
   "cell_type": "code",
   "execution_count": 40,
   "metadata": {},
   "outputs": [
    {
     "data": {
      "text/plain": [
       "array([-2.08385776, -2.04770978, -2.01495067, -2.04770978, -2.05900603,\n",
       "       -2.03754316, -2.02737654, -2.03641354])"
      ]
     },
     "execution_count": 40,
     "metadata": {},
     "output_type": "execute_result"
    }
   ],
   "source": [
    "# samples\n",
    "# targets"
   ]
  },
  {
   "cell_type": "markdown",
   "metadata": {
    "id": "Iz29yH-65JE8"
   },
   "source": [
    "Посмотрим на значения, которые вернул генератор, а именно на 0 и 6 элемент в батче (ВАЖНО: элементы в батче не перемешивались). 0 и 6 выбраны потому, что step=6, значит значения в `samples` под указанными индексами должны быть одинаковыми, только сдвинутыми на 1 относительно друг друга\n",
    "\n",
    "`samples` имеет вид $bs \\times SeqLen \\times \\#features$"
   ]
  },
  {
   "cell_type": "code",
   "execution_count": 41,
   "metadata": {
    "colab": {
     "base_uri": "https://localhost:8080/"
    },
    "id": "qHPikmbX3rpk",
    "outputId": "ff256f57-f6ed-4486-a989-bd4b3d79062c"
   },
   "outputs": [
    {
     "name": "stdout",
     "output_type": "stream",
     "text": [
      "[-1.93135845 -1.88617347 -2.02511729 -2.02398767 -2.06804302]\n",
      "[-1.88617347 -2.02511729 -2.02398767 -2.06804302 -2.1177465 ]\n"
     ]
    }
   ],
   "source": [
    "idx1, idx2 = 0, 6\n",
    "seqlen = 5\n",
    "feature = 1\n",
    "\n",
    "print(samples[idx1, :seqlen, feature])\n",
    "print(samples[idx2, :seqlen, feature])"
   ]
  },
  {
   "cell_type": "code",
   "execution_count": 42,
   "metadata": {
    "colab": {
     "base_uri": "https://localhost:8080/"
    },
    "id": "0nMQTkkz6ZxP",
    "outputId": "4c689ed8-e04f-458c-a1c9-127bc4894ebd"
   },
   "outputs": [
    {
     "data": {
      "text/plain": [
       "array([-2.08385776, -2.04770978, -2.01495067, -2.04770978, -2.05900603])"
      ]
     },
     "execution_count": 42,
     "metadata": {},
     "output_type": "execute_result"
    }
   ],
   "source": [
    "targets[:seqlen]"
   ]
  },
  {
   "cell_type": "markdown",
   "metadata": {
    "id": "nxw92Mjw6wGl"
   },
   "source": [
    "### Вывод:\n",
    "В семинарском ноутбуке мы учили модель POS tagger, которая предсказывала для каждого слова (токена) в предложении его tag, т.е. часть речи. Поэтому в конструкции `nn.LSTM().forward()`, которая возвращает *`Outputs: output, (h_n, c_n)`*, нас интересовала только первая часть `output`. Она представляет собой последовательность выходов ячеек LSTM для каждого токена. \n",
    "\n",
    "Напротив, в рассматриваемой задаче нам нужно по временному ряду метеоролигических показателей (например, температура) получить 1 число: прогноз температуры через 24 часа. Соответственно теперь нас будет интересовать h_n среди выходов слоя `nn.LSTM`\n",
    "\n",
    "Перед тем как реализовать реккурентную архитектуру сделаем бэйслайн прогноз"
   ]
  },
  {
   "cell_type": "markdown",
   "metadata": {
    "id": "h9meg6YsHjS1"
   },
   "source": [
    "## Здравый смысл, бейзлайн\n",
    "\n",
    "\n",
    "\n",
    "В нашем случае температурные временные ряды можно смело считать периодическими (завтра температура, вероятно, будет близка к\n",
    "температура сегодня). Таким образом, подход здравого смысла будет всегда предсказывать, что температура через\n",
    "24 часа будут равны температуре прямо сейчас. Давайте оценим этот подход, используя метрику средней абсолютной ошибки (MAE).\n"
   ]
  },
  {
   "cell_type": "code",
   "execution_count": 43,
   "metadata": {
    "colab": {
     "base_uri": "https://localhost:8080/"
    },
    "id": "qrOTJaNmHjS1",
    "outputId": "3482cf1a-3ac2-4f87-879e-632e16e29f50"
   },
   "outputs": [
    {
     "name": "stderr",
     "output_type": "stream",
     "text": [
      "100%|███████████████████████████████████████████████████████████████████████████████| 769/769 [00:03<00:00, 211.96it/s]"
     ]
    },
    {
     "name": "stdout",
     "output_type": "stream",
     "text": [
      "MAE = 0.2780\n"
     ]
    },
    {
     "name": "stderr",
     "output_type": "stream",
     "text": [
      "\n"
     ]
    }
   ],
   "source": [
    "from tqdm import tqdm\n",
    "\n",
    "def evaluate_naive_method():\n",
    "    batch_maes = []\n",
    "    for step in tqdm(range(val_steps)):\n",
    "        samples, targets = next(val_gen)\n",
    "        preds = samples[:, -1, 1] # (все объекты выборки; время, соотвествующее моменту \"сейчас\"; столбец температура)\n",
    "        mae = np.mean(np.abs(preds - targets))\n",
    "        batch_maes.append(mae)\n",
    "    print(f'MAE = {np.mean(batch_maes):.4f}')\n",
    "    \n",
    "evaluate_naive_method()"
   ]
  },
  {
   "cell_type": "markdown",
   "metadata": {},
   "source": [
    "Вроде более-менее понятно, попробуем побить baseline"
   ]
  },
  {
   "cell_type": "markdown",
   "metadata": {
    "id": "exHIH-3OHjS1"
   },
   "source": [
    "## Реккурентная сетка\n",
    "### Домашнее задание: \n",
    "Написать и обучить свою реккурентную сеть. Предлагается применить все возможные методы: bidirectional, num_layers ...\n",
    "\n",
    "Жестких критериев, по которым будет оцениваться работа, нет\n",
    "- Необходимо обучить модель и получить достойное качество\n",
    "- Необходимо реализовать сеть через класс\n",
    "- Нужно выделить на данных как train, так и val датасеты\n",
    "- При появлении симптомов переобучения воспользоваться техникой early stopping. \n",
    "- Нужно построить графики для качества модели и Loss\n",
    "- Может помочь [Dropout](https://towardsdatascience.com/12-main-dropout-methods-mathematical-and-visual-explanation-58cdc2112293) (не факт)\n",
    "\n",
    "Для начала нам нужно предобработать данные:\n",
    "\n",
    "* Предварительная обработка данных до формата, который нейронная сеть может принять. Каждый временной ряд в данных имеет разный масштаб (например, температура обычно составляет от -20 до +30, но\n",
    "давление, измеренное в мбар, составляет около 1000). Поэтому нужно всё нормализовывать\n",
    "\n"
   ]
  },
  {
   "cell_type": "markdown",
   "metadata": {},
   "source": [
    "### Импорт библиотек"
   ]
  },
  {
   "cell_type": "markdown",
   "metadata": {},
   "source": [
    "По аналогии с семинарской частью, импортируем библиотеки"
   ]
  },
  {
   "cell_type": "code",
   "execution_count": 45,
   "metadata": {
    "id": "j1A-zYOgrykO"
   },
   "outputs": [],
   "source": [
    "import numpy as np\n",
    "\n",
    "import torch\n",
    "import torch.nn as nn\n",
    "import torch.nn.functional as F\n",
    "import torch.optim as optim\n",
    "\n",
    "\n",
    "if torch.cuda.is_available():\n",
    "    from torch.cuda import FloatTensor, LongTensor\n",
    "else:\n",
    "    from torch import FloatTensor, LongTensor\n",
    "\n",
    "np.random.seed(42)"
   ]
  },
  {
   "cell_type": "markdown",
   "metadata": {
    "id": "85rknkpCrym5"
   },
   "source": [
    "### Формирование train и test"
   ]
  },
  {
   "cell_type": "markdown",
   "metadata": {
    "id": "hab7Kpp_rypd"
   },
   "source": [
    "Это было сделано до нас ранее в тетрадке. Ещё раз:"
   ]
  },
  {
   "cell_type": "code",
   "execution_count": 47,
   "metadata": {},
   "outputs": [],
   "source": [
    "train_gen = generator(float_data,\n",
    "                      lookback=lookback,\n",
    "                      delay=delay,\n",
    "                      min_index=0,\n",
    "                      max_index=TRAIN_VAL_TH,\n",
    "                      shuffle=True,\n",
    "                      step=step, \n",
    "                      batch_size=batch_size)\n",
    "val_gen = generator(float_data,\n",
    "                    lookback=lookback,\n",
    "                    delay=delay,\n",
    "                    min_index=TRAIN_VAL_TH+1,\n",
    "                    max_index=VAL_TEST_TH,\n",
    "                    step=step,\n",
    "                    batch_size=batch_size)"
   ]
  },
  {
   "cell_type": "markdown",
   "metadata": {},
   "source": [
    "### Размышления о подходах к решению задачи"
   ]
  },
  {
   "cell_type": "markdown",
   "metadata": {},
   "source": [
    "Что я понимаю по существу архитектуры сети и подходам к задаче:\n",
    "    1. Это должна быть одна или двусторонняя рекурентная сеть.\n",
    "    2. Первым может идти GRU или LSTM (Никита говорил, что лучше начинать с LSTM, потом менять на GRU, чтобы сильно ускорить работу сети, но с побочным эффектом: как правило, небольшим падением качества). \n",
    "    3. На входе сеть должна предсказывать одно число (температуру), т.е. далее должен идти линейный слой, который из размерности hidden_dim переведет наши данные в одно число.\n",
    "    4. Как написал Никита в тетради, данное число-прогноз мы будем брать из слоя h_n (выход из скрытого слоя последней ячейки, насколько понимаю).\n",
    "    5. Вопрос по количество слоёв в рекурентной сети мнения, необходимости двусторонной архитектуры, и целесообразности использования drop_out мнения нет, видимо придётся оценивать практически.\n",
    "    6. Нужно оценить качество прогноза полученного значения h_n какой-то какой-то метрикой (Точно что не CrossEntropyLoss, т.к. не классификация. MAE? RMSE? - посмотрю как это делалось на семинарах. Градиентный спуск будем делать с помощью Adam, как дающим чаще всего норм. результат. Ну и про RSMProm подумаю)"
   ]
  },
  {
   "cell_type": "markdown",
   "metadata": {},
   "source": [
    "### Модель 1: Односторонняя LSTM + линейный слой"
   ]
  },
  {
   "cell_type": "markdown",
   "metadata": {},
   "source": [
    "#### Архитектура"
   ]
  },
  {
   "cell_type": "code",
   "execution_count": 52,
   "metadata": {},
   "outputs": [],
   "source": [
    "class SimpleRNN(nn.Module):\n",
    "\tdef __init__(self, input_data, hidden_dim, num_layers):\n",
    "\t\tsuper().__init__()\n",
    "\t\tself.lstm = nn.LSTM(input_data, hidden_dim, num_layers=num_layers, batch_first=True)  # LSTM-слой\n",
    "\t\t# сделали True, потому что у нас `samples` имеет вид batch_size * SeqLen  * features\n",
    "\t\tself.output_layer = nn.Linear(hidden_dim, 1)  # линейный слой, выдающий на выходе одно значение - прогноз\n",
    "\n",
    "\tdef forward(self, x_train):\n",
    "\t\tlstm_out, (h_n, c_n) = self.lstm(x_train)\n",
    "\t\th_n_out = self.output_layer(h_n.squeeze())\n",
    "\t\treturn h_n_out.squeeze()  # без squeeze размерность h_n_out не позволяет корректно запускать модель"
   ]
  },
  {
   "cell_type": "code",
   "execution_count": 67,
   "metadata": {},
   "outputs": [],
   "source": [
    "DEVICE = torch.device('cuda:0' if torch.cuda.is_available() else 'cpu')\n",
    "INPUT_DATA = float_data.shape[1]\n",
    "HIDDEN_DIM = 28  # у нас 14 параметров на входе. Наверное есть смысл скрытый слой делать кратным. Пусть будет *2\n",
    "NUM_LAYERS = 1  # для первой модели\n",
    "\n",
    "EPOCHS = 10  # от балды\n",
    "LR = 0.005  # от балды"
   ]
  },
  {
   "cell_type": "markdown",
   "metadata": {},
   "source": [
    "Небольшой тест..."
   ]
  },
  {
   "cell_type": "code",
   "execution_count": 55,
   "metadata": {},
   "outputs": [],
   "source": [
    "test_model = SimpleRNN(input_data=INPUT_DATA,\n",
    "                    hidden_dim=HIDDEN_DIM,\n",
    "                    num_layers=NUM_LAYERS)"
   ]
  },
  {
   "cell_type": "code",
   "execution_count": 56,
   "metadata": {},
   "outputs": [
    {
     "data": {
      "text/plain": [
       "SimpleRNN(\n",
       "  (lstm): LSTM(14, 28, batch_first=True)\n",
       "  (output_layer): Linear(in_features=28, out_features=1, bias=True)\n",
       ")"
      ]
     },
     "execution_count": 56,
     "metadata": {},
     "output_type": "execute_result"
    }
   ],
   "source": [
    "test_model  # не могу понять, что с bias делаем... Пусть остаётся по дефолту True"
   ]
  },
  {
   "cell_type": "markdown",
   "metadata": {},
   "source": [
    "Ну ок, что-то происходит, оставим так..."
   ]
  },
  {
   "cell_type": "markdown",
   "metadata": {},
   "source": [
    "#### Класс обучения/валидации/применения модели"
   ]
  },
  {
   "cell_type": "markdown",
   "metadata": {},
   "source": [
    "Данный класс будет состоять из четырёх модулей: \n",
    "1) инициализирующий основные параметры обучения, \n",
    "2) модуль для тренировки модели\n",
    "3) модуль валидации\n",
    "4) модуль применения обученной модели на тестовых данных"
   ]
  },
  {
   "cell_type": "code",
   "execution_count": 64,
   "metadata": {},
   "outputs": [],
   "source": [
    "from collections import defaultdict"
   ]
  },
  {
   "cell_type": "code",
   "execution_count": 68,
   "metadata": {},
   "outputs": [],
   "source": [
    "class RunModel:\n",
    "\tdef __init__(self, train_steps, val_steps, train_gen, val_gen,\n",
    "\t             model, epochs=3, lr=0.05, gamma=0.1, weight_decay=5e-4,\n",
    "\t             plot_mode='print', device='cpu'):\n",
    "\t\t\"\"\" Задаются основные параметры модели: принимаемые батчи, \"\"\"\n",
    "\t\tprint(f'Using {device}')\n",
    "\t\tself.device = device\n",
    "\t\tself.plot_mode = plot_mode\n",
    "\t\tself.epochs = epochs\n",
    "\n",
    "\t\tself.model = model.to(device)\n",
    "\t\t# self.opt = torch.optim.RMSprop(self.model.parameters(), lr=lr, alpha=0.9, eps=1e-8)\n",
    "\t\tself.opt = torch.optim.Adam(self.model.parameters(), lr=lr, weight_decay=weight_decay)\n",
    "\t\tself.scheduler = torch.optim.lr_scheduler.StepLR(self.opt, step_size=3, gamma=gamma)  # регулятор шага град.спуска\n",
    "\t\tself.loss_func = nn.MSELoss()  # инициализирует нужную библиотеку для подсчета лосса\n",
    "\n",
    "\t\tself.train_steps = train_steps\n",
    "\t\tself.val_steps = val_steps\n",
    "\n",
    "\t\tself.train_gen = train_gen\n",
    "\t\tself.val_gen = val_gen\n",
    "\n",
    "\tdef train_model(self):\n",
    "\t\t\"\"\" Модуль для тренировки модели: берем батчи, считаем градиенты, рисуем метрики MAE и RMSE, обновляем веса, записываем историю метрик в словарь\"\"\"\n",
    "\t\tself.model.train()\n",
    "\t\ttrain_metrics_history = defaultdict(list)  # заводим словарь для сохранения динамики метрики на эпохе\n",
    "\t\tfor idx in range(self.train_steps):\n",
    "\t\t\tbatch, target = next(self.train_gen)\n",
    "\t\t\tbatch = torch.tensor(batch, dtype=torch.float).to(self.device)\n",
    "\t\t\ttarget = torch.tensor(target, dtype=torch.float).to(self.device)\n",
    "\n",
    "\t\t\tpredictions = self.model(batch)\n",
    "\t\t\tloss = self.loss_func(predictions, target)\n",
    "\n",
    "\t\t\twith torch.no_grad():\n",
    "\t\t\t\tmetric = torch.mean(torch.abs(target.cpu() - predictions.cpu())).item()\n",
    "\t\t\t\ttrain_metrics_history['MAE'].append(metric)\n",
    "\t\t\t\ttrain_metrics_history['RMSE'].append(loss.item() ** 0.5)\n",
    "\n",
    "\t\t\tself.opt.zero_grad()\n",
    "\t\t\tloss.backward()\n",
    "\t\t\tself.opt.step()\n",
    "\n",
    "\t\ttrain_dict_epoch = {k: np.mean(v) for k, v in train_metrics_history.items()}  # словарь значений метрик на каждой эпохе и вывод значений на обучении\n",
    "\t\tif self.plot_mode == 'print':\n",
    "\t\t\tprint(f'RMSE на трейне: {train_dict_epoch[\"RMSE\"]:.5f} | MAE на трейне: {train_dict_epoch[\"MAE\"]:.5f}')\n",
    "\n",
    "\t\treturn train_dict_epoch\n",
    "\n",
    "\tdef val_model(self):\n",
    "\t\t\"\"\" Модуль для валидации модели: берем батчи, считаем градиенты, рисуем метрики MAE и RMSE, обновляем веса, записываем историю метрик в словарь\"\"\"\n",
    "\t\tself.model.eval()\n",
    "\t\tval_metrics_history = defaultdict(list)\n",
    "\n",
    "\t\tfor idx in range(self.val_steps):\n",
    "\t\t\tbatch, target = next(self.val_gen)\n",
    "\t\t\tbatch = torch.tensor(batch, dtype=torch.float).to(self.device)\n",
    "\t\t\ttarget = torch.tensor(target, dtype=torch.float).to(self.device)\n",
    "\n",
    "\t\t\tpredictions = self.model(batch).squeeze()\n",
    "\t\t\tloss = self.loss_func(predictions, target)\n",
    "\n",
    "\t\t\twith torch.no_grad():  # градиенты на валидации не считаем\n",
    "\t\t\t\tmetric = torch.mean(torch.abs(target.cpu() - predictions.cpu())).item()\n",
    "\t\t\t\tval_metrics_history['MAE'].append(metric)\n",
    "\t\t\t\tval_metrics_history['RMSE'].append(loss.item() ** 0.5)\n",
    "\n",
    "\t\t\t# должно рисовать график в соответствующем режиме graph (кусок код взят из другой тетради). \n",
    "            # Код падает, проще убрать и перевести в режим 'print', чем разбираться, что не так с clear_output\n",
    "\t\t\tif (idx + 1) % 10 == 0:\n",
    "\t\t\t\tif self.plot_mode == 'graph':\n",
    "\t\t\t\t\tclear_output(True)\n",
    "\t\t\t\t\tplt.plot(history, label='loss')\n",
    "\t\t\t\t\tplt.yscale('log')\n",
    "\t\t\t\t\tplt.legend()\n",
    "\t\t\t\t\tplt.show()\n",
    "\n",
    "\t\tval_dict_epoch = {k: np.mean(v) for k, v in val_metrics_history.items()}\n",
    "\t\tif self.plot_mode == 'print':\n",
    "\t\t\tprint(f'RMSE на валидации: {val_dict_epoch[\"RMSE\"]:.5f} | MAE на валидации: {val_dict_epoch[\"MAE\"]:.5f}\\n')\n",
    "\n",
    "\t\treturn val_dict_epoch\n",
    "\n",
    "\tdef fit_model(self):\n",
    "\t\t\"\"\" \"\"\"\n",
    "\t\ttrain_history, val_history = defaultdict(list), defaultdict(list)\n",
    "\n",
    "\t\tfor epoch_num in tqdm(range(self.epochs)):\n",
    "\t\t\thist_tr_iter = self.train_model()\n",
    "\t\t\ttrain_history['RMSE'].append(hist_tr_iter['RMSE'])\n",
    "\t\t\ttrain_history['MAE'].append(hist_tr_iter['MAE'])\n",
    "\n",
    "\t\t\thist_val_iter = self.val_model()\n",
    "\t\t\tval_history['RMSE'].append(hist_val_iter['RMSE'])\n",
    "\t\t\tval_history['MAE'].append(hist_val_iter['MAE'])\n",
    "\n",
    "\t\t\tself.scheduler.step()\n",
    "\n",
    "\t\treturn train_history, val_history"
   ]
  },
  {
   "cell_type": "markdown",
   "metadata": {},
   "source": [
    "Фух, можно начинать тестировать работу..."
   ]
  },
  {
   "cell_type": "markdown",
   "metadata": {},
   "source": [
    "#### Запуск и осознание результатов"
   ]
  },
  {
   "cell_type": "code",
   "execution_count": 69,
   "metadata": {},
   "outputs": [],
   "source": [
    "model_simple = SimpleRNN(input_data=INPUT_DATA,\n",
    "                         hidden_dim=HIDDEN_DIM,\n",
    "                         num_layers=NUM_LAYERS)"
   ]
  },
  {
   "cell_type": "code",
   "execution_count": 70,
   "metadata": {},
   "outputs": [
    {
     "name": "stdout",
     "output_type": "stream",
     "text": [
      "Using cpu\n"
     ]
    }
   ],
   "source": [
    "run_model = RunModel(train_steps, val_steps, train_gen, val_gen, model_simple, epochs=EPOCHS, lr=LR,\n",
    "                     plot_mode='print', device=DEVICE)"
   ]
  },
  {
   "cell_type": "markdown",
   "metadata": {},
   "source": [
    "Как обучается за одну эпоху на трейне и валидации?"
   ]
  },
  {
   "cell_type": "code",
   "execution_count": 72,
   "metadata": {},
   "outputs": [
    {
     "name": "stdout",
     "output_type": "stream",
     "text": [
      "RMSE на трейне: 0.36030 | MAE на трейне: 0.29163\n"
     ]
    }
   ],
   "source": [
    "train_dict = run_model.train_model()"
   ]
  },
  {
   "cell_type": "code",
   "execution_count": 73,
   "metadata": {},
   "outputs": [
    {
     "name": "stdout",
     "output_type": "stream",
     "text": [
      "RMSE на валидации: 0.33504 | MAE на валидации: 0.32994\n",
      "\n"
     ]
    }
   ],
   "source": [
    "train_dictict_epoch = run_model.val_model()"
   ]
  },
  {
   "cell_type": "markdown",
   "metadata": {},
   "source": [
    "Модель на валидации показывает хуже, чем в Baseline. \n",
    "Посмотрим что за все эпохи, но, мне кажется, потребуется в любом случае  существенно улучшать модель"
   ]
  },
  {
   "cell_type": "code",
   "execution_count": 74,
   "metadata": {
    "scrolled": true
   },
   "outputs": [
    {
     "name": "stderr",
     "output_type": "stream",
     "text": [
      "\r",
      "  0%|                                                                                           | 0/10 [00:00<?, ?it/s]"
     ]
    },
    {
     "name": "stdout",
     "output_type": "stream",
     "text": [
      "RMSE на трейне: 0.35766 | MAE на трейне: 0.28786\n"
     ]
    },
    {
     "name": "stderr",
     "output_type": "stream",
     "text": [
      "\r",
      " 10%|████████▎                                                                          | 1/10 [01:23<12:35, 84.00s/it]"
     ]
    },
    {
     "name": "stdout",
     "output_type": "stream",
     "text": [
      "RMSE на валидации: 0.29839 | MAE на валидации: 0.29195\n",
      "\n",
      "RMSE на трейне: 0.35423 | MAE на трейне: 0.28758\n"
     ]
    },
    {
     "name": "stderr",
     "output_type": "stream",
     "text": [
      "\r",
      " 20%|████████████████▌                                                                  | 2/10 [02:48<11:12, 84.07s/it]"
     ]
    },
    {
     "name": "stdout",
     "output_type": "stream",
     "text": [
      "RMSE на валидации: 0.28738 | MAE на валидации: 0.27662\n",
      "\n",
      "RMSE на трейне: 0.34577 | MAE на трейне: 0.28085\n"
     ]
    },
    {
     "name": "stderr",
     "output_type": "stream",
     "text": [
      "\r",
      " 30%|████████████████████████▉                                                          | 3/10 [04:10<09:44, 83.54s/it]"
     ]
    },
    {
     "name": "stdout",
     "output_type": "stream",
     "text": [
      "RMSE на валидации: 0.21036 | MAE на валидации: 0.20393\n",
      "\n",
      "RMSE на трейне: 0.34340 | MAE на трейне: 0.27747\n"
     ]
    },
    {
     "name": "stderr",
     "output_type": "stream",
     "text": [
      "\r",
      " 40%|█████████████████████████████████▏                                                 | 4/10 [05:33<08:20, 83.43s/it]"
     ]
    },
    {
     "name": "stdout",
     "output_type": "stream",
     "text": [
      "RMSE на валидации: 0.31089 | MAE на валидации: 0.30600\n",
      "\n",
      "RMSE на трейне: 0.34038 | MAE на трейне: 0.27601\n"
     ]
    },
    {
     "name": "stderr",
     "output_type": "stream",
     "text": [
      "\r",
      " 50%|█████████████████████████████████████████▌                                         | 5/10 [06:58<06:58, 83.69s/it]"
     ]
    },
    {
     "name": "stdout",
     "output_type": "stream",
     "text": [
      "RMSE на валидации: 0.26589 | MAE на валидации: 0.26161\n",
      "\n",
      "RMSE на трейне: 0.34140 | MAE на трейне: 0.27576\n"
     ]
    },
    {
     "name": "stderr",
     "output_type": "stream",
     "text": [
      "\r",
      " 60%|█████████████████████████████████████████████████▊                                 | 6/10 [08:21<05:34, 83.54s/it]"
     ]
    },
    {
     "name": "stdout",
     "output_type": "stream",
     "text": [
      "RMSE на валидации: 0.26413 | MAE на валидации: 0.26012\n",
      "\n",
      "RMSE на трейне: 0.34211 | MAE на трейне: 0.27629\n"
     ]
    },
    {
     "name": "stderr",
     "output_type": "stream",
     "text": [
      "\r",
      " 70%|██████████████████████████████████████████████████████████                         | 7/10 [09:43<04:09, 83.07s/it]"
     ]
    },
    {
     "name": "stdout",
     "output_type": "stream",
     "text": [
      "RMSE на валидации: 0.26026 | MAE на валидации: 0.25485\n",
      "\n",
      "RMSE на трейне: 0.34013 | MAE на трейне: 0.27517\n"
     ]
    },
    {
     "name": "stderr",
     "output_type": "stream",
     "text": [
      "\r",
      " 80%|██████████████████████████████████████████████████████████████████▍                | 8/10 [11:05<02:45, 82.95s/it]"
     ]
    },
    {
     "name": "stdout",
     "output_type": "stream",
     "text": [
      "RMSE на валидации: 0.30077 | MAE на валидации: 0.29487\n",
      "\n",
      "RMSE на трейне: 0.33810 | MAE на трейне: 0.27359\n"
     ]
    },
    {
     "name": "stderr",
     "output_type": "stream",
     "text": [
      "\r",
      " 90%|██████████████████████████████████████████████████████████████████████████▋        | 9/10 [12:28<01:22, 82.74s/it]"
     ]
    },
    {
     "name": "stdout",
     "output_type": "stream",
     "text": [
      "RMSE на валидации: 0.29430 | MAE на валидации: 0.28805\n",
      "\n",
      "RMSE на трейне: 0.33714 | MAE на трейне: 0.27259\n"
     ]
    },
    {
     "name": "stderr",
     "output_type": "stream",
     "text": [
      "100%|██████████████████████████████████████████████████████████████████████████████████| 10/10 [13:49<00:00, 82.92s/it]"
     ]
    },
    {
     "name": "stdout",
     "output_type": "stream",
     "text": [
      "RMSE на валидации: 0.27642 | MAE на валидации: 0.26963\n",
      "\n"
     ]
    },
    {
     "name": "stderr",
     "output_type": "stream",
     "text": [
      "\n"
     ]
    }
   ],
   "source": [
    "train_history, val_history = run_model.fit_model()"
   ]
  },
  {
   "cell_type": "code",
   "execution_count": null,
   "metadata": {},
   "outputs": [],
   "source": [
    "После четвертой эпохи ошибка начинает неплохо уменьшаться, что связываю с работой sheduler.\n",
    "В целом работает обучается на уровне baseline.\n",
    "Результаты можно улучшить количеством эпох, и, видимо, уменьшением learning rate.\n",
    "\n",
    "Но перед тонкой настройкой попробую для начала поменять архитектуры, вдруг можно без возни улучшить качественно модели.\n",
    "Для ускорения работы снижу количество эпох до шести. Когда найду устраивающую архитектуру, подниму количество эпох."
   ]
  },
  {
   "cell_type": "markdown",
   "metadata": {},
   "source": [
    "### Модель 2: Односторонняя LSTM c тремя слоями + меньше lr+ линейный слой"
   ]
  },
  {
   "cell_type": "code",
   "execution_count": 79,
   "metadata": {},
   "outputs": [],
   "source": [
    "EPOCHS = 6  # от балды\n",
    "LR = 0.001  # от балды\n",
    "NUM_LAYERS = 3"
   ]
  },
  {
   "cell_type": "code",
   "execution_count": 80,
   "metadata": {},
   "outputs": [],
   "source": [
    "model_simple_3layers = SimpleRNN(input_data=INPUT_DATA,\n",
    "                         hidden_dim=HIDDEN_DIM,\n",
    "                         num_layers=NUM_LAYERS)"
   ]
  },
  {
   "cell_type": "code",
   "execution_count": 81,
   "metadata": {},
   "outputs": [
    {
     "name": "stdout",
     "output_type": "stream",
     "text": [
      "Using cpu\n"
     ]
    }
   ],
   "source": [
    "run_model_2 = RunModel(train_steps, val_steps, train_gen, val_gen, model_simple_3layers, epochs=EPOCHS, lr=LR,\n",
    "                     plot_mode='print', device=DEVICE)"
   ]
  },
  {
   "cell_type": "code",
   "execution_count": 82,
   "metadata": {},
   "outputs": [
    {
     "name": "stderr",
     "output_type": "stream",
     "text": [
      "  0%|                                                                                            | 0/6 [00:00<?, ?it/s]C:\\Users\\maxle\\anaconda3\\lib\\site-packages\\torch\\nn\\modules\\loss.py:445: UserWarning: Using a target size (torch.Size([8])) that is different to the input size (torch.Size([3, 8])). This will likely lead to incorrect results due to broadcasting. Please ensure they have the same size.\n",
      "  return F.mse_loss(input, target, reduction=self.reduction)\n"
     ]
    },
    {
     "name": "stdout",
     "output_type": "stream",
     "text": [
      "RMSE на трейне: 0.39221 | MAE на трейне: 0.31730\n"
     ]
    },
    {
     "name": "stderr",
     "output_type": "stream",
     "text": [
      "\r",
      " 17%|█████████████▊                                                                     | 1/6 [05:05<25:27, 305.54s/it]"
     ]
    },
    {
     "name": "stdout",
     "output_type": "stream",
     "text": [
      "RMSE на валидации: 0.25984 | MAE на валидации: 0.25264\n",
      "\n",
      "RMSE на трейне: 0.35955 | MAE на трейне: 0.29050\n"
     ]
    },
    {
     "name": "stderr",
     "output_type": "stream",
     "text": [
      "\r",
      " 33%|███████████████████████████▋                                                       | 2/6 [10:30<20:44, 311.23s/it]"
     ]
    },
    {
     "name": "stdout",
     "output_type": "stream",
     "text": [
      "RMSE на валидации: 0.26386 | MAE на валидации: 0.25797\n",
      "\n",
      "RMSE на трейне: 0.35401 | MAE на трейне: 0.28580\n"
     ]
    },
    {
     "name": "stderr",
     "output_type": "stream",
     "text": [
      "\r",
      " 50%|█████████████████████████████████████████▌                                         | 3/6 [15:55<15:46, 315.41s/it]"
     ]
    },
    {
     "name": "stdout",
     "output_type": "stream",
     "text": [
      "RMSE на валидации: 0.27925 | MAE на валидации: 0.27559\n",
      "\n",
      "RMSE на трейне: 0.35534 | MAE на трейне: 0.28734\n"
     ]
    },
    {
     "name": "stderr",
     "output_type": "stream",
     "text": [
      "\r",
      " 67%|███████████████████████████████████████████████████████▎                           | 4/6 [21:21<10:37, 318.63s/it]"
     ]
    },
    {
     "name": "stdout",
     "output_type": "stream",
     "text": [
      "RMSE на валидации: 0.22487 | MAE на валидации: 0.22128\n",
      "\n",
      "RMSE на трейне: 0.35261 | MAE на трейне: 0.28493\n"
     ]
    },
    {
     "name": "stderr",
     "output_type": "stream",
     "text": [
      "\r",
      " 83%|█████████████████████████████████████████████████████████████████████▏             | 5/6 [26:49<05:21, 321.60s/it]"
     ]
    },
    {
     "name": "stdout",
     "output_type": "stream",
     "text": [
      "RMSE на валидации: 0.21402 | MAE на валидации: 0.20812\n",
      "\n",
      "RMSE на трейне: 0.34033 | MAE на трейне: 0.27505\n"
     ]
    },
    {
     "name": "stderr",
     "output_type": "stream",
     "text": [
      "100%|███████████████████████████████████████████████████████████████████████████████████| 6/6 [32:14<00:00, 322.45s/it]"
     ]
    },
    {
     "name": "stdout",
     "output_type": "stream",
     "text": [
      "RMSE на валидации: 0.32487 | MAE на валидации: 0.31970\n",
      "\n"
     ]
    },
    {
     "name": "stderr",
     "output_type": "stream",
     "text": [
      "\n"
     ]
    }
   ],
   "source": [
    "train_history, val_history = run_model_2.fit_model()"
   ]
  },
  {
   "cell_type": "markdown",
   "metadata": {},
   "source": [
    "Так, ругается, что при трехслойной сетке у меня размер входного слоя [3, 8], а мне нужно иметь на выходе размер [8]. Скорее всего, и результат посчитан неверно. Да и ужасно долго + качество после шести эпох хуже, чем в предыдущей реализации. Неудачный эксперимент. Может двунаправленную LSTM?"
   ]
  },
  {
   "cell_type": "markdown",
   "metadata": {},
   "source": [
    "### Модель 3: Двухсторонняя LSTM c одним слоем + меньше lr+ линейный слой"
   ]
  },
  {
   "cell_type": "code",
   "execution_count": 99,
   "metadata": {},
   "outputs": [],
   "source": [
    "EPOCHS = 6  # от балды\n",
    "LR = 0.001  # от балды\n",
    "NUM_LAYERS = 1\n",
    "\n",
    "class BiRNN(nn.Module):\n",
    "\tdef __init__(self, input_data, hidden_dim, num_layers):\n",
    "\t\tsuper().__init__()\n",
    "\t\tself.lstm = nn.LSTM(input_data, hidden_dim, num_layers=num_layers, bidirectional = True, batch_first=True)  \n",
    "\t\tself.output_layer = nn.Linear(hidden_dim, 1)\n",
    "\n",
    "\tdef forward(self, x_train):\n",
    "\t\tlstm_out, (h_n, c_n) = self.lstm(x_train)\n",
    "\t\th_n_out = self.output_layer(h_n.squeeze()*2)  # увеличиваем размерность выходного слоя в два раза\n",
    "\t\treturn h_n_out.squeeze()  # без squeeze размерность h_n_out не позволяет корректно запускать модель"
   ]
  },
  {
   "cell_type": "code",
   "execution_count": 100,
   "metadata": {},
   "outputs": [],
   "source": [
    "model_2dir = BiRNN(input_data=INPUT_DATA,\n",
    "                         hidden_dim=HIDDEN_DIM,\n",
    "                         num_layers=NUM_LAYERS)"
   ]
  },
  {
   "cell_type": "code",
   "execution_count": 101,
   "metadata": {},
   "outputs": [
    {
     "name": "stdout",
     "output_type": "stream",
     "text": [
      "Using cpu\n"
     ]
    }
   ],
   "source": [
    "run_model_3 = RunModel(train_steps, val_steps, train_gen, val_gen, model_2dir, epochs=EPOCHS, lr=LR,\n",
    "                     plot_mode='print', device=DEVICE)"
   ]
  },
  {
   "cell_type": "code",
   "execution_count": 102,
   "metadata": {
    "scrolled": true
   },
   "outputs": [
    {
     "name": "stderr",
     "output_type": "stream",
     "text": [
      "\r",
      "  0%|                                                                                            | 0/6 [00:00<?, ?it/s]"
     ]
    },
    {
     "name": "stdout",
     "output_type": "stream",
     "text": [
      "RMSE на трейне: 0.51334 | MAE на трейне: 0.40003\n"
     ]
    },
    {
     "name": "stderr",
     "output_type": "stream",
     "text": [
      "\r",
      " 17%|█████████████▊                                                                     | 1/6 [03:02<15:12, 182.58s/it]"
     ]
    },
    {
     "name": "stdout",
     "output_type": "stream",
     "text": [
      "RMSE на валидации: 0.43281 | MAE на валидации: 0.38425\n",
      "\n",
      "RMSE на трейне: 0.49883 | MAE на трейне: 0.38590\n"
     ]
    },
    {
     "name": "stderr",
     "output_type": "stream",
     "text": [
      "\r",
      " 33%|███████████████████████████▋                                                       | 2/6 [05:54<11:57, 179.46s/it]"
     ]
    },
    {
     "name": "stdout",
     "output_type": "stream",
     "text": [
      "RMSE на валидации: 0.41234 | MAE на валидации: 0.36447\n",
      "\n",
      "RMSE на трейне: 0.47923 | MAE на трейне: 0.37010\n"
     ]
    },
    {
     "name": "stderr",
     "output_type": "stream",
     "text": [
      "\r",
      " 50%|█████████████████████████████████████████▌                                         | 3/6 [08:43<08:49, 176.36s/it]"
     ]
    },
    {
     "name": "stdout",
     "output_type": "stream",
     "text": [
      "RMSE на валидации: 0.34620 | MAE на валидации: 0.30094\n",
      "\n",
      "RMSE на трейне: 0.47231 | MAE на трейне: 0.36719\n"
     ]
    },
    {
     "name": "stderr",
     "output_type": "stream",
     "text": [
      "\r",
      " 67%|███████████████████████████████████████████████████████▎                           | 4/6 [11:33<05:48, 174.42s/it]"
     ]
    },
    {
     "name": "stdout",
     "output_type": "stream",
     "text": [
      "RMSE на валидации: 0.41777 | MAE на валидации: 0.36741\n",
      "\n",
      "RMSE на трейне: 0.47137 | MAE на трейне: 0.36632\n"
     ]
    },
    {
     "name": "stderr",
     "output_type": "stream",
     "text": [
      "\r",
      " 83%|█████████████████████████████████████████████████████████████████████▏             | 5/6 [14:24<02:53, 173.18s/it]"
     ]
    },
    {
     "name": "stdout",
     "output_type": "stream",
     "text": [
      "RMSE на валидации: 0.34248 | MAE на валидации: 0.31030\n",
      "\n",
      "RMSE на трейне: 0.45298 | MAE на трейне: 0.35348\n"
     ]
    },
    {
     "name": "stderr",
     "output_type": "stream",
     "text": [
      "100%|███████████████████████████████████████████████████████████████████████████████████| 6/6 [17:14<00:00, 172.36s/it]"
     ]
    },
    {
     "name": "stdout",
     "output_type": "stream",
     "text": [
      "RMSE на валидации: 0.36855 | MAE на валидации: 0.32631\n",
      "\n"
     ]
    },
    {
     "name": "stderr",
     "output_type": "stream",
     "text": [
      "\n"
     ]
    }
   ],
   "source": [
    "train_history, val_history = run_model_3.fit_model()"
   ]
  },
  {
   "cell_type": "markdown",
   "metadata": {},
   "source": [
    "А может сразу из тяжелого калибра? Три слоя, двухсторонняя и максимум эпох обучения"
   ]
  },
  {
   "cell_type": "markdown",
   "metadata": {},
   "source": [
    "### Модель 4: Двухсторонняя LSTM c 3-мя слоями + меньше lr+ линейный слой+15 эпох"
   ]
  },
  {
   "cell_type": "markdown",
   "metadata": {},
   "source": [
    "Уже понятно, что для улучшения качества сходимости нужно увеличивать количество эпох, и вроде бы уменьшать learning_rate. Очень сильно улучшается сходимость на эпохе, когда вступает в работу sheduler, но пока трогать не буду.\n",
    "\n",
    "Давайте улучшим пока эпохи, LR наоборот чуть увеличим для ускорения. Сделаем это на довольно продвинутой версии LSTM: двухсторонняя модель в 3 слоя. Надеюсь, я дождусь работы этого до дедлайна :-)"
   ]
  },
  {
   "cell_type": "code",
   "execution_count": 135,
   "metadata": {},
   "outputs": [],
   "source": [
    "EPOCHS = 15  # увеличиваем\n",
    "LR = 0.05  # увеличиваем (но надо уменьшать по-хорошему)\n",
    "NUM_LAYERS = 3\n",
    "HIDDEN_DIM = 14\n",
    "\n",
    "class Bi3LRNN(nn.Module):\n",
    "\tdef __init__(self, input_data, hidden_dim, num_layers):\n",
    "\t\tsuper().__init__()\n",
    "\t\tself.lstm = nn.LSTM(input_data, hidden_dim, num_layers=num_layers, bidirectional = True, batch_first=True)  \n",
    "\t\tself.output_layer = nn.Linear(hidden_dim, 1)\n",
    "\n",
    "\tdef forward(self, x_train):\n",
    "\t\tlstm_out, (h_n, c_n) = self.lstm(x_train)\n",
    "\t\th_n_out = self.output_layer(h_n.squeeze())  \n",
    "\t\treturn h_n_out.squeeze()  # "
   ]
  },
  {
   "cell_type": "code",
   "execution_count": 136,
   "metadata": {},
   "outputs": [],
   "source": [
    "model_2dir3Lay = Bi3LRNN(input_data=INPUT_DATA,\n",
    "                         hidden_dim=HIDDEN_DIM,\n",
    "                         num_layers=NUM_LAYERS)"
   ]
  },
  {
   "cell_type": "code",
   "execution_count": 137,
   "metadata": {},
   "outputs": [
    {
     "name": "stdout",
     "output_type": "stream",
     "text": [
      "Using cpu\n"
     ]
    }
   ],
   "source": [
    "run_model_4 = RunModel(train_steps, val_steps, train_gen, val_gen, model_2dir3Lay, epochs=EPOCHS, lr=LR,\n",
    "                     plot_mode='print', device=DEVICE)"
   ]
  },
  {
   "cell_type": "code",
   "execution_count": 138,
   "metadata": {},
   "outputs": [
    {
     "name": "stderr",
     "output_type": "stream",
     "text": [
      "\r",
      "  0%|                                                                                           | 0/15 [00:00<?, ?it/s]"
     ]
    },
    {
     "name": "stdout",
     "output_type": "stream",
     "text": [
      "RMSE на трейне: 0.56548 | MAE на трейне: 0.44535\n"
     ]
    },
    {
     "name": "stderr",
     "output_type": "stream",
     "text": [
      "\r",
      "  7%|█████▎                                                                          | 1/15 [07:48<1:49:24, 468.91s/it]"
     ]
    },
    {
     "name": "stdout",
     "output_type": "stream",
     "text": [
      "RMSE на валидации: 0.65309 | MAE на валидации: 0.55442\n",
      "\n",
      "RMSE на трейне: 0.53433 | MAE на трейне: 0.42138\n"
     ]
    },
    {
     "name": "stderr",
     "output_type": "stream",
     "text": [
      "\r",
      " 13%|██████████▋                                                                     | 2/15 [15:29<1:41:03, 466.41s/it]"
     ]
    },
    {
     "name": "stdout",
     "output_type": "stream",
     "text": [
      "RMSE на валидации: 0.43406 | MAE на валидации: 0.39614\n",
      "\n",
      "RMSE на трейне: 0.52942 | MAE на трейне: 0.41861\n"
     ]
    },
    {
     "name": "stderr",
     "output_type": "stream",
     "text": [
      "\r",
      " 20%|████████████████                                                                | 3/15 [23:24<1:33:47, 468.92s/it]"
     ]
    },
    {
     "name": "stdout",
     "output_type": "stream",
     "text": [
      "RMSE на валидации: 0.55098 | MAE на валидации: 0.48833\n",
      "\n",
      "RMSE на трейне: 0.53941 | MAE на трейне: 0.42485\n"
     ]
    },
    {
     "name": "stderr",
     "output_type": "stream",
     "text": [
      "\r",
      " 27%|█████████████████████▎                                                          | 4/15 [31:11<1:25:52, 468.43s/it]"
     ]
    },
    {
     "name": "stdout",
     "output_type": "stream",
     "text": [
      "RMSE на валидации: 0.40913 | MAE на валидации: 0.36860\n",
      "\n",
      "RMSE на трейне: 0.53501 | MAE на трейне: 0.42249\n"
     ]
    },
    {
     "name": "stderr",
     "output_type": "stream",
     "text": [
      "\r",
      " 33%|██████████████████████████▋                                                     | 5/15 [38:59<1:18:02, 468.21s/it]"
     ]
    },
    {
     "name": "stdout",
     "output_type": "stream",
     "text": [
      "RMSE на валидации: 0.34724 | MAE на валидации: 0.31264\n",
      "\n",
      "RMSE на трейне: 0.41537 | MAE на трейне: 0.33312\n"
     ]
    },
    {
     "name": "stderr",
     "output_type": "stream",
     "text": [
      "\r",
      " 40%|████████████████████████████████                                                | 6/15 [46:48<1:10:16, 468.51s/it]"
     ]
    },
    {
     "name": "stdout",
     "output_type": "stream",
     "text": [
      "RMSE на валидации: 0.33162 | MAE на валидации: 0.30359\n",
      "\n",
      "RMSE на трейне: 0.38370 | MAE на трейне: 0.31056\n"
     ]
    },
    {
     "name": "stderr",
     "output_type": "stream",
     "text": [
      "\r",
      " 47%|█████████████████████████████████████▎                                          | 7/15 [54:40<1:02:36, 469.56s/it]"
     ]
    },
    {
     "name": "stdout",
     "output_type": "stream",
     "text": [
      "RMSE на валидации: 0.28665 | MAE на валидации: 0.26173\n",
      "\n",
      "RMSE на трейне: 0.36572 | MAE на трейне: 0.29595\n"
     ]
    },
    {
     "name": "stderr",
     "output_type": "stream",
     "text": [
      "\r",
      " 53%|██████████████████████████████████████████▋                                     | 8/15 [1:02:39<55:05, 472.27s/it]"
     ]
    },
    {
     "name": "stdout",
     "output_type": "stream",
     "text": [
      "RMSE на валидации: 0.31168 | MAE на валидации: 0.27786\n",
      "\n",
      "RMSE на трейне: 0.37013 | MAE на трейне: 0.29867\n"
     ]
    },
    {
     "name": "stderr",
     "output_type": "stream",
     "text": [
      "\r",
      " 60%|████████████████████████████████████████████████                                | 9/15 [1:10:29<47:10, 471.73s/it]"
     ]
    },
    {
     "name": "stdout",
     "output_type": "stream",
     "text": [
      "RMSE на валидации: 0.32558 | MAE на валидации: 0.31209\n",
      "\n",
      "RMSE на трейне: 0.36450 | MAE на трейне: 0.29579\n"
     ]
    },
    {
     "name": "stderr",
     "output_type": "stream",
     "text": [
      "\r",
      " 67%|████████████████████████████████████████████████████▋                          | 10/15 [1:18:20<39:17, 471.59s/it]"
     ]
    },
    {
     "name": "stdout",
     "output_type": "stream",
     "text": [
      "RMSE на валидации: 0.30066 | MAE на валидации: 0.28635\n",
      "\n",
      "RMSE на трейне: 0.34526 | MAE на трейне: 0.27956\n"
     ]
    },
    {
     "name": "stderr",
     "output_type": "stream",
     "text": [
      "\r",
      " 73%|█████████████████████████████████████████████████████████▉                     | 11/15 [1:26:12<31:26, 471.74s/it]"
     ]
    },
    {
     "name": "stdout",
     "output_type": "stream",
     "text": [
      "RMSE на валидации: 0.27956 | MAE на валидации: 0.26532\n",
      "\n",
      "RMSE на трейне: 0.34859 | MAE на трейне: 0.28270\n"
     ]
    },
    {
     "name": "stderr",
     "output_type": "stream",
     "text": [
      "\r",
      " 80%|███████████████████████████████████████████████████████████████▏               | 12/15 [1:34:03<23:34, 471.52s/it]"
     ]
    },
    {
     "name": "stdout",
     "output_type": "stream",
     "text": [
      "RMSE на валидации: 0.24107 | MAE на валидации: 0.22649\n",
      "\n",
      "RMSE на трейне: 0.34487 | MAE на трейне: 0.27869\n"
     ]
    },
    {
     "name": "stderr",
     "output_type": "stream",
     "text": [
      "\r",
      " 87%|████████████████████████████████████████████████████████████████████▍          | 13/15 [1:41:55<15:42, 471.41s/it]"
     ]
    },
    {
     "name": "stdout",
     "output_type": "stream",
     "text": [
      "RMSE на валидации: 0.30300 | MAE на валидации: 0.28961\n",
      "\n",
      "RMSE на трейне: 0.35024 | MAE на трейне: 0.28246\n"
     ]
    },
    {
     "name": "stderr",
     "output_type": "stream",
     "text": [
      "\r",
      " 93%|█████████████████████████████████████████████████████████████████████████▋     | 14/15 [1:49:50<07:52, 472.53s/it]"
     ]
    },
    {
     "name": "stdout",
     "output_type": "stream",
     "text": [
      "RMSE на валидации: 0.30014 | MAE на валидации: 0.29161\n",
      "\n",
      "RMSE на трейне: 0.34627 | MAE на трейне: 0.28153\n"
     ]
    },
    {
     "name": "stderr",
     "output_type": "stream",
     "text": [
      "100%|███████████████████████████████████████████████████████████████████████████████| 15/15 [1:57:46<00:00, 471.11s/it]"
     ]
    },
    {
     "name": "stdout",
     "output_type": "stream",
     "text": [
      "RMSE на валидации: 0.27490 | MAE на валидации: 0.26523\n",
      "\n"
     ]
    },
    {
     "name": "stderr",
     "output_type": "stream",
     "text": [
      "\n"
     ]
    }
   ],
   "source": [
    "train_history, val_history = run_model_4.fit_model()"
   ]
  },
  {
   "cell_type": "markdown",
   "metadata": {},
   "source": [
    "Ну что, интуиция сработала верно: результаты можно получить получше baseline.\n",
    "Но модель склонна падать в качестве, нестабильно ведёт себя в процессе обучения. \n",
    "Возможно, проблема в переобучении."
   ]
  },
  {
   "cell_type": "markdown",
   "metadata": {},
   "source": [
    "Сохраним эту модель"
   ]
  },
  {
   "cell_type": "code",
   "execution_count": 154,
   "metadata": {},
   "outputs": [],
   "source": [
    "torch.save(model_2dir3Lay, 'best_rnn.pth')"
   ]
  },
  {
   "cell_type": "markdown",
   "metadata": {},
   "source": [
    "### Модель 5: Добавляем dropout, уменьшаем количество эпох обучения"
   ]
  },
  {
   "cell_type": "code",
   "execution_count": 149,
   "metadata": {},
   "outputs": [],
   "source": [
    "EPOCHS = 12  \n",
    "LR = 0.05  # увеличиваем (но надо уменьшать по-хорошему)\n",
    "NUM_LAYERS = 3\n",
    "HIDDEN_DIM = 28\n",
    "\n",
    "class DropRNN(nn.Module):\n",
    "\tdef __init__(self, input_data, hidden_dim, num_layers):\n",
    "\t\tsuper().__init__()\n",
    "\t\tself.lstm = nn.LSTM(input_data, hidden_dim, num_layers=num_layers, dropout=0.2, bidirectional = True, batch_first=True)  \n",
    "\t\tself.output_layer = nn.Linear(hidden_dim, 1)\n",
    "\n",
    "\tdef forward(self, x_train):\n",
    "\t\tlstm_out, (h_n, c_n) = self.lstm(x_train)\n",
    "\t\th_n_out = self.output_layer(h_n.squeeze()*6) # 3 слоя в 2 стороны \n",
    "\t\treturn h_n_out.squeeze()  # "
   ]
  },
  {
   "cell_type": "code",
   "execution_count": 150,
   "metadata": {},
   "outputs": [],
   "source": [
    "model_drop = DropRNN(input_data=INPUT_DATA,\n",
    "                         hidden_dim=HIDDEN_DIM,\n",
    "                         num_layers=NUM_LAYERS)"
   ]
  },
  {
   "cell_type": "code",
   "execution_count": 151,
   "metadata": {},
   "outputs": [
    {
     "name": "stdout",
     "output_type": "stream",
     "text": [
      "Using cpu\n"
     ]
    }
   ],
   "source": [
    "run_model_5 = RunModel(train_steps, val_steps, train_gen, val_gen, model_drop, epochs=EPOCHS, lr=LR,\n",
    "                     plot_mode='print', device=DEVICE)"
   ]
  },
  {
   "cell_type": "code",
   "execution_count": 152,
   "metadata": {},
   "outputs": [
    {
     "name": "stderr",
     "output_type": "stream",
     "text": [
      "\r",
      "  0%|                                                                                           | 0/12 [00:00<?, ?it/s]"
     ]
    },
    {
     "name": "stdout",
     "output_type": "stream",
     "text": [
      "RMSE на трейне: 0.59528 | MAE на трейне: 0.46979\n"
     ]
    },
    {
     "name": "stderr",
     "output_type": "stream",
     "text": [
      "\r",
      "  8%|██████▋                                                                         | 1/12 [09:13<1:41:24, 553.17s/it]"
     ]
    },
    {
     "name": "stdout",
     "output_type": "stream",
     "text": [
      "RMSE на валидации: 0.46510 | MAE на валидации: 0.40648\n",
      "\n",
      "RMSE на трейне: 0.58354 | MAE на трейне: 0.46131\n"
     ]
    },
    {
     "name": "stderr",
     "output_type": "stream",
     "text": [
      "\r",
      " 17%|█████████████▎                                                                  | 2/12 [18:25<1:32:09, 552.93s/it]"
     ]
    },
    {
     "name": "stdout",
     "output_type": "stream",
     "text": [
      "RMSE на валидации: 0.52803 | MAE на валидации: 0.45445\n",
      "\n",
      "RMSE на трейне: 0.57494 | MAE на трейне: 0.45510\n"
     ]
    },
    {
     "name": "stderr",
     "output_type": "stream",
     "text": [
      "\r",
      " 25%|████████████████████                                                            | 3/12 [27:26<1:22:23, 549.30s/it]"
     ]
    },
    {
     "name": "stdout",
     "output_type": "stream",
     "text": [
      "RMSE на валидации: 0.46715 | MAE на валидации: 0.41075\n",
      "\n",
      "RMSE на трейне: 0.55533 | MAE на трейне: 0.44138\n"
     ]
    },
    {
     "name": "stderr",
     "output_type": "stream",
     "text": [
      "\r",
      " 33%|██████████████████████████▋                                                     | 4/12 [36:15<1:12:26, 543.31s/it]"
     ]
    },
    {
     "name": "stdout",
     "output_type": "stream",
     "text": [
      "RMSE на валидации: 0.51162 | MAE на валидации: 0.44649\n",
      "\n",
      "RMSE на трейне: 0.54692 | MAE на трейне: 0.43389\n"
     ]
    },
    {
     "name": "stderr",
     "output_type": "stream",
     "text": [
      "\r",
      " 42%|█████████████████████████████████▎                                              | 5/12 [44:46<1:02:14, 533.55s/it]"
     ]
    },
    {
     "name": "stdout",
     "output_type": "stream",
     "text": [
      "RMSE на валидации: 0.43474 | MAE на валидации: 0.38073\n",
      "\n",
      "RMSE на трейне: 0.46094 | MAE на трейне: 0.36641\n"
     ]
    },
    {
     "name": "stderr",
     "output_type": "stream",
     "text": [
      "\r",
      " 50%|█████████████████████████████████████████                                         | 6/12 [52:52<51:55, 519.19s/it]"
     ]
    },
    {
     "name": "stdout",
     "output_type": "stream",
     "text": [
      "RMSE на валидации: 0.36534 | MAE на валидации: 0.32643\n",
      "\n",
      "RMSE на трейне: 0.45280 | MAE на трейне: 0.36030\n"
     ]
    },
    {
     "name": "stderr",
     "output_type": "stream",
     "text": [
      "\r",
      " 58%|██████████████████████████████████████████████▋                                 | 7/12 [1:01:40<43:29, 521.82s/it]"
     ]
    },
    {
     "name": "stdout",
     "output_type": "stream",
     "text": [
      "RMSE на валидации: 0.38784 | MAE на валидации: 0.34641\n",
      "\n",
      "RMSE на трейне: 0.44773 | MAE на трейне: 0.35701\n"
     ]
    },
    {
     "name": "stderr",
     "output_type": "stream",
     "text": [
      "\r",
      " 67%|█████████████████████████████████████████████████████▎                          | 8/12 [1:10:40<35:09, 527.46s/it]"
     ]
    },
    {
     "name": "stdout",
     "output_type": "stream",
     "text": [
      "RMSE на валидации: 0.36657 | MAE на валидации: 0.32246\n",
      "\n",
      "RMSE на трейне: 0.44480 | MAE на трейне: 0.35481\n"
     ]
    },
    {
     "name": "stderr",
     "output_type": "stream",
     "text": [
      "\r",
      " 75%|████████████████████████████████████████████████████████████                    | 9/12 [1:19:39<26:32, 530.93s/it]"
     ]
    },
    {
     "name": "stdout",
     "output_type": "stream",
     "text": [
      "RMSE на валидации: 0.38704 | MAE на валидации: 0.33493\n",
      "\n",
      "RMSE на трейне: 0.44233 | MAE на трейне: 0.35311\n"
     ]
    },
    {
     "name": "stderr",
     "output_type": "stream",
     "text": [
      "\r",
      " 83%|█████████████████████████████████████████████████████████████████▊             | 10/12 [1:28:45<17:50, 535.34s/it]"
     ]
    },
    {
     "name": "stdout",
     "output_type": "stream",
     "text": [
      "RMSE на валидации: 0.48610 | MAE на валидации: 0.43469\n",
      "\n",
      "RMSE на трейне: 0.41565 | MAE на трейне: 0.33215\n"
     ]
    },
    {
     "name": "stderr",
     "output_type": "stream",
     "text": [
      "\r",
      " 92%|████████████████████████████████████████████████████████████████████████▍      | 11/12 [1:37:52<08:58, 538.95s/it]"
     ]
    },
    {
     "name": "stdout",
     "output_type": "stream",
     "text": [
      "RMSE на валидации: 0.40638 | MAE на валидации: 0.36324\n",
      "\n",
      "RMSE на трейне: 0.41068 | MAE на трейне: 0.32820\n"
     ]
    },
    {
     "name": "stderr",
     "output_type": "stream",
     "text": [
      "100%|███████████████████████████████████████████████████████████████████████████████| 12/12 [1:47:19<00:00, 536.61s/it]"
     ]
    },
    {
     "name": "stdout",
     "output_type": "stream",
     "text": [
      "RMSE на валидации: 0.38432 | MAE на валидации: 0.33797\n",
      "\n"
     ]
    },
    {
     "name": "stderr",
     "output_type": "stream",
     "text": [
      "\n"
     ]
    }
   ],
   "source": [
    "train_history, val_history = run_model_5.fit_model()"
   ]
  },
  {
   "cell_type": "markdown",
   "metadata": {},
   "source": [
    "Dropout не спасает, обучается хуже."
   ]
  },
  {
   "cell_type": "markdown",
   "metadata": {},
   "source": [
    "Тем временем, пока обучалась модель с dropout, нашёл откуда Никита взял эту историю: https://blogs.rstudio.com/ai/posts/2017-12-20-time-series-forecasting-with-recurrent-neural-networks/\n",
    "\n",
    "Там всё реализовано в Keras, но подходы ясны.\n",
    "\n",
    "В принципе понятно, что есть проблема переобучения, с которой борятся введением рекурентного дропаута: у автора в Keras идут в сеть и обычный, и рекурентный дропауты. Я же не знаю, что такое рекурентный дропаут в PyTorch и как его здесь реализовать."
   ]
  },
  {
   "cell_type": "markdown",
   "metadata": {},
   "source": [
    "В исходной записи также видно, что лучших результатов в предсказании на Keras добиваются при использовании однослойного двухтороннего LSTM с линейный слоем (активация сигмоида). Размерность скрытого слоя HIDDEN_DIM = 32, берется 10 эпох, а градиент оптимизируется с помощью RSMProp. В этой реализации не используется dropout вообще, я не понял почему. Видимо двухсторонняя LSTM не склонна к переобучению. Ещё один момент: если я правильно понял, именно GRU приводит к переобучению, и не даёт лучшее качество. Изначально я хотел попробовать в конце реализовать GRU, но теперь не буду."
   ]
  },
  {
   "cell_type": "markdown",
   "metadata": {},
   "source": [
    "### Модель 6: Имплементация лучшего подхода из оригинальной статьи"
   ]
  },
  {
   "cell_type": "markdown",
   "metadata": {},
   "source": [
    "Эту модель уже, пожалуй, но код напишу, но могу не успеть до дедлайна с результатом.\n",
    "\n",
    "Класс оставляем прежний, за исключением оптимизатора: берём не Adam, а RSMProp"
   ]
  },
  {
   "cell_type": "code",
   "execution_count": 156,
   "metadata": {},
   "outputs": [],
   "source": [
    "class RunOriginalModel:\n",
    "\tdef __init__(self, train_steps, val_steps, train_gen, val_gen,\n",
    "\t             model, epochs=3, lr=0.05, alpha=0.9, eps=1e-8, gamma=0.1, weight_decay=5e-4,\n",
    "\t             plot_mode='print', device='cpu'):\n",
    "\t\t\"\"\" Задаются основные параметры модели: принимаемые батчи, \"\"\"\n",
    "\t\tprint(f'Using {device}')\n",
    "\t\tself.device = device\n",
    "\t\tself.plot_mode = plot_mode\n",
    "\t\tself.epochs = epochs\n",
    "\n",
    "\t\tself.model = model.to(device)\n",
    "\t\tself.opt = torch.optim.RMSprop(self.model.parameters(), lr=lr, alpha=0.9, eps=1e-8)\n",
    "\t\tself.scheduler = torch.optim.lr_scheduler.StepLR(self.opt, step_size=2, gamma=gamma)  # регулятор шага град.спуска\n",
    "\t\tself.loss_func = nn.MSELoss()  # инициализирует нужную библиотеку для подсчета лосса\n",
    "\n",
    "\t\tself.train_steps = train_steps\n",
    "\t\tself.val_steps = val_steps\n",
    "\n",
    "\t\tself.train_gen = train_gen\n",
    "\t\tself.val_gen = val_gen\n",
    "\n",
    "\tdef train_model(self):\n",
    "\t\t\"\"\" Модуль для тренировки модели: берем батчи, считаем градиенты, рисуем метрики MAE и RMSE, обновляем веса, записываем историю метрик в словарь\"\"\"\n",
    "\t\tself.model.train()\n",
    "\t\ttrain_metrics_history = defaultdict(list)  # заводим словарь для сохранения динамики метрики на эпохе\n",
    "\t\tfor idx in range(self.train_steps):\n",
    "\t\t\tbatch, target = next(self.train_gen)\n",
    "\t\t\tbatch = torch.tensor(batch, dtype=torch.float).to(self.device)\n",
    "\t\t\ttarget = torch.tensor(target, dtype=torch.float).to(self.device)\n",
    "\n",
    "\t\t\tpredictions = self.model(batch)\n",
    "\t\t\tloss = self.loss_func(predictions, target)\n",
    "\n",
    "\t\t\twith torch.no_grad():\n",
    "\t\t\t\tmetric = torch.mean(torch.abs(target.cpu() - predictions.cpu())).item()\n",
    "\t\t\t\ttrain_metrics_history['MAE'].append(metric)\n",
    "\t\t\t\ttrain_metrics_history['RMSE'].append(loss.item() ** 0.5)\n",
    "\n",
    "\t\t\tself.opt.zero_grad()\n",
    "\t\t\tloss.backward()\n",
    "\t\t\tself.opt.step()\n",
    "\n",
    "\t\ttrain_dict_epoch = {k: np.mean(v) for k, v in train_metrics_history.items()}  # словарь значений метрик на каждой эпохе и вывод значений на обучении\n",
    "\t\tif self.plot_mode == 'print':\n",
    "\t\t\tprint(f'RMSE на трейне: {train_dict_epoch[\"RMSE\"]:.5f} | MAE на трейне: {train_dict_epoch[\"MAE\"]:.5f}')\n",
    "\n",
    "\t\treturn train_dict_epoch\n",
    "\n",
    "\tdef val_model(self):\n",
    "\t\t\"\"\" Модуль для валидации модели: берем батчи, считаем градиенты, рисуем метрики MAE и RMSE, обновляем веса, записываем историю метрик в словарь\"\"\"\n",
    "\t\tself.model.eval()\n",
    "\t\tval_metrics_history = defaultdict(list)\n",
    "\n",
    "\t\tfor idx in range(self.val_steps):\n",
    "\t\t\tbatch, target = next(self.val_gen)\n",
    "\t\t\tbatch = torch.tensor(batch, dtype=torch.float).to(self.device)\n",
    "\t\t\ttarget = torch.tensor(target, dtype=torch.float).to(self.device)\n",
    "\n",
    "\t\t\tpredictions = self.model(batch).squeeze()\n",
    "\t\t\tloss = self.loss_func(predictions, target)\n",
    "\n",
    "\t\t\twith torch.no_grad():  # градиенты на валидации не считаем\n",
    "\t\t\t\tmetric = torch.mean(torch.abs(target.cpu() - predictions.cpu())).item()\n",
    "\t\t\t\tval_metrics_history['MAE'].append(metric)\n",
    "\t\t\t\tval_metrics_history['RMSE'].append(loss.item() ** 0.5)\n",
    "\n",
    "\t\t\t# должно рисовать график в соответствующем режиме graph (кусок код взят из другой тетради). \n",
    "            # Код падает, проще убрать и перевести в режим 'print', чем разбираться, что не так с clear_output\n",
    "\t\t\tif (idx + 1) % 10 == 0:\n",
    "\t\t\t\tif self.plot_mode == 'graph':\n",
    "\t\t\t\t\tclear_output(True)\n",
    "\t\t\t\t\tplt.plot(history, label='loss')\n",
    "\t\t\t\t\tplt.yscale('log')\n",
    "\t\t\t\t\tplt.legend()\n",
    "\t\t\t\t\tplt.show()\n",
    "\n",
    "\t\tval_dict_epoch = {k: np.mean(v) for k, v in val_metrics_history.items()}\n",
    "\t\tif self.plot_mode == 'print':\n",
    "\t\t\tprint(f'RMSE на валидации: {val_dict_epoch[\"RMSE\"]:.5f} | MAE на валидации: {val_dict_epoch[\"MAE\"]:.5f}\\n')\n",
    "\n",
    "\t\treturn val_dict_epoch\n",
    "\n",
    "\tdef fit_model(self):\n",
    "\t\t\"\"\" \"\"\"\n",
    "\t\ttrain_history, val_history = defaultdict(list), defaultdict(list)\n",
    "\n",
    "\t\tfor epoch_num in tqdm(range(self.epochs)):\n",
    "\t\t\thist_tr_iter = self.train_model()\n",
    "\t\t\ttrain_history['RMSE'].append(hist_tr_iter['RMSE'])\n",
    "\t\t\ttrain_history['MAE'].append(hist_tr_iter['MAE'])\n",
    "\n",
    "\t\t\thist_val_iter = self.val_model()\n",
    "\t\t\tval_history['RMSE'].append(hist_val_iter['RMSE'])\n",
    "\t\t\tval_history['MAE'].append(hist_val_iter['MAE'])\n",
    "\n",
    "\t\t\tself.scheduler.step()\n",
    "\n",
    "\t\treturn train_history, val_history"
   ]
  },
  {
   "cell_type": "code",
   "execution_count": 162,
   "metadata": {},
   "outputs": [],
   "source": [
    "EPOCHS = 10  # как в оригинале\n",
    "LR = 0.001  # \n",
    "NUM_LAYERS = 1\n",
    "HIDDEN_DIM = 32  # как в оригинале\n",
    "\n",
    "class BestRNN(nn.Module):\n",
    "\tdef __init__(self, input_data, hidden_dim, num_layers):\n",
    "\t\tsuper().__init__()\n",
    "\t\tself.lstm = nn.LSTM(input_data, hidden_dim, num_layers=num_layers, bidirectional = True, batch_first=True)  \n",
    "\t\tself.output_layer = nn.Linear(hidden_dim, 1)\n",
    "\n",
    "\tdef forward(self, x_train):\n",
    "\t\tlstm_out, (h_n, c_n) = self.lstm(x_train)\n",
    "\t\th_n_out = self.output_layer(h_n.squeeze())\n",
    "\t\treturn h_n_out.squeeze()  "
   ]
  },
  {
   "cell_type": "code",
   "execution_count": 163,
   "metadata": {},
   "outputs": [],
   "source": [
    "model_best = BestRNN(input_data=INPUT_DATA,\n",
    "                         hidden_dim=HIDDEN_DIM,\n",
    "                         num_layers=NUM_LAYERS)"
   ]
  },
  {
   "cell_type": "code",
   "execution_count": 164,
   "metadata": {},
   "outputs": [
    {
     "name": "stdout",
     "output_type": "stream",
     "text": [
      "Using cpu\n"
     ]
    }
   ],
   "source": [
    "run_model_6 = RunModel(train_steps, val_steps, train_gen, val_gen, model_best, epochs=EPOCHS, lr=LR,\n",
    "                     plot_mode='print', device=DEVICE)"
   ]
  },
  {
   "cell_type": "code",
   "execution_count": 165,
   "metadata": {
    "scrolled": true
   },
   "outputs": [
    {
     "name": "stderr",
     "output_type": "stream",
     "text": [
      "\r",
      "  0%|                                                                                           | 0/10 [00:00<?, ?it/s]"
     ]
    },
    {
     "name": "stdout",
     "output_type": "stream",
     "text": [
      "RMSE на трейне: 0.51135 | MAE на трейне: 0.39880\n"
     ]
    },
    {
     "name": "stderr",
     "output_type": "stream",
     "text": [
      "\r",
      " 10%|████████▏                                                                         | 1/10 [03:04<27:44, 184.96s/it]"
     ]
    },
    {
     "name": "stdout",
     "output_type": "stream",
     "text": [
      "RMSE на валидации: 0.34619 | MAE на валидации: 0.30133\n",
      "\n",
      "RMSE на трейне: 0.47935 | MAE на трейне: 0.37340\n"
     ]
    },
    {
     "name": "stderr",
     "output_type": "stream",
     "text": [
      "\r",
      " 20%|████████████████▍                                                                 | 2/10 [06:08<24:35, 184.48s/it]"
     ]
    },
    {
     "name": "stdout",
     "output_type": "stream",
     "text": [
      "RMSE на валидации: 0.48062 | MAE на валидации: 0.42261\n",
      "\n",
      "RMSE на трейне: 0.48426 | MAE на трейне: 0.37644\n"
     ]
    },
    {
     "name": "stderr",
     "output_type": "stream",
     "text": [
      "\r",
      " 30%|████████████████████████▌                                                         | 3/10 [09:07<21:19, 182.76s/it]"
     ]
    },
    {
     "name": "stdout",
     "output_type": "stream",
     "text": [
      "RMSE на валидации: 0.38757 | MAE на валидации: 0.34797\n",
      "\n",
      "RMSE на трейне: 0.47415 | MAE на трейне: 0.36829\n"
     ]
    },
    {
     "name": "stderr",
     "output_type": "stream",
     "text": [
      "\r",
      " 40%|████████████████████████████████▊                                                 | 4/10 [12:02<18:03, 180.54s/it]"
     ]
    },
    {
     "name": "stdout",
     "output_type": "stream",
     "text": [
      "RMSE на валидации: 0.39736 | MAE на валидации: 0.35391\n",
      "\n",
      "RMSE на трейне: 0.47751 | MAE на трейне: 0.37033\n"
     ]
    },
    {
     "name": "stderr",
     "output_type": "stream",
     "text": [
      "\r",
      " 50%|█████████████████████████████████████████                                         | 5/10 [14:49<14:42, 176.46s/it]"
     ]
    },
    {
     "name": "stdout",
     "output_type": "stream",
     "text": [
      "RMSE на валидации: 0.36885 | MAE на валидации: 0.32707\n",
      "\n",
      "RMSE на трейне: 0.47490 | MAE на трейне: 0.36924\n"
     ]
    },
    {
     "name": "stderr",
     "output_type": "stream",
     "text": [
      "\r",
      " 60%|█████████████████████████████████████████████████▏                                | 6/10 [17:34<11:32, 173.16s/it]"
     ]
    },
    {
     "name": "stdout",
     "output_type": "stream",
     "text": [
      "RMSE на валидации: 0.48355 | MAE на валидации: 0.42741\n",
      "\n",
      "RMSE на трейне: 0.46770 | MAE на трейне: 0.36425\n"
     ]
    },
    {
     "name": "stderr",
     "output_type": "stream",
     "text": [
      "\r",
      " 70%|█████████████████████████████████████████████████████████▍                        | 7/10 [20:19<08:31, 170.58s/it]"
     ]
    },
    {
     "name": "stdout",
     "output_type": "stream",
     "text": [
      "RMSE на валидации: 0.44942 | MAE на валидации: 0.39575\n",
      "\n",
      "RMSE на трейне: 0.46206 | MAE на трейне: 0.35853\n"
     ]
    },
    {
     "name": "stderr",
     "output_type": "stream",
     "text": [
      "\r",
      " 80%|█████████████████████████████████████████████████████████████████▌                | 8/10 [23:04<05:38, 169.02s/it]"
     ]
    },
    {
     "name": "stdout",
     "output_type": "stream",
     "text": [
      "RMSE на валидации: 0.42866 | MAE на валидации: 0.38177\n",
      "\n",
      "RMSE на трейне: 0.46983 | MAE на трейне: 0.36343\n"
     ]
    },
    {
     "name": "stderr",
     "output_type": "stream",
     "text": [
      "\r",
      " 90%|█████████████████████████████████████████████████████████████████████████▊        | 9/10 [25:51<02:48, 168.39s/it]"
     ]
    },
    {
     "name": "stdout",
     "output_type": "stream",
     "text": [
      "RMSE на валидации: 0.33689 | MAE на валидации: 0.30143\n",
      "\n",
      "RMSE на трейне: 0.46314 | MAE на трейне: 0.35866\n"
     ]
    },
    {
     "name": "stderr",
     "output_type": "stream",
     "text": [
      "100%|█████████████████████████████████████████████████████████████████████████████████| 10/10 [28:41<00:00, 172.14s/it]"
     ]
    },
    {
     "name": "stdout",
     "output_type": "stream",
     "text": [
      "RMSE на валидации: 0.37526 | MAE на валидации: 0.33245\n",
      "\n"
     ]
    },
    {
     "name": "stderr",
     "output_type": "stream",
     "text": [
      "\n"
     ]
    }
   ],
   "source": [
    "train_history, val_history = run_model_6.fit_model()"
   ]
  },
  {
   "cell_type": "markdown",
   "metadata": {},
   "source": [
    "Не, работает неважно: ошибка на валидации от эпохе к эпохе чаще растёт. Скорее всего это проблема \"взрыва\" в сети, которая как раз неплохо решается с помощью dropouta. Но вот с этим разбираться уже точно времени нет.\n",
    "\n",
    "Итак, лучший результат с превышением baseline мне удалось получить на продвинутой версии LSTM: двухсторонняя модель в 3 слоя. К ноутбуку приложу файл лучшей модели."
   ]
  }
 ],
 "metadata": {
  "accelerator": "GPU",
  "colab": {
   "collapsed_sections": [],
   "name": "HW03_Weather_forecast_RNN.ipynb",
   "provenance": []
  },
  "kernelspec": {
   "display_name": "Python 3",
   "language": "python",
   "name": "python3"
  },
  "language_info": {
   "codemirror_mode": {
    "name": "ipython",
    "version": 3
   },
   "file_extension": ".py",
   "mimetype": "text/x-python",
   "name": "python",
   "nbconvert_exporter": "python",
   "pygments_lexer": "ipython3",
   "version": "3.8.5"
  }
 },
 "nbformat": 4,
 "nbformat_minor": 1
}
