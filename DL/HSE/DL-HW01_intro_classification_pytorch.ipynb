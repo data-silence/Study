{
 "cells": [
  {
   "cell_type": "code",
   "execution_count": 232,
   "metadata": {
    "colab": {
     "base_uri": "https://localhost:8080/"
    },
    "executionInfo": {
     "elapsed": 29694,
     "status": "ok",
     "timestamp": 1648827239106,
     "user": {
      "displayName": "иван иванов",
      "userId": "02926776193083975428"
     },
     "user_tz": -180
    },
    "id": "TBoUsyK_8SKP",
    "outputId": "c9883e88-a691-489d-c45c-e029255e3277"
   },
   "outputs": [],
   "source": [
    "# from google.colab import drive\n",
    "# drive.mount('/content/gdrive')"
   ]
  },
  {
   "cell_type": "code",
   "execution_count": 231,
   "metadata": {
    "colab": {
     "base_uri": "https://localhost:8080/"
    },
    "executionInfo": {
     "elapsed": 11,
     "status": "ok",
     "timestamp": 1648827242277,
     "user": {
      "displayName": "иван иванов",
      "userId": "02926776193083975428"
     },
     "user_tz": -180
    },
    "id": "PUeeQK5b8Zm-",
    "outputId": "b6132993-e0a7-4227-dd03-2db3c9acbc6b"
   },
   "outputs": [],
   "source": [
    "# %cd /content/gdrive/My Drive/HSE_DL_2021/01_week"
   ]
  },
  {
   "cell_type": "code",
   "execution_count": 1,
   "metadata": {
    "executionInfo": {
     "elapsed": 7,
     "status": "ok",
     "timestamp": 1648827242277,
     "user": {
      "displayName": "иван иванов",
      "userId": "02926776193083975428"
     },
     "user_tz": -180
    },
    "id": "nt9UklRnMTHZ"
   },
   "outputs": [],
   "source": [
    "from IPython import display"
   ]
  },
  {
   "cell_type": "markdown",
   "metadata": {
    "id": "zdKtEwmD6Jzm"
   },
   "source": [
    "__Домашнее задание.__\n",
    "Нужно обучить нейронную сеть, точность классификация должна быть не меньше __60%__. Как это можно получить:\n",
    "1. Посмотрите на данные, характеристики.\n",
    "2. Попробуйте менять гиперпараметры сети.\n",
    "3. Обратите внимание на саму архитектуру сети.\n",
    "4. Сделайте подсчет точности на валидационной выборке, не использую `torchmetrics`."
   ]
  },
  {
   "cell_type": "markdown",
   "metadata": {},
   "source": [
    "### NB! Концепция реализации "
   ]
  },
  {
   "cell_type": "markdown",
   "metadata": {},
   "source": [
    "То, что вы увидете ниже, представляет из себя компиляцию кода из первого и второго (в основном) семинарского занятия, которая была допилена. \n",
    "\n",
    "Я пробовал менять многие параметры моделей, как в части гиперпараметров, так и архитектуры (единственное, не побаловался с разными shaduler'ами).\n",
    "Ниже реализация далеко не с лучшим результатом, но память у меня плохая, не смог вспомнить лучшие параметры \n",
    "(в лучшем случае accuracy на валидационной выборке почти достигало 0.7).\n",
    "\n",
    "Основные доработки кода по сравнению с исходной тетрадью:\n",
    "\n",
    "1. Проведено масштабирование признаков\n",
    "2. Внесены технические правки в функцию run_train, без которых код отказывался запускаться локально\n",
    "3. Внутри нейросетки заменена сигмоида на ReLU\n",
    "4. Между двумя ReLU добавлен слой Dropout (кажется, не очень полезная штука в нашем случае).\n",
    "5. HIDDEN SIZE сделал больше, чем INPUT SIZE (кажется это оказалось даже вредно, но было лень пересчитывать)."
   ]
  },
  {
   "cell_type": "markdown",
   "metadata": {},
   "source": [
    "### 0. Загрузка данных и предварительная обработка"
   ]
  },
  {
   "cell_type": "code",
   "execution_count": 80,
   "metadata": {
    "colab": {
     "base_uri": "https://localhost:8080/",
     "height": 1000
    },
    "executionInfo": {
     "elapsed": 3126,
     "status": "ok",
     "timestamp": 1648827413652,
     "user": {
      "displayName": "иван иванов",
      "userId": "02926776193083975428"
     },
     "user_tz": -180
    },
    "id": "-oa7F2ntLR02",
    "outputId": "068c71d7-cccd-4bcd-8bd7-340ff47cefba"
   },
   "outputs": [],
   "source": [
    "# display.Image('images/Pipeline.png')"
   ]
  },
  {
   "cell_type": "code",
   "execution_count": 2,
   "metadata": {
    "executionInfo": {
     "elapsed": 685,
     "status": "ok",
     "timestamp": 1648827249890,
     "user": {
      "displayName": "иван иванов",
      "userId": "02926776193083975428"
     },
     "user_tz": -180
    },
    "id": "TZ_nW1Pf6JzJ"
   },
   "outputs": [],
   "source": [
    "# Подгрузим немного пакетов :) \n",
    "import numpy as np\n",
    "import pandas as pd\n",
    "\n",
    "import seaborn as sns\n",
    "import matplotlib.pyplot as plt\n",
    "plt.style.use('ggplot')\n",
    "\n",
    "from sklearn.model_selection import train_test_split\n",
    "\n",
    "%matplotlib inline"
   ]
  },
  {
   "cell_type": "code",
   "execution_count": 3,
   "metadata": {
    "colab": {
     "base_uri": "https://localhost:8080/",
     "height": 317
    },
    "executionInfo": {
     "elapsed": 2202,
     "status": "ok",
     "timestamp": 1648827258489,
     "user": {
      "displayName": "иван иванов",
      "userId": "02926776193083975428"
     },
     "user_tz": -180
    },
    "id": "VnAi3Sdo6JzK",
    "outputId": "f04992bd-0816-47df-ab38-d53f82e47e60"
   },
   "outputs": [
    {
     "name": "stdout",
     "output_type": "stream",
     "text": [
      "(26729, 37)\n"
     ]
    },
    {
     "data": {
      "text/html": [
       "<div>\n",
       "<style scoped>\n",
       "    .dataframe tbody tr th:only-of-type {\n",
       "        vertical-align: middle;\n",
       "    }\n",
       "\n",
       "    .dataframe tbody tr th {\n",
       "        vertical-align: top;\n",
       "    }\n",
       "\n",
       "    .dataframe thead th {\n",
       "        text-align: right;\n",
       "    }\n",
       "</style>\n",
       "<table border=\"1\" class=\"dataframe\">\n",
       "  <thead>\n",
       "    <tr style=\"text-align: right;\">\n",
       "      <th></th>\n",
       "      <th>IsDog</th>\n",
       "      <th>Age</th>\n",
       "      <th>HasName</th>\n",
       "      <th>NameLength</th>\n",
       "      <th>NameFreq</th>\n",
       "      <th>MixColor</th>\n",
       "      <th>ColorFreqAsIs</th>\n",
       "      <th>ColorFreqBase</th>\n",
       "      <th>TabbyColor</th>\n",
       "      <th>MixBreed</th>\n",
       "      <th>...</th>\n",
       "      <th>SexStatus_Flawed</th>\n",
       "      <th>SexStatus_Intact</th>\n",
       "      <th>SexStatus_Unknown</th>\n",
       "      <th>Weekday_0</th>\n",
       "      <th>Weekday_1</th>\n",
       "      <th>Weekday_2</th>\n",
       "      <th>Weekday_3</th>\n",
       "      <th>Weekday_4</th>\n",
       "      <th>Weekday_5</th>\n",
       "      <th>Weekday_6</th>\n",
       "    </tr>\n",
       "  </thead>\n",
       "  <tbody>\n",
       "    <tr>\n",
       "      <th>0</th>\n",
       "      <td>1</td>\n",
       "      <td>365.0</td>\n",
       "      <td>1</td>\n",
       "      <td>7</td>\n",
       "      <td>0.000157</td>\n",
       "      <td>1</td>\n",
       "      <td>0.032919</td>\n",
       "      <td>0.463624</td>\n",
       "      <td>0</td>\n",
       "      <td>1</td>\n",
       "      <td>...</td>\n",
       "      <td>1</td>\n",
       "      <td>0</td>\n",
       "      <td>0</td>\n",
       "      <td>0</td>\n",
       "      <td>0</td>\n",
       "      <td>1</td>\n",
       "      <td>0</td>\n",
       "      <td>0</td>\n",
       "      <td>0</td>\n",
       "      <td>0</td>\n",
       "    </tr>\n",
       "    <tr>\n",
       "      <th>1</th>\n",
       "      <td>0</td>\n",
       "      <td>365.0</td>\n",
       "      <td>1</td>\n",
       "      <td>5</td>\n",
       "      <td>0.000655</td>\n",
       "      <td>0</td>\n",
       "      <td>0.008092</td>\n",
       "      <td>0.015005</td>\n",
       "      <td>1</td>\n",
       "      <td>1</td>\n",
       "      <td>...</td>\n",
       "      <td>1</td>\n",
       "      <td>0</td>\n",
       "      <td>0</td>\n",
       "      <td>0</td>\n",
       "      <td>0</td>\n",
       "      <td>0</td>\n",
       "      <td>0</td>\n",
       "      <td>0</td>\n",
       "      <td>0</td>\n",
       "      <td>1</td>\n",
       "    </tr>\n",
       "    <tr>\n",
       "      <th>2</th>\n",
       "      <td>1</td>\n",
       "      <td>730.0</td>\n",
       "      <td>1</td>\n",
       "      <td>6</td>\n",
       "      <td>0.000052</td>\n",
       "      <td>1</td>\n",
       "      <td>0.026293</td>\n",
       "      <td>0.357521</td>\n",
       "      <td>0</td>\n",
       "      <td>1</td>\n",
       "      <td>...</td>\n",
       "      <td>1</td>\n",
       "      <td>0</td>\n",
       "      <td>0</td>\n",
       "      <td>0</td>\n",
       "      <td>0</td>\n",
       "      <td>0</td>\n",
       "      <td>0</td>\n",
       "      <td>0</td>\n",
       "      <td>1</td>\n",
       "      <td>0</td>\n",
       "    </tr>\n",
       "    <tr>\n",
       "      <th>3</th>\n",
       "      <td>0</td>\n",
       "      <td>21.0</td>\n",
       "      <td>0</td>\n",
       "      <td>7</td>\n",
       "      <td>0.285871</td>\n",
       "      <td>0</td>\n",
       "      <td>0.000471</td>\n",
       "      <td>0.058418</td>\n",
       "      <td>0</td>\n",
       "      <td>1</td>\n",
       "      <td>...</td>\n",
       "      <td>0</td>\n",
       "      <td>1</td>\n",
       "      <td>0</td>\n",
       "      <td>0</td>\n",
       "      <td>0</td>\n",
       "      <td>0</td>\n",
       "      <td>0</td>\n",
       "      <td>1</td>\n",
       "      <td>0</td>\n",
       "      <td>0</td>\n",
       "    </tr>\n",
       "    <tr>\n",
       "      <th>4</th>\n",
       "      <td>1</td>\n",
       "      <td>730.0</td>\n",
       "      <td>0</td>\n",
       "      <td>7</td>\n",
       "      <td>0.285871</td>\n",
       "      <td>0</td>\n",
       "      <td>0.023831</td>\n",
       "      <td>0.075353</td>\n",
       "      <td>0</td>\n",
       "      <td>0</td>\n",
       "      <td>...</td>\n",
       "      <td>1</td>\n",
       "      <td>0</td>\n",
       "      <td>0</td>\n",
       "      <td>0</td>\n",
       "      <td>0</td>\n",
       "      <td>0</td>\n",
       "      <td>0</td>\n",
       "      <td>1</td>\n",
       "      <td>0</td>\n",
       "      <td>0</td>\n",
       "    </tr>\n",
       "  </tbody>\n",
       "</table>\n",
       "<p>5 rows × 37 columns</p>\n",
       "</div>"
      ],
      "text/plain": [
       "   IsDog    Age  HasName  NameLength  NameFreq  MixColor  ColorFreqAsIs  \\\n",
       "0      1  365.0        1           7  0.000157         1       0.032919   \n",
       "1      0  365.0        1           5  0.000655         0       0.008092   \n",
       "2      1  730.0        1           6  0.000052         1       0.026293   \n",
       "3      0   21.0        0           7  0.285871         0       0.000471   \n",
       "4      1  730.0        0           7  0.285871         0       0.023831   \n",
       "\n",
       "   ColorFreqBase  TabbyColor  MixBreed  ...  SexStatus_Flawed  \\\n",
       "0       0.463624           0         1  ...                 1   \n",
       "1       0.015005           1         1  ...                 1   \n",
       "2       0.357521           0         1  ...                 1   \n",
       "3       0.058418           0         1  ...                 0   \n",
       "4       0.075353           0         0  ...                 1   \n",
       "\n",
       "   SexStatus_Intact  SexStatus_Unknown  Weekday_0  Weekday_1  Weekday_2  \\\n",
       "0                 0                  0          0          0          1   \n",
       "1                 0                  0          0          0          0   \n",
       "2                 0                  0          0          0          0   \n",
       "3                 1                  0          0          0          0   \n",
       "4                 0                  0          0          0          0   \n",
       "\n",
       "   Weekday_3  Weekday_4  Weekday_5  Weekday_6  \n",
       "0          0          0          0          0  \n",
       "1          0          0          0          1  \n",
       "2          0          0          1          0  \n",
       "3          0          1          0          0  \n",
       "4          0          1          0          0  \n",
       "\n",
       "[5 rows x 37 columns]"
      ]
     },
     "execution_count": 3,
     "metadata": {},
     "output_type": "execute_result"
    }
   ],
   "source": [
    "X = pd.read_csv('./data/X_cat.csv', sep = '\\t', index_col=0)\n",
    "target = pd.read_csv('./data/y_cat.csv', sep = '\\t', index_col=0, names=['status'])\n",
    "\n",
    "print(X.shape)\n",
    "X.head()"
   ]
  },
  {
   "cell_type": "code",
   "execution_count": 4,
   "metadata": {
    "colab": {
     "base_uri": "https://localhost:8080/"
    },
    "executionInfo": {
     "elapsed": 408,
     "status": "ok",
     "timestamp": 1648827292276,
     "user": {
      "displayName": "иван иванов",
      "userId": "02926776193083975428"
     },
     "user_tz": -180
    },
    "id": "IREfWzCF6JzL",
    "outputId": "7f727cad-e22d-477d-b5b4-637244d30adf"
   },
   "outputs": [
    {
     "data": {
      "text/plain": [
       "Adoption           10769\n",
       "Transfer            9422\n",
       "Return_to_owner     4786\n",
       "Euthanasia          1555\n",
       "Died                 197\n",
       "Name: status, dtype: int64"
      ]
     },
     "execution_count": 4,
     "metadata": {},
     "output_type": "execute_result"
    }
   ],
   "source": [
    "target.status.value_counts()"
   ]
  },
  {
   "cell_type": "markdown",
   "metadata": {
    "id": "kM6D53s-6JzM"
   },
   "source": [
    "Видим, что классы несбалансированы. Попробуем оставит четыре класса и объединить класс умерших животных с классом животных, которых усыпили. "
   ]
  },
  {
   "cell_type": "code",
   "execution_count": 210,
   "metadata": {
    "executionInfo": {
     "elapsed": 581,
     "status": "ok",
     "timestamp": 1648827313442,
     "user": {
      "displayName": "иван иванов",
      "userId": "02926776193083975428"
     },
     "user_tz": -180
    },
    "id": "eDubyVG96JzM"
   },
   "outputs": [],
   "source": [
    "target = target.iloc[:, :]\n",
    "target[target == 'Died'] = 'Euthanasia'"
   ]
  },
  {
   "cell_type": "markdown",
   "metadata": {
    "id": "KsXBGTYy6JzM"
   },
   "source": [
    "Закодируем классы."
   ]
  },
  {
   "cell_type": "code",
   "execution_count": 5,
   "metadata": {
    "colab": {
     "base_uri": "https://localhost:8080/"
    },
    "executionInfo": {
     "elapsed": 3,
     "status": "ok",
     "timestamp": 1648827315378,
     "user": {
      "displayName": "иван иванов",
      "userId": "02926776193083975428"
     },
     "user_tz": -180
    },
    "id": "h2Oje0qZ6JzN",
    "outputId": "e637667c-a429-43db-ae34-8afecffb6214"
   },
   "outputs": [
    {
     "name": "stderr",
     "output_type": "stream",
     "text": [
      "C:\\Users\\maxle\\anaconda3\\lib\\site-packages\\sklearn\\utils\\validation.py:72: DataConversionWarning: A column-vector y was passed when a 1d array was expected. Please change the shape of y to (n_samples, ), for example using ravel().\n",
      "  return f(**kwargs)\n"
     ]
    },
    {
     "data": {
      "text/plain": [
       "array([3, 2, 0, ..., 0, 4, 4])"
      ]
     },
     "execution_count": 5,
     "metadata": {},
     "output_type": "execute_result"
    }
   ],
   "source": [
    "from sklearn.preprocessing import LabelEncoder\n",
    "le = LabelEncoder()\n",
    "y = le.fit_transform(target)\n",
    "y"
   ]
  },
  {
   "cell_type": "markdown",
   "metadata": {},
   "source": [
    "### 1. Масштабирование"
   ]
  },
  {
   "cell_type": "code",
   "execution_count": 212,
   "metadata": {
    "executionInfo": {
     "elapsed": 3,
     "status": "ok",
     "timestamp": 1648827718742,
     "user": {
      "displayName": "иван иванов",
      "userId": "02926776193083975428"
     },
     "user_tz": -180
    },
    "id": "aqdT0hXi6Jzf"
   },
   "outputs": [],
   "source": [
    "X_train, X_test, y_train, y_test = train_test_split(X.iloc[:, :].values, y,\n",
    "                                                    test_size=0.2, stratify=y, random_state=42)"
   ]
  },
  {
   "cell_type": "code",
   "execution_count": 213,
   "metadata": {
    "colab": {
     "base_uri": "https://localhost:8080/"
    },
    "executionInfo": {
     "elapsed": 2,
     "status": "ok",
     "timestamp": 1648827720195,
     "user": {
      "displayName": "иван иванов",
      "userId": "02926776193083975428"
     },
     "user_tz": -180
    },
    "id": "C2hh_tro6Jzf",
    "outputId": "3850385d-6e71-4c48-d275-d58d8149bdbd"
   },
   "outputs": [
    {
     "data": {
      "text/plain": [
       "0    10769\n",
       "3     9422\n",
       "2     4786\n",
       "1     1752\n",
       "dtype: int64"
      ]
     },
     "execution_count": 213,
     "metadata": {},
     "output_type": "execute_result"
    }
   ],
   "source": [
    "pd.Series(y).value_counts()"
   ]
  },
  {
   "cell_type": "code",
   "execution_count": 6,
   "metadata": {},
   "outputs": [
    {
     "ename": "NameError",
     "evalue": "name 'X_train' is not defined",
     "output_type": "error",
     "traceback": [
      "\u001b[1;31m---------------------------------------------------------------------------\u001b[0m",
      "\u001b[1;31mNameError\u001b[0m                                 Traceback (most recent call last)",
      "\u001b[1;32m<ipython-input-6-7789fbb7249e>\u001b[0m in \u001b[0;36m<module>\u001b[1;34m\u001b[0m\n\u001b[0;32m      2\u001b[0m \u001b[0mss\u001b[0m \u001b[1;33m=\u001b[0m \u001b[0mStandardScaler\u001b[0m\u001b[1;33m(\u001b[0m\u001b[1;33m)\u001b[0m\u001b[1;33m\u001b[0m\u001b[1;33m\u001b[0m\u001b[0m\n\u001b[0;32m      3\u001b[0m \u001b[1;33m\u001b[0m\u001b[0m\n\u001b[1;32m----> 4\u001b[1;33m \u001b[0mX_train\u001b[0m \u001b[1;33m=\u001b[0m \u001b[0mss\u001b[0m\u001b[1;33m.\u001b[0m\u001b[0mfit_transform\u001b[0m\u001b[1;33m(\u001b[0m\u001b[0mX_train\u001b[0m\u001b[1;33m)\u001b[0m\u001b[1;33m\u001b[0m\u001b[1;33m\u001b[0m\u001b[0m\n\u001b[0m\u001b[0;32m      5\u001b[0m \u001b[0mX_test\u001b[0m \u001b[1;33m=\u001b[0m \u001b[0mss\u001b[0m\u001b[1;33m.\u001b[0m\u001b[0mtransform\u001b[0m\u001b[1;33m(\u001b[0m\u001b[0mX_test\u001b[0m\u001b[1;33m)\u001b[0m\u001b[1;33m\u001b[0m\u001b[1;33m\u001b[0m\u001b[0m\n",
      "\u001b[1;31mNameError\u001b[0m: name 'X_train' is not defined"
     ]
    }
   ],
   "source": [
    "from sklearn.preprocessing import StandardScaler\n",
    "ss = StandardScaler()\n",
    "\n",
    "X_train = ss.fit_transform(X_train)\n",
    "X_test = ss.transform(X_test)"
   ]
  },
  {
   "cell_type": "markdown",
   "metadata": {
    "id": "a8TNgd296JzT"
   },
   "source": [
    "### 2. Собираем свою нейросеть"
   ]
  },
  {
   "cell_type": "markdown",
   "metadata": {},
   "source": [
    "__Импорт библиотек__"
   ]
  },
  {
   "cell_type": "code",
   "execution_count": 7,
   "metadata": {
    "executionInfo": {
     "elapsed": 8,
     "status": "ok",
     "timestamp": 1648827242278,
     "user": {
      "displayName": "иван иванов",
      "userId": "02926776193083975428"
     },
     "user_tz": -180
    },
    "id": "IlJBTZB-6JzF"
   },
   "outputs": [],
   "source": [
    "import warnings\n",
    "warnings.filterwarnings(\"ignore\")"
   ]
  },
  {
   "cell_type": "code",
   "execution_count": 81,
   "metadata": {
    "colab": {
     "base_uri": "https://localhost:8080/"
    },
    "executionInfo": {
     "elapsed": 5065,
     "status": "ok",
     "timestamp": 1648827712907,
     "user": {
      "displayName": "иван иванов",
      "userId": "02926776193083975428"
     },
     "user_tz": -180
    },
    "id": "o0fCVysZBaIf",
    "outputId": "40f7b209-68ea-4d70-f0b2-c5849eca4379"
   },
   "outputs": [],
   "source": [
    "# !pip install torchmetrics"
   ]
  },
  {
   "cell_type": "code",
   "execution_count": 2,
   "metadata": {
    "colab": {
     "base_uri": "https://localhost:8080/"
    },
    "executionInfo": {
     "elapsed": 6935,
     "status": "ok",
     "timestamp": 1648827249206,
     "user": {
      "displayName": "иван иванов",
      "userId": "02926776193083975428"
     },
     "user_tz": -180
    },
    "id": "l_uvoVq96JzH",
    "outputId": "3020d25f-c206-4d79-881f-937b26204ebd"
   },
   "outputs": [
    {
     "name": "stdout",
     "output_type": "stream",
     "text": [
      "1.6.0+cpu\n"
     ]
    }
   ],
   "source": [
    "# Подгружаем pytorch \n",
    "import torch\n",
    "\n",
    "print(torch.__version__)"
   ]
  },
  {
   "cell_type": "code",
   "execution_count": 3,
   "metadata": {
    "executionInfo": {
     "elapsed": 460,
     "status": "ok",
     "timestamp": 1648827716889,
     "user": {
      "displayName": "иван иванов",
      "userId": "02926776193083975428"
     },
     "user_tz": -180
    },
    "id": "cOcCDlVZ6Jze"
   },
   "outputs": [],
   "source": [
    "import torch.nn as nn # содержит функции для реалзации архитектуры нейронных сетей\n",
    "import torch.nn.functional as F # содержит различные функции активации и не только\n",
    "import torch.optim as optim\n",
    "import torch.utils.data as data_utils\n",
    "\n",
    "from torchmetrics import Accuracy"
   ]
  },
  {
   "cell_type": "markdown",
   "metadata": {},
   "source": [
    "__Функция для отрисовки графиков__ лоссов разных моделей сеток"
   ]
  },
  {
   "cell_type": "code",
   "execution_count": 216,
   "metadata": {},
   "outputs": [],
   "source": [
    "def plot(histories):\n",
    "    plt.figure(figsize=(16,10))\n",
    "    \n",
    "    for name, val_loss in histories:\n",
    "        plt.plot(val_loss, label=name)\n",
    "\n",
    "    plt.legend()"
   ]
  },
  {
   "cell_type": "markdown",
   "metadata": {
    "id": "oMhW0kzo6Jzg"
   },
   "source": [
    "__DataLoader__ для обучения сети"
   ]
  },
  {
   "cell_type": "markdown",
   "metadata": {
    "id": "7rYf64bW6Jzf"
   },
   "source": [
    "Для того чтобы подавать данные в нейронную сеть, создадим `DataLoader`, который предоставляет гибкий API для работы с входными данными."
   ]
  },
  {
   "cell_type": "code",
   "execution_count": 217,
   "metadata": {
    "executionInfo": {
     "elapsed": 395,
     "status": "ok",
     "timestamp": 1648827724255,
     "user": {
      "displayName": "иван иванов",
      "userId": "02926776193083975428"
     },
     "user_tz": -180
    },
    "id": "v8RaCCBv6Jzg"
   },
   "outputs": [],
   "source": [
    "def create_data_loader(X_train, y_train, X_test, y_test):\n",
    "    train_tensor = data_utils.TensorDataset(torch.tensor(X_train.astype(np.float32)), torch.tensor(y_train))\n",
    "    train_loader = data_utils.DataLoader(dataset=train_tensor,\n",
    "                                         batch_size=BATCH_SIZE,\n",
    "                                         shuffle=True)\n",
    "\n",
    "    test_tensor = data_utils.TensorDataset(torch.tensor(X_test.astype(np.float32)), torch.tensor(y_test))\n",
    "    test_loader = data_utils.DataLoader(dataset=test_tensor,\n",
    "                                        batch_size=BATCH_SIZE,\n",
    "                                        shuffle=False)\n",
    "    return train_loader, test_loader"
   ]
  },
  {
   "cell_type": "markdown",
   "metadata": {
    "id": "cFcTYgm56Jzg"
   },
   "source": [
    "__Архитектура модели__"
   ]
  },
  {
   "cell_type": "markdown",
   "metadata": {
    "id": "KBfDZ2U46Jzh"
   },
   "source": [
    "Архитектуру нейронной сети в PyTorch можно описать нескольками способами, в дальнейшем мы рассмотрим их более подробно. Сейчас предлагается сделать это используя `Sequential`.\n",
    "`Sequential` -- это последовательный способ объявления каждой компоненты архитектуры нейронной сети."
   ]
  },
  {
   "cell_type": "code",
   "execution_count": 218,
   "metadata": {
    "executionInfo": {
     "elapsed": 2,
     "status": "ok",
     "timestamp": 1648827727867,
     "user": {
      "displayName": "иван иванов",
      "userId": "02926776193083975428"
     },
     "user_tz": -180
    },
    "id": "OVAm1ZfD6Jzh"
   },
   "outputs": [],
   "source": [
    "INPUT_SIZE = 37\n",
    "HIDDEN_SIZE = 42\n",
    "OUTPUT_SIZE = 4\n",
    "BATCH_SIZE = 100\n",
    "EPOCHS = 105\n",
    "LEARNING_RATE = 0.001\n",
    "\n",
    "def build_model():\n",
    "    model = nn.Sequential(  \n",
    "        # Добавляем в нашу модель первый слой из 25 нейронов\n",
    "        nn.Linear(in_features=INPUT_SIZE, out_features=HIDDEN_SIZE),\n",
    "        nn.ReLU(), # # заменяем сигмоиду на ReLU\n",
    "        \n",
    "        nn.Dropout(), # слой показал себя плохо: модели перестают обучаться\n",
    "        # Добавляем ещё один слой из 25 нейронов\n",
    "        nn.Linear(in_features=HIDDEN_SIZE, out_features=HIDDEN_SIZE),\n",
    "        nn.ReLU(), # заменяем сигмоиду на ReLU\n",
    "        \n",
    "        # Выходной вектор на количество классов, получаем с помощью такого же линейного приеобразования,\n",
    "        # как и предыдущие слои, но уже на нужное количество выходных нейронов (т.е. классов)\n",
    "        nn.Linear(in_features=HIDDEN_SIZE, out_features=OUTPUT_SIZE),\n",
    "        nn.Softmax() \n",
    "    )\n",
    "\n",
    "    return model"
   ]
  },
  {
   "cell_type": "markdown",
   "metadata": {
    "id": "dOjWhngL6Jzh"
   },
   "source": [
    "Функция `Linear` представляет собой полносвязный слой, где присутствуют обучаемая матрица и обучаемый баес."
   ]
  },
  {
   "cell_type": "code",
   "execution_count": 220,
   "metadata": {
    "executionInfo": {
     "elapsed": 2,
     "status": "ok",
     "timestamp": 1648827725899,
     "user": {
      "displayName": "иван иванов",
      "userId": "02926776193083975428"
     },
     "user_tz": -180
    },
    "id": "Ju0UJHiW6Jzg"
   },
   "outputs": [],
   "source": [
    "train_loader, test_loader = create_data_loader(X_train, y_train, X_test, y_test)"
   ]
  },
  {
   "cell_type": "code",
   "execution_count": 82,
   "metadata": {
    "colab": {
     "base_uri": "https://localhost:8080/",
     "height": 467
    },
    "executionInfo": {
     "elapsed": 2213,
     "status": "ok",
     "timestamp": 1630497574095,
     "user": {
      "displayName": "Nikita Bekezin",
      "photoUrl": "",
      "userId": "06692808717586813880"
     },
     "user_tz": -180
    },
    "id": "xIo-n0MvOUyi",
    "outputId": "84771c66-40f7-48e1-923d-cc2102b69678"
   },
   "outputs": [],
   "source": [
    "# display.Image('images/FClayer.png')"
   ]
  },
  {
   "cell_type": "code",
   "execution_count": 221,
   "metadata": {
    "executionInfo": {
     "elapsed": 430,
     "status": "ok",
     "timestamp": 1648828061742,
     "user": {
      "displayName": "иван иванов",
      "userId": "02926776193083975428"
     },
     "user_tz": -180
    },
    "id": "axI039kI6Jzh"
   },
   "outputs": [],
   "source": [
    "model = build_model()"
   ]
  },
  {
   "cell_type": "code",
   "execution_count": 222,
   "metadata": {
    "colab": {
     "base_uri": "https://localhost:8080/"
    },
    "executionInfo": {
     "elapsed": 4,
     "status": "ok",
     "timestamp": 1648828062174,
     "user": {
      "displayName": "иван иванов",
      "userId": "02926776193083975428"
     },
     "user_tz": -180
    },
    "id": "QW1EI0EY6Jzh",
    "outputId": "0d447d19-6a55-4f34-cebe-1c024f55cad5"
   },
   "outputs": [
    {
     "name": "stdout",
     "output_type": "stream",
     "text": [
      "Sequential(\n",
      "  (0): Linear(in_features=37, out_features=42, bias=True)\n",
      "  (1): ReLU()\n",
      "  (2): Dropout(p=0.5, inplace=False)\n",
      "  (3): Linear(in_features=42, out_features=42, bias=True)\n",
      "  (4): ReLU()\n",
      "  (5): Linear(in_features=42, out_features=4, bias=True)\n",
      "  (6): Softmax(dim=None)\n",
      ")\n"
     ]
    }
   ],
   "source": [
    "print(model)"
   ]
  },
  {
   "cell_type": "code",
   "execution_count": 88,
   "metadata": {
    "colab": {
     "base_uri": "https://localhost:8080/",
     "height": 660
    },
    "executionInfo": {
     "elapsed": 1498,
     "status": "ok",
     "timestamp": 1648828065053,
     "user": {
      "displayName": "иван иванов",
      "userId": "02926776193083975428"
     },
     "user_tz": -180
    },
    "id": "PUf974i4McY3",
    "outputId": "0b9d0cbd-22d6-48ca-b621-33eff466f25a"
   },
   "outputs": [],
   "source": [
    "# display.Image('images/MLP2.jpg')"
   ]
  },
  {
   "cell_type": "code",
   "execution_count": 86,
   "metadata": {
    "colab": {
     "base_uri": "https://localhost:8080/",
     "height": 625
    },
    "executionInfo": {
     "elapsed": 1303,
     "status": "ok",
     "timestamp": 1648828066764,
     "user": {
      "displayName": "иван иванов",
      "userId": "02926776193083975428"
     },
     "user_tz": -180
    },
    "id": "BRVVwe85MqGA",
    "outputId": "bb68575e-f576-49e4-d4fb-2925284b4f3a"
   },
   "outputs": [],
   "source": [
    "# display.Image('images/Softmax.png')"
   ]
  },
  {
   "cell_type": "markdown",
   "metadata": {
    "id": "mCjQgvDH6Jzi"
   },
   "source": [
    "__Обучение модели__"
   ]
  },
  {
   "cell_type": "code",
   "execution_count": 223,
   "metadata": {
    "executionInfo": {
     "elapsed": 424,
     "status": "ok",
     "timestamp": 1648828068884,
     "user": {
      "displayName": "иван иванов",
      "userId": "02926776193083975428"
     },
     "user_tz": -180
    },
    "id": "J6tFlM4I6Jzi"
   },
   "outputs": [],
   "source": [
    "criterion = nn.CrossEntropyLoss()\n",
    "accuracy = Accuracy()\n",
    "# optimizer = optim.SGD(model.parameters(), lr=LEARNING_RATE)"
   ]
  },
  {
   "cell_type": "markdown",
   "metadata": {
    "id": "wDkmZ7jJ6Jzi"
   },
   "source": [
    "Перед тем как обучать нашу нейросеть, нужно задать параметры обучения. \n",
    "- Во-первых, метод оптимизации. \n",
    "- Во-вторых, функцию потерь. \n",
    "- В-третьих, парочку метрик, на которые нам хотелось бы смотреть в процессе обучения.  "
   ]
  },
  {
   "cell_type": "markdown",
   "metadata": {
    "id": "UEThm8GG6Jzj"
   },
   "source": [
    "Создадим массивы, куда будем складывать значение целевой функции на обучающей и валиационной выборках, а также точность."
   ]
  },
  {
   "cell_type": "markdown",
   "metadata": {
    "id": "LDM5FIID6Jzj"
   },
   "source": [
    "Ниже представлен код __обучения__ сети. Нужно обратить внимание на несколько моментов:\n",
    "1. Обучение ведется в течение нескольких эпох -- что значит несколько проходов по выборке.\n",
    "2. `train_loader` позволяет итеративно проходится по выборке и на каждой итерации получать батч заранее заданного размера.\n",
    "3. На каждом шаге обнуляем градиенты `optimizer.zero_grad()`, чтобы не накапливать их, тем самым неккоректно обновлять веса.\n",
    "4. Вызывать явно `loss.backward()` для вычисления градиентов.\n",
    "5. Вызывать явно `optimizer.step()` для обновления весов."
   ]
  },
  {
   "cell_type": "code",
   "execution_count": 224,
   "metadata": {
    "executionInfo": {
     "elapsed": 529,
     "status": "ok",
     "timestamp": 1648828071423,
     "user": {
      "displayName": "иван иванов",
      "userId": "02926776193083975428"
     },
     "user_tz": -180
    },
    "id": "lelztung6Jzj"
   },
   "outputs": [],
   "source": [
    "def run_train(model, optimizer, criterion, scheduler=None):\n",
    "    train_loss_values = []\n",
    "    train_accuracy_values = []\n",
    "    valid_loss_values = []\n",
    "    valid_accuracy = []\n",
    "    lr_history = []\n",
    "\n",
    "    model.train()\n",
    "    for epoch in range(EPOCHS):\n",
    "        running_loss = []\n",
    "        running_acc = []\n",
    "        for features, label in train_loader:\n",
    "            # Reset gradients\n",
    "            optimizer.zero_grad()\n",
    "            \n",
    "            # run model on the chosen batch\n",
    "            output = model(features)\n",
    "\n",
    "            # Calculate error and backpropagate\n",
    "            loss = criterion(output, label.long())\n",
    "            loss.backward()\n",
    "\n",
    "            # manual accuracy calculation; no torch lightning\n",
    "            acc = np.true_divide((output.argmax(dim=1)==label).sum(), len(label))\n",
    "\n",
    "            # Update weights with gradients\n",
    "            optimizer.step()\n",
    "\n",
    "            running_loss.append(loss.item())\n",
    "            running_acc.append(acc)\n",
    "\n",
    "        train_loss_values.append(np.mean(running_loss))\n",
    "        train_accuracy_values.append(np.mean(running_acc))\n",
    "        if epoch % 20 == 0:\n",
    "            print('EPOCH %d,  train_loss: %f, train_accuracy: %f' % (epoch, train_loss_values[-1], train_accuracy_values[-1]))\n",
    "\n",
    "\n",
    "        model.eval()\n",
    "        # Run validation\n",
    "        running_loss = []\n",
    "        running_acc = []\n",
    "        with torch.no_grad(): # in validation loop we do not need gradients calculation; so switch it off\n",
    "            for features, label in test_loader:\n",
    "                output = model(features)\n",
    "                \n",
    "                # Calculate error an accuracy\n",
    "                loss = criterion(output, label.long())\n",
    "                acc = np.true_divide((output.argmax(dim=1)==label).sum(), len(label))\n",
    "\n",
    "                running_loss.append(loss.item())\n",
    "                running_acc.append(acc)\n",
    "\n",
    "            valid_loss_values.append(np.mean(running_loss))\n",
    "            valid_accuracy.append(np.mean(running_acc))\n",
    "            if epoch % 20 == 0:\n",
    "                print('EPOCH %d, valid_loss: %f, valid_accuracy: %f' % (epoch, valid_loss_values[-1], valid_accuracy[-1]))\n",
    "\n",
    "        if scheduler is not None:\n",
    "            # Decay Learning Rate\n",
    "            scheduler.step()\n",
    "            lr_history.append(scheduler.get_last_lr())\n",
    "\n",
    "    if scheduler is not None:\n",
    "        return train_loss_values, train_accuracy_values, valid_loss_values, valid_accuracy, lr_history\n",
    "        \n",
    "    return train_loss_values, train_accuracy_values, valid_loss_values, valid_accuracy"
   ]
  },
  {
   "cell_type": "markdown",
   "metadata": {},
   "source": [
    "# Оптимизация"
   ]
  },
  {
   "cell_type": "markdown",
   "metadata": {},
   "source": [
    "### SGD "
   ]
  },
  {
   "cell_type": "code",
   "execution_count": 227,
   "metadata": {},
   "outputs": [
    {
     "name": "stdout",
     "output_type": "stream",
     "text": [
      "EPOCH 0,  train_loss: 1.386664, train_accuracy: 0.256539\n",
      "EPOCH 0, valid_loss: 1.385570, valid_accuracy: 0.262890\n",
      "EPOCH 20,  train_loss: 1.349825, train_accuracy: 0.516757\n",
      "EPOCH 20, valid_loss: 1.349030, valid_accuracy: 0.506884\n",
      "EPOCH 40,  train_loss: 1.301285, train_accuracy: 0.543657\n",
      "EPOCH 40, valid_loss: 1.301277, valid_accuracy: 0.531079\n",
      "EPOCH 60,  train_loss: 1.241149, train_accuracy: 0.566309\n",
      "EPOCH 60, valid_loss: 1.243177, valid_accuracy: 0.555741\n",
      "EPOCH 80,  train_loss: 1.195382, train_accuracy: 0.588310\n",
      "EPOCH 80, valid_loss: 1.198711, valid_accuracy: 0.584968\n",
      "EPOCH 100,  train_loss: 1.165644, train_accuracy: 0.602468\n",
      "EPOCH 100, valid_loss: 1.169899, valid_accuracy: 0.593148\n"
     ]
    }
   ],
   "source": [
    "# Первая простенькая моделька \n",
    "model1 = build_model()\n",
    "\n",
    "# инициализируем SGD optimizer\n",
    "sgd = optim.SGD(model1.parameters(), lr=LEARNING_RATE)\n",
    "\n",
    "# инициализируем Loss function (функцию потерь)\n",
    "criterion = nn.CrossEntropyLoss()\n",
    "\n",
    "# запускаем процесс обучения\n",
    "train_loss_values, train_accuracy_values, valid_loss_values, valid_accuracy = run_train(model1, optimizer=sgd, criterion=criterion)"
   ]
  },
  {
   "cell_type": "code",
   "execution_count": 228,
   "metadata": {},
   "outputs": [
    {
     "data": {
      "image/png": "[encoded data removed]",
      "text/plain": [
       "<Figure size 1152x720 with 1 Axes>"
      ]
     },
     "metadata": {
      "needs_background": "light"
     },
     "output_type": "display_data"
    }
   ],
   "source": [
    "plot([('Simple SGD', valid_loss_values)])"
   ]
  },
  {
   "cell_type": "markdown",
   "metadata": {},
   "source": [
    "### Nesterov Momentum"
   ]
  },
  {
   "cell_type": "code",
   "execution_count": 229,
   "metadata": {
    "scrolled": true
   },
   "outputs": [
    {
     "name": "stdout",
     "output_type": "stream",
     "text": [
      "EPOCH 0,  train_loss: 1.383971, train_accuracy: 0.248211\n",
      "EPOCH 0, valid_loss: 1.370196, valid_accuracy: 0.403639\n",
      "EPOCH 20,  train_loss: 1.126282, train_accuracy: 0.610609\n",
      "EPOCH 20, valid_loss: 1.131589, valid_accuracy: 0.603148\n",
      "EPOCH 40,  train_loss: 1.110105, train_accuracy: 0.627077\n",
      "EPOCH 40, valid_loss: 1.114739, valid_accuracy: 0.624082\n",
      "EPOCH 60,  train_loss: 1.093434, train_accuracy: 0.644386\n",
      "EPOCH 60, valid_loss: 1.098184, valid_accuracy: 0.637939\n",
      "EPOCH 80,  train_loss: 1.089145, train_accuracy: 0.648657\n",
      "EPOCH 80, valid_loss: 1.095205, valid_accuracy: 0.642568\n",
      "EPOCH 100,  train_loss: 1.086720, train_accuracy: 0.651404\n",
      "EPOCH 100, valid_loss: 1.093976, valid_accuracy: 0.645161\n"
     ]
    }
   ],
   "source": [
    "# Первая простенькая моделька \n",
    "model2 = build_model()\n",
    "\n",
    "# инициализируем SGD optimizer\n",
    "sgd = optim.SGD(model2.parameters(), lr=LEARNING_RATE, momentum=0.9, nesterov=True)\n",
    "\n",
    "# запускаем процесс обучения\n",
    "train_loss_values2, train_accuracy_values2, valid_loss_values2, valid_accuracy2 = run_train(model2, optimizer=sgd, criterion=criterion)"
   ]
  },
  {
   "cell_type": "code",
   "execution_count": 233,
   "metadata": {},
   "outputs": [
    {
     "data": {
      "image/png": "[encoded data removed]",
      "text/plain": [
       "<Figure size 1152x720 with 1 Axes>"
      ]
     },
     "metadata": {
      "needs_background": "light"
     },
     "output_type": "display_data"
    }
   ],
   "source": [
    "plot([('Simple SGD', valid_loss_values), \n",
    "      ('momentum nesterov SGD', valid_loss_values2)])"
   ]
  },
  {
   "cell_type": "markdown",
   "metadata": {},
   "source": [
    "### RMSprop "
   ]
  },
  {
   "cell_type": "code",
   "execution_count": 234,
   "metadata": {},
   "outputs": [
    {
     "name": "stdout",
     "output_type": "stream",
     "text": [
      "EPOCH 0,  train_loss: 1.189258, train_accuracy: 0.570834\n",
      "EPOCH 0, valid_loss: 1.121967, valid_accuracy: 0.605032\n",
      "EPOCH 20,  train_loss: 1.062494, train_accuracy: 0.677779\n",
      "EPOCH 20, valid_loss: 1.086032, valid_accuracy: 0.651739\n",
      "EPOCH 40,  train_loss: 1.049760, train_accuracy: 0.694292\n",
      "EPOCH 40, valid_loss: 1.088617, valid_accuracy: 0.648003\n",
      "EPOCH 60,  train_loss: 1.040263, train_accuracy: 0.703947\n",
      "EPOCH 60, valid_loss: 1.090564, valid_accuracy: 0.647697\n",
      "EPOCH 80,  train_loss: 1.034640, train_accuracy: 0.709712\n",
      "EPOCH 80, valid_loss: 1.092891, valid_accuracy: 0.646369\n",
      "EPOCH 100,  train_loss: 1.029446, train_accuracy: 0.714967\n",
      "EPOCH 100, valid_loss: 1.096849, valid_accuracy: 0.642448\n"
     ]
    }
   ],
   "source": [
    "# Первая простенькая моделька \n",
    "model3 = build_model()\n",
    "\n",
    "# инициализируем SGD optimizer\n",
    "rmsprop = optim.RMSprop(model3.parameters(), lr=LEARNING_RATE, alpha=0.9, eps=1e-08)\n",
    "\n",
    "# запускаем процесс обучения\n",
    "train_loss_values3, train_accuracy_values3, valid_loss_values3, valid_accuracy3 = run_train(model3, optimizer=rmsprop, criterion=criterion)"
   ]
  },
  {
   "cell_type": "code",
   "execution_count": 235,
   "metadata": {},
   "outputs": [
    {
     "data": {
      "image/png": "[encoded data removed]",
      "text/plain": [
       "<Figure size 1152x720 with 1 Axes>"
      ]
     },
     "metadata": {
      "needs_background": "light"
     },
     "output_type": "display_data"
    }
   ],
   "source": [
    "plot([('Simple SGD', valid_loss_values), \n",
    "      ('momentum nesterov SGD', valid_loss_values2),\n",
    "      ('RMSprop', valid_loss_values3)])"
   ]
  },
  {
   "cell_type": "markdown",
   "metadata": {},
   "source": [
    "# Адам"
   ]
  },
  {
   "cell_type": "code",
   "execution_count": 236,
   "metadata": {},
   "outputs": [
    {
     "name": "stdout",
     "output_type": "stream",
     "text": [
      "EPOCH 0,  train_loss: 1.195200, train_accuracy: 0.566266\n",
      "EPOCH 0, valid_loss: 1.123559, valid_accuracy: 0.602963\n",
      "EPOCH 20,  train_loss: 1.062015, train_accuracy: 0.678715\n",
      "EPOCH 20, valid_loss: 1.086455, valid_accuracy: 0.649702\n",
      "EPOCH 40,  train_loss: 1.049956, train_accuracy: 0.693751\n",
      "EPOCH 40, valid_loss: 1.090051, valid_accuracy: 0.646369\n",
      "EPOCH 60,  train_loss: 1.041001, train_accuracy: 0.703041\n",
      "EPOCH 60, valid_loss: 1.091796, valid_accuracy: 0.646957\n",
      "EPOCH 80,  train_loss: 1.034117, train_accuracy: 0.710490\n",
      "EPOCH 80, valid_loss: 1.093781, valid_accuracy: 0.644364\n",
      "EPOCH 100,  train_loss: 1.028991, train_accuracy: 0.716218\n",
      "EPOCH 100, valid_loss: 1.096124, valid_accuracy: 0.643221\n"
     ]
    }
   ],
   "source": [
    "# Первая простенькая моделька \n",
    "model4 = build_model()\n",
    "\n",
    "# инициализируем SGD optimizer\n",
    "adam = optim.Adam(model4.parameters(), lr=LEARNING_RATE, betas=(0.9, 0.999), eps=1e-08)\n",
    "\n",
    "# запускаем процесс обучения\n",
    "train_loss_values4, train_accuracy_values4, valid_loss_values4, valid_accuracy4 = run_train(model4, optimizer=adam, criterion=criterion)"
   ]
  },
  {
   "cell_type": "code",
   "execution_count": 237,
   "metadata": {},
   "outputs": [
    {
     "data": {
      "image/png": "[encoded data removed]",
      "text/plain": [
       "<Figure size 1152x720 with 1 Axes>"
      ]
     },
     "metadata": {
      "needs_background": "light"
     },
     "output_type": "display_data"
    }
   ],
   "source": [
    "plot([('Simple SGD', valid_loss_values), \n",
    "      ('momentum nesterov SGD', valid_loss_values2),\n",
    "      ('RMSprop', valid_loss_values3),\n",
    "      ('ADAM', valid_loss_values4)])"
   ]
  },
  {
   "cell_type": "markdown",
   "metadata": {},
   "source": [
    "# Adam + sheduler (step LR)"
   ]
  },
  {
   "cell_type": "code",
   "execution_count": 238,
   "metadata": {},
   "outputs": [],
   "source": [
    "# функция для картинок, чтобы видеть как скорость обученя меняется от эпохи к эпохе\n",
    "def plot_learning_rate(lr_history):\n",
    "    fig = plt.figure()\n",
    "    plt.plot(range(1, EPOCHS+1), lr_history, label='learning rate')\n",
    "    plt.xlabel(\"epoch\")\n",
    "    plt.xlim([1, EPOCHS+1])\n",
    "    plt.ylabel(\"learning rate\")\n",
    "    plt.legend(loc=0)\n",
    "    plt.grid(True)\n",
    "    plt.title(\"Learning rate\")\n",
    "    plt.show()"
   ]
  },
  {
   "cell_type": "code",
   "execution_count": 239,
   "metadata": {},
   "outputs": [],
   "source": [
    "INIT_LR = 0.1  # берём lr намеренно большим"
   ]
  },
  {
   "cell_type": "code",
   "execution_count": 240,
   "metadata": {},
   "outputs": [
    {
     "name": "stdout",
     "output_type": "stream",
     "text": [
      "EPOCH 0,  train_loss: 1.246794, train_accuracy: 0.495561\n",
      "EPOCH 0, valid_loss: 1.193201, valid_accuracy: 0.550459\n",
      "EPOCH 20,  train_loss: 1.391165, train_accuracy: 0.352503\n",
      "EPOCH 20, valid_loss: 1.392202, valid_accuracy: 0.351465\n",
      "EPOCH 40,  train_loss: 1.391146, train_accuracy: 0.352522\n",
      "EPOCH 40, valid_loss: 1.392202, valid_accuracy: 0.351465\n",
      "EPOCH 60,  train_loss: 1.391156, train_accuracy: 0.352512\n",
      "EPOCH 60, valid_loss: 1.392202, valid_accuracy: 0.351465\n",
      "EPOCH 80,  train_loss: 1.391194, train_accuracy: 0.352474\n",
      "EPOCH 80, valid_loss: 1.392202, valid_accuracy: 0.351465\n",
      "EPOCH 100,  train_loss: 1.391184, train_accuracy: 0.352483\n",
      "EPOCH 100, valid_loss: 1.392202, valid_accuracy: 0.351465\n"
     ]
    }
   ],
   "source": [
    "from torch.optim.lr_scheduler import StepLR\n",
    "\n",
    "\n",
    "# Первая простенькая моделька \n",
    "model5 = build_model()\n",
    "\n",
    "# инициализируем SGD optimizer\n",
    "adam = optim.Adam(model5.parameters(), lr=INIT_LR, betas=(0.9, 0.999), eps=1e-08)\n",
    "\n",
    "# инициализируем \n",
    "scheduler = StepLR(adam, step_size=50, gamma=0.5)\n",
    "\n",
    "# запускаем процесс обучения\n",
    "train_loss_values5, train_accuracy_values5, valid_loss_values5, valid_accuracy5, lr_history5 = run_train(model5, optimizer=adam, \n",
    "                                                                                                        criterion=criterion, scheduler=scheduler)"
   ]
  },
  {
   "cell_type": "code",
   "execution_count": 241,
   "metadata": {},
   "outputs": [],
   "source": [
    "adam = optim.SGD(model5.parameters(), lr=INIT_LR)\n",
    "scheduler = StepLR(adam, step_size=2, gamma=0.1)\n",
    "\n",
    "# for i in range(10):\n",
    "#     print(i+1, scheduler.get_last_lr())\n",
    "#     scheduler.step()"
   ]
  },
  {
   "cell_type": "code",
   "execution_count": 242,
   "metadata": {},
   "outputs": [
    {
     "data": {
      "image/png": "[encoded data removed]",
      "text/plain": [
       "<Figure size 432x288 with 1 Axes>"
      ]
     },
     "metadata": {
      "needs_background": "light"
     },
     "output_type": "display_data"
    }
   ],
   "source": [
    "plot_learning_rate(lr_history5)"
   ]
  },
  {
   "cell_type": "code",
   "execution_count": 243,
   "metadata": {},
   "outputs": [
    {
     "data": {
      "image/png": "[encoded data removed]",
      "text/plain": [
       "<Figure size 1152x720 with 1 Axes>"
      ]
     },
     "metadata": {
      "needs_background": "light"
     },
     "output_type": "display_data"
    }
   ],
   "source": [
    "plot([('Simple SGD', valid_loss_values), \n",
    "      ('momentum nesterov SGD', valid_loss_values2),\n",
    "      ('RMSprop', valid_loss_values3),\n",
    "      ('ADAM', valid_loss_values4),\n",
    "      ('ADAM_step', valid_loss_values5)])"
   ]
  },
  {
   "cell_type": "markdown",
   "metadata": {},
   "source": [
    "# Adam MultiStepLR"
   ]
  },
  {
   "cell_type": "code",
   "execution_count": 244,
   "metadata": {},
   "outputs": [
    {
     "name": "stdout",
     "output_type": "stream",
     "text": [
      "EPOCH 0,  train_loss: 1.141916, train_accuracy: 0.601599\n",
      "EPOCH 0, valid_loss: 1.142461, valid_accuracy: 0.601111\n",
      "EPOCH 20,  train_loss: 1.134646, train_accuracy: 0.609022\n",
      "EPOCH 20, valid_loss: 1.141260, valid_accuracy: 0.602407\n",
      "EPOCH 40,  train_loss: 1.134656, train_accuracy: 0.609012\n",
      "EPOCH 40, valid_loss: 1.141260, valid_accuracy: 0.602407\n",
      "EPOCH 60,  train_loss: 1.134723, train_accuracy: 0.608945\n",
      "EPOCH 60, valid_loss: 1.141260, valid_accuracy: 0.602407\n",
      "EPOCH 80,  train_loss: 1.134665, train_accuracy: 0.609002\n",
      "EPOCH 80, valid_loss: 1.141260, valid_accuracy: 0.602407\n",
      "EPOCH 100,  train_loss: 1.134704, train_accuracy: 0.608964\n",
      "EPOCH 100, valid_loss: 1.141260, valid_accuracy: 0.602407\n"
     ]
    }
   ],
   "source": [
    "from torch.optim.lr_scheduler import MultiStepLR\n",
    "\n",
    "\n",
    "# Первая простенькая моделька \n",
    "model6 = build_model()\n",
    "\n",
    "# инициализируем SGD optimizer\n",
    "adam = optim.Adam(model6.parameters(), lr=INIT_LR, betas=(0.9, 0.999), eps=1e-02)\n",
    "\n",
    "# инициализируем \n",
    "scheduler = MultiStepLR(adam, milestones=[10,80], gamma=0.3)\n",
    "\n",
    "# запускаем процесс обучения\n",
    "train_loss_values6, train_accuracy_values6, valid_loss_values6, valid_accuracy6, lr_history6 = run_train(model6, optimizer=adam, \n",
    "                                                                                                        criterion=criterion, scheduler=scheduler)"
   ]
  },
  {
   "cell_type": "code",
   "execution_count": 245,
   "metadata": {},
   "outputs": [
    {
     "data": {
      "image/png": "[encoded data removed]",
      "text/plain": [
       "<Figure size 432x288 with 1 Axes>"
      ]
     },
     "metadata": {
      "needs_background": "light"
     },
     "output_type": "display_data"
    }
   ],
   "source": [
    "plot_learning_rate(lr_history6)"
   ]
  },
  {
   "cell_type": "code",
   "execution_count": 246,
   "metadata": {},
   "outputs": [
    {
     "data": {
      "image/png": "[encoded data removed]",
      "text/plain": [
       "<Figure size 1152x720 with 1 Axes>"
      ]
     },
     "metadata": {
      "needs_background": "light"
     },
     "output_type": "display_data"
    }
   ],
   "source": [
    "plot([('Simple SGD', valid_loss_values), \n",
    "      ('momentum nesterov SGD', valid_loss_values2),\n",
    "      ('RMSprop', valid_loss_values3),\n",
    "      ('ADAM', valid_loss_values4),\n",
    "      ('ADAM_stepLR', valid_loss_values5),\n",
    "      ('ADAM_MultiStep', valid_loss_values6)])"
   ]
  },
  {
   "cell_type": "markdown",
   "metadata": {},
   "source": [
    "Я пробовал менять самые разные параметры, и это не лучший из полученных результатов (забыл, какие параметры были в лучше, помню максимум давал простой ADAM с valid_accuracy чуть более 70). Как правило, лучшие результаты дают RMSprop  и Adam (простой и multistep). В текущей реализации Multistep оказался менее эффективным и как-то совершенно странно повёл себя Adam со StepLR. "
   ]
  },
  {
   "cell_type": "markdown",
   "metadata": {},
   "source": [
    "### __Сохранение лучшей модели__"
   ]
  },
  {
   "cell_type": "markdown",
   "metadata": {
    "id": "ivYlbiPv6Jzl"
   },
   "source": [
    "Сохраню модель Adam и реализацию в дальнейшем подсчет accuracy на валидационной выборке вручную. "
   ]
  },
  {
   "cell_type": "code",
   "execution_count": 251,
   "metadata": {
    "executionInfo": {
     "elapsed": 1145,
     "status": "ok",
     "timestamp": 1648828223374,
     "user": {
      "displayName": "иван иванов",
      "userId": "02926776193083975428"
     },
     "user_tz": -180
    },
    "id": "YpzcO_1U6Jzl"
   },
   "outputs": [],
   "source": [
    "torch.save(model4, 'simple_nn.pth')"
   ]
  },
  {
   "cell_type": "markdown",
   "metadata": {
    "id": "PvUkWKQv6Jzl"
   },
   "source": [
    "Теперь загрузим сохраненную модель и посмотрим на ее предсказания. Важно! Когда идет этап inference модели, то нужно явно вызвать `model.eval()`, так как в случае если есть droupout или batch norm, то они не дложны работать как в процессе обучения, иначе они продолжат обучаться. "
   ]
  },
  {
   "cell_type": "code",
   "execution_count": 253,
   "metadata": {
    "colab": {
     "base_uri": "https://localhost:8080/"
    },
    "executionInfo": {
     "elapsed": 425,
     "status": "ok",
     "timestamp": 1648828226582,
     "user": {
      "displayName": "иван иванов",
      "userId": "02926776193083975428"
     },
     "user_tz": -180
    },
    "id": "-T-2q5HW6Jzl",
    "outputId": "8cd7b098-bdb4-4bf5-8a63-3bd7c023fdae"
   },
   "outputs": [
    {
     "data": {
      "text/plain": [
       "Sequential(\n",
       "  (0): Linear(in_features=37, out_features=42, bias=True)\n",
       "  (1): ReLU()\n",
       "  (2): Dropout(p=0.5, inplace=False)\n",
       "  (3): Linear(in_features=42, out_features=42, bias=True)\n",
       "  (4): ReLU()\n",
       "  (5): Linear(in_features=42, out_features=4, bias=True)\n",
       "  (6): Softmax(dim=None)\n",
       ")"
      ]
     },
     "execution_count": 253,
     "metadata": {},
     "output_type": "execute_result"
    }
   ],
   "source": [
    "final_model = torch.load('simple_nn.pth')\n",
    "final_model.eval()"
   ]
  },
  {
   "cell_type": "markdown",
   "metadata": {},
   "source": [
    "### __Accuracy__: через torchmetrics и вручную"
   ]
  },
  {
   "cell_type": "markdown",
   "metadata": {},
   "source": [
    "#### Через torchmetrics"
   ]
  },
  {
   "cell_type": "code",
   "execution_count": 280,
   "metadata": {
    "colab": {
     "base_uri": "https://localhost:8080/"
    },
    "executionInfo": {
     "elapsed": 3,
     "status": "ok",
     "timestamp": 1648828228590,
     "user": {
      "displayName": "иван иванов",
      "userId": "02926776193083975428"
     },
     "user_tz": -180
    },
    "id": "za9jUazk6Jzl",
    "outputId": "dfb21264-32a6-4e40-9cab-637f226b05fb",
    "scrolled": true
   },
   "outputs": [
    {
     "name": "stdout",
     "output_type": "stream",
     "text": [
      "0.6399176716804504\n",
      "[[1.00000000e+00 2.14965336e-26 1.04502464e-38 1.99749548e-12]\n",
      " [1.00000000e+00 1.35901493e-20 1.41744161e-16 6.40421230e-16]\n",
      " [9.99943018e-01 4.99022171e-28 2.00647062e-37 5.69379299e-05]\n",
      " ...\n",
      " [1.00000000e+00 4.67247559e-40 3.66189949e-21 1.26223665e-34]\n",
      " [1.00000000e+00 1.09342533e-34 0.00000000e+00 5.12683656e-08]\n",
      " [1.00000000e+00 1.13910475e-35 1.27531938e-26 4.97172644e-23]]\n"
     ]
    }
   ],
   "source": [
    "# Выход модели (вероятность) на тестовой выборке\n",
    "with torch.no_grad():\n",
    "    test_scores = final_model(torch.tensor(X_test.astype(np.float32)))\n",
    "print(accuracy(test_scores, torch.tensor(y_test.astype(np.int))).item())\n",
    "print(test_scores.numpy())"
   ]
  },
  {
   "cell_type": "code",
   "execution_count": 271,
   "metadata": {},
   "outputs": [
    {
     "data": {
      "text/plain": [
       "(5346,)"
      ]
     },
     "execution_count": 271,
     "metadata": {},
     "output_type": "execute_result"
    }
   ],
   "source": [
    "y_test.shape"
   ]
  },
  {
   "cell_type": "code",
   "execution_count": 279,
   "metadata": {},
   "outputs": [
    {
     "data": {
      "text/plain": [
       "torch.Size([5346])"
      ]
     },
     "execution_count": 279,
     "metadata": {},
     "output_type": "execute_result"
    }
   ],
   "source": [
    "test_scores.argmax(dim=1).shape"
   ]
  },
  {
   "cell_type": "markdown",
   "metadata": {},
   "source": [
    "Размерность библиотечного скора совпадает с валидационным target'ом, посчитать accuracy вручную не должно быть слишком сложно"
   ]
  },
  {
   "cell_type": "markdown",
   "metadata": {},
   "source": [
    "#### Вручную"
   ]
  },
  {
   "cell_type": "markdown",
   "metadata": {},
   "source": [
    "Автоматически посчитанный accuracy равен 0.6399, через test_scores.numpy() мы получаем score на валидационной выборке в формате numpy"
   ]
  },
  {
   "cell_type": "code",
   "execution_count": 284,
   "metadata": {},
   "outputs": [
    {
     "data": {
      "text/plain": [
       "0.6399176954732511"
      ]
     },
     "execution_count": 284,
     "metadata": {},
     "output_type": "execute_result"
    }
   ],
   "source": [
    "manual_accuracy = (test_scores.argmax(dim=1).numpy()==y_test).sum() / len(y_test)\n",
    "manual_accuracy"
   ]
  },
  {
   "cell_type": "markdown",
   "metadata": {},
   "source": [
    "Значение вручную посчетанного accuracy практически идентично тому, которые был подсчитан через Torchmetrics"
   ]
  },
  {
   "cell_type": "markdown",
   "metadata": {},
   "source": [
    "#### Кое-что для себя"
   ]
  },
  {
   "cell_type": "code",
   "execution_count": 257,
   "metadata": {
    "colab": {
     "base_uri": "https://localhost:8080/"
    },
    "executionInfo": {
     "elapsed": 1294,
     "status": "ok",
     "timestamp": 1648828235850,
     "user": {
      "displayName": "иван иванов",
      "userId": "02926776193083975428"
     },
     "user_tz": -180
    },
    "id": "go8eH5nx6Jzm",
    "outputId": "3c35af3d-2152-4e7c-e985-8ededf5181d9"
   },
   "outputs": [
    {
     "name": "stdout",
     "output_type": "stream",
     "text": [
      "tensor([0, 0, 0,  ..., 0, 0, 0])\n"
     ]
    }
   ],
   "source": [
    "# Предсказание классов на тестовой выборке\n",
    "with torch.no_grad():\n",
    "    test_scores = final_model(torch.tensor(X_test.astype(np.float32)))\n",
    "predicted_classes = torch.argmax(test_scores, dim=1)\n",
    "print(predicted_classes)"
   ]
  },
  {
   "cell_type": "code",
   "execution_count": 263,
   "metadata": {},
   "outputs": [
    {
     "data": {
      "text/plain": [
       "Adoption           10769\n",
       "Transfer            9422\n",
       "Return_to_owner     4786\n",
       "Euthanasia          1752\n",
       "Name: status, dtype: int64"
      ]
     },
     "execution_count": 263,
     "metadata": {},
     "output_type": "execute_result"
    }
   ],
   "source": [
    "target.status.value_counts()"
   ]
  },
  {
   "cell_type": "code",
   "execution_count": 289,
   "metadata": {},
   "outputs": [
    {
     "data": {
      "text/plain": [
       "0    2676\n",
       "3    1789\n",
       "2     881\n",
       "dtype: int64"
      ]
     },
     "execution_count": 289,
     "metadata": {},
     "output_type": "execute_result"
    }
   ],
   "source": [
    "preds = pd.DataFrame(predicted_classes)\n",
    "preds.value_counts()"
   ]
  },
  {
   "cell_type": "markdown",
   "metadata": {},
   "source": [
    "Странно, почему-то класс 1 куда-то почему-то выпал из прогноза модели. Непонятненько..."
   ]
  }
 ],
 "metadata": {
  "colab": {
   "collapsed_sections": [],
   "name": "sem1_intro_classification_pytorch.ipynb",
   "provenance": []
  },
  "kernelspec": {
   "display_name": "Python 3",
   "language": "python",
   "name": "python3"
  },
  "language_info": {
   "codemirror_mode": {
    "name": "ipython",
    "version": 3
   },
   "file_extension": ".py",
   "mimetype": "text/x-python",
   "name": "python",
   "nbconvert_exporter": "python",
   "pygments_lexer": "ipython3",
   "version": "3.8.5"
  }
 },
 "nbformat": 4,
 "nbformat_minor": 1
}
