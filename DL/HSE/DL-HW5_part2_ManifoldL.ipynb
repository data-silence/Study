{
 "nbformat": 4,
 "nbformat_minor": 0,
 "metadata": {
  "kernelspec": {
   "display_name": "Python 3",
   "language": "python",
   "name": "python3"
  },
  "language_info": {
   "codemirror_mode": {
    "name": "ipython",
    "version": 3
   },
   "file_extension": ".py",
   "mimetype": "text/x-python",
   "name": "python",
   "nbconvert_exporter": "python",
   "pygments_lexer": "ipython3",
   "version": "3.7.2"
  },
  "colab": {
   "name": "HW5_DL_Koleshnya_Marina_part2_ManifoldL.ipynb",
   "provenance": [],
   "collapsed_sections": []
  },
  "accelerator": "GPU",
  "widgets": {
   "application/vnd.jupyter.widget-state+json": {
    "eba8895d5bf44864b42a53a8ea305b3c": {
     "model_module": "@jupyter-widgets/controls",
     "model_name": "HBoxModel",
     "model_module_version": "1.5.0",
     "state": {
      "_dom_classes": [],
      "_model_module": "@jupyter-widgets/controls",
      "_model_module_version": "1.5.0",
      "_model_name": "HBoxModel",
      "_view_count": null,
      "_view_module": "@jupyter-widgets/controls",
      "_view_module_version": "1.5.0",
      "_view_name": "HBoxView",
      "box_style": "",
      "children": [
       "IPY_MODEL_832c72ed2ff14d11872d5582bbcc6bac",
       "IPY_MODEL_e15e59d75ff94f36beadaa8237d15a05",
       "IPY_MODEL_1019f50665314f2ab91a346be120ad5d"
      ],
      "layout": "IPY_MODEL_c88b8d41832d4345870df3852fa2408d"
     }
    },
    "832c72ed2ff14d11872d5582bbcc6bac": {
     "model_module": "@jupyter-widgets/controls",
     "model_name": "HTMLModel",
     "model_module_version": "1.5.0",
     "state": {
      "_dom_classes": [],
      "_model_module": "@jupyter-widgets/controls",
      "_model_module_version": "1.5.0",
      "_model_name": "HTMLModel",
      "_view_count": null,
      "_view_module": "@jupyter-widgets/controls",
      "_view_module_version": "1.5.0",
      "_view_name": "HTMLView",
      "description": "",
      "description_tooltip": null,
      "layout": "IPY_MODEL_f7c5e6885a464a1ca99fd08b5e447f3f",
      "placeholder": "​",
      "style": "IPY_MODEL_fd3418a15e3b47af8194b488a5078c78",
      "value": "100%"
     }
    },
    "e15e59d75ff94f36beadaa8237d15a05": {
     "model_module": "@jupyter-widgets/controls",
     "model_name": "FloatProgressModel",
     "model_module_version": "1.5.0",
     "state": {
      "_dom_classes": [],
      "_model_module": "@jupyter-widgets/controls",
      "_model_module_version": "1.5.0",
      "_model_name": "FloatProgressModel",
      "_view_count": null,
      "_view_module": "@jupyter-widgets/controls",
      "_view_module_version": "1.5.0",
      "_view_name": "ProgressView",
      "bar_style": "success",
      "description": "",
      "description_tooltip": null,
      "layout": "IPY_MODEL_6edb08b4b087480e9184741987a1e637",
      "max": 200,
      "min": 0,
      "orientation": "horizontal",
      "style": "IPY_MODEL_311fb623e3944acfa90745e2d15b8cfa",
      "value": 200
     }
    },
    "1019f50665314f2ab91a346be120ad5d": {
     "model_module": "@jupyter-widgets/controls",
     "model_name": "HTMLModel",
     "model_module_version": "1.5.0",
     "state": {
      "_dom_classes": [],
      "_model_module": "@jupyter-widgets/controls",
      "_model_module_version": "1.5.0",
      "_model_name": "HTMLModel",
      "_view_count": null,
      "_view_module": "@jupyter-widgets/controls",
      "_view_module_version": "1.5.0",
      "_view_name": "HTMLView",
      "description": "",
      "description_tooltip": null,
      "layout": "IPY_MODEL_b9d4e0ff365c4e4d8189996123cb2031",
      "placeholder": "​",
      "style": "IPY_MODEL_947c61cb485b4c8c813c7ba6f41973e6",
      "value": " 200/200 [17:55&lt;00:00,  5.33s/it]"
     }
    },
    "c88b8d41832d4345870df3852fa2408d": {
     "model_module": "@jupyter-widgets/base",
     "model_name": "LayoutModel",
     "model_module_version": "1.2.0",
     "state": {
      "_model_module": "@jupyter-widgets/base",
      "_model_module_version": "1.2.0",
      "_model_name": "LayoutModel",
      "_view_count": null,
      "_view_module": "@jupyter-widgets/base",
      "_view_module_version": "1.2.0",
      "_view_name": "LayoutView",
      "align_content": null,
      "align_items": null,
      "align_self": null,
      "border": null,
      "bottom": null,
      "display": null,
      "flex": null,
      "flex_flow": null,
      "grid_area": null,
      "grid_auto_columns": null,
      "grid_auto_flow": null,
      "grid_auto_rows": null,
      "grid_column": null,
      "grid_gap": null,
      "grid_row": null,
      "grid_template_areas": null,
      "grid_template_columns": null,
      "grid_template_rows": null,
      "height": null,
      "justify_content": null,
      "justify_items": null,
      "left": null,
      "margin": null,
      "max_height": null,
      "max_width": null,
      "min_height": null,
      "min_width": null,
      "object_fit": null,
      "object_position": null,
      "order": null,
      "overflow": null,
      "overflow_x": null,
      "overflow_y": null,
      "padding": null,
      "right": null,
      "top": null,
      "visibility": null,
      "width": null
     }
    },
    "f7c5e6885a464a1ca99fd08b5e447f3f": {
     "model_module": "@jupyter-widgets/base",
     "model_name": "LayoutModel",
     "model_module_version": "1.2.0",
     "state": {
      "_model_module": "@jupyter-widgets/base",
      "_model_module_version": "1.2.0",
      "_model_name": "LayoutModel",
      "_view_count": null,
      "_view_module": "@jupyter-widgets/base",
      "_view_module_version": "1.2.0",
      "_view_name": "LayoutView",
      "align_content": null,
      "align_items": null,
      "align_self": null,
      "border": null,
      "bottom": null,
      "display": null,
      "flex": null,
      "flex_flow": null,
      "grid_area": null,
      "grid_auto_columns": null,
      "grid_auto_flow": null,
      "grid_auto_rows": null,
      "grid_column": null,
      "grid_gap": null,
      "grid_row": null,
      "grid_template_areas": null,
      "grid_template_columns": null,
      "grid_template_rows": null,
      "height": null,
      "justify_content": null,
      "justify_items": null,
      "left": null,
      "margin": null,
      "max_height": null,
      "max_width": null,
      "min_height": null,
      "min_width": null,
      "object_fit": null,
      "object_position": null,
      "order": null,
      "overflow": null,
      "overflow_x": null,
      "overflow_y": null,
      "padding": null,
      "right": null,
      "top": null,
      "visibility": null,
      "width": null
     }
    },
    "fd3418a15e3b47af8194b488a5078c78": {
     "model_module": "@jupyter-widgets/controls",
     "model_name": "DescriptionStyleModel",
     "model_module_version": "1.5.0",
     "state": {
      "_model_module": "@jupyter-widgets/controls",
      "_model_module_version": "1.5.0",
      "_model_name": "DescriptionStyleModel",
      "_view_count": null,
      "_view_module": "@jupyter-widgets/base",
      "_view_module_version": "1.2.0",
      "_view_name": "StyleView",
      "description_width": ""
     }
    },
    "6edb08b4b087480e9184741987a1e637": {
     "model_module": "@jupyter-widgets/base",
     "model_name": "LayoutModel",
     "model_module_version": "1.2.0",
     "state": {
      "_model_module": "@jupyter-widgets/base",
      "_model_module_version": "1.2.0",
      "_model_name": "LayoutModel",
      "_view_count": null,
      "_view_module": "@jupyter-widgets/base",
      "_view_module_version": "1.2.0",
      "_view_name": "LayoutView",
      "align_content": null,
      "align_items": null,
      "align_self": null,
      "border": null,
      "bottom": null,
      "display": null,
      "flex": null,
      "flex_flow": null,
      "grid_area": null,
      "grid_auto_columns": null,
      "grid_auto_flow": null,
      "grid_auto_rows": null,
      "grid_column": null,
      "grid_gap": null,
      "grid_row": null,
      "grid_template_areas": null,
      "grid_template_columns": null,
      "grid_template_rows": null,
      "height": null,
      "justify_content": null,
      "justify_items": null,
      "left": null,
      "margin": null,
      "max_height": null,
      "max_width": null,
      "min_height": null,
      "min_width": null,
      "object_fit": null,
      "object_position": null,
      "order": null,
      "overflow": null,
      "overflow_x": null,
      "overflow_y": null,
      "padding": null,
      "right": null,
      "top": null,
      "visibility": null,
      "width": null
     }
    },
    "311fb623e3944acfa90745e2d15b8cfa": {
     "model_module": "@jupyter-widgets/controls",
     "model_name": "ProgressStyleModel",
     "model_module_version": "1.5.0",
     "state": {
      "_model_module": "@jupyter-widgets/controls",
      "_model_module_version": "1.5.0",
      "_model_name": "ProgressStyleModel",
      "_view_count": null,
      "_view_module": "@jupyter-widgets/base",
      "_view_module_version": "1.2.0",
      "_view_name": "StyleView",
      "bar_color": null,
      "description_width": ""
     }
    },
    "b9d4e0ff365c4e4d8189996123cb2031": {
     "model_module": "@jupyter-widgets/base",
     "model_name": "LayoutModel",
     "model_module_version": "1.2.0",
     "state": {
      "_model_module": "@jupyter-widgets/base",
      "_model_module_version": "1.2.0",
      "_model_name": "LayoutModel",
      "_view_count": null,
      "_view_module": "@jupyter-widgets/base",
      "_view_module_version": "1.2.0",
      "_view_name": "LayoutView",
      "align_content": null,
      "align_items": null,
      "align_self": null,
      "border": null,
      "bottom": null,
      "display": null,
      "flex": null,
      "flex_flow": null,
      "grid_area": null,
      "grid_auto_columns": null,
      "grid_auto_flow": null,
      "grid_auto_rows": null,
      "grid_column": null,
      "grid_gap": null,
      "grid_row": null,
      "grid_template_areas": null,
      "grid_template_columns": null,
      "grid_template_rows": null,
      "height": null,
      "justify_content": null,
      "justify_items": null,
      "left": null,
      "margin": null,
      "max_height": null,
      "max_width": null,
      "min_height": null,
      "min_width": null,
      "object_fit": null,
      "object_position": null,
      "order": null,
      "overflow": null,
      "overflow_x": null,
      "overflow_y": null,
      "padding": null,
      "right": null,
      "top": null,
      "visibility": null,
      "width": null
     }
    },
    "947c61cb485b4c8c813c7ba6f41973e6": {
     "model_module": "@jupyter-widgets/controls",
     "model_name": "DescriptionStyleModel",
     "model_module_version": "1.5.0",
     "state": {
      "_model_module": "@jupyter-widgets/controls",
      "_model_module_version": "1.5.0",
      "_model_name": "DescriptionStyleModel",
      "_view_count": null,
      "_view_module": "@jupyter-widgets/base",
      "_view_module_version": "1.2.0",
      "_view_name": "StyleView",
      "description_width": ""
     }
    }
   }
  }
 },
 "cells": [
  {
   "cell_type": "markdown",
   "source": [
    "#**Домашнее задание №5. Часть 2. Manifold. Homotopy.**<br>\n",
    "**Выполнила: FIO.**\n"
   ],
   "metadata": {
    "id": "QX3oepxeI1Ie"
   }
  },
  {
   "cell_type": "markdown",
   "source": [
    "## Домашнее задание:\n",
    "\n",
    "Написать арх-ру автоэнкодера и обучить ее так, чтобы получить низкую ошибку и качественный переход от одного реального изображения к другому на картинках ниже. "
   ],
   "metadata": {
    "id": "y7rIUiRUJThT"
   }
  },
  {
   "cell_type": "code",
   "source": [
    " # Импорт необходимых библиотек\n",
    "import numpy as np\n",
    "import matplotlib.pyplot as plt\n",
    "%matplotlib inline\n",
    "import seaborn as sns\n",
    "from itertools import cycle"
   ],
   "metadata": {
    "id": "c2LJNGRvIukw"
   },
   "execution_count": 19,
   "outputs": []
  },
  {
   "cell_type": "code",
   "metadata": {
    "id": "QOR1ttaY41G1"
   },
   "source": [
    "import torch\n",
    "import torch.nn as nn\n",
    "import torch.nn.functional as F\n",
    "import torch.optim as optim\n",
    "from torch.utils.data import TensorDataset, DataLoader\n",
    "\n",
    "from tqdm.auto import tqdm"
   ],
   "execution_count": 20,
   "outputs": []
  },
  {
   "cell_type": "code",
   "metadata": {
    "colab": {
     "base_uri": "https://localhost:8080/"
    },
    "id": "Ljo3u863I61a",
    "outputId": "effd8964-3269-40b3-bd68-418dfd82554e"
   },
   "source": [
    "DEVICE = torch.device('cuda' if torch.cuda.is_available() else 'cpu')\n",
    "print(DEVICE)\n",
    "\n",
    "EPOCHS = 40"
   ],
   "execution_count": 21,
   "outputs": [
    {
     "output_type": "stream",
     "name": "stdout",
     "text": [
      "cuda\n"
     ]
    }
   ]
  },
  {
   "cell_type": "code",
   "metadata": {
    "id": "jQsTbUli4rFO"
   },
   "source": [
    "# Train your autoencoder\n",
    "def train(model, train_loader, device=DEVICE, epochs=EPOCHS, path=''):\n",
    "    train_loss = []\n",
    "    train_loss_epoch = []\n",
    "\n",
    "    for epoch in tqdm(range(epochs)):\n",
    "        model.train()\n",
    "        for X in train_loader:\n",
    "            batch = X[0].to(device)  # [0] is needed due to X being a list of one element because no y in (X, y) \n",
    "            reconstruction, _ = model(batch)\n",
    "            loss = criterion(reconstruction, batch)\n",
    "            loss.backward()\n",
    "\n",
    "            optimizer.step()\n",
    "            optimizer.zero_grad()\n",
    "\n",
    "            train_loss.append(loss.detach().cpu().numpy())\n",
    "        \n",
    "        train_loss_epoch.append(np.mean(train_loss))\n",
    "\n",
    "        if epoch % 25 == 0:\n",
    "            print(f\"After {epoch} epochs, training loss: {train_loss_epoch[-1]:.6f}\")\n",
    "\n",
    "    return model, train_loss_epoch"
   ],
   "execution_count": 22,
   "outputs": []
  },
  {
   "cell_type": "code",
   "metadata": {
    "id": "_delM-Q2t4G7"
   },
   "source": [
    "from torchvision import datasets\n",
    "from torchvision.transforms import ToTensor\n",
    "\n",
    "train_data = datasets.MNIST(\n",
    "    root = 'data',\n",
    "    train = True,                         \n",
    "    transform = ToTensor(), \n",
    "    download = True,            \n",
    ")\n",
    "test_data = datasets.MNIST(\n",
    "    root = 'data', \n",
    "    train = False, \n",
    "    transform = ToTensor()\n",
    ")"
   ],
   "execution_count": 23,
   "outputs": []
  },
  {
   "cell_type": "code",
   "source": [
    "train_data.data.shape"
   ],
   "metadata": {
    "colab": {
     "base_uri": "https://localhost:8080/"
    },
    "id": "oizgjYwG3Q3Z",
    "outputId": "9d018aed-936c-4964-b178-5a68c63cd368"
   },
   "execution_count": 24,
   "outputs": [
    {
     "output_type": "execute_result",
     "data": {
      "text/plain": [
       "torch.Size([60000, 28, 28])"
      ]
     },
     "metadata": {},
     "execution_count": 24
    }
   ]
  },
  {
   "cell_type": "code",
   "metadata": {
    "colab": {
     "base_uri": "https://localhost:8080/"
    },
    "id": "jGUPv8ULGyEU",
    "outputId": "1ca00907-faf5-428a-9bef-ef348028a6cc"
   },
   "source": [
    "train_data = train_data.data[:, None, :, :]\n",
    "test_data = test_data.data[:, None, :, :]\n",
    "\n",
    "X_train = torch.tensor(train_data, dtype=torch.float32)\n",
    "X_test = torch.tensor(test_data, dtype=torch.float32)\n",
    "\n",
    "dataset_train = TensorDataset(X_train)\n",
    "dataset_test = TensorDataset(X_test)\n",
    "\n",
    "loaders = {\n",
    "    'train' : torch.utils.data.DataLoader(dataset_train, \n",
    "                                          batch_size=256, \n",
    "                                          shuffle=True, \n",
    "                                          num_workers=1),\n",
    "    \n",
    "    'test'  : torch.utils.data.DataLoader(dataset_test, \n",
    "                                          batch_size=256, \n",
    "                                          shuffle=False, \n",
    "                                          num_workers=1),\n",
    "}"
   ],
   "execution_count": 25,
   "outputs": [
    {
     "output_type": "stream",
     "name": "stderr",
     "text": [
      "/usr/local/lib/python3.7/dist-packages/ipykernel_launcher.py:4: UserWarning: To copy construct from a tensor, it is recommended to use sourceTensor.clone().detach() or sourceTensor.clone().detach().requires_grad_(True), rather than torch.tensor(sourceTensor).\n",
      "  after removing the cwd from sys.path.\n",
      "/usr/local/lib/python3.7/dist-packages/ipykernel_launcher.py:5: UserWarning: To copy construct from a tensor, it is recommended to use sourceTensor.clone().detach() or sourceTensor.clone().detach().requires_grad_(True), rather than torch.tensor(sourceTensor).\n",
      "  \"\"\"\n"
     ]
    }
   ]
  },
  {
   "cell_type": "code",
   "source": [
    "train_data.shape"
   ],
   "metadata": {
    "colab": {
     "base_uri": "https://localhost:8080/"
    },
    "id": "xDNJ0hUzbXUp",
    "outputId": "02030dc4-3ed6-4678-f9e4-9affe4b6dcdf"
   },
   "execution_count": 26,
   "outputs": [
    {
     "output_type": "execute_result",
     "data": {
      "text/plain": [
       "torch.Size([60000, 1, 28, 28])"
      ]
     },
     "metadata": {},
     "execution_count": 26
    }
   ]
  },
  {
   "cell_type": "code",
   "metadata": {
    "colab": {
     "base_uri": "https://localhost:8080/"
    },
    "id": "gh8n2--gIIy6",
    "outputId": "452b96a3-e294-474f-f982-d5248f783043"
   },
   "source": [
    "iter(loaders['train']).next()[0].shape"
   ],
   "execution_count": 27,
   "outputs": [
    {
     "output_type": "execute_result",
     "data": {
      "text/plain": [
       "torch.Size([256, 1, 28, 28])"
      ]
     },
     "metadata": {},
     "execution_count": 27
    }
   ]
  },
  {
   "cell_type": "code",
   "source": [
    "# Train your autoencoder\n",
    "# Visualize progress in reconstruction and loss decay\n",
    "\n",
    "def train(model, train_loader, val_loader, device=DEVICE, epochs=EPOCHS, path=''):\n",
    "    train_loss, val_loss = [], []\n",
    "    train_loss_epoch, val_loss_epoch = [], []\n",
    "\n",
    "    for epoch in tqdm(range(epochs)):\n",
    "        model.train()\n",
    "        for X in train_loader:\n",
    "            batch = X[0].to(device)  # [0] is needed due to X being a list\n",
    "            reconstruction, _ = model(batch)\n",
    "            loss = criterion(reconstruction, batch)\n",
    "            loss.backward()\n",
    "\n",
    "            optimizer.step()\n",
    "            optimizer.zero_grad()\n",
    "\n",
    "            train_loss.append(loss.detach().cpu().numpy())\n",
    "\n",
    "        model.eval()\n",
    "        with torch.no_grad():\n",
    "            for X in val_loader:\n",
    "                batch = X[0].to(device)  # [0] is needed due to X being a list\n",
    "                reconstruction, _ = model(batch)\n",
    "\n",
    "                loss = criterion(reconstruction, batch)\n",
    "                val_loss.append(loss.cpu().numpy())\n",
    "\n",
    "        train_loss_epoch.append(np.mean(train_loss))\n",
    "        val_loss_epoch.append(np.mean(val_loss))\n",
    "\n",
    "        if epoch % 20 == 0:\n",
    "            print(\n",
    "                f\"After {epoch} epochs, training loss: {train_loss_epoch[-1]:.6f};   \"\n",
    "                f\"val loss: {val_loss_epoch[-1]:.6f}\")\n",
    "\n",
    "     #   os.makedirs(path, exist_ok=True)\n",
    "        torch.save(model.state_dict(), path + '/checkpoint.pt')\n",
    "\n",
    "    return model, train_loss_epoch, val_loss_epoch"
   ],
   "metadata": {
    "id": "H_thQtM_75LX"
   },
   "execution_count": 28,
   "outputs": []
  },
  {
   "cell_type": "code",
   "source": [
    "def plot(train_loss_epoch, val_loss_epoch):\n",
    "    plt.figure(figsize = (8, 6))\n",
    "    plt.plot(train_loss_epoch, label='Train')\n",
    "    plt.plot(val_loss_epoch, label='Valid')\n",
    "\n",
    "    plt.title('Training')\n",
    "    plt.xlabel('Epochs')\n",
    "    plt.ylabel('Loss')\n",
    "    plt.legend()\n",
    "    plt.show()"
   ],
   "metadata": {
    "id": "DAaPtAdN75kL"
   },
   "execution_count": 29,
   "outputs": []
  },
  {
   "cell_type": "code",
   "source": [
    "class CNNAutoencoder(nn.Module):\n",
    "\n",
    "    def __init__(self, code_size=200):\n",
    "\n",
    "        super().__init__()\n",
    "        \n",
    "        self.encoder = nn.Sequential(\n",
    "                        \n",
    "           nn.Conv2d(in_channels=1, out_channels=32, kernel_size=3, stride=1, padding=1),\n",
    "           nn.BatchNorm2d(32),\n",
    "           nn.ELU(),\n",
    "           nn.MaxPool2d(kernel_size=2, stride=2),\n",
    "           nn.Conv2d(in_channels=32, out_channels=code_size, kernel_size=3, stride=1, padding=1),\n",
    "\n",
    "       )\n",
    "        self.decoder = nn.Sequential(\n",
    "\n",
    "           nn.ConvTranspose2d(in_channels=code_size, out_channels=32, kernel_size=3, stride=1, padding=1),\n",
    "           nn.BatchNorm2d(32),\n",
    "           nn.ELU(),\n",
    "           nn.Upsample(scale_factor=2, mode='bilinear'),\n",
    "           nn.ConvTranspose2d(in_channels=32, out_channels=1, kernel_size=3, stride=1, padding=1),\n",
    "\n",
    "        )\n",
    "        \n",
    "       \n",
    "    def forward(self, x):\n",
    "        latent_code = self.encoder(x)\n",
    "        reconstruction = self.decoder(latent_code)\n",
    "        return reconstruction, latent_code\n"
   ],
   "metadata": {
    "id": "HFWDizJMIZnB"
   },
   "execution_count": 30,
   "outputs": []
  },
  {
   "cell_type": "code",
   "source": [
    "criterion = torch.nn.MSELoss()\n",
    "\n",
    "conv_autoencoder1 = CNNAutoencoder()\n",
    "conv_autoencoder1.to(DEVICE)\n",
    "\n",
    "# Use Adam optimizer\n",
    "optimizer = optim.Adam(conv_autoencoder1.parameters(), lr=7e-4)\n",
    "conv_model, train_loss, val_loss = train(conv_autoencoder1, \n",
    "                               loaders['train'], loaders['test'],\n",
    "                               device=DEVICE, epochs=200)"
   ],
   "metadata": {
    "colab": {
     "base_uri": "https://localhost:8080/",
     "height": 223,
     "referenced_widgets": [
      "eba8895d5bf44864b42a53a8ea305b3c",
      "832c72ed2ff14d11872d5582bbcc6bac",
      "e15e59d75ff94f36beadaa8237d15a05",
      "1019f50665314f2ab91a346be120ad5d",
      "c88b8d41832d4345870df3852fa2408d",
      "f7c5e6885a464a1ca99fd08b5e447f3f",
      "fd3418a15e3b47af8194b488a5078c78",
      "6edb08b4b087480e9184741987a1e637",
      "311fb623e3944acfa90745e2d15b8cfa",
      "b9d4e0ff365c4e4d8189996123cb2031",
      "947c61cb485b4c8c813c7ba6f41973e6"
     ]
    },
    "id": "889bhuhU8lbw",
    "outputId": "70c340b3-b662-4595-de67-f1a829e7cd77"
   },
   "execution_count": 31,
   "outputs": [
    {
     "output_type": "display_data",
     "data": {
      "text/plain": [
       "  0%|          | 0/200 [00:00<?, ?it/s]"
      ],
      "application/vnd.jupyter.widget-view+json": {
       "version_major": 2,
       "version_minor": 0,
       "model_id": "eba8895d5bf44864b42a53a8ea305b3c"
      }
     },
     "metadata": {}
    },
    {
     "output_type": "stream",
     "name": "stdout",
     "text": [
      "After 0 epochs, training loss: 4124.755371;   val loss: 2480.656494\n",
      "After 20 epochs, training loss: 540.988037;   val loss: 418.600433\n",
      "After 40 epochs, training loss: 352.022980;   val loss: 289.237793\n",
      "After 60 epochs, training loss: 279.823029;   val loss: 237.390991\n",
      "After 80 epochs, training loss: 240.646591;   val loss: 208.604980\n",
      "After 100 epochs, training loss: 215.675644;   val loss: 189.870895\n",
      "After 120 epochs, training loss: 198.167679;   val loss: 176.596039\n",
      "After 140 epochs, training loss: 185.123962;   val loss: 166.543625\n",
      "After 160 epochs, training loss: 174.969498;   val loss: 158.673553\n",
      "After 180 epochs, training loss: 166.810867;   val loss: 152.302338\n"
     ]
    }
   ]
  },
  {
   "cell_type": "code",
   "source": [
    "plot(train_loss, val_loss)"
   ],
   "metadata": {
    "colab": {
     "base_uri": "https://localhost:8080/",
     "height": 404
    },
    "id": "5ZaPxzJt8sot",
    "outputId": "f8cbb7fa-0e85-414f-f817-3f63cda2b729"
   },
   "execution_count": 32,
   "outputs": [
    {
     "output_type": "display_data",
     "data": {
      "text/plain": [
       "<Figure size 576x432 with 1 Axes>"
      ],
      "image/png": "[encoded data removed]"
     },
     "metadata": {
      "needs_background": "light"
     }
    }
   ]
  },
  {
   "cell_type": "code",
   "metadata": {
    "id": "UVA_1k5xrRlx"
   },
   "source": [
    "def plot_digits(args):\n",
    "    n = min([x.shape[0] for x in args])\n",
    "    \n",
    "    plt.figure(figsize=(40, 60))\n",
    "    for j in range(n):\n",
    "        for i in range(len(args)):\n",
    "            plt.subplot(n, len(args), i*n + j + 1)\n",
    "            plt.imshow(args[i][j])\n",
    "            plt.gray()\n",
    "\n",
    "    plt.show()\n",
    "\n",
    "# Гомотопия по прямой между объектами или между кодами\n",
    "def plot_homotopy(frm, to, n=10, decode=False, model=conv_model, device=DEVICE):\n",
    "    z = []\n",
    "    for i, weight in enumerate(np.linspace(0., 1., n)):\n",
    "        z.append(frm * (1-weight) + to * weight)\n",
    "    if decode:\n",
    "        with torch.no_grad():\n",
    "            print(len(z[0]))\n",
    "            z = [elem[None, :].to(device) for elem in z]\n",
    "            z = torch.cat(z)\n",
    "            reconstruction = model.decoder(z)\n",
    "            reconstruction = reconstruction.cpu()\n",
    "        plot_digits(reconstruction)\n",
    "    else:\n",
    "        plot_digits(z)"
   ],
   "execution_count": 33,
   "outputs": []
  },
  {
   "cell_type": "code",
   "metadata": {
    "id": "2QqBC_f-ZyXR",
    "colab": {
     "base_uri": "https://localhost:8080/",
     "height": 138
    },
    "outputId": "a999fa30-2fa8-459d-8cf6-1a9c3cb2f1a5"
   },
   "source": [
    "# Гомотопия между первыми двумя восьмерками\n",
    "\n",
    "# 61 и 84 выбраны не случайно, под такими индексами в тестовых данных хранятся восьмерки\n",
    "\n",
    "frm = dataset_test[61][0]\n",
    "to = dataset_test[84][0]\n",
    "plot_homotopy(frm, to)"
   ],
   "execution_count": 34,
   "outputs": [
    {
     "output_type": "display_data",
     "data": {
      "text/plain": [
       "<Figure size 2880x4320 with 10 Axes>"
      ],
      "image/png": "[encoded data removed]"
     },
     "metadata": {
      "needs_background": "light"
     }
    }
   ]
  },
  {
   "cell_type": "markdown",
   "metadata": {
    "id": "h4lP6cDBrRlz"
   },
   "source": [
    "Если наше латентное пространтсво корректное, мы нашли правильно параметаризованное латентное пространство, \n",
    "то небольшие сдвиги в этом пространстве должны давать разумные результаты: \n",
    "\n",
    "**Можно сказать то же самое, но завернуть это более витиевато:** Если же двигаться по кривой между кодами (и если многообразие кодов хорошо параметризовано), то декодер переведет эту кривую из пространства кодов, в кривую, не покидающую определяющее многообразие в пространстве объектов. То есть промежуточные объекты на кривой будут принадлежать генеральной совокупности."
   ]
  },
  {
   "cell_type": "code",
   "metadata": {
    "id": "JQ7BLsOITDDm",
    "colab": {
     "base_uri": "https://localhost:8080/"
    },
    "outputId": "53506467-3c6a-4885-f306-c4cd136e21c9"
   },
   "source": [
    "conv_model.encoder(frm[None, :, :, :].to(DEVICE)).shape"
   ],
   "execution_count": 35,
   "outputs": [
    {
     "output_type": "execute_result",
     "data": {
      "text/plain": [
       "torch.Size([1, 200, 14, 14])"
      ]
     },
     "metadata": {},
     "execution_count": 35
    }
   ]
  },
  {
   "cell_type": "code",
   "metadata": {
    "id": "wvX2SXY7Z33M",
    "colab": {
     "base_uri": "https://localhost:8080/",
     "height": 156
    },
    "outputId": "d2ec2ea3-0b78-483b-bbcf-db7465aee76e"
   },
   "source": [
    "frm = dataset_test[61][0]\n",
    "to = dataset_test[84][0]\n",
    "\n",
    "with torch.no_grad():\n",
    "    frm_enc = conv_model.encoder(frm[None, :, :, :].to(DEVICE))\n",
    "    to_enc = conv_model.encoder(to[None, :, :, :].to(DEVICE))\n",
    "    codes = torch.cat([frm_enc, to_enc])\n",
    "\n",
    "plot_homotopy(codes[0], codes[1], n=10, decode=True)\n",
    "# plot_homotopy(frm, to, n=10, decode=True)"
   ],
   "execution_count": 36,
   "outputs": [
    {
     "output_type": "stream",
     "name": "stdout",
     "text": [
      "200\n"
     ]
    },
    {
     "output_type": "display_data",
     "data": {
      "text/plain": [
       "<Figure size 2880x4320 with 10 Axes>"
      ],
      "image/png": "[encoded data removed]"
     },
     "metadata": {
      "needs_background": "light"
     }
    }
   ]
  }
 ]
}
