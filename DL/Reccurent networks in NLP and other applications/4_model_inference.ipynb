{
  "cells": [
    {
      "metadata": {
        "id": "83c659a9eeb063b3"
      },
      "cell_type": "markdown",
      "source": [
        "# Как применять модель с использованием HF"
      ],
      "id": "83c659a9eeb063b3"
    },
    {
      "cell_type": "markdown",
      "source": [
        "Модель скачивается автоматически из моего репозитория на HaggingFace\n",
        "При желании можно скачать самостоятельно [отсюда](https://huggingface.co/data-silence/lstm-news-classifier/resolve/main/model.pth?download=true)"
      ],
      "metadata": {
        "id": "sPbggtuAqu0I"
      },
      "id": "sPbggtuAqu0I"
    },
    {
      "metadata": {
        "id": "9fd48b129ca55926"
      },
      "cell_type": "code",
      "outputs": [],
      "execution_count": null,
      "source": [
        "import torch.nn as nn\n",
        "from transformers import BertModel\n",
        "import torch\n",
        "from transformers import AutoTokenizer\n",
        "from huggingface_hub import hf_hub_download"
      ],
      "id": "9fd48b129ca55926"
    },
    {
      "metadata": {
        "id": "21e36ca58d064128"
      },
      "cell_type": "markdown",
      "source": [
        "## 1. Задаём класс для классификатора"
      ],
      "id": "21e36ca58d064128"
    },
    {
      "metadata": {
        "id": "4805758171adb116"
      },
      "cell_type": "markdown",
      "source": [
        "(без этого шага загруженная в новую среду модель не сможет инициализировать свои параметры и выдаст ошибку)"
      ],
      "id": "4805758171adb116"
    },
    {
      "metadata": {
        "ExecuteTime": {
          "end_time": "2024-08-23T17:44:51.118996Z",
          "start_time": "2024-08-23T17:44:47.232057Z"
        },
        "id": "7bf916a3d6775656"
      },
      "cell_type": "code",
      "source": [
        "class BiLSTMClassifier(nn.Module):\n",
        "    def __init__(self, hidden_dim, output_dim, n_layers, dropout):\n",
        "        super(BiLSTMClassifier, self).__init__()\n",
        "        self.bert = BertModel.from_pretrained(\"bert-base-multilingual-cased\")\n",
        "        self.lstm = nn.LSTM(self.bert.config.hidden_size, hidden_dim, num_layers=n_layers,\n",
        "                            bidirectional=True, dropout=dropout, batch_first=True)\n",
        "        self.fc = nn.Linear(hidden_dim * 2, output_dim)\n",
        "        self.dropout = nn.Dropout(dropout)\n",
        "\n",
        "    def forward(self, input_ids, attention_mask, labels=None):\n",
        "            with torch.no_grad():\n",
        "                embedded = self.bert(input_ids=input_ids, attention_mask=attention_mask)[0]\n",
        "            lstm_out, _ = self.lstm(embedded)\n",
        "            pooled = torch.mean(lstm_out, dim=1)\n",
        "            logits = self.fc(self.dropout(pooled))\n",
        "\n",
        "            if labels is not None:\n",
        "                loss_fn = nn.CrossEntropyLoss()\n",
        "                loss = loss_fn(logits, labels)\n",
        "                return {\"loss\": loss, \"logits\": logits}  # Возвращаем словарь\n",
        "            return logits  # Возвращаем логиты, если метки не переданы"
      ],
      "id": "7bf916a3d6775656",
      "outputs": [],
      "execution_count": null
    },
    {
      "cell_type": "code",
      "id": "initial_id",
      "metadata": {
        "collapsed": true,
        "ExecuteTime": {
          "end_time": "2024-08-23T17:44:59.497601Z",
          "start_time": "2024-08-23T17:44:58.219890Z"
        },
        "id": "initial_id",
        "outputId": "c06faff9-c1aa-4331-d4f6-096fe7dde112"
      },
      "source": [
        "# словарь для расшифровки категорий, т.к. модель предскажет только номер класса\n",
        "categories = ['climate', 'conflicts', 'culture', 'economy', 'gloss', 'health',\n",
        "              'politics', 'science', 'society', 'sports', 'travel']\n",
        "\n",
        "# загружаем модель с HF\n",
        "repo_id = \"data-silence/lstm-news-classifier\"\n",
        "tokenizer = AutoTokenizer.from_pretrained(repo_id)\n",
        "model_path = hf_hub_download(repo_id=repo_id, filename=\"model.pth\")\n",
        "\n",
        "model = torch.load(model_path)\n",
        "\n",
        "# получаем предсказания модели\n",
        "def get_predictions(news: str, model) -> str:\n",
        "    with torch.no_grad():\n",
        "        inputs = tokenizer(news, return_tensors=\"pt\")\n",
        "        del inputs['token_type_ids']\n",
        "        output = model.forward(**inputs)\n",
        "    id_best_label = torch.argmax(output[0, :], dim=-1).detach().cpu().numpy()\n",
        "    prediction = categories[id_best_label]\n",
        "    return prediction"
      ],
      "outputs": [
        {
          "name": "stderr",
          "output_type": "stream",
          "text": [
            "C:\\Users\\user\\AppData\\Local\\Temp\\ipykernel_24764\\1387115929.py:13: FutureWarning: You are using `torch.load` with `weights_only=False` (the current default value), which uses the default pickle module implicitly. It is possible to construct malicious pickle data which will execute arbitrary code during unpickling (See https://github.com/pytorch/pytorch/blob/main/SECURITY.md#untrusted-models for more details). In a future release, the default value for `weights_only` will be flipped to `True`. This limits the functions that could be executed during unpickling. Arbitrary objects will no longer be allowed to be loaded via this mode unless they are explicitly allowlisted by the user via `torch.serialization.add_safe_globals`. We recommend you start setting `weights_only=True` for any use case where you don't have full control of the loaded file. Please open an issue on GitHub for any issues related to this experimental feature.\n",
            "  model = torch.load(model_path)\n"
          ]
        }
      ],
      "execution_count": null
    },
    {
      "metadata": {
        "ExecuteTime": {
          "end_time": "2024-08-23T17:45:33.372754Z",
          "start_time": "2024-08-23T17:45:32.515437Z"
        },
        "id": "84e9e4a3757ea5bf",
        "outputId": "81d89825-71fd-42e6-d6b3-6cef7e311b55"
      },
      "cell_type": "code",
      "source": [
        "# Использование классификатора\n",
        "news = 'В Париже завершилась церемония завершения Олимпийский игр'\n",
        "get_predictions(news, model=model)"
      ],
      "id": "84e9e4a3757ea5bf",
      "outputs": [
        {
          "data": {
            "text/plain": [
              "'sports'"
            ]
          },
          "execution_count": 4,
          "metadata": {},
          "output_type": "execute_result"
        }
      ],
      "execution_count": null
    }
  ],
  "metadata": {
    "kernelspec": {
      "display_name": "Python 3",
      "language": "python",
      "name": "python3"
    },
    "language_info": {
      "codemirror_mode": {
        "name": "ipython",
        "version": 2
      },
      "file_extension": ".py",
      "mimetype": "text/x-python",
      "name": "python",
      "nbconvert_exporter": "python",
      "pygments_lexer": "ipython2",
      "version": "2.7.6"
    },
    "colab": {
      "provenance": []
    }
  },
  "nbformat": 4,
  "nbformat_minor": 5
}