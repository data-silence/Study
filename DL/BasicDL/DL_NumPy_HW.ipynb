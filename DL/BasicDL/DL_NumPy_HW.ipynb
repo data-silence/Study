{
  "nbformat": 4,
  "nbformat_minor": 0,
  "metadata": {
    "colab": {
      "provenance": []
    },
    "kernelspec": {
      "name": "python3",
      "display_name": "Python 3"
    },
    "language_info": {
      "name": "python"
    }
  },
  "cells": [
    {
      "cell_type": "markdown",
      "source": [
        "## Домашнее задание\n",
        "\n",
        "В этом домашнем задании вы подготовитесь к более сложным модулям. Сейчас вы:\n",
        "\n",
        "* потренируетесь реализовывать простейшие логические операции в python\n",
        "\n",
        "* научитесь реализовывать сигма-функцию и вычислять от нее производную\n",
        "\n",
        "* научитесь конструировать графы вычисления в python"
      ],
      "metadata": {
        "id": "_fL0xsGWo-6M"
      }
    },
    {
      "cell_type": "markdown",
      "source": [
        "**Задание 1 (логические операции)**\n",
        "\n",
        "Реализуйте три функции по [формулам](https://stepik.org/lesson/1075284/step/6?unit=1085378) из урока:  \n",
        "\n",
        "* `logical_and(x1,x2)`\n",
        "\n",
        "* `logical_or(x1,x2)`\n",
        "\n",
        "* `logical_xor(x1,x2)`\n",
        "\n"
      ],
      "metadata": {
        "id": "1q9yW4KRmLPg"
      }
    },
    {
      "cell_type": "code",
      "source": [
        "import numpy as np"
      ],
      "metadata": {
        "id": "q2sGPRi6kNMm"
      },
      "execution_count": 2,
      "outputs": []
    },
    {
      "cell_type": "code",
      "execution_count": 15,
      "metadata": {
        "id": "uRpAi6msgYG0"
      },
      "outputs": [],
      "source": [
        "def logical_and(x1: np.array, x2: np.array):\n",
        "  return x1 & x2\n",
        "\n",
        "def logical_or(x1: np.array, x2: np.array):\n",
        "  return x1 | x2\n",
        "\n",
        "def logical_xor(x1: np.array, x2: np.array):\n",
        "  return np.logical_xor(x1, 2)"
      ]
    },
    {
      "cell_type": "markdown",
      "source": [
        "## Quiz\n",
        "\n",
        "Используя написанные функции, вычислите:\n",
        "\n",
        "1) `x1 AND not(x2)` при `x1=0, x2=1`\n",
        "\n",
        "2) `x1 XOR (not(x2) OR x1)` при `x1=x2=0`\n",
        "\n",
        "Здесь `not(x) = 1-x`"
      ],
      "metadata": {
        "id": "fGyoqwyemool"
      }
    },
    {
      "cell_type": "code",
      "source": [
        "logical_and(0, not(1))"
      ],
      "metadata": {
        "id": "X61BotHTnA27",
        "colab": {
          "base_uri": "https://localhost:8080/"
        },
        "outputId": "826ba5b6-4962-43dd-bef9-a9e1aaf8bb93"
      },
      "execution_count": 7,
      "outputs": [
        {
          "output_type": "execute_result",
          "data": {
            "text/plain": [
              "0"
            ]
          },
          "metadata": {},
          "execution_count": 7
        }
      ]
    },
    {
      "cell_type": "code",
      "source": [
        "b = logical_and(not(0), 0)\n",
        "logical_xor(not(0), b)"
      ],
      "metadata": {
        "colab": {
          "base_uri": "https://localhost:8080/"
        },
        "id": "tFw5n3Pvl_9M",
        "outputId": "5e689be3-98b6-420c-e67d-4d3d2eceda52"
      },
      "execution_count": 16,
      "outputs": [
        {
          "output_type": "execute_result",
          "data": {
            "text/plain": [
              "False"
            ]
          },
          "metadata": {},
          "execution_count": 16
        }
      ]
    },
    {
      "cell_type": "markdown",
      "source": [
        "**Задание 2 (сигмоида)**\n",
        "\n",
        "Реализуйте функцию `sigmoid(x)`, вычисляющую значение сигмоиды в точке `x`."
      ],
      "metadata": {
        "id": "Dp9ie8AJnfNQ"
      }
    },
    {
      "cell_type": "code",
      "source": [
        "def sigmoid(x):\n",
        "  return 1 / (1 + np.exp(-x))"
      ],
      "metadata": {
        "id": "wc5vx0gxqHg-"
      },
      "execution_count": 18,
      "outputs": []
    },
    {
      "cell_type": "markdown",
      "source": [
        "## Quiz\n",
        "\n",
        "Чему равно значение `sigmoid(2)`? Ответ округлите до сотых."
      ],
      "metadata": {
        "id": "Yah6UrBwnsgR"
      }
    },
    {
      "cell_type": "code",
      "source": [
        "# import numpy as np\n",
        "\n",
        "sigmoid(2)"
      ],
      "metadata": {
        "id": "QmumA70fh2dm",
        "colab": {
          "base_uri": "https://localhost:8080/"
        },
        "outputId": "b5ecf4ab-00cc-4280-b8c9-69676a204359"
      },
      "execution_count": 19,
      "outputs": [
        {
          "output_type": "execute_result",
          "data": {
            "text/plain": [
              "0.8807970779778823"
            ]
          },
          "metadata": {},
          "execution_count": 19
        }
      ]
    },
    {
      "cell_type": "markdown",
      "source": [
        "## Quiz\n",
        "\n",
        "В дальнейшем для обучения нейронных сетей нам понадобится умение вычислять производную сигма-функции. Чему она равна?\n",
        "\n",
        "(варианты ответа на Stepik)"
      ],
      "metadata": {
        "id": "8qD8eFxpnxX0"
      }
    },
    {
      "cell_type": "markdown",
      "source": [
        "Реализуйте функцию `diff_sigmoid(x)`, вычисляющую производную сигма-функции в точке `x`."
      ],
      "metadata": {
        "id": "yYRdHTgWn9u5"
      }
    },
    {
      "cell_type": "code",
      "source": [
        "def diff_sigmoid(x):\n",
        "  return sigmoid(x) * (1 - sigmoid(x))"
      ],
      "metadata": {
        "id": "h2OzhS1SsKM-"
      },
      "execution_count": 22,
      "outputs": []
    },
    {
      "cell_type": "markdown",
      "source": [
        "## Quiz\n",
        "\n",
        "Чему равно значение $\\sigma'(2)$? Ответ округлите до сотых."
      ],
      "metadata": {
        "id": "r0UEQcB2oW78"
      }
    },
    {
      "cell_type": "code",
      "source": [
        "diff_sigmoid(2)"
      ],
      "metadata": {
        "id": "zMu52jpOoNV9",
        "colab": {
          "base_uri": "https://localhost:8080/"
        },
        "outputId": "0e909aba-e8cb-4a7a-eac2-313db7997f93"
      },
      "execution_count": 23,
      "outputs": [
        {
          "output_type": "execute_result",
          "data": {
            "text/plain": [
              "0.10499358540350662"
            ]
          },
          "metadata": {},
          "execution_count": 23
        }
      ]
    },
    {
      "cell_type": "markdown",
      "source": [
        "**Задание 3 (графы вычислений)**\n",
        "\n",
        "Реализуйте функцию `one_layer_graph(x1,x2)`, делающую прогноз по схеме, изображенной на рисунке."
      ],
      "metadata": {
        "id": "jDlAkFtoj8mY"
      }
    },
    {
      "cell_type": "markdown",
      "source": [
        "![NN_1_practice.png](data:image/png;base64,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)"
      ],
      "metadata": {
        "id": "IG0OREkxj6TQ"
      }
    },
    {
      "cell_type": "markdown",
      "source": [
        "## Quiz\n",
        "\n",
        "Чему равно значение `one_layer_graph(3,4)`? Ответ округлите до ближайшего целого числа."
      ],
      "metadata": {
        "id": "6gaDSPVqov3w"
      }
    },
    {
      "cell_type": "code",
      "source": [
        "def one_layer_graph(x1,x2):\n",
        "  return sigmoid(3 * x1 - 1.5 * x2 +7)"
      ],
      "metadata": {
        "id": "RRwfvEkxiOOY"
      },
      "execution_count": 24,
      "outputs": []
    },
    {
      "cell_type": "code",
      "source": [
        "one_layer_graph(3, 4)"
      ],
      "metadata": {
        "colab": {
          "base_uri": "https://localhost:8080/"
        },
        "id": "SA9OdNNltsnW",
        "outputId": "2caef490-a872-4a1e-86d4-24808fea9530"
      },
      "execution_count": 25,
      "outputs": [
        {
          "output_type": "execute_result",
          "data": {
            "text/plain": [
              "0.9999546021312976"
            ]
          },
          "metadata": {},
          "execution_count": 25
        }
      ]
    },
    {
      "cell_type": "markdown",
      "source": [
        "## Задание\n",
        "\n",
        "Реализуйте функцию `two_layer_graph(x1,x2)`, делающую прогноз по схеме, изображенной на рисунке.\n",
        "\n",
        "Здесь $\\Sigma$ каждого цвета - сумма признаков с весами соответствующего цвета."
      ],
      "metadata": {
        "id": "4VLout0uljJY"
      }
    },
    {
      "cell_type": "markdown",
      "source": [
        "![NN_2_practice.png](data:image/png;base64,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)"
      ],
      "metadata": {
        "id": "eVOTAp3Alkqr"
      }
    },
    {
      "cell_type": "markdown",
      "source": [
        "## Quiz\n",
        "\n",
        "Чему равно значение `two_layer_graph(3,4)`? Ответ округлите до десятых."
      ],
      "metadata": {
        "id": "-61aa7jEo6rs"
      }
    },
    {
      "cell_type": "code",
      "source": [
        "def relu(x):\n",
        "  return max(0, x)"
      ],
      "metadata": {
        "id": "IKRU3lnivQLk"
      },
      "execution_count": 28,
      "outputs": []
    },
    {
      "cell_type": "code",
      "source": [
        "relu(-5)"
      ],
      "metadata": {
        "colab": {
          "base_uri": "https://localhost:8080/"
        },
        "id": "QGRm7rRuvmvE",
        "outputId": "a71fcbc1-3626-4e7b-a911-50b5aa9e7daf"
      },
      "execution_count": 30,
      "outputs": [
        {
          "output_type": "execute_result",
          "data": {
            "text/plain": [
              "0"
            ]
          },
          "metadata": {},
          "execution_count": 30
        }
      ]
    },
    {
      "cell_type": "code",
      "source": [],
      "metadata": {
        "id": "W7me06E9vsEm"
      },
      "execution_count": null,
      "outputs": []
    },
    {
      "cell_type": "code",
      "source": [
        "def two_layer_graph(x1, x2):\n",
        "  first_grath = sigmoid(2 * x1 + 1 * x2 + 1)\n",
        "  second_grath = sigmoid(-2 * x1 + 3 * x2 - 1)\n",
        "  return relu(0.5 * first_grath + 0.4 * second_grath - 0.1)"
      ],
      "metadata": {
        "id": "YEshhb3_iXIK"
      },
      "execution_count": 31,
      "outputs": []
    },
    {
      "cell_type": "code",
      "source": [
        "two_layer_graph(3,4)"
      ],
      "metadata": {
        "colab": {
          "base_uri": "https://localhost:8080/"
        },
        "id": "oYmFY2B8uFWz",
        "outputId": "0e5364fe-9ef1-4bd5-a320-e759f4789275"
      },
      "execution_count": 32,
      "outputs": [
        {
          "output_type": "execute_result",
          "data": {
            "text/plain": [
              "0.7973145089193622"
            ]
          },
          "metadata": {},
          "execution_count": 32
        }
      ]
    }
  ]
}