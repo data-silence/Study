{
 "cells": [
  {
   "cell_type": "markdown",
   "metadata": {},
   "source": [
    "## Часть 1* Склеиваем n отсортированных массивов"
   ]
  },
  {
   "cell_type": "markdown",
   "metadata": {},
   "source": [
    "Хорошо известен алгоритм, который склеивает два отсортированных массива: берем по одному элементу из обоих массивов, в результат вписываем наименьший из них, а из соответствующего массива достаем следующий."
   ]
  },
  {
   "cell_type": "code",
   "execution_count": 1,
   "metadata": {},
   "outputs": [
    {
     "data": {
      "text/plain": [
       "[1, 2, 3, 4, 5, 6, 10, 12]"
      ]
     },
     "execution_count": 1,
     "metadata": {},
     "output_type": "execute_result"
    }
   ],
   "source": [
    "# Пример реализации\n",
    "\n",
    "x = [1,2,5,10]\n",
    "y = [3,4,6,12]\n",
    "\n",
    "def merge(left, right):\n",
    "    left_iter = iter(left)\n",
    "    right_iter = iter(right)\n",
    "    left_elem = next(left_iter, None)\n",
    "    right_elem = next(right_iter, None)\n",
    "    result = []\n",
    "    while left_elem is not None and right_elem is not None:\n",
    "        if left_elem <= right_elem:\n",
    "            result.append(left_elem)\n",
    "            left_elem = next(left_iter, None)            \n",
    "        else:\n",
    "            result.append(right_elem)\n",
    "            right_elem = next(right_iter, None)\n",
    "    result.append(left_elem or right_elem)\n",
    "    result.extend(left_iter)\n",
    "    result.extend(right_iter)\n",
    "    return result\n",
    "\n",
    "merge(x,y)"
   ]
  },
  {
   "cell_type": "markdown",
   "metadata": {},
   "source": [
    "Он существенно опирается на возможность сравнить два элемента. И соответственно работает только для двух массивов.\n",
    "\n",
    "Подумайте, как обобщить этот алгоритм на случай `n` отсортированных массивов?\n",
    "Какова будет алгоритмическая сложность получившегося алгоритма слияния?\n",
    "\n",
    "[подсказка](https://en.wikipedia.org/wiki/Heap_%28data_structure%29)\n",
    "\n",
    "Эту задачу также можно решать на leetcode: https://leetcode.com/problems/merge-k-sorted-lists/"
   ]
  },
  {
   "cell_type": "markdown",
   "metadata": {},
   "source": [
    "### Решение"
   ]
  },
  {
   "cell_type": "markdown",
   "metadata": {},
   "source": [
    "Подсказка говорит о том, что стоит воспользоваться очередями, которые в python реализованы в библиотеке heapq и работают на использовании двоичных деревьев.\n",
    "Полагаю, что требовалось реализовать следующий алгоритм: \n",
    "* помещение наших списков в очередь, \n",
    "* вытаскивание из неё по два списка, \n",
    "* сортировка этих списков через реализованую выше функцию merge, \n",
    "* получение на выходе в два раза меньшего количества списков  \n",
    "* и  повторное применение алгоритма до момента, пока не останется один, полностью отсортированный список."
   ]
  },
  {
   "cell_type": "markdown",
   "metadata": {},
   "source": [
    "Но я предварительно пробежался по документации heapq и обнаружил уже в целом готовый метод heapq.merge() как раз созданный для наших целей --  объединения отсортированных последовательностей. Не вижу в условиях задачи какого-то запрета на пользование библиотеками и  встроенными фукнциями. С учетом того, что это не техническое интервью и не курс по алгоритмам, надеюсь меня простят за то, что я сейчас лениво сделаю )"
   ]
  },
  {
   "cell_type": "code",
   "execution_count": 36,
   "metadata": {},
   "outputs": [],
   "source": [
    "from heapq import merge\n",
    "\n",
    "# list - подаваемый на вход список отсортированных списков (по условиям задачи подсписков доджно быть больше двух)\n",
    "\n",
    "def merge_sorted_multilists(data_lists: list):\n",
    "    ''''Необязательная часть для удобства вывода'''\n",
    "    result = []  # сюда буду записывать отсортированные значения\n",
    "    for index, sublist in enumerate(data_lists):\n",
    "        print('{}: {}'.format(index, sublist))\n",
    "\n",
    "    print('\\nMerged list:')  # тоже не обязательный принт )\n",
    "    '''Единственная нужная работающая строчка кода'''\n",
    "    for element in heapq.merge(*data_lists):\n",
    "        result.append(element) # по вкусу можно не помещать в список, а напечатать в строку\n",
    "    return result"
   ]
  },
  {
   "cell_type": "markdown",
   "metadata": {},
   "source": [
    "Потестим. Проверка 1."
   ]
  },
  {
   "cell_type": "code",
   "execution_count": 37,
   "metadata": {},
   "outputs": [
    {
     "name": "stdout",
     "output_type": "stream",
     "text": [
      "0: [1, 2, 5, 10]\n",
      "1: [3, 4, 6, 12]\n",
      "2: [1, 4, 5, 9]\n",
      "\n",
      "Merged:\n"
     ]
    },
    {
     "data": {
      "text/plain": [
       "[1, 1, 2, 3, 4, 4, 5, 5, 6, 9, 10, 12]"
      ]
     },
     "execution_count": 37,
     "metadata": {},
     "output_type": "execute_result"
    }
   ],
   "source": [
    "x = [1, 2, 5, 10]\n",
    "y = [3, 4, 6, 12]\n",
    "z = [1, 4, 5, 9]\n",
    "\n",
    "lists = []\n",
    "lists.append(x)\n",
    "lists.append(y)\n",
    "lists.append(z)\n",
    "\n",
    "merge_sorted_multilists(lists)"
   ]
  },
  {
   "cell_type": "markdown",
   "metadata": {},
   "source": [
    "Вроде ок, но попробуем универсальнее. Проверка 2."
   ]
  },
  {
   "cell_type": "code",
   "execution_count": 39,
   "metadata": {},
   "outputs": [
    {
     "name": "stdout",
     "output_type": "stream",
     "text": [
      "0: [3, 10, 62, 81, 98]\n",
      "1: [1, 15, 16, 88, 97]\n",
      "2: [10, 12, 22, 41, 97]\n",
      "3: [38, 53, 58, 70, 87]\n",
      "\n",
      "Merged:\n"
     ]
    },
    {
     "data": {
      "text/plain": [
       "[1, 3, 10, 10, 12, 15, 16, 22, 38, 41, 53, 58, 62, 70, 81, 87, 88, 97, 97, 98]"
      ]
     },
     "execution_count": 39,
     "metadata": {},
     "output_type": "execute_result"
    }
   ],
   "source": [
    "import random\n",
    "\n",
    "data = []\n",
    "\n",
    "for i in range(4):\n",
    "    new_data = list(random.sample(range(1, 101), 5))\n",
    "    new_data.sort()\n",
    "    data.append(new_data)\n",
    "\n",
    "# print(data)\n",
    "merge_sorted_multilists(data)"
   ]
  },
  {
   "cell_type": "markdown",
   "metadata": {},
   "source": [
    "Не знаю, вроде норм работает, меня устраивает."
   ]
  },
  {
   "cell_type": "markdown",
   "metadata": {},
   "source": [
    "Поскольку реализация merge () использует кучу (суть двоичное дерево), она потребляет память в зависимости от количества объединяемых последовательностей, а не от количества элементов в последовательностях. \n",
    "\n",
    "Сложность : $O (N*log⁡k))$ где $k$ - число списков, $N$ - число элементов в общем списке (нод в куче или как там это правильно назвать)."
   ]
  },
  {
   "cell_type": "markdown",
   "metadata": {},
   "source": [
    "## Часть 2* Вычислительная сложность алгоритма сортировки во внешней памяти\n",
    "\n",
    "На занятии мы рассматривали алгоритм сортировки для массива, который помещается на диск, но не помещается в оперативную память.\n",
    "\n",
    "Предположим, что у вас есть:\n",
    " * `N` Gb оперативной памяти\n",
    " * процессор у которого много ядер, больше чем вам может понадобиться\n",
    " * массив, который весит `M >> N` Gb\n",
    " \n",
    "Оцените какова будет вычислительная сложность алгоритма сортировки во внешней памяти в этом случае?"
   ]
  }
 ],
 "metadata": {
  "kernelspec": {
   "display_name": "Python 3",
   "language": "python",
   "name": "python3"
  },
  "language_info": {
   "codemirror_mode": {
    "name": "ipython",
    "version": 3
   },
   "file_extension": ".py",
   "mimetype": "text/x-python",
   "name": "python",
   "nbconvert_exporter": "python",
   "pygments_lexer": "ipython3",
   "version": "3.8.5"
  }
 },
 "nbformat": 4,
 "nbformat_minor": 2
}
